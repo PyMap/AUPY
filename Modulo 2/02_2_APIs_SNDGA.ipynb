{
 "cells": [
  {
   "cell_type": "markdown",
   "metadata": {},
   "source": [
    "<a href=\"https://colab.research.google.com/github/PyMap/AUPY/blob/master/Modulo%202/02_2_APIs_SNDGA.ipynb\" target=\"_parent\"><img src=\"https://colab.research.google.com/assets/colab-badge.svg\" alt=\"Open In Colab\"/></a>"
   ]
  },
  {
   "cell_type": "markdown",
   "metadata": {
    "id": "h8zVpZGHUM-0"
   },
   "source": [
    "# Enriquecimiento de entidades espaciales\n"
   ]
  },
  {
   "cell_type": "markdown",
   "metadata": {
    "id": "CYoMxbkjUM-1"
   },
   "source": [
    "## Servicio de Normalización de Datos Geográficos (MM)\n",
    "\n",
    "En en ejemplo anterior vimos qué es un geocodificador y cómo se puede obtener las coordenadas geográficas de un punto específico a partir de la API de Google. Ahora vamos a ampliar un poco el espectro e introduciremos otra herramienta del estilo que desarrolló el Gobierno Nacional. Esta es la [API del Servicio de Normalización de Datos Geográficos de Argentina](https://datosgobar.github.io/georef-ar-api/), una herramienta muy útil para normalizar entidades territoriales, enriquecerlas u obtener información como sus coordenadas.\n"
   ]
  },
  {
   "cell_type": "markdown",
   "metadata": {
    "id": "K58hvGTXdMFa"
   },
   "source": [
    "### Explorando un contexto de uso real"
   ]
  },
  {
   "cell_type": "markdown",
   "metadata": {
    "id": "oT1tbrXEdR_0"
   },
   "source": [
    "<figure>\n",
    "<center>\n",
    "<img src='https://drive.google.com/uc?id=1S5Rpva1bb6r5j87D2kkktSXRCiwDNYzb' />\n",
    "<figcaption></figcaption></center>\n",
    "</figure>"
   ]
  },
  {
   "cell_type": "markdown",
   "metadata": {
    "id": "aHAZ15BZdXAr"
   },
   "source": [
    "Supongamos necesitamos trabajar con edificios que han sido catalogados como patrimonio histórico de la ciudad. \n",
    "\n",
    "A continuación veremos un [listado de fachadas](https://data.buenosaires.gob.ar/dataset/fachadas) con certificado de conservación. Este dataframe lo bajamos del portal de datos del Gobierno de la Ciudad de Buenos Aires, comúnmente conocido como [data buenos aires](https://data.buenosaires.gob.ar/dataset) - un sitio de consulta de datasets de bastante utilidad."
   ]
  },
  {
   "cell_type": "code",
   "execution_count": 1,
   "metadata": {
    "executionInfo": {
     "elapsed": 2,
     "status": "ok",
     "timestamp": 1625694787360,
     "user": {
      "displayName": "Federico Catalano",
      "photoUrl": "",
      "userId": "05639651212963955278"
     },
     "user_tz": 180
    },
    "id": "F_u1BHj9dud3"
   },
   "outputs": [],
   "source": [
    "# Damos un primer vistazo a nuestro DataFrame\n",
    "import pandas as pd"
   ]
  },
  {
   "cell_type": "code",
   "execution_count": 2,
   "metadata": {
    "executionInfo": {
     "elapsed": 2658,
     "status": "ok",
     "timestamp": 1625694820423,
     "user": {
      "displayName": "Federico Catalano",
      "photoUrl": "",
      "userId": "05639651212963955278"
     },
     "user_tz": 180
    },
    "id": "LFBS6n-oduk7"
   },
   "outputs": [],
   "source": [
    "fachadas = pd.read_csv('https://storage.googleapis.com/python_mdg/data_cursos/fachadas.csv')"
   ]
  },
  {
   "cell_type": "code",
   "execution_count": 3,
   "metadata": {
    "colab": {
     "base_uri": "https://localhost:8080/"
    },
    "executionInfo": {
     "elapsed": 431,
     "status": "ok",
     "timestamp": 1625694821882,
     "user": {
      "displayName": "Federico Catalano",
      "photoUrl": "",
      "userId": "05639651212963955278"
     },
     "user_tz": 180
    },
    "id": "aQYlbvvNdtw4",
    "outputId": "54cfcc41-5b1c-4f95-e09d-aec494c3d79f"
   },
   "outputs": [
    {
     "data": {
      "text/plain": [
       "26489"
      ]
     },
     "execution_count": 3,
     "metadata": {},
     "output_type": "execute_result"
    }
   ],
   "source": [
    "# Como vemos, se trata de un dataset de 26489 registros\n",
    "len(fachadas)"
   ]
  },
  {
   "cell_type": "code",
   "execution_count": 4,
   "metadata": {
    "colab": {
     "base_uri": "https://localhost:8080/"
    },
    "executionInfo": {
     "elapsed": 247,
     "status": "ok",
     "timestamp": 1625694829568,
     "user": {
      "displayName": "Federico Catalano",
      "photoUrl": "",
      "userId": "05639651212963955278"
     },
     "user_tz": 180
    },
    "id": "mPRP1NTpdt09",
    "outputId": "43be0507-7437-44d0-a699-0f3642bd0073"
   },
   "outputs": [
    {
     "data": {
      "text/plain": [
       "Index(['seccion', 'manzana', 'parcela', 'partida', 'calle_nombre',\n",
       "       'calle_altura', 'vencimiento_certificado'],\n",
       "      dtype='object')"
      ]
     },
     "execution_count": 4,
     "metadata": {},
     "output_type": "execute_result"
    }
   ],
   "source": [
    "# Con información geográfica relativa a la sección, manzana, la parcela y dirección donde se encuentra cada fachada\n",
    "fachadas.columns"
   ]
  },
  {
   "cell_type": "code",
   "execution_count": 5,
   "metadata": {
    "colab": {
     "base_uri": "https://localhost:8080/",
     "height": 112
    },
    "executionInfo": {
     "elapsed": 245,
     "status": "ok",
     "timestamp": 1625694846221,
     "user": {
      "displayName": "Federico Catalano",
      "photoUrl": "",
      "userId": "05639651212963955278"
     },
     "user_tz": 180
    },
    "id": "c7iEYHf3eHQE",
    "outputId": "2b9f5c12-9a42-4bad-ef7c-ed11122deb25"
   },
   "outputs": [
    {
     "data": {
      "text/html": [
       "<div>\n",
       "<style scoped>\n",
       "    .dataframe tbody tr th:only-of-type {\n",
       "        vertical-align: middle;\n",
       "    }\n",
       "\n",
       "    .dataframe tbody tr th {\n",
       "        vertical-align: top;\n",
       "    }\n",
       "\n",
       "    .dataframe thead th {\n",
       "        text-align: right;\n",
       "    }\n",
       "</style>\n",
       "<table border=\"1\" class=\"dataframe\">\n",
       "  <thead>\n",
       "    <tr style=\"text-align: right;\">\n",
       "      <th></th>\n",
       "      <th>seccion</th>\n",
       "      <th>manzana</th>\n",
       "      <th>parcela</th>\n",
       "      <th>partida</th>\n",
       "      <th>calle_nombre</th>\n",
       "      <th>calle_altura</th>\n",
       "      <th>vencimiento_certificado</th>\n",
       "    </tr>\n",
       "  </thead>\n",
       "  <tbody>\n",
       "    <tr>\n",
       "      <th>0</th>\n",
       "      <td>21</td>\n",
       "      <td>2</td>\n",
       "      <td>9</td>\n",
       "      <td>429255.0</td>\n",
       "      <td>ALVAREZ, JULIAN</td>\n",
       "      <td>2531.0</td>\n",
       "      <td>2019-03-12</td>\n",
       "    </tr>\n",
       "    <tr>\n",
       "      <th>1</th>\n",
       "      <td>79</td>\n",
       "      <td>89</td>\n",
       "      <td>22</td>\n",
       "      <td>260164.0</td>\n",
       "      <td>LAMARCA, EMILIO</td>\n",
       "      <td>1014.0</td>\n",
       "      <td>2019-03-30</td>\n",
       "    </tr>\n",
       "  </tbody>\n",
       "</table>\n",
       "</div>"
      ],
      "text/plain": [
       "   seccion manzana parcela   partida     calle_nombre  calle_altura  \\\n",
       "0       21       2       9  429255.0  ALVAREZ, JULIAN        2531.0   \n",
       "1       79      89      22  260164.0  LAMARCA, EMILIO        1014.0   \n",
       "\n",
       "  vencimiento_certificado  \n",
       "0              2019-03-12  \n",
       "1              2019-03-30  "
      ]
     },
     "execution_count": 5,
     "metadata": {},
     "output_type": "execute_result"
    }
   ],
   "source": [
    "fachadas.head(2)"
   ]
  },
  {
   "cell_type": "code",
   "execution_count": 6,
   "metadata": {
    "colab": {
     "base_uri": "https://localhost:8080/"
    },
    "executionInfo": {
     "elapsed": 241,
     "status": "ok",
     "timestamp": 1625694869299,
     "user": {
      "displayName": "Federico Catalano",
      "photoUrl": "",
      "userId": "05639651212963955278"
     },
     "user_tz": 180
    },
    "id": "WDyHStlXeHUs",
    "outputId": "5641506b-31ab-4024-f5e2-3e823b4ddff2"
   },
   "outputs": [
    {
     "data": {
      "text/plain": [
       "26464"
      ]
     },
     "execution_count": 6,
     "metadata": {},
     "output_type": "execute_result"
    }
   ],
   "source": [
    "# Un total de 26464 partidas únicas\n",
    "len(fachadas.partida.unique())"
   ]
  },
  {
   "cell_type": "code",
   "execution_count": 7,
   "metadata": {
    "colab": {
     "base_uri": "https://localhost:8080/"
    },
    "executionInfo": {
     "elapsed": 249,
     "status": "ok",
     "timestamp": 1625694871492,
     "user": {
      "displayName": "Federico Catalano",
      "photoUrl": "",
      "userId": "05639651212963955278"
     },
     "user_tz": 180
    },
    "id": "9bYEE44_eHYh",
    "outputId": "9ff25917-2555-49cb-f632-5b9545016ac2"
   },
   "outputs": [
    {
     "name": "stdout",
     "output_type": "stream",
     "text": [
      "<class 'pandas.core.frame.DataFrame'>\n",
      "RangeIndex: 26489 entries, 0 to 26488\n",
      "Data columns (total 7 columns):\n",
      " #   Column                   Non-Null Count  Dtype  \n",
      "---  ------                   --------------  -----  \n",
      " 0   seccion                  26489 non-null  int64  \n",
      " 1   manzana                  26489 non-null  object \n",
      " 2   parcela                  26489 non-null  object \n",
      " 3   partida                  26474 non-null  float64\n",
      " 4   calle_nombre             26475 non-null  object \n",
      " 5   calle_altura             26475 non-null  float64\n",
      " 6   vencimiento_certificado  26458 non-null  object \n",
      "dtypes: float64(2), int64(1), object(4)\n",
      "memory usage: 1.4+ MB\n"
     ]
    }
   ],
   "source": [
    "fachadas.info()"
   ]
  },
  {
   "cell_type": "code",
   "execution_count": 8,
   "metadata": {
    "executionInfo": {
     "elapsed": 236,
     "status": "ok",
     "timestamp": 1625694876353,
     "user": {
      "displayName": "Federico Catalano",
      "photoUrl": "",
      "userId": "05639651212963955278"
     },
     "user_tz": 180
    },
    "id": "guqdhWe1eHcV"
   },
   "outputs": [],
   "source": [
    "import datetime"
   ]
  },
  {
   "cell_type": "code",
   "execution_count": 9,
   "metadata": {
    "executionInfo": {
     "elapsed": 270,
     "status": "ok",
     "timestamp": 1625694877962,
     "user": {
      "displayName": "Federico Catalano",
      "photoUrl": "",
      "userId": "05639651212963955278"
     },
     "user_tz": 180
    },
    "id": "ZKbgTMR6eHfu"
   },
   "outputs": [],
   "source": [
    "def to_datetime(x):\n",
    "    return datetime.datetime.strptime(x, '%Y-%m-%d')"
   ]
  },
  {
   "cell_type": "code",
   "execution_count": 10,
   "metadata": {
    "executionInfo": {
     "elapsed": 263,
     "status": "ok",
     "timestamp": 1625694880497,
     "user": {
      "displayName": "Federico Catalano",
      "photoUrl": "",
      "userId": "05639651212963955278"
     },
     "user_tz": 180
    },
    "id": "QF97C2-4eHjR"
   },
   "outputs": [],
   "source": [
    "fechas = fachadas['vencimiento_certificado'].fillna('0000-00-00')"
   ]
  },
  {
   "cell_type": "markdown",
   "metadata": {
    "id": "RDO0Zw0NeHnX"
   },
   "source": [
    "Sabemos que las fechas con mayor cantidad de vencimientos son en octubre y junio de 2020..."
   ]
  },
  {
   "cell_type": "code",
   "execution_count": 11,
   "metadata": {
    "colab": {
     "base_uri": "https://localhost:8080/"
    },
    "executionInfo": {
     "elapsed": 671,
     "status": "ok",
     "timestamp": 1625694884825,
     "user": {
      "displayName": "Federico Catalano",
      "photoUrl": "",
      "userId": "05639651212963955278"
     },
     "user_tz": 180
    },
    "id": "n3yd4Nz8eHru",
    "outputId": "27f26b59-3db7-4129-de65-fddf0928363b"
   },
   "outputs": [
    {
     "data": {
      "text/plain": [
       "0   2020-06-06\n",
       "1   2020-10-03\n",
       "dtype: datetime64[ns]"
      ]
     },
     "execution_count": 11,
     "metadata": {},
     "output_type": "execute_result"
    }
   ],
   "source": [
    "fechas[fechas!='0000-00-00'].map(to_datetime).mode()"
   ]
  },
  {
   "cell_type": "code",
   "execution_count": 12,
   "metadata": {
    "colab": {
     "base_uri": "https://localhost:8080/"
    },
    "executionInfo": {
     "elapsed": 676,
     "status": "ok",
     "timestamp": 1625694913162,
     "user": {
      "displayName": "Federico Catalano",
      "photoUrl": "",
      "userId": "05639651212963955278"
     },
     "user_tz": 180
    },
    "id": "3fYReMB7eHvL",
    "outputId": "2c17f259-60a4-4b21-b80d-f35d9bf3eced"
   },
   "outputs": [
    {
     "data": {
      "text/plain": [
       "Timestamp('2019-03-12 00:00:00')"
      ]
     },
     "execution_count": 12,
     "metadata": {},
     "output_type": "execute_result"
    }
   ],
   "source": [
    "# y en marzo del 2019, el vencimiento más viejo\n",
    "fechas[fechas!='0000-00-00'].map(to_datetime).min()"
   ]
  },
  {
   "cell_type": "markdown",
   "metadata": {
    "id": "sgCt2Y1vdt4y"
   },
   "source": [
    "Con lo cual, sabemos que se trata de un registro bastante actualizado, con partidas que vencen (mayormente) entre 2020 y 2040..."
   ]
  },
  {
   "cell_type": "code",
   "execution_count": 13,
   "metadata": {
    "colab": {
     "base_uri": "https://localhost:8080/",
     "height": 265
    },
    "executionInfo": {
     "elapsed": 988,
     "status": "ok",
     "timestamp": 1625694923410,
     "user": {
      "displayName": "Federico Catalano",
      "photoUrl": "",
      "userId": "05639651212963955278"
     },
     "user_tz": 180
    },
    "id": "_7VWLaPwe4Y0",
    "outputId": "1e99e799-65bb-4bf0-97cd-fe381cb1ef3a"
   },
   "outputs": [
    {
     "data": {
      "image/png": "[encoded data removed]",
      "text/plain": [
       "<Figure size 432x288 with 1 Axes>"
      ]
     },
     "metadata": {
      "needs_background": "light"
     },
     "output_type": "display_data"
    }
   ],
   "source": [
    "fechas[fechas!='0000-00-00'].map(to_datetime).hist(bins=100);"
   ]
  },
  {
   "cell_type": "code",
   "execution_count": 14,
   "metadata": {
    "colab": {
     "base_uri": "https://localhost:8080/"
    },
    "executionInfo": {
     "elapsed": 651,
     "status": "ok",
     "timestamp": 1625694933314,
     "user": {
      "displayName": "Federico Catalano",
      "photoUrl": "",
      "userId": "05639651212963955278"
     },
     "user_tz": 180
    },
    "id": "L_-G78M1e4co",
    "outputId": "11263336-c8cc-45e7-a51b-75422ab0f25c"
   },
   "outputs": [
    {
     "data": {
      "text/plain": [
       "Timestamp('2220-11-20 00:00:00')"
      ]
     },
     "execution_count": 14,
     "metadata": {},
     "output_type": "execute_result"
    }
   ],
   "source": [
    "# y, posiblemente, algún registro erróneo (como se puede apreciar en la cola de nuestro histograma)\n",
    "fechas[fechas!='0000-00-00'].map(to_datetime).max()"
   ]
  },
  {
   "cell_type": "markdown",
   "metadata": {
    "id": "nrwSn_Lre4gW"
   },
   "source": [
    "Pero lo más importante, aunque este dataset cuenta con referencias geográficas, no sería tan fácil plotear estos registros en un mapa. Si bien no es algo imposible, esto nos demandaría cierto preprocesamiento. Básicamente, porque estas referencias no son más que datos de tipo string. Podríamos construir un código único con las columnas de sección, manzana y parcela y mergearlos con algún shapefile de manzanas. Aunque, para ser más precisos, trataremos de usar la dirección y la altura para conseguir la latitud y la longitud. De esta manera, utilizaremos las coordenadas geográficas de estas direcciones y plotearemos un mapa de puntos para ubicar nuestras fachadas históricas. Comencemos!"
   ]
  },
  {
   "cell_type": "markdown",
   "metadata": {
    "id": "VBmzTFbkffaG"
   },
   "source": [
    "### Trabajando sobre los datos"
   ]
  },
  {
   "cell_type": "code",
   "execution_count": 15,
   "metadata": {
    "colab": {
     "base_uri": "https://localhost:8080/"
    },
    "executionInfo": {
     "elapsed": 234,
     "status": "ok",
     "timestamp": 1625694947447,
     "user": {
      "displayName": "Federico Catalano",
      "photoUrl": "",
      "userId": "05639651212963955278"
     },
     "user_tz": 180
    },
    "id": "XbCrXp9bUM-2",
    "outputId": "53a88ee9-9f53-42aa-aef8-7748a5b21543"
   },
   "outputs": [
    {
     "data": {
      "text/plain": [
       "dtype('float64')"
      ]
     },
     "execution_count": 15,
     "metadata": {},
     "output_type": "execute_result"
    }
   ],
   "source": [
    "# Como la altura es un valor numérico,\n",
    "fachadas.calle_altura.dtype"
   ]
  },
  {
   "cell_type": "code",
   "execution_count": 16,
   "metadata": {
    "executionInfo": {
     "elapsed": 235,
     "status": "ok",
     "timestamp": 1625694951207,
     "user": {
      "displayName": "Federico Catalano",
      "photoUrl": "",
      "userId": "05639651212963955278"
     },
     "user_tz": 180
    },
    "id": "d8YfEsL8UM-3"
   },
   "outputs": [],
   "source": [
    "# vamos a reemplazar los NaN por cero\n",
    "fachadas.calle_altura.fillna(0, inplace=True)"
   ]
  },
  {
   "cell_type": "code",
   "execution_count": 17,
   "metadata": {
    "colab": {
     "base_uri": "https://localhost:8080/"
    },
    "executionInfo": {
     "elapsed": 376,
     "status": "ok",
     "timestamp": 1625694967458,
     "user": {
      "displayName": "Federico Catalano",
      "photoUrl": "",
      "userId": "05639651212963955278"
     },
     "user_tz": 180
    },
    "id": "QUsDA8hxUM-3",
    "outputId": "7fdd378e-303f-41e4-b434-9816181e7320"
   },
   "outputs": [
    {
     "data": {
      "text/plain": [
       "14"
      ]
     },
     "execution_count": 17,
     "metadata": {},
     "output_type": "execute_result"
    }
   ],
   "source": [
    "# y ver cuántos son. Como es bajo el número vamos a suponer que los faltantes corresponden a la altura 0.\n",
    "len(fachadas.loc[fachadas.calle_altura == 0])"
   ]
  },
  {
   "cell_type": "code",
   "execution_count": 18,
   "metadata": {},
   "outputs": [
    {
     "data": {
      "text/plain": [
       "14"
      ]
     },
     "execution_count": 18,
     "metadata": {},
     "output_type": "execute_result"
    }
   ],
   "source": [
    "# tenemos 14 casos perdidos, podemos descartarlos\n",
    "len(fachadas[fachadas.calle_nombre.isna()])"
   ]
  },
  {
   "cell_type": "code",
   "execution_count": 19,
   "metadata": {},
   "outputs": [],
   "source": [
    "fachadas_ = fachadas[~fachadas.calle_nombre.isna()].copy()"
   ]
  },
  {
   "cell_type": "code",
   "execution_count": 20,
   "metadata": {},
   "outputs": [
    {
     "data": {
      "text/html": [
       "<div>\n",
       "<style scoped>\n",
       "    .dataframe tbody tr th:only-of-type {\n",
       "        vertical-align: middle;\n",
       "    }\n",
       "\n",
       "    .dataframe tbody tr th {\n",
       "        vertical-align: top;\n",
       "    }\n",
       "\n",
       "    .dataframe thead th {\n",
       "        text-align: right;\n",
       "    }\n",
       "</style>\n",
       "<table border=\"1\" class=\"dataframe\">\n",
       "  <thead>\n",
       "    <tr style=\"text-align: right;\">\n",
       "      <th></th>\n",
       "      <th>seccion</th>\n",
       "      <th>manzana</th>\n",
       "      <th>parcela</th>\n",
       "      <th>partida</th>\n",
       "      <th>calle_nombre</th>\n",
       "      <th>calle_altura</th>\n",
       "      <th>vencimiento_certificado</th>\n",
       "    </tr>\n",
       "  </thead>\n",
       "  <tbody>\n",
       "    <tr>\n",
       "      <th>0</th>\n",
       "      <td>21</td>\n",
       "      <td>2</td>\n",
       "      <td>9</td>\n",
       "      <td>429255.0</td>\n",
       "      <td>ALVAREZ, JULIAN</td>\n",
       "      <td>2531.0</td>\n",
       "      <td>2019-03-12</td>\n",
       "    </tr>\n",
       "    <tr>\n",
       "      <th>1</th>\n",
       "      <td>79</td>\n",
       "      <td>89</td>\n",
       "      <td>22</td>\n",
       "      <td>260164.0</td>\n",
       "      <td>LAMARCA, EMILIO</td>\n",
       "      <td>1014.0</td>\n",
       "      <td>2019-03-30</td>\n",
       "    </tr>\n",
       "    <tr>\n",
       "      <th>2</th>\n",
       "      <td>17</td>\n",
       "      <td>14</td>\n",
       "      <td>27</td>\n",
       "      <td>173288.0</td>\n",
       "      <td>SARMIENTO</td>\n",
       "      <td>4579.0</td>\n",
       "      <td>2019-05-03</td>\n",
       "    </tr>\n",
       "    <tr>\n",
       "      <th>3</th>\n",
       "      <td>42</td>\n",
       "      <td>16</td>\n",
       "      <td>1</td>\n",
       "      <td>140186.0</td>\n",
       "      <td>DIRECTORIO AV.</td>\n",
       "      <td>1706.0</td>\n",
       "      <td>2019-06-10</td>\n",
       "    </tr>\n",
       "    <tr>\n",
       "      <th>4</th>\n",
       "      <td>11</td>\n",
       "      <td>65</td>\n",
       "      <td>6</td>\n",
       "      <td>442215.0</td>\n",
       "      <td>ALVEAR AV.</td>\n",
       "      <td>1974.0</td>\n",
       "      <td>2019-06-16</td>\n",
       "    </tr>\n",
       "  </tbody>\n",
       "</table>\n",
       "</div>"
      ],
      "text/plain": [
       "   seccion manzana parcela   partida     calle_nombre  calle_altura  \\\n",
       "0       21       2       9  429255.0  ALVAREZ, JULIAN        2531.0   \n",
       "1       79      89      22  260164.0  LAMARCA, EMILIO        1014.0   \n",
       "2       17      14      27  173288.0        SARMIENTO        4579.0   \n",
       "3       42      16       1  140186.0   DIRECTORIO AV.        1706.0   \n",
       "4       11      65       6  442215.0       ALVEAR AV.        1974.0   \n",
       "\n",
       "  vencimiento_certificado  \n",
       "0              2019-03-12  \n",
       "1              2019-03-30  \n",
       "2              2019-05-03  \n",
       "3              2019-06-10  \n",
       "4              2019-06-16  "
      ]
     },
     "execution_count": 20,
     "metadata": {},
     "output_type": "execute_result"
    }
   ],
   "source": [
    "fachadas_.head()"
   ]
  },
  {
   "cell_type": "code",
   "execution_count": 21,
   "metadata": {},
   "outputs": [],
   "source": [
    "# imputamos con la fecha mas frecuente\n",
    "fachadas_.vencimiento_certificado.fillna(fachadas_.vencimiento_certificado.mode()[0], inplace=True)"
   ]
  },
  {
   "cell_type": "code",
   "execution_count": 22,
   "metadata": {
    "executionInfo": {
     "elapsed": 285,
     "status": "ok",
     "timestamp": 1625694983730,
     "user": {
      "displayName": "Federico Catalano",
      "photoUrl": "",
      "userId": "05639651212963955278"
     },
     "user_tz": 180
    },
    "id": "C9ki_HA0UM-4"
   },
   "outputs": [],
   "source": [
    "# Armamos un único string\n",
    "fachadas_['direccion'] = fachadas_['calle_nombre'] + ' ' + fachadas_['calle_altura'].astype(str)"
   ]
  },
  {
   "cell_type": "code",
   "execution_count": 23,
   "metadata": {
    "colab": {
     "base_uri": "https://localhost:8080/"
    },
    "executionInfo": {
     "elapsed": 403,
     "status": "ok",
     "timestamp": 1625694985099,
     "user": {
      "displayName": "Federico Catalano",
      "photoUrl": "",
      "userId": "05639651212963955278"
     },
     "user_tz": 180
    },
    "id": "hbPMmICC33PD",
    "outputId": "080f08f6-f258-441a-f269-0229c59975d8"
   },
   "outputs": [
    {
     "data": {
      "text/plain": [
       "0    ALVAREZ, JULIAN 2531.0\n",
       "1    LAMARCA, EMILIO 1014.0\n",
       "2          SARMIENTO 4579.0\n",
       "3     DIRECTORIO AV. 1706.0\n",
       "4         ALVEAR AV. 1974.0\n",
       "Name: direccion, dtype: object"
      ]
     },
     "execution_count": 23,
     "metadata": {},
     "output_type": "execute_result"
    }
   ],
   "source": [
    "fachadas_['direccion'].head(5)"
   ]
  },
  {
   "cell_type": "markdown",
   "metadata": {
    "id": "Nrbl6SSo4cKv"
   },
   "source": [
    "### Utilizando el servicio"
   ]
  },
  {
   "cell_type": "code",
   "execution_count": 24,
   "metadata": {
    "executionInfo": {
     "elapsed": 245,
     "status": "ok",
     "timestamp": 1625695048139,
     "user": {
      "displayName": "Federico Catalano",
      "photoUrl": "",
      "userId": "05639651212963955278"
     },
     "user_tz": 180
    },
    "id": "xYm2y5w1UM-5"
   },
   "outputs": [],
   "source": [
    "# Importemos los módulos necesarios para conectarnos con el servicio de la API\n",
    "import requests\n",
    "import urllib"
   ]
  },
  {
   "cell_type": "markdown",
   "metadata": {
    "id": "ESASfmZt8hyN"
   },
   "source": [
    "#### Hacer un request?"
   ]
  },
  {
   "cell_type": "markdown",
   "metadata": {
    "id": "Kj2IfuNvB14n"
   },
   "source": [
    "Para utilizar esta API, es necesario trabajar con la librería [requests](https://docs.python-requests.org/es/latest/user/quickstart.html). En líneas muy generales, hacer un `request` es hacer un pedido de información a algún lado. Implica hacer una petición y obtener una respuesta como resultado. Pero una petición y una respuesta entre quiénes?\n",
    "\n",
    "`HTTP` o *Hypertext Transfer Protocol* refiere a una serie de protocolos diseñados para establecer comunicación entre un servidor y sus clientes. Por el momento, quedemonos con la idea de que nosotros somos los clientes que, por medio de una URL o dirección hacemos un pedido de información a un servidor que aloja los recursos de la API.\n",
    "\n",
    "\n",
    "\n"
   ]
  },
  {
   "cell_type": "markdown",
   "metadata": {
    "id": "L8Trnn-8KtYV"
   },
   "source": [
    "#### Tipos de peticiones"
   ]
  },
  {
   "cell_type": "markdown",
   "metadata": {
    "id": "kA88E-Ws_wIz"
   },
   "source": [
    "Existen distintas formas de comunicarse con un servidor. `GET` y `POST` son dos tipos diferentes de peticiones HTTP ([en este articulo tienen una descripción más completa](https://lazaroibanez.com/difference-between-the-http-requests-post-and-get-3b4ed40164c1)). La principal diferencia es que GET se usa para ver algo tal como está, es decir, sin cambiar nada. Mientras que POST, sí permite actualizar o modificar una petición en base a información o instrucciones específicas que enviemos. Cortito y al pie, con GET vemos y con POST (además de ver) enviamos un payload con el que podemos actualizar o modificar cosas en destino. \n",
    "\n",
    "Pero para que exista una petición debe haber alguien que responda no? Los `endpoints` son las URLs de un API o un backend que responden a una petición. Por lo tanto, se podría decir que el endpoint es la URL/dirección de un servicio que utiliza un sitio web para cargar o consumir informacion."
   ]
  },
  {
   "cell_type": "code",
   "execution_count": 25,
   "metadata": {
    "executionInfo": {
     "elapsed": 247,
     "status": "ok",
     "timestamp": 1625695244613,
     "user": {
      "displayName": "Federico Catalano",
      "photoUrl": "",
      "userId": "05639651212963955278"
     },
     "user_tz": 180
    },
    "id": "Z44CpbtnIuJ_"
   },
   "outputs": [],
   "source": [
    "# Construimos un string con la url base que vamos a usar para construir las consultas\n",
    "API_BASE_URL = \"https://apis.datos.gob.ar/georef/api/\""
   ]
  },
  {
   "cell_type": "markdown",
   "metadata": {
    "id": "2oxk1WlqIy67"
   },
   "source": [
    "#### GET"
   ]
  },
  {
   "cell_type": "code",
   "execution_count": 26,
   "metadata": {
    "executionInfo": {
     "elapsed": 253,
     "status": "ok",
     "timestamp": 1625695275836,
     "user": {
      "displayName": "Federico Catalano",
      "photoUrl": "",
      "userId": "05639651212963955278"
     },
     "user_tz": 180
    },
    "id": "7vMc3wDkUM-5"
   },
   "outputs": [],
   "source": [
    "endpoint = \"provincias\"\n",
    "nombre = {'nombre': 'San Juan'}"
   ]
  },
  {
   "cell_type": "code",
   "execution_count": 27,
   "metadata": {
    "executionInfo": {
     "elapsed": 921,
     "status": "ok",
     "timestamp": 1625695277864,
     "user": {
      "displayName": "Federico Catalano",
      "photoUrl": "",
      "userId": "05639651212963955278"
     },
     "user_tz": 180
    },
    "id": "CHF2TWzoDDDH"
   },
   "outputs": [],
   "source": [
    "url = \"{}{}?{}\".format(API_BASE_URL, endpoint, urllib.parse.urlencode(nombre))\n",
    "r1 = requests.get(url).json()[endpoint]"
   ]
  },
  {
   "cell_type": "code",
   "execution_count": 28,
   "metadata": {
    "colab": {
     "base_uri": "https://localhost:8080/"
    },
    "executionInfo": {
     "elapsed": 236,
     "status": "ok",
     "timestamp": 1625695281863,
     "user": {
      "displayName": "Federico Catalano",
      "photoUrl": "",
      "userId": "05639651212963955278"
     },
     "user_tz": 180
    },
    "id": "zJ9crPSaTvcA",
    "outputId": "2075640e-794a-46ff-f651-9c2aec1a391d"
   },
   "outputs": [
    {
     "data": {
      "text/plain": [
       "[{'centroide': {'lat': -30.8653679979618, 'lon': -68.8894908486844},\n",
       "  'id': '70',\n",
       "  'nombre': 'San Juan'}]"
      ]
     },
     "execution_count": 28,
     "metadata": {},
     "output_type": "execute_result"
    }
   ],
   "source": [
    "r1"
   ]
  },
  {
   "cell_type": "markdown",
   "metadata": {
    "id": "q-PejKg4I0vU"
   },
   "source": [
    "#### POST"
   ]
  },
  {
   "cell_type": "code",
   "execution_count": 29,
   "metadata": {
    "executionInfo": {
     "elapsed": 1360,
     "status": "ok",
     "timestamp": 1625695359504,
     "user": {
      "displayName": "Federico Catalano",
      "photoUrl": "",
      "userId": "05639651212963955278"
     },
     "user_tz": 180
    },
    "id": "NHD9BWqHMbMI"
   },
   "outputs": [],
   "source": [
    "endpoint = \"direcciones\"\n",
    "nombre = fachadas_['direccion'].iloc[0]\n",
    "data = {endpoint: [{\"direccion\": nombre,\n",
    "                    \"departamento\":'Comuna',\n",
    "                    \"max\":1}]\n",
    "        }\n",
    "url = API_BASE_URL + endpoint\n",
    "r2 = requests.post(url, json=data, headers={\"Content-Type\": \"application/json\"}).json()"
   ]
  },
  {
   "cell_type": "code",
   "execution_count": 30,
   "metadata": {
    "colab": {
     "base_uri": "https://localhost:8080/"
    },
    "executionInfo": {
     "elapsed": 248,
     "status": "ok",
     "timestamp": 1625695361526,
     "user": {
      "displayName": "Federico Catalano",
      "photoUrl": "",
      "userId": "05639651212963955278"
     },
     "user_tz": 180
    },
    "id": "7iq61vIaT7D_",
    "outputId": "e05606b6-f328-4316-fb28-c0913edb2e73"
   },
   "outputs": [
    {
     "data": {
      "text/plain": [
       "{'resultados': [{'cantidad': 1,\n",
       "   'direcciones': [{'altura': {'unidad': None, 'valor': 2531.0},\n",
       "     'calle': {'categoria': 'CALLE',\n",
       "      'id': '0209801007040',\n",
       "      'nombre': 'JULIAN ALVAREZ'},\n",
       "     'calle_cruce_1': {'categoria': None, 'id': None, 'nombre': None},\n",
       "     'calle_cruce_2': {'categoria': None, 'id': None, 'nombre': None},\n",
       "     'departamento': {'id': '02098', 'nombre': 'Comuna 14'},\n",
       "     'localidad_censal': {'id': '02000010',\n",
       "      'nombre': 'Ciudad Autónoma de Buenos Aires'},\n",
       "     'nomenclatura': 'JULIAN ALVAREZ 2531.0, Comuna 14, Ciudad Autónoma de Buenos Aires',\n",
       "     'piso': None,\n",
       "     'provincia': {'id': '02', 'nombre': 'Ciudad Autónoma de Buenos Aires'},\n",
       "     'ubicacion': {'lat': -34.586199585983984, 'lon': -58.41378826532734}}],\n",
       "   'inicio': 0,\n",
       "   'parametros': {'departamento': 'Comuna',\n",
       "    'direccion': {'altura': {'unidad': None, 'valor': '2531.0'},\n",
       "     'calles': ['ALVAREZ JULIAN'],\n",
       "     'piso': None,\n",
       "     'tipo': 'simple'},\n",
       "    'max': 1},\n",
       "   'total': 1}]}"
      ]
     },
     "execution_count": 30,
     "metadata": {},
     "output_type": "execute_result"
    }
   ],
   "source": [
    "r2"
   ]
  },
  {
   "cell_type": "markdown",
   "metadata": {
    "id": "JL6I-YGWUM-4"
   },
   "source": [
    "Ahora que ya tenemos nuestras direcciones listas y que sabemos lo que es hacer un GET/POST, veamos un primer ejemplo para enriquecer nuestras entidades geográficas revisando algunos de los [ejemplos en python](https://datosgobar.github.io/georef-ar-api/python-usage/)."
   ]
  },
  {
   "cell_type": "markdown",
   "metadata": {
    "id": "zd86mfTCI0zF"
   },
   "source": [
    "#### Consultas a granel!"
   ]
  },
  {
   "cell_type": "markdown",
   "metadata": {
    "id": "9D4YwDleI02V"
   },
   "source": [
    "Por medio de la función `similar_bulk` se construirá un diccionario con el listado de direcciones. Se utilizará el parámetro `endpoint`, con el nombre de lo que será la llave con la que se accederá a una lista de diccionarios. Cada uno de esos diccionarios contará con la key `dirección` que dará acceso al `str` que construimos más arriba con el nombre de la dirección. Es decir, la lista de direcciones que pasamos como segundo parámetro. \n",
    "\n",
    "También vamos a agregar en el cuerpo de la función una información adicional: el `departamento` al que pertenece nuestra entidad. Así es como se guarda la data que será consultada en el endpoint a través del request. Las keys dirección y departamento son las que darán acceso a la base de datos de donde se consumirá la información adicional que nos traeremos de vuelta. \n",
    "\n",
    "Para esto nos fijamos cómo se construye la API BASE para direcciones en los [ejemplos de uso](https://datosgobar.github.io/georef-ar-api/quick-start/). Así, podemos ver que el formato de la consulta es el siguiente: \n",
    "\n",
    "```\n",
    "https://apis.datos.gob.ar/georef/api/direcciones?departamento=merlo&direccion=Florida al 2950\n",
    "``` \n",
    "\n",
    "En nuestro caso, como estamos en la Ciudad de Buenos Aires nuestro departamento serán las Comunas.  Con sólo utilizar la palabra `Comuna` para el parámetro `departamento` que se consumirá en el endpoint será suficiente para traer el valor.  "
   ]
  },
  {
   "cell_type": "code",
   "execution_count": 31,
   "metadata": {
    "executionInfo": {
     "elapsed": 268,
     "status": "ok",
     "timestamp": 1625695642456,
     "user": {
      "displayName": "Federico Catalano",
      "photoUrl": "",
      "userId": "05639651212963955278"
     },
     "user_tz": 180
    },
    "id": "mO8pZfZ5UM-5"
   },
   "outputs": [],
   "source": [
    "# Creamos la función\n",
    "def get_similar_bulk(endpoint, nombres):\n",
    "    '''\n",
    "    Normaliza una lista de nombres de alguna de \n",
    "    las entidades geográficas.\n",
    "    ...\n",
    "    Argumentos:\n",
    "        endpoint(str): String de texto.\n",
    "        nombres (iter): Objeto iterable (e.g: list, Series)\n",
    "    Devuelve:\n",
    "        list: diccionarios con el resultado de la consulta \n",
    "    '''\n",
    "\n",
    "    # realiza consulta a la API\n",
    "    data = {\n",
    "        endpoint: [\n",
    "            {\"direccion\": nombre,\n",
    "             \"departamento\":'Comuna',\n",
    "             \"max\":5} for nombre in nombres\n",
    "    ]}\n",
    "    url = API_BASE_URL + endpoint\n",
    "    results = requests.post(\n",
    "        url, json=data, headers={\"Content-Type\": \"application/json\"}\n",
    "    ).json()\n",
    "    \n",
    "    try:\n",
    "        parsed_results = [\n",
    "            single_result[endpoint][0] if single_result[endpoint] else {'Sin dato'}\n",
    "            for single_result in results[\"resultados\"]\n",
    "        ]\n",
    "        print('Consulta realizada: %r resultados obtenidos' % len(parsed_results))\n",
    "\n",
    "    except:\n",
    "        print('Excediste el limite de consultas')\n",
    "        parsed_results = {'Sin dato'}\n",
    "\n",
    "    return parsed_results"
   ]
  },
  {
   "cell_type": "markdown",
   "metadata": {
    "id": "SNLcHW1nUM-6"
   },
   "source": [
    "Si comparamos la función con la del ejemplo provisto en la web de la API se puede identificar que agregamos un `try`/`except` al final. Antes de usar este tipo de servicios, es recomendable leer las [condiciones de uso](https://datosgobar.github.io/georef-ar-api/terms/). En el caso de esta API, las [consultas por lote](https://datosgobar.github.io/georef-ar-api/bulk/) tienen límites máximos. Veamos qué pasa si no los respetamos...  "
   ]
  },
  {
   "cell_type": "code",
   "execution_count": 32,
   "metadata": {
    "colab": {
     "base_uri": "https://localhost:8080/"
    },
    "executionInfo": {
     "elapsed": 248,
     "status": "ok",
     "timestamp": 1625695630799,
     "user": {
      "displayName": "Federico Catalano",
      "photoUrl": "",
      "userId": "05639651212963955278"
     },
     "user_tz": 180
    },
    "id": "rja5rvjOUM-6",
    "outputId": "856bb31e-850b-44e5-837f-dfd2a3e95435"
   },
   "outputs": [
    {
     "data": {
      "text/plain": [
       "26475"
      ]
     },
     "execution_count": 32,
     "metadata": {},
     "output_type": "execute_result"
    }
   ],
   "source": [
    "# Este es el total de direcciones que deberíamos consultar\n",
    "len(fachadas_.direccion)"
   ]
  },
  {
   "cell_type": "code",
   "execution_count": 33,
   "metadata": {
    "executionInfo": {
     "elapsed": 245,
     "status": "ok",
     "timestamp": 1625695634937,
     "user": {
      "displayName": "Federico Catalano",
      "photoUrl": "",
      "userId": "05639651212963955278"
     },
     "user_tz": 180
    },
    "id": "Ik_1XtU_UM-7"
   },
   "outputs": [],
   "source": [
    "nombres = fachadas_.direccion"
   ]
  },
  {
   "cell_type": "code",
   "execution_count": 34,
   "metadata": {
    "colab": {
     "base_uri": "https://localhost:8080/"
    },
    "executionInfo": {
     "elapsed": 3202,
     "status": "ok",
     "timestamp": 1625695648357,
     "user": {
      "displayName": "Federico Catalano",
      "photoUrl": "",
      "userId": "05639651212963955278"
     },
     "user_tz": 180
    },
    "id": "WcwLFO9MUM-7",
    "outputId": "36acb7e2-15ad-45e5-e1b3-be099cfd8842"
   },
   "outputs": [
    {
     "name": "stdout",
     "output_type": "stream",
     "text": [
      "Excediste el limite de consultas\n"
     ]
    }
   ],
   "source": [
    "# Podemos ver que en algún momento de la consulta, la API dejó de responder y pasamos al bloque except.\n",
    "direcciones = get_similar_bulk(\"direcciones\", nombres)"
   ]
  },
  {
   "cell_type": "markdown",
   "metadata": {
    "id": "suDINoSJUM-7"
   },
   "source": [
    "Esto es porque la cantidad de consultas en una misma petición no debe superar las `1000`. Nosotros definimos 5 como `max`, con lo cual si ahora vamos por 999 no deberían tener ningún problema en hacer la consulta."
   ]
  },
  {
   "cell_type": "code",
   "execution_count": 35,
   "metadata": {
    "executionInfo": {
     "elapsed": 242,
     "status": "ok",
     "timestamp": 1625695658632,
     "user": {
      "displayName": "Federico Catalano",
      "photoUrl": "",
      "userId": "05639651212963955278"
     },
     "user_tz": 180
    },
    "id": "OmPJpiTPXKTh"
   },
   "outputs": [],
   "source": [
    "import numpy as np"
   ]
  },
  {
   "cell_type": "code",
   "execution_count": 36,
   "metadata": {
    "executionInfo": {
     "elapsed": 251,
     "status": "ok",
     "timestamp": 1625695697389,
     "user": {
      "displayName": "Federico Catalano",
      "photoUrl": "",
      "userId": "05639651212963955278"
     },
     "user_tz": 180
    },
    "id": "IC0chdZoUM-7"
   },
   "outputs": [],
   "source": [
    "def consultas(totales):\n",
    "    '''\n",
    "    Aplica get_similar_bulk sobre\n",
    "    la serie de direcciones de un df\n",
    "    ...\n",
    "    Argumentos:\n",
    "        totales (int): límite superior del intervalo.\n",
    "    Devuelve:\n",
    "        list: diccionarios con el resultado de cada consulta \n",
    "    '''\n",
    "    # limite de consultas x petición (rango de 0 a x)\n",
    "    intervalos = np.arange(0, totales, 999).tolist() \n",
    "    intervalos.append(totales)\n",
    "    \n",
    "    listado = []\n",
    "    for i in range(len(intervalos)):\n",
    "        try:\n",
    "            print(\"Iterando de %r a %r casos\" % (intervalos[i], intervalos[i+1]))\n",
    "            I = intervalos[i]\n",
    "            F = intervalos[i+1]\n",
    "        except:\n",
    "            print(\"Consulta terminada\")\n",
    "            break\n",
    "        # acá es donde filtramos las consultas a enviar al endpoint\n",
    "        nombres = fachadas_.direccion.iloc[I:F]\n",
    "        nombres.fillna('Sin dato', inplace=True)\n",
    "        direcciones = get_similar_bulk(\"direcciones\", nombres)\n",
    "        listado.extend(direcciones)\n",
    "        \n",
    "    return listado"
   ]
  },
  {
   "cell_type": "code",
   "execution_count": 37,
   "metadata": {
    "colab": {
     "base_uri": "https://localhost:8080/"
    },
    "executionInfo": {
     "elapsed": 112855,
     "status": "ok",
     "timestamp": 1625695812938,
     "user": {
      "displayName": "Federico Catalano",
      "photoUrl": "",
      "userId": "05639651212963955278"
     },
     "user_tz": 180
    },
    "id": "jBlSu4ieUM-8",
    "outputId": "7f35276e-d34c-4abf-acce-1fcc5bdbf681"
   },
   "outputs": [
    {
     "name": "stdout",
     "output_type": "stream",
     "text": [
      "Iterando de 0 a 999 casos\n",
      "Consulta realizada: 999 resultados obtenidos\n",
      "Iterando de 999 a 1998 casos\n",
      "Consulta realizada: 999 resultados obtenidos\n",
      "Iterando de 1998 a 2997 casos\n",
      "Consulta realizada: 999 resultados obtenidos\n",
      "Iterando de 2997 a 3996 casos\n",
      "Consulta realizada: 999 resultados obtenidos\n",
      "Iterando de 3996 a 4995 casos\n",
      "Consulta realizada: 999 resultados obtenidos\n",
      "Iterando de 4995 a 5994 casos\n",
      "Consulta realizada: 999 resultados obtenidos\n",
      "Iterando de 5994 a 6993 casos\n",
      "Consulta realizada: 999 resultados obtenidos\n",
      "Iterando de 6993 a 7992 casos\n",
      "Consulta realizada: 999 resultados obtenidos\n",
      "Iterando de 7992 a 8991 casos\n",
      "Consulta realizada: 999 resultados obtenidos\n",
      "Iterando de 8991 a 9990 casos\n",
      "Consulta realizada: 999 resultados obtenidos\n",
      "Iterando de 9990 a 10989 casos\n",
      "Consulta realizada: 999 resultados obtenidos\n",
      "Iterando de 10989 a 11988 casos\n",
      "Consulta realizada: 999 resultados obtenidos\n",
      "Iterando de 11988 a 12987 casos\n",
      "Consulta realizada: 999 resultados obtenidos\n",
      "Iterando de 12987 a 13986 casos\n",
      "Consulta realizada: 999 resultados obtenidos\n",
      "Iterando de 13986 a 14985 casos\n",
      "Consulta realizada: 999 resultados obtenidos\n",
      "Iterando de 14985 a 15984 casos\n",
      "Consulta realizada: 999 resultados obtenidos\n",
      "Iterando de 15984 a 16983 casos\n",
      "Consulta realizada: 999 resultados obtenidos\n",
      "Iterando de 16983 a 17982 casos\n",
      "Consulta realizada: 999 resultados obtenidos\n",
      "Iterando de 17982 a 18981 casos\n",
      "Consulta realizada: 999 resultados obtenidos\n",
      "Iterando de 18981 a 19980 casos\n",
      "Consulta realizada: 999 resultados obtenidos\n",
      "Iterando de 19980 a 20979 casos\n",
      "Consulta realizada: 999 resultados obtenidos\n",
      "Iterando de 20979 a 21978 casos\n",
      "Consulta realizada: 999 resultados obtenidos\n",
      "Iterando de 21978 a 22977 casos\n",
      "Consulta realizada: 999 resultados obtenidos\n",
      "Iterando de 22977 a 23976 casos\n",
      "Consulta realizada: 999 resultados obtenidos\n",
      "Iterando de 23976 a 24975 casos\n",
      "Consulta realizada: 999 resultados obtenidos\n",
      "Iterando de 24975 a 25974 casos\n",
      "Consulta realizada: 999 resultados obtenidos\n",
      "Iterando de 25974 a 26475 casos\n",
      "Consulta realizada: 501 resultados obtenidos\n",
      "Consulta terminada\n"
     ]
    }
   ],
   "source": [
    "# Aplicamos get_similar_bulk sobre todo el listado de direcciones de nuestro df\n",
    "para_enriquecer = consultas(len(fachadas_))"
   ]
  },
  {
   "cell_type": "code",
   "execution_count": 38,
   "metadata": {
    "colab": {
     "base_uri": "https://localhost:8080/"
    },
    "executionInfo": {
     "elapsed": 240,
     "status": "ok",
     "timestamp": 1625695814653,
     "user": {
      "displayName": "Federico Catalano",
      "photoUrl": "",
      "userId": "05639651212963955278"
     },
     "user_tz": 180
    },
    "id": "lqJQdlWAUM-8",
    "outputId": "904ebe33-66e3-41ee-c5d1-0fab38dc5232"
   },
   "outputs": [
    {
     "data": {
      "text/plain": [
       "26475"
      ]
     },
     "execution_count": 38,
     "metadata": {},
     "output_type": "execute_result"
    }
   ],
   "source": [
    "# Tenemos la misma cantidad de casos en nuestra consulta\n",
    "len(para_enriquecer)"
   ]
  },
  {
   "cell_type": "code",
   "execution_count": 39,
   "metadata": {
    "colab": {
     "base_uri": "https://localhost:8080/"
    },
    "executionInfo": {
     "elapsed": 234,
     "status": "ok",
     "timestamp": 1625695825116,
     "user": {
      "displayName": "Federico Catalano",
      "photoUrl": "",
      "userId": "05639651212963955278"
     },
     "user_tz": 180
    },
    "id": "eKZIbZaUUM-8",
    "outputId": "c33d8a85-9fc5-4861-c6ba-84d0aaca4842"
   },
   "outputs": [
    {
     "data": {
      "text/plain": [
       "26475"
      ]
     },
     "execution_count": 39,
     "metadata": {},
     "output_type": "execute_result"
    }
   ],
   "source": [
    "# y en nuestro dataframe original\n",
    "len(fachadas_)"
   ]
  },
  {
   "cell_type": "markdown",
   "metadata": {
    "id": "rK6rqCNKYm2p"
   },
   "source": [
    "#### Acomodando la respuesta a nuestra consulta"
   ]
  },
  {
   "cell_type": "markdown",
   "metadata": {
    "id": "3CFouBbAZ3ts"
   },
   "source": [
    "De cada consulta, nos quedamos con la información que estaba almacenada bajo la key \"direcciones\". Fíjense en el ejemplo POST y verán que la estructura concuerda."
   ]
  },
  {
   "cell_type": "code",
   "execution_count": 40,
   "metadata": {
    "colab": {
     "base_uri": "https://localhost:8080/"
    },
    "executionInfo": {
     "elapsed": 233,
     "status": "ok",
     "timestamp": 1625695836359,
     "user": {
      "displayName": "Federico Catalano",
      "photoUrl": "",
      "userId": "05639651212963955278"
     },
     "user_tz": 180
    },
    "id": "sdKHjOYgUM-8",
    "outputId": "41dea33a-b5a6-47ab-a142-af2d8b572f4f"
   },
   "outputs": [
    {
     "data": {
      "text/plain": [
       "{'altura': {'unidad': None, 'valor': 2531.0},\n",
       " 'calle': {'categoria': 'CALLE',\n",
       "  'id': '0209801007040',\n",
       "  'nombre': 'JULIAN ALVAREZ'},\n",
       " 'calle_cruce_1': {'categoria': None, 'id': None, 'nombre': None},\n",
       " 'calle_cruce_2': {'categoria': None, 'id': None, 'nombre': None},\n",
       " 'departamento': {'id': '02098', 'nombre': 'Comuna 14'},\n",
       " 'localidad_censal': {'id': '02000010',\n",
       "  'nombre': 'Ciudad Autónoma de Buenos Aires'},\n",
       " 'nomenclatura': 'JULIAN ALVAREZ 2531.0, Comuna 14, Ciudad Autónoma de Buenos Aires',\n",
       " 'piso': None,\n",
       " 'provincia': {'id': '02', 'nombre': 'Ciudad Autónoma de Buenos Aires'},\n",
       " 'ubicacion': {'lat': -34.586199585983984, 'lon': -58.41378826532734}}"
      ]
     },
     "execution_count": 40,
     "metadata": {},
     "output_type": "execute_result"
    }
   ],
   "source": [
    "para_enriquecer[0]"
   ]
  },
  {
   "cell_type": "code",
   "execution_count": 41,
   "metadata": {
    "executionInfo": {
     "elapsed": 299,
     "status": "ok",
     "timestamp": 1625696012510,
     "user": {
      "displayName": "Federico Catalano",
      "photoUrl": "",
      "userId": "05639651212963955278"
     },
     "user_tz": 180
    },
    "id": "-DzmbIIqUM-9"
   },
   "outputs": [],
   "source": [
    "def enriquece(consultas, atributo):\n",
    "    '''\n",
    "    Accede al item de cada key de \n",
    "    obtenido en la conuslta.\n",
    "    ...\n",
    "    Argumentos:\n",
    "        consultas (list): lista de diccionarios.\n",
    "        atributo (str): nombre de la key\n",
    "    Devuelve:\n",
    "        list: string con el atributo consultado \n",
    "    '''\n",
    "    resultado = []\n",
    "    for i in range(len(consultas)):\n",
    "        if type(consultas[i]) is dict:\n",
    "            if atributo in consultas[i].keys():\n",
    "                resultado.append(consultas[i][atributo])\n",
    "        else:\n",
    "            resultado.append('Sin resultado')\n",
    "    return resultado"
   ]
  },
  {
   "cell_type": "code",
   "execution_count": 42,
   "metadata": {
    "colab": {
     "base_uri": "https://localhost:8080/"
    },
    "executionInfo": {
     "elapsed": 260,
     "status": "ok",
     "timestamp": 1625696014534,
     "user": {
      "displayName": "Federico Catalano",
      "photoUrl": "",
      "userId": "05639651212963955278"
     },
     "user_tz": 180
    },
    "id": "LxdQ4RQxUM-9",
    "outputId": "3db54978-9ac5-4f9b-ec9c-761ab5b8eb0c"
   },
   "outputs": [
    {
     "data": {
      "text/plain": [
       "26475"
      ]
     },
     "execution_count": 42,
     "metadata": {},
     "output_type": "execute_result"
    }
   ],
   "source": [
    "# Nos traemos la nomenclatura y vemos que seguimos teniendo la misma cantidad de casos. Es un buen signo!\n",
    "len(enriquece(para_enriquecer, 'nomenclatura'))"
   ]
  },
  {
   "cell_type": "code",
   "execution_count": 43,
   "metadata": {
    "executionInfo": {
     "elapsed": 423,
     "status": "ok",
     "timestamp": 1625696017542,
     "user": {
      "displayName": "Federico Catalano",
      "photoUrl": "",
      "userId": "05639651212963955278"
     },
     "user_tz": 180
    },
    "id": "o6FifqJqUM-9"
   },
   "outputs": [],
   "source": [
    "# Ahora sumamos esta info a nuestro dataframe\n",
    "fachadas_['nomenclatura'] = enriquece(para_enriquecer, 'nomenclatura')"
   ]
  },
  {
   "cell_type": "code",
   "execution_count": 44,
   "metadata": {
    "colab": {
     "base_uri": "https://localhost:8080/",
     "height": 573
    },
    "executionInfo": {
     "elapsed": 247,
     "status": "ok",
     "timestamp": 1625696019791,
     "user": {
      "displayName": "Federico Catalano",
      "photoUrl": "",
      "userId": "05639651212963955278"
     },
     "user_tz": 180
    },
    "id": "F2si6rKuUM-9",
    "outputId": "3279aa74-4972-4bdd-990c-043b52aa5900"
   },
   "outputs": [
    {
     "data": {
      "text/html": [
       "<div>\n",
       "<style scoped>\n",
       "    .dataframe tbody tr th:only-of-type {\n",
       "        vertical-align: middle;\n",
       "    }\n",
       "\n",
       "    .dataframe tbody tr th {\n",
       "        vertical-align: top;\n",
       "    }\n",
       "\n",
       "    .dataframe thead th {\n",
       "        text-align: right;\n",
       "    }\n",
       "</style>\n",
       "<table border=\"1\" class=\"dataframe\">\n",
       "  <thead>\n",
       "    <tr style=\"text-align: right;\">\n",
       "      <th></th>\n",
       "      <th>seccion</th>\n",
       "      <th>manzana</th>\n",
       "      <th>parcela</th>\n",
       "      <th>partida</th>\n",
       "      <th>calle_nombre</th>\n",
       "      <th>calle_altura</th>\n",
       "      <th>vencimiento_certificado</th>\n",
       "      <th>direccion</th>\n",
       "      <th>nomenclatura</th>\n",
       "    </tr>\n",
       "  </thead>\n",
       "  <tbody>\n",
       "    <tr>\n",
       "      <th>0</th>\n",
       "      <td>21</td>\n",
       "      <td>2</td>\n",
       "      <td>9</td>\n",
       "      <td>429255.0</td>\n",
       "      <td>ALVAREZ, JULIAN</td>\n",
       "      <td>2531.0</td>\n",
       "      <td>2019-03-12</td>\n",
       "      <td>ALVAREZ, JULIAN 2531.0</td>\n",
       "      <td>JULIAN ALVAREZ 2531.0, Comuna 14, Ciudad Autón...</td>\n",
       "    </tr>\n",
       "    <tr>\n",
       "      <th>1</th>\n",
       "      <td>79</td>\n",
       "      <td>89</td>\n",
       "      <td>22</td>\n",
       "      <td>260164.0</td>\n",
       "      <td>LAMARCA, EMILIO</td>\n",
       "      <td>1014.0</td>\n",
       "      <td>2019-03-30</td>\n",
       "      <td>LAMARCA, EMILIO 1014.0</td>\n",
       "      <td>EMILIO LAMARCA 1014.0, Comuna 11, Ciudad Autón...</td>\n",
       "    </tr>\n",
       "    <tr>\n",
       "      <th>2</th>\n",
       "      <td>17</td>\n",
       "      <td>14</td>\n",
       "      <td>27</td>\n",
       "      <td>173288.0</td>\n",
       "      <td>SARMIENTO</td>\n",
       "      <td>4579.0</td>\n",
       "      <td>2019-05-03</td>\n",
       "      <td>SARMIENTO 4579.0</td>\n",
       "      <td>SARMIENTO 4579.0, Comuna 5, Ciudad Autónoma de...</td>\n",
       "    </tr>\n",
       "    <tr>\n",
       "      <th>3</th>\n",
       "      <td>42</td>\n",
       "      <td>16</td>\n",
       "      <td>1</td>\n",
       "      <td>140186.0</td>\n",
       "      <td>DIRECTORIO AV.</td>\n",
       "      <td>1706.0</td>\n",
       "      <td>2019-06-10</td>\n",
       "      <td>DIRECTORIO AV. 1706.0</td>\n",
       "      <td>AV DIRECTORIO 1706.0, Comuna 7, Ciudad Autónom...</td>\n",
       "    </tr>\n",
       "    <tr>\n",
       "      <th>4</th>\n",
       "      <td>11</td>\n",
       "      <td>65</td>\n",
       "      <td>6</td>\n",
       "      <td>442215.0</td>\n",
       "      <td>ALVEAR AV.</td>\n",
       "      <td>1974.0</td>\n",
       "      <td>2019-06-16</td>\n",
       "      <td>ALVEAR AV. 1974.0</td>\n",
       "      <td>AV ALVEAR 1974.0, Comuna 2, Ciudad Autónoma de...</td>\n",
       "    </tr>\n",
       "  </tbody>\n",
       "</table>\n",
       "</div>"
      ],
      "text/plain": [
       "   seccion manzana parcela   partida     calle_nombre  calle_altura  \\\n",
       "0       21       2       9  429255.0  ALVAREZ, JULIAN        2531.0   \n",
       "1       79      89      22  260164.0  LAMARCA, EMILIO        1014.0   \n",
       "2       17      14      27  173288.0        SARMIENTO        4579.0   \n",
       "3       42      16       1  140186.0   DIRECTORIO AV.        1706.0   \n",
       "4       11      65       6  442215.0       ALVEAR AV.        1974.0   \n",
       "\n",
       "  vencimiento_certificado               direccion  \\\n",
       "0              2019-03-12  ALVAREZ, JULIAN 2531.0   \n",
       "1              2019-03-30  LAMARCA, EMILIO 1014.0   \n",
       "2              2019-05-03        SARMIENTO 4579.0   \n",
       "3              2019-06-10   DIRECTORIO AV. 1706.0   \n",
       "4              2019-06-16       ALVEAR AV. 1974.0   \n",
       "\n",
       "                                        nomenclatura  \n",
       "0  JULIAN ALVAREZ 2531.0, Comuna 14, Ciudad Autón...  \n",
       "1  EMILIO LAMARCA 1014.0, Comuna 11, Ciudad Autón...  \n",
       "2  SARMIENTO 4579.0, Comuna 5, Ciudad Autónoma de...  \n",
       "3  AV DIRECTORIO 1706.0, Comuna 7, Ciudad Autónom...  \n",
       "4  AV ALVEAR 1974.0, Comuna 2, Ciudad Autónoma de...  "
      ]
     },
     "execution_count": 44,
     "metadata": {},
     "output_type": "execute_result"
    }
   ],
   "source": [
    "fachadas_.head()"
   ]
  },
  {
   "cell_type": "markdown",
   "metadata": {
    "id": "KXHERlYaUM--"
   },
   "source": [
    "Ahora tenemos una columna de nomenclatura con toda la dirección completa. Cómo sería enriquecer nuestro dataframe con el resto de los atributos? Por ejemplo, con la información del departamento..."
   ]
  },
  {
   "cell_type": "code",
   "execution_count": 45,
   "metadata": {
    "colab": {
     "base_uri": "https://localhost:8080/"
    },
    "executionInfo": {
     "elapsed": 229,
     "status": "ok",
     "timestamp": 1625696063235,
     "user": {
      "displayName": "Federico Catalano",
      "photoUrl": "",
      "userId": "05639651212963955278"
     },
     "user_tz": 180
    },
    "id": "HBtRDcKgUM--",
    "outputId": "a3e3173e-c382-4f06-e470-9e96b73caf35"
   },
   "outputs": [
    {
     "data": {
      "text/plain": [
       "0    {'id': '02098', 'nombre': 'Comuna 14'}\n",
       "1    {'id': '02077', 'nombre': 'Comuna 11'}\n",
       "2     {'id': '02035', 'nombre': 'Comuna 5'}\n",
       "dtype: object"
      ]
     },
     "execution_count": 45,
     "metadata": {},
     "output_type": "execute_result"
    }
   ],
   "source": [
    "# Como se puede ver, algunos casos son listas de diccionarios donde cada key es un potencial atributo...\n",
    "pd.Series(enriquece(para_enriquecer, 'departamento')).head(3)"
   ]
  },
  {
   "cell_type": "markdown",
   "metadata": {
    "id": "5Me87JZ8UM--"
   },
   "source": [
    "Para estos casos, vamos a construir una funcion que nos permita ir recolectando los atributos de interés. Por ejemplo..."
   ]
  },
  {
   "cell_type": "code",
   "execution_count": 46,
   "metadata": {
    "executionInfo": {
     "elapsed": 246,
     "status": "ok",
     "timestamp": 1625696125047,
     "user": {
      "displayName": "Federico Catalano",
      "photoUrl": "",
      "userId": "05639651212963955278"
     },
     "user_tz": 180
    },
    "id": "gFdOdJzaUM--"
   },
   "outputs": [],
   "source": [
    "def devuelve_subatributo(atributo, subatributo):\n",
    "    '''\n",
    "    Accede a los items de las listadas almacenadas\n",
    "    dentro del diccionario.\n",
    "    ...\n",
    "    Argumentos:\n",
    "        atributo(str): string de texto con el nombre de la key.\n",
    "        subatributo (list): lista de string con el nombre de\n",
    "                            de los subatributos.\n",
    "    Devuelve:\n",
    "        item: elemento de cada key ordenada en la lista. \n",
    "    '''\n",
    "    # el parametro \"atributo\" lo usamos en enriquece\n",
    "    atributos = enriquece(para_enriquecer, atributo)\n",
    "\n",
    "    # con esto \"atributos[i][subatributo]\" accedemos a la primer fila\n",
    "    # de la serie \"atributos\" y con \"subatributo\" a la key del diccionario\n",
    "    # almacenado dentro de la fila\n",
    "    return [atributos[i][subatributo] if type(atributos[i]) \n",
    "            is dict else 'Sin dato' for i in range(len(atributos))]"
   ]
  },
  {
   "cell_type": "code",
   "execution_count": 47,
   "metadata": {
    "executionInfo": {
     "elapsed": 230,
     "status": "ok",
     "timestamp": 1625696123058,
     "user": {
      "displayName": "Federico Catalano",
      "photoUrl": "",
      "userId": "05639651212963955278"
     },
     "user_tz": 180
    },
    "id": "MzxjG_wHUM-_"
   },
   "outputs": [],
   "source": [
    "# Construimos los parametros de la función\n",
    "targets = {'departamento':['id','nombre'],\n",
    "           'ubicacion':['lat','lon'],\n",
    "           'localidad_censal':['id','nombre']}"
   ]
  },
  {
   "cell_type": "code",
   "execution_count": 48,
   "metadata": {
    "colab": {
     "base_uri": "https://localhost:8080/"
    },
    "executionInfo": {
     "elapsed": 657,
     "status": "ok",
     "timestamp": 1625696128284,
     "user": {
      "displayName": "Federico Catalano",
      "photoUrl": "",
      "userId": "05639651212963955278"
     },
     "user_tz": 180
    },
    "id": "z8zF_Zd2UM-_",
    "outputId": "d6390e10-96d9-4125-f3b3-538e39609c1c"
   },
   "outputs": [
    {
     "name": "stdout",
     "output_type": "stream",
     "text": [
      "departamento id nombre\n",
      "ubicacion lat lon\n",
      "localidad_censal id nombre\n"
     ]
    }
   ],
   "source": [
    "# y los utilizamos\n",
    "for k,v in targets.items():\n",
    "    print(k, v[0], v[1])\n",
    "    if k == 'departamento':\n",
    "        # para no pisar con el id de localidad censal\n",
    "        fachadas_[v[0]+'dto'] = devuelve_subatributo(k,v[0])\n",
    "        fachadas_[v[1]+'dto'] = devuelve_subatributo(k,v[1])\n",
    "    else:\n",
    "        fachadas_[v[0]] = devuelve_subatributo(k,v[0])\n",
    "        fachadas_[v[1]] = devuelve_subatributo(k,v[1])     "
   ]
  },
  {
   "cell_type": "markdown",
   "metadata": {
    "id": "cJveYgzcUM-_"
   },
   "source": [
    "Efetivamente, como dos de nuestros atributos tenían el mismo nombre, el último pisaba el primero y por eso sólo veíamos las columnas de id y nombre del último caso iterado. Veamos ahora nuestro dataframe enriquecido..."
   ]
  },
  {
   "cell_type": "code",
   "execution_count": 49,
   "metadata": {
    "colab": {
     "base_uri": "https://localhost:8080/",
     "height": 271
    },
    "executionInfo": {
     "elapsed": 240,
     "status": "ok",
     "timestamp": 1625696171811,
     "user": {
      "displayName": "Federico Catalano",
      "photoUrl": "",
      "userId": "05639651212963955278"
     },
     "user_tz": 180
    },
    "id": "7uI46t1dUM_A",
    "outputId": "284bc034-6ea5-449a-8f71-064f268da954"
   },
   "outputs": [
    {
     "data": {
      "text/html": [
       "<div>\n",
       "<style scoped>\n",
       "    .dataframe tbody tr th:only-of-type {\n",
       "        vertical-align: middle;\n",
       "    }\n",
       "\n",
       "    .dataframe tbody tr th {\n",
       "        vertical-align: top;\n",
       "    }\n",
       "\n",
       "    .dataframe thead th {\n",
       "        text-align: right;\n",
       "    }\n",
       "</style>\n",
       "<table border=\"1\" class=\"dataframe\">\n",
       "  <thead>\n",
       "    <tr style=\"text-align: right;\">\n",
       "      <th></th>\n",
       "      <th>seccion</th>\n",
       "      <th>manzana</th>\n",
       "      <th>parcela</th>\n",
       "      <th>partida</th>\n",
       "      <th>calle_nombre</th>\n",
       "      <th>calle_altura</th>\n",
       "      <th>vencimiento_certificado</th>\n",
       "      <th>direccion</th>\n",
       "      <th>nomenclatura</th>\n",
       "      <th>iddto</th>\n",
       "      <th>nombredto</th>\n",
       "      <th>lat</th>\n",
       "      <th>lon</th>\n",
       "      <th>id</th>\n",
       "      <th>nombre</th>\n",
       "    </tr>\n",
       "  </thead>\n",
       "  <tbody>\n",
       "    <tr>\n",
       "      <th>0</th>\n",
       "      <td>21</td>\n",
       "      <td>2</td>\n",
       "      <td>9</td>\n",
       "      <td>429255.0</td>\n",
       "      <td>ALVAREZ, JULIAN</td>\n",
       "      <td>2531.0</td>\n",
       "      <td>2019-03-12</td>\n",
       "      <td>ALVAREZ, JULIAN 2531.0</td>\n",
       "      <td>JULIAN ALVAREZ 2531.0, Comuna 14, Ciudad Autón...</td>\n",
       "      <td>02098</td>\n",
       "      <td>Comuna 14</td>\n",
       "      <td>-34.5862</td>\n",
       "      <td>-58.413788</td>\n",
       "      <td>02000010</td>\n",
       "      <td>Ciudad Autónoma de Buenos Aires</td>\n",
       "    </tr>\n",
       "    <tr>\n",
       "      <th>1</th>\n",
       "      <td>79</td>\n",
       "      <td>89</td>\n",
       "      <td>22</td>\n",
       "      <td>260164.0</td>\n",
       "      <td>LAMARCA, EMILIO</td>\n",
       "      <td>1014.0</td>\n",
       "      <td>2019-03-30</td>\n",
       "      <td>LAMARCA, EMILIO 1014.0</td>\n",
       "      <td>EMILIO LAMARCA 1014.0, Comuna 11, Ciudad Autón...</td>\n",
       "      <td>02077</td>\n",
       "      <td>Comuna 11</td>\n",
       "      <td>-34.622218</td>\n",
       "      <td>-58.482703</td>\n",
       "      <td>02000010</td>\n",
       "      <td>Ciudad Autónoma de Buenos Aires</td>\n",
       "    </tr>\n",
       "  </tbody>\n",
       "</table>\n",
       "</div>"
      ],
      "text/plain": [
       "   seccion manzana parcela   partida     calle_nombre  calle_altura  \\\n",
       "0       21       2       9  429255.0  ALVAREZ, JULIAN        2531.0   \n",
       "1       79      89      22  260164.0  LAMARCA, EMILIO        1014.0   \n",
       "\n",
       "  vencimiento_certificado               direccion  \\\n",
       "0              2019-03-12  ALVAREZ, JULIAN 2531.0   \n",
       "1              2019-03-30  LAMARCA, EMILIO 1014.0   \n",
       "\n",
       "                                        nomenclatura  iddto  nombredto  \\\n",
       "0  JULIAN ALVAREZ 2531.0, Comuna 14, Ciudad Autón...  02098  Comuna 14   \n",
       "1  EMILIO LAMARCA 1014.0, Comuna 11, Ciudad Autón...  02077  Comuna 11   \n",
       "\n",
       "         lat        lon        id                           nombre  \n",
       "0   -34.5862 -58.413788  02000010  Ciudad Autónoma de Buenos Aires  \n",
       "1 -34.622218 -58.482703  02000010  Ciudad Autónoma de Buenos Aires  "
      ]
     },
     "execution_count": 49,
     "metadata": {},
     "output_type": "execute_result"
    }
   ],
   "source": [
    "fachadas_.head(2)"
   ]
  },
  {
   "cell_type": "code",
   "execution_count": 50,
   "metadata": {
    "id": "QNUZmbtjUM_A"
   },
   "outputs": [],
   "source": [
    "# Exportemoslo para no tener que correr todo de nuevo\n",
    "fachadas_.to_csv('../data/fachadas_sndg.csv', index=False)"
   ]
  },
  {
   "cell_type": "code",
   "execution_count": 51,
   "metadata": {},
   "outputs": [
    {
     "data": {
      "text/html": [
       "<div>\n",
       "<style scoped>\n",
       "    .dataframe tbody tr th:only-of-type {\n",
       "        vertical-align: middle;\n",
       "    }\n",
       "\n",
       "    .dataframe tbody tr th {\n",
       "        vertical-align: top;\n",
       "    }\n",
       "\n",
       "    .dataframe thead th {\n",
       "        text-align: right;\n",
       "    }\n",
       "</style>\n",
       "<table border=\"1\" class=\"dataframe\">\n",
       "  <thead>\n",
       "    <tr style=\"text-align: right;\">\n",
       "      <th></th>\n",
       "      <th>seccion</th>\n",
       "      <th>manzana</th>\n",
       "      <th>parcela</th>\n",
       "      <th>partida</th>\n",
       "      <th>calle_nombre</th>\n",
       "      <th>calle_altura</th>\n",
       "      <th>vencimiento_certificado</th>\n",
       "      <th>direccion</th>\n",
       "      <th>nomenclatura</th>\n",
       "      <th>iddto</th>\n",
       "      <th>nombredto</th>\n",
       "      <th>lat</th>\n",
       "      <th>lon</th>\n",
       "      <th>id</th>\n",
       "      <th>nombre</th>\n",
       "    </tr>\n",
       "  </thead>\n",
       "  <tbody>\n",
       "    <tr>\n",
       "      <th>0</th>\n",
       "      <td>21</td>\n",
       "      <td>2</td>\n",
       "      <td>9</td>\n",
       "      <td>429255.0</td>\n",
       "      <td>ALVAREZ, JULIAN</td>\n",
       "      <td>2531.0</td>\n",
       "      <td>2019-03-12</td>\n",
       "      <td>ALVAREZ, JULIAN 2531.0</td>\n",
       "      <td>JULIAN ALVAREZ 2531.0, Comuna 14, Ciudad Autón...</td>\n",
       "      <td>02098</td>\n",
       "      <td>Comuna 14</td>\n",
       "      <td>-34.5862</td>\n",
       "      <td>-58.413788</td>\n",
       "      <td>02000010</td>\n",
       "      <td>Ciudad Autónoma de Buenos Aires</td>\n",
       "    </tr>\n",
       "    <tr>\n",
       "      <th>1</th>\n",
       "      <td>79</td>\n",
       "      <td>89</td>\n",
       "      <td>22</td>\n",
       "      <td>260164.0</td>\n",
       "      <td>LAMARCA, EMILIO</td>\n",
       "      <td>1014.0</td>\n",
       "      <td>2019-03-30</td>\n",
       "      <td>LAMARCA, EMILIO 1014.0</td>\n",
       "      <td>EMILIO LAMARCA 1014.0, Comuna 11, Ciudad Autón...</td>\n",
       "      <td>02077</td>\n",
       "      <td>Comuna 11</td>\n",
       "      <td>-34.622218</td>\n",
       "      <td>-58.482703</td>\n",
       "      <td>02000010</td>\n",
       "      <td>Ciudad Autónoma de Buenos Aires</td>\n",
       "    </tr>\n",
       "    <tr>\n",
       "      <th>2</th>\n",
       "      <td>17</td>\n",
       "      <td>14</td>\n",
       "      <td>27</td>\n",
       "      <td>173288.0</td>\n",
       "      <td>SARMIENTO</td>\n",
       "      <td>4579.0</td>\n",
       "      <td>2019-05-03</td>\n",
       "      <td>SARMIENTO 4579.0</td>\n",
       "      <td>SARMIENTO 4579.0, Comuna 5, Ciudad Autónoma de...</td>\n",
       "      <td>02035</td>\n",
       "      <td>Comuna 5</td>\n",
       "      <td>-34.604055</td>\n",
       "      <td>-58.430084</td>\n",
       "      <td>02000010</td>\n",
       "      <td>Ciudad Autónoma de Buenos Aires</td>\n",
       "    </tr>\n",
       "    <tr>\n",
       "      <th>3</th>\n",
       "      <td>42</td>\n",
       "      <td>16</td>\n",
       "      <td>1</td>\n",
       "      <td>140186.0</td>\n",
       "      <td>DIRECTORIO AV.</td>\n",
       "      <td>1706.0</td>\n",
       "      <td>2019-06-10</td>\n",
       "      <td>DIRECTORIO AV. 1706.0</td>\n",
       "      <td>AV DIRECTORIO 1706.0, Comuna 7, Ciudad Autónom...</td>\n",
       "      <td>02049</td>\n",
       "      <td>Comuna 7</td>\n",
       "      <td>-34.630666</td>\n",
       "      <td>-58.451663</td>\n",
       "      <td>02000010</td>\n",
       "      <td>Ciudad Autónoma de Buenos Aires</td>\n",
       "    </tr>\n",
       "    <tr>\n",
       "      <th>4</th>\n",
       "      <td>11</td>\n",
       "      <td>65</td>\n",
       "      <td>6</td>\n",
       "      <td>442215.0</td>\n",
       "      <td>ALVEAR AV.</td>\n",
       "      <td>1974.0</td>\n",
       "      <td>2019-06-16</td>\n",
       "      <td>ALVEAR AV. 1974.0</td>\n",
       "      <td>AV ALVEAR 1974.0, Comuna 2, Ciudad Autónoma de...</td>\n",
       "      <td>02014</td>\n",
       "      <td>Comuna 2</td>\n",
       "      <td>-34.587183</td>\n",
       "      <td>-58.389912</td>\n",
       "      <td>02000010</td>\n",
       "      <td>Ciudad Autónoma de Buenos Aires</td>\n",
       "    </tr>\n",
       "    <tr>\n",
       "      <th>...</th>\n",
       "      <td>...</td>\n",
       "      <td>...</td>\n",
       "      <td>...</td>\n",
       "      <td>...</td>\n",
       "      <td>...</td>\n",
       "      <td>...</td>\n",
       "      <td>...</td>\n",
       "      <td>...</td>\n",
       "      <td>...</td>\n",
       "      <td>...</td>\n",
       "      <td>...</td>\n",
       "      <td>...</td>\n",
       "      <td>...</td>\n",
       "      <td>...</td>\n",
       "      <td>...</td>\n",
       "    </tr>\n",
       "    <tr>\n",
       "      <th>26484</th>\n",
       "      <td>9</td>\n",
       "      <td>68</td>\n",
       "      <td>002A</td>\n",
       "      <td>205320.0</td>\n",
       "      <td>RIOBAMBA</td>\n",
       "      <td>230.0</td>\n",
       "      <td>2020-06-06</td>\n",
       "      <td>RIOBAMBA 230.0</td>\n",
       "      <td>RIOBAMBA 230.0, Comuna 3, Ciudad Autónoma de B...</td>\n",
       "      <td>02021</td>\n",
       "      <td>Comuna 3</td>\n",
       "      <td>-34.606581</td>\n",
       "      <td>-58.393602</td>\n",
       "      <td>02000010</td>\n",
       "      <td>Ciudad Autónoma de Buenos Aires</td>\n",
       "    </tr>\n",
       "    <tr>\n",
       "      <th>26485</th>\n",
       "      <td>29</td>\n",
       "      <td>100</td>\n",
       "      <td>11</td>\n",
       "      <td>340313.0</td>\n",
       "      <td>11 DE SEPTIEMBRE DE 1888</td>\n",
       "      <td>4237.0</td>\n",
       "      <td>2020-06-06</td>\n",
       "      <td>11 DE SEPTIEMBRE DE 1888 4237.0</td>\n",
       "      <td>11 DE SEPTIEMBRE DE 1888 4237.0, Comuna 13, Ci...</td>\n",
       "      <td>02091</td>\n",
       "      <td>Comuna 13</td>\n",
       "      <td>-34.540853</td>\n",
       "      <td>-58.464905</td>\n",
       "      <td>02000010</td>\n",
       "      <td>Ciudad Autónoma de Buenos Aires</td>\n",
       "    </tr>\n",
       "    <tr>\n",
       "      <th>26486</th>\n",
       "      <td>7</td>\n",
       "      <td>13</td>\n",
       "      <td>015C</td>\n",
       "      <td>453556.0</td>\n",
       "      <td>CORDOBA AV.</td>\n",
       "      <td>1679.0</td>\n",
       "      <td>2020-06-06</td>\n",
       "      <td>CORDOBA AV. 1679.0</td>\n",
       "      <td>AV CORDOBA 1679.0, Comuna 2, Ciudad Autónoma d...</td>\n",
       "      <td>02014</td>\n",
       "      <td>Comuna 2</td>\n",
       "      <td>-34.599539</td>\n",
       "      <td>-58.39114</td>\n",
       "      <td>02000010</td>\n",
       "      <td>Ciudad Autónoma de Buenos Aires</td>\n",
       "    </tr>\n",
       "    <tr>\n",
       "      <th>26487</th>\n",
       "      <td>6</td>\n",
       "      <td>113</td>\n",
       "      <td>0FRA</td>\n",
       "      <td>124781.0</td>\n",
       "      <td>NECOCHEA</td>\n",
       "      <td>290.0</td>\n",
       "      <td>2020-06-06</td>\n",
       "      <td>NECOCHEA 290.0</td>\n",
       "      <td>NECOCHEA 290.0, Comuna 4, Ciudad Autónoma de B...</td>\n",
       "      <td>02028</td>\n",
       "      <td>Comuna 4</td>\n",
       "      <td>-34.627519</td>\n",
       "      <td>-58.365389</td>\n",
       "      <td>02000010</td>\n",
       "      <td>Ciudad Autónoma de Buenos Aires</td>\n",
       "    </tr>\n",
       "    <tr>\n",
       "      <th>26488</th>\n",
       "      <td>97</td>\n",
       "      <td>001I</td>\n",
       "      <td>0</td>\n",
       "      <td>457343.0</td>\n",
       "      <td>GUEMES, MACACHA</td>\n",
       "      <td>322.0</td>\n",
       "      <td>2020-06-06</td>\n",
       "      <td>GUEMES, MACACHA 322.0</td>\n",
       "      <td>MACACHA GUEMES 322.0, Comuna 1, Ciudad Autónom...</td>\n",
       "      <td>02007</td>\n",
       "      <td>Comuna 1</td>\n",
       "      <td>-34.604806</td>\n",
       "      <td>-58.363551</td>\n",
       "      <td>02000010</td>\n",
       "      <td>Ciudad Autónoma de Buenos Aires</td>\n",
       "    </tr>\n",
       "  </tbody>\n",
       "</table>\n",
       "<p>26475 rows × 15 columns</p>\n",
       "</div>"
      ],
      "text/plain": [
       "       seccion manzana parcela   partida              calle_nombre  \\\n",
       "0           21       2       9  429255.0           ALVAREZ, JULIAN   \n",
       "1           79      89      22  260164.0           LAMARCA, EMILIO   \n",
       "2           17      14      27  173288.0                 SARMIENTO   \n",
       "3           42      16       1  140186.0            DIRECTORIO AV.   \n",
       "4           11      65       6  442215.0                ALVEAR AV.   \n",
       "...        ...     ...     ...       ...                       ...   \n",
       "26484        9      68    002A  205320.0                  RIOBAMBA   \n",
       "26485       29     100      11  340313.0  11 DE SEPTIEMBRE DE 1888   \n",
       "26486        7      13    015C  453556.0               CORDOBA AV.   \n",
       "26487        6     113    0FRA  124781.0                  NECOCHEA   \n",
       "26488       97    001I       0  457343.0           GUEMES, MACACHA   \n",
       "\n",
       "       calle_altura vencimiento_certificado                        direccion  \\\n",
       "0            2531.0              2019-03-12           ALVAREZ, JULIAN 2531.0   \n",
       "1            1014.0              2019-03-30           LAMARCA, EMILIO 1014.0   \n",
       "2            4579.0              2019-05-03                 SARMIENTO 4579.0   \n",
       "3            1706.0              2019-06-10            DIRECTORIO AV. 1706.0   \n",
       "4            1974.0              2019-06-16                ALVEAR AV. 1974.0   \n",
       "...             ...                     ...                              ...   \n",
       "26484         230.0              2020-06-06                   RIOBAMBA 230.0   \n",
       "26485        4237.0              2020-06-06  11 DE SEPTIEMBRE DE 1888 4237.0   \n",
       "26486        1679.0              2020-06-06               CORDOBA AV. 1679.0   \n",
       "26487         290.0              2020-06-06                   NECOCHEA 290.0   \n",
       "26488         322.0              2020-06-06            GUEMES, MACACHA 322.0   \n",
       "\n",
       "                                            nomenclatura  iddto  nombredto  \\\n",
       "0      JULIAN ALVAREZ 2531.0, Comuna 14, Ciudad Autón...  02098  Comuna 14   \n",
       "1      EMILIO LAMARCA 1014.0, Comuna 11, Ciudad Autón...  02077  Comuna 11   \n",
       "2      SARMIENTO 4579.0, Comuna 5, Ciudad Autónoma de...  02035   Comuna 5   \n",
       "3      AV DIRECTORIO 1706.0, Comuna 7, Ciudad Autónom...  02049   Comuna 7   \n",
       "4      AV ALVEAR 1974.0, Comuna 2, Ciudad Autónoma de...  02014   Comuna 2   \n",
       "...                                                  ...    ...        ...   \n",
       "26484  RIOBAMBA 230.0, Comuna 3, Ciudad Autónoma de B...  02021   Comuna 3   \n",
       "26485  11 DE SEPTIEMBRE DE 1888 4237.0, Comuna 13, Ci...  02091  Comuna 13   \n",
       "26486  AV CORDOBA 1679.0, Comuna 2, Ciudad Autónoma d...  02014   Comuna 2   \n",
       "26487  NECOCHEA 290.0, Comuna 4, Ciudad Autónoma de B...  02028   Comuna 4   \n",
       "26488  MACACHA GUEMES 322.0, Comuna 1, Ciudad Autónom...  02007   Comuna 1   \n",
       "\n",
       "             lat        lon        id                           nombre  \n",
       "0       -34.5862 -58.413788  02000010  Ciudad Autónoma de Buenos Aires  \n",
       "1     -34.622218 -58.482703  02000010  Ciudad Autónoma de Buenos Aires  \n",
       "2     -34.604055 -58.430084  02000010  Ciudad Autónoma de Buenos Aires  \n",
       "3     -34.630666 -58.451663  02000010  Ciudad Autónoma de Buenos Aires  \n",
       "4     -34.587183 -58.389912  02000010  Ciudad Autónoma de Buenos Aires  \n",
       "...          ...        ...       ...                              ...  \n",
       "26484 -34.606581 -58.393602  02000010  Ciudad Autónoma de Buenos Aires  \n",
       "26485 -34.540853 -58.464905  02000010  Ciudad Autónoma de Buenos Aires  \n",
       "26486 -34.599539  -58.39114  02000010  Ciudad Autónoma de Buenos Aires  \n",
       "26487 -34.627519 -58.365389  02000010  Ciudad Autónoma de Buenos Aires  \n",
       "26488 -34.604806 -58.363551  02000010  Ciudad Autónoma de Buenos Aires  \n",
       "\n",
       "[26475 rows x 15 columns]"
      ]
     },
     "execution_count": 51,
     "metadata": {},
     "output_type": "execute_result"
    }
   ],
   "source": [
    "fachadas_"
   ]
  },
  {
   "cell_type": "code",
   "execution_count": null,
   "metadata": {},
   "outputs": [],
   "source": []
  }
 ],
 "metadata": {
  "colab": {
   "collapsed_sections": [],
   "name": "clase_06_2_APIs_SNDGA.ipynb",
   "provenance": []
  },
  "kernelspec": {
   "display_name": "aupy",
   "language": "python",
   "name": "aupy"
  },
  "language_info": {
   "codemirror_mode": {
    "name": "ipython",
    "version": 3
   },
   "file_extension": ".py",
   "mimetype": "text/x-python",
   "name": "python",
   "nbconvert_exporter": "python",
   "pygments_lexer": "ipython3",
   "version": "3.7.6"
  }
 },
 "nbformat": 4,
 "nbformat_minor": 1
}
