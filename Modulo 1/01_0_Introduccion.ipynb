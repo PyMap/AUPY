{
 "cells": [
  {
   "cell_type": "markdown",
   "metadata": {},
   "source": [
    "<a href=\"https://colab.research.google.com/github/PyMap/AUPY/blob/master/Modulo%201/01_0_Introduccion.ipynb\" target=\"_parent\"><img src=\"https://colab.research.google.com/assets/colab-badge.svg\" alt=\"Open In Colab\"/></a>"
   ]
  },
  {
   "cell_type": "markdown",
   "metadata": {},
   "source": [
    "# Introducción al manejo de datos geográficos"
   ]
  },
  {
   "cell_type": "markdown",
   "metadata": {},
   "source": [
    "### Preparándonos para trabajar con geopandas"
   ]
  },
  {
   "cell_type": "markdown",
   "metadata": {},
   "source": [
    "<figure>\n",
    "<center>\n",
    "<img src='../imagenes/caras_pandas.png' />\n",
    "<figcaption></figcaption></center>\n",
    "</figure>"
   ]
  },
  {
   "cell_type": "markdown",
   "metadata": {},
   "source": [
    "## Introducción "
   ]
  },
  {
   "cell_type": "markdown",
   "metadata": {},
   "source": [
    "Si llegaste hasta acá, es que seguramente ya contás con los rudimentos básicos para manejar datos con python. Ya manipulaste algunos de sus objetos nativos como listas, diccionarios y tuplas, e incluso trabajaste con arrays de numpy y dataframes de pandas. Bueno, entonces ya contamos con una gran ventaja. \n",
    "\n",
    "Si bien es cierto que la espacialidad es un atributo que requiere del conocimiento de algunos métodos específicos (que iremos viendo a lo largo del modulo), también lo es que los `datos espaciales` no dejan de ser `datos`. En otras palabras, esto significa que para familiarizarnos con ellos apelaremos a muchas de las estretegias que seguramente ya forman parte de tu repertortio. \n",
    "\n",
    "De esta manera, la **propuesta para esta primera clase** será la siguiente:\n",
    "\n",
    "**0)** *Repaso general*: A lo largo de esta introducción, revisaremos algunos recursos de gran utilidad para el tratamiento de nuestros datos. Fijaremos los conceptos que están por detrás de métodos y funciones mayormemnte utilizados para trabajar con distintos tipos de datos: map y apply, diferencias entre funciones regulares y anónimas, etc. serán el principal objetivo de este repaso. Todo esto, con la finalidad de saltar al mundo de los atributos geo en la primera parte de esta clase.\n",
    "\n",
    "**1)** *Geopandas*: Se estudiarán los conceptos más relevantes de la librería Geopandas. Entre ellos, los cambios sufridos en los objetos de tipo CRS a partir de la release 0.7.0, reproyecciones, shapely y los métodos aplicables a los distintos tipos de geometrías, joins espaciales y algunas nociones generales de ploteo y geolocalización. El objetivo de esta primera clase será dar un pantallazo general a estos temas, los cuales se irán profundizando a lo largo de las otras clases del módulo. Empecemos! "
   ]
  },
  {
   "cell_type": "markdown",
   "metadata": {},
   "source": [
    "### Algunas cuestiones básicas: funciones y métodos. "
   ]
  },
  {
   "cell_type": "markdown",
   "metadata": {},
   "source": [
    "Hasta acá, sabemos que una función es un bloque de código que comienza con la sentencia `def` y lleva un nombre asociado. Puede recibir argumentos, los que comúnmente son utilizados en una expresión o secuencia de sentencias para realizar alguna tarea o devolver un objeto. De esta manera..."
   ]
  },
  {
   "cell_type": "code",
   "execution_count": 1,
   "metadata": {},
   "outputs": [],
   "source": [
    "# Armemos una función que devuelva la suma de los elementos de un iterable...\n",
    "def sumar(arg):\n",
    "    '''\n",
    "    Suma de los items de un objeto iterable.\n",
    "    ...\n",
    "    Argumentos:\n",
    "        arg(iterable): iterable de elementos numéricos \n",
    "                       (e.g. 'list' o 'pandas serie')\n",
    "    Devuelve:\n",
    "        integer: resultado de la sumatoria\n",
    "    '''\n",
    "    total = 0\n",
    "    for i in range(len(arg)):\n",
    "        total = total + arg[i] \n",
    "    return total"
   ]
  },
  {
   "cell_type": "code",
   "execution_count": 2,
   "metadata": {},
   "outputs": [],
   "source": [
    "iterable = [2,4,6,8]"
   ]
  },
  {
   "cell_type": "code",
   "execution_count": 3,
   "metadata": {},
   "outputs": [
    {
     "data": {
      "text/plain": [
       "20"
      ]
     },
     "execution_count": 3,
     "metadata": {},
     "output_type": "execute_result"
    }
   ],
   "source": [
    "sumar(iterable)"
   ]
  },
  {
   "cell_type": "markdown",
   "metadata": {},
   "source": [
    "Vemos que esta función nos sirve para obtener el resultado. Llamándola y pasándole el parámetro que deseemos nos devuelve la sumatoria de todos sus elementos. Ahora, ¿la forma de ejecutar una función solamente es llamándola de este modo? No, hay otra manera de llamar a las funciones y esta es a través de los métodos. Un `método` es en sí mismo una función pero cuya cualidad principal es la de aplicarse sobre un objeto mismo, utilizando parámetros opcionales. Un método sólo existe dentro del objeto y por eso se lo puede llamar desde sí mismo.\n",
    "\n",
    "En la POO, las clases tienen `atributos` y `métodos`. Por decirlo de alguna manera, la clase calculadora, tiene números y los puede sumar. En python, los métodos se definen dentro de las clases y se llaman desde el objeto aplicando un paréntesis. Esta es la otra manera de llamar funciones que nos estaba faltando. Veámosla..."
   ]
  },
  {
   "cell_type": "code",
   "execution_count": 4,
   "metadata": {},
   "outputs": [
    {
     "data": {
      "text/plain": [
       "20"
      ]
     },
     "execution_count": 4,
     "metadata": {},
     "output_type": "execute_result"
    }
   ],
   "source": [
    "# llamemos la función que creamos enteriormente...\n",
    "sumar(iterable)"
   ]
  },
  {
   "cell_type": "code",
   "execution_count": 5,
   "metadata": {},
   "outputs": [],
   "source": [
    "# hagamos lo mismo, sumar todos los elementos de un iterable pero ahora usando numpy...\n",
    "import numpy as np"
   ]
  },
  {
   "cell_type": "code",
   "execution_count": 6,
   "metadata": {},
   "outputs": [
    {
     "data": {
      "text/plain": [
       "20"
      ]
     },
     "execution_count": 6,
     "metadata": {},
     "output_type": "execute_result"
    }
   ],
   "source": [
    "# hasta ahora tenemos el mismo resultado\n",
    "np.sum(iterable)"
   ]
  },
  {
   "cell_type": "markdown",
   "metadata": {},
   "source": [
    "Tratemos ahora de sumar los elementos de nuestra lista pero pensando a la suma como una propiedad que esta tiene y puede aplicar sobre sí misma. Es decir como si puedese hacerlo por el hecho de ser una lista:"
   ]
  },
  {
   "cell_type": "code",
   "execution_count": 7,
   "metadata": {},
   "outputs": [
    {
     "ename": "AttributeError",
     "evalue": "'list' object has no attribute 'sum'",
     "output_type": "error",
     "traceback": [
      "\u001b[0;31m---------------------------------------------------------------------------\u001b[0m",
      "\u001b[0;31mAttributeError\u001b[0m                            Traceback (most recent call last)",
      "\u001b[0;32m<ipython-input-7-47f36afc0e32>\u001b[0m in \u001b[0;36m<module>\u001b[0;34m\u001b[0m\n\u001b[1;32m      1\u001b[0m \u001b[0;31m# veamos qué sucede\u001b[0m\u001b[0;34m\u001b[0m\u001b[0;34m\u001b[0m\u001b[0;34m\u001b[0m\u001b[0m\n\u001b[0;32m----> 2\u001b[0;31m \u001b[0miterable\u001b[0m\u001b[0;34m.\u001b[0m\u001b[0msum\u001b[0m\u001b[0;34m(\u001b[0m\u001b[0;34m)\u001b[0m\u001b[0;34m\u001b[0m\u001b[0;34m\u001b[0m\u001b[0m\n\u001b[0m",
      "\u001b[0;31mAttributeError\u001b[0m: 'list' object has no attribute 'sum'"
     ]
    }
   ],
   "source": [
    "# veamos qué sucede\n",
    "iterable.sum()"
   ]
  },
  {
   "cell_type": "markdown",
   "metadata": {},
   "source": [
    "Queda claro por el error. La lista no cuenta con un método integrado que permita automáticamente sumar los elementos que la componen. Pero no ocurre lo mismo con los objetos de numpy. Continuemos con el ejemplo y veamos por qué..."
   ]
  },
  {
   "cell_type": "code",
   "execution_count": 8,
   "metadata": {},
   "outputs": [
    {
     "data": {
      "text/plain": [
       "20"
      ]
     },
     "execution_count": 8,
     "metadata": {},
     "output_type": "execute_result"
    }
   ],
   "source": [
    "# convertimos nuesta lista en un array de numpy\n",
    "np.array(iterable).sum()"
   ]
  },
  {
   "cell_type": "markdown",
   "metadata": {},
   "source": [
    "Vemos que llamando a la función suma como un método del objeto ya no nos devuelve un error. Y esto es porque los arrays de numpy sí cuentan con un método o función integrada que les permite sumar los elementos que los componen (como así también restarlos, conseguir un promedio, y otras cosas con las que python nativo no cuenta. A menos que escribamos una función que lo haga como hicimos al principio de este ejemplo!)."
   ]
  },
  {
   "cell_type": "markdown",
   "metadata": {},
   "source": [
    "Ahora que ya revisamos esto, tenemos en claro que los métodos se llaman o ejecutan desde el objeto mismo mientras que las funciones lo hacen por fuera y aplicando parámetros a una expresión. \n",
    "\n",
    "Revisemos ahora algunas formas alternativas de aplicar funciones y de llamar métodos que nos serán realmente útiles."
   ]
  },
  {
   "cell_type": "markdown",
   "metadata": {},
   "source": [
    "### Compañeros de ruta: la función lambda y los métodos map(), apply() y applymap() "
   ]
  },
  {
   "cell_type": "markdown",
   "metadata": {},
   "source": [
    "A esta altura, esperamos que algunas de las herramientas que has venido utilizando casi `de memoria` empiecen a decantar por si solas. Con seguridad necesitaste agregar o transformar columnas a tus dataframes para que cumplieran con determinadas características. Y para ello, debes haber utilizado métodos y funciones que nunca terminaste de entender bien qué es lo que hacían. Bueno, acá vamos a hacer una revisión rápida para terminar de entender cómo se usan y cuál es su equivalencia con estructuras de datos nativas de python. \n",
    "\n",
    "Hicimos esta selección porque creemos que son las de uso más frecuente y te servirán para terminar de redondear y afianzar muchas de las cosas que ya venís haciendo. Pensá esto como una cáscara que, a medida que avancemos, iremos llenando con atributos y métodos propios del mundo `geo`."
   ]
  },
  {
   "cell_type": "code",
   "execution_count": 9,
   "metadata": {},
   "outputs": [],
   "source": [
    "# empecemos por importar pandas con su clásico alias\n",
    "import pandas as pd"
   ]
  },
  {
   "cell_type": "markdown",
   "metadata": {},
   "source": [
    "> **1. La función anónima `lambda`**"
   ]
  },
  {
   "cell_type": "markdown",
   "metadata": {},
   "source": [
    "Es muy útil pensar esta función como si el **`lambda`** equivaliera al **`def`** en una función regular. Para ponerlo en otros términos, digamos que la manera en la que definimos una función anónima también nos permite crear parámetros que vamos a usar para aplicar una expresión a partir de la que transformaremos algún objeto. "
   ]
  },
  {
   "cell_type": "markdown",
   "metadata": {},
   "source": [
    "<figure>\n",
    "<center>\n",
    "<img src='../imagenes/sintaxis_funciones_anonima_regular.jpg' />\n",
    "<figcaption></figcaption></center>\n",
    "</figure>"
   ]
  },
  {
   "cell_type": "markdown",
   "metadata": {},
   "source": [
    "Esto, con dos diferencias esenciales. **La primera, que la función anónima no requiere de un `return` para devolvernos un resultado**. "
   ]
  },
  {
   "cell_type": "markdown",
   "metadata": {},
   "source": [
    "<figure>\n",
    "<center>\n",
    "<img src='../imagenes/funcionamiento_anonima_regular.jpg' />\n",
    "<figcaption></figcaption></center>\n",
    "</figure>"
   ]
  },
  {
   "cell_type": "markdown",
   "metadata": {},
   "source": [
    "Veamos algún ejemplo concreto. Para ello, supongamos que contamos con un código (algo bastante común para reconocer unidades administrativas o físicas en un territorio dado) y que queremos hacer alguna transformación sobre el mismo. Por ejemplo, completar su formato para contar con mayor información o hacer algún matcheo o unión con fuentes de información externas. Imaginemos que estamos trabajando con el código postal y que sólo contamos con una de las siguientes secciones..."
   ]
  },
  {
   "cell_type": "markdown",
   "metadata": {},
   "source": [
    "Vamos un caso real, el del CPA. El mismo está compuesto por ocho caracteres:\n",
    "1. Una letra identificatoria de la provincia.\n",
    "2. Un número de 4 dígitos que identifica la localidad, ciudad o barrio.\n",
    "3. Una combinación de tres letras que identifican la \"cara\" de la manzana."
   ]
  },
  {
   "cell_type": "markdown",
   "metadata": {},
   "source": [
    "<figure>\n",
    "<center>\n",
    "<img src='../imagenes/estructura_codigos_postales.png' />\n",
    "<figcaption></figcaption></center>\n",
    "</figure>"
   ]
  },
  {
   "cell_type": "markdown",
   "metadata": {},
   "source": [
    "¿Cómo podríamos completarlo con otras secciones utilizando una función anónima si sólo contaramos con la intermedia, por ejemplo? Veamos cómo..."
   ]
  },
  {
   "cell_type": "code",
   "execution_count": 10,
   "metadata": {},
   "outputs": [
    {
     "data": {
      "text/plain": [
       "'C1024FDA'"
      ]
     },
     "execution_count": 10,
     "metadata": {},
     "output_type": "execute_result"
    }
   ],
   "source": [
    "# instanciamos nuestro código incompleto.\n",
    "codigo_postal = '1024'\n",
    "\n",
    "# definimos una función para formar códigos postales que estén en una misma jurisdicción y cara de manzana\n",
    "completar_formato = lambda x: 'C'+ x +'FDA'\n",
    "\n",
    "# la aplicamos\n",
    "completar_formato(codigo_postal)"
   ]
  },
  {
   "cell_type": "markdown",
   "metadata": {},
   "source": [
    "Como pudimos ver, `x` es nuestro parámetro, aquel sobre el cual se aplicará la expresión delimitada a partir del `lambda`."
   ]
  },
  {
   "cell_type": "markdown",
   "metadata": {},
   "source": [
    "**La segunda diferencia, es que las funciones anónimas sólo trabajan con una expresión en su cuerpo** (mientras que las regulares pueden contener muchas). `x` (o como nosotros decidamos que se llame) es lo que se conoce como un `place holder`. Es decir, podemos aplicar la expresión definida en la función a filas de una serie de pandas, a items de una lista, etc. Ahora bien, la función lambda sólo toma una expresión a la vez. Es decir, que debemos aplicarla a tantos objetos o elementos como parámetros hayamos definido en nuestra función.\n",
    "\n",
    "Pero no nos dejemos confundir. Veamos qué pasa si queremos completar una serie o una lista."
   ]
  },
  {
   "cell_type": "code",
   "execution_count": 11,
   "metadata": {},
   "outputs": [],
   "source": [
    "# definimos nuevamente nuestro código\n",
    "codigo_postal = pd.Series(['C','1024','FDA'])\n",
    "\n",
    "# rehacemos la función anónima, ahora agregando algunos parámetros más después de la key 'lambda'\n",
    "completar_formato = lambda x,y,z: x + y + z"
   ]
  },
  {
   "cell_type": "code",
   "execution_count": 12,
   "metadata": {},
   "outputs": [
    {
     "ename": "TypeError",
     "evalue": "<lambda>() missing 2 required positional arguments: 'y' and 'z'",
     "output_type": "error",
     "traceback": [
      "\u001b[0;31m---------------------------------------------------------------------------\u001b[0m",
      "\u001b[0;31mTypeError\u001b[0m                                 Traceback (most recent call last)",
      "\u001b[0;32m<ipython-input-12-f5e78e8e3a23>\u001b[0m in \u001b[0;36m<module>\u001b[0;34m\u001b[0m\n\u001b[1;32m      1\u001b[0m \u001b[0;31m# prestemos atención al tipo de error que nos devuelve\u001b[0m\u001b[0;34m\u001b[0m\u001b[0;34m\u001b[0m\u001b[0;34m\u001b[0m\u001b[0m\n\u001b[0;32m----> 2\u001b[0;31m \u001b[0mcompletar_formato\u001b[0m\u001b[0;34m(\u001b[0m\u001b[0mcodigo_postal\u001b[0m\u001b[0;34m)\u001b[0m\u001b[0;34m\u001b[0m\u001b[0;34m\u001b[0m\u001b[0m\n\u001b[0m",
      "\u001b[0;31mTypeError\u001b[0m: <lambda>() missing 2 required positional arguments: 'y' and 'z'"
     ]
    }
   ],
   "source": [
    "# prestemos atención al tipo de error que nos devuelve\n",
    "completar_formato(codigo_postal)"
   ]
  },
  {
   "cell_type": "markdown",
   "metadata": {},
   "source": [
    "Como se puede leer, hay dos argumentos que aparecen como missing. Y esto es porque estamos aplicando una función con tres parametros sobre una sola serie. Distinto hubiese sido si..."
   ]
  },
  {
   "cell_type": "code",
   "execution_count": 13,
   "metadata": {},
   "outputs": [
    {
     "data": {
      "text/plain": [
       "'C1024FDA'"
      ]
     },
     "execution_count": 13,
     "metadata": {},
     "output_type": "execute_result"
    }
   ],
   "source": [
    "# instanciamos por separado las distintas parte del código\n",
    "parte_uno, parte_dos, parte_tres = 'C','1024','FDA'\n",
    "\n",
    "# y aplicamos la función sobre las tres partes\n",
    "completar_formato(parte_uno, parte_dos, parte_tres)"
   ]
  },
  {
   "cell_type": "markdown",
   "metadata": {},
   "source": [
    "O si..."
   ]
  },
  {
   "cell_type": "code",
   "execution_count": 14,
   "metadata": {},
   "outputs": [],
   "source": [
    "# suponiendo que tenemos una serie con muchas secciones de codigos postales ordenadas\n",
    "codigo_postal = pd.Series(['C','1024','FDA','C','1171','ABM','C','1097','AAX'])"
   ]
  },
  {
   "cell_type": "code",
   "execution_count": 15,
   "metadata": {},
   "outputs": [],
   "source": [
    "# rearmamos nuestra función lambda con un solo parametro\n",
    "completar_formato = lambda x: [x[i]+x[i+1]+x[i+2] for i in x.index if len(x[i])<2]"
   ]
  },
  {
   "cell_type": "code",
   "execution_count": 16,
   "metadata": {},
   "outputs": [
    {
     "data": {
      "text/plain": [
       "['C1024FDA', 'C1171ABM', 'C1097AAX']"
      ]
     },
     "execution_count": 16,
     "metadata": {},
     "output_type": "execute_result"
    }
   ],
   "source": [
    "# para obtener todos los codigos postales con las secciones que estaban dispersas, ahora concatendas\n",
    "completar_formato(codigo_postal)"
   ]
  },
  {
   "cell_type": "markdown",
   "metadata": {},
   "source": [
    "> **2. El método `map`**"
   ]
  },
  {
   "cell_type": "markdown",
   "metadata": {},
   "source": [
    "Este método se utiliza para aplicar una función a todos los elementos de un iterable especificado. De esta manera, su sintáxis queda definida como:"
   ]
  },
  {
   "cell_type": "markdown",
   "metadata": {},
   "source": [
    "<figure>\n",
    "<center>\n",
    "<img src='../imagenes/sintaxis_map.jpg' />\n",
    "<figcaption></figcaption></center>\n",
    "</figure>"
   ]
  },
  {
   "cell_type": "markdown",
   "metadata": {},
   "source": [
    "Se pueden pasar múltiples argumentos, siempre que la función que se esté mapeando tenga esa misma cantidad de argumentos. La función se va a aplicar a dichos iterables en paralelo y se va a detener cuando el iterable más corto haya sido agotado. Veamos algunos ejemplos..."
   ]
  },
  {
   "cell_type": "code",
   "execution_count": 17,
   "metadata": {},
   "outputs": [
    {
     "data": {
      "text/plain": [
       "<map at 0x7faac6e32b00>"
      ]
     },
     "execution_count": 17,
     "metadata": {},
     "output_type": "execute_result"
    }
   ],
   "source": [
    "# armamos una funcion regular que sume tres variables\n",
    "def combina(a,b,c):\n",
    "    return a+b+c\n",
    "\n",
    "# aplicamos la función a las tres secciones de nuestro código postal\n",
    "map(combina,parte_uno, parte_dos, parte_tres)"
   ]
  },
  {
   "cell_type": "markdown",
   "metadata": {},
   "source": [
    "Detengámonos brevemente en qué nos devuelve, un obtejo `map`. Este es un [`iterador`](https://docs.python.org/3/glossary.html#term-iterator) y en python está diseñado así por una cuestión de eficiencia. Es decir, para evitar guardar en memoria todo sobre lo que se itera, map devuelve un objeto de tipo iterador que se puede visualizar cuando le aplicamos algún contenedor, como una lista o una serie. "
   ]
  },
  {
   "cell_type": "code",
   "execution_count": 18,
   "metadata": {},
   "outputs": [
    {
     "data": {
      "text/plain": [
       "['C1024FDA']"
      ]
     },
     "execution_count": 18,
     "metadata": {},
     "output_type": "execute_result"
    }
   ],
   "source": [
    "list(map(combina,[parte_uno], [parte_dos], [parte_tres]))"
   ]
  },
  {
   "cell_type": "code",
   "execution_count": 19,
   "metadata": {},
   "outputs": [
    {
     "data": {
      "text/plain": [
       "0    C1024FDA\n",
       "dtype: object"
      ]
     },
     "execution_count": 19,
     "metadata": {},
     "output_type": "execute_result"
    }
   ],
   "source": [
    "pd.Series(map(combina,[parte_uno],[parte_dos], [parte_tres]))"
   ]
  },
  {
   "cell_type": "markdown",
   "metadata": {},
   "source": [
    "Y por qué se puede leer cuando le aplicamos un contenedor?, basicamente porque el objeto de tipo `map` es un objeto iterable, es decir, que se puede iterar sobre él:"
   ]
  },
  {
   "cell_type": "code",
   "execution_count": 20,
   "metadata": {},
   "outputs": [
    {
     "name": "stdout",
     "output_type": "stream",
     "text": [
      "C1024FDA\n"
     ]
    }
   ],
   "source": [
    "for i in map(combina, [parte_uno], [parte_dos], [parte_tres]):\n",
    "    print(i)"
   ]
  },
  {
   "cell_type": "markdown",
   "metadata": {},
   "source": [
    "Esto significa que, por ejemplo, si aplcaramos un `list()` a un `map(func, iter)` estaría sucediendo algo como esto:"
   ]
  },
  {
   "cell_type": "code",
   "execution_count": 21,
   "metadata": {},
   "outputs": [
    {
     "data": {
      "text/plain": [
       "['C1024FDA']"
      ]
     },
     "execution_count": 21,
     "metadata": {},
     "output_type": "execute_result"
    }
   ],
   "source": [
    "codigo = []\n",
    "for i in map(combina,[parte_uno], [parte_dos], [parte_tres]):\n",
    "    codigo.append(i)\n",
    "    \n",
    "codigo"
   ]
  },
  {
   "cell_type": "markdown",
   "metadata": {},
   "source": [
    "Este comportamiento hace que `map()` sea más rápido que otras alternativas, por ejemplo una lista por comprensión."
   ]
  },
  {
   "cell_type": "code",
   "execution_count": 22,
   "metadata": {},
   "outputs": [],
   "source": [
    "import time"
   ]
  },
  {
   "cell_type": "code",
   "execution_count": 23,
   "metadata": {},
   "outputs": [],
   "source": [
    "partes = ['C','1024','FDA','C','1171','ABM','C','1097','AAX']"
   ]
  },
  {
   "cell_type": "code",
   "execution_count": 24,
   "metadata": {},
   "outputs": [],
   "source": [
    "# lista por comprension\n",
    "inicio = time.time()\n",
    "resultado = [(partes[i]+partes[i+1]+partes[i+2]) for i in range(len(partes)) if i%3==0]\n",
    "fin = time.time()"
   ]
  },
  {
   "cell_type": "code",
   "execution_count": 25,
   "metadata": {},
   "outputs": [
    {
     "data": {
      "text/plain": [
       "['C1024FDA', 'C1171ABM', 'C1097AAX']"
      ]
     },
     "execution_count": 25,
     "metadata": {},
     "output_type": "execute_result"
    }
   ],
   "source": [
    "resultado"
   ]
  },
  {
   "cell_type": "code",
   "execution_count": 26,
   "metadata": {},
   "outputs": [
    {
     "name": "stdout",
     "output_type": "stream",
     "text": [
      "Tardó en ejecutarse 0.000124 segundos\n"
     ]
    }
   ],
   "source": [
    "print('Tardó en ejecutarse %f segundos'%(fin-inicio))"
   ]
  },
  {
   "cell_type": "code",
   "execution_count": 27,
   "metadata": {},
   "outputs": [],
   "source": [
    "# esto es lo que está sucediendo cuando aplicamos una lista por comprensión\n",
    "codigos = []\n",
    "\n",
    "for i in range(len(partes)):\n",
    "    if (i%3==0):\n",
    "        codigos.append(partes[i]+partes[i+1]+partes[i+2])"
   ]
  },
  {
   "cell_type": "code",
   "execution_count": 28,
   "metadata": {},
   "outputs": [
    {
     "data": {
      "text/plain": [
       "['C1024FDA', 'C1171ABM', 'C1097AAX']"
      ]
     },
     "execution_count": 28,
     "metadata": {},
     "output_type": "execute_result"
    }
   ],
   "source": [
    "codigos"
   ]
  },
  {
   "cell_type": "markdown",
   "metadata": {},
   "source": [
    "Si esto mismo lo hacemos utilizando el método `map`, primero debemos crear una función que realice la misma tarea. Recordemos, que este itera sobre cada uno de los elementos de un contenedor (en nuestro ejemplo previo, una lista). Por lo tanto, deberemos adaptar o bien la forma en la que diseñamos nuestra función o bien el objeto sobre el que la aplicamos. Hagamos esto último para  no extendernos demasiado..."
   ]
  },
  {
   "cell_type": "code",
   "execution_count": 29,
   "metadata": {},
   "outputs": [],
   "source": [
    "def combina_partes(lista):\n",
    "    '''\n",
    "    Combina los items de un objeto iterable.\n",
    "    ...\n",
    "    Argumentos:\n",
    "        arg(iterable): iterable de strings \n",
    "                       (e.g. 'list' o 'pandas serie')\n",
    "    Devuelve:\n",
    "        lista: items combinados\n",
    "    '''\n",
    "    codigos=[]\n",
    "    for i in range(len(lista)):\n",
    "        if (i%3==0):\n",
    "            codigos.append(lista[i]+lista[i+1]+lista[i+2])\n",
    "    return codigos"
   ]
  },
  {
   "cell_type": "markdown",
   "metadata": {},
   "source": [
    "Reparemos ahora en cómo la vamos a aplicar. Como nuestra función fue pensada para operar sobre una lista como único argumento, no podríamos mapear directamente sobre la lista `partes`. Por qué? básicamente porque sino dicha función se aplicaría sobre cada elemento `lista[0]`, `lista[1]`, `lista[n]`. Entonces la vamos a convertir en lista, para que el primer elemento que mapee el iterador sea nuestra lista de string con las secciones de distintos códigos postales."
   ]
  },
  {
   "cell_type": "code",
   "execution_count": 30,
   "metadata": {},
   "outputs": [],
   "source": [
    "# mapeamos la función y accedemos al index 0 del resultado para tener nuestros códigos unificados en un solo lugar\n",
    "inicio = time.time()\n",
    "resultado = list(map(combina_partes,[partes]))[0]\n",
    "fin = time.time()"
   ]
  },
  {
   "cell_type": "code",
   "execution_count": 31,
   "metadata": {},
   "outputs": [
    {
     "data": {
      "text/plain": [
       "['C1024FDA', 'C1171ABM', 'C1097AAX']"
      ]
     },
     "execution_count": 31,
     "metadata": {},
     "output_type": "execute_result"
    }
   ],
   "source": [
    "resultado"
   ]
  },
  {
   "cell_type": "code",
   "execution_count": 32,
   "metadata": {},
   "outputs": [
    {
     "name": "stdout",
     "output_type": "stream",
     "text": [
      "Tardo en ejecutarse 0.000087\n"
     ]
    }
   ],
   "source": [
    "# como podemos apreciar, el método map hace la misma tarea en un tiempo menor\n",
    "print('Tardo en ejecutarse %f' % (fin-inicio))"
   ]
  },
  {
   "cell_type": "markdown",
   "metadata": {},
   "source": [
    "Como vimos hasta acá, el `map` aplica una función a un iterable y devuelve el resultado de haber aplicado dicha función en cada uno de los items de ese iterable. Esto es particularmente útil para realizar operaciones con columnas de un dataframe. En el mundo geo, es muy común querer evaluar resultados en un espacio geográfico. Y para eso, muchas de las operaciones que anteceden a la visualización tienen que ver con transformaciones realizadas en columnas de un geodataframe. Antes de mostrar algo en un mapa, primero definimos cuál es ese indicador o valor que queremos ver. Y para construirlo, es muy probable que llevemos a cabo distintos tipos de operaciones sobre series. Acá es donde el método `map` adquiere una mayor relevancia. Pero antes, aclaremos que su uso en una serie es bastante más sencillo de lo que vimos hasta acá.  \n",
    "\n",
    "Básicamente, cuando utilizamos el `map` sobre una serie de un dataframe o geodataframe, lo hacemos como si este fuera un método del objeto. Así:"
   ]
  },
  {
   "cell_type": "code",
   "execution_count": 33,
   "metadata": {},
   "outputs": [],
   "source": [
    "# veamos un ejemplo rápido de cómo mapear una función sobre una serie de valores aleatorios\n",
    "columna = pd.Series(np.random.choice(100,3))"
   ]
  },
  {
   "cell_type": "code",
   "execution_count": 34,
   "metadata": {},
   "outputs": [
    {
     "data": {
      "text/plain": [
       "0    31.5\n",
       "1    40.5\n",
       "2    43.0\n",
       "dtype: float64"
      ]
     },
     "execution_count": 34,
     "metadata": {},
     "output_type": "execute_result"
    }
   ],
   "source": [
    "# Y ahora apliquemos la función (para que sea más interesante, hagamos que sea anónima) con map...\n",
    "columna.map(lambda x: round(x/2,1))"
   ]
  },
  {
   "cell_type": "markdown",
   "metadata": {},
   "source": [
    "Pongamos este ejemplo un poco más en contexto para terminar de entender la utilidad del `map`. Supongamos que en la Ciudad de Buenos Aires se implementó un plan urbano que dictamina la demolición de edificios abandonados por un período de tiempo superior a los 20 años. Y supongamos también que los siguientes códigos postales:"
   ]
  },
  {
   "cell_type": "code",
   "execution_count": 35,
   "metadata": {},
   "outputs": [
    {
     "data": {
      "text/plain": [
       "0    C1024FDA\n",
       "1    C1171ABM\n",
       "2    C1097AAX\n",
       "dtype: object"
      ]
     },
     "execution_count": 35,
     "metadata": {},
     "output_type": "execute_result"
    }
   ],
   "source": [
    "pd.Series(resultado)"
   ]
  },
  {
   "cell_type": "markdown",
   "metadata": {},
   "source": [
    "... corresponden a edificios que cumplen con dicha condición. Dada la crisis habitacional de la ciudad, para estos casos el nuevo plan urbano, dispone la demolición y posterior construcción de nuevas unidades de habitación que se vuelquen al mercado para aumentar la oferta de vivienda asequible. Para terminar de entender en qué nos puede ayudar el método map, digamos que en estos tres edificios se dispone la construcción de: "
   ]
  },
  {
   "cell_type": "code",
   "execution_count": 36,
   "metadata": {},
   "outputs": [
    {
     "name": "stdout",
     "output_type": "stream",
     "text": [
      "230 nuevos departamentos que estarán disponibles en el lapso de 24 meses\n"
     ]
    }
   ],
   "source": [
    "print(\"%s nuevos departamentos que estarán disponibles en el lapso de 24 meses\" % (columna.sum()))"
   ]
  },
  {
   "cell_type": "code",
   "execution_count": 37,
   "metadata": {},
   "outputs": [],
   "source": [
    "# veamos nuestra tabla inicial...\n",
    "desarrollos = pd.DataFrame({'id':resultado, \n",
    "                           'inicio': [2020,2020,2020], \n",
    "                           'unidades': columna,\n",
    "                           'duracion':[24,24,24]})"
   ]
  },
  {
   "cell_type": "code",
   "execution_count": 38,
   "metadata": {},
   "outputs": [
    {
     "data": {
      "text/html": [
       "<div>\n",
       "<style scoped>\n",
       "    .dataframe tbody tr th:only-of-type {\n",
       "        vertical-align: middle;\n",
       "    }\n",
       "\n",
       "    .dataframe tbody tr th {\n",
       "        vertical-align: top;\n",
       "    }\n",
       "\n",
       "    .dataframe thead th {\n",
       "        text-align: right;\n",
       "    }\n",
       "</style>\n",
       "<table border=\"1\" class=\"dataframe\">\n",
       "  <thead>\n",
       "    <tr style=\"text-align: right;\">\n",
       "      <th></th>\n",
       "      <th>id</th>\n",
       "      <th>inicio</th>\n",
       "      <th>unidades</th>\n",
       "      <th>duracion</th>\n",
       "    </tr>\n",
       "  </thead>\n",
       "  <tbody>\n",
       "    <tr>\n",
       "      <th>0</th>\n",
       "      <td>C1024FDA</td>\n",
       "      <td>2020</td>\n",
       "      <td>63</td>\n",
       "      <td>24</td>\n",
       "    </tr>\n",
       "    <tr>\n",
       "      <th>1</th>\n",
       "      <td>C1171ABM</td>\n",
       "      <td>2020</td>\n",
       "      <td>81</td>\n",
       "      <td>24</td>\n",
       "    </tr>\n",
       "    <tr>\n",
       "      <th>2</th>\n",
       "      <td>C1097AAX</td>\n",
       "      <td>2020</td>\n",
       "      <td>86</td>\n",
       "      <td>24</td>\n",
       "    </tr>\n",
       "  </tbody>\n",
       "</table>\n",
       "</div>"
      ],
      "text/plain": [
       "         id  inicio  unidades  duracion\n",
       "0  C1024FDA    2020        63        24\n",
       "1  C1171ABM    2020        81        24\n",
       "2  C1097AAX    2020        86        24"
      ]
     },
     "execution_count": 38,
     "metadata": {},
     "output_type": "execute_result"
    }
   ],
   "source": [
    "desarrollos"
   ]
  },
  {
   "cell_type": "markdown",
   "metadata": {},
   "source": [
    "Ahora, como también sabemos que el gobierno irá construyendo la misma cantidad de unidades por año, queremos que nuestra tabla de desarrollos adopte un nuevo formato. En este debe quedar representado, además del año de inicio el de finalización y la cantidad de unidades por año."
   ]
  },
  {
   "cell_type": "code",
   "execution_count": 39,
   "metadata": {},
   "outputs": [],
   "source": [
    "# Armemos una función que haga lo que indica nuestro hipotético escenario...\n",
    "def desarrollos_anuales(df, duracion, unidades,idx):\n",
    "    '''\n",
    "    Distribuye unidades residenciales a lo largo de\n",
    "    los años de construcción del proyecto.\n",
    "    ...\n",
    "    Argumentos:\n",
    "        df(dataframe): dataframe de proyectos residenciales \n",
    "        duracion(str): nombre de columna\n",
    "        unidades(str): nombre de columna\n",
    "        idx(str): nombre de columna\n",
    "    Devuelve:\n",
    "        dataframe: unidades anualmente distribuidas\n",
    "    '''\n",
    "    \n",
    "    df['años'] = df[duracion].map(lambda x: x/12)\n",
    "    df['anuales'] = df[unidades].map(lambda x: x/2)\n",
    "    \n",
    "    new_df = np.repeat(df[idx], df['años']).reset_index()\n",
    "    new_df['inicio'] = 2020\n",
    "    año = lambda v: [v+1 if i%2!=0 else v for i,v in enumerate(new_df['inicio'])]\n",
    "    new_df['inicia'] = año(new_df['inicio'])\n",
    "    new_df['finaliza'] = new_df['inicia'] + 1\n",
    "    \n",
    "    oferta = np.repeat(df['unidades'].map(lambda x: x/2),df['años']).\\\n",
    "                       reset_index()['unidades']\n",
    "    new_df['unidades'] = oferta\n",
    "    new_df.drop(columns='inicio',inplace=True)\n",
    "    \n",
    "    return new_df.iloc[:,1:]"
   ]
  },
  {
   "cell_type": "code",
   "execution_count": 40,
   "metadata": {},
   "outputs": [
    {
     "data": {
      "text/html": [
       "<div>\n",
       "<style scoped>\n",
       "    .dataframe tbody tr th:only-of-type {\n",
       "        vertical-align: middle;\n",
       "    }\n",
       "\n",
       "    .dataframe tbody tr th {\n",
       "        vertical-align: top;\n",
       "    }\n",
       "\n",
       "    .dataframe thead th {\n",
       "        text-align: right;\n",
       "    }\n",
       "</style>\n",
       "<table border=\"1\" class=\"dataframe\">\n",
       "  <thead>\n",
       "    <tr style=\"text-align: right;\">\n",
       "      <th></th>\n",
       "      <th>id</th>\n",
       "      <th>inicia</th>\n",
       "      <th>finaliza</th>\n",
       "      <th>unidades</th>\n",
       "    </tr>\n",
       "  </thead>\n",
       "  <tbody>\n",
       "    <tr>\n",
       "      <th>0</th>\n",
       "      <td>C1024FDA</td>\n",
       "      <td>2020</td>\n",
       "      <td>2021</td>\n",
       "      <td>31.5</td>\n",
       "    </tr>\n",
       "    <tr>\n",
       "      <th>1</th>\n",
       "      <td>C1024FDA</td>\n",
       "      <td>2021</td>\n",
       "      <td>2022</td>\n",
       "      <td>31.5</td>\n",
       "    </tr>\n",
       "    <tr>\n",
       "      <th>2</th>\n",
       "      <td>C1171ABM</td>\n",
       "      <td>2020</td>\n",
       "      <td>2021</td>\n",
       "      <td>40.5</td>\n",
       "    </tr>\n",
       "    <tr>\n",
       "      <th>3</th>\n",
       "      <td>C1171ABM</td>\n",
       "      <td>2021</td>\n",
       "      <td>2022</td>\n",
       "      <td>40.5</td>\n",
       "    </tr>\n",
       "    <tr>\n",
       "      <th>4</th>\n",
       "      <td>C1097AAX</td>\n",
       "      <td>2020</td>\n",
       "      <td>2021</td>\n",
       "      <td>43.0</td>\n",
       "    </tr>\n",
       "    <tr>\n",
       "      <th>5</th>\n",
       "      <td>C1097AAX</td>\n",
       "      <td>2021</td>\n",
       "      <td>2022</td>\n",
       "      <td>43.0</td>\n",
       "    </tr>\n",
       "  </tbody>\n",
       "</table>\n",
       "</div>"
      ],
      "text/plain": [
       "         id  inicia  finaliza  unidades\n",
       "0  C1024FDA    2020      2021      31.5\n",
       "1  C1024FDA    2021      2022      31.5\n",
       "2  C1171ABM    2020      2021      40.5\n",
       "3  C1171ABM    2021      2022      40.5\n",
       "4  C1097AAX    2020      2021      43.0\n",
       "5  C1097AAX    2021      2022      43.0"
      ]
     },
     "execution_count": 40,
     "metadata": {},
     "output_type": "execute_result"
    }
   ],
   "source": [
    "desarrollos_anuales(desarrollos, 'duracion', 'unidades','id')"
   ]
  },
  {
   "cell_type": "markdown",
   "metadata": {},
   "source": [
    "De esta manera, ya empezamos a trabajar con lo que nos interesa. Cuando entremos con mayor profundidad al mundo de geopandas, veremos que la materia prima con la que deberemos trabajar para mostrar nuestros resultados son los geodataframes. Por eso, es que nos detendremos un poco más en cómo estos métodos se aplican sobre series comunes y corrientes, o incluso en dataframes. Un poco más de paciencia!"
   ]
  },
  {
   "cell_type": "markdown",
   "metadata": {},
   "source": [
    "> **3. El método `apply`**"
   ]
  },
  {
   "cell_type": "markdown",
   "metadata": {},
   "source": [
    "Este método trabaja principalmente sobre series de panda. Al igual que el `map`, toma cada elemento dentro de una serie, o incluso un dataframe, y le aplica una función determinada."
   ]
  },
  {
   "cell_type": "markdown",
   "metadata": {},
   "source": [
    "<figure>\n",
    "<center>\n",
    "<img src='../imagenes/equivalencias_apply_map.jpg' />\n",
    "<figcaption></figcaption></center>\n",
    "</figure>"
   ]
  },
  {
   "cell_type": "markdown",
   "metadata": {},
   "source": [
    "Siguiendo con el ejemplo anterior, supongamos que ahora necesitamos redondear el stock de unidades que se van a construir. Es decir, necesitamos que nuestras unidades estén expresadas en enteros y no perder información cuando el redondeo elimina los decimales."
   ]
  },
  {
   "cell_type": "code",
   "execution_count": 41,
   "metadata": {},
   "outputs": [],
   "source": [
    "da = desarrollos_anuales(desarrollos, 'duracion', 'unidades','id')"
   ]
  },
  {
   "cell_type": "code",
   "execution_count": 42,
   "metadata": {},
   "outputs": [
    {
     "data": {
      "text/html": [
       "<div>\n",
       "<style scoped>\n",
       "    .dataframe tbody tr th:only-of-type {\n",
       "        vertical-align: middle;\n",
       "    }\n",
       "\n",
       "    .dataframe tbody tr th {\n",
       "        vertical-align: top;\n",
       "    }\n",
       "\n",
       "    .dataframe thead th {\n",
       "        text-align: right;\n",
       "    }\n",
       "</style>\n",
       "<table border=\"1\" class=\"dataframe\">\n",
       "  <thead>\n",
       "    <tr style=\"text-align: right;\">\n",
       "      <th></th>\n",
       "      <th>id</th>\n",
       "      <th>inicia</th>\n",
       "      <th>finaliza</th>\n",
       "      <th>unidades</th>\n",
       "    </tr>\n",
       "  </thead>\n",
       "  <tbody>\n",
       "    <tr>\n",
       "      <th>0</th>\n",
       "      <td>C1024FDA</td>\n",
       "      <td>2020</td>\n",
       "      <td>2021</td>\n",
       "      <td>31.5</td>\n",
       "    </tr>\n",
       "    <tr>\n",
       "      <th>1</th>\n",
       "      <td>C1024FDA</td>\n",
       "      <td>2021</td>\n",
       "      <td>2022</td>\n",
       "      <td>31.5</td>\n",
       "    </tr>\n",
       "    <tr>\n",
       "      <th>2</th>\n",
       "      <td>C1171ABM</td>\n",
       "      <td>2020</td>\n",
       "      <td>2021</td>\n",
       "      <td>40.5</td>\n",
       "    </tr>\n",
       "    <tr>\n",
       "      <th>3</th>\n",
       "      <td>C1171ABM</td>\n",
       "      <td>2021</td>\n",
       "      <td>2022</td>\n",
       "      <td>40.5</td>\n",
       "    </tr>\n",
       "    <tr>\n",
       "      <th>4</th>\n",
       "      <td>C1097AAX</td>\n",
       "      <td>2020</td>\n",
       "      <td>2021</td>\n",
       "      <td>43.0</td>\n",
       "    </tr>\n",
       "    <tr>\n",
       "      <th>5</th>\n",
       "      <td>C1097AAX</td>\n",
       "      <td>2021</td>\n",
       "      <td>2022</td>\n",
       "      <td>43.0</td>\n",
       "    </tr>\n",
       "  </tbody>\n",
       "</table>\n",
       "</div>"
      ],
      "text/plain": [
       "         id  inicia  finaliza  unidades\n",
       "0  C1024FDA    2020      2021      31.5\n",
       "1  C1024FDA    2021      2022      31.5\n",
       "2  C1171ABM    2020      2021      40.5\n",
       "3  C1171ABM    2021      2022      40.5\n",
       "4  C1097AAX    2020      2021      43.0\n",
       "5  C1097AAX    2021      2022      43.0"
      ]
     },
     "execution_count": 42,
     "metadata": {},
     "output_type": "execute_result"
    }
   ],
   "source": [
    "da"
   ]
  },
  {
   "cell_type": "code",
   "execution_count": 43,
   "metadata": {},
   "outputs": [],
   "source": [
    "def entero(x):\n",
    "    return int(x)\n",
    "\n",
    "def resto(x):\n",
    "    if float(x)-int(x)>0:\n",
    "        return int(x)+1\n",
    "    else:\n",
    "        return int(x)+0"
   ]
  },
  {
   "cell_type": "code",
   "execution_count": 44,
   "metadata": {},
   "outputs": [],
   "source": [
    "def redondea_unidades(df,col1):\n",
    "    '''\n",
    "    Asigna el resto de la división al último año\n",
    "    de construcción (como entero 1).\n",
    "    ...\n",
    "    Argumentos:\n",
    "        df(dataframe): dataframe de proyectos residenciales \n",
    "        col1(str): nombre de columna\n",
    "    Devuelve:\n",
    "        lista: lista de int\n",
    "    \n",
    "    '''\n",
    "    valores = []\n",
    "    for i in df[col1].index:\n",
    "        if i%2 == 0:\n",
    "            valores.append(df.loc[i:i,col1].apply(entero).values[0])\n",
    "        else: \n",
    "            valores.append(df.loc[i:i,col1].apply(resto).values[0])\n",
    "    return valores"
   ]
  },
  {
   "cell_type": "code",
   "execution_count": 45,
   "metadata": {},
   "outputs": [],
   "source": [
    "da['total'] = redondea_unidades(da,'unidades')"
   ]
  },
  {
   "cell_type": "code",
   "execution_count": 46,
   "metadata": {},
   "outputs": [
    {
     "data": {
      "text/html": [
       "<div>\n",
       "<style scoped>\n",
       "    .dataframe tbody tr th:only-of-type {\n",
       "        vertical-align: middle;\n",
       "    }\n",
       "\n",
       "    .dataframe tbody tr th {\n",
       "        vertical-align: top;\n",
       "    }\n",
       "\n",
       "    .dataframe thead th {\n",
       "        text-align: right;\n",
       "    }\n",
       "</style>\n",
       "<table border=\"1\" class=\"dataframe\">\n",
       "  <thead>\n",
       "    <tr style=\"text-align: right;\">\n",
       "      <th></th>\n",
       "      <th>id</th>\n",
       "      <th>inicia</th>\n",
       "      <th>finaliza</th>\n",
       "      <th>unidades</th>\n",
       "      <th>total</th>\n",
       "    </tr>\n",
       "  </thead>\n",
       "  <tbody>\n",
       "    <tr>\n",
       "      <th>0</th>\n",
       "      <td>C1024FDA</td>\n",
       "      <td>2020</td>\n",
       "      <td>2021</td>\n",
       "      <td>31.5</td>\n",
       "      <td>31</td>\n",
       "    </tr>\n",
       "    <tr>\n",
       "      <th>1</th>\n",
       "      <td>C1024FDA</td>\n",
       "      <td>2021</td>\n",
       "      <td>2022</td>\n",
       "      <td>31.5</td>\n",
       "      <td>32</td>\n",
       "    </tr>\n",
       "    <tr>\n",
       "      <th>2</th>\n",
       "      <td>C1171ABM</td>\n",
       "      <td>2020</td>\n",
       "      <td>2021</td>\n",
       "      <td>40.5</td>\n",
       "      <td>40</td>\n",
       "    </tr>\n",
       "    <tr>\n",
       "      <th>3</th>\n",
       "      <td>C1171ABM</td>\n",
       "      <td>2021</td>\n",
       "      <td>2022</td>\n",
       "      <td>40.5</td>\n",
       "      <td>41</td>\n",
       "    </tr>\n",
       "    <tr>\n",
       "      <th>4</th>\n",
       "      <td>C1097AAX</td>\n",
       "      <td>2020</td>\n",
       "      <td>2021</td>\n",
       "      <td>43.0</td>\n",
       "      <td>43</td>\n",
       "    </tr>\n",
       "    <tr>\n",
       "      <th>5</th>\n",
       "      <td>C1097AAX</td>\n",
       "      <td>2021</td>\n",
       "      <td>2022</td>\n",
       "      <td>43.0</td>\n",
       "      <td>43</td>\n",
       "    </tr>\n",
       "  </tbody>\n",
       "</table>\n",
       "</div>"
      ],
      "text/plain": [
       "         id  inicia  finaliza  unidades  total\n",
       "0  C1024FDA    2020      2021      31.5     31\n",
       "1  C1024FDA    2021      2022      31.5     32\n",
       "2  C1171ABM    2020      2021      40.5     40\n",
       "3  C1171ABM    2021      2022      40.5     41\n",
       "4  C1097AAX    2020      2021      43.0     43\n",
       "5  C1097AAX    2021      2022      43.0     43"
      ]
     },
     "execution_count": 46,
     "metadata": {},
     "output_type": "execute_result"
    }
   ],
   "source": [
    "da"
   ]
  },
  {
   "cell_type": "markdown",
   "metadata": {},
   "source": [
    "De esta forma, vemos que para los casos en los que las unidades cuentan con valores decimales, las funciones que aplicamos recurriendo al método `apply` nos permitieron asignar ese resto al último año de la construcción. Mientras que para aquellos casos en los que el resto era cero no se agregó ninguna unidad adicional."
   ]
  },
  {
   "cell_type": "markdown",
   "metadata": {},
   "source": [
    "Veamos cómo funciona ahora el mismo método sobre un conjunto de columnas (o un dataframe). Imaginemos que durante nuestro proceso de trabajo debemos cambiar el mismo valor para más de una serie. Digamos que, por ejemplo, los desarrollos se retrasaron trayendo como consecuencia que no sólo se corra el año de inicio sino también el de finalización..."
   ]
  },
  {
   "cell_type": "code",
   "execution_count": 47,
   "metadata": {},
   "outputs": [
    {
     "data": {
      "text/html": [
       "<div>\n",
       "<style scoped>\n",
       "    .dataframe tbody tr th:only-of-type {\n",
       "        vertical-align: middle;\n",
       "    }\n",
       "\n",
       "    .dataframe tbody tr th {\n",
       "        vertical-align: top;\n",
       "    }\n",
       "\n",
       "    .dataframe thead th {\n",
       "        text-align: right;\n",
       "    }\n",
       "</style>\n",
       "<table border=\"1\" class=\"dataframe\">\n",
       "  <thead>\n",
       "    <tr style=\"text-align: right;\">\n",
       "      <th></th>\n",
       "      <th>inicia</th>\n",
       "      <th>finaliza</th>\n",
       "    </tr>\n",
       "  </thead>\n",
       "  <tbody>\n",
       "    <tr>\n",
       "      <th>0</th>\n",
       "      <td>2021</td>\n",
       "      <td>2022</td>\n",
       "    </tr>\n",
       "    <tr>\n",
       "      <th>1</th>\n",
       "      <td>2022</td>\n",
       "      <td>2023</td>\n",
       "    </tr>\n",
       "    <tr>\n",
       "      <th>2</th>\n",
       "      <td>2021</td>\n",
       "      <td>2022</td>\n",
       "    </tr>\n",
       "    <tr>\n",
       "      <th>3</th>\n",
       "      <td>2022</td>\n",
       "      <td>2023</td>\n",
       "    </tr>\n",
       "    <tr>\n",
       "      <th>4</th>\n",
       "      <td>2021</td>\n",
       "      <td>2022</td>\n",
       "    </tr>\n",
       "    <tr>\n",
       "      <th>5</th>\n",
       "      <td>2022</td>\n",
       "      <td>2023</td>\n",
       "    </tr>\n",
       "  </tbody>\n",
       "</table>\n",
       "</div>"
      ],
      "text/plain": [
       "   inicia  finaliza\n",
       "0    2021      2022\n",
       "1    2022      2023\n",
       "2    2021      2022\n",
       "3    2022      2023\n",
       "4    2021      2022\n",
       "5    2022      2023"
      ]
     },
     "execution_count": 47,
     "metadata": {},
     "output_type": "execute_result"
    }
   ],
   "source": [
    "# Supongamos que ese lapso es de un año solamente. Para ello, creemos una función que aplique sobre nuestras filas.\n",
    "def agrega_años(x):\n",
    "    return x+1\n",
    "\n",
    "# Y ahora apliquemosla sobre ellas...\n",
    "da[['inicia','finaliza']].apply(agrega_años)"
   ]
  },
  {
   "cell_type": "markdown",
   "metadata": {},
   "source": [
    "De esta manera, vemos que `apply` no funciona sólo sobre series aisladas, sino también sobre dataframes. Tal como lo hace..."
   ]
  },
  {
   "cell_type": "markdown",
   "metadata": {},
   "source": [
    "> **4. El método `applymap`**"
   ]
  },
  {
   "cell_type": "markdown",
   "metadata": {},
   "source": [
    "Pensemos que puede ser bastante frecuente querer llevar adelante una misma operación para más de una columna en un dataframe. Imaginemos que no sólo debemos transformar dos como en el caso anterior, sino muchas más. Para este tipo de circunstancias, el método `applymap` resulta particularmente útil, ya que el mismo opera sobre el dataframe entero."
   ]
  },
  {
   "cell_type": "markdown",
   "metadata": {},
   "source": [
    "Para entender un poco mejor su utilidad, supongamos que ahora contamos con nueva información sobre nuestros desarrollos. Además de la cantidad de unidades, sabemos qué porcentage de ellas corresponde a una tipología determinada. Es decir, sabemos que del total que se construirá anualmente un x% corresponde a unidades 0,1,2,3,4 y 5 ambientes (también podríamos haber dado un rango de metros cuadrados, pero quedemonos con esto)."
   ]
  },
  {
   "cell_type": "markdown",
   "metadata": {},
   "source": [
    "Veamos entonces cómo podemos valernos de aquellos métodos que operan sobre un dataframe entero, `apply` y `applymap` para convertir nuestra columna de totales en porcentages de cada tipología."
   ]
  },
  {
   "cell_type": "code",
   "execution_count": 48,
   "metadata": {},
   "outputs": [],
   "source": [
    "# emprolijemos nuestro df de desarrollos anuales eliminando las columnas que no necesitamos\n",
    "da.drop(columns='unidades', inplace=True)"
   ]
  },
  {
   "cell_type": "code",
   "execution_count": 49,
   "metadata": {},
   "outputs": [
    {
     "data": {
      "text/html": [
       "<div>\n",
       "<style scoped>\n",
       "    .dataframe tbody tr th:only-of-type {\n",
       "        vertical-align: middle;\n",
       "    }\n",
       "\n",
       "    .dataframe tbody tr th {\n",
       "        vertical-align: top;\n",
       "    }\n",
       "\n",
       "    .dataframe thead th {\n",
       "        text-align: right;\n",
       "    }\n",
       "</style>\n",
       "<table border=\"1\" class=\"dataframe\">\n",
       "  <thead>\n",
       "    <tr style=\"text-align: right;\">\n",
       "      <th></th>\n",
       "      <th>id</th>\n",
       "      <th>inicia</th>\n",
       "      <th>finaliza</th>\n",
       "      <th>total</th>\n",
       "    </tr>\n",
       "  </thead>\n",
       "  <tbody>\n",
       "    <tr>\n",
       "      <th>0</th>\n",
       "      <td>C1024FDA</td>\n",
       "      <td>2020</td>\n",
       "      <td>2021</td>\n",
       "      <td>31</td>\n",
       "    </tr>\n",
       "    <tr>\n",
       "      <th>1</th>\n",
       "      <td>C1024FDA</td>\n",
       "      <td>2021</td>\n",
       "      <td>2022</td>\n",
       "      <td>32</td>\n",
       "    </tr>\n",
       "    <tr>\n",
       "      <th>2</th>\n",
       "      <td>C1171ABM</td>\n",
       "      <td>2020</td>\n",
       "      <td>2021</td>\n",
       "      <td>40</td>\n",
       "    </tr>\n",
       "    <tr>\n",
       "      <th>3</th>\n",
       "      <td>C1171ABM</td>\n",
       "      <td>2021</td>\n",
       "      <td>2022</td>\n",
       "      <td>41</td>\n",
       "    </tr>\n",
       "    <tr>\n",
       "      <th>4</th>\n",
       "      <td>C1097AAX</td>\n",
       "      <td>2020</td>\n",
       "      <td>2021</td>\n",
       "      <td>43</td>\n",
       "    </tr>\n",
       "    <tr>\n",
       "      <th>5</th>\n",
       "      <td>C1097AAX</td>\n",
       "      <td>2021</td>\n",
       "      <td>2022</td>\n",
       "      <td>43</td>\n",
       "    </tr>\n",
       "  </tbody>\n",
       "</table>\n",
       "</div>"
      ],
      "text/plain": [
       "         id  inicia  finaliza  total\n",
       "0  C1024FDA    2020      2021     31\n",
       "1  C1024FDA    2021      2022     32\n",
       "2  C1171ABM    2020      2021     40\n",
       "3  C1171ABM    2021      2022     41\n",
       "4  C1097AAX    2020      2021     43\n",
       "5  C1097AAX    2021      2022     43"
      ]
     },
     "execution_count": 49,
     "metadata": {},
     "output_type": "execute_result"
    }
   ],
   "source": [
    "da"
   ]
  },
  {
   "cell_type": "code",
   "execution_count": 50,
   "metadata": {},
   "outputs": [],
   "source": [
    "# Creemos nuestro dataframe de tipologías\n",
    "amb = pd.DataFrame()\n",
    "for i in range(len(da)):\n",
    "    amb['{}_amb'.format(i)] = [0]*len(da)"
   ]
  },
  {
   "cell_type": "code",
   "execution_count": 51,
   "metadata": {},
   "outputs": [
    {
     "data": {
      "text/html": [
       "<div>\n",
       "<style scoped>\n",
       "    .dataframe tbody tr th:only-of-type {\n",
       "        vertical-align: middle;\n",
       "    }\n",
       "\n",
       "    .dataframe tbody tr th {\n",
       "        vertical-align: top;\n",
       "    }\n",
       "\n",
       "    .dataframe thead th {\n",
       "        text-align: right;\n",
       "    }\n",
       "</style>\n",
       "<table border=\"1\" class=\"dataframe\">\n",
       "  <thead>\n",
       "    <tr style=\"text-align: right;\">\n",
       "      <th></th>\n",
       "      <th>0_amb</th>\n",
       "      <th>1_amb</th>\n",
       "      <th>2_amb</th>\n",
       "      <th>3_amb</th>\n",
       "      <th>4_amb</th>\n",
       "      <th>5_amb</th>\n",
       "    </tr>\n",
       "  </thead>\n",
       "  <tbody>\n",
       "    <tr>\n",
       "      <th>0</th>\n",
       "      <td>0</td>\n",
       "      <td>0</td>\n",
       "      <td>0</td>\n",
       "      <td>0</td>\n",
       "      <td>0</td>\n",
       "      <td>0</td>\n",
       "    </tr>\n",
       "    <tr>\n",
       "      <th>1</th>\n",
       "      <td>0</td>\n",
       "      <td>0</td>\n",
       "      <td>0</td>\n",
       "      <td>0</td>\n",
       "      <td>0</td>\n",
       "      <td>0</td>\n",
       "    </tr>\n",
       "    <tr>\n",
       "      <th>2</th>\n",
       "      <td>0</td>\n",
       "      <td>0</td>\n",
       "      <td>0</td>\n",
       "      <td>0</td>\n",
       "      <td>0</td>\n",
       "      <td>0</td>\n",
       "    </tr>\n",
       "    <tr>\n",
       "      <th>3</th>\n",
       "      <td>0</td>\n",
       "      <td>0</td>\n",
       "      <td>0</td>\n",
       "      <td>0</td>\n",
       "      <td>0</td>\n",
       "      <td>0</td>\n",
       "    </tr>\n",
       "    <tr>\n",
       "      <th>4</th>\n",
       "      <td>0</td>\n",
       "      <td>0</td>\n",
       "      <td>0</td>\n",
       "      <td>0</td>\n",
       "      <td>0</td>\n",
       "      <td>0</td>\n",
       "    </tr>\n",
       "    <tr>\n",
       "      <th>5</th>\n",
       "      <td>0</td>\n",
       "      <td>0</td>\n",
       "      <td>0</td>\n",
       "      <td>0</td>\n",
       "      <td>0</td>\n",
       "      <td>0</td>\n",
       "    </tr>\n",
       "  </tbody>\n",
       "</table>\n",
       "</div>"
      ],
      "text/plain": [
       "   0_amb  1_amb  2_amb  3_amb  4_amb  5_amb\n",
       "0      0      0      0      0      0      0\n",
       "1      0      0      0      0      0      0\n",
       "2      0      0      0      0      0      0\n",
       "3      0      0      0      0      0      0\n",
       "4      0      0      0      0      0      0\n",
       "5      0      0      0      0      0      0"
      ]
     },
     "execution_count": 51,
     "metadata": {},
     "output_type": "execute_result"
    }
   ],
   "source": [
    "amb"
   ]
  },
  {
   "cell_type": "code",
   "execution_count": 52,
   "metadata": {},
   "outputs": [],
   "source": [
    "# Ahora, armemos una lista de porcentages a partir de la que se desagregarán los totales de unidades a construir.\n",
    "porcentages = [0.10, 0.15, 0.30, 0.35, 0.07, 0.03]"
   ]
  },
  {
   "cell_type": "code",
   "execution_count": 53,
   "metadata": {},
   "outputs": [],
   "source": [
    "# Asignamos los porcentages a las filas. Con random, hacemos que los items se ordenen de forma aleatoria\n",
    "import random\n",
    "\n",
    "for i in amb.index:\n",
    "    random.shuffle(porcentages) \n",
    "    amb.loc[[i],:] = porcentages"
   ]
  },
  {
   "cell_type": "code",
   "execution_count": 54,
   "metadata": {},
   "outputs": [
    {
     "data": {
      "text/html": [
       "<div>\n",
       "<style scoped>\n",
       "    .dataframe tbody tr th:only-of-type {\n",
       "        vertical-align: middle;\n",
       "    }\n",
       "\n",
       "    .dataframe tbody tr th {\n",
       "        vertical-align: top;\n",
       "    }\n",
       "\n",
       "    .dataframe thead th {\n",
       "        text-align: right;\n",
       "    }\n",
       "</style>\n",
       "<table border=\"1\" class=\"dataframe\">\n",
       "  <thead>\n",
       "    <tr style=\"text-align: right;\">\n",
       "      <th></th>\n",
       "      <th>0_amb</th>\n",
       "      <th>1_amb</th>\n",
       "      <th>2_amb</th>\n",
       "      <th>3_amb</th>\n",
       "      <th>4_amb</th>\n",
       "      <th>5_amb</th>\n",
       "    </tr>\n",
       "  </thead>\n",
       "  <tbody>\n",
       "    <tr>\n",
       "      <th>0</th>\n",
       "      <td>0.07</td>\n",
       "      <td>0.03</td>\n",
       "      <td>0.10</td>\n",
       "      <td>0.30</td>\n",
       "      <td>0.15</td>\n",
       "      <td>0.35</td>\n",
       "    </tr>\n",
       "    <tr>\n",
       "      <th>1</th>\n",
       "      <td>0.15</td>\n",
       "      <td>0.35</td>\n",
       "      <td>0.03</td>\n",
       "      <td>0.07</td>\n",
       "      <td>0.30</td>\n",
       "      <td>0.10</td>\n",
       "    </tr>\n",
       "    <tr>\n",
       "      <th>2</th>\n",
       "      <td>0.15</td>\n",
       "      <td>0.30</td>\n",
       "      <td>0.03</td>\n",
       "      <td>0.35</td>\n",
       "      <td>0.07</td>\n",
       "      <td>0.10</td>\n",
       "    </tr>\n",
       "    <tr>\n",
       "      <th>3</th>\n",
       "      <td>0.03</td>\n",
       "      <td>0.35</td>\n",
       "      <td>0.07</td>\n",
       "      <td>0.10</td>\n",
       "      <td>0.15</td>\n",
       "      <td>0.30</td>\n",
       "    </tr>\n",
       "    <tr>\n",
       "      <th>4</th>\n",
       "      <td>0.30</td>\n",
       "      <td>0.15</td>\n",
       "      <td>0.03</td>\n",
       "      <td>0.07</td>\n",
       "      <td>0.10</td>\n",
       "      <td>0.35</td>\n",
       "    </tr>\n",
       "    <tr>\n",
       "      <th>5</th>\n",
       "      <td>0.10</td>\n",
       "      <td>0.07</td>\n",
       "      <td>0.03</td>\n",
       "      <td>0.30</td>\n",
       "      <td>0.15</td>\n",
       "      <td>0.35</td>\n",
       "    </tr>\n",
       "  </tbody>\n",
       "</table>\n",
       "</div>"
      ],
      "text/plain": [
       "   0_amb  1_amb  2_amb  3_amb  4_amb  5_amb\n",
       "0   0.07   0.03   0.10   0.30   0.15   0.35\n",
       "1   0.15   0.35   0.03   0.07   0.30   0.10\n",
       "2   0.15   0.30   0.03   0.35   0.07   0.10\n",
       "3   0.03   0.35   0.07   0.10   0.15   0.30\n",
       "4   0.30   0.15   0.03   0.07   0.10   0.35\n",
       "5   0.10   0.07   0.03   0.30   0.15   0.35"
      ]
     },
     "execution_count": 54,
     "metadata": {},
     "output_type": "execute_result"
    }
   ],
   "source": [
    "amb"
   ]
  },
  {
   "cell_type": "code",
   "execution_count": 55,
   "metadata": {},
   "outputs": [],
   "source": [
    "# Creemos una lista con los totales que se vamos a convertir en porcentages\n",
    "totales = [i for i in da['total']]"
   ]
  },
  {
   "cell_type": "markdown",
   "metadata": {},
   "source": [
    "Y ahora sí, después de tanta introducción, utilicemos el método `applymap` para multiplicar cada celda por el valor total definido en la lista. Reparemos que para cambiar los valores en nuestro dataframe, estamos indexando cada fila para todo el conjunto de columnas. Por último, también es útil remarcar el uso de la función anónima que vimos al principio del notebook. Tanto el método `applymap` como `apply` se llevan particularmente bien con este recurso. Básicamente porque al utilizarse (normalmente) con un solo argumento (la celda de la Serie o las del DataFrame) esto deja un mayor margen para agregar otros operadores (o argumentos) que si estuviesen definidos dentro de una función regular serían más difíciles de llamar. Pero veámoslo con un ejemplo concreto."
   ]
  },
  {
   "cell_type": "code",
   "execution_count": 56,
   "metadata": {},
   "outputs": [],
   "source": [
    "# Indexamos nuestro dataframe y combinamos applymap con una función anónima\n",
    "for i in range(len(totales)):\n",
    "    amb.loc[[i],:] = amb.loc[[i],:].applymap(lambda x: x*totales[i])"
   ]
  },
  {
   "cell_type": "code",
   "execution_count": 57,
   "metadata": {},
   "outputs": [
    {
     "data": {
      "text/plain": [
       "0    31.0\n",
       "1    32.0\n",
       "2    40.0\n",
       "3    41.0\n",
       "4    43.0\n",
       "5    43.0\n",
       "dtype: float64"
      ]
     },
     "execution_count": 57,
     "metadata": {},
     "output_type": "execute_result"
    }
   ],
   "source": [
    "# Comprobamos que la suma de nuestras filas de el total de unidades de nuestro df de desarrollos anuales\n",
    "amb.sum(axis=1)"
   ]
  },
  {
   "cell_type": "markdown",
   "metadata": {},
   "source": [
    "Ahora, probemos lo mismo con el método `apply` pero tratando de llamar otros argumentos que están definidos dentro de una función regular (algo para lo que `applymap` no es muy dúctil)."
   ]
  },
  {
   "cell_type": "code",
   "execution_count": 58,
   "metadata": {},
   "outputs": [],
   "source": [
    "# Definamos una función que multiplique nuestros valores\n",
    "def multiplica(x,y):\n",
    "    return x*y"
   ]
  },
  {
   "cell_type": "code",
   "execution_count": 59,
   "metadata": {},
   "outputs": [],
   "source": [
    "# Veamos cómo hacemos para llamar el argumento que no es nuestra 'x'(la celda). Apply lo hace muy sencillo...\n",
    "for idx in amb.index:\n",
    "    for elem in range(len(totales)):\n",
    "        amb.loc[[idx],:].apply(multiplica,y=elem)"
   ]
  },
  {
   "cell_type": "code",
   "execution_count": 60,
   "metadata": {},
   "outputs": [
    {
     "data": {
      "text/plain": [
       "0    31.0\n",
       "1    32.0\n",
       "2    40.0\n",
       "3    41.0\n",
       "4    43.0\n",
       "5    43.0\n",
       "dtype: float64"
      ]
     },
     "execution_count": 60,
     "metadata": {},
     "output_type": "execute_result"
    }
   ],
   "source": [
    "# Verifiquemos que nuestros valores suman el total de unidades.\n",
    "amb.sum(axis=1)"
   ]
  },
  {
   "cell_type": "code",
   "execution_count": 61,
   "metadata": {},
   "outputs": [],
   "source": [
    "# Veamos cómo nos quedaría nuestro dataframe de desarrollos anuales...\n",
    "da_completo = pd.merge(da,amb.applymap(lambda x: round(x,5)),left_index=True, right_index=True)"
   ]
  },
  {
   "cell_type": "code",
   "execution_count": 62,
   "metadata": {},
   "outputs": [
    {
     "data": {
      "text/html": [
       "<div>\n",
       "<style scoped>\n",
       "    .dataframe tbody tr th:only-of-type {\n",
       "        vertical-align: middle;\n",
       "    }\n",
       "\n",
       "    .dataframe tbody tr th {\n",
       "        vertical-align: top;\n",
       "    }\n",
       "\n",
       "    .dataframe thead th {\n",
       "        text-align: right;\n",
       "    }\n",
       "</style>\n",
       "<table border=\"1\" class=\"dataframe\">\n",
       "  <thead>\n",
       "    <tr style=\"text-align: right;\">\n",
       "      <th></th>\n",
       "      <th>id</th>\n",
       "      <th>inicia</th>\n",
       "      <th>finaliza</th>\n",
       "      <th>total</th>\n",
       "      <th>0_amb</th>\n",
       "      <th>1_amb</th>\n",
       "      <th>2_amb</th>\n",
       "      <th>3_amb</th>\n",
       "      <th>4_amb</th>\n",
       "      <th>5_amb</th>\n",
       "    </tr>\n",
       "  </thead>\n",
       "  <tbody>\n",
       "    <tr>\n",
       "      <th>0</th>\n",
       "      <td>C1024FDA</td>\n",
       "      <td>2020</td>\n",
       "      <td>2021</td>\n",
       "      <td>31</td>\n",
       "      <td>2.17</td>\n",
       "      <td>0.93</td>\n",
       "      <td>3.10</td>\n",
       "      <td>9.30</td>\n",
       "      <td>4.65</td>\n",
       "      <td>10.85</td>\n",
       "    </tr>\n",
       "    <tr>\n",
       "      <th>1</th>\n",
       "      <td>C1024FDA</td>\n",
       "      <td>2021</td>\n",
       "      <td>2022</td>\n",
       "      <td>32</td>\n",
       "      <td>4.80</td>\n",
       "      <td>11.20</td>\n",
       "      <td>0.96</td>\n",
       "      <td>2.24</td>\n",
       "      <td>9.60</td>\n",
       "      <td>3.20</td>\n",
       "    </tr>\n",
       "    <tr>\n",
       "      <th>2</th>\n",
       "      <td>C1171ABM</td>\n",
       "      <td>2020</td>\n",
       "      <td>2021</td>\n",
       "      <td>40</td>\n",
       "      <td>6.00</td>\n",
       "      <td>12.00</td>\n",
       "      <td>1.20</td>\n",
       "      <td>14.00</td>\n",
       "      <td>2.80</td>\n",
       "      <td>4.00</td>\n",
       "    </tr>\n",
       "    <tr>\n",
       "      <th>3</th>\n",
       "      <td>C1171ABM</td>\n",
       "      <td>2021</td>\n",
       "      <td>2022</td>\n",
       "      <td>41</td>\n",
       "      <td>1.23</td>\n",
       "      <td>14.35</td>\n",
       "      <td>2.87</td>\n",
       "      <td>4.10</td>\n",
       "      <td>6.15</td>\n",
       "      <td>12.30</td>\n",
       "    </tr>\n",
       "    <tr>\n",
       "      <th>4</th>\n",
       "      <td>C1097AAX</td>\n",
       "      <td>2020</td>\n",
       "      <td>2021</td>\n",
       "      <td>43</td>\n",
       "      <td>12.90</td>\n",
       "      <td>6.45</td>\n",
       "      <td>1.29</td>\n",
       "      <td>3.01</td>\n",
       "      <td>4.30</td>\n",
       "      <td>15.05</td>\n",
       "    </tr>\n",
       "    <tr>\n",
       "      <th>5</th>\n",
       "      <td>C1097AAX</td>\n",
       "      <td>2021</td>\n",
       "      <td>2022</td>\n",
       "      <td>43</td>\n",
       "      <td>4.30</td>\n",
       "      <td>3.01</td>\n",
       "      <td>1.29</td>\n",
       "      <td>12.90</td>\n",
       "      <td>6.45</td>\n",
       "      <td>15.05</td>\n",
       "    </tr>\n",
       "  </tbody>\n",
       "</table>\n",
       "</div>"
      ],
      "text/plain": [
       "         id  inicia  finaliza  total  0_amb  1_amb  2_amb  3_amb  4_amb  5_amb\n",
       "0  C1024FDA    2020      2021     31   2.17   0.93   3.10   9.30   4.65  10.85\n",
       "1  C1024FDA    2021      2022     32   4.80  11.20   0.96   2.24   9.60   3.20\n",
       "2  C1171ABM    2020      2021     40   6.00  12.00   1.20  14.00   2.80   4.00\n",
       "3  C1171ABM    2021      2022     41   1.23  14.35   2.87   4.10   6.15  12.30\n",
       "4  C1097AAX    2020      2021     43  12.90   6.45   1.29   3.01   4.30  15.05\n",
       "5  C1097AAX    2021      2022     43   4.30   3.01   1.29  12.90   6.45  15.05"
      ]
     },
     "execution_count": 62,
     "metadata": {},
     "output_type": "execute_result"
    }
   ],
   "source": [
    "da_completo"
   ]
  },
  {
   "cell_type": "code",
   "execution_count": 63,
   "metadata": {},
   "outputs": [],
   "source": [
    "def redondea_stock_por_tipologia(df, id_unico, id_columna, columna_stock):\n",
    "    '''\n",
    "    Convierte enteros por fila y reasigna la diferencia.\n",
    "    ...\n",
    "    Argumentos:\n",
    "        df(dataframe): dataframe de proyectos residenciales\n",
    "        id_unico (str): codigo postal del inmueble a contruir\n",
    "        id_columna (str): nombre de columna\n",
    "        columna_stock (str): nombre de la columna con la tipologia a construir\n",
    "    Devuelve:\n",
    "        lista: lista de int\n",
    "    \n",
    "    '''\n",
    "    decimal = df.loc[df[id_columna] == id_unico, [columna_stock]].iloc[:, 0]\n",
    "    integer = df.loc[df[id_columna] == id_unico, [columna_stock]].iloc[:, 0].astype(int)\n",
    "    rest = decimal - integer\n",
    "    unit = int(round(rest.sum(), 0))\n",
    "\n",
    "    rows = rest.index.values\n",
    "    idx = np.random.choice(rows, unit, replace=False)\n",
    "    integer[idx] = integer[idx]+1\n",
    "    return integer.values"
   ]
  },
  {
   "cell_type": "code",
   "execution_count": 64,
   "metadata": {},
   "outputs": [],
   "source": [
    "totales = {}\n",
    "\n",
    "for tipologia in da_completo.columns[4:]:\n",
    "    totales[tipologia] = [redondea_stock_por_tipologia(da_completo, i, 'id', tipologia) for \n",
    "                          i in da_completo['id'].unique()]"
   ]
  },
  {
   "cell_type": "code",
   "execution_count": 65,
   "metadata": {},
   "outputs": [
    {
     "data": {
      "text/plain": [
       "{'0_amb': [array([2, 5]), array([6, 1]), array([13,  4])],\n",
       " '1_amb': [array([ 1, 11]), array([12, 14]), array([6, 3])],\n",
       " '2_amb': [array([3, 1]), array([2, 2]), array([1, 2])],\n",
       " '3_amb': [array([9, 3]), array([14,  4]), array([ 4, 12])],\n",
       " '4_amb': [array([ 4, 10]), array([3, 6]), array([5, 6])],\n",
       " '5_amb': [array([10,  4]), array([ 4, 12]), array([15, 15])]}"
      ]
     },
     "execution_count": 65,
     "metadata": {},
     "output_type": "execute_result"
    }
   ],
   "source": [
    "totales"
   ]
  },
  {
   "cell_type": "code",
   "execution_count": 66,
   "metadata": {},
   "outputs": [],
   "source": [
    "for k in totales.keys():\n",
    "    totales.update({k:np.concatenate(totales[k])})"
   ]
  },
  {
   "cell_type": "code",
   "execution_count": 67,
   "metadata": {},
   "outputs": [
    {
     "data": {
      "text/plain": [
       "{'0_amb': array([ 2,  5,  6,  1, 13,  4]),\n",
       " '1_amb': array([ 1, 11, 12, 14,  6,  3]),\n",
       " '2_amb': array([3, 1, 2, 2, 1, 2]),\n",
       " '3_amb': array([ 9,  3, 14,  4,  4, 12]),\n",
       " '4_amb': array([ 4, 10,  3,  6,  5,  6]),\n",
       " '5_amb': array([10,  4,  4, 12, 15, 15])}"
      ]
     },
     "execution_count": 67,
     "metadata": {},
     "output_type": "execute_result"
    }
   ],
   "source": [
    "totales"
   ]
  },
  {
   "cell_type": "code",
   "execution_count": 68,
   "metadata": {},
   "outputs": [],
   "source": [
    "def ajusta_stock(df,totales):\n",
    "    '''\n",
    "    Reasigna enteros por fila para alcanzar\n",
    "    el valor total de unidades.\n",
    "    ...\n",
    "    Argumentos:\n",
    "        df(dataframe): dataframe de proyectos residenciales\n",
    "        totales (dict): nuevos totales por tipologia\n",
    "    Devuelve:\n",
    "        df: df con totales ajustados por tipologia\n",
    "    \n",
    "    '''\n",
    "    df['nvos_totales'] = pd.DataFrame(totales).sum(axis=1)\n",
    "    df['diferencia'] = df['total'] - df['nvos_totales']\n",
    "    tipologias = ['0_amb','1_amb','2_amb','3_amb','4_amb','5_amb']\n",
    "    df[tipologias] = pd.DataFrame(totales)\n",
    "    \n",
    "    for index, row in df.iterrows():\n",
    "        if row['diferencia'] < 0:\n",
    "            ambientes = random.choice(tipologias)\n",
    "            print('Eliminando excedente de unidades en:',ambientes)\n",
    "            df.loc[index, ambientes] = row[ambientes] + (row['diferencia'])\n",
    "            #df.loc[index, ambientes] = np.abs(df.loc[index, ambientes])\n",
    "            \n",
    "        elif row['diferencia'] > 0:\n",
    "            ambientes = random.choice(tipologias)\n",
    "            print('Agregando unidades faltantes en:',ambientes)\n",
    "            df.loc[index, ambientes] = np.abs(row[ambientes] + (row['diferencia']))\n",
    "            #df.loc[index, ambientes] = np.abs(df.loc[index, ambientes])\n",
    "\n",
    "        else:\n",
    "            print('Sin unidades para ajustar')\n",
    "            pass\n",
    "    \n",
    "    df.drop(columns=['nvos_totales','diferencia'],inplace=True)\n",
    "    \n",
    "    return df"
   ]
  },
  {
   "cell_type": "code",
   "execution_count": 69,
   "metadata": {},
   "outputs": [
    {
     "name": "stdout",
     "output_type": "stream",
     "text": [
      "Agregando unidades faltantes en: 1_amb\n",
      "Eliminando excedente de unidades en: 3_amb\n",
      "Eliminando excedente de unidades en: 4_amb\n",
      "Agregando unidades faltantes en: 5_amb\n",
      "Eliminando excedente de unidades en: 4_amb\n",
      "Agregando unidades faltantes en: 4_amb\n"
     ]
    }
   ],
   "source": [
    "da_ajustado = ajusta_stock(da_completo,totales)"
   ]
  },
  {
   "cell_type": "code",
   "execution_count": 70,
   "metadata": {},
   "outputs": [
    {
     "data": {
      "text/html": [
       "<div>\n",
       "<style scoped>\n",
       "    .dataframe tbody tr th:only-of-type {\n",
       "        vertical-align: middle;\n",
       "    }\n",
       "\n",
       "    .dataframe tbody tr th {\n",
       "        vertical-align: top;\n",
       "    }\n",
       "\n",
       "    .dataframe thead th {\n",
       "        text-align: right;\n",
       "    }\n",
       "</style>\n",
       "<table border=\"1\" class=\"dataframe\">\n",
       "  <thead>\n",
       "    <tr style=\"text-align: right;\">\n",
       "      <th></th>\n",
       "      <th>id</th>\n",
       "      <th>inicia</th>\n",
       "      <th>finaliza</th>\n",
       "      <th>total</th>\n",
       "      <th>0_amb</th>\n",
       "      <th>1_amb</th>\n",
       "      <th>2_amb</th>\n",
       "      <th>3_amb</th>\n",
       "      <th>4_amb</th>\n",
       "      <th>5_amb</th>\n",
       "    </tr>\n",
       "  </thead>\n",
       "  <tbody>\n",
       "    <tr>\n",
       "      <th>0</th>\n",
       "      <td>C1024FDA</td>\n",
       "      <td>2020</td>\n",
       "      <td>2021</td>\n",
       "      <td>31</td>\n",
       "      <td>2</td>\n",
       "      <td>3</td>\n",
       "      <td>3</td>\n",
       "      <td>9</td>\n",
       "      <td>4</td>\n",
       "      <td>10</td>\n",
       "    </tr>\n",
       "    <tr>\n",
       "      <th>1</th>\n",
       "      <td>C1024FDA</td>\n",
       "      <td>2021</td>\n",
       "      <td>2022</td>\n",
       "      <td>32</td>\n",
       "      <td>5</td>\n",
       "      <td>11</td>\n",
       "      <td>1</td>\n",
       "      <td>1</td>\n",
       "      <td>10</td>\n",
       "      <td>4</td>\n",
       "    </tr>\n",
       "    <tr>\n",
       "      <th>2</th>\n",
       "      <td>C1171ABM</td>\n",
       "      <td>2020</td>\n",
       "      <td>2021</td>\n",
       "      <td>40</td>\n",
       "      <td>6</td>\n",
       "      <td>12</td>\n",
       "      <td>2</td>\n",
       "      <td>14</td>\n",
       "      <td>2</td>\n",
       "      <td>4</td>\n",
       "    </tr>\n",
       "    <tr>\n",
       "      <th>3</th>\n",
       "      <td>C1171ABM</td>\n",
       "      <td>2021</td>\n",
       "      <td>2022</td>\n",
       "      <td>41</td>\n",
       "      <td>1</td>\n",
       "      <td>14</td>\n",
       "      <td>2</td>\n",
       "      <td>4</td>\n",
       "      <td>6</td>\n",
       "      <td>14</td>\n",
       "    </tr>\n",
       "    <tr>\n",
       "      <th>4</th>\n",
       "      <td>C1097AAX</td>\n",
       "      <td>2020</td>\n",
       "      <td>2021</td>\n",
       "      <td>43</td>\n",
       "      <td>13</td>\n",
       "      <td>6</td>\n",
       "      <td>1</td>\n",
       "      <td>4</td>\n",
       "      <td>4</td>\n",
       "      <td>15</td>\n",
       "    </tr>\n",
       "    <tr>\n",
       "      <th>5</th>\n",
       "      <td>C1097AAX</td>\n",
       "      <td>2021</td>\n",
       "      <td>2022</td>\n",
       "      <td>43</td>\n",
       "      <td>4</td>\n",
       "      <td>3</td>\n",
       "      <td>2</td>\n",
       "      <td>12</td>\n",
       "      <td>7</td>\n",
       "      <td>15</td>\n",
       "    </tr>\n",
       "  </tbody>\n",
       "</table>\n",
       "</div>"
      ],
      "text/plain": [
       "         id  inicia  finaliza  total  0_amb  1_amb  2_amb  3_amb  4_amb  5_amb\n",
       "0  C1024FDA    2020      2021     31      2      3      3      9      4     10\n",
       "1  C1024FDA    2021      2022     32      5     11      1      1     10      4\n",
       "2  C1171ABM    2020      2021     40      6     12      2     14      2      4\n",
       "3  C1171ABM    2021      2022     41      1     14      2      4      6     14\n",
       "4  C1097AAX    2020      2021     43     13      6      1      4      4     15\n",
       "5  C1097AAX    2021      2022     43      4      3      2     12      7     15"
      ]
     },
     "execution_count": 70,
     "metadata": {},
     "output_type": "execute_result"
    }
   ],
   "source": [
    "da_ajustado"
   ]
  },
  {
   "cell_type": "code",
   "execution_count": 71,
   "metadata": {},
   "outputs": [
    {
     "data": {
      "text/plain": [
       "0    True\n",
       "1    True\n",
       "2    True\n",
       "3    True\n",
       "4    True\n",
       "5    True\n",
       "dtype: bool"
      ]
     },
     "execution_count": 71,
     "metadata": {},
     "output_type": "execute_result"
    }
   ],
   "source": [
    "tipologias = ['0_amb','1_amb','2_amb','3_amb','4_amb','5_amb']\n",
    "da_ajustado['total'] == da_ajustado[tipologias].sum(axis=1)"
   ]
  },
  {
   "cell_type": "code",
   "execution_count": 72,
   "metadata": {},
   "outputs": [],
   "source": [
    "da_ajustado.to_csv('../data/da_ajustado.csv')"
   ]
  }
 ],
 "metadata": {
  "kernelspec": {
   "display_name": "aupy",
   "language": "python",
   "name": "aupy"
  },
  "language_info": {
   "codemirror_mode": {
    "name": "ipython",
    "version": 3
   },
   "file_extension": ".py",
   "mimetype": "text/x-python",
   "name": "python",
   "nbconvert_exporter": "python",
   "pygments_lexer": "ipython3",
   "version": "3.7.6"
  }
 },
 "nbformat": 4,
 "nbformat_minor": 2
}
