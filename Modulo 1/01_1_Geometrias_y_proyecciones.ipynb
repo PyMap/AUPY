{
 "cells": [
  {
   "cell_type": "markdown",
   "metadata": {},
   "source": [
    "# Introducción al manejo de datos geográficos"
   ]
  },
  {
   "cell_type": "markdown",
   "metadata": {},
   "source": [
    "# Geopandas I"
   ]
  },
  {
   "cell_type": "markdown",
   "metadata": {},
   "source": [
    "## Las geometrías y sus atributos"
   ]
  },
  {
   "cell_type": "markdown",
   "metadata": {},
   "source": [
    "Los datos geográficos o espaciales suelen agruparse en dos grandes tipos: `ráster` y `vectorial`. \n",
    "\n",
    "Mientras los primeros se caracterizan por disponer la información en una grilla codificada en pixeles con valores numéricos (comunmente utilizados para el procesaimiento de imágnes satelitales), los últimos se distinguen por la presencia de un conjunto de objetos geográficos de distinto tipo: **líneas, puntos y polígonos**. \n",
    "\n",
    "GeoPandas es una de las librerías de Python más utilizadas para el procesamiento de datos vectoriales. El tema que nos ocupará en este modulo. \n",
    "\n",
    "Una de las claves de esta librería, y por la que se ha vuelto tan popular, es que concentra una amplia gama de funcionalidades. Permite trabajar con esquemas tabulares (Pandas), leer archivos espaciales (Fiona), manipular objetos geográficos (Shapely) y visualizarlos (Matplotlib y Descartes)."
   ]
  },
  {
   "cell_type": "code",
   "execution_count": 1,
   "metadata": {},
   "outputs": [],
   "source": [
    "# Importemos numpy y pandas,\n",
    "import numpy as np\n",
    "import pandas as pd"
   ]
  },
  {
   "cell_type": "code",
   "execution_count": 2,
   "metadata": {},
   "outputs": [],
   "source": [
    "# y carguemos el dataframe que construimos durante la introducción\n",
    "da_completo = pd.read_csv('../data/da_ajustado.csv', index_col=[0])"
   ]
  },
  {
   "cell_type": "code",
   "execution_count": 3,
   "metadata": {},
   "outputs": [
    {
     "data": {
      "text/html": [
       "<div>\n",
       "<style scoped>\n",
       "    .dataframe tbody tr th:only-of-type {\n",
       "        vertical-align: middle;\n",
       "    }\n",
       "\n",
       "    .dataframe tbody tr th {\n",
       "        vertical-align: top;\n",
       "    }\n",
       "\n",
       "    .dataframe thead th {\n",
       "        text-align: right;\n",
       "    }\n",
       "</style>\n",
       "<table border=\"1\" class=\"dataframe\">\n",
       "  <thead>\n",
       "    <tr style=\"text-align: right;\">\n",
       "      <th></th>\n",
       "      <th>id</th>\n",
       "      <th>inicia</th>\n",
       "      <th>finaliza</th>\n",
       "      <th>total</th>\n",
       "      <th>0_amb</th>\n",
       "      <th>1_amb</th>\n",
       "      <th>2_amb</th>\n",
       "      <th>3_amb</th>\n",
       "      <th>4_amb</th>\n",
       "      <th>5_amb</th>\n",
       "    </tr>\n",
       "  </thead>\n",
       "  <tbody>\n",
       "    <tr>\n",
       "      <th>0</th>\n",
       "      <td>C1024FDA</td>\n",
       "      <td>2020</td>\n",
       "      <td>2021</td>\n",
       "      <td>31</td>\n",
       "      <td>2</td>\n",
       "      <td>3</td>\n",
       "      <td>3</td>\n",
       "      <td>9</td>\n",
       "      <td>4</td>\n",
       "      <td>10</td>\n",
       "    </tr>\n",
       "    <tr>\n",
       "      <th>1</th>\n",
       "      <td>C1024FDA</td>\n",
       "      <td>2021</td>\n",
       "      <td>2022</td>\n",
       "      <td>32</td>\n",
       "      <td>5</td>\n",
       "      <td>11</td>\n",
       "      <td>1</td>\n",
       "      <td>1</td>\n",
       "      <td>10</td>\n",
       "      <td>4</td>\n",
       "    </tr>\n",
       "    <tr>\n",
       "      <th>2</th>\n",
       "      <td>C1171ABM</td>\n",
       "      <td>2020</td>\n",
       "      <td>2021</td>\n",
       "      <td>40</td>\n",
       "      <td>6</td>\n",
       "      <td>12</td>\n",
       "      <td>2</td>\n",
       "      <td>14</td>\n",
       "      <td>2</td>\n",
       "      <td>4</td>\n",
       "    </tr>\n",
       "    <tr>\n",
       "      <th>3</th>\n",
       "      <td>C1171ABM</td>\n",
       "      <td>2021</td>\n",
       "      <td>2022</td>\n",
       "      <td>41</td>\n",
       "      <td>1</td>\n",
       "      <td>14</td>\n",
       "      <td>2</td>\n",
       "      <td>4</td>\n",
       "      <td>6</td>\n",
       "      <td>14</td>\n",
       "    </tr>\n",
       "    <tr>\n",
       "      <th>4</th>\n",
       "      <td>C1097AAX</td>\n",
       "      <td>2020</td>\n",
       "      <td>2021</td>\n",
       "      <td>43</td>\n",
       "      <td>13</td>\n",
       "      <td>6</td>\n",
       "      <td>1</td>\n",
       "      <td>4</td>\n",
       "      <td>4</td>\n",
       "      <td>15</td>\n",
       "    </tr>\n",
       "    <tr>\n",
       "      <th>5</th>\n",
       "      <td>C1097AAX</td>\n",
       "      <td>2021</td>\n",
       "      <td>2022</td>\n",
       "      <td>43</td>\n",
       "      <td>4</td>\n",
       "      <td>3</td>\n",
       "      <td>2</td>\n",
       "      <td>12</td>\n",
       "      <td>7</td>\n",
       "      <td>15</td>\n",
       "    </tr>\n",
       "  </tbody>\n",
       "</table>\n",
       "</div>"
      ],
      "text/plain": [
       "         id  inicia  finaliza  total  0_amb  1_amb  2_amb  3_amb  4_amb  5_amb\n",
       "0  C1024FDA    2020      2021     31      2      3      3      9      4     10\n",
       "1  C1024FDA    2021      2022     32      5     11      1      1     10      4\n",
       "2  C1171ABM    2020      2021     40      6     12      2     14      2      4\n",
       "3  C1171ABM    2021      2022     41      1     14      2      4      6     14\n",
       "4  C1097AAX    2020      2021     43     13      6      1      4      4     15\n",
       "5  C1097AAX    2021      2022     43      4      3      2     12      7     15"
      ]
     },
     "execution_count": 3,
     "metadata": {},
     "output_type": "execute_result"
    }
   ],
   "source": [
    "da_completo"
   ]
  },
  {
   "cell_type": "markdown",
   "metadata": {},
   "source": [
    "## Ingresando al mundo de los atributos geo"
   ]
  },
  {
   "cell_type": "markdown",
   "metadata": {},
   "source": [
    "<img align=\"left\" width=\"500\" height=\"125\" src=\"../imagenes/panda_geometrico.png\" style=\"float: left; padding: 0 15px\">\n",
    "Para ponerlo en términos extremadamente sencillos, podríamos decir que la única diferencia entre pandas y geopandas es la posibilidad de manipular geometrías. Las nociones de Serie y DataFrame sobre las que estuvimos trabajando no desaparecen. Este esquema de manejo de datos (columnas, filas, indexación, etc.) se mantiene, aunque incorporando un conjunto de métodos que sirven para operar exclusivamente sobre el principal atributo de un dato espacial: su `geometría`.\n",
    "\n",
    "Esta no es otra cosa que una columna más de nuestra tabla de datos, una Serie dentro de un DataFrame...o mejor dicho, una `GeoSerie` de un `GeoDataFrame`. Con ella podremos realizar, de forma muy sencilla, operaciones tales como calcular el área de un polígono, estimar la distancia de un punto a otro o cambiar de un sistema de proyección de coordenadas a otro. "
   ]
  },
  {
   "cell_type": "markdown",
   "metadata": {},
   "source": [
    "### GeoSeries de qué? "
   ]
  },
  {
   "cell_type": "markdown",
   "metadata": {},
   "source": [
    "Como acabamos de decir, ['Geopandas'](https://geopandas.org/) extiende las funcionalidades de pandas, habiliatando un conjunto de operaciones nuevas sobre **objetos geométricos**. Estas operaciones, espaciales o geométricas, son posible gracias a ['Shapely'](https://shapely.readthedocs.io/en/latest/manual.html), el paquete con el que dispone geopandas para realizar [manipulaciones geométricas](https://geopandas.org/geometric_manipulations.html). \n",
    "\n",
    "Los objetos de `Shapely` que componen una GeoSerie son fundamentalmente tres. Puntos, líneas y polígonos. Cada uno de ellos, implementado a partir de una clase propia: *`Point`, `LineString/LinearRing`* y *`Polygon`* respectivamente. También es importante aclarar que `Shapely` cuenta con clases específicas para operar sobre conjuntos o colecciones de cada uno de estos objetos. Así es que también contamos con las clases de tipo *`MultiPoint`, `MultiLineString` y `MultiPloygon`*. \n",
    "\n",
    "Cada uno de estos tres objetos se encuentra asociado con un conjunto de puntos en el plano: en su interior, sus límites y por fuera de sí mismo. Veamos un poco qué significa esto para cada uno de ellos. "
   ]
  },
  {
   "cell_type": "markdown",
   "metadata": {},
   "source": [
    "> **1. Puntos**\n",
    "\n",
    "La clase `Point` posee una dimensión topológica de cero. Esto quiere decir, que no contiene puntos en sus conjuntos interiores y exteriores y tampoco en sus límites. En otras palabras, un punto no es más que un par de coordenadas en el espacio. Una latitud y una longitud. \n",
    "\n",
    "Para graficarlo, volvamos a nuestro dataframe de desarrollos inmobiliarios. Supongamos ahora, que la ubicación de los desarrollos es un atributo indispensable para nuestro análisis. Ya sea porque se quiere cubrir determinado tipo de demanda o porque, simplemente, se busca que los desarrollos se distribuyan de manera homogénea en el territorio."
   ]
  },
  {
   "cell_type": "markdown",
   "metadata": {},
   "source": [
    "Primero, geolocalicemos los desarrollos que construimos en los ejemplos anteriores. Para ello, utilizaremos una librería de Denis Carriere conocida como [`geocoder`](https://geocoder.readthedocs.io/). Esta se caracteriza por compilar distintos servicios de geolocalización tales como Google y OpenStreetMap y disponibilizarlos a partir de queries muy simples. Este paquete ya se encuentra en los requirements, por eso sólo vamos importarlo. Si querés saber un poco más sobre la instalación y aspectos generales de esta librería podes consultar [acá](https://geocoder.readthedocs.io/api.html#install)."
   ]
  },
  {
   "cell_type": "code",
   "execution_count": 4,
   "metadata": {},
   "outputs": [],
   "source": [
    "# Si tenés una API key podés ir por este camino...\n",
    "import geocoder"
   ]
  },
  {
   "cell_type": "code",
   "execution_count": 5,
   "metadata": {},
   "outputs": [],
   "source": [
    "# Construimos una función para obtener las coordenadas geográficas a partir del código postal\n",
    "def postal_a_latlng(x):\n",
    "    '''\n",
    "    Obtiene la latitud y longitud a partir \n",
    "    de un código postal.\n",
    "    ...\n",
    "    Argumentos:\n",
    "        x(str): Primera letra y 4 dígitos del código completo.\n",
    "    Devuelve:\n",
    "        diccionario: latitud y longitud de la consulta \n",
    "    \n",
    "    '''\n",
    "    \n",
    "    api_key = 'Api Key' \n",
    "    resultado = geocoder.google('{}, Ciudad de Buenos Aires'.format(x[:5]), \n",
    "                                key = api_key,\n",
    "                                method = 'places')\n",
    "    \n",
    "    return {'lat': resultado.lat, \n",
    "            'lng': resultado.lng}  "
   ]
  },
  {
   "cell_type": "markdown",
   "metadata": {},
   "source": [
    "Y ahora, refrescemos un poco lo que vimos en la sección anterior aplicando los métodos que vimos para operar sobre Seried de un DataFrame..."
   ]
  },
  {
   "cell_type": "code",
   "execution_count": 6,
   "metadata": {},
   "outputs": [
    {
     "data": {
      "text/plain": [
       "0    {'lat': -34.5873759, 'lng': -58.38717819999999}\n",
       "1    {'lat': -34.5873759, 'lng': -58.38717819999999}\n",
       "2           {'lat': -34.6025084, 'lng': -58.4115493}\n",
       "3           {'lat': -34.6025084, 'lng': -58.4115493}\n",
       "4           {'lat': -34.6152298, 'lng': -58.3819811}\n",
       "5           {'lat': -34.6152298, 'lng': -58.3819811}\n",
       "Name: id, dtype: object"
      ]
     },
     "execution_count": 6,
     "metadata": {},
     "output_type": "execute_result"
    }
   ],
   "source": [
    "# con map\n",
    "da_completo['id'].map(postal_a_latlng)"
   ]
  },
  {
   "cell_type": "code",
   "execution_count": 7,
   "metadata": {},
   "outputs": [
    {
     "data": {
      "text/plain": [
       "0    {'lat': -34.5873759, 'lng': -58.38717819999999}\n",
       "1    {'lat': -34.5873759, 'lng': -58.38717819999999}\n",
       "2           {'lat': -34.6025084, 'lng': -58.4115493}\n",
       "3           {'lat': -34.6025084, 'lng': -58.4115493}\n",
       "4           {'lat': -34.6152298, 'lng': -58.3819811}\n",
       "5           {'lat': -34.6152298, 'lng': -58.3819811}\n",
       "Name: id, dtype: object"
      ]
     },
     "execution_count": 7,
     "metadata": {},
     "output_type": "execute_result"
    }
   ],
   "source": [
    "# con apply\n",
    "da_completo['id'].apply(postal_a_latlng)"
   ]
  },
  {
   "cell_type": "code",
   "execution_count": 8,
   "metadata": {},
   "outputs": [
    {
     "data": {
      "text/plain": [
       "0    {'lat': -34.5873759, 'lng': -58.38717819999999}\n",
       "1    {'lat': -34.5873759, 'lng': -58.38717819999999}\n",
       "2           {'lat': -34.6025084, 'lng': -58.4115493}\n",
       "3           {'lat': -34.6025084, 'lng': -58.4115493}\n",
       "4           {'lat': -34.6152298, 'lng': -58.3819811}\n",
       "5           {'lat': -34.6152298, 'lng': -58.3819811}\n",
       "Name: id, dtype: object"
      ]
     },
     "execution_count": 8,
     "metadata": {},
     "output_type": "execute_result"
    }
   ],
   "source": [
    "# con apply y una función anónima\n",
    "da_completo['id'].apply(lambda x: postal_a_latlng(x))"
   ]
  },
  {
   "cell_type": "code",
   "execution_count": 9,
   "metadata": {},
   "outputs": [],
   "source": [
    "# Vayamos con la última opción y llamemos a cada llave de nuestro diccionario.\n",
    "latitud = da_completo['id'].apply(lambda x: postal_a_latlng(x)['lat'])"
   ]
  },
  {
   "cell_type": "code",
   "execution_count": 10,
   "metadata": {},
   "outputs": [
    {
     "data": {
      "text/plain": [
       "0   -34.587376\n",
       "1   -34.587376\n",
       "2   -34.602508\n",
       "3   -34.602508\n",
       "4   -34.615230\n",
       "5   -34.615230\n",
       "Name: id, dtype: float64"
      ]
     },
     "execution_count": 10,
     "metadata": {},
     "output_type": "execute_result"
    }
   ],
   "source": [
    "latitud"
   ]
  },
  {
   "cell_type": "code",
   "execution_count": 11,
   "metadata": {},
   "outputs": [],
   "source": [
    "# Ahora sí, ya tenemos la latitud de los desarrollos en nuestro DataFrame.\n",
    "da_completo['latitud'] = latitud"
   ]
  },
  {
   "cell_type": "code",
   "execution_count": 12,
   "metadata": {},
   "outputs": [],
   "source": [
    "# Vamos por la longitud.\n",
    "longitud = da_completo['id'].apply(lambda x: postal_a_latlng(x)['lng'])"
   ]
  },
  {
   "cell_type": "code",
   "execution_count": 13,
   "metadata": {},
   "outputs": [
    {
     "data": {
      "text/plain": [
       "0   -58.387178\n",
       "1   -58.387178\n",
       "2   -58.411549\n",
       "3   -58.411549\n",
       "4   -58.381981\n",
       "5   -58.381981\n",
       "Name: id, dtype: float64"
      ]
     },
     "execution_count": 13,
     "metadata": {},
     "output_type": "execute_result"
    }
   ],
   "source": [
    "longitud"
   ]
  },
  {
   "cell_type": "code",
   "execution_count": 14,
   "metadata": {},
   "outputs": [],
   "source": [
    "# Listo, ya tenemos nuestros desarrollos con sus respectivas coordenadas.\n",
    "da_completo['longitud'] = longitud"
   ]
  },
  {
   "cell_type": "code",
   "execution_count": 15,
   "metadata": {},
   "outputs": [
    {
     "data": {
      "text/html": [
       "<div>\n",
       "<style scoped>\n",
       "    .dataframe tbody tr th:only-of-type {\n",
       "        vertical-align: middle;\n",
       "    }\n",
       "\n",
       "    .dataframe tbody tr th {\n",
       "        vertical-align: top;\n",
       "    }\n",
       "\n",
       "    .dataframe thead th {\n",
       "        text-align: right;\n",
       "    }\n",
       "</style>\n",
       "<table border=\"1\" class=\"dataframe\">\n",
       "  <thead>\n",
       "    <tr style=\"text-align: right;\">\n",
       "      <th></th>\n",
       "      <th>id</th>\n",
       "      <th>inicia</th>\n",
       "      <th>finaliza</th>\n",
       "      <th>total</th>\n",
       "      <th>0_amb</th>\n",
       "      <th>1_amb</th>\n",
       "      <th>2_amb</th>\n",
       "      <th>3_amb</th>\n",
       "      <th>4_amb</th>\n",
       "      <th>5_amb</th>\n",
       "      <th>latitud</th>\n",
       "      <th>longitud</th>\n",
       "    </tr>\n",
       "  </thead>\n",
       "  <tbody>\n",
       "    <tr>\n",
       "      <th>0</th>\n",
       "      <td>C1024FDA</td>\n",
       "      <td>2020</td>\n",
       "      <td>2021</td>\n",
       "      <td>31</td>\n",
       "      <td>2</td>\n",
       "      <td>3</td>\n",
       "      <td>3</td>\n",
       "      <td>9</td>\n",
       "      <td>4</td>\n",
       "      <td>10</td>\n",
       "      <td>-34.587376</td>\n",
       "      <td>-58.387178</td>\n",
       "    </tr>\n",
       "    <tr>\n",
       "      <th>1</th>\n",
       "      <td>C1024FDA</td>\n",
       "      <td>2021</td>\n",
       "      <td>2022</td>\n",
       "      <td>32</td>\n",
       "      <td>5</td>\n",
       "      <td>11</td>\n",
       "      <td>1</td>\n",
       "      <td>1</td>\n",
       "      <td>10</td>\n",
       "      <td>4</td>\n",
       "      <td>-34.587376</td>\n",
       "      <td>-58.387178</td>\n",
       "    </tr>\n",
       "    <tr>\n",
       "      <th>2</th>\n",
       "      <td>C1171ABM</td>\n",
       "      <td>2020</td>\n",
       "      <td>2021</td>\n",
       "      <td>40</td>\n",
       "      <td>6</td>\n",
       "      <td>12</td>\n",
       "      <td>2</td>\n",
       "      <td>14</td>\n",
       "      <td>2</td>\n",
       "      <td>4</td>\n",
       "      <td>-34.602508</td>\n",
       "      <td>-58.411549</td>\n",
       "    </tr>\n",
       "    <tr>\n",
       "      <th>3</th>\n",
       "      <td>C1171ABM</td>\n",
       "      <td>2021</td>\n",
       "      <td>2022</td>\n",
       "      <td>41</td>\n",
       "      <td>1</td>\n",
       "      <td>14</td>\n",
       "      <td>2</td>\n",
       "      <td>4</td>\n",
       "      <td>6</td>\n",
       "      <td>14</td>\n",
       "      <td>-34.602508</td>\n",
       "      <td>-58.411549</td>\n",
       "    </tr>\n",
       "    <tr>\n",
       "      <th>4</th>\n",
       "      <td>C1097AAX</td>\n",
       "      <td>2020</td>\n",
       "      <td>2021</td>\n",
       "      <td>43</td>\n",
       "      <td>13</td>\n",
       "      <td>6</td>\n",
       "      <td>1</td>\n",
       "      <td>4</td>\n",
       "      <td>4</td>\n",
       "      <td>15</td>\n",
       "      <td>-34.615230</td>\n",
       "      <td>-58.381981</td>\n",
       "    </tr>\n",
       "    <tr>\n",
       "      <th>5</th>\n",
       "      <td>C1097AAX</td>\n",
       "      <td>2021</td>\n",
       "      <td>2022</td>\n",
       "      <td>43</td>\n",
       "      <td>4</td>\n",
       "      <td>3</td>\n",
       "      <td>2</td>\n",
       "      <td>12</td>\n",
       "      <td>7</td>\n",
       "      <td>15</td>\n",
       "      <td>-34.615230</td>\n",
       "      <td>-58.381981</td>\n",
       "    </tr>\n",
       "  </tbody>\n",
       "</table>\n",
       "</div>"
      ],
      "text/plain": [
       "         id  inicia  finaliza  total  0_amb  1_amb  2_amb  3_amb  4_amb  \\\n",
       "0  C1024FDA    2020      2021     31      2      3      3      9      4   \n",
       "1  C1024FDA    2021      2022     32      5     11      1      1     10   \n",
       "2  C1171ABM    2020      2021     40      6     12      2     14      2   \n",
       "3  C1171ABM    2021      2022     41      1     14      2      4      6   \n",
       "4  C1097AAX    2020      2021     43     13      6      1      4      4   \n",
       "5  C1097AAX    2021      2022     43      4      3      2     12      7   \n",
       "\n",
       "   5_amb    latitud   longitud  \n",
       "0     10 -34.587376 -58.387178  \n",
       "1      4 -34.587376 -58.387178  \n",
       "2      4 -34.602508 -58.411549  \n",
       "3     14 -34.602508 -58.411549  \n",
       "4     15 -34.615230 -58.381981  \n",
       "5     15 -34.615230 -58.381981  "
      ]
     },
     "execution_count": 15,
     "metadata": {},
     "output_type": "execute_result"
    }
   ],
   "source": [
    "da_completo"
   ]
  },
  {
   "cell_type": "markdown",
   "metadata": {},
   "source": [
    "Si no tenés una API key, **acá tenés el dataframe con sus coordenadas geográficas**. Y si querés investigar cómo gestionar una, acá algo de [documentación](https://developers.google.com/maps/documentation/geocoding/start?hl=es-419&utm_source=google&utm_medium=cpc&utm_campaign=FY18-Q2-global-demandgen-paidsearchonnetworkhouseads-cs-maps_contactsal_saf&utm_content=text-ad-none-none-DEV_c-CRE_436364850901-ADGP_Hybrid+%7C+AW+SEM+%7C+SKWS+~+Places+%7C+BMM+%7C+Geocoding+API-KWID_43700051583007815-kwd-301485308042-userloc_1000073&utm_term=KW_%2Bgeocoding%20%2Bapi-ST_%2Bgeocoding+%2Bapi&gclid=Cj0KCQjwhIP6BRCMARIsALu9LfnX1Hyo4k_frqSDsSNh3UmkEEeJ4d8S02SLjZNo65LmdSFfu4ZH76saAog5EALw_wcB) para que investigues cómo hacerlo."
   ]
  },
  {
   "cell_type": "code",
   "execution_count": 16,
   "metadata": {},
   "outputs": [],
   "source": [
    "#da_completo.to_csv('../data/da_completo.csv')"
   ]
  },
  {
   "cell_type": "code",
   "execution_count": 17,
   "metadata": {},
   "outputs": [],
   "source": [
    "# DataFrame de desarrollos inmobiliarios con sus coordenadas geográficas\n",
    "#da_completo = pd.read_csv('data/da_completo.csv')"
   ]
  },
  {
   "cell_type": "code",
   "execution_count": 18,
   "metadata": {},
   "outputs": [],
   "source": [
    "#da_completo.drop(columns='Unnamed: 0', inplace=True)"
   ]
  },
  {
   "cell_type": "markdown",
   "metadata": {},
   "source": [
    "Ahora, tenemos que convertir nuestro DataFrame en un GeoDataFrame de puntos. A continuación veremos que no hay una sola forma de hacerlo. "
   ]
  },
  {
   "cell_type": "code",
   "execution_count": 19,
   "metadata": {},
   "outputs": [
    {
     "name": "stdout",
     "output_type": "stream",
     "text": [
      "geopandas version:0.7.0\n"
     ]
    }
   ],
   "source": [
    "# empecemos por importar geopandas\n",
    "import geopandas as gpd\n",
    "print('geopandas version:' + gpd.__version__)"
   ]
  },
  {
   "cell_type": "code",
   "execution_count": 20,
   "metadata": {},
   "outputs": [],
   "source": [
    "# así se puede explorar cómo utilizar clases o métodos. Otra, es el shortcut 'shift+tab*2' dentro del paréntesis.\n",
    "#help(gpd.GeoDataFrame())"
   ]
  },
  {
   "cell_type": "code",
   "execution_count": 21,
   "metadata": {},
   "outputs": [],
   "source": [
    "# creemos el geodataframe\n",
    "gdf = gpd.GeoDataFrame(da_completo, geometry=gpd.points_from_xy(da_completo.longitud, \n",
    "                                                                da_completo.latitud))"
   ]
  },
  {
   "cell_type": "code",
   "execution_count": 22,
   "metadata": {},
   "outputs": [
    {
     "data": {
      "text/html": [
       "<div>\n",
       "<style scoped>\n",
       "    .dataframe tbody tr th:only-of-type {\n",
       "        vertical-align: middle;\n",
       "    }\n",
       "\n",
       "    .dataframe tbody tr th {\n",
       "        vertical-align: top;\n",
       "    }\n",
       "\n",
       "    .dataframe thead th {\n",
       "        text-align: right;\n",
       "    }\n",
       "</style>\n",
       "<table border=\"1\" class=\"dataframe\">\n",
       "  <thead>\n",
       "    <tr style=\"text-align: right;\">\n",
       "      <th></th>\n",
       "      <th>id</th>\n",
       "      <th>inicia</th>\n",
       "      <th>finaliza</th>\n",
       "      <th>total</th>\n",
       "      <th>0_amb</th>\n",
       "      <th>1_amb</th>\n",
       "      <th>2_amb</th>\n",
       "      <th>3_amb</th>\n",
       "      <th>4_amb</th>\n",
       "      <th>5_amb</th>\n",
       "      <th>latitud</th>\n",
       "      <th>longitud</th>\n",
       "      <th>geometry</th>\n",
       "    </tr>\n",
       "  </thead>\n",
       "  <tbody>\n",
       "    <tr>\n",
       "      <th>0</th>\n",
       "      <td>C1024FDA</td>\n",
       "      <td>2020</td>\n",
       "      <td>2021</td>\n",
       "      <td>31</td>\n",
       "      <td>2</td>\n",
       "      <td>3</td>\n",
       "      <td>3</td>\n",
       "      <td>9</td>\n",
       "      <td>4</td>\n",
       "      <td>10</td>\n",
       "      <td>-34.587376</td>\n",
       "      <td>-58.387178</td>\n",
       "      <td>POINT (-58.38718 -34.58738)</td>\n",
       "    </tr>\n",
       "    <tr>\n",
       "      <th>1</th>\n",
       "      <td>C1024FDA</td>\n",
       "      <td>2021</td>\n",
       "      <td>2022</td>\n",
       "      <td>32</td>\n",
       "      <td>5</td>\n",
       "      <td>11</td>\n",
       "      <td>1</td>\n",
       "      <td>1</td>\n",
       "      <td>10</td>\n",
       "      <td>4</td>\n",
       "      <td>-34.587376</td>\n",
       "      <td>-58.387178</td>\n",
       "      <td>POINT (-58.38718 -34.58738)</td>\n",
       "    </tr>\n",
       "    <tr>\n",
       "      <th>2</th>\n",
       "      <td>C1171ABM</td>\n",
       "      <td>2020</td>\n",
       "      <td>2021</td>\n",
       "      <td>40</td>\n",
       "      <td>6</td>\n",
       "      <td>12</td>\n",
       "      <td>2</td>\n",
       "      <td>14</td>\n",
       "      <td>2</td>\n",
       "      <td>4</td>\n",
       "      <td>-34.602508</td>\n",
       "      <td>-58.411549</td>\n",
       "      <td>POINT (-58.41155 -34.60251)</td>\n",
       "    </tr>\n",
       "    <tr>\n",
       "      <th>3</th>\n",
       "      <td>C1171ABM</td>\n",
       "      <td>2021</td>\n",
       "      <td>2022</td>\n",
       "      <td>41</td>\n",
       "      <td>1</td>\n",
       "      <td>14</td>\n",
       "      <td>2</td>\n",
       "      <td>4</td>\n",
       "      <td>6</td>\n",
       "      <td>14</td>\n",
       "      <td>-34.602508</td>\n",
       "      <td>-58.411549</td>\n",
       "      <td>POINT (-58.41155 -34.60251)</td>\n",
       "    </tr>\n",
       "    <tr>\n",
       "      <th>4</th>\n",
       "      <td>C1097AAX</td>\n",
       "      <td>2020</td>\n",
       "      <td>2021</td>\n",
       "      <td>43</td>\n",
       "      <td>13</td>\n",
       "      <td>6</td>\n",
       "      <td>1</td>\n",
       "      <td>4</td>\n",
       "      <td>4</td>\n",
       "      <td>15</td>\n",
       "      <td>-34.615230</td>\n",
       "      <td>-58.381981</td>\n",
       "      <td>POINT (-58.38198 -34.61523)</td>\n",
       "    </tr>\n",
       "    <tr>\n",
       "      <th>5</th>\n",
       "      <td>C1097AAX</td>\n",
       "      <td>2021</td>\n",
       "      <td>2022</td>\n",
       "      <td>43</td>\n",
       "      <td>4</td>\n",
       "      <td>3</td>\n",
       "      <td>2</td>\n",
       "      <td>12</td>\n",
       "      <td>7</td>\n",
       "      <td>15</td>\n",
       "      <td>-34.615230</td>\n",
       "      <td>-58.381981</td>\n",
       "      <td>POINT (-58.38198 -34.61523)</td>\n",
       "    </tr>\n",
       "  </tbody>\n",
       "</table>\n",
       "</div>"
      ],
      "text/plain": [
       "         id  inicia  finaliza  total  0_amb  1_amb  2_amb  3_amb  4_amb  \\\n",
       "0  C1024FDA    2020      2021     31      2      3      3      9      4   \n",
       "1  C1024FDA    2021      2022     32      5     11      1      1     10   \n",
       "2  C1171ABM    2020      2021     40      6     12      2     14      2   \n",
       "3  C1171ABM    2021      2022     41      1     14      2      4      6   \n",
       "4  C1097AAX    2020      2021     43     13      6      1      4      4   \n",
       "5  C1097AAX    2021      2022     43      4      3      2     12      7   \n",
       "\n",
       "   5_amb    latitud   longitud                     geometry  \n",
       "0     10 -34.587376 -58.387178  POINT (-58.38718 -34.58738)  \n",
       "1      4 -34.587376 -58.387178  POINT (-58.38718 -34.58738)  \n",
       "2      4 -34.602508 -58.411549  POINT (-58.41155 -34.60251)  \n",
       "3     14 -34.602508 -58.411549  POINT (-58.41155 -34.60251)  \n",
       "4     15 -34.615230 -58.381981  POINT (-58.38198 -34.61523)  \n",
       "5     15 -34.615230 -58.381981  POINT (-58.38198 -34.61523)  "
      ]
     },
     "execution_count": 22,
     "metadata": {},
     "output_type": "execute_result"
    }
   ],
   "source": [
    "# ya podemos ver nuestra columns de geometry\n",
    "gdf"
   ]
  },
  {
   "cell_type": "code",
   "execution_count": 23,
   "metadata": {},
   "outputs": [
    {
     "data": {
      "image/png": "[encoded data removed]",
      "text/plain": [
       "<Figure size 432x288 with 1 Axes>"
      ]
     },
     "metadata": {
      "needs_background": "light"
     },
     "output_type": "display_data"
    }
   ],
   "source": [
    "# El obtejo GeoDataFrame cuenta con un método de ploteo. Así se hace bastante más ágil su visualización!\n",
    "gdf.plot();"
   ]
  },
  {
   "cell_type": "code",
   "execution_count": 24,
   "metadata": {},
   "outputs": [
    {
     "name": "stdout",
     "output_type": "stream",
     "text": [
      "None\n"
     ]
    }
   ],
   "source": [
    "# Veamos cuál es nuestro sistema de coordenadas de referencia. Por el momento no definimos ninguno!\n",
    "print(gdf.crs)"
   ]
  },
  {
   "cell_type": "markdown",
   "metadata": {},
   "source": [
    "Lo que básicamente hace `.point_from_xy()` es crear una lista de objetos `Shapely` de clase `Point` a partir de las coordenadas geográficas que le pasamos para crear la geometría. Lo mismo obtendríamos si aplicaramos el método `Point` de `Shapely` a partir de una lista por comprensión, de esta manera:"
   ]
  },
  {
   "cell_type": "code",
   "execution_count": 25,
   "metadata": {},
   "outputs": [],
   "source": [
    "# importamos el objeto Point de Shapely\n",
    "from shapely.geometry import Point"
   ]
  },
  {
   "cell_type": "code",
   "execution_count": 26,
   "metadata": {},
   "outputs": [
    {
     "data": {
      "text/plain": [
       "[<shapely.geometry.point.Point at 0x7f11a41aeba8>,\n",
       " <shapely.geometry.point.Point at 0x7f11a41ae710>,\n",
       " <shapely.geometry.point.Point at 0x7f11a41aec50>,\n",
       " <shapely.geometry.point.Point at 0x7f11a41aee80>,\n",
       " <shapely.geometry.point.Point at 0x7f11a41ae780>,\n",
       " <shapely.geometry.point.Point at 0x7f11a41ae7b8>]"
      ]
     },
     "execution_count": 26,
     "metadata": {},
     "output_type": "execute_result"
    }
   ],
   "source": [
    "# desempacamos lo que sucedía dentro de .point_from_xy() usando una lista por comprensión y vemos que...\n",
    "[Point(x, y) for x, y in zip(da_completo.longitud, da_completo.latitud)]"
   ]
  },
  {
   "cell_type": "markdown",
   "metadata": {},
   "source": [
    "Esto equivaldría al camino largo, por decirlo de alguna forma. Veamos cómo lo integramos para que nuestro DataFrame se convierta en Geo."
   ]
  },
  {
   "cell_type": "code",
   "execution_count": 27,
   "metadata": {},
   "outputs": [],
   "source": [
    "# Creamos la columna geometría y la agregamos al dataframe\n",
    "geometría = [Point(x, y) for x,y in zip(da_completo.longitud, da_completo.latitud)]"
   ]
  },
  {
   "cell_type": "code",
   "execution_count": 28,
   "metadata": {},
   "outputs": [],
   "source": [
    "# Definimos el sistema de coordenadas\n",
    "crs=\"EPSG:4326\"\n",
    "\n",
    "# Creamos el GeoDataFrame\n",
    "gda_completo = gpd.GeoDataFrame(da_completo, crs=crs, geometry=geometría)"
   ]
  },
  {
   "cell_type": "code",
   "execution_count": 29,
   "metadata": {},
   "outputs": [
    {
     "data": {
      "text/html": [
       "<div>\n",
       "<style scoped>\n",
       "    .dataframe tbody tr th:only-of-type {\n",
       "        vertical-align: middle;\n",
       "    }\n",
       "\n",
       "    .dataframe tbody tr th {\n",
       "        vertical-align: top;\n",
       "    }\n",
       "\n",
       "    .dataframe thead th {\n",
       "        text-align: right;\n",
       "    }\n",
       "</style>\n",
       "<table border=\"1\" class=\"dataframe\">\n",
       "  <thead>\n",
       "    <tr style=\"text-align: right;\">\n",
       "      <th></th>\n",
       "      <th>id</th>\n",
       "      <th>inicia</th>\n",
       "      <th>finaliza</th>\n",
       "      <th>total</th>\n",
       "      <th>0_amb</th>\n",
       "      <th>1_amb</th>\n",
       "      <th>2_amb</th>\n",
       "      <th>3_amb</th>\n",
       "      <th>4_amb</th>\n",
       "      <th>5_amb</th>\n",
       "      <th>latitud</th>\n",
       "      <th>longitud</th>\n",
       "      <th>geometry</th>\n",
       "    </tr>\n",
       "  </thead>\n",
       "  <tbody>\n",
       "    <tr>\n",
       "      <th>0</th>\n",
       "      <td>C1024FDA</td>\n",
       "      <td>2020</td>\n",
       "      <td>2021</td>\n",
       "      <td>31</td>\n",
       "      <td>2</td>\n",
       "      <td>3</td>\n",
       "      <td>3</td>\n",
       "      <td>9</td>\n",
       "      <td>4</td>\n",
       "      <td>10</td>\n",
       "      <td>-34.587376</td>\n",
       "      <td>-58.387178</td>\n",
       "      <td>POINT (-58.38718 -34.58738)</td>\n",
       "    </tr>\n",
       "    <tr>\n",
       "      <th>1</th>\n",
       "      <td>C1024FDA</td>\n",
       "      <td>2021</td>\n",
       "      <td>2022</td>\n",
       "      <td>32</td>\n",
       "      <td>5</td>\n",
       "      <td>11</td>\n",
       "      <td>1</td>\n",
       "      <td>1</td>\n",
       "      <td>10</td>\n",
       "      <td>4</td>\n",
       "      <td>-34.587376</td>\n",
       "      <td>-58.387178</td>\n",
       "      <td>POINT (-58.38718 -34.58738)</td>\n",
       "    </tr>\n",
       "    <tr>\n",
       "      <th>2</th>\n",
       "      <td>C1171ABM</td>\n",
       "      <td>2020</td>\n",
       "      <td>2021</td>\n",
       "      <td>40</td>\n",
       "      <td>6</td>\n",
       "      <td>12</td>\n",
       "      <td>2</td>\n",
       "      <td>14</td>\n",
       "      <td>2</td>\n",
       "      <td>4</td>\n",
       "      <td>-34.602508</td>\n",
       "      <td>-58.411549</td>\n",
       "      <td>POINT (-58.41155 -34.60251)</td>\n",
       "    </tr>\n",
       "    <tr>\n",
       "      <th>3</th>\n",
       "      <td>C1171ABM</td>\n",
       "      <td>2021</td>\n",
       "      <td>2022</td>\n",
       "      <td>41</td>\n",
       "      <td>1</td>\n",
       "      <td>14</td>\n",
       "      <td>2</td>\n",
       "      <td>4</td>\n",
       "      <td>6</td>\n",
       "      <td>14</td>\n",
       "      <td>-34.602508</td>\n",
       "      <td>-58.411549</td>\n",
       "      <td>POINT (-58.41155 -34.60251)</td>\n",
       "    </tr>\n",
       "    <tr>\n",
       "      <th>4</th>\n",
       "      <td>C1097AAX</td>\n",
       "      <td>2020</td>\n",
       "      <td>2021</td>\n",
       "      <td>43</td>\n",
       "      <td>13</td>\n",
       "      <td>6</td>\n",
       "      <td>1</td>\n",
       "      <td>4</td>\n",
       "      <td>4</td>\n",
       "      <td>15</td>\n",
       "      <td>-34.615230</td>\n",
       "      <td>-58.381981</td>\n",
       "      <td>POINT (-58.38198 -34.61523)</td>\n",
       "    </tr>\n",
       "    <tr>\n",
       "      <th>5</th>\n",
       "      <td>C1097AAX</td>\n",
       "      <td>2021</td>\n",
       "      <td>2022</td>\n",
       "      <td>43</td>\n",
       "      <td>4</td>\n",
       "      <td>3</td>\n",
       "      <td>2</td>\n",
       "      <td>12</td>\n",
       "      <td>7</td>\n",
       "      <td>15</td>\n",
       "      <td>-34.615230</td>\n",
       "      <td>-58.381981</td>\n",
       "      <td>POINT (-58.38198 -34.61523)</td>\n",
       "    </tr>\n",
       "  </tbody>\n",
       "</table>\n",
       "</div>"
      ],
      "text/plain": [
       "         id  inicia  finaliza  total  0_amb  1_amb  2_amb  3_amb  4_amb  \\\n",
       "0  C1024FDA    2020      2021     31      2      3      3      9      4   \n",
       "1  C1024FDA    2021      2022     32      5     11      1      1     10   \n",
       "2  C1171ABM    2020      2021     40      6     12      2     14      2   \n",
       "3  C1171ABM    2021      2022     41      1     14      2      4      6   \n",
       "4  C1097AAX    2020      2021     43     13      6      1      4      4   \n",
       "5  C1097AAX    2021      2022     43      4      3      2     12      7   \n",
       "\n",
       "   5_amb    latitud   longitud                     geometry  \n",
       "0     10 -34.587376 -58.387178  POINT (-58.38718 -34.58738)  \n",
       "1      4 -34.587376 -58.387178  POINT (-58.38718 -34.58738)  \n",
       "2      4 -34.602508 -58.411549  POINT (-58.41155 -34.60251)  \n",
       "3     14 -34.602508 -58.411549  POINT (-58.41155 -34.60251)  \n",
       "4     15 -34.615230 -58.381981  POINT (-58.38198 -34.61523)  \n",
       "5     15 -34.615230 -58.381981  POINT (-58.38198 -34.61523)  "
      ]
     },
     "execution_count": 29,
     "metadata": {},
     "output_type": "execute_result"
    }
   ],
   "source": [
    "gda_completo"
   ]
  },
  {
   "cell_type": "markdown",
   "metadata": {},
   "source": [
    "Hagamos un breve paréntesis. No les parece que ahora cobra algo más de sentido lo que dijimos antes? Que los datos espaciales no dejan de ser `datos`? De ahí es que todos los métodos que vimos antes nos pueden ayudar a hacer tareas como las que vimos arriba de manera mucho más ágil y sencilla. Veamos un ejemplo más de esto..."
   ]
  },
  {
   "cell_type": "code",
   "execution_count": 30,
   "metadata": {},
   "outputs": [],
   "source": [
    "# Si tenías una API key, estas variables ya las definiste más arriba.\n",
    "latitud, longitud = da_completo.latitud, da_completo.longitud\n",
    "\n",
    "# Imginemos que tenemos una columna única de coordenadas. \n",
    "coordenadas = zip(latitud, longitud)"
   ]
  },
  {
   "cell_type": "code",
   "execution_count": 31,
   "metadata": {},
   "outputs": [],
   "source": [
    "# Borremos las columnas de latitud y longitud de nuestro gdf.\n",
    "da_completo.drop(columns=['latitud','longitud'], inplace=True)"
   ]
  },
  {
   "cell_type": "code",
   "execution_count": 32,
   "metadata": {},
   "outputs": [
    {
     "data": {
      "text/plain": [
       "[(-34.5873759, -58.38717819999999),\n",
       " (-34.5873759, -58.38717819999999),\n",
       " (-34.6025084, -58.4115493),\n",
       " (-34.6025084, -58.4115493),\n",
       " (-34.6152298, -58.3819811),\n",
       " (-34.6152298, -58.3819811)]"
      ]
     },
     "execution_count": 32,
     "metadata": {},
     "output_type": "execute_result"
    }
   ],
   "source": [
    "# Armemos una lista de tuplas con nuestras latitudes y longitudes para verlo en detalle...\n",
    "list(coordenadas)"
   ]
  },
  {
   "cell_type": "code",
   "execution_count": 33,
   "metadata": {},
   "outputs": [],
   "source": [
    "# recuperemos nuestro GeoDataFrame anterior y seleccionemos todas las filas y sólo algunas columnas\n",
    "gdf = gdf.iloc[:,:10] "
   ]
  },
  {
   "cell_type": "code",
   "execution_count": 34,
   "metadata": {},
   "outputs": [],
   "source": [
    "# ... y creemos una única columna de coordenadas.\n",
    "gdf['coordenadas'] = list(zip(latitud,longitud))"
   ]
  },
  {
   "cell_type": "code",
   "execution_count": 35,
   "metadata": {},
   "outputs": [
    {
     "data": {
      "text/html": [
       "<div>\n",
       "<style scoped>\n",
       "    .dataframe tbody tr th:only-of-type {\n",
       "        vertical-align: middle;\n",
       "    }\n",
       "\n",
       "    .dataframe tbody tr th {\n",
       "        vertical-align: top;\n",
       "    }\n",
       "\n",
       "    .dataframe thead th {\n",
       "        text-align: right;\n",
       "    }\n",
       "</style>\n",
       "<table border=\"1\" class=\"dataframe\">\n",
       "  <thead>\n",
       "    <tr style=\"text-align: right;\">\n",
       "      <th></th>\n",
       "      <th>id</th>\n",
       "      <th>inicia</th>\n",
       "      <th>finaliza</th>\n",
       "      <th>total</th>\n",
       "      <th>0_amb</th>\n",
       "      <th>1_amb</th>\n",
       "      <th>2_amb</th>\n",
       "      <th>3_amb</th>\n",
       "      <th>4_amb</th>\n",
       "      <th>5_amb</th>\n",
       "      <th>coordenadas</th>\n",
       "    </tr>\n",
       "  </thead>\n",
       "  <tbody>\n",
       "    <tr>\n",
       "      <th>0</th>\n",
       "      <td>C1024FDA</td>\n",
       "      <td>2020</td>\n",
       "      <td>2021</td>\n",
       "      <td>31</td>\n",
       "      <td>2</td>\n",
       "      <td>3</td>\n",
       "      <td>3</td>\n",
       "      <td>9</td>\n",
       "      <td>4</td>\n",
       "      <td>10</td>\n",
       "      <td>(-34.5873759, -58.38717819999999)</td>\n",
       "    </tr>\n",
       "    <tr>\n",
       "      <th>1</th>\n",
       "      <td>C1024FDA</td>\n",
       "      <td>2021</td>\n",
       "      <td>2022</td>\n",
       "      <td>32</td>\n",
       "      <td>5</td>\n",
       "      <td>11</td>\n",
       "      <td>1</td>\n",
       "      <td>1</td>\n",
       "      <td>10</td>\n",
       "      <td>4</td>\n",
       "      <td>(-34.5873759, -58.38717819999999)</td>\n",
       "    </tr>\n",
       "    <tr>\n",
       "      <th>2</th>\n",
       "      <td>C1171ABM</td>\n",
       "      <td>2020</td>\n",
       "      <td>2021</td>\n",
       "      <td>40</td>\n",
       "      <td>6</td>\n",
       "      <td>12</td>\n",
       "      <td>2</td>\n",
       "      <td>14</td>\n",
       "      <td>2</td>\n",
       "      <td>4</td>\n",
       "      <td>(-34.6025084, -58.4115493)</td>\n",
       "    </tr>\n",
       "    <tr>\n",
       "      <th>3</th>\n",
       "      <td>C1171ABM</td>\n",
       "      <td>2021</td>\n",
       "      <td>2022</td>\n",
       "      <td>41</td>\n",
       "      <td>1</td>\n",
       "      <td>14</td>\n",
       "      <td>2</td>\n",
       "      <td>4</td>\n",
       "      <td>6</td>\n",
       "      <td>14</td>\n",
       "      <td>(-34.6025084, -58.4115493)</td>\n",
       "    </tr>\n",
       "    <tr>\n",
       "      <th>4</th>\n",
       "      <td>C1097AAX</td>\n",
       "      <td>2020</td>\n",
       "      <td>2021</td>\n",
       "      <td>43</td>\n",
       "      <td>13</td>\n",
       "      <td>6</td>\n",
       "      <td>1</td>\n",
       "      <td>4</td>\n",
       "      <td>4</td>\n",
       "      <td>15</td>\n",
       "      <td>(-34.6152298, -58.3819811)</td>\n",
       "    </tr>\n",
       "    <tr>\n",
       "      <th>5</th>\n",
       "      <td>C1097AAX</td>\n",
       "      <td>2021</td>\n",
       "      <td>2022</td>\n",
       "      <td>43</td>\n",
       "      <td>4</td>\n",
       "      <td>3</td>\n",
       "      <td>2</td>\n",
       "      <td>12</td>\n",
       "      <td>7</td>\n",
       "      <td>15</td>\n",
       "      <td>(-34.6152298, -58.3819811)</td>\n",
       "    </tr>\n",
       "  </tbody>\n",
       "</table>\n",
       "</div>"
      ],
      "text/plain": [
       "         id  inicia  finaliza  total  0_amb  1_amb  2_amb  3_amb  4_amb  \\\n",
       "0  C1024FDA    2020      2021     31      2      3      3      9      4   \n",
       "1  C1024FDA    2021      2022     32      5     11      1      1     10   \n",
       "2  C1171ABM    2020      2021     40      6     12      2     14      2   \n",
       "3  C1171ABM    2021      2022     41      1     14      2      4      6   \n",
       "4  C1097AAX    2020      2021     43     13      6      1      4      4   \n",
       "5  C1097AAX    2021      2022     43      4      3      2     12      7   \n",
       "\n",
       "   5_amb                        coordenadas  \n",
       "0     10  (-34.5873759, -58.38717819999999)  \n",
       "1      4  (-34.5873759, -58.38717819999999)  \n",
       "2      4         (-34.6025084, -58.4115493)  \n",
       "3     14         (-34.6025084, -58.4115493)  \n",
       "4     15         (-34.6152298, -58.3819811)  \n",
       "5     15         (-34.6152298, -58.3819811)  "
      ]
     },
     "execution_count": 35,
     "metadata": {},
     "output_type": "execute_result"
    }
   ],
   "source": [
    "gdf"
   ]
  },
  {
   "cell_type": "code",
   "execution_count": 36,
   "metadata": {},
   "outputs": [
    {
     "data": {
      "text/plain": [
       "0    POINT (-34.5873759 -58.38717819999999)\n",
       "1    POINT (-34.5873759 -58.38717819999999)\n",
       "2           POINT (-34.6025084 -58.4115493)\n",
       "3           POINT (-34.6025084 -58.4115493)\n",
       "4           POINT (-34.6152298 -58.3819811)\n",
       "5           POINT (-34.6152298 -58.3819811)\n",
       "Name: coordenadas, dtype: object"
      ]
     },
     "execution_count": 36,
     "metadata": {},
     "output_type": "execute_result"
    }
   ],
   "source": [
    "gdf['coordenadas'].map(Point)"
   ]
  },
  {
   "cell_type": "code",
   "execution_count": 37,
   "metadata": {},
   "outputs": [],
   "source": [
    "# Ahora, escriban ustedes cómo lo harían con apply y con una función anónima. Les dejo una pista...\n",
    "# gdf['coordenadas'].apply(...)"
   ]
  },
  {
   "cell_type": "code",
   "execution_count": 38,
   "metadata": {},
   "outputs": [],
   "source": [
    "# Crea tu columna de geometría por el camino que más te guste.\n",
    "gdf['geometría'] = gdf['coordenadas'].map(Point)"
   ]
  },
  {
   "cell_type": "code",
   "execution_count": 39,
   "metadata": {},
   "outputs": [],
   "source": [
    "# Borremos las columnas que ya no sirven\n",
    "gdf.drop(columns = ['coordenadas'], inplace=True)"
   ]
  },
  {
   "cell_type": "code",
   "execution_count": 40,
   "metadata": {},
   "outputs": [
    {
     "data": {
      "image/svg+xml": [
       "<svg xmlns=\"http://www.w3.org/2000/svg\" xmlns:xlink=\"http://www.w3.org/1999/xlink\" width=\"100.0\" height=\"100.0\" viewBox=\"-35.5873759 -59.38717819999999 2.0 2.0\" preserveAspectRatio=\"xMinYMin meet\"><g transform=\"matrix(1,0,0,-1,0,-116.77435639999997)\"><circle cx=\"-34.5873759\" cy=\"-58.38717819999999\" r=\"0.06\" stroke=\"#555555\" stroke-width=\"0.02\" fill=\"#66cc99\" opacity=\"0.6\" /></g></svg>"
      ],
      "text/plain": [
       "<shapely.geometry.point.Point at 0x7f11a2123208>"
      ]
     },
     "execution_count": 40,
     "metadata": {},
     "output_type": "execute_result"
    }
   ],
   "source": [
    "# Y acá nuestro primer objeto Shapely de tipo Point. Vemos que se accede de igual forma que a una fila normal.\n",
    "gdf['geometría'][0]"
   ]
  },
  {
   "cell_type": "code",
   "execution_count": 41,
   "metadata": {},
   "outputs": [
    {
     "data": {
      "text/plain": [
       "-58.38717819999999"
      ]
     },
     "execution_count": 41,
     "metadata": {},
     "output_type": "execute_result"
    }
   ],
   "source": [
    "# Y que tiene atributos propios como una latitud\n",
    "gdf['geometría'][0].y"
   ]
  },
  {
   "cell_type": "code",
   "execution_count": 42,
   "metadata": {},
   "outputs": [
    {
     "data": {
      "text/plain": [
       "-34.5873759"
      ]
     },
     "execution_count": 42,
     "metadata": {},
     "output_type": "execute_result"
    }
   ],
   "source": [
    "# ... y una longitud\n",
    "gdf['geometría'][0].x"
   ]
  },
  {
   "cell_type": "markdown",
   "metadata": {},
   "source": [
    "Antes, dejamos pasar por alto algo que es extremadamente importante en el mundo Geo. Recuerdan que cuando agregamos nuestra columna de geometrías por primera vez, mencionamos algo que se llama `sistema de coordenadas de referencia` o `crs`(coordinate reference system, porque lo usamos en inglés). Antes de seguir avanzando, es importante que nos tomemos unos minutos para entender brevemente de qué se trata eso."
   ]
  },
  {
   "cell_type": "markdown",
   "metadata": {},
   "source": [
    "### Proyecciones cartográficas"
   ]
  },
  {
   "cell_type": "markdown",
   "metadata": {},
   "source": [
    "Un mapa es, básicamente, una representación de la Tierra en superficie plana. Para poder establecer esta correspondencia, es que existen los sistemas de proyección cartográfica. Para traducir en un plano una superficie que sigue una forma esférica o elipsoidal. Y para la cual, resulta indispensable llevar a cabo algún tipo de transformación. Empecemos por ver en qué proyección se encuentra nuestro dataframe de desarrollos anuales."
   ]
  },
  {
   "cell_type": "code",
   "execution_count": 43,
   "metadata": {},
   "outputs": [
    {
     "data": {
      "text/plain": [
       "<Geographic 2D CRS: EPSG:4326>\n",
       "Name: WGS 84\n",
       "Axis Info [ellipsoidal]:\n",
       "- Lat[north]: Geodetic latitude (degree)\n",
       "- Lon[east]: Geodetic longitude (degree)\n",
       "Area of Use:\n",
       "- name: World\n",
       "- bounds: (-180.0, -90.0, 180.0, 90.0)\n",
       "Datum: World Geodetic System 1984\n",
       "- Ellipsoid: WGS 84\n",
       "- Prime Meridian: Greenwich"
      ]
     },
     "execution_count": 43,
     "metadata": {},
     "output_type": "execute_result"
    }
   ],
   "source": [
    "# Se acuerdan que definimos un '4326'? El método 'crs' nos permite acceder a la proyección de nuestro objeto.\n",
    "gda_completo.crs"
   ]
  },
  {
   "cell_type": "markdown",
   "metadata": {},
   "source": [
    "Existen distintas maneras de ajustar un elipsoide a un plano. Aunque ninguna de ellas sin generar algún tipo de distorsión en la forma que buscamos adaptar. También por eso es que existen distintas proyecciones. Porque cada una conserva mejor cierto tipo de propiedad antes que otra. Lo que significa que alguna pueda resultar mejor según el lugar y la transformación que deba sufrir el globo para representarlo. Tal es así que algunos lugares desarrollan sus propias proyecciones con los fines de aminorar distorsiones en ángulos, distancias, etc..   \n",
    "\n",
    "Una proyección bastante común es la que se conoce como cilíndrica. Esta lleva los meridianos y los paralelos a un cilindro tangente al ecuador del globo. Sin dudas, la más conocida es la proyección `Mercator`. Esta dispone los meridianos en líneas rectas verticales y los paralelos en líneas rectas horizontales. Ambos perpendiculares entre sí, conformando un sistema de coordenadas de tipo cartesiano. Al ser tangente al ecuador deforma las distancias entre los meridianos, aumentando su ancho real cada vez más a medida que se acerca a los polos (razón por la que no suele ser muy empleada en mapas de latitudes extremas)."
   ]
  },
  {
   "cell_type": "markdown",
   "metadata": {},
   "source": [
    "![ARTMERCATOR](../imagenes/mercator.jpeg)"
   ]
  },
  {
   "cell_type": "markdown",
   "metadata": {},
   "source": [
    "**WARNING**: Esta sección no pretende ahondar mucho más en los sistemas de coordenadas de referencia. Simplemente sobrevolaremos sobre aquellas áreas que nos permitan resolver lo meramente práctico y entender lo fundamental. Si te interesa ir un poco más allá, esta [documentación](https://docs.qgis.org/3.4/en/docs/gentle_gis_introduction/coordinate_reference_systems.html) es un buen punto de inicio para completar conceptos que no abordaremos en este notebook."
   ]
  },
  {
   "cell_type": "markdown",
   "metadata": {},
   "source": [
    "Además de `Mercator` otra proyección cilíndrica es la `Tranverse Mercator` o UTM (de Universal). Este sistema, se caracteriza por apoyar el cilindro de proyección sobre el meridiano (en lugar del ecuador). Una variación de este sistema es el que se utiliza en nuestro territorio nacional: la proyección `Gauss – Krüger`. Esta es una de las reconocidas y utilizadas por el Instituto Geográfico Nacional - IGN. Podés consultar algo más de información en su [web](https://www.ign.gob.ar/NuestrasActividades/ProduccionCartografica/sistemas-de-proyeccion)."
   ]
  },
  {
   "cell_type": "markdown",
   "metadata": {},
   "source": [
    "![NORMAL](../imagenes/mercator_normal.png)"
   ]
  },
  {
   "cell_type": "markdown",
   "metadata": {},
   "source": [
    "![NORMAL](../imagenes/mercator_t.png)"
   ]
  },
  {
   "cell_type": "markdown",
   "metadata": {},
   "source": [
    "Este sistema de proyección divide a la [Argentina en 7 fajas](https://gist.github.com/jkutianski/6532516#file-readme-md) meridianas numeradas de oeste a este. Cada faja de la grilla Gauss-Krüger mide 3° de ancho (longitud) por 34o de largo (latitud) y tiene como propio origen la intersección del Polo Sur con el meridiano central de cada faja. Con el objeto de evitar coordenadas\n",
    "negativas, se le asigna al meridiano central de cada faja el valor arbitrario de 500.000 metros y al Polo Sur el valor cero metros."
   ]
  },
  {
   "cell_type": "markdown",
   "metadata": {},
   "source": [
    "<tr>\n",
    "    <td> <img src=\"../imagenes/gaussKrugerFajas.jpg\" alt=\"Drawing\" style=\"width: 350px;\"/> </td>\n",
    "    <td> <img src=\"../imagenes/fajas_por_provincia.png\" alt=\"Drawing\" style=\"width: 500px;\"/> </td>\n",
    "</tr"
   ]
  },
  {
   "cell_type": "markdown",
   "metadata": {},
   "source": [
    "Si querés explorar un poco más sobre el formato de coordenadas de la Ciudad de Buenos Aires, acá dejamos algo de [documentación](https://recursos-data.buenosaires.gob.ar/ckan2/proyecciones-gkba.pdf) sobre [SR-ORG:7124: Gauss-Kruger Bs.As.](http://spatialreference.org/ref/sr-org/7124/). "
   ]
  },
  {
   "cell_type": "code",
   "execution_count": 44,
   "metadata": {},
   "outputs": [],
   "source": [
    "argentina = gpd.read_file('../carto/provincia.shp')"
   ]
  },
  {
   "cell_type": "markdown",
   "metadata": {},
   "source": [
    "Este archivo que acabamos de cargar se conoce como `shapefile`, algo ampliamente utilizado en el mundo de los SIG de escritorio como `QGIS` y `Arcgis`. Es una archivo de datos espaciales desarrollado por la compañía ESRI y está compuesto, entre otras tantas extensiones, por una lista de vértices de la forma (o `.shp`), una base de datos (o `.dbf`) y una proyección (o `.prj`) - acá dejamos una [descripción más completa](https://www.loc.gov/preservation/digital/formats/fdd/fdd000280.shtml). Así como un `shapefile` tiene un archivo `.prj` para definir su proyección, uno de los atributos principales de un GeoDataFrame es el `crs` o sistema de coordenadas en el que está proyectado. De esto dependerán las unidades en las que hagamos los distintos tipos de operaciones y también la forma en la que se plotearán nuestros resultados."
   ]
  },
  {
   "cell_type": "code",
   "execution_count": 45,
   "metadata": {},
   "outputs": [
    {
     "data": {
      "text/plain": [
       "<Geographic 2D CRS: EPSG:4326>\n",
       "Name: WGS 84\n",
       "Axis Info [ellipsoidal]:\n",
       "- Lat[north]: Geodetic latitude (degree)\n",
       "- Lon[east]: Geodetic longitude (degree)\n",
       "Area of Use:\n",
       "- name: World\n",
       "- bounds: (-180.0, -90.0, 180.0, 90.0)\n",
       "Datum: World Geodetic System 1984\n",
       "- Ellipsoid: WGS 84\n",
       "- Prime Meridian: Greenwich"
      ]
     },
     "execution_count": 45,
     "metadata": {},
     "output_type": "execute_result"
    }
   ],
   "source": [
    "# veamos el CRS de nuestro shape\n",
    "argentina.crs"
   ]
  },
  {
   "cell_type": "code",
   "execution_count": 46,
   "metadata": {},
   "outputs": [
    {
     "data": {
      "image/png": "[encoded data removed]",
      "text/plain": [
       "<Figure size 432x288 with 1 Axes>"
      ]
     },
     "metadata": {
      "needs_background": "light"
     },
     "output_type": "display_data"
    }
   ],
   "source": [
    "# cómo se ve en 4326? Notan cómo está menos estilizado - o más aplanado?\n",
    "argentina.plot();"
   ]
  },
  {
   "cell_type": "code",
   "execution_count": 47,
   "metadata": {},
   "outputs": [
    {
     "data": {
      "image/png": "[encoded data removed]",
      "text/plain": [
       "<Figure size 432x288 with 1 Axes>"
      ]
     },
     "metadata": {
      "needs_background": "light"
     },
     "output_type": "display_data"
    }
   ],
   "source": [
    "# Ahora redefinamos la proyección. La faja 3 es la que se usa para plotear todo el país...\n",
    "argentina.to_crs('epsg:22183').plot();"
   ]
  },
  {
   "cell_type": "code",
   "execution_count": 48,
   "metadata": {},
   "outputs": [],
   "source": [
    "# También podemos redefinir la proyección así\n",
    "argentina.crs = 22183"
   ]
  },
  {
   "cell_type": "code",
   "execution_count": 49,
   "metadata": {},
   "outputs": [
    {
     "data": {
      "text/plain": [
       "<Projected CRS: EPSG:22183>\n",
       "Name: POSGAR 94 / Argentina 3\n",
       "Axis Info [cartesian]:\n",
       "- X[north]: Northing (metre)\n",
       "- Y[east]: Easting (metre)\n",
       "Area of Use:\n",
       "- name: Argentina - 67.5°W to 64.5°W onshore\n",
       "- bounds: (-67.5, -55.11, -64.49, -21.78)\n",
       "Coordinate Operation:\n",
       "- name: Argentina zone 3\n",
       "- method: Transverse Mercator\n",
       "Datum: Posiciones Geodesicas Argentinas 1994\n",
       "- Ellipsoid: WGS 84\n",
       "- Prime Meridian: Greenwich"
      ]
     },
     "execution_count": 49,
     "metadata": {},
     "output_type": "execute_result"
    }
   ],
   "source": [
    "argentina.crs"
   ]
  },
  {
   "cell_type": "code",
   "execution_count": 50,
   "metadata": {},
   "outputs": [],
   "source": [
    "# Otra manera de redefinir nuestro CRS, con el objeto CRS de pyproj\n",
    "from pyproj import CRS"
   ]
  },
  {
   "cell_type": "code",
   "execution_count": 51,
   "metadata": {},
   "outputs": [],
   "source": [
    "# volvamos a WGS84\n",
    "argentina.crs = CRS(4326)"
   ]
  },
  {
   "cell_type": "code",
   "execution_count": 52,
   "metadata": {},
   "outputs": [
    {
     "data": {
      "text/plain": [
       "<Geographic 2D CRS: EPSG:4326>\n",
       "Name: WGS 84\n",
       "Axis Info [ellipsoidal]:\n",
       "- Lat[north]: Geodetic latitude (degree)\n",
       "- Lon[east]: Geodetic longitude (degree)\n",
       "Area of Use:\n",
       "- name: World\n",
       "- bounds: (-180.0, -90.0, 180.0, 90.0)\n",
       "Datum: World Geodetic System 1984\n",
       "- Ellipsoid: WGS 84\n",
       "- Prime Meridian: Greenwich"
      ]
     },
     "execution_count": 52,
     "metadata": {},
     "output_type": "execute_result"
    }
   ],
   "source": [
    "CRS(argentina.crs)"
   ]
  },
  {
   "cell_type": "markdown",
   "metadata": {},
   "source": [
    "Pero qué es esto de `WGS` y `EPSG`? World Geodesic System es, como indican sus siglas en inglés, un sistema de referencia global. Fue desarrollado en la década de los ochenta por la Agencia de Defensa de los Estados Unidos y es ampliamente utilizado en todo el mundo. En Argentina, también se utiliza la Red Geodésica Nacional [POSGAR](https://www.ign.gob.ar/NuestrasActividades/Geodesia/Introduccion). Esto es, un [sistema de referencia local](https://ramsac.ign.gob.ar/posgar07_pg_web/documentos/Informe_sobre_codigos_oficiales_EPSG.pdf).  Y dado que cada país o región puede tener el propio es que existen estandarizaciones como la que disponibiliza la [EPSG](http://www.epsg.org/), una organización que nuclea y distribuye codificaciones para identificar y trabajar con distintos sistemas de referencia."
   ]
  },
  {
   "cell_type": "markdown",
   "metadata": {},
   "source": [
    "Detengámonos un poco más acá. Es importante aclarar que la release de geopandas con la que estamos trabajando en este notebook es la `v0.7.0`. Respecto de las [anteriores](https://github.com/geopandas/geopandas/releases), un cambio importante que se ha incluído en esta es que ahora se utiliza un nuevo tipo de objeto para trabajar con el CRS. Esto significa que la sintáxis para definir el sistema de coordenadas de referencia es algo diferente. Veamos un ejemplo para ilustrarlo..."
   ]
  },
  {
   "cell_type": "code",
   "execution_count": 53,
   "metadata": {},
   "outputs": [
    {
     "name": "stderr",
     "output_type": "stream",
     "text": [
      "/home/federico/CoDeAr/curso-python-data/Clase 7/venv/lib/python3.6/site-packages/pyproj/crs/crs.py:55: FutureWarning: '+init=<authority>:<code>' syntax is deprecated. '<authority>:<code>' is the preferred initialization method. When making the change, be mindful of axis order changes: https://pyproj4.github.io/pyproj/stable/gotchas.html#axis-order-changes-in-proj-6\n",
      "  return _prepare_from_string(\" \".join(pjargs))\n"
     ]
    }
   ],
   "source": [
    "# retomemos nuestro geodataframe de desarrollos y definamos el CRS a partir de un diccionario.\n",
    "gda_completo.crs = {'init': 'epsg:4326'}"
   ]
  },
  {
   "cell_type": "code",
   "execution_count": 54,
   "metadata": {},
   "outputs": [
    {
     "data": {
      "text/plain": [
       "<Geographic 2D CRS: +init=epsg:4326 +type=crs>\n",
       "Name: WGS 84\n",
       "Axis Info [ellipsoidal]:\n",
       "- lon[east]: Longitude (degree)\n",
       "- lat[north]: Latitude (degree)\n",
       "Area of Use:\n",
       "- name: World\n",
       "- bounds: (-180.0, -90.0, 180.0, 90.0)\n",
       "Datum: World Geodetic System 1984\n",
       "- Ellipsoid: WGS 84\n",
       "- Prime Meridian: Greenwich"
      ]
     },
     "execution_count": 54,
     "metadata": {},
     "output_type": "execute_result"
    }
   ],
   "source": [
    "gda_completo.crs"
   ]
  },
  {
   "cell_type": "markdown",
   "metadata": {},
   "source": [
    "Si le prestamos atención al warning, la forma de definir el CRS difiere respecto de las releases anteriores. Y esto sucede básicamente porque la `v0.7.0` ahora trabaja con una versión distinta de `pyproj`(2.x). Antes, el CRS (que recordemos es un atributo dela GeoDataFrame) se guardaba como un `proj4 string` o un diccionario que contenía su información como vimos más arriba. Con esta nueva versión, esto cambia y se trabaja con un nuevo tipo de objeto enriquecido: `pyproj.CRS`.  "
   ]
  },
  {
   "cell_type": "code",
   "execution_count": 55,
   "metadata": {},
   "outputs": [
    {
     "name": "stdout",
     "output_type": "stream",
     "text": [
      "pyproj version:2.5.0\n"
     ]
    }
   ],
   "source": [
    "# Veamos la versión de pyproj\n",
    "import pyproj\n",
    "print('pyproj version:'+pyproj.__version__)"
   ]
  },
  {
   "cell_type": "code",
   "execution_count": 56,
   "metadata": {},
   "outputs": [
    {
     "data": {
      "text/plain": [
       "<Geographic 2D CRS: EPSG:4326>\n",
       "Name: WGS 84\n",
       "Axis Info [ellipsoidal]:\n",
       "- Lat[north]: Geodetic latitude (degree)\n",
       "- Lon[east]: Geodetic longitude (degree)\n",
       "Area of Use:\n",
       "- name: World\n",
       "- bounds: (-180.0, -90.0, 180.0, 90.0)\n",
       "Datum: World Geodetic System 1984\n",
       "- Ellipsoid: WGS 84\n",
       "- Prime Meridian: Greenwich"
      ]
     },
     "execution_count": 56,
     "metadata": {},
     "output_type": "execute_result"
    }
   ],
   "source": [
    "pyproj.CRS(\"EPSG:4326\")"
   ]
  },
  {
   "cell_type": "code",
   "execution_count": 57,
   "metadata": {},
   "outputs": [
    {
     "data": {
      "text/plain": [
       "<Projected CRS: EPSG:31370>\n",
       "Name: Belge 1972 / Belgian Lambert 72\n",
       "Axis Info [cartesian]:\n",
       "- X[east]: Easting (metre)\n",
       "- Y[north]: Northing (metre)\n",
       "Area of Use:\n",
       "- name: Belgium - onshore\n",
       "- bounds: (2.5, 49.5, 6.4, 51.51)\n",
       "Coordinate Operation:\n",
       "- name: Belgian Lambert 72\n",
       "- method: Lambert Conic Conformal (2SP)\n",
       "Datum: Reseau National Belge 1972\n",
       "- Ellipsoid: International 1924\n",
       "- Prime Meridian: Greenwich"
      ]
     },
     "execution_count": 57,
     "metadata": {},
     "output_type": "execute_result"
    }
   ],
   "source": [
    "# Exploremos otros CRS...\n",
    "pyproj.CRS(\"EPSG:31370\")"
   ]
  },
  {
   "cell_type": "markdown",
   "metadata": {},
   "source": [
    "[Pyproj](https://pypi.org/project/pyproj/) es la dependencia de la que dispone Geopandas para trabajar con distintas representaciones geográficas. En la [documentación](https://geopandas.org/projections.html) de la última release y en esta [gitpage](https://jorisvandenbossche.github.io/blog/2020/02/11/geopandas-pyproj-crs/) de uno de sus principales contribuyentes se explican las diferencias y ganancias en esta nueva forma de definir proyecciones respecto de las anteriores. También te dejamos la documentación de [instalación de `Geopandas`](https://geopandas.org/install.html). Te recomendamos que la leas, la instalación de esta librería depende mucho del sistema operativo con el que estés trabajando. Si estás usando un `requirements.txt` para instalar las librerías de esta clase asegurate de tener instalado `shapely`, `pyproj`, `fiona` y `rtree` (ver `installing with pip` warning). "
   ]
  },
  {
   "cell_type": "markdown",
   "metadata": {},
   "source": [
    "> **2. Líneas**"
   ]
  },
  {
   "cell_type": "markdown",
   "metadata": {},
   "source": [
    "El `Punto` no es el único objecto geométrico con el que cuenta `Shapely`. Además, están las `líneas` (en inglés suelen denominarse `curves`). Los distintos objetos geométricos de `Shapely` se implementan a partir de diferentes clases. Así como el punto lo hace a través de `Point`, las líneas utilizan `LineString` y `LinearRing`. Otra cuestión importante es que mientras la clase `Point` se compone de un interior de exactamente un punto, el interior de las líneas está compuesto por infinitos puntos a lo largo de su extensión. También tienen un límite, compuesto por sus dos puntos extremos. Esto hace que la dimensión topológica de una `línea` sea de 1, como se ve a continuación:"
   ]
  },
  {
   "cell_type": "markdown",
   "metadata": {},
   "source": [
    "![DIMENSIONESTOPOLOGICAS](../imagenes/dimensiones.png)"
   ]
  },
  {
   "cell_type": "markdown",
   "metadata": {},
   "source": [
    "Armemos algunas líneas para hacer estos conceptos un poco más tangibles. Supongamos ahora que queremos estudiar la distancia que separa a los tres desarrollos con los que estamos trabajando. Para eso, primero vamos a crear un set de líneas a partir de los puntos trabajados y calcular la longitud de las mismas para aproximarnos a la distancia aérea que los separa. Veamos cómo se hace."
   ]
  },
  {
   "cell_type": "code",
   "execution_count": 58,
   "metadata": {},
   "outputs": [],
   "source": [
    "from shapely.geometry import LineString"
   ]
  },
  {
   "cell_type": "code",
   "execution_count": 59,
   "metadata": {},
   "outputs": [],
   "source": [
    "# recuperemos nuestras longitudes \n",
    "nortng = [gdf.geometría[i].x for i in gdf.geometría.index]"
   ]
  },
  {
   "cell_type": "code",
   "execution_count": 60,
   "metadata": {},
   "outputs": [],
   "source": [
    "nortng = pd.Series(nortng).unique()"
   ]
  },
  {
   "cell_type": "code",
   "execution_count": 61,
   "metadata": {},
   "outputs": [],
   "source": [
    "# ...y nuestras latitudes\n",
    "eastng = [gdf.geometría[i].y for i in gdf.geometría.index]"
   ]
  },
  {
   "cell_type": "code",
   "execution_count": 62,
   "metadata": {},
   "outputs": [],
   "source": [
    "eastng = pd.Series(eastng).unique()"
   ]
  },
  {
   "cell_type": "markdown",
   "metadata": {},
   "source": [
    "Nosotros queremos obtener la línea que va de cada desarrollo a todos sus vecinos. Es decir, queremos ir de un inicio a un fin empezando desde cada uno de los puntos. Por ende, debemos considerar de cuántas posibles maneras estos se pueden combinar. Veámoslo..."
   ]
  },
  {
   "cell_type": "code",
   "execution_count": 63,
   "metadata": {},
   "outputs": [],
   "source": [
    "# Construimos una función para multiplicar un nro desde uno hasta sí mismo. Es decir, el factorial.\n",
    "def factorial(n):\n",
    "    '''\n",
    "    Multiplica un nro. desde 1 hasta sí mismo.\n",
    "    ...\n",
    "    Argumentos:\n",
    "        n(int): entero.\n",
    "    Devuelve:\n",
    "        int: factorial de un numero. \n",
    "    '''\n",
    "    f = 1\n",
    "    for i in range(1, n + 1):\n",
    "        f *= i\n",
    "    return f"
   ]
  },
  {
   "cell_type": "markdown",
   "metadata": {},
   "source": [
    "Como sabemos, existen dos maneras de ordenar objetos. Por un lado las permutaciones y por el otro las combinaciones. A diferencia de la primera, en esta última la forma u orden en la que se agrupan los resultados de eventos dependientes no importa. Por ejemplo, en nuestro caso, la distancia de A a B sería lo mismo que la de B a A. \n",
    "\n",
    "Por eso, para saber de cuántas formas se pueden combinar nuestros puntos de desarrollos utilizaremos la siguiente fórmula: **n!/(n-k)!k!**"
   ]
  },
  {
   "cell_type": "code",
   "execution_count": 64,
   "metadata": {},
   "outputs": [],
   "source": [
    "# Ahora modularizamos todo en una función para conocer de cuántas formas se pueden combinar nuestros puntos.\n",
    "def combinaciones(n):\n",
    "    '''\n",
    "    Estima la cantidad de combinaciones utilizando el factorial de un entero\n",
    "     ...\n",
    "    Argumentos:\n",
    "        n(int): entero.\n",
    "    Devuelve:\n",
    "        int: cntidad de combinaciones\n",
    "    '''    \n",
    "    return factorial(n)/((factorial(n-(n-1)))*(factorial((n-1))))"
   ]
  },
  {
   "cell_type": "code",
   "execution_count": 65,
   "metadata": {},
   "outputs": [
    {
     "name": "stdout",
     "output_type": "stream",
     "text": [
      "Nuestro DataFrame de desarrollos posee 3 combinaciones posibles\n"
     ]
    }
   ],
   "source": [
    "print('Nuestro DataFrame de desarrollos posee %s combinaciones posibles' % int(combinaciones(3)))"
   ]
  },
  {
   "cell_type": "markdown",
   "metadata": {},
   "source": [
    "Es decir, que podemos ir del punto 1 al 2, del 2 al 3 y del 3 al 1. Construyamos ahora un set de tres líneas siguiendo esta regla..."
   ]
  },
  {
   "cell_type": "code",
   "execution_count": 66,
   "metadata": {},
   "outputs": [],
   "source": [
    "def construye_linea(n):\n",
    "    '''\n",
    "    Construye una línea a partir de las coordenadas\n",
    "    de un punto.\n",
    "     ...\n",
    "    Argumentos:\n",
    "        n(int): posición de la coordenada en una lista.\n",
    "    Devuelve:\n",
    "        LineString\n",
    "    '''    \n",
    "    try:\n",
    "        I = Point(eastng[n],nortng[n])\n",
    "        F = Point(eastng[n+1],nortng[n+1])\n",
    "        linea = LineString([I,F])\n",
    "    \n",
    "    except:\n",
    "        I = Point(eastng[n],nortng[n])\n",
    "        F = Point(eastng[0],nortng[0])\n",
    "        linea = LineString([I,F])\n",
    "    \n",
    "    return linea"
   ]
  },
  {
   "cell_type": "markdown",
   "metadata": {},
   "source": [
    "Antes de continuar, acá estamos viendo algo nuevo: las declaraciones `try` y `except`. Sencillamente, lo que sucede dentro de esta función es que primero se ejecuta el código que se encuentra dentro del bloque `try`. De no ocurrir ninguna excepción, el segundo bloque se saltea y la ejecución termina en la declaración `try`. De lo contrario, esta termina en la excepción y continúa en el bloque de código posterior a la palabra reservada `except`. En nuestro ejemplo, como las listas easting y norting tienen sólo 3 elementos, si utilizáramos un número superior como parámetro, el código podría bien devolver un mensaje de error (muchas veces el `except` se utiliza para especificar uno) o simplemente ejecutar algo diferente. En nuestro caso, decidimos utilizar este bloque para determinar que la línea termine en las coordenadas iniciales de nuestras listas. Veamos cómo quedó..."
   ]
  },
  {
   "cell_type": "code",
   "execution_count": 67,
   "metadata": {},
   "outputs": [],
   "source": [
    "tramo1 = construye_linea(0)"
   ]
  },
  {
   "cell_type": "code",
   "execution_count": 68,
   "metadata": {},
   "outputs": [
    {
     "data": {
      "text/plain": [
       "shapely.geometry.linestring.LineString"
      ]
     },
     "execution_count": 68,
     "metadata": {},
     "output_type": "execute_result"
    }
   ],
   "source": [
    "type(tramo1)"
   ]
  },
  {
   "cell_type": "code",
   "execution_count": 69,
   "metadata": {},
   "outputs": [
    {
     "data": {
      "text/plain": [
       "[(-58.38717819999999, -34.5873759), (-58.4115493, -34.6025084)]"
      ]
     },
     "execution_count": 69,
     "metadata": {},
     "output_type": "execute_result"
    }
   ],
   "source": [
    "list(tramo1.coords)"
   ]
  },
  {
   "cell_type": "code",
   "execution_count": 70,
   "metadata": {},
   "outputs": [],
   "source": [
    "geometrias = [construye_linea(i)for i in range(0,3)]   "
   ]
  },
  {
   "cell_type": "code",
   "execution_count": 71,
   "metadata": {},
   "outputs": [
    {
     "data": {
      "text/plain": [
       "[<shapely.geometry.linestring.LineString at 0x7f119e9bff28>,\n",
       " <shapely.geometry.linestring.LineString at 0x7f119e9bf780>,\n",
       " <shapely.geometry.linestring.LineString at 0x7f119e9bfd30>]"
      ]
     },
     "execution_count": 71,
     "metadata": {},
     "output_type": "execute_result"
    }
   ],
   "source": [
    "geometrias"
   ]
  },
  {
   "cell_type": "code",
   "execution_count": 72,
   "metadata": {},
   "outputs": [],
   "source": [
    "ids = gdf.id.unique()"
   ]
  },
  {
   "cell_type": "code",
   "execution_count": 73,
   "metadata": {},
   "outputs": [],
   "source": [
    "gdf_lineas = pd.DataFrame({'id':ids, 'geometria':geometrias})"
   ]
  },
  {
   "cell_type": "code",
   "execution_count": 74,
   "metadata": {},
   "outputs": [
    {
     "data": {
      "text/plain": [
       "pandas.core.frame.DataFrame"
      ]
     },
     "execution_count": 74,
     "metadata": {},
     "output_type": "execute_result"
    }
   ],
   "source": [
    "# aún sólo tenemos un dataframe\n",
    "type(gdf_lineas)"
   ]
  },
  {
   "cell_type": "code",
   "execution_count": 75,
   "metadata": {},
   "outputs": [],
   "source": [
    "# procedamos a convertirlo en geo\n",
    "from geopandas import GeoDataFrame"
   ]
  },
  {
   "cell_type": "code",
   "execution_count": 76,
   "metadata": {},
   "outputs": [],
   "source": [
    "# creamos nuestro geodataframe de líneas entre desarrollos\n",
    "lin_des = GeoDataFrame(gdf_lineas, geometry='geometria')"
   ]
  },
  {
   "cell_type": "code",
   "execution_count": 77,
   "metadata": {},
   "outputs": [
    {
     "data": {
      "image/png": "[encoded data removed]",
      "text/plain": [
       "<Figure size 432x288 with 1 Axes>"
      ]
     },
     "metadata": {
      "needs_background": "light"
     },
     "output_type": "display_data"
    }
   ],
   "source": [
    "lin_des.plot();"
   ]
  },
  {
   "cell_type": "markdown",
   "metadata": {},
   "source": [
    "Veamos en detalle los que estuvimos haciendo. Como se puede apreciar..."
   ]
  },
  {
   "cell_type": "code",
   "execution_count": 78,
   "metadata": {},
   "outputs": [
    {
     "data": {
      "text/plain": [
       "0    LINESTRING (-58.38718 -34.58738, -58.41155 -34...\n",
       "1    LINESTRING (-58.41155 -34.60251, -58.38198 -34...\n",
       "2    LINESTRING (-58.38198 -34.61523, -58.38718 -34...\n",
       "Name: geometria, dtype: geometry"
      ]
     },
     "execution_count": 78,
     "metadata": {},
     "output_type": "execute_result"
    }
   ],
   "source": [
    "# Este es nuestro geodataframe,\n",
    "lin_des['geometria']"
   ]
  },
  {
   "cell_type": "code",
   "execution_count": 79,
   "metadata": {},
   "outputs": [
    {
     "data": {
      "image/svg+xml": [
       "<svg xmlns=\"http://www.w3.org/2000/svg\" xmlns:xlink=\"http://www.w3.org/1999/xlink\" width=\"100.0\" height=\"100.0\" viewBox=\"-58.412524143999995 -34.603483243999996 0.0263207880000067 0.01708218799999628\" preserveAspectRatio=\"xMinYMin meet\"><g transform=\"matrix(1,0,0,-1,0,-69.18988429999999)\"><polyline fill=\"none\" stroke=\"#66cc99\" stroke-width=\"0.000526415760000134\" points=\"-58.38717819999999,-34.5873759 -58.4115493,-34.6025084\" opacity=\"0.8\" /></g></svg>"
      ],
      "text/plain": [
       "<shapely.geometry.linestring.LineString at 0x7f119e9bff28>"
      ]
     },
     "execution_count": 79,
     "metadata": {},
     "output_type": "execute_result"
    }
   ],
   "source": [
    "# tal como el objeto Point, así luce un LineString\n",
    "lin_des.loc[lin_des['id']=='C1024FDA']['geometria'][0]"
   ]
  },
  {
   "cell_type": "code",
   "execution_count": 80,
   "metadata": {},
   "outputs": [
    {
     "data": {
      "text/plain": [
       "0.02868698435633323"
      ]
     },
     "execution_count": 80,
     "metadata": {},
     "output_type": "execute_result"
    }
   ],
   "source": [
    "# También posee un largo,\n",
    "lin_des.loc[lin_des['id']=='C1024FDA']['geometria'][0].length"
   ]
  },
  {
   "cell_type": "code",
   "execution_count": 81,
   "metadata": {},
   "outputs": [
    {
     "name": "stdout",
     "output_type": "stream",
     "text": [
      "None\n"
     ]
    }
   ],
   "source": [
    "# valor que está supeditado a la proyección que estemos utilizando. Nosotros no asignamos ninguno,\n",
    "print(lin_des.crs)"
   ]
  },
  {
   "cell_type": "code",
   "execution_count": 82,
   "metadata": {},
   "outputs": [],
   "source": [
    "# así que hagámoslo.\n",
    "lin_des.crs = CRS(4326)"
   ]
  },
  {
   "cell_type": "code",
   "execution_count": 83,
   "metadata": {},
   "outputs": [
    {
     "data": {
      "text/plain": [
       "<Geographic 2D CRS: EPSG:4326>\n",
       "Name: WGS 84\n",
       "Axis Info [ellipsoidal]:\n",
       "- Lat[north]: Geodetic latitude (degree)\n",
       "- Lon[east]: Geodetic longitude (degree)\n",
       "Area of Use:\n",
       "- name: World\n",
       "- bounds: (-180.0, -90.0, 180.0, 90.0)\n",
       "Datum: World Geodetic System 1984\n",
       "- Ellipsoid: WGS 84\n",
       "- Prime Meridian: Greenwich"
      ]
     },
     "execution_count": 83,
     "metadata": {},
     "output_type": "execute_result"
    }
   ],
   "source": [
    "lin_des.crs"
   ]
  },
  {
   "cell_type": "code",
   "execution_count": 84,
   "metadata": {},
   "outputs": [
    {
     "data": {
      "text/plain": [
       "0.02868698435633323"
      ]
     },
     "execution_count": 84,
     "metadata": {},
     "output_type": "execute_result"
    }
   ],
   "source": [
    "# Y vemos las diferencias de unidades entre una\n",
    "lin_des.loc[lin_des['id']=='C1024FDA']['geometria'][0].length"
   ]
  },
  {
   "cell_type": "code",
   "execution_count": 85,
   "metadata": {},
   "outputs": [
    {
     "data": {
      "text/plain": [
       "2812.5758808637142"
      ]
     },
     "execution_count": 85,
     "metadata": {},
     "output_type": "execute_result"
    }
   ],
   "source": [
    "# y otra preyección.\n",
    "lin_des.to_crs(22183).loc[lin_des['id']=='C1024FDA']['geometria'][0].length"
   ]
  },
  {
   "cell_type": "code",
   "execution_count": 86,
   "metadata": {},
   "outputs": [
    {
     "data": {
      "text/plain": [
       "[(-58.38717819999999, -34.5873759), (-58.4115493, -34.6025084)]"
      ]
     },
     "execution_count": 86,
     "metadata": {},
     "output_type": "execute_result"
    }
   ],
   "source": [
    "# Como mencionamos previamente una línea posee un set de límites o puntos extremos.\n",
    "list(lin_des.loc[lin_des['id']=='C1024FDA']['geometria'][0].coords)"
   ]
  },
  {
   "cell_type": "code",
   "execution_count": 87,
   "metadata": {},
   "outputs": [
    {
     "data": {
      "text/plain": [
       "(-58.38717819999999, -34.5873759)"
      ]
     },
     "execution_count": 87,
     "metadata": {},
     "output_type": "execute_result"
    }
   ],
   "source": [
    "# o simplemente pensémoslo como una sucesión de puntos \n",
    "lin_des.loc[lin_des['id']=='C1024FDA']['geometria'][0].coords[0]"
   ]
  },
  {
   "cell_type": "code",
   "execution_count": 88,
   "metadata": {},
   "outputs": [
    {
     "data": {
      "text/plain": [
       "(-58.4115493, -34.6025084)"
      ]
     },
     "execution_count": 88,
     "metadata": {},
     "output_type": "execute_result"
    }
   ],
   "source": [
    "# en la que puede haber más coordenadas que sólo las extremas si consideramos 'n' veces '.coords[n]'\n",
    "lin_des.loc[lin_des['id']=='C1024FDA']['geometria'][0].coords[1]"
   ]
  },
  {
   "cell_type": "code",
   "execution_count": 89,
   "metadata": {},
   "outputs": [
    {
     "data": {
      "text/plain": [
       "(array('d', [-58.38717819999999, -58.4115493]),\n",
       " array('d', [-34.5873759, -34.6025084]))"
      ]
     },
     "execution_count": 89,
     "metadata": {},
     "output_type": "execute_result"
    }
   ],
   "source": [
    "# A los que también podemos acceder con el método xy\n",
    "lin_des.loc[lin_des['id']=='C1024FDA']['geometria'][0].xy"
   ]
  },
  {
   "cell_type": "markdown",
   "metadata": {},
   "source": [
    "Esto deja en claro que una `línea` también puede ser vista como una sucesión infinita de puntos."
   ]
  },
  {
   "cell_type": "code",
   "execution_count": 90,
   "metadata": {},
   "outputs": [
    {
     "data": {
      "text/plain": [
       "[(-58.39936374999999, -34.594942149999994)]"
      ]
     },
     "execution_count": 90,
     "metadata": {},
     "output_type": "execute_result"
    }
   ],
   "source": [
    "# Otro atributo importante es su centroide. Este suele ser muy útil cuando querramos pasar de LineString a Point.\n",
    "list(lin_des.loc[lin_des['id']=='C1024FDA']['geometria'][0].centroid.coords)"
   ]
  },
  {
   "cell_type": "code",
   "execution_count": 91,
   "metadata": {},
   "outputs": [
    {
     "data": {
      "image/svg+xml": [
       "<svg xmlns=\"http://www.w3.org/2000/svg\" xmlns:xlink=\"http://www.w3.org/1999/xlink\" width=\"100.0\" height=\"100.0\" viewBox=\"-59.39936374999999 -35.594942149999994 2.0 2.0\" preserveAspectRatio=\"xMinYMin meet\"><g transform=\"matrix(1,0,0,-1,0,-69.18988429999999)\"><circle cx=\"-58.39936374999999\" cy=\"-34.594942149999994\" r=\"0.06\" stroke=\"#555555\" stroke-width=\"0.02\" fill=\"#66cc99\" opacity=\"0.6\" /></g></svg>"
      ],
      "text/plain": [
       "<shapely.geometry.point.Point at 0x7f11a19ba390>"
      ]
     },
     "execution_count": 91,
     "metadata": {},
     "output_type": "execute_result"
    }
   ],
   "source": [
    "lin_des['geometria'][0].centroid"
   ]
  },
  {
   "cell_type": "code",
   "execution_count": 92,
   "metadata": {},
   "outputs": [
    {
     "data": {
      "text/plain": [
       "shapely.geometry.point.Point"
      ]
     },
     "execution_count": 92,
     "metadata": {},
     "output_type": "execute_result"
    }
   ],
   "source": [
    "# como vemos, es un punto.\n",
    "type(lin_des['geometria'][0].centroid)"
   ]
  },
  {
   "cell_type": "markdown",
   "metadata": {},
   "source": [
    "Veamos cómo pueden servirnos estos métodos y atributos que estuvimos revisando. Como dijimos, las líneas que construimos son una forma de representar la distancia aérea que separa a los desarrollos inmobiliarios entre sí. Asimismo, vimos que era posible construir tres líneas, sabiendo que la columna id representa el correo postal o dirección de salida de cada uno de esos recorridos. Pero lo que no sabemos, es con qué destino quedó unido. Es decir, sabemos que ir de `C1024FDA` a `C1171ABM` es lo mismo que ir de `C1171ABM` a `C1024FDA`. Por eso, para completar aún más nuestro geodataframe, intentemos agregar el punto de inicio y de fin de cada línea."
   ]
  },
  {
   "cell_type": "code",
   "execution_count": 93,
   "metadata": {},
   "outputs": [
    {
     "data": {
      "text/html": [
       "<div>\n",
       "<style scoped>\n",
       "    .dataframe tbody tr th:only-of-type {\n",
       "        vertical-align: middle;\n",
       "    }\n",
       "\n",
       "    .dataframe tbody tr th {\n",
       "        vertical-align: top;\n",
       "    }\n",
       "\n",
       "    .dataframe thead th {\n",
       "        text-align: right;\n",
       "    }\n",
       "</style>\n",
       "<table border=\"1\" class=\"dataframe\">\n",
       "  <thead>\n",
       "    <tr style=\"text-align: right;\">\n",
       "      <th></th>\n",
       "      <th>id</th>\n",
       "      <th>geometria</th>\n",
       "    </tr>\n",
       "  </thead>\n",
       "  <tbody>\n",
       "    <tr>\n",
       "      <th>0</th>\n",
       "      <td>C1024FDA</td>\n",
       "      <td>LINESTRING (-58.38718 -34.58738, -58.41155 -34...</td>\n",
       "    </tr>\n",
       "    <tr>\n",
       "      <th>1</th>\n",
       "      <td>C1171ABM</td>\n",
       "      <td>LINESTRING (-58.41155 -34.60251, -58.38198 -34...</td>\n",
       "    </tr>\n",
       "    <tr>\n",
       "      <th>2</th>\n",
       "      <td>C1097AAX</td>\n",
       "      <td>LINESTRING (-58.38198 -34.61523, -58.38718 -34...</td>\n",
       "    </tr>\n",
       "  </tbody>\n",
       "</table>\n",
       "</div>"
      ],
      "text/plain": [
       "         id                                          geometria\n",
       "0  C1024FDA  LINESTRING (-58.38718 -34.58738, -58.41155 -34...\n",
       "1  C1171ABM  LINESTRING (-58.41155 -34.60251, -58.38198 -34...\n",
       "2  C1097AAX  LINESTRING (-58.38198 -34.61523, -58.38718 -34..."
      ]
     },
     "execution_count": 93,
     "metadata": {},
     "output_type": "execute_result"
    }
   ],
   "source": [
    "lin_des"
   ]
  },
  {
   "cell_type": "code",
   "execution_count": 94,
   "metadata": {},
   "outputs": [],
   "source": [
    "def destino(n):\n",
    "    '''\n",
    "    Identifica el código postal del punto del \n",
    "    extremo superior de la línea de distancia.\n",
    "     ...\n",
    "    Argumentos:\n",
    "        n(int): índice de la geometría.\n",
    "    Devuelve:\n",
    "        str: código postal de destino\n",
    "    '''    \n",
    "    try:\n",
    "        F = list(lin_des['geometria'][n].coords[1])\n",
    "        I = list(lin_des['geometria'][n+1].coords[0])\n",
    "\n",
    "        if F == I:\n",
    "            destino = lin_des['id'][n+1]\n",
    "            return destino\n",
    "    except:\n",
    "        F = list(lin_des['geometria'][n].coords[1])\n",
    "        I = list(lin_des['geometria'][n-n].coords[0])\n",
    "\n",
    "        if F == I:\n",
    "            destino = lin_des['id'][n-n]\n",
    "            return destino"
   ]
  },
  {
   "cell_type": "code",
   "execution_count": 95,
   "metadata": {},
   "outputs": [
    {
     "data": {
      "text/plain": [
       "'C1171ABM'"
      ]
     },
     "execution_count": 95,
     "metadata": {},
     "output_type": "execute_result"
    }
   ],
   "source": [
    "destino(0)"
   ]
  },
  {
   "cell_type": "code",
   "execution_count": 96,
   "metadata": {},
   "outputs": [],
   "source": [
    "destinos = [destino(i) for i in range(len(lin_des))]"
   ]
  },
  {
   "cell_type": "code",
   "execution_count": 97,
   "metadata": {},
   "outputs": [],
   "source": [
    "lin_des['destino'] = destinos"
   ]
  },
  {
   "cell_type": "code",
   "execution_count": 98,
   "metadata": {},
   "outputs": [
    {
     "data": {
      "text/html": [
       "<div>\n",
       "<style scoped>\n",
       "    .dataframe tbody tr th:only-of-type {\n",
       "        vertical-align: middle;\n",
       "    }\n",
       "\n",
       "    .dataframe tbody tr th {\n",
       "        vertical-align: top;\n",
       "    }\n",
       "\n",
       "    .dataframe thead th {\n",
       "        text-align: right;\n",
       "    }\n",
       "</style>\n",
       "<table border=\"1\" class=\"dataframe\">\n",
       "  <thead>\n",
       "    <tr style=\"text-align: right;\">\n",
       "      <th></th>\n",
       "      <th>id</th>\n",
       "      <th>geometria</th>\n",
       "      <th>destino</th>\n",
       "    </tr>\n",
       "  </thead>\n",
       "  <tbody>\n",
       "    <tr>\n",
       "      <th>0</th>\n",
       "      <td>C1024FDA</td>\n",
       "      <td>LINESTRING (-58.38718 -34.58738, -58.41155 -34...</td>\n",
       "      <td>C1171ABM</td>\n",
       "    </tr>\n",
       "    <tr>\n",
       "      <th>1</th>\n",
       "      <td>C1171ABM</td>\n",
       "      <td>LINESTRING (-58.41155 -34.60251, -58.38198 -34...</td>\n",
       "      <td>C1097AAX</td>\n",
       "    </tr>\n",
       "    <tr>\n",
       "      <th>2</th>\n",
       "      <td>C1097AAX</td>\n",
       "      <td>LINESTRING (-58.38198 -34.61523, -58.38718 -34...</td>\n",
       "      <td>C1024FDA</td>\n",
       "    </tr>\n",
       "  </tbody>\n",
       "</table>\n",
       "</div>"
      ],
      "text/plain": [
       "         id                                          geometria   destino\n",
       "0  C1024FDA  LINESTRING (-58.38718 -34.58738, -58.41155 -34...  C1171ABM\n",
       "1  C1171ABM  LINESTRING (-58.41155 -34.60251, -58.38198 -34...  C1097AAX\n",
       "2  C1097AAX  LINESTRING (-58.38198 -34.61523, -58.38718 -34...  C1024FDA"
      ]
     },
     "execution_count": 98,
     "metadata": {},
     "output_type": "execute_result"
    }
   ],
   "source": [
    "lin_des"
   ]
  },
  {
   "cell_type": "code",
   "execution_count": 99,
   "metadata": {},
   "outputs": [],
   "source": [
    "# renombramos sus columnas\n",
    "lin_des.rename(columns={'id':'origen'}, inplace=True)"
   ]
  },
  {
   "cell_type": "code",
   "execution_count": 100,
   "metadata": {},
   "outputs": [],
   "source": [
    "# y le cambiamos el orden\n",
    "lin_des = lin_des[['origen', 'destino', 'geometria']]"
   ]
  },
  {
   "cell_type": "markdown",
   "metadata": {},
   "source": [
    "Calculemos ahora la distancia que existe entre cada par origen-destino. Es decir, la longitud de nuestras líneas. Vamos a utilizar la proyección del escenario donde estamos trabajando - el de la Ciudad de Buenos Aires, recordemos que compartimos el link con su información más arriba cuando abordamos los SRC -. \n",
    "\n",
    "Al respecto, vale aclarar que este se encuentra en metros. Existen otras proyecciones que también utilizan el mismo sistema de medida, por ejemplo la EPSG:3857. Esta es de alcance global y por ende suele ser de uso más generalizado. Pero como queremos ganar algo más de precisión vamos a utilizar la propia de nuestro caso de análisis (la proyección óptima depende depende de la ubicación en el globo)."
   ]
  },
  {
   "cell_type": "code",
   "execution_count": 101,
   "metadata": {},
   "outputs": [
    {
     "data": {
      "text/plain": [
       "0    3398.216086\n",
       "1    3714.102740\n",
       "2    3811.138391\n",
       "Name: geometria, dtype: float64"
      ]
     },
     "execution_count": 101,
     "metadata": {},
     "output_type": "execute_result"
    }
   ],
   "source": [
    "# veamos el resultado en EPSG 3857\n",
    "lin_des.to_crs(3857).geometria.apply(lambda x: x.length)"
   ]
  },
  {
   "cell_type": "markdown",
   "metadata": {},
   "source": [
    "Como mencionamos anteriormente, una de las características de la nueva release de Geopandas es que enriquece el sistema de coordenadas con información adicional. Esta nueva forma de trabajar con [proyecciones](https://geopandas.org/projections.html) también permite manipular las dos representaciones más comunes de la nomenclatura EPSG:[proj4](https://spatialreference.org/ref/sr-org/7124/proj4/) y well known text o [WKT](https://spatialreference.org/ref/sr-org/7124/prettywkt/). Aquí disponibilizamos los de de la Ciudad de Buenos Aires, pero esta web es muy útil para consultar los de diversas parte del mundo (uno nunca sabe con qué parte del globo va a trabajar!)."
   ]
  },
  {
   "cell_type": "code",
   "execution_count": 102,
   "metadata": {},
   "outputs": [],
   "source": [
    "# y la instanciamos en un string. En este caso no usamos un código EPSG\n",
    "proj4 = '+proj=tmerc +lat_0=-34.629269 +lon_0=-58.4633 +k=0.9999980000000001 +x_0=100000 +y_0=100000 +ellps=intl +units=m +no_defs' "
   ]
  },
  {
   "cell_type": "code",
   "execution_count": 103,
   "metadata": {},
   "outputs": [],
   "source": [
    "# definamos nuestro nuevo crs\n",
    "proj4_bsas = pyproj.CRS(proj4)"
   ]
  },
  {
   "cell_type": "code",
   "execution_count": 104,
   "metadata": {},
   "outputs": [
    {
     "data": {
      "text/plain": [
       "<Projected CRS: +proj=tmerc +lat_0=-34.629269 +lon_0=-58.4633 +k=0 ...>\n",
       "Name: unknown\n",
       "Axis Info [cartesian]:\n",
       "- E[east]: Easting (metre)\n",
       "- N[north]: Northing (metre)\n",
       "Area of Use:\n",
       "- undefined\n",
       "Coordinate Operation:\n",
       "- name: unknown\n",
       "- method: Transverse Mercator\n",
       "Datum: Unknown based on International 1909 (Hayford) ellipsoid\n",
       "- Ellipsoid: International 1909 (Hayford)\n",
       "- Prime Meridian: Greenwich"
      ]
     },
     "execution_count": 104,
     "metadata": {},
     "output_type": "execute_result"
    }
   ],
   "source": [
    "# como dijimos, ahora es un objeto enriquecido\n",
    "proj4_bsas"
   ]
  },
  {
   "cell_type": "code",
   "execution_count": 105,
   "metadata": {},
   "outputs": [
    {
     "data": {
      "text/plain": [
       "<Geographic 2D CRS: GEOGCRS[\"unknown\",DATUM[\"Unknown based on Internat ...>\n",
       "Name: unknown\n",
       "Axis Info [ellipsoidal]:\n",
       "- lon[east]: Longitude (degree)\n",
       "- lat[north]: Latitude (degree)\n",
       "Area of Use:\n",
       "- undefined\n",
       "Datum: Unknown based on International 1909 (Hayford) ellipsoid\n",
       "- Ellipsoid: International 1909 (Hayford)\n",
       "- Prime Meridian: Greenwich"
      ]
     },
     "execution_count": 105,
     "metadata": {},
     "output_type": "execute_result"
    }
   ],
   "source": [
    "# con el método .source_crs, también podemos conocer un resumen de nuestro crs\n",
    "proj4_bsas.source_crs"
   ]
  },
  {
   "cell_type": "code",
   "execution_count": 106,
   "metadata": {},
   "outputs": [
    {
     "name": "stdout",
     "output_type": "stream",
     "text": [
      "None\n"
     ]
    }
   ],
   "source": [
    "# y conseguir su EPSG equivalente. En nuestro caso, el CRS de BsAs no posee esa nomenclatura.\n",
    "print(proj4_bsas.to_epsg())"
   ]
  },
  {
   "cell_type": "code",
   "execution_count": 107,
   "metadata": {},
   "outputs": [],
   "source": [
    "# Ahora, repliquemos lo mismo pero con el formato WKT.\n",
    "wkt = \"\"\"PROJCS[\"GKBA\",\n",
    "        GEOGCS[\"International 1909 (Hayford)\",\n",
    "            DATUM[\"CAI\",\n",
    "                SPHEROID[\"intl\",6378388,297]],\n",
    "            PRIMEM[\"Greenwich\",0],\n",
    "            UNIT[\"degree\",0.0174532925199433]],\n",
    "        PROJECTION[\"Transverse_Mercator\"],\n",
    "        PARAMETER[\"latitude_of_origin\",-34.6297166],\n",
    "        PARAMETER[\"central_meridian\",-58.4627],\n",
    "        PARAMETER[\"scale_factor\",0.999998],\n",
    "        PARAMETER[\"false_easting\",100000],\n",
    "        PARAMETER[\"false_northing\",100000],\n",
    "        UNIT[\"Meter\",1]]\"\"\""
   ]
  },
  {
   "cell_type": "code",
   "execution_count": 108,
   "metadata": {},
   "outputs": [],
   "source": [
    "wkt_bsas = pyproj.CRS(wkt)"
   ]
  },
  {
   "cell_type": "code",
   "execution_count": 109,
   "metadata": {},
   "outputs": [
    {
     "data": {
      "text/plain": [
       "<Geographic 2D CRS: GEOGCRS[\"International 1909 (Hayford)\",DATUM[\"CAI\" ...>\n",
       "Name: International 1909 (Hayford)\n",
       "Axis Info [ellipsoidal]:\n",
       "- lon[east]: Longitude (degree)\n",
       "- lat[north]: Latitude (degree)\n",
       "Area of Use:\n",
       "- undefined\n",
       "Datum: CAI\n",
       "- Ellipsoid: intl\n",
       "- Prime Meridian: Greenwich"
      ]
     },
     "execution_count": 109,
     "metadata": {},
     "output_type": "execute_result"
    }
   ],
   "source": [
    "wkt_bsas.source_crs"
   ]
  },
  {
   "cell_type": "code",
   "execution_count": 110,
   "metadata": {},
   "outputs": [
    {
     "name": "stdout",
     "output_type": "stream",
     "text": [
      "None\n"
     ]
    }
   ],
   "source": [
    "print(wkt_bsas.to_epsg())"
   ]
  },
  {
   "cell_type": "code",
   "execution_count": 111,
   "metadata": {},
   "outputs": [
    {
     "data": {
      "text/plain": [
       "0    2795.877788\n",
       "1    3057.330245\n",
       "2    3126.557810\n",
       "Name: geometria, dtype: float64"
      ]
     },
     "execution_count": 111,
     "metadata": {},
     "output_type": "execute_result"
    }
   ],
   "source": [
    "# Ahora, utilicemos la nueva proyeccion y calculemos cada recorrido respetando su unidad de referencia (metros)\n",
    "lin_des.to_crs(proj4_bsas).geometria.apply(lambda x: x.length)"
   ]
  },
  {
   "cell_type": "code",
   "execution_count": 112,
   "metadata": {},
   "outputs": [
    {
     "data": {
      "text/plain": [
       "0    2795.877766\n",
       "1    3057.330220\n",
       "2    3126.557779\n",
       "Name: geometria, dtype: float64"
      ]
     },
     "execution_count": 112,
     "metadata": {},
     "output_type": "execute_result"
    }
   ],
   "source": [
    "lin_des.to_crs(wkt_bsas).geometria.apply(lambda x: x.length)"
   ]
  },
  {
   "cell_type": "markdown",
   "metadata": {},
   "source": [
    "Como se puede apreciar, el cálculo de distancia difiere levemente entre ambos sistemas de coordenadas. Ahora, creemos una columna de nuestro dataframe de líneas con su atributo de distancia."
   ]
  },
  {
   "cell_type": "code",
   "execution_count": 113,
   "metadata": {},
   "outputs": [],
   "source": [
    "lineas = lin_des.copy()\n",
    "lineas['distancia'] = lineas.to_crs(wkt_bsas).geometria.apply(lambda x: x.length)"
   ]
  },
  {
   "cell_type": "code",
   "execution_count": 114,
   "metadata": {},
   "outputs": [
    {
     "data": {
      "image/png": "[encoded data removed]",
      "text/plain": [
       "<Figure size 432x288 with 1 Axes>"
      ]
     },
     "metadata": {
      "needs_background": "light"
     },
     "output_type": "display_data"
    }
   ],
   "source": [
    "# Y veamos ahora dónde está el recorrido más largo. Se ve claramente que este es entre los CP 1024 y 1171\n",
    "lineas.plot(linewidth = lineas.distancia/150,alpha = 0.5);"
   ]
  },
  {
   "cell_type": "markdown",
   "metadata": {},
   "source": [
    "Pero,¿cómo haríamos si, en lugar de la distancia entre extremos (es decir, todo el largo de la línea), quisiéramos establecer la distancia entre un punto y otro siempre estando dentro del recorrido de la misma línea? Vayamos con otro ejemplo de un caso puntual..."
   ]
  },
  {
   "cell_type": "code",
   "execution_count": 115,
   "metadata": {},
   "outputs": [],
   "source": [
    "def dist_en_linea(proj, linea, idx_a, idx_b):\n",
    "    '''\n",
    "    Calcula la distancia entre dos puntos \n",
    "    determinados de una línea\n",
    "     ...\n",
    "    Argumentos:\n",
    "        proj(crs): Sistema de coordenadas de referencia \n",
    "        linea(int): Posición o nro de línea del gdf. \n",
    "        idx_a(int): Posición de la coordenada inicial.\n",
    "        idx_b(int): Posición de la coordenada final.\n",
    "    Devuelve:\n",
    "        float: distancia lineal\n",
    "    '''    \n",
    "    gse= lineas.to_crs(proj)['geometria']\n",
    "    A=Point(gse[linea].coords[idx_a])\n",
    "    B=Point(gse[linea].coords[idx_b])\n",
    "    \n",
    "    return A.distance(B)"
   ]
  },
  {
   "cell_type": "code",
   "execution_count": 116,
   "metadata": {},
   "outputs": [
    {
     "data": {
      "text/plain": [
       "2795.877788359215"
      ]
     },
     "execution_count": 116,
     "metadata": {},
     "output_type": "execute_result"
    }
   ],
   "source": [
    "# aca tenemos la distancia en metros entre las coordenadas 0 y 1 de la primer línea de nuestro gdf\n",
    "dist_en_linea(proj4_bsas, 0, 0, 1)"
   ]
  },
  {
   "cell_type": "markdown",
   "metadata": {},
   "source": [
    "En el caso de haber tenido una mayor cantidad de coordenadas (o una línea compuesta por múltiples puntos), la función anterior nos hubiese permitido indexar más allá de 0 y 1 (que son el inicio y el fin de la línea). Suponiendo que hubiese tenido un punto intermedio, hubiese sido posible medir la distancia entre 0 y 1 como así también entre 1 y 2. Pero nuestra línea sólo tiene un par de coordenadas. \n",
    "\n",
    "Con esto, introducimos un nuevo concepto: el `sistema de referencia lineal` o `linear reference system`. Este nos habría permitido conocer cosas útiles como... "
   ]
  },
  {
   "cell_type": "code",
   "execution_count": 117,
   "metadata": {},
   "outputs": [],
   "source": [
    "# a qué distancia sobre la línea se encuentra cada punto.\n",
    "inicio = lineas.to_crs(proj4_bsas)['geometria'][0].coords[0]\n",
    "fin =  lineas.to_crs(proj4_bsas)['geometria'][0].coords[1]"
   ]
  },
  {
   "cell_type": "code",
   "execution_count": 118,
   "metadata": {},
   "outputs": [
    {
     "data": {
      "text/plain": [
       "2795.877788359215"
      ]
     },
     "execution_count": 118,
     "metadata": {},
     "output_type": "execute_result"
    }
   ],
   "source": [
    "# Esto, con el método project. \n",
    "lineas.to_crs(proj4_bsas)['geometria'][0].project(Point(fin))"
   ]
  },
  {
   "cell_type": "code",
   "execution_count": 119,
   "metadata": {},
   "outputs": [
    {
     "data": {
      "text/plain": [
       "1.0"
      ]
     },
     "execution_count": 119,
     "metadata": {},
     "output_type": "execute_result"
    }
   ],
   "source": [
    "# Con el parámetro normalized también podemos ver qué porcentage de la línea representa la distancia de ese punto\n",
    "lineas.to_crs(proj4_bsas)['geometria'][0].project(Point(fin), normalized=True)"
   ]
  },
  {
   "cell_type": "code",
   "execution_count": 120,
   "metadata": {},
   "outputs": [
    {
     "name": "stdout",
     "output_type": "stream",
     "text": [
      "POINT (104747.1574624284 102967.4982134432)\n"
     ]
    }
   ],
   "source": [
    "# O bien qué coordenadas corresponden a cierta distancia sobre la línea\n",
    "distancia = lineas.to_crs(proj4_bsas)['geometria'][0].project(Point(fin))\n",
    "print(lin_des.to_crs(proj4_bsas)['geometria'][0].interpolate(distancia))"
   ]
  },
  {
   "cell_type": "markdown",
   "metadata": {},
   "source": [
    "Este conjunto de métodos resultan altamente útiles cuando trabajamos sobre la misma línea. Como vimos con las coordenadas del caso anterior, un indicador que hubiesemos podido construir es la distancia en línea recta al 100% de su recorrido. También, agregando algunas coordenadas intermedias más tendríamos la posibilidad de conocer la distancia al 25, 50 o bien el 75% de su recorrido. Esto, por mencionar sólo un ejemplo."
   ]
  },
  {
   "cell_type": "markdown",
   "metadata": {},
   "source": [
    "> **3. Polígonos**"
   ]
  },
  {
   "cell_type": "markdown",
   "metadata": {},
   "source": [
    "Antes de hablar estrictamente de la clase `Polygon`, haremos una breve mención a la clase `LinearRing`. Como dijimos anteriormente esta era una de las clases con las que se implementaban las líneas. Ahora bien, ¿por qué la mencionamos en esta sección? Una linea con el mismo punto de inicio y fin no es un `LineString` pero tampoco es un `Polygon`. Ahora bien, la clase [LinearRing](https://shapely.readthedocs.io/en/latest/manual.html#LinearRing) representa uno de los atributos principales de un polígono: su borde. Por eso es que ambas clases se encuentran estrechamente vnculadas. Un polígono es una superficie circunscripta a un límite. Por ende, es posible pasar de una a otra con cierta facilidad. Fijémosno cómo..."
   ]
  },
  {
   "cell_type": "code",
   "execution_count": 121,
   "metadata": {},
   "outputs": [],
   "source": [
    "from shapely.geometry import LinearRing"
   ]
  },
  {
   "cell_type": "code",
   "execution_count": 122,
   "metadata": {},
   "outputs": [],
   "source": [
    "# construyamos un anillo de ejemplo tomando como referencia nuestras coordenadas de distancia\n",
    "anillo = LinearRing([lineas['geometria'][0].coords[0], \n",
    "                     lineas['geometria'][1].coords[0], \n",
    "                     lineas['geometria'][2].coords[0]])"
   ]
  },
  {
   "cell_type": "code",
   "execution_count": 123,
   "metadata": {},
   "outputs": [
    {
     "data": {
      "image/svg+xml": [
       "<svg xmlns=\"http://www.w3.org/2000/svg\" xmlns:xlink=\"http://www.w3.org/1999/xlink\" width=\"100.0\" height=\"100.0\" viewBox=\"-58.412732028 -34.616412528000005 0.03193365600000675 0.030219356000010578\" preserveAspectRatio=\"xMinYMin meet\"><g transform=\"matrix(1,0,0,-1,0,-69.20260569999999)\"><polyline fill=\"none\" stroke=\"#66cc99\" stroke-width=\"0.000638673120000135\" points=\"-58.38717819999999,-34.5873759 -58.4115493,-34.6025084 -58.3819811,-34.6152298 -58.38717819999999,-34.5873759\" opacity=\"0.8\" /></g></svg>"
      ],
      "text/plain": [
       "<shapely.geometry.polygon.LinearRing at 0x7f119d72b7b8>"
      ]
     },
     "execution_count": 123,
     "metadata": {},
     "output_type": "execute_result"
    }
   ],
   "source": [
    "anillo"
   ]
  },
  {
   "cell_type": "code",
   "execution_count": 124,
   "metadata": {},
   "outputs": [
    {
     "data": {
      "text/plain": [
       "shapely.geometry.polygon.LinearRing"
      ]
     },
     "execution_count": 124,
     "metadata": {},
     "output_type": "execute_result"
    }
   ],
   "source": [
    "type(anillo)"
   ]
  },
  {
   "cell_type": "code",
   "execution_count": 125,
   "metadata": {},
   "outputs": [
    {
     "data": {
      "text/plain": [
       "True"
      ]
     },
     "execution_count": 125,
     "metadata": {},
     "output_type": "execute_result"
    }
   ],
   "source": [
    "anillo.is_ring"
   ]
  },
  {
   "cell_type": "code",
   "execution_count": 126,
   "metadata": {},
   "outputs": [
    {
     "data": {
      "text/plain": [
       "0.0"
      ]
     },
     "execution_count": 126,
     "metadata": {},
     "output_type": "execute_result"
    }
   ],
   "source": [
    "anillo.area"
   ]
  },
  {
   "cell_type": "code",
   "execution_count": 127,
   "metadata": {},
   "outputs": [
    {
     "data": {
      "text/plain": [
       "0.08921028595517894"
      ]
     },
     "execution_count": 127,
     "metadata": {},
     "output_type": "execute_result"
    }
   ],
   "source": [
    "# este es, tal vez, el atributo más importante: su largo\n",
    "anillo.length"
   ]
  },
  {
   "cell_type": "code",
   "execution_count": 128,
   "metadata": {},
   "outputs": [],
   "source": [
    "from shapely.geometry import Polygon"
   ]
  },
  {
   "cell_type": "code",
   "execution_count": 129,
   "metadata": {},
   "outputs": [
    {
     "data": {
      "image/svg+xml": [
       "<svg xmlns=\"http://www.w3.org/2000/svg\" xmlns:xlink=\"http://www.w3.org/1999/xlink\" width=\"100.0\" height=\"100.0\" viewBox=\"-58.412732028 -34.616412528000005 0.03193365600000675 0.030219356000010578\" preserveAspectRatio=\"xMinYMin meet\"><g transform=\"matrix(1,0,0,-1,0,-69.20260569999999)\"><path fill-rule=\"evenodd\" fill=\"#66cc99\" stroke=\"#555555\" stroke-width=\"0.000638673120000135\" opacity=\"0.6\" d=\"M -58.38717819999999,-34.5873759 L -58.4115493,-34.6025084 L -58.3819811,-34.6152298 L -58.38717819999999,-34.5873759 z\" /></g></svg>"
      ],
      "text/plain": [
       "<shapely.geometry.polygon.Polygon at 0x7f119e9cc390>"
      ]
     },
     "execution_count": 129,
     "metadata": {},
     "output_type": "execute_result"
    }
   ],
   "source": [
    "# Ahora pasemos de un LinearRing a un Polygon\n",
    "Polygon(anillo)"
   ]
  },
  {
   "cell_type": "markdown",
   "metadata": {},
   "source": [
    "Volviendo a la clase `Polygon`, el [modelo de datos espaciales](https://shapely.readthedocs.io/en/latest/manual.html#spatial-data-model) de shapely lo define como una superficie compuesta por un conjunto interior de infinitos puntos delimitado por una o más curvas y un conjunto exterior de infitos puntos. Esta geometría tiene una dimensión topológica de 2. [Acá](https://automating-gis-processes.github.io/site/2018/notebooks/L1/geometric-objects.html) dejamos una descripción más detalladas de todos los objetos geométricos de shapely.\n",
    "\n",
    "Levantemos un geodataframe de polígonos y veamos qué características y métodos tienen..."
   ]
  },
  {
   "cell_type": "code",
   "execution_count": 130,
   "metadata": {},
   "outputs": [],
   "source": [
    "# trabajemos con un shape de barrios\n",
    "barrios = gpd.read_file('../carto/barrios_badata.shp')"
   ]
  },
  {
   "cell_type": "code",
   "execution_count": 131,
   "metadata": {},
   "outputs": [
    {
     "data": {
      "text/html": [
       "<div>\n",
       "<style scoped>\n",
       "    .dataframe tbody tr th:only-of-type {\n",
       "        vertical-align: middle;\n",
       "    }\n",
       "\n",
       "    .dataframe tbody tr th {\n",
       "        vertical-align: top;\n",
       "    }\n",
       "\n",
       "    .dataframe thead th {\n",
       "        text-align: right;\n",
       "    }\n",
       "</style>\n",
       "<table border=\"1\" class=\"dataframe\">\n",
       "  <thead>\n",
       "    <tr style=\"text-align: right;\">\n",
       "      <th></th>\n",
       "      <th>BARRIO</th>\n",
       "      <th>COMUNA</th>\n",
       "      <th>PERIMETRO</th>\n",
       "      <th>AREA</th>\n",
       "      <th>OBJETO</th>\n",
       "      <th>geometry</th>\n",
       "    </tr>\n",
       "  </thead>\n",
       "  <tbody>\n",
       "    <tr>\n",
       "      <th>0</th>\n",
       "      <td>CHACARITA</td>\n",
       "      <td>15.0</td>\n",
       "      <td>7724.852955</td>\n",
       "      <td>3.115707e+06</td>\n",
       "      <td>BARRIO</td>\n",
       "      <td>POLYGON ((100961.338 103691.974, 100884.721 10...</td>\n",
       "    </tr>\n",
       "    <tr>\n",
       "      <th>1</th>\n",
       "      <td>PATERNAL</td>\n",
       "      <td>15.0</td>\n",
       "      <td>7087.513295</td>\n",
       "      <td>2.229829e+06</td>\n",
       "      <td>BARRIO</td>\n",
       "      <td>POLYGON ((99791.104 103628.888, 99787.132 1036...</td>\n",
       "    </tr>\n",
       "    <tr>\n",
       "      <th>2</th>\n",
       "      <td>VILLA CRESPO</td>\n",
       "      <td>15.0</td>\n",
       "      <td>8131.857075</td>\n",
       "      <td>3.615978e+06</td>\n",
       "      <td>BARRIO</td>\n",
       "      <td>POLYGON ((103627.714 103487.358, 103517.533 10...</td>\n",
       "    </tr>\n",
       "    <tr>\n",
       "      <th>3</th>\n",
       "      <td>VILLA DEL PARQUE</td>\n",
       "      <td>11.0</td>\n",
       "      <td>7705.389797</td>\n",
       "      <td>3.399596e+06</td>\n",
       "      <td>BARRIO</td>\n",
       "      <td>POLYGON ((97128.440 101597.513, 97112.315 1015...</td>\n",
       "    </tr>\n",
       "    <tr>\n",
       "      <th>4</th>\n",
       "      <td>ALMAGRO</td>\n",
       "      <td>5.0</td>\n",
       "      <td>8537.901368</td>\n",
       "      <td>4.050752e+06</td>\n",
       "      <td>BARRIO</td>\n",
       "      <td>POLYGON ((104625.143 101679.935, 104629.994 10...</td>\n",
       "    </tr>\n",
       "  </tbody>\n",
       "</table>\n",
       "</div>"
      ],
      "text/plain": [
       "             BARRIO  COMUNA    PERIMETRO          AREA  OBJETO  \\\n",
       "0         CHACARITA    15.0  7724.852955  3.115707e+06  BARRIO   \n",
       "1          PATERNAL    15.0  7087.513295  2.229829e+06  BARRIO   \n",
       "2      VILLA CRESPO    15.0  8131.857075  3.615978e+06  BARRIO   \n",
       "3  VILLA DEL PARQUE    11.0  7705.389797  3.399596e+06  BARRIO   \n",
       "4           ALMAGRO     5.0  8537.901368  4.050752e+06  BARRIO   \n",
       "\n",
       "                                            geometry  \n",
       "0  POLYGON ((100961.338 103691.974, 100884.721 10...  \n",
       "1  POLYGON ((99791.104 103628.888, 99787.132 1036...  \n",
       "2  POLYGON ((103627.714 103487.358, 103517.533 10...  \n",
       "3  POLYGON ((97128.440 101597.513, 97112.315 1015...  \n",
       "4  POLYGON ((104625.143 101679.935, 104629.994 10...  "
      ]
     },
     "execution_count": 131,
     "metadata": {},
     "output_type": "execute_result"
    }
   ],
   "source": [
    "barrios.head()"
   ]
  },
  {
   "cell_type": "code",
   "execution_count": 132,
   "metadata": {},
   "outputs": [
    {
     "data": {
      "image/svg+xml": [
       "<svg xmlns=\"http://www.w3.org/2000/svg\" xmlns:xlink=\"http://www.w3.org/1999/xlink\" width=\"300\" height=\"300\" viewBox=\"99572.45991600025 103383.37561600097 2803.261067999527 2375.3130679996684\" preserveAspectRatio=\"xMinYMin meet\"><g transform=\"matrix(1,0,0,-1,0,209142.0643000016)\"><path fill-rule=\"evenodd\" fill=\"#66cc99\" stroke=\"#555555\" stroke-width=\"18.688407119996846\" opacity=\"0.6\" d=\"M 100961.33800000045,103691.97360000014 L 100884.72080000117,103629.07510000095 L 100874.42389999982,103620.36420000065 L 100869.93950000126,103616.56730000116 L 100780.17390000168,103540.66890000086 L 100716.93950000033,103487.20010000095 L 100676.90830000024,103502.66889999993 L 100668.7544999998,103505.81890000124 L 100664.33010000084,103507.52820000052 L 100647.93169999961,103514.34860000107 L 100624.29890000075,103524.16890000086 L 100571.1583000021,103546.25480000116 L 100521.53330000024,103566.88760000095 L 100501.75980000105,103575.43450000137 L 100492.44330000039,103579.4712000005 L 100491.80670000147,103579.74700000044 L 100491.73410000093,103579.76820000075 L 100483.26420000009,103582.24299999978 L 100463.5175999999,103588.01260000002 L 100375.32230000012,103613.80169999972 L 100369.15830000117,103615.59859999921 L 100231.89260000084,103625.21580000129 L 100210.17389999982,103626.73139999993 L 100165.06880000047,103630.08310000133 L 100164.64260000084,103630.11420000065 L 100089.67390000075,103634.06730000209 L 100075.16610000096,103634.82510000002 L 100071.45710000023,103635.09250000026 L 99957.04890000075,103643.34080000035 L 99948.25200000033,103643.12200000137 L 99879.42390000075,103637.668899999 L 99829.40629999992,103626.88250000123 L 99829.21300000139,103626.84079999942 L 99819.15050000139,103623.97360000014 L 99812.83800000045,103622.87200000044 L 99802.68329999968,103622.09839999862 L 99794.46100000013,103619.05970000196 L 99787.13230000157,103612.62480000127 L 99791.10360000096,103628.88760000002 L 99793.15620000102,103637.25430000108 L 99797.06450000033,103653.18450000137 L 99802.30669999961,103674.57510000002 L 99825.77370000072,103764.36900000088 L 99837.25329999998,103812.65060000028 L 99859.90830000117,103907.93450000137 L 99894.09439999983,104046.4589000009 L 99900.72080000024,104073.30949999951 L 99898.21300000045,104082.65330000129 L 99841.43169999961,104141.5439000018 L 99763.30109999981,104222.32900000084 L 99747.76800000016,104235.80030000024 L 99716.22150000092,104260.69910000172 L 99703.58010000177,104270.67670000065 L 99697.92389999982,104274.7939000018 L 99676.28440000024,104290.55709999986 L 99772.16559999902,104400.24000000115 L 99886.8161000004,104531.39410000015 L 100020.6484000003,104681.95550000016 L 100029.76420000009,104691.31620000117 L 100123.57130000088,104787.64320000075 L 100131.13500000164,104795.41000000108 L 100168.41910000052,104818.58660000004 L 100267.96580000035,104852.48340000119 L 100264.74419999961,104866.37980000116 L 100261.77550000045,104879.09860000014 L 100263.68170000147,104888.47360000107 L 100259.54110000003,104907.01260000002 L 100253.5800999999,104917.23920000065 L 100253.68170000054,105016.83290000074 L 100253.80669999961,105138.40330000035 L 100253.92390000168,105260.09860000014 L 100254.04890000075,105380.02830000222 L 100254.17389999982,105502.6453999998 L 100254.32230000105,105654.86420000065 L 100254.73359999992,105654.86319999956 L 100282.11139999982,105654.793899999 L 100284.52219999954,105654.78720000107 L 100293.36920000147,105654.76260000002 L 100322.50719999988,105652.63570000138 L 100330.7208000021,105652.03609999921 L 100436.84580000117,105644.27830000222 L 100507.90970000066,105639.08590000123 L 100509.76760000177,105638.95010000095 L 100546.73640000168,105626.88760000095 L 100563.15830000117,105621.536100002 L 100564.45959999971,105621.11149999965 L 100672.42390000168,105585.88760000002 L 100724.86919999961,105568.77830000129 L 100774.13480000105,105549.66890000086 L 100896.05670000054,105502.37980000116 L 100943.11140000168,105484.12980000116 L 101019.04110000096,105454.67670000065 L 101024.02400000207,105452.74570000172 L 101034.70510000084,105448.60640000086 L 101105.4000000013,105421.18310000096 L 101126.88500000071,105412.84880000073 L 101127.61259999964,105412.49969999958 L 101132.86139999889,105409.98140000086 L 101172.79170000087,105390.82750000153 L 101220.33799999952,105368.0203999998 L 101250.1241000006,105353.73390000034 L 101257.36139999982,105350.26260000095 L 101271.47080000024,105343.98139999993 L 101294.37700000033,105333.786100002 L 101361.57230000012,105303.86420000065 L 101367.6425999999,105301.16110000107 L 101373.84270000085,105298.39990000054 L 101377.16950000077,105296.91839999985 L 101378.08029999956,105296.51279999968 L 101378.50160000101,105296.2937000012 L 101398.97960000113,105285.64699999988 L 101486.99420000054,105239.88760000002 L 101570.54900000058,105196.44909999985 L 101606.8536000019,105177.57510000095 L 101711.75659999903,105123.0362999998 L 101727.44429999962,105114.88030000031 L 101729.54889999982,105113.786100002 L 101733.37160000019,105111.79800000042 L 101734.02550000232,105111.45790000074 L 101733.98350000009,105111.28409999982 L 101698.59580000024,104964.84080000035 L 101716.93169999961,104947.95010000002 L 101818.61919999961,104866.37200000137 L 101915.12700000126,104788.95010000002 L 102009.39260000084,104713.32510000002 L 102037.67390000075,104690.6453999998 L 102123.22860000003,104622.23920000065 L 102193.62700000126,104565.95790000074 L 102264.68950000219,104509.13760000095 L 102270.9935000008,104504.54700000025 L 102271.8964999998,104503.88900000136 L 102271.8526999997,104503.86160000041 L 102267.55050000176,104501.21190000232 L 102262.17960000038,104497.90400000103 L 101164.96100000013,103868.30240000226 L 101162.16249999963,103865.81810000073 L 101132.27410000004,103839.28579999879 L 101063.68169999868,103778.3953999998 L 101046.98640000075,103764.25480000209 L 101028.8925999999,103748.86420000065 L 100980.86139999982,103708.00480000116 L 100961.33800000045,103691.97360000014 z\" /></g></svg>"
      ],
      "text/plain": [
       "<shapely.geometry.polygon.Polygon at 0x7f11a19badd8>"
      ]
     },
     "execution_count": 132,
     "metadata": {},
     "output_type": "execute_result"
    }
   ],
   "source": [
    "# así luce el barrio de Chacarita\n",
    "barrios.geometry[0]"
   ]
  },
  {
   "cell_type": "code",
   "execution_count": 133,
   "metadata": {},
   "outputs": [
    {
     "name": "stdout",
     "output_type": "stream",
     "text": [
      "El barrio de Chacarita tiene una superficie de 3115707 m2\n"
     ]
    }
   ],
   "source": [
    "# Como dijimos, un polígono está compuesto por una superficie interna o área\n",
    "print('El barrio de Chacarita tiene una superficie de %r m2' % int(barrios.geometry[0].area))"
   ]
  },
  {
   "cell_type": "code",
   "execution_count": 134,
   "metadata": {},
   "outputs": [
    {
     "data": {
      "text/plain": [
       "3115707"
      ]
     },
     "execution_count": 134,
     "metadata": {},
     "output_type": "execute_result"
    }
   ],
   "source": [
    "# el shape de barrios con el que estamos trabajando ya se encuentra proyectado en Transverse Mercator\n",
    "int(barrios.to_crs(proj4_bsas).geometry[0].area)"
   ]
  },
  {
   "cell_type": "code",
   "execution_count": 135,
   "metadata": {},
   "outputs": [
    {
     "data": {
      "text/plain": [
       "<Projected CRS: PROJCS[\"Argentina_GKBsAs\",GEOGCS[\"GCS_Campo_Inchau ...>\n",
       "Name: Argentina_GKBsAs\n",
       "Axis Info [cartesian]:\n",
       "- E[east]: Easting (metre)\n",
       "- N[north]: Northing (metre)\n",
       "Area of Use:\n",
       "- undefined\n",
       "Coordinate Operation:\n",
       "- name: unnamed\n",
       "- method: Transverse Mercator\n",
       "Datum: Campo Inchauspe\n",
       "- Ellipsoid: International 1924\n",
       "- Prime Meridian: Greenwich"
      ]
     },
     "execution_count": 135,
     "metadata": {},
     "output_type": "execute_result"
    }
   ],
   "source": [
    "# se puede ver que el mismo ya se encuentra en metros, por lo que no es necesario reproyectarlo..\n",
    "barrios.crs"
   ]
  },
  {
   "cell_type": "code",
   "execution_count": 136,
   "metadata": {},
   "outputs": [
    {
     "data": {
      "text/plain": [
       "shapely.geometry.polygon.LinearRing"
      ]
     },
     "execution_count": 136,
     "metadata": {},
     "output_type": "execute_result"
    }
   ],
   "source": [
    "# Un polígono también tiene un límite exterior - o un LinearRing -,  \n",
    "type(barrios.geometry[0].exterior)"
   ]
  },
  {
   "cell_type": "code",
   "execution_count": 137,
   "metadata": {},
   "outputs": [
    {
     "data": {
      "image/svg+xml": [
       "<svg xmlns=\"http://www.w3.org/2000/svg\" xmlns:xlink=\"http://www.w3.org/1999/xlink\" width=\"300\" height=\"300\" viewBox=\"99572.45991600025 103383.37561600097 2803.261067999527 2375.3130679996684\" preserveAspectRatio=\"xMinYMin meet\"><g transform=\"matrix(1,0,0,-1,0,209142.0643000016)\"><polyline fill=\"none\" stroke=\"#66cc99\" stroke-width=\"18.688407119996846\" points=\"100961.33800000045,103691.97360000014 100884.72080000117,103629.07510000095 100874.42389999982,103620.36420000065 100869.93950000126,103616.56730000116 100780.17390000168,103540.66890000086 100716.93950000033,103487.20010000095 100676.90830000024,103502.66889999993 100668.7544999998,103505.81890000124 100664.33010000084,103507.52820000052 100647.93169999961,103514.34860000107 100624.29890000075,103524.16890000086 100571.1583000021,103546.25480000116 100521.53330000024,103566.88760000095 100501.75980000105,103575.43450000137 100492.44330000039,103579.4712000005 100491.80670000147,103579.74700000044 100491.73410000093,103579.76820000075 100483.26420000009,103582.24299999978 100463.5175999999,103588.01260000002 100375.32230000012,103613.80169999972 100369.15830000117,103615.59859999921 100231.89260000084,103625.21580000129 100210.17389999982,103626.73139999993 100165.06880000047,103630.08310000133 100164.64260000084,103630.11420000065 100089.67390000075,103634.06730000209 100075.16610000096,103634.82510000002 100071.45710000023,103635.09250000026 99957.04890000075,103643.34080000035 99948.25200000033,103643.12200000137 99879.42390000075,103637.668899999 99829.40629999992,103626.88250000123 99829.21300000139,103626.84079999942 99819.15050000139,103623.97360000014 99812.83800000045,103622.87200000044 99802.68329999968,103622.09839999862 99794.46100000013,103619.05970000196 99787.13230000157,103612.62480000127 99791.10360000096,103628.88760000002 99793.15620000102,103637.25430000108 99797.06450000033,103653.18450000137 99802.30669999961,103674.57510000002 99825.77370000072,103764.36900000088 99837.25329999998,103812.65060000028 99859.90830000117,103907.93450000137 99894.09439999983,104046.4589000009 99900.72080000024,104073.30949999951 99898.21300000045,104082.65330000129 99841.43169999961,104141.5439000018 99763.30109999981,104222.32900000084 99747.76800000016,104235.80030000024 99716.22150000092,104260.69910000172 99703.58010000177,104270.67670000065 99697.92389999982,104274.7939000018 99676.28440000024,104290.55709999986 99772.16559999902,104400.24000000115 99886.8161000004,104531.39410000015 100020.6484000003,104681.95550000016 100029.76420000009,104691.31620000117 100123.57130000088,104787.64320000075 100131.13500000164,104795.41000000108 100168.41910000052,104818.58660000004 100267.96580000035,104852.48340000119 100264.74419999961,104866.37980000116 100261.77550000045,104879.09860000014 100263.68170000147,104888.47360000107 100259.54110000003,104907.01260000002 100253.5800999999,104917.23920000065 100253.68170000054,105016.83290000074 100253.80669999961,105138.40330000035 100253.92390000168,105260.09860000014 100254.04890000075,105380.02830000222 100254.17389999982,105502.6453999998 100254.32230000105,105654.86420000065 100254.73359999992,105654.86319999956 100282.11139999982,105654.793899999 100284.52219999954,105654.78720000107 100293.36920000147,105654.76260000002 100322.50719999988,105652.63570000138 100330.7208000021,105652.03609999921 100436.84580000117,105644.27830000222 100507.90970000066,105639.08590000123 100509.76760000177,105638.95010000095 100546.73640000168,105626.88760000095 100563.15830000117,105621.536100002 100564.45959999971,105621.11149999965 100672.42390000168,105585.88760000002 100724.86919999961,105568.77830000129 100774.13480000105,105549.66890000086 100896.05670000054,105502.37980000116 100943.11140000168,105484.12980000116 101019.04110000096,105454.67670000065 101024.02400000207,105452.74570000172 101034.70510000084,105448.60640000086 101105.4000000013,105421.18310000096 101126.88500000071,105412.84880000073 101127.61259999964,105412.49969999958 101132.86139999889,105409.98140000086 101172.79170000087,105390.82750000153 101220.33799999952,105368.0203999998 101250.1241000006,105353.73390000034 101257.36139999982,105350.26260000095 101271.47080000024,105343.98139999993 101294.37700000033,105333.786100002 101361.57230000012,105303.86420000065 101367.6425999999,105301.16110000107 101373.84270000085,105298.39990000054 101377.16950000077,105296.91839999985 101378.08029999956,105296.51279999968 101378.50160000101,105296.2937000012 101398.97960000113,105285.64699999988 101486.99420000054,105239.88760000002 101570.54900000058,105196.44909999985 101606.8536000019,105177.57510000095 101711.75659999903,105123.0362999998 101727.44429999962,105114.88030000031 101729.54889999982,105113.786100002 101733.37160000019,105111.79800000042 101734.02550000232,105111.45790000074 101733.98350000009,105111.28409999982 101698.59580000024,104964.84080000035 101716.93169999961,104947.95010000002 101818.61919999961,104866.37200000137 101915.12700000126,104788.95010000002 102009.39260000084,104713.32510000002 102037.67390000075,104690.6453999998 102123.22860000003,104622.23920000065 102193.62700000126,104565.95790000074 102264.68950000219,104509.13760000095 102270.9935000008,104504.54700000025 102271.8964999998,104503.88900000136 102271.8526999997,104503.86160000041 102267.55050000176,104501.21190000232 102262.17960000038,104497.90400000103 101164.96100000013,103868.30240000226 101162.16249999963,103865.81810000073 101132.27410000004,103839.28579999879 101063.68169999868,103778.3953999998 101046.98640000075,103764.25480000209 101028.8925999999,103748.86420000065 100980.86139999982,103708.00480000116 100961.33800000045,103691.97360000014\" opacity=\"0.8\" /></g></svg>"
      ],
      "text/plain": [
       "<shapely.geometry.polygon.LinearRing at 0x7f11a1c65a90>"
      ]
     },
     "execution_count": 137,
     "metadata": {},
     "output_type": "execute_result"
    }
   ],
   "source": [
    "barrios.geometry[0].exterior"
   ]
  },
  {
   "cell_type": "code",
   "execution_count": 138,
   "metadata": {},
   "outputs": [
    {
     "data": {
      "text/plain": [
       "7724.8529545663605"
      ]
     },
     "execution_count": 138,
     "metadata": {},
     "output_type": "execute_result"
    }
   ],
   "source": [
    "# que como dijimos cuenta con una extensión o largo determinada - su perímetro.\n",
    "barrios.geometry[0].exterior.length"
   ]
  },
  {
   "cell_type": "code",
   "execution_count": 139,
   "metadata": {},
   "outputs": [
    {
     "data": {
      "text/plain": [
       "0                                                    []\n",
       "1                                                    []\n",
       "2                                                    []\n",
       "3                                                    []\n",
       "4                                                    []\n",
       "5                                                    []\n",
       "6                                                    []\n",
       "7                                                    []\n",
       "8                                                    []\n",
       "9                                                    []\n",
       "10                                                   []\n",
       "11                                                   []\n",
       "12                                                   []\n",
       "13                                                   []\n",
       "14                                                   []\n",
       "15                                                   []\n",
       "16                                                   []\n",
       "17                                                   []\n",
       "18                                                   []\n",
       "19                                                   []\n",
       "20                                                   []\n",
       "21                                                   []\n",
       "22                                                   []\n",
       "23                                                   []\n",
       "24                                                   []\n",
       "25                                                   []\n",
       "26                                                   []\n",
       "27                                                   []\n",
       "28                                                   []\n",
       "29                                                   []\n",
       "30                                                   []\n",
       "31                                                   []\n",
       "32                                                   []\n",
       "33                                                   []\n",
       "34                                                   []\n",
       "35                                                   []\n",
       "36                                                   []\n",
       "37                                                   []\n",
       "38                                                   []\n",
       "39                                                   []\n",
       "40    [LINEARRING (108843.7940000007 103326.85800000...\n",
       "41                                                   []\n",
       "42                                                   []\n",
       "43                                                   []\n",
       "44                                                   []\n",
       "45                                                   []\n",
       "46                                                   []\n",
       "47                                                   []\n",
       "dtype: object"
      ]
     },
     "execution_count": 139,
     "metadata": {},
     "output_type": "execute_result"
    }
   ],
   "source": [
    "# Un polígono también tiene un interior (o islas)\n",
    "barrios.interiors"
   ]
  },
  {
   "cell_type": "code",
   "execution_count": 140,
   "metadata": {},
   "outputs": [
    {
     "data": {
      "image/svg+xml": [
       "<svg xmlns=\"http://www.w3.org/2000/svg\" xmlns:xlink=\"http://www.w3.org/1999/xlink\" width=\"300\" height=\"300\" viewBox=\"108469.70286435224 100320.58576435185 2986.4191712958855 3607.0254624987138\" preserveAspectRatio=\"xMinYMin meet\"><g transform=\"matrix(1,0,0,-1,0,204248.19699120242)\"><path fill-rule=\"evenodd\" fill=\"#66cc99\" stroke=\"#555555\" stroke-width=\"24.046836416658092\" opacity=\"0.6\" d=\"M 110213.6575000016,103444.77910000179 L 110229.26800000109,103420.96660000179 L 110243.55549999978,103404.56240000017 L 110253.34509999957,103393.44990000036 L 110271.60140000004,103378.36860000063 L 110287.47640000004,103361.69980000146 L 110306.52649999969,103346.88310000021 L 110315.25769999996,103342.12060000096 L 110332.19109999947,103334.71230000071 L 110339.59950000048,103325.71639999934 L 110348.0661000004,103319.89560000133 L 110351.46920000017,103314.58910000231 L 110363.67670000065,103295.55390000064 L 110365.52580000181,103293.84690000117 L 110373.9954000013,103286.02880000137 L 110392.25160000194,103257.1891999999 L 110404.68710000161,103245.5475000022 L 110417.65170000214,103229.14330000058 L 110434.05590000097,103215.9140999997 L 110453.10589999985,103205.59530000109 L 110505.4935000008,103148.44520000182 L 110520.57490000036,103140.7723000003 L 110531.15820000134,103138.92019999959 L 110545.60099999979,103130.48539999966 L 110559.66330000106,103121.43039999995 L 110573.31840000115,103111.77240000013 L 110586.54050000105,103101.52969999984 L 110599.30470000114,103090.72160000075 L 110611.58669999987,103079.36860000156 L 110623.36340000108,103067.49220000114 L 110634.61239999998,103055.11479999963 L 110645.3125,103042.25999999978 L 110650.77379999962,103035.0859000003 L 110653.00999999978,103032.14850000199 L 110655.44340000022,103028.95189999975 L 110664.98589999974,103015.21579999942 L 110673.92200000118,103001.07780000009 L 110682.23479999974,102986.56439999957 L 110689.90850000083,102971.7031999994 L 110691.23150000162,102939.1594000021 L 110694.01370000001,102935.70830000099 L 110699.57170000114,102928.81420000084 L 110699.9627000019,102923.01980000082 L 110694.93560000043,102919.05100000091 L 110693.34810000006,102902.64680000208 L 110699.43350000028,102885.44890000112 L 110700.7564000003,102879.36340000015 L 110706.04810000025,102859.78420000058 L 110702.07930000033,102842.85080000013 L 110707.90020000096,102828.5633000005 L 110710.54600000009,102804.7508000005 L 110709.75229999889,102796.01950000226 L 110716.63150000107,102774.58820000105 L 110715.83770000003,102766.38609999977 L 110723.7752000019,102742.83810000028 L 110726.42110000085,102727.49230000004 L 110730.38980000094,102711.88179999962 L 110737.5038999999,102707.09580000117 L 110743.35439999867,102699.71100000106 L 110752.6149000004,102686.48180000018 L 110751.02740000002,102674.04630000051 L 110746.2648999989,102665.57970000058 L 110747.32320000138,102645.20670000091 L 110743.88360000029,102640.17959999945 L 110745.20649999939,102615.30870000087 L 110748.38150000013,102599.43369999994 L 110749.1753000021,102574.29820000008 L 110751.55650000088,102564.24399999995 L 110753.40859999973,102542.54820000101 L 110762.93360000104,102518.20640000049 L 110770.60659999959,102497.03970000055 L 110783.04200000223,102477.1958999997 L 110793.89000000153,102463.17299999949 L 110832.25459999964,102438.56670000125 L 110840.98589999974,102427.98330000229 L 110857.65469999984,102413.69579999987 L 110871.41299999971,102406.02290000021 L 110887.28799999971,102392.26450000145 L 110942.58610000089,102359.45610000007 L 110978.56950000022,102322.41440000199 L 110992.85700000077,102311.30189999938 L 111013.75910000037,102294.89770000055 L 111029.10499999952,102280.61010000017 L 111063.50090000127,102243.56840000115 L 111068.42380439676,102238.75738652423 L 111086.7843000004,102220.81420000084 L 111106.82120000105,102201.67690000124 L 111123.82600000128,102190.38699999917 L 111151.60730000027,102158.90160000138 L 111174.62610000093,102145.40780000202 L 111191.55950000137,102121.85979999974 L 111196.58660000004,102107.83690000046 L 111229.92420000024,102057.30140000023 L 111229.65959999897,102030.84300000034 L 111231.51169999968,102019.7304000007 L 111236.53880000114,101992.21370000206 L 111239.44919999968,101980.30750000104 L 111255.32419999968,101922.36359999981 L 111268.02419999987,101879.23640000075 L 111275.43260000087,101857.54050000012 L 111281.25340000074,101819.96960000042 L 111287.33889999986,101775.51950000133 L 111303.74310000148,101724.1902999999 L 111310.62220000103,101701.43609999958 L 111314.32639999967,101653.01720000058 L 111314.06180000212,101625.2359000016 L 111321.20559999999,101590.5754000023 L 111322.52850000001,101571.52540000062 L 111322.44629999995,101502.56670000032 L 111321.3880000012,101452.82490000222 L 111308.95260000136,101432.45190000068 L 111296.25250000134,101418.69360000081 L 111260.26910000015,101381.91640000045 L 111246.72710000072,101369.66019999981 L 111238.41000000108,101365.23060000129 L 111229.71320000105,101361.26549999975 L 111220.7873000009,101357.84730000049 L 111211.66670000087,101354.98920000065 L 111202.38630000036,101352.70210000034 L 111192.98200000077,101350.99480000045 L 111183.49000000022,101349.87399999984 L 111166.68240000121,101348.14960000012 L 111149.8236999996,101347.02910000179 L 111132.9357000012,101346.51400000043 L 111116.0401000008,101346.60500000231 L 111099.15869999956,101347.302000002 L 111082.31309999991,101348.60400000121 L 111074.26100000087,101347.56560000125 L 111066.31900000107,101345.88060000073 L 111058.53900000174,101343.55999999959 L 111050.97169999965,101340.61880000029 L 111043.66650000121,101337.07639999967 L 111036.67120000068,101332.95580000058 L 111030.03129999898,101328.28390000109 L 111008.98529999983,101320.00879999995 L 110987.66920000128,101312.45639999863 L 110966.10790000018,101305.63549999986 L 110889.48440000042,101278.753800001 L 110882.81660000049,101276.68010000046 L 110875.98670000117,101275.2265999997 L 110869.05230000056,101274.4057999989 L 110862.07180000003,101274.22440000065 L 110855.10420000087,101274.68410000112 L 110848.2080000015,101275.78089999966 L 110841.44159999955,101277.50569999963 L 110834.861800001,101279.84380000085 L 110828.52430000063,101282.77550000232 L 110823.83659999911,101287.35840000119 L 110818.62920000125,101291.34100000095 L 110812.97860000096,101294.66470000055 L 110806.96750000026,101297.28100000042 L 110800.68429999985,101299.15120000113 L 110794.2209999999,101300.2481000023 L 110787.67250000034,101300.55549999978 L 110781.76779999956,101298.07750000153 L 110775.63179999962,101296.24580000062 L 110769.33499999996,101295.08150000125 L 110762.9497000007,101294.5979000004 L 110756.54930000007,101294.80059999973 L 110750.20740000065,101295.68719999958 L 110745.4308000002,101295.2714999998 L 110740.76550000161,101294.16520000063 L 110736.3107000012,101292.39200000092 L 110732.16139999963,101289.98950000107 L 110728.4057,101287.00879999995 L 110724.22140000015,101284.11039999966 L 110719.66289999988,101281.84569999948 L 110714.82540000044,101280.2620000001 L 110709.81010000221,101279.39260000084 L 110704.72180000227,101279.2555000009 L 110699.6670000013,101279.85360000003 L 110694.75119999982,101281.17450000066 L 110690.07730000094,101283.19050000142 L 110685.74300000072,101285.85940000135 L 110681.83899999969,101289.12550000101 L 110677.42789999954,101290.4299999997 L 110673.30760000087,101292.47500000149 L 110669.60130000021,101295.19940000214 L 110666.4198000012,101298.52160000056 L 110663.8582999995,101302.34240000136 L 110661.9935000008,101306.54729999974 L 110661.42260000017,101309.40170000028 L 110663.70610000007,101312.48450000118 L 110657.88310000021,101311.79940000176 L 110653.65859999973,101313.62620000076 L 110649.66249999963,101315.68140000012 L 110642.47420000006,101317.71630000044 L 110639.25800000131,101321.30260000005 L 110627.7407000009,101324.47300000116 L 110620.77840000205,101327.77050000057 L 110617.23649999872,101331.43770000059 L 110610.61430000048,101334.74879999924 L 110610.54830000084,101336.70079999976 L 110607.54920000024,101338.6185000008 L 110600.14080000017,101342.3225999996 L 110591.93870000076,101349.99560000096 L 110581.8844999997,101354.4935000008 L 110574.47620000131,101353.43510000128 L 110563.8928000005,101356.08100000117 L 110554.36780000106,101358.72680000123 L 110547.48860000074,101363.22470000107 L 110538.49280000012,101364.54770000093 L 110525.59740000032,101363.1408000011 L 110522.61770000216,101364.28310000058 L 110514.94480000064,101364.8123000022 L 110506.47810000088,101362.69560000021 L 110496.15940000024,101361.90180000197 L 110490.60309999995,101369.31020000018 L 110476.58019999973,101374.33730000164 L 110469.3543000007,101368.35280000139 L 110461.48610000219,101359.6707000006 L 110428.9282999998,101350.98860000074 L 110414.27720000036,101343.93440000061 L 110408.30830000062,101343.12050000206 L 110404.19230000023,101338.59539999999 L 110396.09910000023,101337.42280000169 L 110392.84329999983,101335.52359999996 L 110386.60300000105,101330.63990000077 L 110371.13800000027,101332.81050000153 L 110366.52570000011,101329.82600000128 L 110366.25430000108,101313.00440000091 L 110363.64740000013,101308.99380000029 L 110359.20010000095,101302.15180000011 L 110344.006500002,101290.4852 L 110337.49490000028,101277.46210000105 L 110339.66540000029,101261.99710000027 L 110335.59570000041,101245.71810000017 L 110329.35539999977,101235.40809999965 L 110316.49220000021,101225.45860000048 L 110358.38620000053,101229.4391999999 L 110377.37830000091,101216.95870000124 L 110386.60300000105,101218.5866000019 L 110397.9983000001,101226.45470000058 L 110409.66480000224,101220.48580000084 L 110403.42459999956,101204.20680000074 L 110398.81219999865,101199.59450000059 L 110392.30059999973,101194.71079999954 L 110381.44800000079,101191.18369999994 L 110380.0914000012,101181.41630000155 L 110393.27570000105,101173.25950000156 L 110393.65720000118,101164.86610000022 L 110367.88219999894,101158.08320000116 L 110359.74280000199,101171.92029999942 L 110353.23119999934,101173.00549999997 L 110342.10720000044,101186.02869999968 L 110324.47170000058,101183.31550000049 L 110327.7275000019,101174.90479999967 L 110340.75070000067,101168.66450000089 L 110343.75340000167,101164.1210000012 L 110354.28610000107,101151.11000000034 L 110356.75829999987,101140.71900000144 L 110350.24670000002,101133.1221000012 L 110338.57909999974,101131.01170000061 L 110329.62670000084,101119.55640000012 L 110328.54150000028,101114.67270000093 L 110314.97570000123,101114.13000000082 L 110287.37239999976,101099.6855000006 L 110279.45340000186,101098.92980000004 L 110278.20249999966,101098.94629999902 L 110278.18630000018,101098.94660000224 L 110274.47910000104,101099.00890000165 L 110269.5959999999,101099.09100000001 L 110268.95469999965,101099.1018000003 L 110267.84520000033,101099.1204000013 L 110267.82630000077,101099.12560000084 L 110256.07720000204,101102.35089999996 L 110252.90440000035,101108.00420000218 L 110251.21559999976,101115.0996000003 L 110249.28430000227,101113.51539999992 L 110248.30569999944,101112.71270000096 L 110245.15520000085,101110.12849999964 L 110242.65830000024,101108.08040000033 L 110247.22869999893,101099.28330000024 L 110248.33230000082,101097.15890000015 L 110256.42330000084,101093.75560000073 L 110239.3060000008,101081.8273 L 110237.27570000198,101080.43060000055 L 110236.17510000058,101079.6734000016 L 110227.27130000014,101073.54790000059 L 110214.77450000215,101064.95020000171 L 110214.7426000014,101064.9282999998 L 110209.26139999926,101064.63980000094 L 110191.81469999999,101063.72160000075 L 110188.39740000013,101063.54179999977 L 110187.55850000028,101063.49760000128 L 110187.51169999968,101063.51290000137 L 110156.98660000227,101073.50320000108 L 110155.45570000075,101074.00420000032 L 110155.42860000022,101074.01310000103 L 110155.37980000023,101074.02909999993 L 110155.34790000226,101074.03950000089 L 110155.34580000024,101074.03500000015 L 110155.3256000001,101074.01260000002 L 110155.31969999988,101074.00609999988 L 110155.31379999965,101073.99950000178 L 110154.46339999977,101072.12710000016 L 110153.6857000012,101070.41490000114 L 110143.6257000016,101048.26620000135 L 110138.34770000167,101048.80439999979 L 110123.3275000006,101050.24230000004 L 110121.83359999955,101050.48959999997 L 110121.65790000092,101050.92860000022 L 110121.65290000103,101050.92920000106 L 110113.13570000045,101065.1341000013 L 110107.67339999974,101074.24390000198 L 110068.05190000124,101088.94040000066 L 110068.04920000117,101088.9413999999 L 110068.04540000111,101088.94280000031 L 110068.03960000072,101088.93910000008 L 110068.03299999982,101088.93730000034 L 110068.01250000205,101088.93190000113 L 110061.14550000057,101084.51649999991 L 110046.83260000031,101075.3135000011 L 110033.74590000045,101066.89890000131 L 110031.6847000001,101065.57359999977 L 110027.67590000108,101062.9960000012 L 110017.020200002,101056.14460000116 L 110016.9963000007,101056.12920000032 L 110016.97620000038,101056.16210000124 L 110000.91610000096,101082.45080000069 L 110000.91440000013,101082.45360000059 L 110000.90110000037,101082.47529999912 L 110000.88499999978,101082.47440000065 L 109998.85010000132,101082.23749999981 L 109997.36629999988,101082.06479999982 L 109948.93259999994,101076.42680000048 L 109927.81490000058,101073.96839999966 L 109926.12490000017,101073.77170000039 L 109919.2267000014,101072.96860000119 L 109919.21190000139,101073.00370000117 L 109913.66000000015,101086.25810000207 L 109913.12530000228,101087.60479999986 L 109912.60539999977,101088.91420000046 L 109895.92040000018,101130.93549999967 L 109892.93370000087,101138.45760000125 L 109886.76900000125,101153.98350000009 L 109874.84219999984,101186.45089999959 L 109858.00960000046,101232.27290000115 L 109854.20920000225,101243.9168000007 L 109850.75050000194,101254.51360000111 L 109844.71670000069,101273.0 L 109840.76020000223,101285.1221000012 L 109839.60670000035,101288.70500000007 L 109839.07220000122,101288.02900000103 L 109838.41370000038,101287.19610000029 L 109837.50100000016,101286.04169999994 L 109836.99149999954,101285.39720000047 L 109793.18929999974,101229.99469999876 L 109791.98200000077,101228.46770000085 L 109712.72990000155,101128.22699999996 L 109632.27500000224,101026.46500000078 L 109523.28640000056,100888.61259999964 L 109518.9720999999,100883.15580000076 L 109517.95190000162,100881.86539999954 L 109485.77010000125,100841.16060000006 L 109485.62550000008,100840.97780000139 L 109470.75570000056,100822.17000000086 L 109470.50860000029,100821.85750000086 L 109462.4823000012,100811.70559999999 L 109462.44369999971,100811.65670000017 L 109458.23330000229,100806.33130000159 L 109438.79940000176,100781.75059999991 L 109437.74150000047,100780.41260000225 L 109412.84260000102,100748.9197000023 L 109412.83090000134,100748.90490000136 L 109385.81810000073,100714.73820000049 L 109384.24120000005,100712.74370000046 L 109360.06510000117,100682.16509999894 L 109359.9600999998,100682.03220000118 L 109356.82629999984,100678.06840000022 L 109356.37350000069,100677.49569999985 L 109355.16070000175,100675.96160000004 L 109330.7843000004,100645.1296000015 L 109327.52560000215,100641.00790000055 L 109326.53890000004,100639.75990000088 L 109324.1492000008,100636.73740000091 L 109321.72180000134,100633.66710000113 L 109320.72410000023,100634.45580000058 L 109309.95830000006,100620.83889999986 L 109309.04130000062,100619.67910000216 L 109301.55920000095,100610.21550000086 L 109296.64209999982,100603.99620000087 L 109296.56969999988,100603.90450000111 L 109294.80389999878,100601.67110000085 L 109292.92710000183,100599.29730000068 L 109289.45749999955,100594.90880000032 L 109290.45520000067,100594.12000000104 L 109288.09560000058,100591.13550000079 L 109259.1939000003,100554.57970000058 L 109251.20050000027,100544.46939999983 L 109249.16720000096,100541.89760000166 L 109247.12430000119,100539.31360000093 L 109234.51009999868,100523.35880000051 L 109229.80339999963,100517.4057 L 109204.2274000002,100485.05630000122 L 109191.10419999994,100468.45770000014 L 109179.81530000083,100454.17929999996 L 109174.38379999995,100454.53749999963 L 109165.17109999992,100455.144700001 L 109156.04140000232,100455.74640000053 L 109156.02550000045,100455.74690000061 L 109149.98640000075,100470.31730000023 L 109092.07230000105,100503.93450000044 L 109032.44569999911,100545.05170000158 L 108968.5904000001,100589.08490000013 L 108942.40050000139,100581.75480000023 L 108937.47080000024,100603.1220000023 L 108933.70519999973,100657.39520000014 L 108929.28579999972,100721.09250000026 L 108928.75200000033,100728.78600000124 L 108926.00360000134,100758.39860000089 L 108916.87700000126,100856.73140000086 L 108905.68950000126,100977.28600000031 L 108893.56450000126,101107.8953999998 L 108881.98640000168,101232.6845000023 L 108869.20510000084,101370.37980000116 L 108856.2911000019,101509.48920000065 L 108845.34580000024,101625.75480000116 L 108833.12700000126,101757.25480000116 L 108825.05820000079,101845.38660000078 L 108820.62700000033,101893.78600000218 L 108808.65830000024,102022.78610000014 L 108776.07720000017,102372.15730000101 L 108774.15550000034,102392.7641000012 L 108766.3927000016,102476.00480000023 L 108766.26719999965,102477.36220000219 L 108748.54890000075,102668.94230000116 L 108737.07230000105,102793.00480000116 L 108731.23000000231,102856.18620000128 L 108724.52550000232,102928.69230000209 L 108712.93170000054,103054.03610000014 L 108706.01770000067,103128.77040000074 L 108683.88480000105,103194.64540000074 L 108643.54890000075,103314.69230000209 L 108603.29640000034,103429.30539999995 L 108660.83010000177,103427.14720000047 L 108662.78490000125,103427.07390000112 L 108667.06920000166,103426.40220000129 L 108731.34580000024,103416.32510000095 L 108743.79110000096,103420.23140000086 L 108743.99170000106,103420.36129999906 L 108762.42389999982,103432.29390000086 L 108800.79890000168,103435.94230000116 L 108853.72460000124,103430.34440000076 L 108869.86139999982,103428.63760000095 L 108893.1512999991,103430.02020000014 L 108918.12969999947,103431.50310000218 L 108929.08020000067,103432.15320000052 L 109010.93169999961,103439.30170000065 L 109100.84580000024,103447.1453999998 L 109121.66610000096,103449.3406999996 L 109133.68170000054,103452.85639999993 L 109179.28330000024,103457.5828999998 L 109155.47100000083,103540.14829999954 L 109154.99420000054,103541.80169999972 L 109152.00140000042,103554.62710000109 L 109161.1827000007,103557.10600000061 L 109159.90930000134,103561.41910000052 L 109175.5663999999,103565.85500000138 L 109207.30960000027,103583.22400000133 L 109281.78700000048,103624.7050999999 L 109364.12070000079,103669.95720000006 L 109383.57960000075,103680.66940000094 L 109426.3423000006,103704.21050000191 L 109464.99519999977,103725.57950000092 L 109544.8953000009,103769.73000000138 L 109611.17090000119,103776.35759999976 L 109676.91480000131,103780.11440000124 L 109688.49230000097,103780.77600000054 L 109721.91850000061,103786.42379999999 L 109722.01900000032,103786.43159999978 L 109730.11000000034,103787.05399999954 L 109742.08410000056,103787.97500000149 L 109806.7487006113,103794.01769120246 L 109808.6183524523,103793.61175341159 L 109808.89968257118,103793.55067397282 L 109816.00569999963,103792.00789999962 L 109819.5689000003,103791.7918000007 L 109823.06869999878,103791.32899999991 L 109829.65579999983,103790.45799999963 L 109839.62299999874,103788.41300000064 L 109849.42020000052,103785.66700000037 L 109858.9982000012,103782.23400000017 L 109868.30910000112,103778.13100000098 L 109894.9068,103761.93140000012 L 109899.8732000012,103757.11870000046 L 109904.56749999989,103752.04040000029 L 109908.97559999954,103746.7117000008 L 109916.67650000006,103736.41100000031 L 109924.96690000221,103726.57850000076 L 109933.81830000225,103717.24780000094 L 109938.66220000107,103712.7061999999 L 109943.20049999934,103708.45110000018 L 109948.22650893033,103704.26346286945 L 109948.30452801846,103704.19845788646 L 109953.08139999956,103700.21839999966 L 109963.42700000107,103692.57780000102 L 109977.06180000026,103684.23390000034 L 109990.38240000047,103675.39690000005 L 110003.37090000231,103666.07860000059 L 110016.00999999978,103656.29160000104 L 110028.28259999957,103646.04890000168 L 110031.4215000011,103644.18050000165 L 110068.66560000088,103615.43570000026 L 110078.19060000032,103608.55660000071 L 110091.15520000085,103591.35859999992 L 110113.909500001,103569.92729999963 L 110115.04870000109,103567.34300000034 L 110135.60529999994,103520.71470000129 L 110151.74490000121,103501.13549999986 L 110174.76370000001,103470.17920000199 L 110200.16390000004,103459.33129999973 L 110213.6575000016,103444.77910000179 z M 108843.7940000007,103326.85800000187 L 108842.9804999996,103326.76570000127 L 108842.44440000039,103326.80630000122 L 108841.73159999959,103326.74129999988 L 108841.0206000004,103326.60030000005 L 108840.33409999963,103326.53610000107 L 108839.34580000117,103326.21120000072 L 108838.58899999969,103325.8141999999 L 108837.98450000025,103325.47130000126 L 108837.45519999973,103325.13000000082 L 108836.85560000222,103324.50700000115 L 108836.38779999968,103323.7078999998 L 108836.06940000225,103323.03949999996 L 108835.8282000022,103322.32149999961 L 108835.58790000062,103321.57809999958 L 108835.49899999984,103320.93950000126 L 108835.48440000042,103320.35309999995 L 108865.78849999979,102999.51260000095 L 108893.20330000017,102704.3983000014 L 108893.34680000227,102703.38590000197 L 108893.40730000008,102702.5225999998 L 108893.55960000027,102701.91770000011 L 108893.63379999995,102701.33510000072 L 108893.83490000013,102700.78340000007 L 108894.1054000007,102700.41249999963 L 108894.45500000007,102699.96870000008 L 108894.72350000124,102699.62320000213 L 108895.22350000218,102699.23649999965 L 108895.71670000162,102699.02750000078 L 108896.33380000107,102698.90029999986 L 108896.87290000077,102698.79530000035 L 108897.78890000097,102698.8328000009 L 108898.80060000066,102699.02740000002 L 108954.99289999995,102704.3713000007 L 108955.88350000046,102704.40789999999 L 108956.64809999987,102704.41399999987 L 108957.66669999901,102704.43049999978 L 108958.51530000102,102704.26179999951 L 108959.23300000094,102704.16390000004 L 108959.82579999976,102704.01000000071 L 108960.24469999969,102703.7219000021 L 108960.87450000085,102703.28949999996 L 108961.51410000026,102702.60300000012 L 108962.07470000163,102701.98950000014 L 108962.32849999983,102701.38889999967 L 108962.71720000077,102700.61550000124 L 108962.8861000007,102699.60400000028 L 108963.01979999989,102698.82029999979 L 108963.05010000058,102698.08300000057 L 108963.9104000004,102697.60940000042 L 108966.05300000124,102676.33540000115 L 108986.08579999954,102678.28050000034 L 108983.94910000078,102700.64970000088 L 108984.50769999996,102700.69800000079 L 108984.44519999996,102701.61209999956 L 108984.38470000029,102702.47530000098 L 108984.39940000046,102703.36720000021 L 108984.52249999996,102704.08520000055 L 108984.71980000194,102704.8825000003 L 108984.94930000138,102705.50310000125 L 108985.20910000056,102705.99749999959 L 108985.57140000071,102706.49620000087 L 108985.9581000004,102707.02130000107 L 108986.35660000052,102707.24150000047 L 108987.02840000018,102707.6512000002 L 108987.52649999969,102707.92630000133 L 108988.40240000002,102708.3188000014 L 108989.6690000007,102708.52359999996 L 108990.76370000094,102708.54330000188 L 108991.70610000007,102708.58210000023 L 108992.5410000002,102708.71829999983 L 108999.82510000002,102709.16720000003 L 109048.80559999961,102713.27680000011 L 109049.69420000166,102713.32340000104 L 109050.42760000005,102713.51900000125 L 109051.05650000088,102713.81380000059 L 109051.48039999977,102714.15510000009 L 109051.80069999956,102714.62120000087 L 109052.14250000194,102715.24080000073 L 109052.25779999979,102715.75270000193 L 109052.27050000057,102716.28810000047 L 109052.33200000133,102716.95190000162 L 109052.2920000013,102717.56250000093 L 109052.32909999974,102718.1491000019 L 109025.67750000115,102999.49810000136 L 109000.04530000128,103280.13999999966 L 108994.96470000129,103332.7452999996 L 108994.81919999886,103333.65960000083 L 108994.72350000031,103334.6512000002 L 108994.66010000091,103335.28699999861 L 108994.543899999,103335.97250000108 L 108994.32809999865,103336.57969999965 L 108994.08499999996,103337.31379999965 L 108993.81840000022,103337.86900000088 L 108993.55379999988,103338.39899999928 L 108993.13590000011,103338.92590000108 L 108992.67009999976,103339.27350000106 L 108992.20130000077,103339.77379999962 L 108991.63300000131,103340.14510000031 L 108991.06760000158,103340.36340000108 L 108990.39969999995,103340.6305000009 L 108989.96410000045,103340.77510000207 L 108989.42899999954,103340.73920000065 L 108988.63900000043,103340.74930000212 L 108987.79719999991,103340.75829999987 L 108987.05990000069,103340.69320000056 L 108933.37829999998,103335.39749999996 L 108932.69180000201,103335.33330000192 L 108932.00230000075,103335.39630000107 L 108931.33440000005,103335.63800000213 L 108930.76800000109,103335.95830000099 L 108930.10010000132,103336.22540000081 L 108929.55519999936,103336.67349999957 L 108929.13629999943,103337.25129999965 L 108928.79250000045,103337.90710000135 L 108928.4684000006,103338.79239999969 L 108928.19600000046,103339.72980000079 L 108928.05339999963,103340.4656999996 L 108926.9821000006,103340.5214000009 L 108922.76350000128,103383.33980000112 L 108909.63890000153,103384.27730000019 L 108897.80310000107,103383.31759999972 L 108902.04510000162,103338.30540000089 L 108901.25700000022,103338.16260000132 L 108901.27460000012,103337.29690000229 L 108901.36440000124,103336.61089999974 L 108901.30190000124,103335.87069999985 L 108901.13879999984,103335.1034000013 L 108900.82140000071,103334.40930000134 L 108900.50300000049,103333.76630000118 L 108900.08210000116,103333.12129999977 L 108899.45220000017,103332.72680000123 L 108898.38970000017,103332.29870000109 L 108897.55370000191,103332.0277000023 L 108896.79399999976,103331.80919999909 L 108844.40530000068,103326.92070000153 L 108843.7940000007,103326.85800000187 z M 108906.72600000165,102625.3881000001 L 108905.99459999986,102625.205000001 L 108905.33540000021,102625.12720000092 L 108904.8217000002,102625.20770000108 L 108904.16650000215,102625.02809999976 L 108903.53270000033,102624.95100000221 L 108903.03079999983,102624.75200000126 L 108902.56010000035,102624.4271000009 L 108902.11280000024,102624.128800001 L 108901.8208000008,102623.7855000021 L 108901.52880000137,102623.46790000051 L 108901.15570000187,102622.61249999981 L 108900.92619999964,102621.99189999979 L 108900.84900000226,102621.37770000007 L 108901.05009999964,102620.1891999999 L 108901.0940000005,102619.12160000205 L 108912.22259999905,102499.47810000181 L 108926.31640000083,102349.12680000067 L 108959.09500000067,101999.44720000029 L 108964.22340000048,101943.1782000009 L 108964.32490000129,101942.39250000194 L 108964.34350000042,101941.80769999977 L 108964.4401000021,101941.19990000036 L 108964.58069999982,101940.77169999946 L 108964.70469999965,101940.0884999996 L 108965.07770000026,101939.59130000137 L 108965.37260000128,101939.11710000131 L 108965.79839999974,101938.57060000021 L 108966.31880000047,101938.20550000202 L 108966.91739999969,101937.81730000116 L 108967.5111999996,101937.58170000091 L 108968.3051000014,101937.4542000005 L 108968.89100000169,101937.44730000105 L 108969.80310000107,101937.60369999986 L 108970.79719999991,101937.6099000005 L 108971.76010000054,101937.76770000067 L 108999.9207000006,101940.5362999998 L 109028.58330000006,101943.24490000121 L 109029.82740000077,101943.32940000016 L 109030.53729999997,101943.37409999967 L 109031.1994000012,101943.34100000001 L 109031.94450000022,101943.05549999885 L 109032.53529999964,101942.8423000006 L 109033.12899999972,101942.50189999957 L 109033.64850000013,101942.10850000195 L 109034.11530000158,101941.76470000017 L 109034.51080000028,101941.2405000003 L 109034.94340000022,101940.28470000066 L 109035.19040000066,101939.60390000045 L 109037.84340000153,101909.78280000109 L 109057.65550000127,101911.59070000146 L 109055.06199999992,101940.14020000026 L 109054.98300000094,101941.18200000003 L 109055.0122999996,101941.97210000083 L 109055.14809999987,101942.61230000015 L 109055.28289999999,101943.2779000001 L 109055.62270000111,101943.89830000047 L 109055.9908999987,101944.39200000092 L 109056.56020000018,101944.9674000023 L 109057.18430000078,101945.39169999957 L 109057.91179999989,101945.76790000126 L 109058.4411000004,101945.96040000208 L 109059.14710000064,101946.18310000096 L 109060.0075000003,101946.33359999955 L 109118.35010000039,101951.75290000066 L 109118.93120000139,101951.87040000036 L 109120.02390000131,101951.92530000024 L 109120.75629999954,101952.0979000004 L 109121.51800000016,101952.14380000066 L 109121.92040000018,101952.30750000104 L 109122.37160000112,101952.54890000075 L 109122.9458000008,101952.94639999978 L 109123.26809999999,101953.26060000062 L 109123.66260000039,101953.72950000223 L 109123.95560000092,101954.19570000097 L 109124.26810000092,101954.84080000035 L 109124.37359999958,101955.65840000007 L 109124.38140000124,101956.32060000114 L 109124.28580000065,101957.05649999995 L 109120.28180000093,101999.3684000019 L 109085.55120000057,102364.2751000002 L 109072.71990000084,102499.0905000018 L 109060.10580000095,102635.31109999958 L 109060.04330000095,102635.81910000183 L 109059.94660000224,102636.73390000127 L 109059.80599999987,102637.31640000083 L 109059.64200000186,102637.79660000186 L 109059.34999999963,102638.32469999883 L 109058.95940000005,102638.72320000082 L 109058.57180000003,102639.0196000021 L 109058.18600000069,102639.2144000018 L 109057.59820000175,102639.32800000068 L 109056.98590000067,102639.44080000091 L 109056.47810000088,102639.40340000112 L 109055.6138000004,102639.35760000162 L 109054.4478000002,102639.20260000136 L 108999.84630000032,102634.04339999985 L 108998.63740000036,102634.31609999947 L 108997.99969999958,102634.31539999973 L 108997.34150000103,102634.21200000122 L 108996.45680000074,102634.02280000132 L 108995.6687000012,102633.99030000065 L 108994.69610000215,102634.07749999966 L 108993.8981999997,102634.27390000038 L 108993.30260000098,102634.50390000083 L 108992.65020000003,102634.8591 L 108992.09559999965,102635.34540000092 L 108991.5906999996,102635.83370000124 L 108991.18260000087,102636.47900000121 L 108990.58110000007,102637.47269999981 L 108990.34869999997,102638.17599999998 L 108990.24230000004,102638.91010000184 L 108990.08220000006,102640.32930000033 L 108989.54509999976,102640.35810000077 L 108987.07660000026,102667.75480000023 L 108966.65700000059,102665.92100000009 L 108969.32870000042,102638.5580000002 L 108968.74960000068,102638.38150000107 L 108968.81890000124,102637.31489999965 L 108968.89400000125,102636.7070000004 L 108968.82660000026,102635.86400000099 L 108968.7455000002,102635.35130000114 L 108968.63709999993,102634.88870000094 L 108968.52580000088,102634.50200000126 L 108968.3431000011,102633.98539999966 L 108968.03450000007,102633.4123999998 L 108967.82359999884,102632.97080000024 L 108967.50420000125,102632.67760000005 L 108966.91729999986,102632.06800000183 L 108966.44660000224,102631.71750000119 L 108965.9475999996,102631.46770000085 L 108965.45150000043,102631.11640000064 L 108964.9514999995,102630.89209999982 L 108964.36750000063,102630.84260000195 L 108963.34800000023,102630.82600000221 L 108962.28450000193,102630.65490000043 L 108961.42129999958,102630.56850000005 L 108906.72600000165,102625.3881000001 z M 109028.01680000126,101291.04930000193 L 109028.73070000112,101291.01200000197 L 109029.74920000043,101291.05660000071 L 109030.68960000016,101291.17609999981 L 109086.5206000004,101296.22500000056 L 109087.38680000138,101296.24129999988 L 109088.53030000068,101296.41560000088 L 109089.31840000208,101296.48140000086 L 109090.16110000107,101296.3955000015 L 109090.8515999997,101296.25600000005 L 109091.59570000041,101295.99010000098 L 109092.33779999986,101295.82600000035 L 109093.03700000141,101295.22869999986 L 109093.65420000162,101294.9095999999 L 109094.28010000102,101294.15809999965 L 109094.74980000034,101293.58180000074 L 109095.09250000119,101292.97769999877 L 109095.36490000132,101292.04150000121 L 109098.21320000011,101261.64110000059 L 109117.59659999982,101263.30479999911 L 109114.9924000008,101291.62349999975 L 109114.87719999999,101292.33370000031 L 109114.80989999976,101293.17200000118 L 109114.92320000008,101293.91200000048 L 109115.08730000071,101294.67830000073 L 109115.27770000137,101295.39420000184 L 109115.74360000063,101296.3443999989 L 109116.2631000001,101297.11760000046 L 109116.76310000103,101297.6612000009 L 109117.28950000182,101298.07829999924 L 109117.84320000187,101298.44500000123 L 109118.52490000054,101298.7630000012 L 109119.33730000071,101298.95650000218 L 109120.2006000001,101299.09999999963 L 109120.86170000117,101299.16349999979 L 109179.19070000201,101304.15770000033 L 109180.15749999881,101304.2014000006 L 109180.8956999993,101304.24090000056 L 109181.52759999968,101304.50719999988 L 109182.13400000054,101304.7731000008 L 109182.61249999981,101305.08739999961 L 109183.09010000061,101305.45260000043 L 109183.58420000132,101306.22520000115 L 109183.87920000125,101306.81590000074 L 109184.1204000013,101307.53280000016 L 109184.07550000213,101308.54970000125 L 109183.97990000155,101309.5147000011 L 109183.88030000217,101310.7340000011 L 109166.42090000119,101499.2100999998 L 109132.34130000044,101865.8646000009 L 109132.21250000037,101866.87959999964 L 109132.09730000049,101868.32790000085 L 109131.99579999968,101869.26719999965 L 109131.75070000067,101869.87170000095 L 109131.55640000198,101870.4776000008 L 109131.28980000224,101870.9541000016 L 109130.7918000007,101871.50090000033 L 109130.12090000138,101871.8646999998 L 109129.47740000114,101872.17830000073 L 109128.25180000067,101872.34900000133 L 109127.0828999998,101872.31740000099 L 109125.56340000127,101872.07270000037 L 109068.47170000058,101866.48359999992 L 109067.35749999993,101866.32620000001 L 109066.44440000225,101866.22510000225 L 109065.19440000039,101866.36960000079 L 109064.34389999975,101866.80489999987 L 109063.54700000118,101867.1399000017 L 109063.05200000014,101867.55950000137 L 109062.45340000093,101868.10340000037 L 109062.05300000217,101868.80559999961 L 109061.67709999997,101869.53390000202 L 109061.45639999956,101870.18990000058 L 109061.20449999999,101871.04870000109 L 109061.05410000123,101871.93590000179 L 109058.47050000168,101901.04580000043 L 109039.29989999998,101899.05170000158 L 109041.79290000163,101872.33270000014 L 109041.9149000002,101871.57220000029 L 109042.0418000007,101870.63350000232 L 109042.03300000075,101870.02219999954 L 109042.04669999983,101869.51330000162 L 109042.01830000058,101868.6723000016 L 109041.90400000103,101868.18549999967 L 109041.71750000119,101867.54390000086 L 109041.43620000035,101866.64510000031 L 109041.02209999971,101865.97190000117 L 109040.60510000121,101865.40040000156 L 109039.95760000031,101864.89910000004 L 109039.25650000013,101864.4729000004 L 109038.73010000121,101864.20409999974 L 109038.0250000013,101863.95590000041 L 109037.03970000148,101863.70019999985 L 109036.00070000067,101863.57019999996 L 108999.9084999999,101860.07550000027 L 108977.28790000081,101857.54130000062 L 108976.80350000132,101857.5259999996 L 108976.24489999935,101857.48269999959 L 108975.8191000009,101857.26549999975 L 108975.41579999961,101857.12540000025 L 108974.93630000018,101856.95749999955 L 108974.38549999986,101856.66000000015 L 108973.9139000019,101856.28870000131 L 108973.52220000047,101855.79259999935 L 108973.1305999998,101855.27110000048 L 108972.86600000132,101854.80449999869 L 108972.70190000068,101854.3412000006 L 108972.64230000135,101853.8303000005 L 108972.57980000228,101853.39560000133 L 108972.57390000205,101852.7845999999 L 108972.67150000203,101852.12590000033 L 108972.77010000031,101851.41640000045 L 108972.92830000073,101850.47970000189 L 109000.16640000138,101559.09399999958 L 109006.1042000018,101499.2351000011 L 109024.82970000058,101297.85840000026 L 109025.1548000006,101295.49849999975 L 109025.15569999907,101294.12460000068 L 109025.34610000066,101293.49220000021 L 109025.50910000224,101292.96090000216 L 109025.97979999986,101292.3339000009 L 109026.49830000103,101291.86020000093 L 109026.989500002,101291.46239999961 L 109027.58129999973,101291.19369999971 L 109028.01680000126,101291.04930000193 z M 109085.28130000085,100644.45510000084 L 109085.8164999988,100644.44890000112 L 109224.8674999997,100656.4503999995 L 109225.49840000179,100656.57500000112 L 109226.26010000054,100656.6277999999 L 109226.9944000002,100656.70509999897 L 109227.75810000021,100656.68169999868 L 109228.3713999996,100656.60190000199 L 109228.96410000045,100656.39400000032 L 109229.5608000001,100656.08440000098 L 109229.97970000003,100655.74300000072 L 109230.32050000224,100655.4497000007 L 109284.74450000189,100612.22829999961 L 109285.64570000116,100611.5140000023 L 109297.86340000108,100626.42709999997 L 109296.03849999979,100627.85110000055 L 109243.39010000136,100669.74630000163 L 109242.84130000137,100670.15940000117 L 109242.34140000027,100670.59979999997 L 109241.94590000063,100670.99289999995 L 109241.64420000091,100671.61870000046 L 109241.34050000086,100672.26989999972 L 109241.05730000138,100673.07450000104 L 109240.9851000011,100673.6830000002 L 109211.84410000034,100999.16399999987 L 109192.29030000046,101218.5635000011 L 109192.25130000059,101219.30060000159 L 109192.07459999993,101220.5184999993 L 109192.03560000099,101221.25559999887 L 109191.84320000093,101221.98970000073 L 109191.52589999977,101222.56900000107 L 109191.18310000096,101223.1985000018 L 109190.69099999964,101223.59630000032 L 109190.17540000007,101223.94280000031 L 109189.55920000095,101224.18560000136 L 109188.8169999998,101224.32419999968 L 109187.89809999894,101224.40860000066 L 109186.77900000196,101224.31110000052 L 109129.36890000105,101219.23240000196 L 109128.37679999974,101219.18810000084 L 109127.2078000009,101218.98800000176 L 109126.39049999975,101219.09990000166 L 109125.49299999978,101219.41359999962 L 109124.77240000013,101219.78170000017 L 109124.12980000023,101220.10020000022 L 109123.40530000161,101220.67170000076 L 109122.99120000098,101220.99459999986 L 109122.51960000023,101221.69809999969 L 109121.99230000097,101222.57859999966 L 109121.59390000068,101223.43610000052 L 109121.49530000053,101224.60460000113 L 109118.68890000042,101252.84320000187 L 109099.25570000056,101251.07680000085 L 109101.74970000051,101224.58779999893 L 109101.76329999976,101223.8757000016 L 109101.93900000025,101222.65780000016 L 109101.85600000061,101221.68950000219 L 109101.66550000012,101220.94800000079 L 109101.3227000013,101220.22919999994 L 109101.15570000093,101219.64080000017 L 109100.88620000053,101219.10140000004 L 109100.6146999998,101218.6129999999 L 109100.01799999923,101217.86380000226 L 109099.21330000088,101217.28890000097 L 109098.60980000068,101216.87050000206 L 109098.1547000017,101216.6837000018 L 109097.4467000002,101216.4159000013 L 109096.78650000226,101216.30170000158 L 109096.0502000004,101216.13530000113 L 109095.46619999968,101216.04790000059 L 109094.70260000136,101216.00800000038 L 109037.54550000187,101211.03579999972 L 109036.5279000001,101210.940200001 L 109035.59140000213,101210.61730000004 L 109034.83460000064,101210.22130000032 L 109034.30720000062,101209.82960000169 L 109033.8833999997,101209.33830000088 L 109033.63430000003,101209.0029000016 L 109033.36580000073,101208.41260000225 L 109033.19680000097,101207.90070000105 L 109033.1577000022,101207.28920000046 L 109033.12349999975,101206.42349999957 L 109033.240600002,101205.63700000197 L 109050.83610000089,100999.35410000011 L 109082.42420000117,100649.67430000007 L 109082.58530000225,100648.71239999961 L 109082.67219999991,100647.72250000015 L 109082.7209999999,100647.06219999958 L 109082.79030000046,100646.55540000089 L 109082.84000000078,100645.86970000062 L 109082.98060000129,100645.49280000012 L 109083.22180000134,100645.14499999955 L 109083.7501000017,100644.60380000062 L 109084.33700000029,100644.5485000005 L 109084.7706000004,100644.51310000196 L 109085.28130000085,100644.45510000084 z\" /></g></svg>"
      ],
      "text/plain": [
       "<shapely.geometry.polygon.Polygon at 0x7f11a1c434e0>"
      ]
     },
     "execution_count": 140,
     "metadata": {},
     "output_type": "execute_result"
    }
   ],
   "source": [
    "# veamos cómo se ve ese polígono (que no es más que un polígono con LinearRings en su interior)\n",
    "barrios.geometry[40]"
   ]
  },
  {
   "cell_type": "markdown",
   "metadata": {},
   "source": [
    "Para terminar con esta práctica, veamos de qué manera se pueden relacionar las tres geometrías que hemos visto. Para ello introduciremos un método muy útil, el [join espacial](https://geopandas.org/reference/geopandas.sjoin.html) de `geopandas`. Este método nos va a permitir ver, en primera instancia, en qué barrio cae cada uno de los desarrollos inmobiliarios que hemos creado."
   ]
  },
  {
   "cell_type": "code",
   "execution_count": 141,
   "metadata": {},
   "outputs": [],
   "source": [
    "# importamos el método join espacial\n",
    "from geopandas import sjoin "
   ]
  },
  {
   "cell_type": "code",
   "execution_count": 142,
   "metadata": {},
   "outputs": [],
   "source": [
    "# recuperamos nuestro shape de puntos\n",
    "puntos = gda_completo.to_crs(barrios.crs).loc[gda_completo.inicia==2021]"
   ]
  },
  {
   "cell_type": "code",
   "execution_count": 143,
   "metadata": {},
   "outputs": [
    {
     "data": {
      "text/html": [
       "<div>\n",
       "<style scoped>\n",
       "    .dataframe tbody tr th:only-of-type {\n",
       "        vertical-align: middle;\n",
       "    }\n",
       "\n",
       "    .dataframe tbody tr th {\n",
       "        vertical-align: top;\n",
       "    }\n",
       "\n",
       "    .dataframe thead th {\n",
       "        text-align: right;\n",
       "    }\n",
       "</style>\n",
       "<table border=\"1\" class=\"dataframe\">\n",
       "  <thead>\n",
       "    <tr style=\"text-align: right;\">\n",
       "      <th></th>\n",
       "      <th>id</th>\n",
       "      <th>inicia</th>\n",
       "      <th>finaliza</th>\n",
       "      <th>total</th>\n",
       "      <th>0_amb</th>\n",
       "      <th>1_amb</th>\n",
       "      <th>2_amb</th>\n",
       "      <th>3_amb</th>\n",
       "      <th>4_amb</th>\n",
       "      <th>5_amb</th>\n",
       "      <th>latitud</th>\n",
       "      <th>longitud</th>\n",
       "      <th>geometry</th>\n",
       "      <th>index_right</th>\n",
       "      <th>BARRIO</th>\n",
       "      <th>COMUNA</th>\n",
       "      <th>PERIMETRO</th>\n",
       "      <th>AREA</th>\n",
       "      <th>OBJETO</th>\n",
       "    </tr>\n",
       "  </thead>\n",
       "  <tbody>\n",
       "    <tr>\n",
       "      <th>1</th>\n",
       "      <td>C1024FDA</td>\n",
       "      <td>2021</td>\n",
       "      <td>2022</td>\n",
       "      <td>32</td>\n",
       "      <td>5</td>\n",
       "      <td>11</td>\n",
       "      <td>1</td>\n",
       "      <td>1</td>\n",
       "      <td>10</td>\n",
       "      <td>4</td>\n",
       "      <td>-34.587376</td>\n",
       "      <td>-58.387178</td>\n",
       "      <td>POINT (106983.680 104644.865)</td>\n",
       "      <td>44</td>\n",
       "      <td>RECOLETA</td>\n",
       "      <td>2.0</td>\n",
       "      <td>21452.838648</td>\n",
       "      <td>6.317265e+06</td>\n",
       "      <td>BARRIO</td>\n",
       "    </tr>\n",
       "    <tr>\n",
       "      <th>3</th>\n",
       "      <td>C1171ABM</td>\n",
       "      <td>2021</td>\n",
       "      <td>2022</td>\n",
       "      <td>41</td>\n",
       "      <td>1</td>\n",
       "      <td>14</td>\n",
       "      <td>2</td>\n",
       "      <td>4</td>\n",
       "      <td>6</td>\n",
       "      <td>14</td>\n",
       "      <td>-34.602508</td>\n",
       "      <td>-58.411549</td>\n",
       "      <td>POINT (104746.926 102967.572)</td>\n",
       "      <td>24</td>\n",
       "      <td>BALVANERA</td>\n",
       "      <td>3.0</td>\n",
       "      <td>8375.821811</td>\n",
       "      <td>4.342280e+06</td>\n",
       "      <td>BARRIO</td>\n",
       "    </tr>\n",
       "    <tr>\n",
       "      <th>5</th>\n",
       "      <td>C1097AAX</td>\n",
       "      <td>2021</td>\n",
       "      <td>2022</td>\n",
       "      <td>43</td>\n",
       "      <td>4</td>\n",
       "      <td>3</td>\n",
       "      <td>2</td>\n",
       "      <td>12</td>\n",
       "      <td>7</td>\n",
       "      <td>15</td>\n",
       "      <td>-34.615230</td>\n",
       "      <td>-58.381981</td>\n",
       "      <td>POINT (107458.012 101554.571)</td>\n",
       "      <td>41</td>\n",
       "      <td>MONSERRAT</td>\n",
       "      <td>1.0</td>\n",
       "      <td>6739.222311</td>\n",
       "      <td>2.198622e+06</td>\n",
       "      <td>BARRIO</td>\n",
       "    </tr>\n",
       "  </tbody>\n",
       "</table>\n",
       "</div>"
      ],
      "text/plain": [
       "         id  inicia  finaliza  total  0_amb  1_amb  2_amb  3_amb  4_amb  \\\n",
       "1  C1024FDA    2021      2022     32      5     11      1      1     10   \n",
       "3  C1171ABM    2021      2022     41      1     14      2      4      6   \n",
       "5  C1097AAX    2021      2022     43      4      3      2     12      7   \n",
       "\n",
       "   5_amb    latitud   longitud                       geometry  index_right  \\\n",
       "1      4 -34.587376 -58.387178  POINT (106983.680 104644.865)           44   \n",
       "3     14 -34.602508 -58.411549  POINT (104746.926 102967.572)           24   \n",
       "5     15 -34.615230 -58.381981  POINT (107458.012 101554.571)           41   \n",
       "\n",
       "      BARRIO  COMUNA     PERIMETRO          AREA  OBJETO  \n",
       "1   RECOLETA     2.0  21452.838648  6.317265e+06  BARRIO  \n",
       "3  BALVANERA     3.0   8375.821811  4.342280e+06  BARRIO  \n",
       "5  MONSERRAT     1.0   6739.222311  2.198622e+06  BARRIO  "
      ]
     },
     "execution_count": 143,
     "metadata": {},
     "output_type": "execute_result"
    }
   ],
   "source": [
    "# este método no nos concatena los geodataframes. También nos devuelve el índice del objeto unido\n",
    "gpd.sjoin(puntos, barrios)"
   ]
  },
  {
   "cell_type": "code",
   "execution_count": 144,
   "metadata": {},
   "outputs": [],
   "source": [
    "# instanciamos nuestro gdf de puntos con su etiqueta de barrios\n",
    "ptos_barrio = gpd.sjoin(puntos, barrios)"
   ]
  },
  {
   "cell_type": "code",
   "execution_count": 145,
   "metadata": {},
   "outputs": [
    {
     "data": {
      "text/plain": [
       "[44, 24, 41]"
      ]
     },
     "execution_count": 145,
     "metadata": {},
     "output_type": "execute_result"
    }
   ],
   "source": [
    "# utilizamos el right index para filtrar los barrios en lo que cae cada punto\n",
    "[barrios.index[i] for i in ptos_barrio['index_right']]"
   ]
  },
  {
   "cell_type": "code",
   "execution_count": 146,
   "metadata": {},
   "outputs": [
    {
     "data": {
      "text/html": [
       "<div>\n",
       "<style scoped>\n",
       "    .dataframe tbody tr th:only-of-type {\n",
       "        vertical-align: middle;\n",
       "    }\n",
       "\n",
       "    .dataframe tbody tr th {\n",
       "        vertical-align: top;\n",
       "    }\n",
       "\n",
       "    .dataframe thead th {\n",
       "        text-align: right;\n",
       "    }\n",
       "</style>\n",
       "<table border=\"1\" class=\"dataframe\">\n",
       "  <thead>\n",
       "    <tr style=\"text-align: right;\">\n",
       "      <th></th>\n",
       "      <th>BARRIO</th>\n",
       "      <th>COMUNA</th>\n",
       "      <th>PERIMETRO</th>\n",
       "      <th>AREA</th>\n",
       "      <th>OBJETO</th>\n",
       "      <th>geometry</th>\n",
       "    </tr>\n",
       "  </thead>\n",
       "  <tbody>\n",
       "    <tr>\n",
       "      <th>44</th>\n",
       "      <td>RECOLETA</td>\n",
       "      <td>2.0</td>\n",
       "      <td>21452.838648</td>\n",
       "      <td>6.317265e+06</td>\n",
       "      <td>BARRIO</td>\n",
       "      <td>POLYGON ((107643.458 106569.299, 107641.492 10...</td>\n",
       "    </tr>\n",
       "    <tr>\n",
       "      <th>24</th>\n",
       "      <td>BALVANERA</td>\n",
       "      <td>3.0</td>\n",
       "      <td>8375.821811</td>\n",
       "      <td>4.342280e+06</td>\n",
       "      <td>BARRIO</td>\n",
       "      <td>POLYGON ((104713.283 103467.380, 104862.315 10...</td>\n",
       "    </tr>\n",
       "    <tr>\n",
       "      <th>41</th>\n",
       "      <td>MONSERRAT</td>\n",
       "      <td>1.0</td>\n",
       "      <td>6739.222311</td>\n",
       "      <td>2.198622e+06</td>\n",
       "      <td>BARRIO</td>\n",
       "      <td>POLYGON ((108667.802 102485.741, 108727.534 10...</td>\n",
       "    </tr>\n",
       "  </tbody>\n",
       "</table>\n",
       "</div>"
      ],
      "text/plain": [
       "       BARRIO  COMUNA     PERIMETRO          AREA  OBJETO  \\\n",
       "44   RECOLETA     2.0  21452.838648  6.317265e+06  BARRIO   \n",
       "24  BALVANERA     3.0   8375.821811  4.342280e+06  BARRIO   \n",
       "41  MONSERRAT     1.0   6739.222311  2.198622e+06  BARRIO   \n",
       "\n",
       "                                             geometry  \n",
       "44  POLYGON ((107643.458 106569.299, 107641.492 10...  \n",
       "24  POLYGON ((104713.283 103467.380, 104862.315 10...  \n",
       "41  POLYGON ((108667.802 102485.741, 108727.534 10...  "
      ]
     },
     "execution_count": 146,
     "metadata": {},
     "output_type": "execute_result"
    }
   ],
   "source": [
    "# usamos esa lista para indexar nuestro gdf de barrios\n",
    "barrios.loc[[barrios.index[i] for i in ptos_barrio['index_right']]]"
   ]
  },
  {
   "cell_type": "code",
   "execution_count": 147,
   "metadata": {},
   "outputs": [],
   "source": [
    "# guardamos nuestros barrios filtrados\n",
    "barrios_filtro = barrios.loc[[barrios.index[i] for i in ptos_barrio['index_right']]]"
   ]
  },
  {
   "cell_type": "code",
   "execution_count": 148,
   "metadata": {},
   "outputs": [
    {
     "data": {
      "image/png": "[encoded data removed]",
      "text/plain": [
       "<Figure size 432x288 with 1 Axes>"
      ]
     },
     "metadata": {
      "needs_background": "light"
     },
     "output_type": "display_data"
    }
   ],
   "source": [
    "barrios_filtro.plot();"
   ]
  },
  {
   "cell_type": "markdown",
   "metadata": {},
   "source": [
    "En esta práctica no vamos a profundizar en visualizaciones, pero adelantemonos a lo que sigue previsualizando cómo quedarían nuestros desarrollos en un contexto un poco más completo. Para ello, visualicemos dónde se localizan..."
   ]
  },
  {
   "cell_type": "code",
   "execution_count": 149,
   "metadata": {},
   "outputs": [],
   "source": [
    "import matplotlib.pyplot as plt\n",
    "%matplotlib inline"
   ]
  },
  {
   "cell_type": "code",
   "execution_count": 150,
   "metadata": {},
   "outputs": [
    {
     "data": {
      "image/png": "[encoded data removed]",
      "text/plain": [
       "<Figure size 432x288 with 1 Axes>"
      ]
     },
     "metadata": {
      "needs_background": "light"
     },
     "output_type": "display_data"
    }
   ],
   "source": [
    "# creamos la figura y el eje y ploteamos\n",
    "fig = plt.figure()\n",
    "ax = fig.add_subplot(1,1,1)\n",
    "barrios_filtro.plot(ax=ax)\n",
    "ptos_barrio.plot(ax=ax, color='red');"
   ]
  },
  {
   "cell_type": "markdown",
   "metadata": {},
   "source": [
    "Y ahora veamos cómo quedaría nuestro mapa de desarrollos si quisiéramos graduar nuestro gdf de puntos en función de la cantidad de departamos por tamaño. Así, veremos la representación de cada desarrollo graduado en calidad del porcentaje de unidades funcionales según ambientes. Veamos el ejemplo..."
   ]
  },
  {
   "cell_type": "code",
   "execution_count": 151,
   "metadata": {},
   "outputs": [
    {
     "data": {
      "image/png": "[encoded data removed]",
      "text/plain": [
       "<Figure size 864x504 with 3 Axes>"
      ]
     },
     "metadata": {
      "needs_background": "light"
     },
     "output_type": "display_data"
    }
   ],
   "source": [
    "# Seteamos las figuras,\n",
    "fig = plt.figure(figsize=(12,7))\n",
    "\n",
    "# los ejes y ploteamos cada par de puntos/polígonos\n",
    "ax1 = fig.add_subplot(1,3,1)\n",
    "ax2 = fig.add_subplot(1,3,2)\n",
    "ax3 = fig.add_subplot(1,3,3)\n",
    "\n",
    "# axis 1\n",
    "barrios_filtro.plot(ax=ax1,\n",
    "                    color='lightgrey')\n",
    "ptos_barrio.plot(ax=ax1, \n",
    "                 color = 'red',\n",
    "                 markersize=ptos_barrio['1_amb']*100)\n",
    "ax1.set_axis_off()\n",
    "ax1.set_title('Departamentos de 1amb')\n",
    "\n",
    "# axis 2\n",
    "barrios_filtro.plot(ax=ax2,\n",
    "                   color='lightgrey')\n",
    "ptos_barrio.plot(ax=ax2, \n",
    "                 color = 'blue',\n",
    "                 markersize=ptos_barrio['3_amb']*100)\n",
    "ax2.set_axis_off()\n",
    "ax2.set_title('Departamentos de 3amb')\n",
    "\n",
    "# axis 3\n",
    "barrios_filtro.plot(ax=ax3,\n",
    "                   color='lightgrey')\n",
    "ptos_barrio.plot(ax=ax3, \n",
    "                 color = 'brown',\n",
    "                 markersize=ptos_barrio['5_amb']*100)\n",
    "ax3.set_axis_off()\n",
    "ax3.set_title('Departamentos de 5amb');"
   ]
  },
  {
   "cell_type": "markdown",
   "metadata": {},
   "source": [
    "Por último, incorporemos nuestro análisis de distancias. Para eso, volvamos a construir un gdf de líneas a partir del de puntos con el que ploteamos antes."
   ]
  },
  {
   "cell_type": "code",
   "execution_count": 152,
   "metadata": {},
   "outputs": [],
   "source": [
    "def point_to_line(gdf,idx):\n",
    "    '''\n",
    "    Convierte una Point geometry en LineString\n",
    "    a partir de un set de coordenadas de inicio y fin.\n",
    "     ...\n",
    "    Argumentos:\n",
    "        gdf(gdf): GeoDataFrame de puntos \n",
    "        idx(int): Posición de cada geometría dentro del gdf. \n",
    "    Devuelve:\n",
    "        LineString\n",
    "    '''    \n",
    "    x_inicio = gdf.iloc[idx].geometry.x\n",
    "    y_inicio = gdf.iloc[idx].geometry.y\n",
    "    \n",
    "    try:\n",
    "        x_fin = gdf.iloc[idx+1].geometry.x\n",
    "        y_fin = gdf.iloc[idx+1].geometry.y\n",
    "    except:\n",
    "        x_fin = gdf.iloc[idx-idx].geometry.x\n",
    "        y_fin = gdf.iloc[idx-idx].geometry.y\n",
    "    \n",
    "    I = (x_inicio, y_inicio)\n",
    "    F = (x_fin, y_fin)\n",
    "    \n",
    "    new_geometry = LineString([I,F])\n",
    "    return new_geometry"
   ]
  },
  {
   "cell_type": "code",
   "execution_count": 153,
   "metadata": {},
   "outputs": [],
   "source": [
    "# Instanciamos las nuevas geometrías,\n",
    "distancias = [point_to_line(ptos_barrio,i) for i in range(len(ptos_barrio))]"
   ]
  },
  {
   "cell_type": "code",
   "execution_count": 154,
   "metadata": {},
   "outputs": [],
   "source": [
    "# hacemos una copia de nuestro gdf de puntos \n",
    "dist_barrio = ptos_barrio.copy()"
   ]
  },
  {
   "cell_type": "code",
   "execution_count": 155,
   "metadata": {},
   "outputs": [],
   "source": [
    "# y pisamos la geometría de puntos con la de lineas. Ahora tenemos el recorrido aéreo entre cada punto\n",
    "dist_barrio.geometry = distancias"
   ]
  },
  {
   "cell_type": "code",
   "execution_count": 156,
   "metadata": {},
   "outputs": [
    {
     "data": {
      "image/png": "[encoded data removed]",
      "text/plain": [
       "<Figure size 432x288 with 1 Axes>"
      ]
     },
     "metadata": {
      "needs_background": "light"
     },
     "output_type": "display_data"
    }
   ],
   "source": [
    "# Vemos cómo queda rápidamente...\n",
    "fig = plt.figure()\n",
    "ax = fig.add_subplot(1,1,1)\n",
    "barrios_filtro.plot(ax=ax)\n",
    "dist_barrio.plot(ax=ax, color='red');"
   ]
  },
  {
   "cell_type": "code",
   "execution_count": 157,
   "metadata": {},
   "outputs": [],
   "source": [
    "# Creamos el atributo de distancia con 'lenght'\n",
    "dist_barrio['distancia'] = dist_barrio.geometry.length"
   ]
  },
  {
   "cell_type": "markdown",
   "metadata": {},
   "source": [
    "A continuación, retomamos el código del último plot pero agregando el atributo de distancias aéreas. Reparemos en cómo se agregan los 4 subplots para cada mapa."
   ]
  },
  {
   "cell_type": "code",
   "execution_count": 158,
   "metadata": {},
   "outputs": [
    {
     "data": {
      "image/png": "[encoded data removed]",
      "text/plain": [
       "<Figure size 1080x504 with 4 Axes>"
      ]
     },
     "metadata": {
      "needs_background": "light"
     },
     "output_type": "display_data"
    }
   ],
   "source": [
    "# Figuras y ejes,\n",
    "fig = plt.figure(figsize=(15,7))\n",
    "\n",
    "ax1 = fig.add_subplot(1,4,1)\n",
    "ax2 = fig.add_subplot(1,4,2)\n",
    "ax3 = fig.add_subplot(1,4,3)\n",
    "ax4 = fig.add_subplot(1,4,4)\n",
    "\n",
    "# axis 1\n",
    "barrios_filtro.plot(ax=ax1,\n",
    "                    color='lightgrey')\n",
    "ptos_barrio.plot(ax=ax1, \n",
    "                 color = 'red',\n",
    "                 markersize=ptos_barrio['1_amb']*100)\n",
    "ax1.set_axis_off()\n",
    "ax1.set_title('Departamentos de 1amb')\n",
    "\n",
    "# axis 2\n",
    "barrios_filtro.plot(ax=ax2,\n",
    "                   color='lightgrey')\n",
    "ptos_barrio.plot(ax=ax2, \n",
    "                 color = 'blue',\n",
    "                 markersize=ptos_barrio['3_amb']*100)\n",
    "ax2.set_axis_off()\n",
    "ax2.set_title('Departamentos de 3amb')\n",
    "\n",
    "# axis 3\n",
    "barrios_filtro.plot(ax=ax3,\n",
    "                   color='lightgrey')\n",
    "ptos_barrio.plot(ax=ax3, \n",
    "                 color = 'brown',\n",
    "                 markersize=ptos_barrio['5_amb']*100)\n",
    "ax3.set_axis_off()\n",
    "ax3.set_title('Departamentos de 5amb')\n",
    "\n",
    "# axis 4\n",
    "barrios_filtro.plot(ax=ax4,\n",
    "                   color='lightgrey')\n",
    "dist_barrio.plot(ax=ax4, \n",
    "                 color = 'green',\n",
    "                 linewidth = dist_barrio.distancia/150,alpha = 0.5,\n",
    "                 legend=True)\n",
    "ax4.set_axis_off()\n",
    "ax4.set_title('Distancia aérea entre desarrollos');"
   ]
  },
  {
   "cell_type": "markdown",
   "metadata": {},
   "source": [
    "Y si quisiéramos brindar algún tipo de información adicional, también se podrían agregar las leyendas. Como sugerencia, es importante considerar que lo que queremos comunicar tiene un sentido. Por ejemplo, si estamos graduando puntos o líneas es recomendable usar [cmap](https://matplotlib.org/3.2.0/tutorials/colors/colormaps.html) secuenciales. Otro caso, podría ser el ploteo de información diferenciada en categorías. Para estas situaciones, es mejor otro tipo de paletas. Como por ejemplo los `qualitative colormaps`."
   ]
  },
  {
   "cell_type": "code",
   "execution_count": 159,
   "metadata": {},
   "outputs": [
    {
     "data": {
      "image/png": "[encoded data removed]",
      "text/plain": [
       "<Figure size 1080x504 with 4 Axes>"
      ]
     },
     "metadata": {
      "needs_background": "light"
     },
     "output_type": "display_data"
    }
   ],
   "source": [
    "# Figuras y ejes, cambiamos el tamaño para plotear mejor las leyendas\n",
    "fig = plt.figure(figsize=(15,7))\n",
    "\n",
    "ax1 = fig.add_subplot(1,2,1)\n",
    "ax2 = fig.add_subplot(1,2,2)\n",
    "\n",
    "\n",
    "# axis 1\n",
    "barrios_filtro.plot(ax=ax1,\n",
    "                    color='lightgrey')\n",
    "ptos_barrio.plot(ax=ax1, \n",
    "                 column = '1_amb',\n",
    "                 legend=True,\n",
    "                 cmap='PuRd',\n",
    "                 markersize=ptos_barrio['1_amb']*100)\n",
    "ax1.set_axis_off()\n",
    "ax1.set_title('Departamentos de 1amb')\n",
    "\n",
    "\n",
    "# axis 2\n",
    "barrios_filtro.plot(ax=ax2,\n",
    "                   color='lightgrey')\n",
    "dist_barrio.plot(ax=ax2, \n",
    "                 column = 'distancia',\n",
    "                 legend=True,\n",
    "                 cmap='BuPu',\n",
    "                 linewidth = dist_barrio.distancia/150,alpha = 0.5,\n",
    "                 )\n",
    "ax2.set_axis_off()\n",
    "ax2.set_title('Distancia aérea entre desarrollos');"
   ]
  }
 ],
 "metadata": {
  "kernelspec": {
   "display_name": "mdg",
   "language": "python",
   "name": "mdg"
  },
  "language_info": {
   "codemirror_mode": {
    "name": "ipython",
    "version": 3
   },
   "file_extension": ".py",
   "mimetype": "text/x-python",
   "name": "python",
   "nbconvert_exporter": "python",
   "pygments_lexer": "ipython3",
   "version": "3.7.6"
  }
 },
 "nbformat": 4,
 "nbformat_minor": 2
}
