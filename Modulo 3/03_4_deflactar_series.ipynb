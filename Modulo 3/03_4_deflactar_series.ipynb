{
 "cells": [
  {
   "cell_type": "markdown",
   "metadata": {},
   "source": [
    "<a href=\"https://colab.research.google.com/github/PyMap/AUPY/blob/master/Modulo%203/03_4_deflactar_series.ipynb\" target=\"_parent\"><img src=\"https://colab.research.google.com/assets/colab-badge.svg\" alt=\"Open In Colab\"/></a>"
   ]
  },
  {
   "cell_type": "markdown",
   "metadata": {
    "id": "tZsBha-hT6K-"
   },
   "source": [
    "# Grandes volúmenes de datos\n",
    "\n"
   ]
  },
  {
   "cell_type": "markdown",
   "metadata": {
    "id": "5173ky-TT6LE"
   },
   "source": [
    "## [Properati](https://blog.properati.com.ar/category/contenidos-data/), un ejemplo aplicado al mundo del real estate ... "
   ]
  },
  {
   "cell_type": "markdown",
   "metadata": {
    "id": "ob_dT5mDRGIY"
   },
   "source": [
    "Como científico de datos urbanos, una dimensión de interés es lo que sucede en el mundo de la vivienda. Al menos aquella que circula dentro de un mercado formal.\n",
    "\n",
    "Construir nuestros propios índices de precios y seguirlos a lo largo de un período, evaluar la distribución espacial de las distintas tipologías o incluso estudiar los niveles de inflación. Todas, preguntas que podríamos llegar a hacernos frente a un análisis que involucre a la viviendas como nuestro objeto de estudio.\n",
    "\n",
    "La noción de BigData puede ser a veces un poco difusa. Sin embargo, no queda duda que este concepto está innegablemente ligado a la noción de tiempo. Más datos suceden en más tiempo. Por eso, aprender a trabajar con conjuntos de datos administrados, accesibles a lo largo del tiempo es tan importante. Porque nos abre las puertas para trabajar con cuestiones de interés.\n",
    "\n",
    "El portal inmobiliario `properati` 🏢 es un buen caso de uso para hablar de Big Data y ciencia de datos espaciales. Una fuente que se actualiza constantemente y que nos permitiría hasta incluso rutinizar tareas que se repitan periódicamente.\n",
    "\n",
    "`properati`<img src='https://drive.google.com/uc?id=1I_RcTUGu4xk5Sh38v-QFINPmGOYgum4-' width=25px, height=25/>"
   ]
  },
  {
   "cell_type": "markdown",
   "metadata": {
    "id": "bBWPuRZdT6LE"
   },
   "source": [
    "### El conjunto de datos \n",
    "\n",
    "Properati almacena sus registros de publicaciones en distintos conjuntos de datos. Todos ellos correspondientes a múltiples países de latinoamérica (algo también interesante, no?). Imagínense todas las preguntas que podríamos responder, o rutinas que podríamos estandarizar para construir nuestra propia información.\n",
    "\n",
    "Para esta clase, vamos a trabajar con uno de los extractos descargable en formato csv. L@s que estén interesados en ver cómo funcionan las consultas en la consola de google cloud utilizando Big Query puede ir al material complementario. Como decíamos, estos extractos son porciones organizadas en fechas que se actualizan diariamente. Con el que trabajaremos corresponde a argentina. \n",
    "\n",
    "Cada tabla correspondiente al conjunto de datos de cada país tiene el siguiente esquema:\n"
   ]
  },
  {
   "cell_type": "markdown",
   "metadata": {
    "id": "98zcinSdT6LE"
   },
   "source": [
    "* **ad_type** - Tipo de aviso (Propiedad, Desarrollo).\n",
    "* **id** - Identificador del aviso. No es único: si el aviso es actualizado por la inmobiliaria (nueva versión del aviso) se crea un nuevo registro con la misma id pero distintas fechas.\n",
    "* **start_date** - Fecha de alta del aviso.\n",
    "* **end_date** - Fecha de baja del aviso.\n",
    "* **created_on** - Fecha de alta de la primera versión del aviso.\n",
    "* **place** - Campos referidos a la ubicación de la propiedad o del desarrollo.\n",
    "  * **lat** - Latitud.\n",
    "  * **lon** - Longitud.\n",
    "  * **l1** - Nivel geopolítico 1: país.\n",
    "  * **l2** - Nivel geopolítico 2: usualmente provincia.\n",
    "  * **l3** - Nivel geopolítico 3: usualmente ciudad/localidad.\n",
    "  * **l4 a l6** - Niveles geopolíticos 4 a 6: usualmente barrio.\n",
    "* **property** - Campos relativos a la propiedad (vacío si el aviso es de un desarrollo).\n",
    "  * **operation_type** - Tipo de operación (Venta, Alquiler y Alquiler temporal ).\n",
    "  * **property_type** - Tipo de propiedad (Casa, Departamento, PH, etc.).\n",
    "  * **rooms** - Cantidad de ambientes (útil en Argentina).\n",
    "  * **bedrooms** - Cantidad de dormitorios (útil en el resto de los países).\n",
    "  * **bathrooms** - Cantidad de baños.\n",
    "  * **surface_total** - Superficie total en m².\n",
    "  * **surface_covered** - Superficie cubierta en m².\n",
    "  * **price** - Precio publicado en el anuncio.\n",
    "  * **currency** - Moneda del precio publicado.\n",
    "  * **price_period** - Periodo del precio (Diario, Semanal, Mensual)\n",
    "  * **title** - Título del anuncio.\n",
    "  * **description** - Descripción del anuncio.\n"
   ]
  },
  {
   "cell_type": "code",
   "execution_count": null,
   "metadata": {
    "executionInfo": {
     "elapsed": 446,
     "status": "ok",
     "timestamp": 1624736335926,
     "user": {
      "displayName": "Federico Catalano",
      "photoUrl": "",
      "userId": "05639651212963955278"
     },
     "user_tz": 180
    },
    "id": "V6wSTfJId7i2"
   },
   "outputs": [],
   "source": [
    "import pandas as pd"
   ]
  },
  {
   "cell_type": "code",
   "execution_count": null,
   "metadata": {
    "executionInfo": {
     "elapsed": 24281,
     "status": "ok",
     "timestamp": 1624736388476,
     "user": {
      "displayName": "Federico Catalano",
      "photoUrl": "",
      "userId": "05639651212963955278"
     },
     "user_tz": 180
    },
    "id": "oClxOC-bfnpq"
   },
   "outputs": [],
   "source": [
    "df = pd.read_csv('https://storage.googleapis.com/python_mdg/data_cursos/ar_properties.csv.gz')"
   ]
  },
  {
   "cell_type": "code",
   "execution_count": null,
   "metadata": {
    "colab": {
     "base_uri": "https://localhost:8080/"
    },
    "executionInfo": {
     "elapsed": 25,
     "status": "ok",
     "timestamp": 1624736388481,
     "user": {
      "displayName": "Federico Catalano",
      "photoUrl": "",
      "userId": "05639651212963955278"
     },
     "user_tz": 180
    },
    "id": "CywOTI89fnyn",
    "outputId": "c521f154-650a-407d-a046-99483e17cd71"
   },
   "outputs": [],
   "source": [
    "df.columns"
   ]
  },
  {
   "cell_type": "markdown",
   "metadata": {
    "id": "Ts8J8xEXsyyH"
   },
   "source": [
    "## Fechas, días y el uso de `datetime`"
   ]
  },
  {
   "cell_type": "markdown",
   "metadata": {
    "id": "1BrGh-c3s68A"
   },
   "source": [
    "**Datetime** es un modulo de pandas diseñado para manipular fechas y horas. Las clases que provee permite tanto operaciones aritméticas como la extraccion de campos como dia, mes, fecha y hora de una manera rapida y eficiente."
   ]
  },
  {
   "cell_type": "code",
   "execution_count": null,
   "metadata": {
    "executionInfo": {
     "elapsed": 14,
     "status": "ok",
     "timestamp": 1624736388482,
     "user": {
      "displayName": "Federico Catalano",
      "photoUrl": "",
      "userId": "05639651212963955278"
     },
     "user_tz": 180
    },
    "id": "qxf1sfT9s7Ac"
   },
   "outputs": [],
   "source": [
    "# importamos el modulo\n",
    "from datetime import datetime"
   ]
  },
  {
   "cell_type": "code",
   "execution_count": null,
   "metadata": {
    "colab": {
     "base_uri": "https://localhost:8080/",
     "height": 35
    },
    "executionInfo": {
     "elapsed": 14,
     "status": "ok",
     "timestamp": 1624736388482,
     "user": {
      "displayName": "Federico Catalano",
      "photoUrl": "",
      "userId": "05639651212963955278"
     },
     "user_tz": 180
    },
    "id": "t3qj2z2h64pk",
    "outputId": "b86d831d-00b0-4c71-c96f-45374aa772f1"
   },
   "outputs": [],
   "source": [
    "df.start_date[0]"
   ]
  },
  {
   "cell_type": "code",
   "execution_count": null,
   "metadata": {
    "colab": {
     "base_uri": "https://localhost:8080/"
    },
    "executionInfo": {
     "elapsed": 13,
     "status": "ok",
     "timestamp": 1624736388483,
     "user": {
      "displayName": "Federico Catalano",
      "photoUrl": "",
      "userId": "05639651212963955278"
     },
     "user_tz": 180
    },
    "id": "Sb3_q_t4s7Sr",
    "outputId": "56b3d75b-fd6a-4587-8098-5a9928b6550b"
   },
   "outputs": [],
   "source": [
    "# convirtamos el primer registro de la serie Fecha a dias. Esto nos devolvera un valor posicional\n",
    "datetime.strptime(df.start_date[0],'%Y-%m-%d').weekday()"
   ]
  },
  {
   "cell_type": "code",
   "execution_count": null,
   "metadata": {
    "executionInfo": {
     "elapsed": 9449,
     "status": "ok",
     "timestamp": 1624736397923,
     "user": {
      "displayName": "Federico Catalano",
      "photoUrl": "",
      "userId": "05639651212963955278"
     },
     "user_tz": 180
    },
    "id": "_hWU8Cuss7WU"
   },
   "outputs": [],
   "source": [
    " # Y obtengamos el dia de la semana para todo el dataset\n",
    "dia_semana = df.start_date.apply(lambda x: datetime.strptime(x,'%Y-%m-%d').weekday())"
   ]
  },
  {
   "cell_type": "code",
   "execution_count": null,
   "metadata": {
    "colab": {
     "base_uri": "https://localhost:8080/"
    },
    "executionInfo": {
     "elapsed": 24,
     "status": "ok",
     "timestamp": 1624736397926,
     "user": {
      "displayName": "Federico Catalano",
      "photoUrl": "",
      "userId": "05639651212963955278"
     },
     "user_tz": 180
    },
    "id": "0cUV6zUHs7Z4",
    "outputId": "6c88825e-5b89-4224-f7a2-a5799192a4c3"
   },
   "outputs": [],
   "source": [
    "dia_semana"
   ]
  },
  {
   "cell_type": "code",
   "execution_count": null,
   "metadata": {
    "executionInfo": {
     "elapsed": 18,
     "status": "ok",
     "timestamp": 1624736397927,
     "user": {
      "displayName": "Federico Catalano",
      "photoUrl": "",
      "userId": "05639651212963955278"
     },
     "user_tz": 180
    },
    "id": "6nqwAPI_vK8b"
   },
   "outputs": [],
   "source": [
    "df['dia_semana'] = dia_semana.copy()"
   ]
  },
  {
   "cell_type": "code",
   "execution_count": null,
   "metadata": {
    "executionInfo": {
     "elapsed": 17,
     "status": "ok",
     "timestamp": 1624736397927,
     "user": {
      "displayName": "Federico Catalano",
      "photoUrl": "",
      "userId": "05639651212963955278"
     },
     "user_tz": 180
    },
    "id": "6JPBUofjs7dH"
   },
   "outputs": [],
   "source": [
    "# cambiamos de posicional a nombres\n",
    "df['dia_semana'].replace({0:'lunes', \n",
    "                          1:'martes', \n",
    "                          2:'miercoles', \n",
    "                          3:'jueves', \n",
    "                          4:'viernes', \n",
    "                          5:'sabado', \n",
    "                          6:'domingo'}, inplace=True)"
   ]
  },
  {
   "cell_type": "code",
   "execution_count": null,
   "metadata": {
    "colab": {
     "base_uri": "https://localhost:8080/"
    },
    "executionInfo": {
     "elapsed": 17,
     "status": "ok",
     "timestamp": 1624736397927,
     "user": {
      "displayName": "Federico Catalano",
      "photoUrl": "",
      "userId": "05639651212963955278"
     },
     "user_tz": 180
    },
    "id": "oNglnAtovB5x",
    "outputId": "36105a8d-dce6-4717-c97d-7d3c2c5fcaf8"
   },
   "outputs": [],
   "source": [
    "df['dia_semana'].value_counts()"
   ]
  },
  {
   "cell_type": "markdown",
   "metadata": {
    "id": "u-3iOgyZvB9T"
   },
   "source": [
    "Otro camino que podriamos haber tomado para trabajar con datetime, es a partir del metodo to_datetime de pandas. Veamos algunos ejemplos..."
   ]
  },
  {
   "cell_type": "code",
   "execution_count": null,
   "metadata": {
    "colab": {
     "base_uri": "https://localhost:8080/"
    },
    "executionInfo": {
     "elapsed": 721,
     "status": "ok",
     "timestamp": 1624736398635,
     "user": {
      "displayName": "Federico Catalano",
      "photoUrl": "",
      "userId": "05639651212963955278"
     },
     "user_tz": 180
    },
    "id": "NzdyBccsvCA2",
    "outputId": "da6f0264-556e-4970-90d8-efc994a9ff6e"
   },
   "outputs": [],
   "source": [
    "# esto nos devuelve el mes\n",
    "pd.to_datetime(df.start_date).dt.month"
   ]
  },
  {
   "cell_type": "code",
   "execution_count": null,
   "metadata": {
    "colab": {
     "base_uri": "https://localhost:8080/"
    },
    "executionInfo": {
     "elapsed": 421,
     "status": "ok",
     "timestamp": 1624736399055,
     "user": {
      "displayName": "Federico Catalano",
      "photoUrl": "",
      "userId": "05639651212963955278"
     },
     "user_tz": 180
    },
    "id": "rB5mtTP3vCEU",
    "outputId": "b49de93d-05a8-4d9d-879e-b30e42c1358f"
   },
   "outputs": [],
   "source": [
    "# la fecha en formato datetim64\n",
    "pd.to_datetime(df.start_date).dt.date.astype('datetime64') "
   ]
  },
  {
   "cell_type": "code",
   "execution_count": null,
   "metadata": {
    "colab": {
     "base_uri": "https://localhost:8080/"
    },
    "executionInfo": {
     "elapsed": 6,
     "status": "ok",
     "timestamp": 1624736399056,
     "user": {
      "displayName": "Federico Catalano",
      "photoUrl": "",
      "userId": "05639651212963955278"
     },
     "user_tz": 180
    },
    "id": "nrSs1nndvCH1",
    "outputId": "4579dd94-1437-4a5e-928b-2e9ab3e22f1e"
   },
   "outputs": [],
   "source": [
    "# el dia de la semana\n",
    "pd.to_datetime(df.start_date).dt.weekday"
   ]
  },
  {
   "cell_type": "markdown",
   "metadata": {
    "id": "sm4P3pQrfSZn"
   },
   "source": [
    "... volviendo a lo nuestro, nosotros habíamos generado una nueva Serie con el día de la publicación. Esto nos permitiría hablar de algo puntual. Si hay algún día de la semana en el que \"se publique más\".\n",
    "\n",
    "Tomemos como excusa esta consigna para introducir algunos conceptos generales de ploteo."
   ]
  },
  {
   "cell_type": "code",
   "execution_count": null,
   "metadata": {
    "colab": {
     "base_uri": "https://localhost:8080/",
     "height": 304
    },
    "executionInfo": {
     "elapsed": 620,
     "status": "ok",
     "timestamp": 1624736399673,
     "user": {
      "displayName": "Federico Catalano",
      "photoUrl": "",
      "userId": "05639651212963955278"
     },
     "user_tz": 180
    },
    "id": "PQiLiBIEj2mq",
    "outputId": "ab6de901-c996-44ab-e8e9-2fff3f5cf36b"
   },
   "outputs": [],
   "source": [
    "df['dia_semana'].value_counts().plot(kind='bar',grid=True, color='#2F9599');"
   ]
  },
  {
   "cell_type": "code",
   "execution_count": null,
   "metadata": {
    "colab": {
     "base_uri": "https://localhost:8080/"
    },
    "executionInfo": {
     "elapsed": 10,
     "status": "ok",
     "timestamp": 1624736399673,
     "user": {
      "displayName": "Federico Catalano",
      "photoUrl": "",
      "userId": "05639651212963955278"
     },
     "user_tz": 180
    },
    "id": "BTIF2dQMpjk8",
    "outputId": "53c33e5e-8d68-44f7-e52f-81e1ffab147b"
   },
   "outputs": [],
   "source": [
    "# le asignamos un nuevo label al axis 0\n",
    "orden = [\"lunes\", \"martes\", \"miercoles\", \"jueves\", \"viernes\", \"sabado\",\"domingo\"]\n",
    "df['dia_semana'].value_counts().reindex(orden)"
   ]
  },
  {
   "cell_type": "code",
   "execution_count": null,
   "metadata": {
    "colab": {
     "base_uri": "https://localhost:8080/",
     "height": 304
    },
    "executionInfo": {
     "elapsed": 1015,
     "status": "ok",
     "timestamp": 1624736400684,
     "user": {
      "displayName": "Federico Catalano",
      "photoUrl": "",
      "userId": "05639651212963955278"
     },
     "user_tz": 180
    },
    "id": "JZumRRVZqex5",
    "outputId": "fe2d8151-d67e-410e-abda-d421a5bb7f6d"
   },
   "outputs": [],
   "source": [
    "# y volvemos a plotear\n",
    "df['dia_semana'].value_counts().reindex(orden).plot(kind='bar',grid=True, color='#2F9599');"
   ]
  },
  {
   "cell_type": "code",
   "execution_count": null,
   "metadata": {
    "executionInfo": {
     "elapsed": 10,
     "status": "ok",
     "timestamp": 1624736400685,
     "user": {
      "displayName": "Federico Catalano",
      "photoUrl": "",
      "userId": "05639651212963955278"
     },
     "user_tz": 180
    },
    "id": "5ccuBg93nnsK"
   },
   "outputs": [],
   "source": [
    "# mes y año de inicio\n",
    "df['start_mes'] = pd.to_datetime(df.start_date).dt.month\n",
    "df['start_year'] = pd.to_datetime(df.start_date).dt.year"
   ]
  },
  {
   "cell_type": "code",
   "execution_count": null,
   "metadata": {
    "colab": {
     "base_uri": "https://localhost:8080/"
    },
    "executionInfo": {
     "elapsed": 645,
     "status": "ok",
     "timestamp": 1624736401320,
     "user": {
      "displayName": "Federico Catalano",
      "photoUrl": "",
      "userId": "05639651212963955278"
     },
     "user_tz": 180
    },
    "id": "qDeLWxt3sgQq",
    "outputId": "07fad207-888a-4164-9d43-22d3ed352bae"
   },
   "outputs": [],
   "source": [
    "# vemos los años involucrados en la serie\n",
    "df['start_year'].unique()"
   ]
  },
  {
   "cell_type": "code",
   "execution_count": null,
   "metadata": {
    "colab": {
     "base_uri": "https://localhost:8080/"
    },
    "executionInfo": {
     "elapsed": 33,
     "status": "ok",
     "timestamp": 1624736401321,
     "user": {
      "displayName": "Federico Catalano",
      "photoUrl": "",
      "userId": "05639651212963955278"
     },
     "user_tz": 180
    },
    "id": "HLv6XBkdpFSy",
    "outputId": "e2625ec5-c1bc-4491-eedb-02e7dc6a1034"
   },
   "outputs": [],
   "source": [
    "# nuestro indice podria ser anual. De marzo ...\n",
    "df.loc[df['start_year']==2020].start_mes.unique()"
   ]
  },
  {
   "cell_type": "code",
   "execution_count": null,
   "metadata": {
    "colab": {
     "base_uri": "https://localhost:8080/"
    },
    "executionInfo": {
     "elapsed": 25,
     "status": "ok",
     "timestamp": 1624736401322,
     "user": {
      "displayName": "Federico Catalano",
      "photoUrl": "",
      "userId": "05639651212963955278"
     },
     "user_tz": 180
    },
    "id": "wR63-mesp4iV",
    "outputId": "0f52fa21-7f81-4025-88b5-a09796b0fed2"
   },
   "outputs": [],
   "source": [
    "# ... a marzo\n",
    "df.loc[df['start_year']==2021].start_mes.unique()"
   ]
  },
  {
   "cell_type": "code",
   "execution_count": null,
   "metadata": {
    "colab": {
     "base_uri": "https://localhost:8080/",
     "height": 35
    },
    "executionInfo": {
     "elapsed": 14,
     "status": "ok",
     "timestamp": 1624736401323,
     "user": {
      "displayName": "Federico Catalano",
      "photoUrl": "",
      "userId": "05639651212963955278"
     },
     "user_tz": 180
    },
    "id": "dXnxPPxh89B2",
    "outputId": "def7ca1f-4c94-4347-aa88-ea8322242eca"
   },
   "outputs": [],
   "source": [
    "'{}-{}'.format(df['start_year'][0],df['start_mes'][0])"
   ]
  },
  {
   "cell_type": "code",
   "execution_count": null,
   "metadata": {
    "executionInfo": {
     "elapsed": 12,
     "status": "ok",
     "timestamp": 1624736401324,
     "user": {
      "displayName": "Federico Catalano",
      "photoUrl": "",
      "userId": "05639651212963955278"
     },
     "user_tz": 180
    },
    "id": "Cw0GhkCJqX5V"
   },
   "outputs": [],
   "source": [
    "# creamos una funcion para armar una etiqueta con el periodo mes/año\n",
    "def etiqueta_aviso(x):\n",
    "    fecha = '{}-{}'.format(x['start_year'],x['start_mes'])\n",
    "    return fecha"
   ]
  },
  {
   "cell_type": "markdown",
   "metadata": {
    "id": "zrmnZt5stO4X"
   },
   "source": [
    "Fíjense cómo aplicamos nuestra función regular. Sí! por medio de una función anónima.  Esta vez, el apply se aplica a todo el df. Por eso, esta vez, el place holder (x) no refiere a una serie o columna. La `x` ahora, es el dataframe. Por eso, nuestra función regular toma nombres de columnas. De este modo, es que también resulta necesario definir en qué sentido de los ejes será recorrido el dataframe. Nosotros ponemos 1, porque queremos ir recorriendo las filas de más de una columna a la vez."
   ]
  },
  {
   "cell_type": "code",
   "execution_count": null,
   "metadata": {
    "executionInfo": {
     "elapsed": 14179,
     "status": "ok",
     "timestamp": 1624736415492,
     "user": {
      "displayName": "Federico Catalano",
      "photoUrl": "",
      "userId": "05639651212963955278"
     },
     "user_tz": 180
    },
    "id": "rzdKV1gNqYCl"
   },
   "outputs": [],
   "source": [
    "# la aplicamos\n",
    "df['etiqueta_fecha'] = df.apply(lambda x: etiqueta_aviso(x), axis=1)"
   ]
  },
  {
   "cell_type": "code",
   "execution_count": null,
   "metadata": {
    "colab": {
     "base_uri": "https://localhost:8080/"
    },
    "executionInfo": {
     "elapsed": 15,
     "status": "ok",
     "timestamp": 1624736415492,
     "user": {
      "displayName": "Federico Catalano",
      "photoUrl": "",
      "userId": "05639651212963955278"
     },
     "user_tz": 180
    },
    "id": "OGLwPK808sDC",
    "outputId": "23fe2c82-d835-487c-dec5-e6f7606a706b"
   },
   "outputs": [],
   "source": [
    "df['etiqueta_fecha']"
   ]
  },
  {
   "cell_type": "code",
   "execution_count": null,
   "metadata": {
    "colab": {
     "base_uri": "https://localhost:8080/"
    },
    "executionInfo": {
     "elapsed": 13,
     "status": "ok",
     "timestamp": 1624736415493,
     "user": {
      "displayName": "Federico Catalano",
      "photoUrl": "",
      "userId": "05639651212963955278"
     },
     "user_tz": 180
    },
    "id": "LUQS-ClPqYGc",
    "outputId": "ac153e9b-e122-4e09-f0a5-db428a98bad6"
   },
   "outputs": [],
   "source": [
    "# vemos cuales son los tipos de operación posibles\n",
    "df.operation_type.unique()"
   ]
  },
  {
   "cell_type": "code",
   "execution_count": null,
   "metadata": {
    "executionInfo": {
     "elapsed": 1049,
     "status": "ok",
     "timestamp": 1624736416532,
     "user": {
      "displayName": "Federico Catalano",
      "photoUrl": "",
      "userId": "05639651212963955278"
     },
     "user_tz": 180
    },
    "id": "RE15CvresYlW"
   },
   "outputs": [],
   "source": [
    "# nos quedamos con los alquileres\n",
    "alquileres = df.loc[df['operation_type']=='Alquiler']"
   ]
  },
  {
   "cell_type": "markdown",
   "metadata": {
    "id": "I058Nvk-sYp1"
   },
   "source": [
    "### Construyendo series con tablas pivote "
   ]
  },
  {
   "cell_type": "markdown",
   "metadata": {
    "id": "fVfGPjMNsYtp"
   },
   "source": [
    "> **pivot tables**\n",
    "\n",
    "Las tablas pivot suelen ser muy utiles para sumarizar informacion. Mas alla de la implementacion de pandas, este es un recurso que atraviesa distintas herramientas.\n",
    "\n",
    "Lo que hace esto, es basicamente transformar la forma (shape) de nuestro dataframe a partir de un valor que buscamos agregar. El metodo pivot_table permite especificar dicho valor y definir la funcion de agregacion (aggfunc) con la que lo vamos a sumarizar.\n",
    "\n",
    "Veamos a continuacion que, para utilizar este metodo, pasamos un dataframe y definimos los values a ser sumarizados, los index y columns de nuestro nuevo marco de datos - pueden refrescar la digresion que hicimos en la clase anterior sobre axis - y la aggfunc. "
   ]
  },
  {
   "cell_type": "code",
   "execution_count": null,
   "metadata": {
    "colab": {
     "base_uri": "https://localhost:8080/"
    },
    "executionInfo": {
     "elapsed": 61,
     "status": "ok",
     "timestamp": 1624736416533,
     "user": {
      "displayName": "Federico Catalano",
      "photoUrl": "",
      "userId": "05639651212963955278"
     },
     "user_tz": 180
    },
    "id": "EgwxfN7It8QD",
    "outputId": "3c7b4636-7e1c-4b67-8881-d6f883f4cdcf"
   },
   "outputs": [],
   "source": [
    "df.columns"
   ]
  },
  {
   "cell_type": "markdown",
   "metadata": {
    "id": "5JPisNVLuna6"
   },
   "source": [
    "Exploremos nuestra variable de precios"
   ]
  },
  {
   "cell_type": "code",
   "execution_count": null,
   "metadata": {
    "colab": {
     "base_uri": "https://localhost:8080/"
    },
    "executionInfo": {
     "elapsed": 52,
     "status": "ok",
     "timestamp": 1624736416533,
     "user": {
      "displayName": "Federico Catalano",
      "photoUrl": "",
      "userId": "05639651212963955278"
     },
     "user_tz": 180
    },
    "id": "wOsf7Tx5t_yY",
    "outputId": "67634e31-6b51-4cda-afc6-ebe46ad07ae4"
   },
   "outputs": [],
   "source": [
    "# ya vemos algo raro\n",
    "df['price'].max()"
   ]
  },
  {
   "cell_type": "code",
   "execution_count": null,
   "metadata": {
    "colab": {
     "base_uri": "https://localhost:8080/"
    },
    "executionInfo": {
     "elapsed": 44,
     "status": "ok",
     "timestamp": 1624736416534,
     "user": {
      "displayName": "Federico Catalano",
      "photoUrl": "",
      "userId": "05639651212963955278"
     },
     "user_tz": 180
    },
    "id": "A0xNu-fEuWqO",
    "outputId": "c15c87dd-f995-4490-af79-87bcf4004f2a"
   },
   "outputs": [],
   "source": [
    "# efectivamente, nunca filtramos nuestra base por geografía. Empecemos por argentina...\n",
    "df['currency'].unique()"
   ]
  },
  {
   "cell_type": "code",
   "execution_count": null,
   "metadata": {
    "executionInfo": {
     "elapsed": 36,
     "status": "ok",
     "timestamp": 1624736416535,
     "user": {
      "displayName": "Federico Catalano",
      "photoUrl": "",
      "userId": "05639651212963955278"
     },
     "user_tz": 180
    },
    "id": "Z4FkvxDfua0A"
   },
   "outputs": [],
   "source": [
    "# nos quedamos con pesos argentinos\n",
    "alquileres_arg = alquileres.loc[alquileres['currency']=='ARS'].copy()"
   ]
  },
  {
   "cell_type": "code",
   "execution_count": null,
   "metadata": {
    "colab": {
     "base_uri": "https://localhost:8080/"
    },
    "executionInfo": {
     "elapsed": 35,
     "status": "ok",
     "timestamp": 1624736416535,
     "user": {
      "displayName": "Federico Catalano",
      "photoUrl": "",
      "userId": "05639651212963955278"
     },
     "user_tz": 180
    },
    "id": "H9luA3xivCJP",
    "outputId": "96efd4e4-5c49-49df-9495-b9722ebe2032"
   },
   "outputs": [],
   "source": [
    "# la media ya tiene un valor mas razonable, prosigamos\n",
    "alquileres_arg.price.mean()"
   ]
  },
  {
   "cell_type": "code",
   "execution_count": null,
   "metadata": {
    "executionInfo": {
     "elapsed": 29,
     "status": "ok",
     "timestamp": 1624736416535,
     "user": {
      "displayName": "Federico Catalano",
      "photoUrl": "",
      "userId": "05639651212963955278"
     },
     "user_tz": 180
    },
    "id": "5kd14vwynnxV"
   },
   "outputs": [],
   "source": [
    "# creamos una tabla pivot\n",
    "pivot_ = pd.pivot_table(alquileres_arg,\n",
    "                        values=\"price\",\n",
    "                        index=alquileres_arg['etiqueta_fecha'], # se puede hacer en sentido del eje 0\n",
    "                        #columns = aliquileres_arg['etiqueta_fecha'] # o del eje 1\n",
    "                        aggfunc = 'mean',fill_value=0)"
   ]
  },
  {
   "cell_type": "code",
   "execution_count": null,
   "metadata": {
    "colab": {
     "base_uri": "https://localhost:8080/",
     "height": 143
    },
    "executionInfo": {
     "elapsed": 27,
     "status": "ok",
     "timestamp": 1624736416536,
     "user": {
      "displayName": "Federico Catalano",
      "photoUrl": "",
      "userId": "05639651212963955278"
     },
     "user_tz": 180
    },
    "id": "PNMuFygJy2k7",
    "outputId": "2f690751-b03e-4228-b1ab-88fb9bd73de9"
   },
   "outputs": [],
   "source": [
    "pivot_.head(2)"
   ]
  },
  {
   "cell_type": "code",
   "execution_count": null,
   "metadata": {
    "colab": {
     "base_uri": "https://localhost:8080/"
    },
    "executionInfo": {
     "elapsed": 26,
     "status": "ok",
     "timestamp": 1624736416536,
     "user": {
      "displayName": "Federico Catalano",
      "photoUrl": "",
      "userId": "05639651212963955278"
     },
     "user_tz": 180
    },
    "id": "XK5aoYNFvCtz",
    "outputId": "60551c35-b5c8-44d9-d9d8-ecfdf1b16ee6"
   },
   "outputs": [],
   "source": [
    "# veo si los puedo ordenar de menor a mayor\n",
    "pivot_.sort_index(ascending=True).index"
   ]
  },
  {
   "cell_type": "code",
   "execution_count": null,
   "metadata": {
    "executionInfo": {
     "elapsed": 22,
     "status": "ok",
     "timestamp": 1624736416537,
     "user": {
      "displayName": "Federico Catalano",
      "photoUrl": "",
      "userId": "05639651212963955278"
     },
     "user_tz": 180
    },
    "id": "_6wXE5-awWAg"
   },
   "outputs": [],
   "source": [
    "# acomodamos un poco a mano\n",
    "periodos_ordenados = ['2020-3', '2020-4', '2020-5', \n",
    "                      '2020-6','2020-7', '2020-8', '2020-9', \n",
    "                      '2020-10', '2020-11', '2020-12',\n",
    "                      '2021-1', '2021-2', '2021-3']"
   ]
  },
  {
   "cell_type": "code",
   "execution_count": null,
   "metadata": {
    "colab": {
     "base_uri": "https://localhost:8080/",
     "height": 488
    },
    "executionInfo": {
     "elapsed": 21,
     "status": "ok",
     "timestamp": 1624736416537,
     "user": {
      "displayName": "Federico Catalano",
      "photoUrl": "",
      "userId": "05639651212963955278"
     },
     "user_tz": 180
    },
    "id": "BTZwE57nwWEk",
    "outputId": "185d2e5a-bac2-4850-e3a4-11cb08c11fa8"
   },
   "outputs": [],
   "source": [
    "# reindexamos\n",
    "pivot_.reindex(periodos_ordenados)"
   ]
  },
  {
   "cell_type": "code",
   "execution_count": null,
   "metadata": {
    "colab": {
     "base_uri": "https://localhost:8080/",
     "height": 280
    },
    "executionInfo": {
     "elapsed": 21,
     "status": "ok",
     "timestamp": 1624736416538,
     "user": {
      "displayName": "Federico Catalano",
      "photoUrl": "",
      "userId": "05639651212963955278"
     },
     "user_tz": 180
    },
    "id": "roYz-d0gnn06",
    "outputId": "64994e2d-3cfa-4bce-8aab-75f26d813359"
   },
   "outputs": [],
   "source": [
    "# y volvemos a plotear\n",
    "pivot_.reindex(periodos_ordenados).plot(kind='line', grid=True, color='#FF6347');"
   ]
  },
  {
   "cell_type": "markdown",
   "metadata": {
    "id": "XDymhkjNw2k6"
   },
   "source": [
    "Bueno, bien. Logramos construir una primera serie y plotearla. Tratemos de apuntar ahora a algo con un poco más de sentido conceptual. Este promedio que acabamos de construir no sólo no tiene en cuenta los efectos de la inflación sino también los tipos de productos considerados.\n",
    "\n",
    "Tratemos de ser un poco más específicos. Determinemos alguna región, tipo de producto y, para terminar, intentemos deflacionar nuestra serie."
   ]
  },
  {
   "cell_type": "markdown",
   "metadata": {
    "id": "YdQ-QsxVj21s"
   },
   "source": [
    "### Deflactando series"
   ]
  },
  {
   "cell_type": "markdown",
   "metadata": {
    "id": "OUWhxNmAxnLK"
   },
   "source": [
    "Para deflactar una serie de valores nominales, es necesario contar con alguna referencia. La traducción de valores nominales a reales (o corrientes y constantes), contempla el uso de un índice que nos permita evaluar cómo se comportaron los precios (o algunos) de la economía en relacion al poder adquisitivo. Para así, mitigar el impacto de la inflación en el bien que estamos estudiando. \n",
    "\n",
    "Por decirlo de alguna manera, vamos a tratar de expresar lo que vale un precio de un momento n+1 considerando a n como momento inicial. Cuánto vale algo en pesos de marzo 2021, por ejemplo.  \n",
    "\n",
    "Lo primero con lo que vamos a trabajar es con el [IPC-Indec](https://www.indec.gob.ar/indec/web/Nivel4-Tema-3-5-31). \n",
    "\n",
    "Vamos a seleccionar la Región GBA y a buscar alguna apertura que nos interese para seguir estudiando los precios de los alquileres. Seleccionemos primero nuestra región."
   ]
  },
  {
   "cell_type": "code",
   "execution_count": null,
   "metadata": {
    "colab": {
     "base_uri": "https://localhost:8080/"
    },
    "executionInfo": {
     "elapsed": 19,
     "status": "ok",
     "timestamp": 1624736416538,
     "user": {
      "displayName": "Federico Catalano",
      "photoUrl": "",
      "userId": "05639651212963955278"
     },
     "user_tz": 180
    },
    "id": "SsTOvvM2FjgL",
    "outputId": "358f2cfb-1206-42ae-a662-e8018d6d6147"
   },
   "outputs": [],
   "source": [
    "# disponemos de los siguientes niveles administrativos\n",
    "alquileres_arg.l2.unique()"
   ]
  },
  {
   "cell_type": "code",
   "execution_count": null,
   "metadata": {
    "executionInfo": {
     "elapsed": 835,
     "status": "ok",
     "timestamp": 1624736417359,
     "user": {
      "displayName": "Federico Catalano",
      "photoUrl": "",
      "userId": "05639651212963955278"
     },
     "user_tz": 180
    },
    "id": "z6YKrnigFjng"
   },
   "outputs": [],
   "source": [
    "# nos quedamos con la Region GBA\n",
    "jurisdicciones = ['Bs.As. G.B.A. Zona Oeste', 'Capital Federal',\n",
    "                  'Bs.As. G.B.A. Zona Norte','Bs.As. G.B.A. Zona Sur']\n",
    "alquileres_gba = alquileres_arg[alquileres_arg.l2.isin(jurisdicciones)]"
   ]
  },
  {
   "cell_type": "code",
   "execution_count": null,
   "metadata": {
    "colab": {
     "base_uri": "https://localhost:8080/"
    },
    "executionInfo": {
     "elapsed": 22,
     "status": "ok",
     "timestamp": 1624736417361,
     "user": {
      "displayName": "Federico Catalano",
      "photoUrl": "",
      "userId": "05639651212963955278"
     },
     "user_tz": 180
    },
    "id": "KgdO4YT4yS41",
    "outputId": "87e18297-f513-415f-b4d8-7faf44a92b6f"
   },
   "outputs": [],
   "source": [
    "# chequeamos el tipo de bien que vamos a estudiar\n",
    "alquileres_gba.property_type.unique()"
   ]
  },
  {
   "cell_type": "code",
   "execution_count": null,
   "metadata": {
    "executionInfo": {
     "elapsed": 12,
     "status": "ok",
     "timestamp": 1624736417362,
     "user": {
      "displayName": "Federico Catalano",
      "photoUrl": "",
      "userId": "05639651212963955278"
     },
     "user_tz": 180
    },
    "id": "OLH-jwz1yS-C"
   },
   "outputs": [],
   "source": [
    "# quedemonos solamente con los departamentos\n",
    "alquileres_gba = alquileres_gba[alquileres_gba.property_type.isin(['Departamento'])].copy()"
   ]
  },
  {
   "cell_type": "markdown",
   "metadata": {
    "id": "7LVL_uh7-Rjr"
   },
   "source": [
    "#### El IPC - Indec"
   ]
  },
  {
   "cell_type": "markdown",
   "metadata": {
    "id": "Q27TFgbpFjr8"
   },
   "source": [
    "Listo, ya tenemos una serie de precios más depurada. Ahora trabajemos en acomodar nuestro índice de precios. El mismo está decargado en el el directorio de data del curso. Vemos cómo se ve..."
   ]
  },
  {
   "cell_type": "code",
   "execution_count": null,
   "metadata": {},
   "outputs": [],
   "source": [
    "!pip install xlrd"
   ]
  },
  {
   "cell_type": "code",
   "execution_count": null,
   "metadata": {
    "executionInfo": {
     "elapsed": 479,
     "status": "ok",
     "timestamp": 1624736417830,
     "user": {
      "displayName": "Federico Catalano",
      "photoUrl": "",
      "userId": "05639651212963955278"
     },
     "user_tz": 180
    },
    "id": "-DMx48yWFjwJ"
   },
   "outputs": [],
   "source": [
    "ipc_crudo = pd.read_excel('https://storage.googleapis.com/python_mdg/data_cursos/sh_ipc_aperturas.xls',\n",
    "                           sheet_name='Variación mensual aperturas', header=None)"
   ]
  },
  {
   "cell_type": "code",
   "execution_count": null,
   "metadata": {
    "executionInfo": {
     "elapsed": 45,
     "status": "ok",
     "timestamp": 1624736417831,
     "user": {
      "displayName": "Federico Catalano",
      "photoUrl": "",
      "userId": "05639651212963955278"
     },
     "user_tz": 180
    },
    "id": "XDZ9iM1pKon_"
   },
   "outputs": [],
   "source": [
    "# hacemos slicing desde las filas 5 a la 53, el IPC para GBA\n",
    "ipc_crudo = ipc_crudo.iloc[5:53].copy()"
   ]
  },
  {
   "cell_type": "code",
   "execution_count": null,
   "metadata": {
    "executionInfo": {
     "elapsed": 43,
     "status": "ok",
     "timestamp": 1624736417831,
     "user": {
      "displayName": "Federico Catalano",
      "photoUrl": "",
      "userId": "05639651212963955278"
     },
     "user_tz": 180
    },
    "id": "6Q4YIO4pQrvN"
   },
   "outputs": [],
   "source": [
    "# renombramos columnas\n",
    "ipc_crudo.columns = ipc_crudo.iloc[0]"
   ]
  },
  {
   "cell_type": "code",
   "execution_count": null,
   "metadata": {
    "executionInfo": {
     "elapsed": 42,
     "status": "ok",
     "timestamp": 1624736417832,
     "user": {
      "displayName": "Federico Catalano",
      "photoUrl": "",
      "userId": "05639651212963955278"
     },
     "user_tz": 180
    },
    "id": "tLXSHIH4QsAw"
   },
   "outputs": [],
   "source": [
    "ipc_indec = ipc_crudo.iloc[3:].copy()"
   ]
  },
  {
   "cell_type": "code",
   "execution_count": null,
   "metadata": {
    "colab": {
     "base_uri": "https://localhost:8080/"
    },
    "executionInfo": {
     "elapsed": 40,
     "status": "ok",
     "timestamp": 1624736417832,
     "user": {
      "displayName": "Federico Catalano",
      "photoUrl": "",
      "userId": "05639651212963955278"
     },
     "user_tz": 180
    },
    "id": "tgc66Qj5nzB_",
    "outputId": "ec2bd3ea-5c23-40fd-9b19-9b6878231ca5"
   },
   "outputs": [],
   "source": [
    "ipc_indec.columns"
   ]
  },
  {
   "cell_type": "code",
   "execution_count": null,
   "metadata": {
    "colab": {
     "base_uri": "https://localhost:8080/"
    },
    "executionInfo": {
     "elapsed": 34,
     "status": "ok",
     "timestamp": 1624736417833,
     "user": {
      "displayName": "Federico Catalano",
      "photoUrl": "",
      "userId": "05639651212963955278"
     },
     "user_tz": 180
    },
    "id": "tNpQpDaGh0su",
    "outputId": "5d571513-b70a-4bf2-c0e4-342e6bbce0d9"
   },
   "outputs": [],
   "source": [
    "# listemos los metodos/atributos de la clase datetime\n",
    "dir(datetime)"
   ]
  },
  {
   "cell_type": "code",
   "execution_count": null,
   "metadata": {
    "executionInfo": {
     "elapsed": 22,
     "status": "ok",
     "timestamp": 1624736417833,
     "user": {
      "displayName": "Federico Catalano",
      "photoUrl": "",
      "userId": "05639651212963955278"
     },
     "user_tz": 180
    },
    "id": "5wo63fXxQsEx"
   },
   "outputs": [],
   "source": [
    "# armo de nuevo el nombre de las columnas\n",
    "new_columns = []\n",
    "for i in ipc_indec.columns:\n",
    "    if i != 'Región GBA':\n",
    "        y = i.year # el item que estamos iterando ya es un datetime!\n",
    "        m = i.month\n",
    "        fecha = '{}-{}'.format(y,m)\n",
    "        new_columns.append(fecha)\n",
    "    else:\n",
    "        new_columns.append(i)"
   ]
  },
  {
   "cell_type": "code",
   "execution_count": null,
   "metadata": {
    "executionInfo": {
     "elapsed": 22,
     "status": "ok",
     "timestamp": 1624736417833,
     "user": {
      "displayName": "Federico Catalano",
      "photoUrl": "",
      "userId": "05639651212963955278"
     },
     "user_tz": 180
    },
    "id": "ciMwbz1Bg5mF"
   },
   "outputs": [],
   "source": [
    "ipc_indec.columns = new_columns"
   ]
  },
  {
   "cell_type": "code",
   "execution_count": null,
   "metadata": {
    "executionInfo": {
     "elapsed": 23,
     "status": "ok",
     "timestamp": 1624736417834,
     "user": {
      "displayName": "Federico Catalano",
      "photoUrl": "",
      "userId": "05639651212963955278"
     },
     "user_tz": 180
    },
    "id": "KuywTAAUiwLY"
   },
   "outputs": [],
   "source": [
    "# reseteamos nuestro indice\n",
    "ipc_indec.reset_index(inplace=True)"
   ]
  },
  {
   "cell_type": "code",
   "execution_count": null,
   "metadata": {
    "executionInfo": {
     "elapsed": 22,
     "status": "ok",
     "timestamp": 1624736417834,
     "user": {
      "displayName": "Federico Catalano",
      "photoUrl": "",
      "userId": "05639651212963955278"
     },
     "user_tz": 180
    },
    "id": "99oPoS85i2_C"
   },
   "outputs": [],
   "source": [
    "# y borramos lo que era el previo\n",
    "ipc_indec.drop(columns='index', inplace=True)"
   ]
  },
  {
   "cell_type": "markdown",
   "metadata": {
    "id": "XB9afB5yjDXj"
   },
   "source": [
    "Ya tenemos nuestro IPC con las siguientes especificaciones. \n",
    "\n",
    "```\n",
    "Índice de precios al consumidor con cobertura nacional. Resultados por región (GBA)\n",
    "\n",
    "Período de referencia: Diciembre 2016=100\n",
    "\n",
    "Variaciones mensuales de enero de 2017 a abril de 2021. Resultados según principales aperturas de la canasta\n",
    "```"
   ]
  },
  {
   "cell_type": "code",
   "execution_count": null,
   "metadata": {
    "colab": {
     "base_uri": "https://localhost:8080/",
     "height": 347
    },
    "executionInfo": {
     "elapsed": 23,
     "status": "ok",
     "timestamp": 1624736417835,
     "user": {
      "displayName": "Federico Catalano",
      "photoUrl": "",
      "userId": "05639651212963955278"
     },
     "user_tz": 180
    },
    "id": "egiwewClwtj2",
    "outputId": "4ad65470-4ce6-47c4-e753-520467c66887"
   },
   "outputs": [],
   "source": [
    "ipc_indec.head()"
   ]
  },
  {
   "cell_type": "code",
   "execution_count": null,
   "metadata": {
    "executionInfo": {
     "elapsed": 23,
     "status": "ok",
     "timestamp": 1624736417836,
     "user": {
      "displayName": "Federico Catalano",
      "photoUrl": "",
      "userId": "05639651212963955278"
     },
     "user_tz": 180
    },
    "id": "MNoMLwH4_zM4"
   },
   "outputs": [],
   "source": [
    "def aperturas_ipc_indec(df, rubro):\n",
    "    aperturas = df.set_index('Región GBA')\n",
    "    apertura_elegida = aperturas.loc[rubro]\n",
    "    return apertura_elegida"
   ]
  },
  {
   "cell_type": "code",
   "execution_count": null,
   "metadata": {
    "colab": {
     "base_uri": "https://localhost:8080/"
    },
    "executionInfo": {
     "elapsed": 22,
     "status": "ok",
     "timestamp": 1624736417836,
     "user": {
      "displayName": "Federico Catalano",
      "photoUrl": "",
      "userId": "05639651212963955278"
     },
     "user_tz": 180
    },
    "id": "Y4ydkAftAV--",
    "outputId": "3f551b6c-aad3-4e98-f853-cbe7567ba08c"
   },
   "outputs": [],
   "source": [
    "# el IPC para cada periodo y apertura\n",
    "aperturas_ipc_indec(ipc_indec, 'Alquiler de la vivienda')"
   ]
  },
  {
   "cell_type": "markdown",
   "metadata": {
    "id": "vxVTO4R9qcGr"
   },
   "source": [
    "Una vez que tenemos nuestro IPC limpio, listo para usar, no tenemos que perder de vista que el mismo va a ser aplicado a otro dataframe (nuestra tabla pivot con promedios nominales por período). \n",
    "Nosotros vamos a tomar el precio promedio para las operaciones de alquiler durante los últimos 12 meses desde marzo del corriente año. Es decir, de marzo de 2020 a marzo de 2021. "
   ]
  },
  {
   "cell_type": "code",
   "execution_count": null,
   "metadata": {
    "executionInfo": {
     "elapsed": 20,
     "status": "ok",
     "timestamp": 1624736417838,
     "user": {
      "displayName": "Federico Catalano",
      "photoUrl": "",
      "userId": "05639651212963955278"
     },
     "user_tz": 180
    },
    "id": "Y3LfqxSjDLra"
   },
   "outputs": [],
   "source": [
    "# creamos una funcion para ajustar los pesos nominales por IPC\n",
    "def deflactar_serie(x,y,z,ipc,rubro,ipc_indec=True):\n",
    "    '''\n",
    "    x (str): periodo  d\n",
    "    '''\n",
    "    # guardamos el periodo y su precio nominal\n",
    "    periodo = x\n",
    "    precio_nominal = y\n",
    "    periodo_base = z\n",
    "\n",
    "    if ipc_indec:\n",
    "        # devuelve una serie con la variacion del rubro \n",
    "        serie = aperturas_ipc_indec(ipc, rubro)\n",
    "    else:\n",
    "        serie = ipc\n",
    "    # seleccionamos el valor del índice para una apertura y periodo determinado\n",
    "    ipc_periodo = serie.loc[periodo] \n",
    "    ipc_base = serie.loc[periodo_base]  \n",
    "    coeficiente = ipc_periodo/ipc_base\n",
    "    precio_constante = precio_nominal / coeficiente\n",
    "    \n",
    "    return periodo, precio_nominal, coeficiente, ipc_base, ipc_periodo, precio_constante\n"
   ]
  },
  {
   "cell_type": "markdown",
   "metadata": {
    "id": "A1bW75_1j-e0"
   },
   "source": [
    "Preparemos ahora el dataset de alquileres, tenemos que quedarnos con sus periodos y el precio promedio para los casos del GBA."
   ]
  },
  {
   "cell_type": "code",
   "execution_count": null,
   "metadata": {
    "executionInfo": {
     "elapsed": 20,
     "status": "ok",
     "timestamp": 1624736417838,
     "user": {
      "displayName": "Federico Catalano",
      "photoUrl": "",
      "userId": "05639651212963955278"
     },
     "user_tz": 180
    },
    "id": "vMdzwUEtj-h-"
   },
   "outputs": [],
   "source": [
    "# creamos nuestros promedios de precio por periodo para GBA\n",
    "pivot_gba = pd.pivot_table(alquileres_gba,\n",
    "                           values=\"price\",\n",
    "                           index=alquileres_gba['etiqueta_fecha'],\n",
    "                           aggfunc = 'mean',fill_value=0)"
   ]
  },
  {
   "cell_type": "code",
   "execution_count": null,
   "metadata": {
    "colab": {
     "base_uri": "https://localhost:8080/"
    },
    "executionInfo": {
     "elapsed": 20,
     "status": "ok",
     "timestamp": 1624736417839,
     "user": {
      "displayName": "Federico Catalano",
      "photoUrl": "",
      "userId": "05639651212963955278"
     },
     "user_tz": 180
    },
    "id": "Nojcr18Rj-lc",
    "outputId": "f54f11a1-cf20-498a-c219-78a0b187767c"
   },
   "outputs": [],
   "source": [
    "pivot_gba.index"
   ]
  },
  {
   "cell_type": "code",
   "execution_count": null,
   "metadata": {
    "executionInfo": {
     "elapsed": 19,
     "status": "ok",
     "timestamp": 1624736417840,
     "user": {
      "displayName": "Federico Catalano",
      "photoUrl": "",
      "userId": "05639651212963955278"
     },
     "user_tz": 180
    },
    "id": "AbOlEhCFj-ox"
   },
   "outputs": [],
   "source": [
    "# ajustamos un poco\n",
    "periodos_ordenados = ['2020-3', '2020-4', '2020-5', '2020-6', \n",
    "                      '2020-7', '2020-8', '2020-9', '2020-10', \n",
    "                      '2020-11', '2020-12','2021-1', '2021-2', '2021-3']\n",
    "gba_ordenado = pivot_gba.reindex(periodos_ordenados)"
   ]
  },
  {
   "cell_type": "code",
   "execution_count": null,
   "metadata": {
    "executionInfo": {
     "elapsed": 18,
     "status": "ok",
     "timestamp": 1624736417840,
     "user": {
      "displayName": "Federico Catalano",
      "photoUrl": "",
      "userId": "05639651212963955278"
     },
     "user_tz": 180
    },
    "id": "mhO1RtDZj-sG"
   },
   "outputs": [],
   "source": [
    "# y reseteamos el index\n",
    "gba_ordenado.reset_index(inplace=True)"
   ]
  },
  {
   "cell_type": "code",
   "execution_count": null,
   "metadata": {
    "executionInfo": {
     "elapsed": 18,
     "status": "ok",
     "timestamp": 1624736417840,
     "user": {
      "displayName": "Federico Catalano",
      "photoUrl": "",
      "userId": "05639651212963955278"
     },
     "user_tz": 180
    },
    "id": "xkU25O5GqMPT"
   },
   "outputs": [],
   "source": [
    "# renombamos columnas\n",
    "gba_ordenado.columns = ['period', 'price']"
   ]
  },
  {
   "cell_type": "code",
   "execution_count": null,
   "metadata": {
    "colab": {
     "base_uri": "https://localhost:8080/"
    },
    "executionInfo": {
     "elapsed": 19,
     "status": "ok",
     "timestamp": 1624736417841,
     "user": {
      "displayName": "Federico Catalano",
      "photoUrl": "",
      "userId": "05639651212963955278"
     },
     "user_tz": 180
    },
    "id": "5HYEO31kk6_C",
    "outputId": "80ea9617-d1a6-4f20-e30d-5da8f7e2139a"
   },
   "outputs": [],
   "source": [
    "gba_ordenado.set_index('period').loc['2020-3']"
   ]
  },
  {
   "cell_type": "code",
   "execution_count": null,
   "metadata": {
    "colab": {
     "base_uri": "https://localhost:8080/",
     "height": 1000
    },
    "executionInfo": {
     "elapsed": 707,
     "status": "ok",
     "timestamp": 1624736418531,
     "user": {
      "displayName": "Federico Catalano",
      "photoUrl": "",
      "userId": "05639651212963955278"
     },
     "user_tz": 180
    },
    "id": "0lnGnsAHEhFp",
    "outputId": "6ab29898-b81f-4775-b634-d86c88bf5ebd"
   },
   "outputs": [],
   "source": [
    "ipc_indec"
   ]
  },
  {
   "cell_type": "code",
   "execution_count": null,
   "metadata": {
    "executionInfo": {
     "elapsed": 20,
     "status": "ok",
     "timestamp": 1624736418532,
     "user": {
      "displayName": "Federico Catalano",
      "photoUrl": "",
      "userId": "05639651212963955278"
     },
     "user_tz": 180
    },
    "id": "Fun-4EPqkBkz"
   },
   "outputs": [],
   "source": [
    "# almacenamos nuestro resultado en una serie de tuplas\n",
    "resultado = gba_ordenado.apply(lambda x: deflactar_serie(x.period, \n",
    "                                                         x.price,\n",
    "                                                         '2020-3', # mes base \n",
    "                                                         ipc_indec, \n",
    "                                                         'Nivel general'), \n",
    "                               axis=1)"
   ]
  },
  {
   "cell_type": "code",
   "execution_count": null,
   "metadata": {
    "colab": {
     "base_uri": "https://localhost:8080/"
    },
    "executionInfo": {
     "elapsed": 19,
     "status": "ok",
     "timestamp": 1624736418532,
     "user": {
      "displayName": "Federico Catalano",
      "photoUrl": "",
      "userId": "05639651212963955278"
     },
     "user_tz": 180
    },
    "id": "8poCpXHiFDYm",
    "outputId": "086367db-8af7-4e32-c9bf-a1024568ce67"
   },
   "outputs": [],
   "source": [
    "resultado"
   ]
  },
  {
   "cell_type": "code",
   "execution_count": null,
   "metadata": {
    "executionInfo": {
     "elapsed": 14,
     "status": "ok",
     "timestamp": 1624736418533,
     "user": {
      "displayName": "Federico Catalano",
      "photoUrl": "",
      "userId": "05639651212963955278"
     },
     "user_tz": 180
    },
    "id": "5v59IzhlkBpW"
   },
   "outputs": [],
   "source": [
    "# guardamos el resultado\n",
    "serie_ajustada = resultado.apply(pd.Series)\n",
    "\n",
    "# renombramos las columnas\n",
    "columnas = ['periodo', 'precio_nom', 'coeficiente', 'ipc_base', 'ipc_per', 'precio_con']\n",
    "serie_ajustada.columns = columnas"
   ]
  },
  {
   "cell_type": "code",
   "execution_count": null,
   "metadata": {
    "colab": {
     "base_uri": "https://localhost:8080/",
     "height": 457
    },
    "executionInfo": {
     "elapsed": 13,
     "status": "ok",
     "timestamp": 1624736418533,
     "user": {
      "displayName": "Federico Catalano",
      "photoUrl": "",
      "userId": "05639651212963955278"
     },
     "user_tz": 180
    },
    "id": "x0iQ3eqJyhhI",
    "outputId": "40d0865a-dc21-49a7-a65c-5b295682c9b9"
   },
   "outputs": [],
   "source": [
    "serie_ajustada"
   ]
  },
  {
   "cell_type": "code",
   "execution_count": null,
   "metadata": {
    "executionInfo": {
     "elapsed": 13,
     "status": "ok",
     "timestamp": 1624736418534,
     "user": {
      "displayName": "Federico Catalano",
      "photoUrl": "",
      "userId": "05639651212963955278"
     },
     "user_tz": 180
    },
    "id": "PwqqpTqyyW9r"
   },
   "outputs": [],
   "source": [
    "from matplotlib import pyplot as plt # importan la clase pyplot de matplotlib"
   ]
  },
  {
   "cell_type": "code",
   "execution_count": null,
   "metadata": {
    "colab": {
     "base_uri": "https://localhost:8080/",
     "height": 279
    },
    "executionInfo": {
     "elapsed": 12,
     "status": "ok",
     "timestamp": 1624736418534,
     "user": {
      "displayName": "Federico Catalano",
      "photoUrl": "",
      "userId": "05639651212963955278"
     },
     "user_tz": 180
    },
    "id": "YKudJcez0K-F",
    "outputId": "9d63df51-8e1d-42ea-8964-8a70ca73a308"
   },
   "outputs": [],
   "source": [
    "# ahora, creemos una figura (este tema lo van a retomar en la clase de visualizacion!)\n",
    "fig, ax = plt.subplots()\n",
    "serie_ajustada.iloc[1:].set_index('periodo')['precio_nom'].plot(kind='line', grid=True, color='r')\n",
    "serie_ajustada.iloc[1:].set_index('periodo')['precio_con'].plot(kind='line', grid=True, color='b');"
   ]
  },
  {
   "cell_type": "markdown",
   "metadata": {
    "id": "FJ6pw3r52R7q"
   },
   "source": [
    "La evolución del precio promedio para departamentos en alquiler de la Región GBA. En azul, los precios en base a marzo de 2020 (pesos de ese mes/año). En azul, los precios nominales."
   ]
  },
  {
   "cell_type": "code",
   "execution_count": null,
   "metadata": {
    "executionInfo": {
     "elapsed": 11,
     "status": "ok",
     "timestamp": 1624736418534,
     "user": {
      "displayName": "Federico Catalano",
      "photoUrl": "",
      "userId": "05639651212963955278"
     },
     "user_tz": 180
    },
    "id": "aIwemLggJgYt"
   },
   "outputs": [],
   "source": [
    "# creamos algunas series para ver cuánto variaron de año a año en términos porcentuales\n",
    "serie_ajustada['pct_nom']=serie_ajustada['precio_nom'].pct_change() * 100\n",
    "serie_ajustada['pct_con']=serie_ajustada['precio_con'].pct_change() * 100\n",
    "serie_ajustada['pct_ipc']=serie_ajustada['ipc_per'].pct_change() * 100"
   ]
  },
  {
   "cell_type": "code",
   "execution_count": null,
   "metadata": {
    "colab": {
     "base_uri": "https://localhost:8080/",
     "height": 279
    },
    "executionInfo": {
     "elapsed": 1048,
     "status": "ok",
     "timestamp": 1624736419571,
     "user": {
      "displayName": "Federico Catalano",
      "photoUrl": "",
      "userId": "05639651212963955278"
     },
     "user_tz": 180
    },
    "id": "aGymCDUJJgg2",
    "outputId": "60525212-4305-4fa1-8178-ec10ce562161"
   },
   "outputs": [],
   "source": [
    "# y ploteamos!\n",
    "fig, ax = plt.subplots()\n",
    "serie_ajustada.iloc[0:].set_index('periodo')['pct_nom'].plot(kind='line', grid=True, color='r',ax=ax)\n",
    "serie_ajustada.iloc[0:].set_index('periodo')['pct_con'].plot(kind='line', grid=True, color='b', ax=ax);"
   ]
  },
  {
   "cell_type": "markdown",
   "metadata": {
    "id": "Tfo1zUVB11Yx"
   },
   "source": [
    "Vemos algunas cosas acá. Ahora bien, es correcto ajustar asi?, considerando sólo el coportamiento de los precios y no de los ingresos? sobretodo si vemos cómo funciona nuestro índice a lo largo del tiempo ..."
   ]
  },
  {
   "cell_type": "code",
   "execution_count": null,
   "metadata": {
    "colab": {
     "base_uri": "https://localhost:8080/",
     "height": 281
    },
    "executionInfo": {
     "elapsed": 19,
     "status": "ok",
     "timestamp": 1624736419573,
     "user": {
      "displayName": "Federico Catalano",
      "photoUrl": "",
      "userId": "05639651212963955278"
     },
     "user_tz": 180
    },
    "id": "PyXQb4aaPMmx",
    "outputId": "24887d23-c34e-4bb2-8c51-e4d39511711b"
   },
   "outputs": [],
   "source": [
    "serie_ajustada.iloc[0:].set_index('periodo')['pct_ipc'].plot(kind='line', grid=True, color='g');"
   ]
  },
  {
   "cell_type": "markdown",
   "metadata": {
    "id": "WnOzVAYw4Mmq"
   },
   "source": [
    "#### El ICL - BCRA"
   ]
  },
  {
   "cell_type": "markdown",
   "metadata": {
    "id": "Yog7J04wHCJa"
   },
   "source": [
    "Ahora bien, el índice que estamos usando solamente contempla el impacto de los precios (la variacion de los bienes ofertados). Como que nos falta algo para poder ajustar y que el grafico tenga mas sentido.\n",
    "\n",
    "Para tener un análisis un poco más completo, deberíamos incluir de alguna manera cómo evolucionó también el poder de compra o pago de los salarios. \n",
    "\n",
    "Un muy buen atajo podría ser, en lugar construir una serie de ingresos y combinar con el IPC, utilizar el ICL. El índice de Contratos de Locación.\n",
    "\n",
    "[Desde agosto de 2020, con la sanción de la Nueva Ley de Alquileres](https://www.argentina.gob.ar/noticias/el-bcra-oficializo-el-metodo-para-calcular-el-ajuste-anual-de-los-alquileres), los contratos de alquiler de los inmuebles destinados a uso habitacional se ajustan anualmente. El indice para hacerlo es el ICL, que podemos indagar en la web del [BCRA](http://bcra.gob.ar/PublicacionesEstadisticas/Principales_variables.asp)"
   ]
  },
  {
   "cell_type": "code",
   "execution_count": null,
   "metadata": {
    "executionInfo": {
     "elapsed": 833,
     "status": "ok",
     "timestamp": 1624736420391,
     "user": {
      "displayName": "Federico Catalano",
      "photoUrl": "",
      "userId": "05639651212963955278"
     },
     "user_tz": 180
    },
    "id": "V7oV9tuZxuNY"
   },
   "outputs": [],
   "source": [
    "icl_bcra = pd.read_excel('https://storage.googleapis.com/python_mdg/data_cursos/indice_contratos_locacion.xls')"
   ]
  },
  {
   "cell_type": "code",
   "execution_count": null,
   "metadata": {
    "executionInfo": {
     "elapsed": 54,
     "status": "ok",
     "timestamp": 1624736420391,
     "user": {
      "displayName": "Federico Catalano",
      "photoUrl": "",
      "userId": "05639651212963955278"
     },
     "user_tz": 180
    },
    "id": "ee0I_8zFxuSA"
   },
   "outputs": [],
   "source": [
    "icl_bcra['Mes'] = icl_bcra.Fecha.apply(lambda x: x.split('/')[2] + '-' + x.split('/')[1]) "
   ]
  },
  {
   "cell_type": "code",
   "execution_count": null,
   "metadata": {
    "executionInfo": {
     "elapsed": 52,
     "status": "ok",
     "timestamp": 1624736420392,
     "user": {
      "displayName": "Federico Catalano",
      "photoUrl": "",
      "userId": "05639651212963955278"
     },
     "user_tz": 180
    },
    "id": "UPcJPnzmxuZ1"
   },
   "outputs": [],
   "source": [
    "# reemplazamos las comas y convertimos nuestro valores en float\n",
    "icl_bcra['Valor'] = icl_bcra['Valor'].str.replace(',', '.', regex=False)\n",
    "icl_bcra['Valor'] = icl_bcra.Valor.apply(lambda x: float(x))"
   ]
  },
  {
   "cell_type": "code",
   "execution_count": null,
   "metadata": {
    "executionInfo": {
     "elapsed": 50,
     "status": "ok",
     "timestamp": 1624736420392,
     "user": {
      "displayName": "Federico Catalano",
      "photoUrl": "",
      "userId": "05639651212963955278"
     },
     "user_tz": 180
    },
    "id": "bMHhMwZ7xudo"
   },
   "outputs": [],
   "source": [
    "icl_bcra = icl_bcra.drop_duplicates(subset='Mes', keep='last')"
   ]
  },
  {
   "cell_type": "code",
   "execution_count": null,
   "metadata": {
    "executionInfo": {
     "elapsed": 48,
     "status": "ok",
     "timestamp": 1624736420392,
     "user": {
      "displayName": "Federico Catalano",
      "photoUrl": "",
      "userId": "05639651212963955278"
     },
     "user_tz": 180
    },
    "id": "mF81Uc-4xuiK"
   },
   "outputs": [],
   "source": [
    "icl_bcra = icl_bcra[['Valor','Mes']].set_index('Mes')"
   ]
  },
  {
   "cell_type": "code",
   "execution_count": null,
   "metadata": {
    "executionInfo": {
     "elapsed": 48,
     "status": "ok",
     "timestamp": 1624736420393,
     "user": {
      "displayName": "Federico Catalano",
      "photoUrl": "",
      "userId": "05639651212963955278"
     },
     "user_tz": 180
    },
    "id": "_-AOnJ0Axulx"
   },
   "outputs": [],
   "source": [
    "# renombramos nuestro indice, para que matchee con nuestra serie de valores\n",
    "icl_bcra.index = icl_bcra.index.str.replace('-0', '-', regex=False)"
   ]
  },
  {
   "cell_type": "code",
   "execution_count": null,
   "metadata": {
    "colab": {
     "base_uri": "https://localhost:8080/"
    },
    "executionInfo": {
     "elapsed": 46,
     "status": "ok",
     "timestamp": 1624736420393,
     "user": {
      "displayName": "Federico Catalano",
      "photoUrl": "",
      "userId": "05639651212963955278"
     },
     "user_tz": 180
    },
    "id": "-TCN1sf69B2l",
    "outputId": "4d84d503-468b-48f7-fca1-9a974f00f7ef"
   },
   "outputs": [],
   "source": [
    "# asi tenemos que pasar el indice\n",
    "icl_bcra['Valor']"
   ]
  },
  {
   "cell_type": "code",
   "execution_count": null,
   "metadata": {
    "executionInfo": {
     "elapsed": 40,
     "status": "ok",
     "timestamp": 1624736420394,
     "user": {
      "displayName": "Federico Catalano",
      "photoUrl": "",
      "userId": "05639651212963955278"
     },
     "user_tz": 180
    },
    "id": "WfeKZjOtxupB"
   },
   "outputs": [],
   "source": [
    "# como nuestro indice empieza en julio, recortamos nuestra serie nominal desde ahi\n",
    "gba_ordenado_ = gba_ordenado.set_index('period').loc['2020-7':].reset_index()\n",
    "resultado = gba_ordenado_.apply(lambda x: deflactar_serie(x.period, \n",
    "                                                         x.price,\n",
    "                                                         '2020-7', # mes base \n",
    "                                                         icl_bcra.Valor, \n",
    "                                                         'Nivel general',\n",
    "                                                         ipc_indec=False), \n",
    "                                axis=1)"
   ]
  },
  {
   "cell_type": "code",
   "execution_count": null,
   "metadata": {
    "executionInfo": {
     "elapsed": 39,
     "status": "ok",
     "timestamp": 1624736420394,
     "user": {
      "displayName": "Federico Catalano",
      "photoUrl": "",
      "userId": "05639651212963955278"
     },
     "user_tz": 180
    },
    "id": "L5M345sUxusW"
   },
   "outputs": [],
   "source": [
    "# hacemos las mismas transformaciones que hicimos antes para acomodar las tuplas\n",
    "serie_ajustada = resultado.apply(pd.Series)\n",
    "columnas = ['periodo', 'precio_nom', 'coeficiente', 'ipc_base', 'ipc_per', 'precio_con']\n",
    "serie_ajustada.columns = columnas"
   ]
  },
  {
   "cell_type": "code",
   "execution_count": null,
   "metadata": {
    "colab": {
     "base_uri": "https://localhost:8080/",
     "height": 331
    },
    "executionInfo": {
     "elapsed": 39,
     "status": "ok",
     "timestamp": 1624736420396,
     "user": {
      "displayName": "Federico Catalano",
      "photoUrl": "",
      "userId": "05639651212963955278"
     },
     "user_tz": 180
    },
    "id": "oFjUkhIC9fdw",
    "outputId": "cf141a39-9946-4334-8718-628920286e03"
   },
   "outputs": [],
   "source": [
    "# el idice es mucho menos brusco que el anterior\n",
    "serie_ajustada"
   ]
  },
  {
   "cell_type": "code",
   "execution_count": null,
   "metadata": {
    "colab": {
     "base_uri": "https://localhost:8080/",
     "height": 279
    },
    "executionInfo": {
     "elapsed": 36,
     "status": "ok",
     "timestamp": 1624736420397,
     "user": {
      "displayName": "Federico Catalano",
      "photoUrl": "",
      "userId": "05639651212963955278"
     },
     "user_tz": 180
    },
    "id": "2IGl-uIs49bb",
    "outputId": "8f2af941-f9d3-4af2-d4c8-202f547ab044"
   },
   "outputs": [],
   "source": [
    "fig, ax = plt.subplots()\n",
    "serie_ajustada.set_index('periodo')['precio_nom'].plot(kind='line', grid=True, color='r');\n",
    "serie_ajustada.set_index('periodo')['precio_con'].plot(kind='line', grid=True, color='b');"
   ]
  },
  {
   "cell_type": "markdown",
   "metadata": {
    "id": "3fK_aRem5dFs"
   },
   "source": [
    "Ahora si, nuestros precios deflactados. Se puede apreciar que la serie ajustada por ICL es más suave que la nominal."
   ]
  },
  {
   "cell_type": "code",
   "execution_count": null,
   "metadata": {
    "executionInfo": {
     "elapsed": 32,
     "status": "ok",
     "timestamp": 1624736420397,
     "user": {
      "displayName": "Federico Catalano",
      "photoUrl": "",
      "userId": "05639651212963955278"
     },
     "user_tz": 180
    },
    "id": "6_eWkzDp9fo-"
   },
   "outputs": [],
   "source": [
    "serie_ajustada['pct_nom']=serie_ajustada['precio_nom'].pct_change() * 100\n",
    "serie_ajustada['pct_con']=serie_ajustada['precio_con'].pct_change() * 100\n",
    "serie_ajustada['pct_ipc']=serie_ajustada['ipc_per'].pct_change() * 100"
   ]
  },
  {
   "cell_type": "code",
   "execution_count": null,
   "metadata": {
    "colab": {
     "base_uri": "https://localhost:8080/",
     "height": 279
    },
    "executionInfo": {
     "elapsed": 31,
     "status": "ok",
     "timestamp": 1624736420397,
     "user": {
      "displayName": "Federico Catalano",
      "photoUrl": "",
      "userId": "05639651212963955278"
     },
     "user_tz": 180
    },
    "id": "jy8J4NS0Ix7i",
    "outputId": "94b24825-30f8-4495-b938-85c4ab23019b"
   },
   "outputs": [],
   "source": [
    "fig, ax = plt.subplots()\n",
    "serie_ajustada.set_index('periodo')['pct_nom'].plot(kind='line', grid=True, color='r',ax=ax)\n",
    "serie_ajustada.set_index('periodo')['pct_con'].plot(kind='line', grid=True, color='b', ax=ax)\n",
    "serie_ajustada.set_index('periodo')['pct_ipc'].plot(kind='line', grid=True, color='g', ax=ax);"
   ]
  },
  {
   "cell_type": "markdown",
   "metadata": {
    "id": "12VbHikH5_YL"
   },
   "source": [
    "Confirmamos lo anterior, el cambio porcentual de los precios constantes fue un poco más bajo que el nominal. En verde, se aprecia cómo el ICL es mucho más suave que el IPC."
   ]
  },
  {
   "cell_type": "markdown",
   "metadata": {
    "id": "Ozk3ZpQV6sOP"
   },
   "source": [
    "## Ejercicio sugerido (con solución)"
   ]
  },
  {
   "cell_type": "markdown",
   "metadata": {
    "id": "aekRM8wZ6sXS"
   },
   "source": [
    "> 1. **Armar con una tabla pivot el precio promedio por período para las distintas jurisdicciones que contemplamos para GBA.**"
   ]
  },
  {
   "cell_type": "code",
   "execution_count": null,
   "metadata": {
    "executionInfo": {
     "elapsed": 29,
     "status": "ok",
     "timestamp": 1624736420399,
     "user": {
      "displayName": "Federico Catalano",
      "photoUrl": "",
      "userId": "05639651212963955278"
     },
     "user_tz": 180
    },
    "id": "ZGYQTh_56sdp"
   },
   "outputs": [],
   "source": [
    "# con una tabla pivot podemos obtener los promedios para todas las jurisdicciones\n",
    "alquileres_gba_region = pd.pivot_table(alquileres_gba,\n",
    "                                       values=\"price\",\n",
    "                                       index=alquileres_gba['etiqueta_fecha'],\n",
    "                                       columns=alquileres_gba['l2'], # la jurisdiccion! \n",
    "                                       aggfunc = 'mean',fill_value=0)"
   ]
  },
  {
   "cell_type": "code",
   "execution_count": null,
   "metadata": {
    "colab": {
     "base_uri": "https://localhost:8080/",
     "height": 237
    },
    "executionInfo": {
     "elapsed": 28,
     "status": "ok",
     "timestamp": 1624736420399,
     "user": {
      "displayName": "Federico Catalano",
      "photoUrl": "",
      "userId": "05639651212963955278"
     },
     "user_tz": 180
    },
    "id": "c_SoiIKCrNQg",
    "outputId": "5c6d9593-7cd2-4523-ebf8-38e585b97a6d"
   },
   "outputs": [],
   "source": [
    "# lo pueden ver aca\n",
    "alquileres_gba_region.head()"
   ]
  },
  {
   "cell_type": "markdown",
   "metadata": {
    "id": "ORuwC36xQsvB"
   },
   "source": [
    "Entonces, algo que podríamos hacer es crear una función para seleccionar regiones de a una, y de paso, acomodar el dataframe a como sabemos que lo vamos a necesitar."
   ]
  },
  {
   "cell_type": "code",
   "execution_count": null,
   "metadata": {
    "executionInfo": {
     "elapsed": 26,
     "status": "ok",
     "timestamp": 1624736420400,
     "user": {
      "displayName": "Federico Catalano",
      "photoUrl": "",
      "userId": "05639651212963955278"
     },
     "user_tz": 180
    },
    "id": "BFpHStmeqtZv"
   },
   "outputs": [],
   "source": [
    "# nuestra función para seleccionar regiones\n",
    "def seleccionar_region(region):\n",
    "    \n",
    "    '''\n",
    "    Selecciona una columna, siendo esta la region y sus precios\n",
    "    en el df \"alquileres_gba_region\".\n",
    "    '''\n",
    "    periodos_ordenados = ['2020-3', '2020-4', '2020-5', '2020-6', \n",
    "                          '2020-7', '2020-8', '2020-9', '2020-10', \n",
    "                          '2020-11', '2020-12','2021-1', '2021-2', '2021-3']\n",
    "    gba_regiones = alquileres_gba_region.reindex(periodos_ordenados)\n",
    "    gba_regiones.reset_index(inplace=True)\n",
    "\n",
    "    gba_region = gba_regiones[['etiqueta_fecha',region]].copy()\n",
    "\n",
    "    gba_region.columns = ['period', 'price']\n",
    "    return gba_region"
   ]
  },
  {
   "cell_type": "code",
   "execution_count": null,
   "metadata": {
    "colab": {
     "base_uri": "https://localhost:8080/",
     "height": 457
    },
    "executionInfo": {
     "elapsed": 817,
     "status": "ok",
     "timestamp": 1624736421192,
     "user": {
      "displayName": "Federico Catalano",
      "photoUrl": "",
      "userId": "05639651212963955278"
     },
     "user_tz": 180
    },
    "id": "wjEWzzk3raA3",
    "outputId": "1e6ae9e1-77ad-4bc4-9a31-cb30edaad0ee"
   },
   "outputs": [],
   "source": [
    "# podríamos empezar trabajando con zona norte\n",
    "seleccionar_region('Bs.As. G.B.A. Zona Norte')"
   ]
  },
  {
   "cell_type": "code",
   "execution_count": null,
   "metadata": {
    "executionInfo": {
     "elapsed": 13,
     "status": "ok",
     "timestamp": 1624736421197,
     "user": {
      "displayName": "Federico Catalano",
      "photoUrl": "",
      "userId": "05639651212963955278"
     },
     "user_tz": 180
    },
    "id": "8AnDpuh2vEEV"
   },
   "outputs": [],
   "source": [
    "# instanciamos zona norte\n",
    "zona_norte = seleccionar_region('Bs.As. G.B.A. Zona Norte')"
   ]
  },
  {
   "cell_type": "markdown",
   "metadata": {
    "id": "kDQrN8uu8Isg"
   },
   "source": [
    "> **2. Elijan una región y calculen precios constantes. Si lo hacen por el camino indec deberan conseguir una serie de ingresos (puede ser por EPH, u otro mecanismo) para terminar de construir un indice.**"
   ]
  },
  {
   "cell_type": "markdown",
   "metadata": {
    "id": "beN6nKWsNAVq"
   },
   "source": [
    "Como vimos en clase con el ICL, para deflactar, además de una medida que nos hable de precios debemos tener en cuenta la evolución de los ingresos. Entonces:\n",
    "\n",
    "*2.1. Si deflactaramos por `icl`, no haría falta hacer ningún proceso adicional.*\n",
    "\n",
    "*2.2. Si quisieramos usar el `ipc_indec` que construimos para GBA, deberíamos incorporar también una serie de ingresos.*\n",
    "\n",
    "Como `2.1.` no nos insume ningún otro esfuerzo mas que volver a correr el notebook y cambiar las regiones, vamos a ir por `2.2.`. Tanto para alargar la serie deflactada como para agregar recursos adicionales que les queden disponibles.\n",
    "\n",
    "\n",
    "Hasta ahora, nuestro ipc nos dice las variaciones porcentuales de los distintos bienes de la economía mes a mes (tomando como referencia un periodo de base). Esto deberíamos combinarlo con una serie salarial y armar un índice o coeficiente único.\n",
    "\n",
    "Para hacer esto podríamos trabajar tanto con valores salariales como con variaciones porcentuales. A continuación les dejo algunos links donde pueden buscar referencias para construir series de salario:\n",
    "\n",
    "**a)** La remuneración imponible promedio de los trabajadores estables - [RIPTE](https://www.argentina.gob.ar/trabajo/seguridadsocial/ripte)\n",
    "\n",
    "**b)** Ministerio de Trabajo - [estadísticas](http://www.trabajo.gob.ar/estadisticas/Bel/ingresos.asp). Este portal incluye varias alternativas, desde construcciones trimestrales por EPH/EAHU hasta negociaciones colectivas.\n",
    "\n",
    "**c)** Subsecretaría de Programación Macroeconómica de la Nación. Muchos de sus datasets están subidos al portal de datos `datos.gob.ar`.\n",
    "\n",
    "Yo voy a ir por la opción `c` y voy a trabajar con [este dataset](https://datos.gob.ar/dataset/sspm-indice-salarios-base-octubre-2016/archivo/sspm_149.1) que ya está subido al directorio `data` del curso.\n",
    "\n",
    "Entonces lo que voy a hacer es tratar de combinar el índice de salarios (que nos indica sus variaciones porcentuales a lo largo de los meses) con el índice de precios.\n",
    "\n",
    "Para eso, primero cargamos el dataset en cuestión."
   ]
  },
  {
   "cell_type": "code",
   "execution_count": null,
   "metadata": {
    "executionInfo": {
     "elapsed": 13,
     "status": "ok",
     "timestamp": 1624736421197,
     "user": {
      "displayName": "Federico Catalano",
      "photoUrl": "",
      "userId": "05639651212963955278"
     },
     "user_tz": 180
    },
    "id": "_UHupUx0azsA"
   },
   "outputs": [],
   "source": [
    "# indice de salarios\n",
    "salarios = pd.read_csv('https://storage.googleapis.com/python_mdg/data_cursos/indice-salarios-periodicidad-mensual-base-octubre-2016.csv')"
   ]
  },
  {
   "cell_type": "code",
   "execution_count": null,
   "metadata": {
    "colab": {
     "base_uri": "https://localhost:8080/",
     "height": 226
    },
    "executionInfo": {
     "elapsed": 14,
     "status": "ok",
     "timestamp": 1624736421198,
     "user": {
      "displayName": "Federico Catalano",
      "photoUrl": "",
      "userId": "05639651212963955278"
     },
     "user_tz": 180
    },
    "id": "wM1wPe0MYUzf",
    "outputId": "4a4cac81-fed5-4cd6-9ef6-f67ac97fc89f"
   },
   "outputs": [],
   "source": [
    "salarios.head()"
   ]
  },
  {
   "cell_type": "markdown",
   "metadata": {
    "id": "F_slV67zYcCJ"
   },
   "source": [
    "Ahora, lo que vamos a tener que hacer es ajustar nuestro deflactor considerando dos escenarios: si pasamos un deflactor o indice ya listo para deflactar, o si pasamos un indice de precios y salarios para construir un nuevo indice o coeficiente.\n",
    "\n",
    "Empecemos por armar una función que nos formatee nuestra sere de índices salariales"
   ]
  },
  {
   "cell_type": "code",
   "execution_count": null,
   "metadata": {
    "executionInfo": {
     "elapsed": 13,
     "status": "ok",
     "timestamp": 1624736421198,
     "user": {
      "displayName": "Federico Catalano",
      "photoUrl": "",
      "userId": "05639651212963955278"
     },
     "user_tz": 180
    },
    "id": "xghNc85TbGI2"
   },
   "outputs": [],
   "source": [
    "# creamos una función para formatear nuestra serie de salarios\n",
    "def formatea_isa(isa, serie='indice_salarios'):\n",
    "    \n",
    "    '''\n",
    "    Formatea dataframe con indice de precios\n",
    "    ...\n",
    "    isa(df): indice de salarios - ver formato en dataframe\n",
    "    serie(str): default con el nombre de la serie a utilizar \n",
    "                Nota: podrian elegir otra columna, para ello deberían cambiar\n",
    "                      el valor del default cuando ejecutan la función indicando\n",
    "                      el nombre de otra de las columnas disponibles!\n",
    "\n",
    "    Devuelve:\n",
    "    pandas.Series: serie con indice de salarios emparejado al año base del IPC\n",
    "    '''\n",
    "    # hacemos slicing sobre los strings de fecha para quedarnos con el periodo\n",
    "    isa['periodo'] = isa.indice_tiempo.apply(lambda x: x[:7])\n",
    "    # filtramos desde el periodo de referencia (octubre de 2016)\n",
    "    isa_f = isa.set_index('periodo').loc['2016-10':].copy()\n",
    "    # como nuestro ipc esta en base dicimiebre 2016, vamos a llevar el isa al mismo periodo\n",
    "    isa_f.drop(columns='indice_tiempo', inplace=True) \n",
    "\n",
    "    # filtramos nuestro isa en base al periodo disponible del ipc,\n",
    "    # esto se podría parametrizar en función de esa disponibilidad. Pero dejemoslo así, simple.\n",
    "    isa_rebase = isa_f.apply(lambda x: x/isa_f.loc['2016-12'], axis=1)\n",
    "    # renombramos los periodos para ajustar el formato que traemos de antes\n",
    "    isa_rebase.index = isa_rebase.index.str.replace('-0', '-', regex=False)\n",
    "    # nuestro ipc va de enero 2017 en adelante, hacemos slicing desde ahi\n",
    "    isa_rebase = isa_rebase.loc['2017-1':].copy()\n",
    "    return isa_rebase[serie]"
   ]
  },
  {
   "cell_type": "code",
   "execution_count": null,
   "metadata": {
    "colab": {
     "base_uri": "https://localhost:8080/"
    },
    "executionInfo": {
     "elapsed": 13,
     "status": "ok",
     "timestamp": 1624736421199,
     "user": {
      "displayName": "Federico Catalano",
      "photoUrl": "",
      "userId": "05639651212963955278"
     },
     "user_tz": 180
    },
    "id": "oIbXmHUXlO3-",
    "outputId": "009bce0e-173d-408b-9c9d-da75aeb4571b"
   },
   "outputs": [],
   "source": [
    "# aca nuestro indice de salarios formateado\n",
    "formatea_isa(salarios).head()"
   ]
  },
  {
   "cell_type": "markdown",
   "metadata": {
    "id": "oSl68QRRZNrX"
   },
   "source": [
    "Ahora que tenemos un índice de salarios listo tenemos que incorporar las modificaciones que mencionamos más arriba. Hacer que la función deflactora pueda trabajar con índices ya listos como el ICL, o bien, con índices que tienen que ser construidos. Para ello, incoroporemos la posibilidad de crear un nuevo índice a partir de salarios y precios:"
   ]
  },
  {
   "cell_type": "code",
   "execution_count": null,
   "metadata": {
    "executionInfo": {
     "elapsed": 10,
     "status": "ok",
     "timestamp": 1624736421200,
     "user": {
      "displayName": "Federico Catalano",
      "photoUrl": "",
      "userId": "05639651212963955278"
     },
     "user_tz": 180
    },
    "id": "gijFOVHnHks9"
   },
   "outputs": [],
   "source": [
    "# vamos a ajustar un poco el codigo de nuestro deflactor para ajustarnos a la consigna\n",
    "def deflactar_serie(pe,pr,ba, # en primer lugar, fijense que renombramos varios parametros\n",
    "                    construye_d=True,\n",
    "                    ipc=ipc_indec,\n",
    "                    isa=salarios,\n",
    "                    rubro_ipc='Nivel general',\n",
    "                    rubro_isa='indice_salarios',\n",
    "                    d=None,):\n",
    "    \n",
    "    '''\n",
    "    Deflacta una serie de valores nominales\n",
    "    ...\n",
    "    pe(str): nombre de la serie con la etiqueta del periodo nominal\n",
    "    pr(str): nombre de la serie con valores nominales\n",
    "    ba(str): nombre del periodo que vamos a tomar como base\n",
    "    construye_d(bool): construir el deflactor en el cuerpo de la funcion (e.g:False)\n",
    "                       Nota alumnos: este parametro es default, si no lo especifican\n",
    "                       a la hora de ejecutar la funcion se va a tomar True como valor.\n",
    "    ipc(serie): serie de pandas con variaciones porcentuales de precios\n",
    "    isa(serie): serie de pandas con variaciones porcentuales de salarios\n",
    "    rubro_ipc(str): nombre de la apertura del ipc. El default es 'Nivel general', pero\n",
    "                    también se puede cambiar cuando se ejecuta la función.\n",
    "    rubro_isa(str): nombre del tipo de indice salarial de referencia. El default también\n",
    "                    se puede cambiar por otro nombre.\n",
    "    d(str): serie de pandas con un índice deflactor.\n",
    "    Devuelve:\n",
    "    pd.Series: Serie de tuplas.\n",
    "    '''\n",
    "    periodo = pe\n",
    "    precio_nominal = pr\n",
    "    periodo_base = ba\n",
    "\n",
    "    if construye_d: # si esto evalua a True, \n",
    "        precios = aperturas_ipc_indec(ipc, rubro_ipc)\n",
    "        salarios = formatea_isa(isa, rubro_isa)\n",
    "        serie = salarios/precios.mean() # entonces construimos nuestro deflactor,\n",
    "                                        # en nuestro caso expresamos las variaciones mensuales\n",
    "                                        # de los salarios en función del promedio de las\n",
    "                                        # variaciones de precios\n",
    "    else:\n",
    "        serie = d # sino, usamos uno ya armado (como el ICL)\n",
    "\n",
    "    # en esta seccion deflactamos\n",
    "    serie_periodo = serie.loc[periodo] \n",
    "    serie_base = serie.loc[periodo_base]  \n",
    "    coeficiente = serie_periodo/serie_base\n",
    "    precio_constante = precio_nominal / coeficiente\n",
    "\n",
    "    return periodo, precio_nominal, coeficiente, serie_base, serie_periodo, precio_constante"
   ]
  },
  {
   "cell_type": "markdown",
   "metadata": {
    "id": "eeksxM3QLFRM"
   },
   "source": [
    "Antes de aplicar nuestra función, un comentario sobre su uso. Si en lugar de haber hecho:\n",
    "\n",
    "```\n",
    "return periodo, precio_nominal, coeficiente, ipc_base, ipc_periodo, precio_constante\n",
    "```\n",
    "\n",
    "hubiésemos hecho solamente:\n",
    "\n",
    "```\n",
    "return precio_nominal\n",
    "```\n",
    "\n",
    "... esto nos habría permitido aplicar nuestra función directamente al dataframe original. Si, aquel que descargamos de properati y tenía alrededor de un millón de registros. Eso hubiese servido para crear una columna o serie de precios constantes allí mismo. Así:\n",
    "\n",
    "```\n",
    "df['price_constant'] = df.apply(lambda x: ...)\n",
    "```\n",
    "\n",
    "Pero como nuestro objetivo es otro (queremos ver esa serie de tuplas con todos los indicadores que construimos), vamos a simplemente dejarlo como está y ver qué resultado obtenemos para zona norte:"
   ]
  },
  {
   "cell_type": "code",
   "execution_count": null,
   "metadata": {
    "colab": {
     "base_uri": "https://localhost:8080/",
     "height": 457
    },
    "executionInfo": {
     "elapsed": 785,
     "status": "ok",
     "timestamp": 1624736472854,
     "user": {
      "displayName": "Federico Catalano",
      "photoUrl": "",
      "userId": "05639651212963955278"
     },
     "user_tz": 180
    },
    "id": "dDpPVVqb1wRe",
    "outputId": "f68bde1e-c159-4da2-f929-6841b87e07c2"
   },
   "outputs": [],
   "source": [
    "zona_norte"
   ]
  },
  {
   "cell_type": "code",
   "execution_count": null,
   "metadata": {
    "executionInfo": {
     "elapsed": 900,
     "status": "ok",
     "timestamp": 1624736422091,
     "user": {
      "displayName": "Federico Catalano",
      "photoUrl": "",
      "userId": "05639651212963955278"
     },
     "user_tz": 180
    },
    "id": "PCf4YxosotRa"
   },
   "outputs": [],
   "source": [
    "res_zn = zona_norte.apply(lambda x: deflactar_serie(pe=x.period, \n",
    "                                           pr=x.price,\n",
    "                                           ba='2020-3',  \n",
    "                                           rubro_ipc='Alquiler de la vivienda'), \n",
    "                          axis=1)\n",
    "\n",
    "zn_ajustada = res_zn.apply(pd.Series)\n",
    "zn_columnas = ['periodo', 'precio_nom', 'coeficiente', 'ipc_base', 'ipc_per', 'precio_con']\n",
    "zn_ajustada.columns = zn_columnas"
   ]
  },
  {
   "cell_type": "code",
   "execution_count": null,
   "metadata": {
    "colab": {
     "base_uri": "https://localhost:8080/",
     "height": 279
    },
    "executionInfo": {
     "elapsed": 7,
     "status": "ok",
     "timestamp": 1624736422092,
     "user": {
      "displayName": "Federico Catalano",
      "photoUrl": "",
      "userId": "05639651212963955278"
     },
     "user_tz": 180
    },
    "id": "u2oN5HGOotVF",
    "outputId": "6b118e27-1919-4962-f5d5-00ce5f8c34a3"
   },
   "outputs": [],
   "source": [
    "fig, ax = plt.subplots()\n",
    "zn_ajustada.set_index('periodo')['precio_nom'].plot(kind='line', grid=True, color='r')\n",
    "zn_ajustada.set_index('periodo')['precio_con'].plot(kind='line', grid=True, color='b');"
   ]
  },
  {
   "cell_type": "markdown",
   "metadata": {
    "id": "yXMv7Rp37Y-y"
   },
   "source": [
    "> **3. Comparen esa serie con la serie de precios constantes para todo GBA (la que calculamos antes del ejercicio) - también se puede hacer la comparación con otra jurisdicción!**"
   ]
  },
  {
   "cell_type": "markdown",
   "metadata": {
    "id": "QPds2_sAMSYt"
   },
   "source": [
    "Listo, lo que acabamos de hacer nos permitiría también comparar el comportamiento de los alquileres con otras jurisdicciones, por ejemplo, zona sur. Calculemosla."
   ]
  },
  {
   "cell_type": "code",
   "execution_count": null,
   "metadata": {
    "executionInfo": {
     "elapsed": 7,
     "status": "ok",
     "timestamp": 1624736422094,
     "user": {
      "displayName": "Federico Catalano",
      "photoUrl": "",
      "userId": "05639651212963955278"
     },
     "user_tz": 180
    },
    "id": "zyHBHcvwMlnm"
   },
   "outputs": [],
   "source": [
    "zona_sur = seleccionar_region('Bs.As. G.B.A. Zona Sur')\n",
    "\n",
    "res_zs = zona_sur.apply(lambda x: deflactar_serie(pe=x.period, \n",
    "                                                  pr=x.price,\n",
    "                                                  ba='2020-3',  \n",
    "                                                  rubro_ipc='Alquiler de la vivienda'), \n",
    "                        axis=1)\n",
    "\n",
    "zs_ajustada = res_zs.apply(pd.Series)\n",
    "zs_columnas = ['periodo', 'precio_nom', 'coeficiente', 'ipc_base', 'ipc_per', 'precio_con']\n",
    "zs_ajustada.columns = zn_columnas"
   ]
  },
  {
   "cell_type": "code",
   "execution_count": null,
   "metadata": {
    "colab": {
     "base_uri": "https://localhost:8080/",
     "height": 279
    },
    "executionInfo": {
     "elapsed": 1560,
     "status": "ok",
     "timestamp": 1624736423647,
     "user": {
      "displayName": "Federico Catalano",
      "photoUrl": "",
      "userId": "05639651212963955278"
     },
     "user_tz": 180
    },
    "id": "6Mnl8cTSMlsh",
    "outputId": "a0354ff3-47d9-420f-a42c-f7d0438de8c0"
   },
   "outputs": [],
   "source": [
    "# así quedarían los precios nominales y reales en zona sur\n",
    "fig, ax = plt.subplots()\n",
    "zs_ajustada.set_index('periodo')['precio_nom'].plot(kind='line', grid=True, color='r')\n",
    "zs_ajustada.set_index('periodo')['precio_con'].plot(kind='line', grid=True, color='b');"
   ]
  },
  {
   "cell_type": "code",
   "execution_count": null,
   "metadata": {
    "colab": {
     "base_uri": "https://localhost:8080/",
     "height": 280
    },
    "executionInfo": {
     "elapsed": 17,
     "status": "ok",
     "timestamp": 1624736423648,
     "user": {
      "displayName": "Federico Catalano",
      "photoUrl": "",
      "userId": "05639651212963955278"
     },
     "user_tz": 180
    },
    "id": "6S73_kltMlw5",
    "outputId": "c61906f8-3fa2-4e84-8a06-98e7286fe5d1"
   },
   "outputs": [],
   "source": [
    "# así los precios constantes en zona norte y zona sur!\n",
    "fig, ax = plt.subplots()\n",
    "zs_ajustada.set_index('periodo')['precio_con'].plot(kind='line', grid=True, color='g')\n",
    "zn_ajustada.set_index('periodo')['precio_con'].plot(kind='line', grid=True, color='y');"
   ]
  },
  {
   "cell_type": "code",
   "execution_count": null,
   "metadata": {
    "executionInfo": {
     "elapsed": 15,
     "status": "ok",
     "timestamp": 1624736423648,
     "user": {
      "displayName": "Federico Catalano",
      "photoUrl": "",
      "userId": "05639651212963955278"
     },
     "user_tz": 180
    },
    "id": "PHk7bL_iMl0s"
   },
   "outputs": [],
   "source": [
    "res_gba = gba_ordenado.apply(lambda x: deflactar_serie(pe=x.period, \n",
    "                                                       pr=x.price,\n",
    "                                                       ba='2020-3',  \n",
    "                                                       rubro_ipc='Alquiler de la vivienda'), \n",
    "                             axis=1)\n",
    "\n",
    "gba_ajustada = res_gba.apply(pd.Series)\n",
    "gba_columnas = ['periodo', 'precio_nom', 'coeficiente', 'ipc_base', 'ipc_per', 'precio_con']\n",
    "gba_ajustada.columns = gba_columnas"
   ]
  },
  {
   "cell_type": "code",
   "execution_count": null,
   "metadata": {
    "colab": {
     "base_uri": "https://localhost:8080/",
     "height": 279
    },
    "executionInfo": {
     "elapsed": 15,
     "status": "ok",
     "timestamp": 1624736423648,
     "user": {
      "displayName": "Federico Catalano",
      "photoUrl": "",
      "userId": "05639651212963955278"
     },
     "user_tz": 180
    },
    "id": "w2Lh09EJMl4k",
    "outputId": "fdeb1234-7142-425b-c3d6-ee5cb9fef814"
   },
   "outputs": [],
   "source": [
    "# nuestros precios nominales y reales en todo el GBA\n",
    "fig, ax = plt.subplots()\n",
    "gba_ajustada.set_index('periodo')['precio_nom'].plot(kind='line', grid=True, color='r')\n",
    "gba_ajustada.set_index('periodo')['precio_con'].plot(kind='line', grid=True, color='b');"
   ]
  },
  {
   "cell_type": "markdown",
   "metadata": {
    "id": "GIqOraY-Ml8O"
   },
   "source": [
    "Ahora sí, el último paso. Comparemos las series constantes de Zona Norte y Sur, contextualizando vs la región GBA."
   ]
  },
  {
   "cell_type": "code",
   "execution_count": null,
   "metadata": {
    "colab": {
     "base_uri": "https://localhost:8080/",
     "height": 280
    },
    "executionInfo": {
     "elapsed": 15,
     "status": "ok",
     "timestamp": 1624736423649,
     "user": {
      "displayName": "Federico Catalano",
      "photoUrl": "",
      "userId": "05639651212963955278"
     },
     "user_tz": 180
    },
    "id": "jwdVpPk1Ml_x",
    "outputId": "a88196ea-62c1-45d7-c428-655cd22db3bb"
   },
   "outputs": [],
   "source": [
    "# los precios constantes en contexto!\n",
    "fig, ax = plt.subplots()\n",
    "zs_ajustada.set_index('periodo')['precio_con'].plot(kind='line', grid=True, color='g')\n",
    "zn_ajustada.set_index('periodo')['precio_con'].plot(kind='line', grid=True, color='y')\n",
    "gba_ajustada.set_index('periodo')['precio_con'].plot(kind='line', grid=True, color='b');"
   ]
  },
  {
   "cell_type": "code",
   "execution_count": null,
   "metadata": {},
   "outputs": [],
   "source": []
  }
 ],
 "metadata": {
  "colab": {
   "collapsed_sections": [],
   "name": "clase_03_esquemas_tabulares_II_solucion.ipynb",
   "provenance": []
  },
  "kernelspec": {
   "display_name": "Python 3 (ipykernel)",
   "language": "python",
   "name": "python3"
  },
  "language_info": {
   "codemirror_mode": {
    "name": "ipython",
    "version": 3
   },
   "file_extension": ".py",
   "mimetype": "text/x-python",
   "name": "python",
   "nbconvert_exporter": "python",
   "pygments_lexer": "ipython3",
   "version": "3.7.6"
  }
 },
 "nbformat": 4,
 "nbformat_minor": 1
}
