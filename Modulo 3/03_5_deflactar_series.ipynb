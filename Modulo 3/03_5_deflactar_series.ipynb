{
 "cells": [
  {
   "cell_type": "markdown",
   "metadata": {},
   "source": [
    "<a href=\"https://colab.research.google.com/github/PyMap/AUPY/blob/master/Modulo%203/03_5_deflactar_series.ipynb\" target=\"_parent\"><img src=\"https://colab.research.google.com/assets/colab-badge.svg\" alt=\"Open In Colab\"/></a>"
   ]
  },
  {
   "cell_type": "markdown",
   "metadata": {
    "id": "tZsBha-hT6K-"
   },
   "source": [
    "# Grandes volúmenes de datos\n",
    "\n"
   ]
  },
  {
   "cell_type": "markdown",
   "metadata": {
    "id": "5173ky-TT6LE"
   },
   "source": [
    "## [Properati](https://blog.properati.com.ar/category/contenidos-data/), un ejemplo aplicado al mundo del real estate ... "
   ]
  },
  {
   "cell_type": "markdown",
   "metadata": {
    "id": "ob_dT5mDRGIY"
   },
   "source": [
    "Como científico de datos urbanos, una dimensión de interés es lo que sucede en el mundo de la vivienda. Al menos aquella que circula dentro de un mercado formal.\n",
    "\n",
    "Construir nuestros propios índices de precios y seguirlos a lo largo de un período, evaluar la distribución espacial de las distintas tipologías o incluso estudiar los niveles de inflación. Todas, preguntas que podríamos llegar a hacernos frente a un análisis que involucre a la viviendas como nuestro objeto de estudio.\n",
    "\n",
    "La noción de BigData puede ser a veces un poco difusa. Sin embargo, no queda duda que este concepto está innegablemente ligado a la noción de tiempo. Más datos suceden en más tiempo. Por eso, aprender a trabajar con conjuntos de datos administrados, accesibles a lo largo del tiempo es tan importante. Porque nos abre las puertas a grandes cantidades de información.\n",
    "\n",
    "El portal inmobiliario `properati` 🏢 es un buen caso de uso para hablar de Big Data y ciencia de datos urbanos. Gracias al gran trabajo que hacen, se contar con una fuente que se actualiza constantemente y que nos permite hacer nuestros propios análisis. Por eso, no dejen de citarlos cada vez que usan los recursos que comparten 🚀.  "
   ]
  },
  {
   "cell_type": "markdown",
   "metadata": {
    "id": "bBWPuRZdT6LE"
   },
   "source": [
    "### El conjunto de datos \n",
    "\n",
    "Properati almacena sus registros de publicaciones en distintos conjuntos de datos. Todos ellos correspondientes a múltiples países de latinoamérica (algo también interesante, no?). Imagínense todas las preguntas que podríamos responder, o rutinas que podríamos estandarizar para construir nuestra propia información.\n",
    "\n",
    "Para esta clase, vamos a trabajar con uno de los extractos descargable en formato csv. L@s que estén interesados en ver cómo funcionan las consultas en la consola de google cloud utilizando Big Query puede ir al material complementario. Como decíamos, estos extractos son porciones organizadas en fechas que se actualizan diariamente. Con el que trabajaremos corresponde a argentina. \n",
    "\n",
    "Cada tabla correspondiente al conjunto de datos de cada país tiene el siguiente esquema:\n"
   ]
  },
  {
   "cell_type": "markdown",
   "metadata": {
    "id": "98zcinSdT6LE"
   },
   "source": [
    "* **ad_type** - Tipo de aviso (Propiedad, Desarrollo).\n",
    "* **id** - Identificador del aviso. No es único: si el aviso es actualizado por la inmobiliaria (nueva versión del aviso) se crea un nuevo registro con la misma id pero distintas fechas.\n",
    "* **start_date** - Fecha de alta del aviso.\n",
    "* **end_date** - Fecha de baja del aviso.\n",
    "* **created_on** - Fecha de alta de la primera versión del aviso.\n",
    "* **place** - Campos referidos a la ubicación de la propiedad o del desarrollo.\n",
    "  * **lat** - Latitud.\n",
    "  * **lon** - Longitud.\n",
    "  * **l1** - Nivel geopolítico 1: país.\n",
    "  * **l2** - Nivel geopolítico 2: usualmente provincia.\n",
    "  * **l3** - Nivel geopolítico 3: usualmente ciudad/localidad.\n",
    "  * **l4 a l6** - Niveles geopolíticos 4 a 6: usualmente barrio.\n",
    "* **property** - Campos relativos a la propiedad (vacío si el aviso es de un desarrollo).\n",
    "  * **operation_type** - Tipo de operación (Venta, Alquiler y Alquiler temporal ).\n",
    "  * **property_type** - Tipo de propiedad (Casa, Departamento, PH, etc.).\n",
    "  * **rooms** - Cantidad de ambientes (útil en Argentina).\n",
    "  * **bedrooms** - Cantidad de dormitorios (útil en el resto de los países).\n",
    "  * **bathrooms** - Cantidad de baños.\n",
    "  * **surface_total** - Superficie total en m².\n",
    "  * **surface_covered** - Superficie cubierta en m².\n",
    "  * **price** - Precio publicado en el anuncio.\n",
    "  * **currency** - Moneda del precio publicado.\n",
    "  * **price_period** - Periodo del precio (Diario, Semanal, Mensual)\n",
    "  * **title** - Título del anuncio.\n",
    "  * **description** - Descripción del anuncio.\n"
   ]
  },
  {
   "cell_type": "code",
   "execution_count": 1,
   "metadata": {
    "executionInfo": {
     "elapsed": 446,
     "status": "ok",
     "timestamp": 1624736335926,
     "user": {
      "displayName": "Federico Catalano",
      "photoUrl": "",
      "userId": "05639651212963955278"
     },
     "user_tz": 180
    },
    "id": "V6wSTfJId7i2"
   },
   "outputs": [],
   "source": [
    "import pandas as pd"
   ]
  },
  {
   "cell_type": "code",
   "execution_count": 2,
   "metadata": {
    "executionInfo": {
     "elapsed": 24281,
     "status": "ok",
     "timestamp": 1624736388476,
     "user": {
      "displayName": "Federico Catalano",
      "photoUrl": "",
      "userId": "05639651212963955278"
     },
     "user_tz": 180
    },
    "id": "oClxOC-bfnpq"
   },
   "outputs": [],
   "source": [
    "df = pd.read_csv('https://storage.googleapis.com/python_mdg/data_cursos/ar_properties.csv.gz')"
   ]
  },
  {
   "cell_type": "code",
   "execution_count": 3,
   "metadata": {
    "colab": {
     "base_uri": "https://localhost:8080/"
    },
    "executionInfo": {
     "elapsed": 25,
     "status": "ok",
     "timestamp": 1624736388481,
     "user": {
      "displayName": "Federico Catalano",
      "photoUrl": "",
      "userId": "05639651212963955278"
     },
     "user_tz": 180
    },
    "id": "CywOTI89fnyn",
    "outputId": "c521f154-650a-407d-a046-99483e17cd71"
   },
   "outputs": [
    {
     "data": {
      "text/plain": [
       "Index(['id', 'ad_type', 'start_date', 'end_date', 'created_on', 'lat', 'lon',\n",
       "       'l1', 'l2', 'l3', 'l4', 'l5', 'l6', 'rooms', 'bedrooms', 'bathrooms',\n",
       "       'surface_total', 'surface_covered', 'price', 'currency', 'price_period',\n",
       "       'title', 'description', 'property_type', 'operation_type'],\n",
       "      dtype='object')"
      ]
     },
     "execution_count": 3,
     "metadata": {},
     "output_type": "execute_result"
    }
   ],
   "source": [
    "df.columns"
   ]
  },
  {
   "cell_type": "markdown",
   "metadata": {
    "id": "Ts8J8xEXsyyH"
   },
   "source": [
    "## Fechas, días y el uso de `datetime`"
   ]
  },
  {
   "cell_type": "markdown",
   "metadata": {
    "id": "1BrGh-c3s68A"
   },
   "source": [
    "**Datetime** es un modulo de pandas diseñado para manipular fechas y horas. Las clases que provee permite tanto operaciones aritméticas como la extraccion de campos como dia, mes, fecha y hora de una manera rapida y eficiente."
   ]
  },
  {
   "cell_type": "code",
   "execution_count": 4,
   "metadata": {
    "executionInfo": {
     "elapsed": 14,
     "status": "ok",
     "timestamp": 1624736388482,
     "user": {
      "displayName": "Federico Catalano",
      "photoUrl": "",
      "userId": "05639651212963955278"
     },
     "user_tz": 180
    },
    "id": "qxf1sfT9s7Ac"
   },
   "outputs": [],
   "source": [
    "# importamos el modulo\n",
    "from datetime import datetime"
   ]
  },
  {
   "cell_type": "code",
   "execution_count": 5,
   "metadata": {
    "colab": {
     "base_uri": "https://localhost:8080/",
     "height": 35
    },
    "executionInfo": {
     "elapsed": 14,
     "status": "ok",
     "timestamp": 1624736388482,
     "user": {
      "displayName": "Federico Catalano",
      "photoUrl": "",
      "userId": "05639651212963955278"
     },
     "user_tz": 180
    },
    "id": "t3qj2z2h64pk",
    "outputId": "b86d831d-00b0-4c71-c96f-45374aa772f1"
   },
   "outputs": [
    {
     "data": {
      "text/plain": [
       "'2021-01-17'"
      ]
     },
     "execution_count": 5,
     "metadata": {},
     "output_type": "execute_result"
    }
   ],
   "source": [
    "df.start_date[0]"
   ]
  },
  {
   "cell_type": "code",
   "execution_count": 6,
   "metadata": {
    "colab": {
     "base_uri": "https://localhost:8080/"
    },
    "executionInfo": {
     "elapsed": 13,
     "status": "ok",
     "timestamp": 1624736388483,
     "user": {
      "displayName": "Federico Catalano",
      "photoUrl": "",
      "userId": "05639651212963955278"
     },
     "user_tz": 180
    },
    "id": "Sb3_q_t4s7Sr",
    "outputId": "56b3d75b-fd6a-4587-8098-5a9928b6550b"
   },
   "outputs": [
    {
     "data": {
      "text/plain": [
       "6"
      ]
     },
     "execution_count": 6,
     "metadata": {},
     "output_type": "execute_result"
    }
   ],
   "source": [
    "# convirtamos el primer registro de la serie Fecha a dias. Esto nos devolvera un valor posicional\n",
    "datetime.strptime(df.start_date[0],'%Y-%m-%d').weekday()"
   ]
  },
  {
   "cell_type": "code",
   "execution_count": 7,
   "metadata": {
    "executionInfo": {
     "elapsed": 9449,
     "status": "ok",
     "timestamp": 1624736397923,
     "user": {
      "displayName": "Federico Catalano",
      "photoUrl": "",
      "userId": "05639651212963955278"
     },
     "user_tz": 180
    },
    "id": "_hWU8Cuss7WU"
   },
   "outputs": [],
   "source": [
    " # Y obtengamos el dia de la semana para todo el dataset\n",
    "dia_semana = df.start_date.apply(lambda x: datetime.strptime(x,'%Y-%m-%d').weekday())"
   ]
  },
  {
   "cell_type": "code",
   "execution_count": 8,
   "metadata": {
    "colab": {
     "base_uri": "https://localhost:8080/"
    },
    "executionInfo": {
     "elapsed": 24,
     "status": "ok",
     "timestamp": 1624736397926,
     "user": {
      "displayName": "Federico Catalano",
      "photoUrl": "",
      "userId": "05639651212963955278"
     },
     "user_tz": 180
    },
    "id": "0cUV6zUHs7Z4",
    "outputId": "6c88825e-5b89-4224-f7a2-a5799192a4c3"
   },
   "outputs": [
    {
     "data": {
      "text/plain": [
       "0         6\n",
       "1         6\n",
       "2         6\n",
       "3         6\n",
       "4         6\n",
       "         ..\n",
       "999995    3\n",
       "999996    3\n",
       "999997    3\n",
       "999998    3\n",
       "999999    3\n",
       "Name: start_date, Length: 1000000, dtype: int64"
      ]
     },
     "execution_count": 8,
     "metadata": {},
     "output_type": "execute_result"
    }
   ],
   "source": [
    "dia_semana"
   ]
  },
  {
   "cell_type": "code",
   "execution_count": 9,
   "metadata": {
    "executionInfo": {
     "elapsed": 18,
     "status": "ok",
     "timestamp": 1624736397927,
     "user": {
      "displayName": "Federico Catalano",
      "photoUrl": "",
      "userId": "05639651212963955278"
     },
     "user_tz": 180
    },
    "id": "6nqwAPI_vK8b"
   },
   "outputs": [],
   "source": [
    "df['dia_semana'] = dia_semana.copy()"
   ]
  },
  {
   "cell_type": "code",
   "execution_count": 10,
   "metadata": {
    "executionInfo": {
     "elapsed": 17,
     "status": "ok",
     "timestamp": 1624736397927,
     "user": {
      "displayName": "Federico Catalano",
      "photoUrl": "",
      "userId": "05639651212963955278"
     },
     "user_tz": 180
    },
    "id": "6JPBUofjs7dH"
   },
   "outputs": [],
   "source": [
    "# cambiamos de posicional a nombres\n",
    "df['dia_semana'].replace({0:'lunes', \n",
    "                          1:'martes', \n",
    "                          2:'miercoles', \n",
    "                          3:'jueves', \n",
    "                          4:'viernes', \n",
    "                          5:'sabado', \n",
    "                          6:'domingo'}, inplace=True)"
   ]
  },
  {
   "cell_type": "code",
   "execution_count": 11,
   "metadata": {
    "colab": {
     "base_uri": "https://localhost:8080/"
    },
    "executionInfo": {
     "elapsed": 17,
     "status": "ok",
     "timestamp": 1624736397927,
     "user": {
      "displayName": "Federico Catalano",
      "photoUrl": "",
      "userId": "05639651212963955278"
     },
     "user_tz": 180
    },
    "id": "oNglnAtovB5x",
    "outputId": "36105a8d-dce6-4717-c97d-7d3c2c5fcaf8"
   },
   "outputs": [
    {
     "data": {
      "text/plain": [
       "martes       171975\n",
       "viernes      169787\n",
       "miercoles    166422\n",
       "jueves       157923\n",
       "lunes        136622\n",
       "sabado       110854\n",
       "domingo       86417\n",
       "Name: dia_semana, dtype: int64"
      ]
     },
     "execution_count": 11,
     "metadata": {},
     "output_type": "execute_result"
    }
   ],
   "source": [
    "df['dia_semana'].value_counts()"
   ]
  },
  {
   "cell_type": "markdown",
   "metadata": {
    "id": "u-3iOgyZvB9T"
   },
   "source": [
    "Otro camino que podriamos haber tomado para trabajar con datetime, es a partir del metodo to_datetime de pandas. Veamos algunos ejemplos..."
   ]
  },
  {
   "cell_type": "code",
   "execution_count": 12,
   "metadata": {
    "colab": {
     "base_uri": "https://localhost:8080/"
    },
    "executionInfo": {
     "elapsed": 721,
     "status": "ok",
     "timestamp": 1624736398635,
     "user": {
      "displayName": "Federico Catalano",
      "photoUrl": "",
      "userId": "05639651212963955278"
     },
     "user_tz": 180
    },
    "id": "NzdyBccsvCA2",
    "outputId": "da6f0264-556e-4970-90d8-efc994a9ff6e"
   },
   "outputs": [
    {
     "data": {
      "text/plain": [
       "0         1\n",
       "1         1\n",
       "2         1\n",
       "3         1\n",
       "4         1\n",
       "         ..\n",
       "999995    8\n",
       "999996    8\n",
       "999997    8\n",
       "999998    8\n",
       "999999    8\n",
       "Name: start_date, Length: 1000000, dtype: int64"
      ]
     },
     "execution_count": 12,
     "metadata": {},
     "output_type": "execute_result"
    }
   ],
   "source": [
    "# esto nos devuelve el mes\n",
    "pd.to_datetime(df.start_date).dt.month"
   ]
  },
  {
   "cell_type": "code",
   "execution_count": 13,
   "metadata": {
    "colab": {
     "base_uri": "https://localhost:8080/"
    },
    "executionInfo": {
     "elapsed": 421,
     "status": "ok",
     "timestamp": 1624736399055,
     "user": {
      "displayName": "Federico Catalano",
      "photoUrl": "",
      "userId": "05639651212963955278"
     },
     "user_tz": 180
    },
    "id": "rB5mtTP3vCEU",
    "outputId": "b49de93d-05a8-4d9d-879e-b30e42c1358f"
   },
   "outputs": [
    {
     "data": {
      "text/plain": [
       "0        2021-01-17\n",
       "1        2021-01-17\n",
       "2        2021-01-17\n",
       "3        2021-01-17\n",
       "4        2021-01-17\n",
       "            ...    \n",
       "999995   2020-08-27\n",
       "999996   2020-08-27\n",
       "999997   2020-08-27\n",
       "999998   2020-08-27\n",
       "999999   2020-08-27\n",
       "Name: start_date, Length: 1000000, dtype: datetime64[ns]"
      ]
     },
     "execution_count": 13,
     "metadata": {},
     "output_type": "execute_result"
    }
   ],
   "source": [
    "# la fecha en formato datetim64\n",
    "pd.to_datetime(df.start_date).dt.date.astype('datetime64') "
   ]
  },
  {
   "cell_type": "code",
   "execution_count": 14,
   "metadata": {
    "colab": {
     "base_uri": "https://localhost:8080/"
    },
    "executionInfo": {
     "elapsed": 6,
     "status": "ok",
     "timestamp": 1624736399056,
     "user": {
      "displayName": "Federico Catalano",
      "photoUrl": "",
      "userId": "05639651212963955278"
     },
     "user_tz": 180
    },
    "id": "nrSs1nndvCH1",
    "outputId": "4579dd94-1437-4a5e-928b-2e9ab3e22f1e"
   },
   "outputs": [
    {
     "data": {
      "text/plain": [
       "0         6\n",
       "1         6\n",
       "2         6\n",
       "3         6\n",
       "4         6\n",
       "         ..\n",
       "999995    3\n",
       "999996    3\n",
       "999997    3\n",
       "999998    3\n",
       "999999    3\n",
       "Name: start_date, Length: 1000000, dtype: int64"
      ]
     },
     "execution_count": 14,
     "metadata": {},
     "output_type": "execute_result"
    }
   ],
   "source": [
    "# el dia de la semana\n",
    "pd.to_datetime(df.start_date).dt.weekday"
   ]
  },
  {
   "cell_type": "markdown",
   "metadata": {
    "id": "sm4P3pQrfSZn"
   },
   "source": [
    "... volviendo a lo nuestro, nosotros habíamos generado una nueva Serie con el día de la publicación. Esto nos permitiría hablar de algo puntual. Si hay algún día de la semana en el que \"se publique más\".\n",
    "\n",
    "Tomemos como excusa esta consigna para introducir algunos conceptos generales de ploteo."
   ]
  },
  {
   "cell_type": "code",
   "execution_count": 15,
   "metadata": {
    "colab": {
     "base_uri": "https://localhost:8080/",
     "height": 304
    },
    "executionInfo": {
     "elapsed": 620,
     "status": "ok",
     "timestamp": 1624736399673,
     "user": {
      "displayName": "Federico Catalano",
      "photoUrl": "",
      "userId": "05639651212963955278"
     },
     "user_tz": 180
    },
    "id": "PQiLiBIEj2mq",
    "outputId": "ab6de901-c996-44ab-e8e9-2fff3f5cf36b"
   },
   "outputs": [
    {
     "data": {
      "image/png": "[encoded data removed]",
      "text/plain": [
       "<Figure size 432x288 with 1 Axes>"
      ]
     },
     "metadata": {
      "needs_background": "light"
     },
     "output_type": "display_data"
    }
   ],
   "source": [
    "df['dia_semana'].value_counts().plot(kind='bar',grid=True, color='#2F9599');"
   ]
  },
  {
   "cell_type": "code",
   "execution_count": 16,
   "metadata": {
    "colab": {
     "base_uri": "https://localhost:8080/"
    },
    "executionInfo": {
     "elapsed": 10,
     "status": "ok",
     "timestamp": 1624736399673,
     "user": {
      "displayName": "Federico Catalano",
      "photoUrl": "",
      "userId": "05639651212963955278"
     },
     "user_tz": 180
    },
    "id": "BTIF2dQMpjk8",
    "outputId": "53c33e5e-8d68-44f7-e52f-81e1ffab147b"
   },
   "outputs": [
    {
     "data": {
      "text/plain": [
       "lunes        136622\n",
       "martes       171975\n",
       "miercoles    166422\n",
       "jueves       157923\n",
       "viernes      169787\n",
       "sabado       110854\n",
       "domingo       86417\n",
       "Name: dia_semana, dtype: int64"
      ]
     },
     "execution_count": 16,
     "metadata": {},
     "output_type": "execute_result"
    }
   ],
   "source": [
    "# le asignamos un nuevo label al axis 0\n",
    "orden = [\"lunes\", \"martes\", \"miercoles\", \"jueves\", \"viernes\", \"sabado\",\"domingo\"]\n",
    "df['dia_semana'].value_counts().reindex(orden)"
   ]
  },
  {
   "cell_type": "code",
   "execution_count": 17,
   "metadata": {
    "colab": {
     "base_uri": "https://localhost:8080/",
     "height": 304
    },
    "executionInfo": {
     "elapsed": 1015,
     "status": "ok",
     "timestamp": 1624736400684,
     "user": {
      "displayName": "Federico Catalano",
      "photoUrl": "",
      "userId": "05639651212963955278"
     },
     "user_tz": 180
    },
    "id": "JZumRRVZqex5",
    "outputId": "fe2d8151-d67e-410e-abda-d421a5bb7f6d"
   },
   "outputs": [
    {
     "data": {
      "image/png": "[encoded data removed]",
      "text/plain": [
       "<Figure size 432x288 with 1 Axes>"
      ]
     },
     "metadata": {
      "needs_background": "light"
     },
     "output_type": "display_data"
    }
   ],
   "source": [
    "# y volvemos a plotear\n",
    "df['dia_semana'].value_counts().reindex(orden).plot(kind='bar',grid=True, color='#2F9599');"
   ]
  },
  {
   "cell_type": "code",
   "execution_count": 18,
   "metadata": {
    "executionInfo": {
     "elapsed": 10,
     "status": "ok",
     "timestamp": 1624736400685,
     "user": {
      "displayName": "Federico Catalano",
      "photoUrl": "",
      "userId": "05639651212963955278"
     },
     "user_tz": 180
    },
    "id": "5ccuBg93nnsK"
   },
   "outputs": [],
   "source": [
    "# mes y año de inicio\n",
    "df['start_mes'] = pd.to_datetime(df.start_date).dt.month\n",
    "df['start_year'] = pd.to_datetime(df.start_date).dt.year"
   ]
  },
  {
   "cell_type": "code",
   "execution_count": 19,
   "metadata": {
    "colab": {
     "base_uri": "https://localhost:8080/"
    },
    "executionInfo": {
     "elapsed": 645,
     "status": "ok",
     "timestamp": 1624736401320,
     "user": {
      "displayName": "Federico Catalano",
      "photoUrl": "",
      "userId": "05639651212963955278"
     },
     "user_tz": 180
    },
    "id": "qDeLWxt3sgQq",
    "outputId": "07fad207-888a-4164-9d43-22d3ed352bae"
   },
   "outputs": [
    {
     "data": {
      "text/plain": [
       "array([2021, 2020])"
      ]
     },
     "execution_count": 19,
     "metadata": {},
     "output_type": "execute_result"
    }
   ],
   "source": [
    "# vemos los años involucrados en la serie\n",
    "df['start_year'].unique()"
   ]
  },
  {
   "cell_type": "code",
   "execution_count": 20,
   "metadata": {
    "colab": {
     "base_uri": "https://localhost:8080/"
    },
    "executionInfo": {
     "elapsed": 33,
     "status": "ok",
     "timestamp": 1624736401321,
     "user": {
      "displayName": "Federico Catalano",
      "photoUrl": "",
      "userId": "05639651212963955278"
     },
     "user_tz": 180
    },
    "id": "HLv6XBkdpFSy",
    "outputId": "e2625ec5-c1bc-4491-eedb-02e7dc6a1034"
   },
   "outputs": [
    {
     "data": {
      "text/plain": [
       "array([ 5, 12, 11,  4, 10,  7,  6,  8,  3,  9])"
      ]
     },
     "execution_count": 20,
     "metadata": {},
     "output_type": "execute_result"
    }
   ],
   "source": [
    "# nuestro indice podria ser anual. De marzo ...\n",
    "df.loc[df['start_year']==2020].start_mes.unique()"
   ]
  },
  {
   "cell_type": "code",
   "execution_count": 21,
   "metadata": {
    "colab": {
     "base_uri": "https://localhost:8080/"
    },
    "executionInfo": {
     "elapsed": 25,
     "status": "ok",
     "timestamp": 1624736401322,
     "user": {
      "displayName": "Federico Catalano",
      "photoUrl": "",
      "userId": "05639651212963955278"
     },
     "user_tz": 180
    },
    "id": "wR63-mesp4iV",
    "outputId": "0f52fa21-7f81-4025-88b5-a09796b0fed2"
   },
   "outputs": [
    {
     "data": {
      "text/plain": [
       "array([1, 2, 3])"
      ]
     },
     "execution_count": 21,
     "metadata": {},
     "output_type": "execute_result"
    }
   ],
   "source": [
    "# ... a marzo\n",
    "df.loc[df['start_year']==2021].start_mes.unique()"
   ]
  },
  {
   "cell_type": "code",
   "execution_count": 22,
   "metadata": {
    "colab": {
     "base_uri": "https://localhost:8080/",
     "height": 35
    },
    "executionInfo": {
     "elapsed": 14,
     "status": "ok",
     "timestamp": 1624736401323,
     "user": {
      "displayName": "Federico Catalano",
      "photoUrl": "",
      "userId": "05639651212963955278"
     },
     "user_tz": 180
    },
    "id": "dXnxPPxh89B2",
    "outputId": "def7ca1f-4c94-4347-aa88-ea8322242eca"
   },
   "outputs": [
    {
     "data": {
      "text/plain": [
       "'2021-1'"
      ]
     },
     "execution_count": 22,
     "metadata": {},
     "output_type": "execute_result"
    }
   ],
   "source": [
    "'{}-{}'.format(df['start_year'][0],df['start_mes'][0])"
   ]
  },
  {
   "cell_type": "code",
   "execution_count": 23,
   "metadata": {
    "executionInfo": {
     "elapsed": 12,
     "status": "ok",
     "timestamp": 1624736401324,
     "user": {
      "displayName": "Federico Catalano",
      "photoUrl": "",
      "userId": "05639651212963955278"
     },
     "user_tz": 180
    },
    "id": "Cw0GhkCJqX5V"
   },
   "outputs": [],
   "source": [
    "# creamos una funcion para armar una etiqueta con el periodo mes/año\n",
    "def etiqueta_aviso(x):\n",
    "    fecha = '{}-{}'.format(x['start_year'],x['start_mes'])\n",
    "    return fecha"
   ]
  },
  {
   "cell_type": "markdown",
   "metadata": {
    "id": "zrmnZt5stO4X"
   },
   "source": [
    "Fíjense cómo aplicamos nuestra función regular. Sí! por medio de una función anónima.  Esta vez, el apply se aplica a todo el df. Por eso, esta vez, el place holder (x) no refiere a una serie o columna. La `x` ahora, es el dataframe. Por eso, nuestra función regular toma nombres de columnas. De este modo, es que también resulta necesario definir en qué sentido de los ejes será recorrido el dataframe. Nosotros ponemos 1, porque queremos ir recorriendo las filas de más de una columna a la vez."
   ]
  },
  {
   "cell_type": "code",
   "execution_count": 24,
   "metadata": {
    "executionInfo": {
     "elapsed": 14179,
     "status": "ok",
     "timestamp": 1624736415492,
     "user": {
      "displayName": "Federico Catalano",
      "photoUrl": "",
      "userId": "05639651212963955278"
     },
     "user_tz": 180
    },
    "id": "rzdKV1gNqYCl"
   },
   "outputs": [],
   "source": [
    "# la aplicamos\n",
    "df['etiqueta_fecha'] = df.apply(lambda x: etiqueta_aviso(x), axis=1)"
   ]
  },
  {
   "cell_type": "code",
   "execution_count": 25,
   "metadata": {
    "colab": {
     "base_uri": "https://localhost:8080/"
    },
    "executionInfo": {
     "elapsed": 15,
     "status": "ok",
     "timestamp": 1624736415492,
     "user": {
      "displayName": "Federico Catalano",
      "photoUrl": "",
      "userId": "05639651212963955278"
     },
     "user_tz": 180
    },
    "id": "OGLwPK808sDC",
    "outputId": "23fe2c82-d835-487c-dec5-e6f7606a706b"
   },
   "outputs": [
    {
     "data": {
      "text/plain": [
       "0         2021-1\n",
       "1         2021-1\n",
       "2         2021-1\n",
       "3         2021-1\n",
       "4         2021-1\n",
       "           ...  \n",
       "999995    2020-8\n",
       "999996    2020-8\n",
       "999997    2020-8\n",
       "999998    2020-8\n",
       "999999    2020-8\n",
       "Name: etiqueta_fecha, Length: 1000000, dtype: object"
      ]
     },
     "execution_count": 25,
     "metadata": {},
     "output_type": "execute_result"
    }
   ],
   "source": [
    "df['etiqueta_fecha']"
   ]
  },
  {
   "cell_type": "code",
   "execution_count": 26,
   "metadata": {
    "colab": {
     "base_uri": "https://localhost:8080/"
    },
    "executionInfo": {
     "elapsed": 13,
     "status": "ok",
     "timestamp": 1624736415493,
     "user": {
      "displayName": "Federico Catalano",
      "photoUrl": "",
      "userId": "05639651212963955278"
     },
     "user_tz": 180
    },
    "id": "LUQS-ClPqYGc",
    "outputId": "ac153e9b-e122-4e09-f0a5-db428a98bad6"
   },
   "outputs": [
    {
     "data": {
      "text/plain": [
       "array(['Venta', 'Alquiler', 'Alquiler temporal'], dtype=object)"
      ]
     },
     "execution_count": 26,
     "metadata": {},
     "output_type": "execute_result"
    }
   ],
   "source": [
    "# vemos cuales son los tipos de operación posibles\n",
    "df.operation_type.unique()"
   ]
  },
  {
   "cell_type": "code",
   "execution_count": 27,
   "metadata": {
    "executionInfo": {
     "elapsed": 1049,
     "status": "ok",
     "timestamp": 1624736416532,
     "user": {
      "displayName": "Federico Catalano",
      "photoUrl": "",
      "userId": "05639651212963955278"
     },
     "user_tz": 180
    },
    "id": "RE15CvresYlW"
   },
   "outputs": [],
   "source": [
    "# nos quedamos con los alquileres\n",
    "alquileres = df.loc[df['operation_type']=='Alquiler']"
   ]
  },
  {
   "cell_type": "markdown",
   "metadata": {
    "id": "I058Nvk-sYp1"
   },
   "source": [
    "### Construyendo series con tablas pivote "
   ]
  },
  {
   "cell_type": "markdown",
   "metadata": {
    "id": "fVfGPjMNsYtp"
   },
   "source": [
    "> **pivot tables**\n",
    "\n",
    "Las tablas pivot suelen ser muy utiles para sumarizar informacion. Mas alla de la implementacion de pandas, este es un recurso que atraviesa distintas herramientas.\n",
    "\n",
    "Lo que hace esto, es basicamente transformar la forma (shape) de nuestro dataframe a partir de un valor que buscamos agregar. El metodo pivot_table permite especificar dicho valor y definir la funcion de agregacion (aggfunc) con la que lo vamos a sumarizar.\n",
    "\n",
    "Veamos a continuacion que, para utilizar este metodo, pasamos un dataframe y definimos los values a ser sumarizados, los index y columns de nuestro nuevo marco de datos - pueden refrescar la digresion que hicimos en la clase anterior sobre axis - y la aggfunc. "
   ]
  },
  {
   "cell_type": "code",
   "execution_count": 28,
   "metadata": {
    "colab": {
     "base_uri": "https://localhost:8080/"
    },
    "executionInfo": {
     "elapsed": 61,
     "status": "ok",
     "timestamp": 1624736416533,
     "user": {
      "displayName": "Federico Catalano",
      "photoUrl": "",
      "userId": "05639651212963955278"
     },
     "user_tz": 180
    },
    "id": "EgwxfN7It8QD",
    "outputId": "3c7b4636-7e1c-4b67-8881-d6f883f4cdcf"
   },
   "outputs": [
    {
     "data": {
      "text/plain": [
       "Index(['id', 'ad_type', 'start_date', 'end_date', 'created_on', 'lat', 'lon',\n",
       "       'l1', 'l2', 'l3', 'l4', 'l5', 'l6', 'rooms', 'bedrooms', 'bathrooms',\n",
       "       'surface_total', 'surface_covered', 'price', 'currency', 'price_period',\n",
       "       'title', 'description', 'property_type', 'operation_type', 'dia_semana',\n",
       "       'start_mes', 'start_year', 'etiqueta_fecha'],\n",
       "      dtype='object')"
      ]
     },
     "execution_count": 28,
     "metadata": {},
     "output_type": "execute_result"
    }
   ],
   "source": [
    "df.columns"
   ]
  },
  {
   "cell_type": "markdown",
   "metadata": {
    "id": "5JPisNVLuna6"
   },
   "source": [
    "Exploremos nuestra variable de precios"
   ]
  },
  {
   "cell_type": "code",
   "execution_count": 29,
   "metadata": {
    "colab": {
     "base_uri": "https://localhost:8080/"
    },
    "executionInfo": {
     "elapsed": 52,
     "status": "ok",
     "timestamp": 1624736416533,
     "user": {
      "displayName": "Federico Catalano",
      "photoUrl": "",
      "userId": "05639651212963955278"
     },
     "user_tz": 180
    },
    "id": "wOsf7Tx5t_yY",
    "outputId": "67634e31-6b51-4cda-afc6-ebe46ad07ae4"
   },
   "outputs": [
    {
     "data": {
      "text/plain": [
       "9999999999.0"
      ]
     },
     "execution_count": 29,
     "metadata": {},
     "output_type": "execute_result"
    }
   ],
   "source": [
    "# ya vemos algo raro\n",
    "df['price'].max()"
   ]
  },
  {
   "cell_type": "code",
   "execution_count": 30,
   "metadata": {
    "colab": {
     "base_uri": "https://localhost:8080/"
    },
    "executionInfo": {
     "elapsed": 44,
     "status": "ok",
     "timestamp": 1624736416534,
     "user": {
      "displayName": "Federico Catalano",
      "photoUrl": "",
      "userId": "05639651212963955278"
     },
     "user_tz": 180
    },
    "id": "A0xNu-fEuWqO",
    "outputId": "c15c87dd-f995-4490-af79-87bcf4004f2a"
   },
   "outputs": [
    {
     "data": {
      "text/plain": [
       "array(['USD', nan, 'ARS', 'UYU', 'PEN', 'COP'], dtype=object)"
      ]
     },
     "execution_count": 30,
     "metadata": {},
     "output_type": "execute_result"
    }
   ],
   "source": [
    "# efectivamente, nunca filtramos nuestra base por geografía. Empecemos por argentina...\n",
    "df['currency'].unique()"
   ]
  },
  {
   "cell_type": "code",
   "execution_count": 31,
   "metadata": {
    "executionInfo": {
     "elapsed": 36,
     "status": "ok",
     "timestamp": 1624736416535,
     "user": {
      "displayName": "Federico Catalano",
      "photoUrl": "",
      "userId": "05639651212963955278"
     },
     "user_tz": 180
    },
    "id": "Z4FkvxDfua0A"
   },
   "outputs": [],
   "source": [
    "# nos quedamos con pesos argentinos\n",
    "alquileres_arg = alquileres.loc[alquileres['currency']=='ARS'].copy()"
   ]
  },
  {
   "cell_type": "code",
   "execution_count": 32,
   "metadata": {
    "colab": {
     "base_uri": "https://localhost:8080/"
    },
    "executionInfo": {
     "elapsed": 35,
     "status": "ok",
     "timestamp": 1624736416535,
     "user": {
      "displayName": "Federico Catalano",
      "photoUrl": "",
      "userId": "05639651212963955278"
     },
     "user_tz": 180
    },
    "id": "H9luA3xivCJP",
    "outputId": "96efd4e4-5c49-49df-9495-b9722ebe2032"
   },
   "outputs": [
    {
     "data": {
      "text/plain": [
       "48370.398597696476"
      ]
     },
     "execution_count": 32,
     "metadata": {},
     "output_type": "execute_result"
    }
   ],
   "source": [
    "# la media ya tiene un valor mas razonable, prosigamos\n",
    "alquileres_arg.price.mean()"
   ]
  },
  {
   "cell_type": "code",
   "execution_count": 33,
   "metadata": {
    "executionInfo": {
     "elapsed": 29,
     "status": "ok",
     "timestamp": 1624736416535,
     "user": {
      "displayName": "Federico Catalano",
      "photoUrl": "",
      "userId": "05639651212963955278"
     },
     "user_tz": 180
    },
    "id": "5kd14vwynnxV"
   },
   "outputs": [],
   "source": [
    "# creamos una tabla pivot\n",
    "pivot_ = pd.pivot_table(alquileres_arg,\n",
    "                        values=\"price\",\n",
    "                        index=alquileres_arg['etiqueta_fecha'], # se puede hacer en sentido del eje 0\n",
    "                        #columns = aliquileres_arg['etiqueta_fecha'] # o del eje 1\n",
    "                        aggfunc = 'mean',fill_value=0)"
   ]
  },
  {
   "cell_type": "code",
   "execution_count": 34,
   "metadata": {
    "colab": {
     "base_uri": "https://localhost:8080/",
     "height": 143
    },
    "executionInfo": {
     "elapsed": 27,
     "status": "ok",
     "timestamp": 1624736416536,
     "user": {
      "displayName": "Federico Catalano",
      "photoUrl": "",
      "userId": "05639651212963955278"
     },
     "user_tz": 180
    },
    "id": "PNMuFygJy2k7",
    "outputId": "2f690751-b03e-4228-b1ab-88fb9bd73de9"
   },
   "outputs": [
    {
     "data": {
      "text/html": [
       "<div>\n",
       "<style scoped>\n",
       "    .dataframe tbody tr th:only-of-type {\n",
       "        vertical-align: middle;\n",
       "    }\n",
       "\n",
       "    .dataframe tbody tr th {\n",
       "        vertical-align: top;\n",
       "    }\n",
       "\n",
       "    .dataframe thead th {\n",
       "        text-align: right;\n",
       "    }\n",
       "</style>\n",
       "<table border=\"1\" class=\"dataframe\">\n",
       "  <thead>\n",
       "    <tr style=\"text-align: right;\">\n",
       "      <th></th>\n",
       "      <th>price</th>\n",
       "    </tr>\n",
       "    <tr>\n",
       "      <th>etiqueta_fecha</th>\n",
       "      <th></th>\n",
       "    </tr>\n",
       "  </thead>\n",
       "  <tbody>\n",
       "    <tr>\n",
       "      <th>2020-10</th>\n",
       "      <td>58900.874455</td>\n",
       "    </tr>\n",
       "    <tr>\n",
       "      <th>2020-11</th>\n",
       "      <td>52053.061023</td>\n",
       "    </tr>\n",
       "  </tbody>\n",
       "</table>\n",
       "</div>"
      ],
      "text/plain": [
       "                       price\n",
       "etiqueta_fecha              \n",
       "2020-10         58900.874455\n",
       "2020-11         52053.061023"
      ]
     },
     "execution_count": 34,
     "metadata": {},
     "output_type": "execute_result"
    }
   ],
   "source": [
    "pivot_.head(2)"
   ]
  },
  {
   "cell_type": "code",
   "execution_count": 35,
   "metadata": {
    "colab": {
     "base_uri": "https://localhost:8080/"
    },
    "executionInfo": {
     "elapsed": 26,
     "status": "ok",
     "timestamp": 1624736416536,
     "user": {
      "displayName": "Federico Catalano",
      "photoUrl": "",
      "userId": "05639651212963955278"
     },
     "user_tz": 180
    },
    "id": "XK5aoYNFvCtz",
    "outputId": "60551c35-b5c8-44d9-d9d8-ecfdf1b16ee6"
   },
   "outputs": [
    {
     "data": {
      "text/plain": [
       "Index(['2020-10', '2020-11', '2020-12', '2020-3', '2020-4', '2020-5', '2020-6',\n",
       "       '2020-7', '2020-8', '2020-9', '2021-1', '2021-2', '2021-3'],\n",
       "      dtype='object', name='etiqueta_fecha')"
      ]
     },
     "execution_count": 35,
     "metadata": {},
     "output_type": "execute_result"
    }
   ],
   "source": [
    "# veo si los puedo ordenar de menor a mayor\n",
    "pivot_.sort_index(ascending=True).index"
   ]
  },
  {
   "cell_type": "code",
   "execution_count": 36,
   "metadata": {
    "executionInfo": {
     "elapsed": 22,
     "status": "ok",
     "timestamp": 1624736416537,
     "user": {
      "displayName": "Federico Catalano",
      "photoUrl": "",
      "userId": "05639651212963955278"
     },
     "user_tz": 180
    },
    "id": "_6wXE5-awWAg"
   },
   "outputs": [],
   "source": [
    "# acomodamos un poco a mano\n",
    "periodos_ordenados = ['2020-3', '2020-4', '2020-5', \n",
    "                      '2020-6','2020-7', '2020-8', '2020-9', \n",
    "                      '2020-10', '2020-11', '2020-12',\n",
    "                      '2021-1', '2021-2', '2021-3']"
   ]
  },
  {
   "cell_type": "code",
   "execution_count": 37,
   "metadata": {
    "colab": {
     "base_uri": "https://localhost:8080/",
     "height": 488
    },
    "executionInfo": {
     "elapsed": 21,
     "status": "ok",
     "timestamp": 1624736416537,
     "user": {
      "displayName": "Federico Catalano",
      "photoUrl": "",
      "userId": "05639651212963955278"
     },
     "user_tz": 180
    },
    "id": "BTZwE57nwWEk",
    "outputId": "185d2e5a-bac2-4850-e3a4-11cb08c11fa8"
   },
   "outputs": [
    {
     "data": {
      "text/html": [
       "<div>\n",
       "<style scoped>\n",
       "    .dataframe tbody tr th:only-of-type {\n",
       "        vertical-align: middle;\n",
       "    }\n",
       "\n",
       "    .dataframe tbody tr th {\n",
       "        vertical-align: top;\n",
       "    }\n",
       "\n",
       "    .dataframe thead th {\n",
       "        text-align: right;\n",
       "    }\n",
       "</style>\n",
       "<table border=\"1\" class=\"dataframe\">\n",
       "  <thead>\n",
       "    <tr style=\"text-align: right;\">\n",
       "      <th></th>\n",
       "      <th>price</th>\n",
       "    </tr>\n",
       "    <tr>\n",
       "      <th>etiqueta_fecha</th>\n",
       "      <th></th>\n",
       "    </tr>\n",
       "  </thead>\n",
       "  <tbody>\n",
       "    <tr>\n",
       "      <th>2020-3</th>\n",
       "      <td>34984.959848</td>\n",
       "    </tr>\n",
       "    <tr>\n",
       "      <th>2020-4</th>\n",
       "      <td>38414.500304</td>\n",
       "    </tr>\n",
       "    <tr>\n",
       "      <th>2020-5</th>\n",
       "      <td>40542.037062</td>\n",
       "    </tr>\n",
       "    <tr>\n",
       "      <th>2020-6</th>\n",
       "      <td>40796.497548</td>\n",
       "    </tr>\n",
       "    <tr>\n",
       "      <th>2020-7</th>\n",
       "      <td>47150.341289</td>\n",
       "    </tr>\n",
       "    <tr>\n",
       "      <th>2020-8</th>\n",
       "      <td>44440.748174</td>\n",
       "    </tr>\n",
       "    <tr>\n",
       "      <th>2020-9</th>\n",
       "      <td>48371.718587</td>\n",
       "    </tr>\n",
       "    <tr>\n",
       "      <th>2020-10</th>\n",
       "      <td>58900.874455</td>\n",
       "    </tr>\n",
       "    <tr>\n",
       "      <th>2020-11</th>\n",
       "      <td>52053.061023</td>\n",
       "    </tr>\n",
       "    <tr>\n",
       "      <th>2020-12</th>\n",
       "      <td>51710.477239</td>\n",
       "    </tr>\n",
       "    <tr>\n",
       "      <th>2021-1</th>\n",
       "      <td>68212.643866</td>\n",
       "    </tr>\n",
       "    <tr>\n",
       "      <th>2021-2</th>\n",
       "      <td>54169.523666</td>\n",
       "    </tr>\n",
       "    <tr>\n",
       "      <th>2021-3</th>\n",
       "      <td>60712.433502</td>\n",
       "    </tr>\n",
       "  </tbody>\n",
       "</table>\n",
       "</div>"
      ],
      "text/plain": [
       "                       price\n",
       "etiqueta_fecha              \n",
       "2020-3          34984.959848\n",
       "2020-4          38414.500304\n",
       "2020-5          40542.037062\n",
       "2020-6          40796.497548\n",
       "2020-7          47150.341289\n",
       "2020-8          44440.748174\n",
       "2020-9          48371.718587\n",
       "2020-10         58900.874455\n",
       "2020-11         52053.061023\n",
       "2020-12         51710.477239\n",
       "2021-1          68212.643866\n",
       "2021-2          54169.523666\n",
       "2021-3          60712.433502"
      ]
     },
     "execution_count": 37,
     "metadata": {},
     "output_type": "execute_result"
    }
   ],
   "source": [
    "# reindexamos\n",
    "pivot_.reindex(periodos_ordenados)"
   ]
  },
  {
   "cell_type": "code",
   "execution_count": 38,
   "metadata": {
    "colab": {
     "base_uri": "https://localhost:8080/",
     "height": 280
    },
    "executionInfo": {
     "elapsed": 21,
     "status": "ok",
     "timestamp": 1624736416538,
     "user": {
      "displayName": "Federico Catalano",
      "photoUrl": "",
      "userId": "05639651212963955278"
     },
     "user_tz": 180
    },
    "id": "roYz-d0gnn06",
    "outputId": "64994e2d-3cfa-4bce-8aab-75f26d813359"
   },
   "outputs": [
    {
     "data": {
      "image/png": "[encoded data removed]",
      "text/plain": [
       "<Figure size 432x288 with 1 Axes>"
      ]
     },
     "metadata": {
      "needs_background": "light"
     },
     "output_type": "display_data"
    }
   ],
   "source": [
    "# y volvemos a plotear\n",
    "pivot_.reindex(periodos_ordenados).plot(kind='line', grid=True, color='#FF6347');"
   ]
  },
  {
   "cell_type": "markdown",
   "metadata": {
    "id": "XDymhkjNw2k6"
   },
   "source": [
    "Bueno, bien. Logramos construir una primera serie y plotearla. Tratemos de apuntar ahora a algo con un poco más de sentido conceptual. Este promedio que acabamos de construir no sólo no tiene en cuenta los efectos de la inflación sino también los tipos de productos considerados.\n",
    "\n",
    "Tratemos de ser un poco más específicos. Determinemos alguna región, tipo de producto y, para terminar, intentemos deflacionar nuestra serie."
   ]
  },
  {
   "cell_type": "markdown",
   "metadata": {
    "id": "YdQ-QsxVj21s"
   },
   "source": [
    "### Deflactando series"
   ]
  },
  {
   "cell_type": "markdown",
   "metadata": {
    "id": "OUWhxNmAxnLK"
   },
   "source": [
    "Para deflactar una serie de valores nominales, es necesario contar con alguna referencia. La traducción de valores nominales a reales (o corrientes y constantes), contempla el uso de un índice que nos permita evaluar cómo se comportaron los precios (o algunos) de la economía en relacion al poder adquisitivo. Para así, mitigar el impacto de la inflación en el bien que estamos estudiando. \n",
    "\n",
    "Por decirlo de alguna manera, vamos a tratar de expresar lo que vale un precio de un momento n+1 considerando a n como momento inicial. Cuánto vale algo en pesos de marzo 2021, por ejemplo.  \n",
    "\n",
    "Lo primero con lo que vamos a trabajar es con el [IPC-Indec](https://www.indec.gob.ar/indec/web/Nivel4-Tema-3-5-31). \n",
    "\n",
    "Vamos a seleccionar la Región GBA y a buscar alguna apertura que nos interese para seguir estudiando los precios de los alquileres. Seleccionemos primero nuestra región."
   ]
  },
  {
   "cell_type": "code",
   "execution_count": 39,
   "metadata": {
    "colab": {
     "base_uri": "https://localhost:8080/"
    },
    "executionInfo": {
     "elapsed": 19,
     "status": "ok",
     "timestamp": 1624736416538,
     "user": {
      "displayName": "Federico Catalano",
      "photoUrl": "",
      "userId": "05639651212963955278"
     },
     "user_tz": 180
    },
    "id": "SsTOvvM2FjgL",
    "outputId": "358f2cfb-1206-42ae-a662-e8018d6d6147"
   },
   "outputs": [
    {
     "data": {
      "text/plain": [
       "array(['Bs.As. G.B.A. Zona Oeste', 'Capital Federal', 'Mendoza',\n",
       "       'Buenos Aires Costa Atlántica', 'Salta',\n",
       "       'Bs.As. G.B.A. Zona Norte', 'Santa Fe', 'Córdoba',\n",
       "       'Bs.As. G.B.A. Zona Sur', 'Río Negro', 'Chaco', 'Tucumán',\n",
       "       'Entre Ríos', 'Buenos Aires Interior', 'La Pampa', 'Misiones',\n",
       "       'Neuquén', 'Montevideo', 'San Luis', 'Maldonado', 'Chubut',\n",
       "       'Tierra Del Fuego', 'San Juan', 'Santa Cruz', 'Jujuy',\n",
       "       'Corrientes', 'Colonia', 'La Rioja', 'São Paulo',\n",
       "       'Santiago Del Estero', 'Catamarca', 'Formosa', 'Canelones'],\n",
       "      dtype=object)"
      ]
     },
     "execution_count": 39,
     "metadata": {},
     "output_type": "execute_result"
    }
   ],
   "source": [
    "# disponemos de los siguientes niveles administrativos\n",
    "alquileres_arg.l2.unique()"
   ]
  },
  {
   "cell_type": "code",
   "execution_count": 40,
   "metadata": {
    "executionInfo": {
     "elapsed": 835,
     "status": "ok",
     "timestamp": 1624736417359,
     "user": {
      "displayName": "Federico Catalano",
      "photoUrl": "",
      "userId": "05639651212963955278"
     },
     "user_tz": 180
    },
    "id": "z6YKrnigFjng"
   },
   "outputs": [],
   "source": [
    "# nos quedamos con la Region GBA\n",
    "jurisdicciones = ['Bs.As. G.B.A. Zona Oeste', 'Capital Federal',\n",
    "                  'Bs.As. G.B.A. Zona Norte','Bs.As. G.B.A. Zona Sur']\n",
    "alquileres_gba = alquileres_arg[alquileres_arg.l2.isin(jurisdicciones)]"
   ]
  },
  {
   "cell_type": "code",
   "execution_count": 41,
   "metadata": {
    "colab": {
     "base_uri": "https://localhost:8080/"
    },
    "executionInfo": {
     "elapsed": 22,
     "status": "ok",
     "timestamp": 1624736417361,
     "user": {
      "displayName": "Federico Catalano",
      "photoUrl": "",
      "userId": "05639651212963955278"
     },
     "user_tz": 180
    },
    "id": "KgdO4YT4yS41",
    "outputId": "87e18297-f513-415f-b4d8-7faf44a92b6f"
   },
   "outputs": [
    {
     "data": {
      "text/plain": [
       "array(['Local comercial', 'Depósito', 'Oficina', 'Departamento', 'PH',\n",
       "       'Casa', 'Cochera', 'Lote', 'Otro', 'Casa de campo'], dtype=object)"
      ]
     },
     "execution_count": 41,
     "metadata": {},
     "output_type": "execute_result"
    }
   ],
   "source": [
    "# chequeamos el tipo de bien que vamos a estudiar\n",
    "alquileres_gba.property_type.unique()"
   ]
  },
  {
   "cell_type": "code",
   "execution_count": 42,
   "metadata": {
    "executionInfo": {
     "elapsed": 12,
     "status": "ok",
     "timestamp": 1624736417362,
     "user": {
      "displayName": "Federico Catalano",
      "photoUrl": "",
      "userId": "05639651212963955278"
     },
     "user_tz": 180
    },
    "id": "OLH-jwz1yS-C"
   },
   "outputs": [],
   "source": [
    "# quedemonos solamente con los departamentos\n",
    "alquileres_gba = alquileres_gba[alquileres_gba.property_type.isin(['Departamento'])].copy()"
   ]
  },
  {
   "cell_type": "markdown",
   "metadata": {
    "id": "7LVL_uh7-Rjr"
   },
   "source": [
    "#### El IPC - Indec"
   ]
  },
  {
   "cell_type": "markdown",
   "metadata": {
    "id": "Q27TFgbpFjr8"
   },
   "source": [
    "Listo, ya tenemos una serie de precios más depurada. Ahora trabajemos en acomodar nuestro índice de precios. El mismo está decargado en el el directorio de data del curso. Vemos cómo se ve..."
   ]
  },
  {
   "cell_type": "code",
   "execution_count": 43,
   "metadata": {},
   "outputs": [
    {
     "name": "stdout",
     "output_type": "stream",
     "text": [
      "Requirement already satisfied: xlrd in /home/federico/federico/AUPY/venv/lib/python3.7/site-packages (2.0.1)\r\n"
     ]
    }
   ],
   "source": [
    "!pip install xlrd"
   ]
  },
  {
   "cell_type": "code",
   "execution_count": 44,
   "metadata": {
    "executionInfo": {
     "elapsed": 479,
     "status": "ok",
     "timestamp": 1624736417830,
     "user": {
      "displayName": "Federico Catalano",
      "photoUrl": "",
      "userId": "05639651212963955278"
     },
     "user_tz": 180
    },
    "id": "-DMx48yWFjwJ"
   },
   "outputs": [],
   "source": [
    "ipc_crudo = pd.read_excel('https://storage.googleapis.com/python_mdg/data_cursos/sh_ipc_aperturas.xls',\n",
    "                           sheet_name='Variación mensual aperturas', header=None)"
   ]
  },
  {
   "cell_type": "code",
   "execution_count": 45,
   "metadata": {
    "executionInfo": {
     "elapsed": 45,
     "status": "ok",
     "timestamp": 1624736417831,
     "user": {
      "displayName": "Federico Catalano",
      "photoUrl": "",
      "userId": "05639651212963955278"
     },
     "user_tz": 180
    },
    "id": "XDZ9iM1pKon_"
   },
   "outputs": [],
   "source": [
    "# hacemos slicing desde las filas 5 a la 53, el IPC para GBA\n",
    "ipc_crudo = ipc_crudo.iloc[5:53].copy()"
   ]
  },
  {
   "cell_type": "code",
   "execution_count": 46,
   "metadata": {
    "executionInfo": {
     "elapsed": 43,
     "status": "ok",
     "timestamp": 1624736417831,
     "user": {
      "displayName": "Federico Catalano",
      "photoUrl": "",
      "userId": "05639651212963955278"
     },
     "user_tz": 180
    },
    "id": "6Q4YIO4pQrvN"
   },
   "outputs": [],
   "source": [
    "# renombramos columnas\n",
    "ipc_crudo.columns = ipc_crudo.iloc[0]"
   ]
  },
  {
   "cell_type": "code",
   "execution_count": 47,
   "metadata": {
    "executionInfo": {
     "elapsed": 42,
     "status": "ok",
     "timestamp": 1624736417832,
     "user": {
      "displayName": "Federico Catalano",
      "photoUrl": "",
      "userId": "05639651212963955278"
     },
     "user_tz": 180
    },
    "id": "tLXSHIH4QsAw"
   },
   "outputs": [],
   "source": [
    "ipc_indec = ipc_crudo.iloc[3:].copy()"
   ]
  },
  {
   "cell_type": "code",
   "execution_count": 48,
   "metadata": {
    "colab": {
     "base_uri": "https://localhost:8080/"
    },
    "executionInfo": {
     "elapsed": 40,
     "status": "ok",
     "timestamp": 1624736417832,
     "user": {
      "displayName": "Federico Catalano",
      "photoUrl": "",
      "userId": "05639651212963955278"
     },
     "user_tz": 180
    },
    "id": "tgc66Qj5nzB_",
    "outputId": "ec2bd3ea-5c23-40fd-9b19-9b6878231ca5"
   },
   "outputs": [
    {
     "data": {
      "text/plain": [
       "Index([       'Región GBA', 2017-01-01 00:00:00, 2017-02-01 00:00:00,\n",
       "       2017-03-01 00:00:00, 2017-04-01 00:00:00, 2017-05-01 00:00:00,\n",
       "       2017-06-01 00:00:00, 2017-07-01 00:00:00, 2017-08-01 00:00:00,\n",
       "       2017-09-01 00:00:00, 2017-10-01 00:00:00, 2017-11-01 00:00:00,\n",
       "       2017-12-01 00:00:00, 2018-01-01 00:00:00, 2018-02-01 00:00:00,\n",
       "       2018-03-01 00:00:00, 2018-04-01 00:00:00, 2018-05-01 00:00:00,\n",
       "       2018-06-01 00:00:00, 2018-07-01 00:00:00, 2018-08-01 00:00:00,\n",
       "       2018-09-01 00:00:00, 2018-10-01 00:00:00, 2018-11-01 00:00:00,\n",
       "       2018-12-01 00:00:00, 2019-01-01 00:00:00, 2019-02-01 00:00:00,\n",
       "       2019-03-01 00:00:00, 2019-04-01 00:00:00, 2019-05-01 00:00:00,\n",
       "       2019-06-01 00:00:00, 2019-07-01 00:00:00, 2019-08-01 00:00:00,\n",
       "       2019-09-01 00:00:00, 2019-10-01 00:00:00, 2019-11-01 00:00:00,\n",
       "       2019-12-01 00:00:00, 2020-01-01 00:00:00, 2020-02-01 00:00:00,\n",
       "       2020-03-01 00:00:00, 2020-04-01 00:00:00, 2020-05-01 00:00:00,\n",
       "       2020-06-01 00:00:00, 2020-07-01 00:00:00, 2020-08-01 00:00:00,\n",
       "       2020-09-01 00:00:00, 2020-10-01 00:00:00, 2020-11-01 00:00:00,\n",
       "       2020-12-01 00:00:00, 2021-01-01 00:00:00, 2021-02-01 00:00:00,\n",
       "       2021-03-01 00:00:00, 2021-04-01 00:00:00],\n",
       "      dtype='object', name=5)"
      ]
     },
     "execution_count": 48,
     "metadata": {},
     "output_type": "execute_result"
    }
   ],
   "source": [
    "ipc_indec.columns"
   ]
  },
  {
   "cell_type": "code",
   "execution_count": 49,
   "metadata": {
    "colab": {
     "base_uri": "https://localhost:8080/"
    },
    "executionInfo": {
     "elapsed": 34,
     "status": "ok",
     "timestamp": 1624736417833,
     "user": {
      "displayName": "Federico Catalano",
      "photoUrl": "",
      "userId": "05639651212963955278"
     },
     "user_tz": 180
    },
    "id": "tNpQpDaGh0su",
    "outputId": "5d571513-b70a-4bf2-c0e4-342e6bbce0d9"
   },
   "outputs": [
    {
     "data": {
      "text/plain": [
       "['__add__',\n",
       " '__class__',\n",
       " '__delattr__',\n",
       " '__dir__',\n",
       " '__doc__',\n",
       " '__eq__',\n",
       " '__format__',\n",
       " '__ge__',\n",
       " '__getattribute__',\n",
       " '__gt__',\n",
       " '__hash__',\n",
       " '__init__',\n",
       " '__init_subclass__',\n",
       " '__le__',\n",
       " '__lt__',\n",
       " '__ne__',\n",
       " '__new__',\n",
       " '__radd__',\n",
       " '__reduce__',\n",
       " '__reduce_ex__',\n",
       " '__repr__',\n",
       " '__rsub__',\n",
       " '__setattr__',\n",
       " '__sizeof__',\n",
       " '__str__',\n",
       " '__sub__',\n",
       " '__subclasshook__',\n",
       " 'astimezone',\n",
       " 'combine',\n",
       " 'ctime',\n",
       " 'date',\n",
       " 'day',\n",
       " 'dst',\n",
       " 'fold',\n",
       " 'fromisoformat',\n",
       " 'fromordinal',\n",
       " 'fromtimestamp',\n",
       " 'hour',\n",
       " 'isocalendar',\n",
       " 'isoformat',\n",
       " 'isoweekday',\n",
       " 'max',\n",
       " 'microsecond',\n",
       " 'min',\n",
       " 'minute',\n",
       " 'month',\n",
       " 'now',\n",
       " 'replace',\n",
       " 'resolution',\n",
       " 'second',\n",
       " 'strftime',\n",
       " 'strptime',\n",
       " 'time',\n",
       " 'timestamp',\n",
       " 'timetuple',\n",
       " 'timetz',\n",
       " 'today',\n",
       " 'toordinal',\n",
       " 'tzinfo',\n",
       " 'tzname',\n",
       " 'utcfromtimestamp',\n",
       " 'utcnow',\n",
       " 'utcoffset',\n",
       " 'utctimetuple',\n",
       " 'weekday',\n",
       " 'year']"
      ]
     },
     "execution_count": 49,
     "metadata": {},
     "output_type": "execute_result"
    }
   ],
   "source": [
    "# listemos los metodos/atributos de la clase datetime\n",
    "dir(datetime)"
   ]
  },
  {
   "cell_type": "code",
   "execution_count": 50,
   "metadata": {
    "executionInfo": {
     "elapsed": 22,
     "status": "ok",
     "timestamp": 1624736417833,
     "user": {
      "displayName": "Federico Catalano",
      "photoUrl": "",
      "userId": "05639651212963955278"
     },
     "user_tz": 180
    },
    "id": "5wo63fXxQsEx"
   },
   "outputs": [],
   "source": [
    "# armo de nuevo el nombre de las columnas\n",
    "new_columns = []\n",
    "for i in ipc_indec.columns:\n",
    "    if i != 'Región GBA':\n",
    "        y = i.year # el item que estamos iterando ya es un datetime!\n",
    "        m = i.month\n",
    "        fecha = '{}-{}'.format(y,m)\n",
    "        new_columns.append(fecha)\n",
    "    else:\n",
    "        new_columns.append(i)"
   ]
  },
  {
   "cell_type": "code",
   "execution_count": 51,
   "metadata": {
    "executionInfo": {
     "elapsed": 22,
     "status": "ok",
     "timestamp": 1624736417833,
     "user": {
      "displayName": "Federico Catalano",
      "photoUrl": "",
      "userId": "05639651212963955278"
     },
     "user_tz": 180
    },
    "id": "ciMwbz1Bg5mF"
   },
   "outputs": [],
   "source": [
    "ipc_indec.columns = new_columns"
   ]
  },
  {
   "cell_type": "code",
   "execution_count": 52,
   "metadata": {
    "executionInfo": {
     "elapsed": 23,
     "status": "ok",
     "timestamp": 1624736417834,
     "user": {
      "displayName": "Federico Catalano",
      "photoUrl": "",
      "userId": "05639651212963955278"
     },
     "user_tz": 180
    },
    "id": "KuywTAAUiwLY"
   },
   "outputs": [],
   "source": [
    "# reseteamos nuestro indice\n",
    "ipc_indec.reset_index(inplace=True)"
   ]
  },
  {
   "cell_type": "code",
   "execution_count": 53,
   "metadata": {
    "executionInfo": {
     "elapsed": 22,
     "status": "ok",
     "timestamp": 1624736417834,
     "user": {
      "displayName": "Federico Catalano",
      "photoUrl": "",
      "userId": "05639651212963955278"
     },
     "user_tz": 180
    },
    "id": "99oPoS85i2_C"
   },
   "outputs": [],
   "source": [
    "# y borramos lo que era el previo\n",
    "ipc_indec.drop(columns='index', inplace=True)"
   ]
  },
  {
   "cell_type": "markdown",
   "metadata": {
    "id": "XB9afB5yjDXj"
   },
   "source": [
    "Ya tenemos nuestro IPC con las siguientes especificaciones. \n",
    "\n",
    "```\n",
    "Índice de precios al consumidor con cobertura nacional. Resultados por región (GBA)\n",
    "\n",
    "Período de referencia: Diciembre 2016=100\n",
    "\n",
    "Variaciones mensuales de enero de 2017 a abril de 2021. Resultados según principales aperturas de la canasta\n",
    "```"
   ]
  },
  {
   "cell_type": "code",
   "execution_count": 54,
   "metadata": {
    "colab": {
     "base_uri": "https://localhost:8080/",
     "height": 347
    },
    "executionInfo": {
     "elapsed": 23,
     "status": "ok",
     "timestamp": 1624736417835,
     "user": {
      "displayName": "Federico Catalano",
      "photoUrl": "",
      "userId": "05639651212963955278"
     },
     "user_tz": 180
    },
    "id": "egiwewClwtj2",
    "outputId": "4ad65470-4ce6-47c4-e753-520467c66887"
   },
   "outputs": [
    {
     "data": {
      "text/html": [
       "<div>\n",
       "<style scoped>\n",
       "    .dataframe tbody tr th:only-of-type {\n",
       "        vertical-align: middle;\n",
       "    }\n",
       "\n",
       "    .dataframe tbody tr th {\n",
       "        vertical-align: top;\n",
       "    }\n",
       "\n",
       "    .dataframe thead th {\n",
       "        text-align: right;\n",
       "    }\n",
       "</style>\n",
       "<table border=\"1\" class=\"dataframe\">\n",
       "  <thead>\n",
       "    <tr style=\"text-align: right;\">\n",
       "      <th></th>\n",
       "      <th>Región GBA</th>\n",
       "      <th>2017-1</th>\n",
       "      <th>2017-2</th>\n",
       "      <th>2017-3</th>\n",
       "      <th>2017-4</th>\n",
       "      <th>2017-5</th>\n",
       "      <th>2017-6</th>\n",
       "      <th>2017-7</th>\n",
       "      <th>2017-8</th>\n",
       "      <th>2017-9</th>\n",
       "      <th>...</th>\n",
       "      <th>2020-7</th>\n",
       "      <th>2020-8</th>\n",
       "      <th>2020-9</th>\n",
       "      <th>2020-10</th>\n",
       "      <th>2020-11</th>\n",
       "      <th>2020-12</th>\n",
       "      <th>2021-1</th>\n",
       "      <th>2021-2</th>\n",
       "      <th>2021-3</th>\n",
       "      <th>2021-4</th>\n",
       "    </tr>\n",
       "  </thead>\n",
       "  <tbody>\n",
       "    <tr>\n",
       "      <th>0</th>\n",
       "      <td>Nivel general</td>\n",
       "      <td>1.3</td>\n",
       "      <td>2.5</td>\n",
       "      <td>2.4</td>\n",
       "      <td>2.6</td>\n",
       "      <td>1.3</td>\n",
       "      <td>1.4</td>\n",
       "      <td>1.7</td>\n",
       "      <td>1.5</td>\n",
       "      <td>2</td>\n",
       "      <td>...</td>\n",
       "      <td>1.6</td>\n",
       "      <td>2.8</td>\n",
       "      <td>2.8</td>\n",
       "      <td>3.6</td>\n",
       "      <td>3</td>\n",
       "      <td>3.7</td>\n",
       "      <td>3.3</td>\n",
       "      <td>3.6</td>\n",
       "      <td>5.2</td>\n",
       "      <td>4.1</td>\n",
       "    </tr>\n",
       "    <tr>\n",
       "      <th>1</th>\n",
       "      <td>Alimentos y bebidas no alcohólicas</td>\n",
       "      <td>1.3</td>\n",
       "      <td>1.8</td>\n",
       "      <td>3.5</td>\n",
       "      <td>2.3</td>\n",
       "      <td>1.1</td>\n",
       "      <td>1.3</td>\n",
       "      <td>1.2</td>\n",
       "      <td>2.2</td>\n",
       "      <td>1.9</td>\n",
       "      <td>...</td>\n",
       "      <td>1.3</td>\n",
       "      <td>3.7</td>\n",
       "      <td>2.8</td>\n",
       "      <td>4.8</td>\n",
       "      <td>2.1</td>\n",
       "      <td>2.8</td>\n",
       "      <td>4</td>\n",
       "      <td>4</td>\n",
       "      <td>4.9</td>\n",
       "      <td>4.7</td>\n",
       "    </tr>\n",
       "    <tr>\n",
       "      <th>2</th>\n",
       "      <td>Alimentos</td>\n",
       "      <td>1.3</td>\n",
       "      <td>2</td>\n",
       "      <td>3.7</td>\n",
       "      <td>2.3</td>\n",
       "      <td>1</td>\n",
       "      <td>1.3</td>\n",
       "      <td>1.1</td>\n",
       "      <td>2.3</td>\n",
       "      <td>1.7</td>\n",
       "      <td>...</td>\n",
       "      <td>1.2</td>\n",
       "      <td>3.7</td>\n",
       "      <td>3.3</td>\n",
       "      <td>5</td>\n",
       "      <td>2.2</td>\n",
       "      <td>3.1</td>\n",
       "      <td>4.2</td>\n",
       "      <td>4</td>\n",
       "      <td>5.4</td>\n",
       "      <td>4.7</td>\n",
       "    </tr>\n",
       "    <tr>\n",
       "      <th>3</th>\n",
       "      <td>Pan y cereales</td>\n",
       "      <td>1.5</td>\n",
       "      <td>2.2</td>\n",
       "      <td>2.8</td>\n",
       "      <td>2.1</td>\n",
       "      <td>0.9</td>\n",
       "      <td>1.9</td>\n",
       "      <td>1.8</td>\n",
       "      <td>1.2</td>\n",
       "      <td>1.1</td>\n",
       "      <td>...</td>\n",
       "      <td>2.1</td>\n",
       "      <td>1.8</td>\n",
       "      <td>2</td>\n",
       "      <td>2.6</td>\n",
       "      <td>2.8</td>\n",
       "      <td>1.2</td>\n",
       "      <td>1.9</td>\n",
       "      <td>3.9</td>\n",
       "      <td>3.7</td>\n",
       "      <td>5.7</td>\n",
       "    </tr>\n",
       "    <tr>\n",
       "      <th>4</th>\n",
       "      <td>Carnes y derivados</td>\n",
       "      <td>-1.1</td>\n",
       "      <td>0</td>\n",
       "      <td>5.4</td>\n",
       "      <td>2.5</td>\n",
       "      <td>1</td>\n",
       "      <td>-0.2</td>\n",
       "      <td>0.9</td>\n",
       "      <td>1</td>\n",
       "      <td>1.6</td>\n",
       "      <td>...</td>\n",
       "      <td>2.5</td>\n",
       "      <td>3.4</td>\n",
       "      <td>1.9</td>\n",
       "      <td>3.5</td>\n",
       "      <td>5.4</td>\n",
       "      <td>13.9</td>\n",
       "      <td>6.4</td>\n",
       "      <td>2.7</td>\n",
       "      <td>6.8</td>\n",
       "      <td>4.7</td>\n",
       "    </tr>\n",
       "  </tbody>\n",
       "</table>\n",
       "<p>5 rows × 53 columns</p>\n",
       "</div>"
      ],
      "text/plain": [
       "                           Región GBA 2017-1 2017-2 2017-3 2017-4 2017-5  \\\n",
       "0                       Nivel general    1.3    2.5    2.4    2.6    1.3   \n",
       "1  Alimentos y bebidas no alcohólicas    1.3    1.8    3.5    2.3    1.1   \n",
       "2                           Alimentos    1.3      2    3.7    2.3      1   \n",
       "3                      Pan y cereales    1.5    2.2    2.8    2.1    0.9   \n",
       "4                  Carnes y derivados   -1.1      0    5.4    2.5      1   \n",
       "\n",
       "  2017-6 2017-7 2017-8 2017-9  ... 2020-7 2020-8 2020-9 2020-10 2020-11  \\\n",
       "0    1.4    1.7    1.5      2  ...    1.6    2.8    2.8     3.6       3   \n",
       "1    1.3    1.2    2.2    1.9  ...    1.3    3.7    2.8     4.8     2.1   \n",
       "2    1.3    1.1    2.3    1.7  ...    1.2    3.7    3.3       5     2.2   \n",
       "3    1.9    1.8    1.2    1.1  ...    2.1    1.8      2     2.6     2.8   \n",
       "4   -0.2    0.9      1    1.6  ...    2.5    3.4    1.9     3.5     5.4   \n",
       "\n",
       "  2020-12 2021-1 2021-2 2021-3 2021-4  \n",
       "0     3.7    3.3    3.6    5.2    4.1  \n",
       "1     2.8      4      4    4.9    4.7  \n",
       "2     3.1    4.2      4    5.4    4.7  \n",
       "3     1.2    1.9    3.9    3.7    5.7  \n",
       "4    13.9    6.4    2.7    6.8    4.7  \n",
       "\n",
       "[5 rows x 53 columns]"
      ]
     },
     "execution_count": 54,
     "metadata": {},
     "output_type": "execute_result"
    }
   ],
   "source": [
    "ipc_indec.head()"
   ]
  },
  {
   "cell_type": "code",
   "execution_count": 55,
   "metadata": {
    "executionInfo": {
     "elapsed": 23,
     "status": "ok",
     "timestamp": 1624736417836,
     "user": {
      "displayName": "Federico Catalano",
      "photoUrl": "",
      "userId": "05639651212963955278"
     },
     "user_tz": 180
    },
    "id": "MNoMLwH4_zM4"
   },
   "outputs": [],
   "source": [
    "def aperturas_ipc_indec(df, rubro):\n",
    "    aperturas = df.set_index('Región GBA')\n",
    "    apertura_elegida = aperturas.loc[rubro]\n",
    "    return apertura_elegida"
   ]
  },
  {
   "cell_type": "code",
   "execution_count": 56,
   "metadata": {
    "colab": {
     "base_uri": "https://localhost:8080/"
    },
    "executionInfo": {
     "elapsed": 22,
     "status": "ok",
     "timestamp": 1624736417836,
     "user": {
      "displayName": "Federico Catalano",
      "photoUrl": "",
      "userId": "05639651212963955278"
     },
     "user_tz": 180
    },
    "id": "Y4ydkAftAV--",
    "outputId": "3f551b6c-aad3-4e98-f853-cbe7567ba08c"
   },
   "outputs": [
    {
     "data": {
      "text/plain": [
       "2017-1     2.1\n",
       "2017-2     2.8\n",
       "2017-3       2\n",
       "2017-4     2.2\n",
       "2017-5     2.2\n",
       "2017-6     2.2\n",
       "2017-7     2.2\n",
       "2017-8     2.1\n",
       "2017-9     2.3\n",
       "2017-10    1.6\n",
       "2017-11    2.7\n",
       "2017-12    2.2\n",
       "2018-1     1.9\n",
       "2018-2     2.8\n",
       "2018-3     1.8\n",
       "2018-4     1.8\n",
       "2018-5     2.5\n",
       "2018-6     2.8\n",
       "2018-7     1.8\n",
       "2018-8       2\n",
       "2018-9     2.4\n",
       "2018-10    1.8\n",
       "2018-11    1.6\n",
       "2018-12      2\n",
       "2019-1     2.5\n",
       "2019-2     2.4\n",
       "2019-3     2.1\n",
       "2019-4     2.9\n",
       "2019-5     2.2\n",
       "2019-6     2.2\n",
       "2019-7     2.4\n",
       "2019-8     2.8\n",
       "2019-9     2.1\n",
       "2019-10    2.4\n",
       "2019-11    2.1\n",
       "2019-12    1.7\n",
       "2020-1     2.3\n",
       "2020-2     2.7\n",
       "2020-3     2.9\n",
       "2020-4     1.2\n",
       "2020-5    -0.2\n",
       "2020-6     1.7\n",
       "2020-7     0.7\n",
       "2020-8     2.2\n",
       "2020-9     1.5\n",
       "2020-10    3.8\n",
       "2020-11    2.4\n",
       "2020-12    2.6\n",
       "2021-1     3.1\n",
       "2021-2     2.9\n",
       "2021-3     2.8\n",
       "2021-4     6.1\n",
       "Name: Alquiler de la vivienda, dtype: object"
      ]
     },
     "execution_count": 56,
     "metadata": {},
     "output_type": "execute_result"
    }
   ],
   "source": [
    "# el IPC para cada periodo y apertura\n",
    "aperturas_ipc_indec(ipc_indec, 'Alquiler de la vivienda')"
   ]
  },
  {
   "cell_type": "markdown",
   "metadata": {
    "id": "vxVTO4R9qcGr"
   },
   "source": [
    "Una vez que tenemos nuestro IPC limpio, listo para usar, no tenemos que perder de vista que el mismo va a ser aplicado a otro dataframe (nuestra tabla pivot con promedios nominales por período). \n",
    "Nosotros vamos a tomar el precio promedio para las operaciones de alquiler durante los últimos 12 meses desde marzo del corriente año. Es decir, de marzo de 2020 a marzo de 2021. "
   ]
  },
  {
   "cell_type": "code",
   "execution_count": 57,
   "metadata": {
    "executionInfo": {
     "elapsed": 20,
     "status": "ok",
     "timestamp": 1624736417838,
     "user": {
      "displayName": "Federico Catalano",
      "photoUrl": "",
      "userId": "05639651212963955278"
     },
     "user_tz": 180
    },
    "id": "Y3LfqxSjDLra"
   },
   "outputs": [],
   "source": [
    "# creamos una funcion para ajustar los pesos nominales por IPC\n",
    "def deflactar_serie(x,y,z,ipc,rubro,ipc_indec=True):\n",
    "    '''\n",
    "    x (str): periodo  d\n",
    "    '''\n",
    "    # guardamos el periodo y su precio nominal\n",
    "    periodo = x\n",
    "    precio_nominal = y\n",
    "    periodo_base = z\n",
    "\n",
    "    if ipc_indec:\n",
    "        # devuelve una serie con la variacion del rubro \n",
    "        serie = aperturas_ipc_indec(ipc, rubro)\n",
    "    else:\n",
    "        serie = ipc\n",
    "    # seleccionamos el valor del índice para una apertura y periodo determinado\n",
    "    ipc_periodo = serie.loc[periodo] \n",
    "    ipc_base = serie.loc[periodo_base]  \n",
    "    coeficiente = ipc_periodo/ipc_base\n",
    "    precio_constante = precio_nominal / coeficiente\n",
    "    \n",
    "    return periodo, precio_nominal, coeficiente, ipc_base, ipc_periodo, precio_constante\n"
   ]
  },
  {
   "cell_type": "markdown",
   "metadata": {
    "id": "A1bW75_1j-e0"
   },
   "source": [
    "Preparemos ahora el dataset de alquileres, tenemos que quedarnos con sus periodos y el precio promedio para los casos del GBA."
   ]
  },
  {
   "cell_type": "code",
   "execution_count": 58,
   "metadata": {
    "executionInfo": {
     "elapsed": 20,
     "status": "ok",
     "timestamp": 1624736417838,
     "user": {
      "displayName": "Federico Catalano",
      "photoUrl": "",
      "userId": "05639651212963955278"
     },
     "user_tz": 180
    },
    "id": "vMdzwUEtj-h-"
   },
   "outputs": [],
   "source": [
    "# creamos nuestros promedios de precio por periodo para GBA\n",
    "pivot_gba = pd.pivot_table(alquileres_gba,\n",
    "                           values=\"price\",\n",
    "                           index=alquileres_gba['etiqueta_fecha'],\n",
    "                           aggfunc = 'mean',fill_value=0)"
   ]
  },
  {
   "cell_type": "code",
   "execution_count": 59,
   "metadata": {
    "colab": {
     "base_uri": "https://localhost:8080/"
    },
    "executionInfo": {
     "elapsed": 20,
     "status": "ok",
     "timestamp": 1624736417839,
     "user": {
      "displayName": "Federico Catalano",
      "photoUrl": "",
      "userId": "05639651212963955278"
     },
     "user_tz": 180
    },
    "id": "Nojcr18Rj-lc",
    "outputId": "f54f11a1-cf20-498a-c219-78a0b187767c"
   },
   "outputs": [
    {
     "data": {
      "text/plain": [
       "Index(['2020-10', '2020-11', '2020-12', '2020-3', '2020-4', '2020-5', '2020-6',\n",
       "       '2020-7', '2020-8', '2020-9', '2021-1', '2021-2', '2021-3'],\n",
       "      dtype='object', name='etiqueta_fecha')"
      ]
     },
     "execution_count": 59,
     "metadata": {},
     "output_type": "execute_result"
    }
   ],
   "source": [
    "pivot_gba.index"
   ]
  },
  {
   "cell_type": "code",
   "execution_count": 60,
   "metadata": {
    "executionInfo": {
     "elapsed": 19,
     "status": "ok",
     "timestamp": 1624736417840,
     "user": {
      "displayName": "Federico Catalano",
      "photoUrl": "",
      "userId": "05639651212963955278"
     },
     "user_tz": 180
    },
    "id": "AbOlEhCFj-ox"
   },
   "outputs": [],
   "source": [
    "# ajustamos un poco\n",
    "periodos_ordenados = ['2020-3', '2020-4', '2020-5', '2020-6', \n",
    "                      '2020-7', '2020-8', '2020-9', '2020-10', \n",
    "                      '2020-11', '2020-12','2021-1', '2021-2', '2021-3']\n",
    "gba_ordenado = pivot_gba.reindex(periodos_ordenados)"
   ]
  },
  {
   "cell_type": "code",
   "execution_count": 61,
   "metadata": {
    "executionInfo": {
     "elapsed": 18,
     "status": "ok",
     "timestamp": 1624736417840,
     "user": {
      "displayName": "Federico Catalano",
      "photoUrl": "",
      "userId": "05639651212963955278"
     },
     "user_tz": 180
    },
    "id": "mhO1RtDZj-sG"
   },
   "outputs": [],
   "source": [
    "# y reseteamos el index\n",
    "gba_ordenado.reset_index(inplace=True)"
   ]
  },
  {
   "cell_type": "code",
   "execution_count": 62,
   "metadata": {
    "executionInfo": {
     "elapsed": 18,
     "status": "ok",
     "timestamp": 1624736417840,
     "user": {
      "displayName": "Federico Catalano",
      "photoUrl": "",
      "userId": "05639651212963955278"
     },
     "user_tz": 180
    },
    "id": "xkU25O5GqMPT"
   },
   "outputs": [],
   "source": [
    "# renombamos columnas\n",
    "gba_ordenado.columns = ['period', 'price']"
   ]
  },
  {
   "cell_type": "code",
   "execution_count": 63,
   "metadata": {
    "colab": {
     "base_uri": "https://localhost:8080/"
    },
    "executionInfo": {
     "elapsed": 19,
     "status": "ok",
     "timestamp": 1624736417841,
     "user": {
      "displayName": "Federico Catalano",
      "photoUrl": "",
      "userId": "05639651212963955278"
     },
     "user_tz": 180
    },
    "id": "5HYEO31kk6_C",
    "outputId": "80ea9617-d1a6-4f20-e30d-5da8f7e2139a"
   },
   "outputs": [
    {
     "data": {
      "text/plain": [
       "price    24093.55178\n",
       "Name: 2020-3, dtype: float64"
      ]
     },
     "execution_count": 63,
     "metadata": {},
     "output_type": "execute_result"
    }
   ],
   "source": [
    "gba_ordenado.set_index('period').loc['2020-3']"
   ]
  },
  {
   "cell_type": "code",
   "execution_count": 64,
   "metadata": {
    "colab": {
     "base_uri": "https://localhost:8080/",
     "height": 1000
    },
    "executionInfo": {
     "elapsed": 707,
     "status": "ok",
     "timestamp": 1624736418531,
     "user": {
      "displayName": "Federico Catalano",
      "photoUrl": "",
      "userId": "05639651212963955278"
     },
     "user_tz": 180
    },
    "id": "0lnGnsAHEhFp",
    "outputId": "6ab29898-b81f-4775-b634-d86c88bf5ebd"
   },
   "outputs": [
    {
     "data": {
      "text/html": [
       "<div>\n",
       "<style scoped>\n",
       "    .dataframe tbody tr th:only-of-type {\n",
       "        vertical-align: middle;\n",
       "    }\n",
       "\n",
       "    .dataframe tbody tr th {\n",
       "        vertical-align: top;\n",
       "    }\n",
       "\n",
       "    .dataframe thead th {\n",
       "        text-align: right;\n",
       "    }\n",
       "</style>\n",
       "<table border=\"1\" class=\"dataframe\">\n",
       "  <thead>\n",
       "    <tr style=\"text-align: right;\">\n",
       "      <th></th>\n",
       "      <th>Región GBA</th>\n",
       "      <th>2017-1</th>\n",
       "      <th>2017-2</th>\n",
       "      <th>2017-3</th>\n",
       "      <th>2017-4</th>\n",
       "      <th>2017-5</th>\n",
       "      <th>2017-6</th>\n",
       "      <th>2017-7</th>\n",
       "      <th>2017-8</th>\n",
       "      <th>2017-9</th>\n",
       "      <th>...</th>\n",
       "      <th>2020-7</th>\n",
       "      <th>2020-8</th>\n",
       "      <th>2020-9</th>\n",
       "      <th>2020-10</th>\n",
       "      <th>2020-11</th>\n",
       "      <th>2020-12</th>\n",
       "      <th>2021-1</th>\n",
       "      <th>2021-2</th>\n",
       "      <th>2021-3</th>\n",
       "      <th>2021-4</th>\n",
       "    </tr>\n",
       "  </thead>\n",
       "  <tbody>\n",
       "    <tr>\n",
       "      <th>0</th>\n",
       "      <td>Nivel general</td>\n",
       "      <td>1.3</td>\n",
       "      <td>2.5</td>\n",
       "      <td>2.4</td>\n",
       "      <td>2.6</td>\n",
       "      <td>1.3</td>\n",
       "      <td>1.4</td>\n",
       "      <td>1.7</td>\n",
       "      <td>1.5</td>\n",
       "      <td>2</td>\n",
       "      <td>...</td>\n",
       "      <td>1.6</td>\n",
       "      <td>2.8</td>\n",
       "      <td>2.8</td>\n",
       "      <td>3.6</td>\n",
       "      <td>3</td>\n",
       "      <td>3.7</td>\n",
       "      <td>3.3</td>\n",
       "      <td>3.6</td>\n",
       "      <td>5.2</td>\n",
       "      <td>4.1</td>\n",
       "    </tr>\n",
       "    <tr>\n",
       "      <th>1</th>\n",
       "      <td>Alimentos y bebidas no alcohólicas</td>\n",
       "      <td>1.3</td>\n",
       "      <td>1.8</td>\n",
       "      <td>3.5</td>\n",
       "      <td>2.3</td>\n",
       "      <td>1.1</td>\n",
       "      <td>1.3</td>\n",
       "      <td>1.2</td>\n",
       "      <td>2.2</td>\n",
       "      <td>1.9</td>\n",
       "      <td>...</td>\n",
       "      <td>1.3</td>\n",
       "      <td>3.7</td>\n",
       "      <td>2.8</td>\n",
       "      <td>4.8</td>\n",
       "      <td>2.1</td>\n",
       "      <td>2.8</td>\n",
       "      <td>4</td>\n",
       "      <td>4</td>\n",
       "      <td>4.9</td>\n",
       "      <td>4.7</td>\n",
       "    </tr>\n",
       "    <tr>\n",
       "      <th>2</th>\n",
       "      <td>Alimentos</td>\n",
       "      <td>1.3</td>\n",
       "      <td>2</td>\n",
       "      <td>3.7</td>\n",
       "      <td>2.3</td>\n",
       "      <td>1</td>\n",
       "      <td>1.3</td>\n",
       "      <td>1.1</td>\n",
       "      <td>2.3</td>\n",
       "      <td>1.7</td>\n",
       "      <td>...</td>\n",
       "      <td>1.2</td>\n",
       "      <td>3.7</td>\n",
       "      <td>3.3</td>\n",
       "      <td>5</td>\n",
       "      <td>2.2</td>\n",
       "      <td>3.1</td>\n",
       "      <td>4.2</td>\n",
       "      <td>4</td>\n",
       "      <td>5.4</td>\n",
       "      <td>4.7</td>\n",
       "    </tr>\n",
       "    <tr>\n",
       "      <th>3</th>\n",
       "      <td>Pan y cereales</td>\n",
       "      <td>1.5</td>\n",
       "      <td>2.2</td>\n",
       "      <td>2.8</td>\n",
       "      <td>2.1</td>\n",
       "      <td>0.9</td>\n",
       "      <td>1.9</td>\n",
       "      <td>1.8</td>\n",
       "      <td>1.2</td>\n",
       "      <td>1.1</td>\n",
       "      <td>...</td>\n",
       "      <td>2.1</td>\n",
       "      <td>1.8</td>\n",
       "      <td>2</td>\n",
       "      <td>2.6</td>\n",
       "      <td>2.8</td>\n",
       "      <td>1.2</td>\n",
       "      <td>1.9</td>\n",
       "      <td>3.9</td>\n",
       "      <td>3.7</td>\n",
       "      <td>5.7</td>\n",
       "    </tr>\n",
       "    <tr>\n",
       "      <th>4</th>\n",
       "      <td>Carnes y derivados</td>\n",
       "      <td>-1.1</td>\n",
       "      <td>0</td>\n",
       "      <td>5.4</td>\n",
       "      <td>2.5</td>\n",
       "      <td>1</td>\n",
       "      <td>-0.2</td>\n",
       "      <td>0.9</td>\n",
       "      <td>1</td>\n",
       "      <td>1.6</td>\n",
       "      <td>...</td>\n",
       "      <td>2.5</td>\n",
       "      <td>3.4</td>\n",
       "      <td>1.9</td>\n",
       "      <td>3.5</td>\n",
       "      <td>5.4</td>\n",
       "      <td>13.9</td>\n",
       "      <td>6.4</td>\n",
       "      <td>2.7</td>\n",
       "      <td>6.8</td>\n",
       "      <td>4.7</td>\n",
       "    </tr>\n",
       "    <tr>\n",
       "      <th>5</th>\n",
       "      <td>Leche, productos lácteos y huevos</td>\n",
       "      <td>2.2</td>\n",
       "      <td>3.1</td>\n",
       "      <td>2.6</td>\n",
       "      <td>5.3</td>\n",
       "      <td>2.4</td>\n",
       "      <td>3.6</td>\n",
       "      <td>1.8</td>\n",
       "      <td>0.8</td>\n",
       "      <td>0.8</td>\n",
       "      <td>...</td>\n",
       "      <td>1.5</td>\n",
       "      <td>2.2</td>\n",
       "      <td>-0.6</td>\n",
       "      <td>2.3</td>\n",
       "      <td>1.8</td>\n",
       "      <td>0.1</td>\n",
       "      <td>2.1</td>\n",
       "      <td>2.1</td>\n",
       "      <td>8.6</td>\n",
       "      <td>9.3</td>\n",
       "    </tr>\n",
       "    <tr>\n",
       "      <th>6</th>\n",
       "      <td>Aceites, grasas y manteca</td>\n",
       "      <td>1.7</td>\n",
       "      <td>1.3</td>\n",
       "      <td>1.9</td>\n",
       "      <td>2.6</td>\n",
       "      <td>-0.1</td>\n",
       "      <td>1.1</td>\n",
       "      <td>4</td>\n",
       "      <td>1.7</td>\n",
       "      <td>1.6</td>\n",
       "      <td>...</td>\n",
       "      <td>1.6</td>\n",
       "      <td>3.3</td>\n",
       "      <td>0.9</td>\n",
       "      <td>4.2</td>\n",
       "      <td>3.5</td>\n",
       "      <td>1.1</td>\n",
       "      <td>2.3</td>\n",
       "      <td>2.5</td>\n",
       "      <td>6.4</td>\n",
       "      <td>7.9</td>\n",
       "    </tr>\n",
       "    <tr>\n",
       "      <th>7</th>\n",
       "      <td>Frutas</td>\n",
       "      <td>3.6</td>\n",
       "      <td>1</td>\n",
       "      <td>-2.2</td>\n",
       "      <td>-2.9</td>\n",
       "      <td>3.7</td>\n",
       "      <td>0.8</td>\n",
       "      <td>1.6</td>\n",
       "      <td>2</td>\n",
       "      <td>2.7</td>\n",
       "      <td>...</td>\n",
       "      <td>0.2</td>\n",
       "      <td>8.5</td>\n",
       "      <td>9.2</td>\n",
       "      <td>8.8</td>\n",
       "      <td>7.1</td>\n",
       "      <td>6.2</td>\n",
       "      <td>10.4</td>\n",
       "      <td>7.9</td>\n",
       "      <td>-1.8</td>\n",
       "      <td>-0.6</td>\n",
       "    </tr>\n",
       "    <tr>\n",
       "      <th>8</th>\n",
       "      <td>Verduras, tubérculos y legumbres</td>\n",
       "      <td>4.7</td>\n",
       "      <td>6.9</td>\n",
       "      <td>7.7</td>\n",
       "      <td>0.8</td>\n",
       "      <td>-2.2</td>\n",
       "      <td>1.8</td>\n",
       "      <td>-2.1</td>\n",
       "      <td>12</td>\n",
       "      <td>3.3</td>\n",
       "      <td>...</td>\n",
       "      <td>-3.9</td>\n",
       "      <td>8.2</td>\n",
       "      <td>13.7</td>\n",
       "      <td>15.8</td>\n",
       "      <td>-6.8</td>\n",
       "      <td>-16.6</td>\n",
       "      <td>0.5</td>\n",
       "      <td>9.6</td>\n",
       "      <td>6.3</td>\n",
       "      <td>-0.9</td>\n",
       "    </tr>\n",
       "    <tr>\n",
       "      <th>9</th>\n",
       "      <td>Azúcar, dulces, chocolate, golosinas, etc.</td>\n",
       "      <td>1.9</td>\n",
       "      <td>1</td>\n",
       "      <td>1.5</td>\n",
       "      <td>1.2</td>\n",
       "      <td>1.4</td>\n",
       "      <td>2.3</td>\n",
       "      <td>1.2</td>\n",
       "      <td>1.6</td>\n",
       "      <td>2</td>\n",
       "      <td>...</td>\n",
       "      <td>1</td>\n",
       "      <td>2.6</td>\n",
       "      <td>1.3</td>\n",
       "      <td>1.2</td>\n",
       "      <td>1.6</td>\n",
       "      <td>0.6</td>\n",
       "      <td>-0.1</td>\n",
       "      <td>3.4</td>\n",
       "      <td>1.7</td>\n",
       "      <td>4.9</td>\n",
       "    </tr>\n",
       "    <tr>\n",
       "      <th>10</th>\n",
       "      <td>Bebidas no alcohólicas</td>\n",
       "      <td>1.5</td>\n",
       "      <td>0.7</td>\n",
       "      <td>2.3</td>\n",
       "      <td>2</td>\n",
       "      <td>1.6</td>\n",
       "      <td>1</td>\n",
       "      <td>2.2</td>\n",
       "      <td>1.5</td>\n",
       "      <td>3.2</td>\n",
       "      <td>...</td>\n",
       "      <td>2.3</td>\n",
       "      <td>3.9</td>\n",
       "      <td>-0.9</td>\n",
       "      <td>3.3</td>\n",
       "      <td>1.9</td>\n",
       "      <td>0.7</td>\n",
       "      <td>2.5</td>\n",
       "      <td>3.6</td>\n",
       "      <td>0.8</td>\n",
       "      <td>4.6</td>\n",
       "    </tr>\n",
       "    <tr>\n",
       "      <th>11</th>\n",
       "      <td>Café, té, yerba y cacao</td>\n",
       "      <td>1.4</td>\n",
       "      <td>2.3</td>\n",
       "      <td>1.9</td>\n",
       "      <td>1.8</td>\n",
       "      <td>1.6</td>\n",
       "      <td>1.9</td>\n",
       "      <td>2.6</td>\n",
       "      <td>1.3</td>\n",
       "      <td>1.6</td>\n",
       "      <td>...</td>\n",
       "      <td>3.3</td>\n",
       "      <td>3.9</td>\n",
       "      <td>-0.3</td>\n",
       "      <td>3.2</td>\n",
       "      <td>2.8</td>\n",
       "      <td>2.3</td>\n",
       "      <td>1.5</td>\n",
       "      <td>5.4</td>\n",
       "      <td>2.3</td>\n",
       "      <td>7.8</td>\n",
       "    </tr>\n",
       "    <tr>\n",
       "      <th>12</th>\n",
       "      <td>Aguas minerales, bebidas gaseosas y jugos</td>\n",
       "      <td>1.5</td>\n",
       "      <td>0.2</td>\n",
       "      <td>2.4</td>\n",
       "      <td>2</td>\n",
       "      <td>1.6</td>\n",
       "      <td>0.7</td>\n",
       "      <td>2.2</td>\n",
       "      <td>1.6</td>\n",
       "      <td>3.7</td>\n",
       "      <td>...</td>\n",
       "      <td>1.9</td>\n",
       "      <td>4</td>\n",
       "      <td>-1.1</td>\n",
       "      <td>3.3</td>\n",
       "      <td>1.5</td>\n",
       "      <td>0.1</td>\n",
       "      <td>2.9</td>\n",
       "      <td>3</td>\n",
       "      <td>0.2</td>\n",
       "      <td>3.5</td>\n",
       "    </tr>\n",
       "    <tr>\n",
       "      <th>13</th>\n",
       "      <td>Bebidas alcohólicas y tabaco</td>\n",
       "      <td>0.5</td>\n",
       "      <td>5</td>\n",
       "      <td>1.5</td>\n",
       "      <td>2.3</td>\n",
       "      <td>1.9</td>\n",
       "      <td>0.5</td>\n",
       "      <td>3.4</td>\n",
       "      <td>1.3</td>\n",
       "      <td>0.7</td>\n",
       "      <td>...</td>\n",
       "      <td>1.6</td>\n",
       "      <td>1.5</td>\n",
       "      <td>4.5</td>\n",
       "      <td>2.1</td>\n",
       "      <td>2.4</td>\n",
       "      <td>2.8</td>\n",
       "      <td>4.1</td>\n",
       "      <td>3.6</td>\n",
       "      <td>6.3</td>\n",
       "      <td>3.8</td>\n",
       "    </tr>\n",
       "    <tr>\n",
       "      <th>14</th>\n",
       "      <td>Bebidas alcohólicas</td>\n",
       "      <td>1.2</td>\n",
       "      <td>1.9</td>\n",
       "      <td>2.1</td>\n",
       "      <td>1.6</td>\n",
       "      <td>2.6</td>\n",
       "      <td>1.1</td>\n",
       "      <td>3.4</td>\n",
       "      <td>2.2</td>\n",
       "      <td>1.6</td>\n",
       "      <td>...</td>\n",
       "      <td>2.2</td>\n",
       "      <td>4.1</td>\n",
       "      <td>0.8</td>\n",
       "      <td>4.9</td>\n",
       "      <td>1.6</td>\n",
       "      <td>1.1</td>\n",
       "      <td>2.8</td>\n",
       "      <td>5.1</td>\n",
       "      <td>5.1</td>\n",
       "      <td>9.2</td>\n",
       "    </tr>\n",
       "    <tr>\n",
       "      <th>15</th>\n",
       "      <td>Tabaco</td>\n",
       "      <td>0</td>\n",
       "      <td>7.3</td>\n",
       "      <td>1.2</td>\n",
       "      <td>2.8</td>\n",
       "      <td>1.4</td>\n",
       "      <td>0</td>\n",
       "      <td>3.3</td>\n",
       "      <td>0.6</td>\n",
       "      <td>0</td>\n",
       "      <td>...</td>\n",
       "      <td>1.2</td>\n",
       "      <td>0</td>\n",
       "      <td>6.6</td>\n",
       "      <td>0.5</td>\n",
       "      <td>2.9</td>\n",
       "      <td>3.8</td>\n",
       "      <td>4.8</td>\n",
       "      <td>2.9</td>\n",
       "      <td>6.9</td>\n",
       "      <td>0.9</td>\n",
       "    </tr>\n",
       "    <tr>\n",
       "      <th>16</th>\n",
       "      <td>Prendas de vestir y calzado</td>\n",
       "      <td>-2.1</td>\n",
       "      <td>-0.5</td>\n",
       "      <td>4.8</td>\n",
       "      <td>5.1</td>\n",
       "      <td>0.6</td>\n",
       "      <td>0.6</td>\n",
       "      <td>-1.8</td>\n",
       "      <td>-0.9</td>\n",
       "      <td>5.9</td>\n",
       "      <td>...</td>\n",
       "      <td>1.4</td>\n",
       "      <td>2.6</td>\n",
       "      <td>7.5</td>\n",
       "      <td>6.2</td>\n",
       "      <td>3</td>\n",
       "      <td>4</td>\n",
       "      <td>0.1</td>\n",
       "      <td>2.3</td>\n",
       "      <td>16.2</td>\n",
       "      <td>4.9</td>\n",
       "    </tr>\n",
       "    <tr>\n",
       "      <th>17</th>\n",
       "      <td>Prendas de vestir y materiales</td>\n",
       "      <td>-2.7</td>\n",
       "      <td>-0.8</td>\n",
       "      <td>5.9</td>\n",
       "      <td>5.6</td>\n",
       "      <td>0.7</td>\n",
       "      <td>0.8</td>\n",
       "      <td>-2.6</td>\n",
       "      <td>-1.1</td>\n",
       "      <td>6.5</td>\n",
       "      <td>...</td>\n",
       "      <td>1.7</td>\n",
       "      <td>2.8</td>\n",
       "      <td>7.8</td>\n",
       "      <td>6.4</td>\n",
       "      <td>2.2</td>\n",
       "      <td>4.3</td>\n",
       "      <td>-0.3</td>\n",
       "      <td>1.8</td>\n",
       "      <td>18.7</td>\n",
       "      <td>5.2</td>\n",
       "    </tr>\n",
       "    <tr>\n",
       "      <th>18</th>\n",
       "      <td>Calzado</td>\n",
       "      <td>-0.5</td>\n",
       "      <td>0.6</td>\n",
       "      <td>1.5</td>\n",
       "      <td>3.4</td>\n",
       "      <td>0.3</td>\n",
       "      <td>0</td>\n",
       "      <td>0.6</td>\n",
       "      <td>-0.4</td>\n",
       "      <td>4.1</td>\n",
       "      <td>...</td>\n",
       "      <td>0.4</td>\n",
       "      <td>2</td>\n",
       "      <td>6.5</td>\n",
       "      <td>5.6</td>\n",
       "      <td>5.4</td>\n",
       "      <td>3.2</td>\n",
       "      <td>1.2</td>\n",
       "      <td>3.7</td>\n",
       "      <td>9.2</td>\n",
       "      <td>4</td>\n",
       "    </tr>\n",
       "    <tr>\n",
       "      <th>19</th>\n",
       "      <td>Vivienda, agua, electricidad y otros combustibles</td>\n",
       "      <td>0</td>\n",
       "      <td>8.4</td>\n",
       "      <td>2.2</td>\n",
       "      <td>4.6</td>\n",
       "      <td>1.9</td>\n",
       "      <td>2.4</td>\n",
       "      <td>2.5</td>\n",
       "      <td>2.6</td>\n",
       "      <td>0.8</td>\n",
       "      <td>...</td>\n",
       "      <td>0.5</td>\n",
       "      <td>2.5</td>\n",
       "      <td>1.1</td>\n",
       "      <td>2.2</td>\n",
       "      <td>2.5</td>\n",
       "      <td>4.1</td>\n",
       "      <td>-1</td>\n",
       "      <td>2.2</td>\n",
       "      <td>1</td>\n",
       "      <td>4.1</td>\n",
       "    </tr>\n",
       "    <tr>\n",
       "      <th>20</th>\n",
       "      <td>Alquiler de la vivienda y gastos conexos</td>\n",
       "      <td>-0.7</td>\n",
       "      <td>7.5</td>\n",
       "      <td>-2.6</td>\n",
       "      <td>1.4</td>\n",
       "      <td>1.6</td>\n",
       "      <td>1.7</td>\n",
       "      <td>4.2</td>\n",
       "      <td>4.2</td>\n",
       "      <td>1.4</td>\n",
       "      <td>...</td>\n",
       "      <td>0.5</td>\n",
       "      <td>2.5</td>\n",
       "      <td>0.9</td>\n",
       "      <td>2.2</td>\n",
       "      <td>3.6</td>\n",
       "      <td>7.8</td>\n",
       "      <td>-4.1</td>\n",
       "      <td>3.3</td>\n",
       "      <td>1.7</td>\n",
       "      <td>5.8</td>\n",
       "    </tr>\n",
       "    <tr>\n",
       "      <th>21</th>\n",
       "      <td>Alquiler de la vivienda</td>\n",
       "      <td>2.1</td>\n",
       "      <td>2.8</td>\n",
       "      <td>2</td>\n",
       "      <td>2.2</td>\n",
       "      <td>2.2</td>\n",
       "      <td>2.2</td>\n",
       "      <td>2.2</td>\n",
       "      <td>2.1</td>\n",
       "      <td>2.3</td>\n",
       "      <td>...</td>\n",
       "      <td>0.7</td>\n",
       "      <td>2.2</td>\n",
       "      <td>1.5</td>\n",
       "      <td>3.8</td>\n",
       "      <td>2.4</td>\n",
       "      <td>2.6</td>\n",
       "      <td>3.1</td>\n",
       "      <td>2.9</td>\n",
       "      <td>2.8</td>\n",
       "      <td>6.1</td>\n",
       "    </tr>\n",
       "    <tr>\n",
       "      <th>22</th>\n",
       "      <td>Mantenimiento y reparación de la vivienda</td>\n",
       "      <td>3.4</td>\n",
       "      <td>0.2</td>\n",
       "      <td>1.5</td>\n",
       "      <td>2.7</td>\n",
       "      <td>1.1</td>\n",
       "      <td>2.1</td>\n",
       "      <td>1.8</td>\n",
       "      <td>4</td>\n",
       "      <td>1.8</td>\n",
       "      <td>...</td>\n",
       "      <td>2.5</td>\n",
       "      <td>8.1</td>\n",
       "      <td>2.1</td>\n",
       "      <td>7.5</td>\n",
       "      <td>5.9</td>\n",
       "      <td>3.8</td>\n",
       "      <td>5</td>\n",
       "      <td>5.6</td>\n",
       "      <td>1.6</td>\n",
       "      <td>7</td>\n",
       "    </tr>\n",
       "    <tr>\n",
       "      <th>23</th>\n",
       "      <td>Electricidad, gas y otros combustibles</td>\n",
       "      <td>0</td>\n",
       "      <td>17.6</td>\n",
       "      <td>13</td>\n",
       "      <td>12.3</td>\n",
       "      <td>0.4</td>\n",
       "      <td>0.4</td>\n",
       "      <td>0.5</td>\n",
       "      <td>0.3</td>\n",
       "      <td>-0.2</td>\n",
       "      <td>...</td>\n",
       "      <td>-0.1</td>\n",
       "      <td>1</td>\n",
       "      <td>1.3</td>\n",
       "      <td>0.6</td>\n",
       "      <td>0.1</td>\n",
       "      <td>0.1</td>\n",
       "      <td>0.8</td>\n",
       "      <td>-0.3</td>\n",
       "      <td>-0.2</td>\n",
       "      <td>1.1</td>\n",
       "    </tr>\n",
       "    <tr>\n",
       "      <th>24</th>\n",
       "      <td>Equipamiento y mantenimiento del hogar</td>\n",
       "      <td>0.9</td>\n",
       "      <td>0.3</td>\n",
       "      <td>0.9</td>\n",
       "      <td>1</td>\n",
       "      <td>3</td>\n",
       "      <td>1.4</td>\n",
       "      <td>2.5</td>\n",
       "      <td>1</td>\n",
       "      <td>0.9</td>\n",
       "      <td>...</td>\n",
       "      <td>4.4</td>\n",
       "      <td>3.5</td>\n",
       "      <td>2.9</td>\n",
       "      <td>4.7</td>\n",
       "      <td>3.9</td>\n",
       "      <td>1.9</td>\n",
       "      <td>2.7</td>\n",
       "      <td>5</td>\n",
       "      <td>3.1</td>\n",
       "      <td>4.7</td>\n",
       "    </tr>\n",
       "    <tr>\n",
       "      <th>25</th>\n",
       "      <td>Bienes y servicios para la conservación del hogar</td>\n",
       "      <td>0.7</td>\n",
       "      <td>0.8</td>\n",
       "      <td>0.9</td>\n",
       "      <td>0.7</td>\n",
       "      <td>4.8</td>\n",
       "      <td>2</td>\n",
       "      <td>3.3</td>\n",
       "      <td>0.6</td>\n",
       "      <td>0.5</td>\n",
       "      <td>...</td>\n",
       "      <td>0.6</td>\n",
       "      <td>1.6</td>\n",
       "      <td>0.9</td>\n",
       "      <td>4</td>\n",
       "      <td>3.5</td>\n",
       "      <td>1.3</td>\n",
       "      <td>2</td>\n",
       "      <td>6.1</td>\n",
       "      <td>2.9</td>\n",
       "      <td>3.9</td>\n",
       "    </tr>\n",
       "    <tr>\n",
       "      <th>26</th>\n",
       "      <td>Salud</td>\n",
       "      <td>1.4</td>\n",
       "      <td>3.3</td>\n",
       "      <td>1.9</td>\n",
       "      <td>1.4</td>\n",
       "      <td>1.5</td>\n",
       "      <td>1.3</td>\n",
       "      <td>3.4</td>\n",
       "      <td>2.9</td>\n",
       "      <td>2.4</td>\n",
       "      <td>...</td>\n",
       "      <td>1.7</td>\n",
       "      <td>2.3</td>\n",
       "      <td>2.9</td>\n",
       "      <td>2.5</td>\n",
       "      <td>3.4</td>\n",
       "      <td>5.8</td>\n",
       "      <td>3.2</td>\n",
       "      <td>2.9</td>\n",
       "      <td>4</td>\n",
       "      <td>3.8</td>\n",
       "    </tr>\n",
       "    <tr>\n",
       "      <th>27</th>\n",
       "      <td>Productos medicinales, artefactos y equipos pa...</td>\n",
       "      <td>2.1</td>\n",
       "      <td>2.3</td>\n",
       "      <td>2.9</td>\n",
       "      <td>2.2</td>\n",
       "      <td>2.7</td>\n",
       "      <td>2.2</td>\n",
       "      <td>2.3</td>\n",
       "      <td>1.5</td>\n",
       "      <td>1.6</td>\n",
       "      <td>...</td>\n",
       "      <td>2.8</td>\n",
       "      <td>3.8</td>\n",
       "      <td>5</td>\n",
       "      <td>3.8</td>\n",
       "      <td>5</td>\n",
       "      <td>4.5</td>\n",
       "      <td>4.6</td>\n",
       "      <td>4</td>\n",
       "      <td>4.1</td>\n",
       "      <td>3.8</td>\n",
       "    </tr>\n",
       "    <tr>\n",
       "      <th>28</th>\n",
       "      <td>Gastos de prepagas</td>\n",
       "      <td>0</td>\n",
       "      <td>5.3</td>\n",
       "      <td>0.6</td>\n",
       "      <td>0</td>\n",
       "      <td>0</td>\n",
       "      <td>0</td>\n",
       "      <td>6</td>\n",
       "      <td>4.9</td>\n",
       "      <td>4.5</td>\n",
       "      <td>...</td>\n",
       "      <td>0</td>\n",
       "      <td>0</td>\n",
       "      <td>0</td>\n",
       "      <td>0</td>\n",
       "      <td>0</td>\n",
       "      <td>10</td>\n",
       "      <td>0</td>\n",
       "      <td>0</td>\n",
       "      <td>3.5</td>\n",
       "      <td>4.5</td>\n",
       "    </tr>\n",
       "    <tr>\n",
       "      <th>29</th>\n",
       "      <td>Transporte</td>\n",
       "      <td>1.8</td>\n",
       "      <td>1.8</td>\n",
       "      <td>1</td>\n",
       "      <td>0.5</td>\n",
       "      <td>1.1</td>\n",
       "      <td>0.3</td>\n",
       "      <td>1.4</td>\n",
       "      <td>1.1</td>\n",
       "      <td>0.9</td>\n",
       "      <td>...</td>\n",
       "      <td>1.8</td>\n",
       "      <td>2.8</td>\n",
       "      <td>3.4</td>\n",
       "      <td>4.1</td>\n",
       "      <td>4.1</td>\n",
       "      <td>5</td>\n",
       "      <td>2.9</td>\n",
       "      <td>4.8</td>\n",
       "      <td>3.7</td>\n",
       "      <td>5.1</td>\n",
       "    </tr>\n",
       "    <tr>\n",
       "      <th>30</th>\n",
       "      <td>Adquisición de vehículos</td>\n",
       "      <td>2.8</td>\n",
       "      <td>0.7</td>\n",
       "      <td>-0.5</td>\n",
       "      <td>0.4</td>\n",
       "      <td>2.1</td>\n",
       "      <td>1.2</td>\n",
       "      <td>-1.3</td>\n",
       "      <td>0.4</td>\n",
       "      <td>2.4</td>\n",
       "      <td>...</td>\n",
       "      <td>4.4</td>\n",
       "      <td>5.7</td>\n",
       "      <td>5.8</td>\n",
       "      <td>6.5</td>\n",
       "      <td>6.4</td>\n",
       "      <td>5.2</td>\n",
       "      <td>2.4</td>\n",
       "      <td>8.8</td>\n",
       "      <td>4.4</td>\n",
       "      <td>4.1</td>\n",
       "    </tr>\n",
       "    <tr>\n",
       "      <th>31</th>\n",
       "      <td>Funcionamiento de equipos de transporte personal</td>\n",
       "      <td>2.2</td>\n",
       "      <td>3.4</td>\n",
       "      <td>1.9</td>\n",
       "      <td>1.5</td>\n",
       "      <td>0.9</td>\n",
       "      <td>0.1</td>\n",
       "      <td>2.8</td>\n",
       "      <td>0.5</td>\n",
       "      <td>0.6</td>\n",
       "      <td>...</td>\n",
       "      <td>1</td>\n",
       "      <td>2.3</td>\n",
       "      <td>3.5</td>\n",
       "      <td>4.5</td>\n",
       "      <td>2.3</td>\n",
       "      <td>3.5</td>\n",
       "      <td>7</td>\n",
       "      <td>4.5</td>\n",
       "      <td>3.3</td>\n",
       "      <td>8</td>\n",
       "    </tr>\n",
       "    <tr>\n",
       "      <th>32</th>\n",
       "      <td>Combustibles y lubricantes para vehículos de u...</td>\n",
       "      <td>2.5</td>\n",
       "      <td>2.1</td>\n",
       "      <td>0.2</td>\n",
       "      <td>1.1</td>\n",
       "      <td>0.8</td>\n",
       "      <td>-0.1</td>\n",
       "      <td>3.4</td>\n",
       "      <td>0.6</td>\n",
       "      <td>0.3</td>\n",
       "      <td>...</td>\n",
       "      <td>0.1</td>\n",
       "      <td>2.4</td>\n",
       "      <td>4</td>\n",
       "      <td>4.7</td>\n",
       "      <td>2.1</td>\n",
       "      <td>4.1</td>\n",
       "      <td>8.1</td>\n",
       "      <td>4.7</td>\n",
       "      <td>3.5</td>\n",
       "      <td>7.8</td>\n",
       "    </tr>\n",
       "    <tr>\n",
       "      <th>33</th>\n",
       "      <td>Transporte público</td>\n",
       "      <td>0.6</td>\n",
       "      <td>0.2</td>\n",
       "      <td>0.7</td>\n",
       "      <td>-0.8</td>\n",
       "      <td>0.6</td>\n",
       "      <td>0.1</td>\n",
       "      <td>1.3</td>\n",
       "      <td>2.3</td>\n",
       "      <td>0.4</td>\n",
       "      <td>...</td>\n",
       "      <td>0.4</td>\n",
       "      <td>0.7</td>\n",
       "      <td>0.9</td>\n",
       "      <td>1.1</td>\n",
       "      <td>4.4</td>\n",
       "      <td>7.1</td>\n",
       "      <td>-2.6</td>\n",
       "      <td>0.8</td>\n",
       "      <td>3.6</td>\n",
       "      <td>1.3</td>\n",
       "    </tr>\n",
       "    <tr>\n",
       "      <th>34</th>\n",
       "      <td>Comunicación</td>\n",
       "      <td>3.8</td>\n",
       "      <td>4.1</td>\n",
       "      <td>2.4</td>\n",
       "      <td>6.8</td>\n",
       "      <td>0</td>\n",
       "      <td>1.9</td>\n",
       "      <td>0.5</td>\n",
       "      <td>1.9</td>\n",
       "      <td>0.9</td>\n",
       "      <td>...</td>\n",
       "      <td>1.9</td>\n",
       "      <td>0.3</td>\n",
       "      <td>-0.8</td>\n",
       "      <td>-0.5</td>\n",
       "      <td>-1.8</td>\n",
       "      <td>-0.1</td>\n",
       "      <td>16.7</td>\n",
       "      <td>1</td>\n",
       "      <td>0.1</td>\n",
       "      <td>0.5</td>\n",
       "    </tr>\n",
       "    <tr>\n",
       "      <th>35</th>\n",
       "      <td>Servicios  de telefonía e internet</td>\n",
       "      <td>3.9</td>\n",
       "      <td>4.3</td>\n",
       "      <td>2.5</td>\n",
       "      <td>6.9</td>\n",
       "      <td>0</td>\n",
       "      <td>1.8</td>\n",
       "      <td>0.6</td>\n",
       "      <td>1.9</td>\n",
       "      <td>1</td>\n",
       "      <td>...</td>\n",
       "      <td>1.7</td>\n",
       "      <td>0</td>\n",
       "      <td>-0.9</td>\n",
       "      <td>-0.8</td>\n",
       "      <td>-1.9</td>\n",
       "      <td>0</td>\n",
       "      <td>17.2</td>\n",
       "      <td>0.9</td>\n",
       "      <td>0</td>\n",
       "      <td>0.4</td>\n",
       "    </tr>\n",
       "    <tr>\n",
       "      <th>36</th>\n",
       "      <td>Recreación y cultura</td>\n",
       "      <td>3.2</td>\n",
       "      <td>0.1</td>\n",
       "      <td>1.4</td>\n",
       "      <td>3.4</td>\n",
       "      <td>0.9</td>\n",
       "      <td>3</td>\n",
       "      <td>3.1</td>\n",
       "      <td>0</td>\n",
       "      <td>3.4</td>\n",
       "      <td>...</td>\n",
       "      <td>2.2</td>\n",
       "      <td>3.3</td>\n",
       "      <td>2.5</td>\n",
       "      <td>2.5</td>\n",
       "      <td>5.5</td>\n",
       "      <td>4.9</td>\n",
       "      <td>4.4</td>\n",
       "      <td>2.7</td>\n",
       "      <td>3.5</td>\n",
       "      <td>2.7</td>\n",
       "    </tr>\n",
       "    <tr>\n",
       "      <th>37</th>\n",
       "      <td>Equipos audiovisuales, fotográficos y de proce...</td>\n",
       "      <td>1.5</td>\n",
       "      <td>-2.7</td>\n",
       "      <td>1.3</td>\n",
       "      <td>0.3</td>\n",
       "      <td>0.8</td>\n",
       "      <td>1.5</td>\n",
       "      <td>0.7</td>\n",
       "      <td>2.5</td>\n",
       "      <td>3.2</td>\n",
       "      <td>...</td>\n",
       "      <td>3.7</td>\n",
       "      <td>6.5</td>\n",
       "      <td>4.2</td>\n",
       "      <td>1.5</td>\n",
       "      <td>-0.6</td>\n",
       "      <td>2.4</td>\n",
       "      <td>2.4</td>\n",
       "      <td>2.4</td>\n",
       "      <td>2.7</td>\n",
       "      <td>2.5</td>\n",
       "    </tr>\n",
       "    <tr>\n",
       "      <th>38</th>\n",
       "      <td>Servicios recreativos y culturales</td>\n",
       "      <td>4</td>\n",
       "      <td>1.3</td>\n",
       "      <td>2.7</td>\n",
       "      <td>6.5</td>\n",
       "      <td>1.9</td>\n",
       "      <td>3.7</td>\n",
       "      <td>0.8</td>\n",
       "      <td>0.4</td>\n",
       "      <td>4.9</td>\n",
       "      <td>...</td>\n",
       "      <td>1.3</td>\n",
       "      <td>0.2</td>\n",
       "      <td>0.2</td>\n",
       "      <td>0.1</td>\n",
       "      <td>14.1</td>\n",
       "      <td>6.3</td>\n",
       "      <td>5.3</td>\n",
       "      <td>2.9</td>\n",
       "      <td>4.2</td>\n",
       "      <td>7.1</td>\n",
       "    </tr>\n",
       "    <tr>\n",
       "      <th>39</th>\n",
       "      <td>Periódicos, diarios, revistas, libros y artícu...</td>\n",
       "      <td>2.4</td>\n",
       "      <td>2.4</td>\n",
       "      <td>0.8</td>\n",
       "      <td>0.8</td>\n",
       "      <td>2.8</td>\n",
       "      <td>1.1</td>\n",
       "      <td>2.5</td>\n",
       "      <td>3</td>\n",
       "      <td>1.2</td>\n",
       "      <td>...</td>\n",
       "      <td>1.5</td>\n",
       "      <td>4.8</td>\n",
       "      <td>2.7</td>\n",
       "      <td>3.2</td>\n",
       "      <td>4.7</td>\n",
       "      <td>1.6</td>\n",
       "      <td>2.7</td>\n",
       "      <td>5.4</td>\n",
       "      <td>2.9</td>\n",
       "      <td>1.8</td>\n",
       "    </tr>\n",
       "    <tr>\n",
       "      <th>40</th>\n",
       "      <td>Educación</td>\n",
       "      <td>0.5</td>\n",
       "      <td>4.4</td>\n",
       "      <td>6.7</td>\n",
       "      <td>3.9</td>\n",
       "      <td>1.9</td>\n",
       "      <td>0.7</td>\n",
       "      <td>0.7</td>\n",
       "      <td>1.5</td>\n",
       "      <td>5.2</td>\n",
       "      <td>...</td>\n",
       "      <td>-0.5</td>\n",
       "      <td>1.1</td>\n",
       "      <td>0.2</td>\n",
       "      <td>0</td>\n",
       "      <td>0.5</td>\n",
       "      <td>0</td>\n",
       "      <td>0.7</td>\n",
       "      <td>0</td>\n",
       "      <td>30.1</td>\n",
       "      <td>3.1</td>\n",
       "    </tr>\n",
       "    <tr>\n",
       "      <th>41</th>\n",
       "      <td>Restaurantes y hoteles</td>\n",
       "      <td>3.3</td>\n",
       "      <td>1.8</td>\n",
       "      <td>1</td>\n",
       "      <td>2</td>\n",
       "      <td>1</td>\n",
       "      <td>1.7</td>\n",
       "      <td>2.5</td>\n",
       "      <td>0.9</td>\n",
       "      <td>1.2</td>\n",
       "      <td>...</td>\n",
       "      <td>1.6</td>\n",
       "      <td>1.6</td>\n",
       "      <td>1.3</td>\n",
       "      <td>3.3</td>\n",
       "      <td>3.5</td>\n",
       "      <td>5.6</td>\n",
       "      <td>5.8</td>\n",
       "      <td>5.8</td>\n",
       "      <td>2.7</td>\n",
       "      <td>3.2</td>\n",
       "    </tr>\n",
       "    <tr>\n",
       "      <th>42</th>\n",
       "      <td>Restaurantes y comidas fuera del hogar</td>\n",
       "      <td>2.3</td>\n",
       "      <td>1.9</td>\n",
       "      <td>1.9</td>\n",
       "      <td>2.2</td>\n",
       "      <td>1.2</td>\n",
       "      <td>1.7</td>\n",
       "      <td>1.7</td>\n",
       "      <td>1.4</td>\n",
       "      <td>1.3</td>\n",
       "      <td>...</td>\n",
       "      <td>///</td>\n",
       "      <td>1.5</td>\n",
       "      <td>1.2</td>\n",
       "      <td>3.3</td>\n",
       "      <td>3.5</td>\n",
       "      <td>5.4</td>\n",
       "      <td>4.8</td>\n",
       "      <td>6.4</td>\n",
       "      <td>3.7</td>\n",
       "      <td>3.6</td>\n",
       "    </tr>\n",
       "    <tr>\n",
       "      <th>43</th>\n",
       "      <td>Bienes y servicios varios</td>\n",
       "      <td>2.1</td>\n",
       "      <td>2</td>\n",
       "      <td>1.4</td>\n",
       "      <td>1.9</td>\n",
       "      <td>1.4</td>\n",
       "      <td>1</td>\n",
       "      <td>1.5</td>\n",
       "      <td>1.5</td>\n",
       "      <td>1.9</td>\n",
       "      <td>...</td>\n",
       "      <td>3</td>\n",
       "      <td>5</td>\n",
       "      <td>2.8</td>\n",
       "      <td>1.9</td>\n",
       "      <td>3.3</td>\n",
       "      <td>1.3</td>\n",
       "      <td>2.1</td>\n",
       "      <td>3.3</td>\n",
       "      <td>2.2</td>\n",
       "      <td>3.9</td>\n",
       "    </tr>\n",
       "    <tr>\n",
       "      <th>44</th>\n",
       "      <td>Cuidado personal</td>\n",
       "      <td>1.5</td>\n",
       "      <td>1.9</td>\n",
       "      <td>1.5</td>\n",
       "      <td>2</td>\n",
       "      <td>1.3</td>\n",
       "      <td>1.2</td>\n",
       "      <td>0.9</td>\n",
       "      <td>1.6</td>\n",
       "      <td>1.8</td>\n",
       "      <td>...</td>\n",
       "      <td>3.7</td>\n",
       "      <td>4.9</td>\n",
       "      <td>2.7</td>\n",
       "      <td>1.9</td>\n",
       "      <td>2.6</td>\n",
       "      <td>1.6</td>\n",
       "      <td>2.1</td>\n",
       "      <td>3.8</td>\n",
       "      <td>2.1</td>\n",
       "      <td>2.5</td>\n",
       "    </tr>\n",
       "  </tbody>\n",
       "</table>\n",
       "<p>45 rows × 53 columns</p>\n",
       "</div>"
      ],
      "text/plain": [
       "                                           Región GBA 2017-1 2017-2 2017-3  \\\n",
       "0                                       Nivel general    1.3    2.5    2.4   \n",
       "1                  Alimentos y bebidas no alcohólicas    1.3    1.8    3.5   \n",
       "2                                           Alimentos    1.3      2    3.7   \n",
       "3                                      Pan y cereales    1.5    2.2    2.8   \n",
       "4                                  Carnes y derivados   -1.1      0    5.4   \n",
       "5                   Leche, productos lácteos y huevos    2.2    3.1    2.6   \n",
       "6                           Aceites, grasas y manteca    1.7    1.3    1.9   \n",
       "7                                              Frutas    3.6      1   -2.2   \n",
       "8                    Verduras, tubérculos y legumbres    4.7    6.9    7.7   \n",
       "9          Azúcar, dulces, chocolate, golosinas, etc.    1.9      1    1.5   \n",
       "10                             Bebidas no alcohólicas    1.5    0.7    2.3   \n",
       "11                            Café, té, yerba y cacao    1.4    2.3    1.9   \n",
       "12          Aguas minerales, bebidas gaseosas y jugos    1.5    0.2    2.4   \n",
       "13                       Bebidas alcohólicas y tabaco    0.5      5    1.5   \n",
       "14                                Bebidas alcohólicas    1.2    1.9    2.1   \n",
       "15                                             Tabaco      0    7.3    1.2   \n",
       "16                        Prendas de vestir y calzado   -2.1   -0.5    4.8   \n",
       "17                     Prendas de vestir y materiales   -2.7   -0.8    5.9   \n",
       "18                                            Calzado   -0.5    0.6    1.5   \n",
       "19  Vivienda, agua, electricidad y otros combustibles      0    8.4    2.2   \n",
       "20           Alquiler de la vivienda y gastos conexos   -0.7    7.5   -2.6   \n",
       "21                            Alquiler de la vivienda    2.1    2.8      2   \n",
       "22          Mantenimiento y reparación de la vivienda    3.4    0.2    1.5   \n",
       "23             Electricidad, gas y otros combustibles      0   17.6     13   \n",
       "24             Equipamiento y mantenimiento del hogar    0.9    0.3    0.9   \n",
       "25  Bienes y servicios para la conservación del hogar    0.7    0.8    0.9   \n",
       "26                                              Salud    1.4    3.3    1.9   \n",
       "27  Productos medicinales, artefactos y equipos pa...    2.1    2.3    2.9   \n",
       "28                                 Gastos de prepagas      0    5.3    0.6   \n",
       "29                                         Transporte    1.8    1.8      1   \n",
       "30                           Adquisición de vehículos    2.8    0.7   -0.5   \n",
       "31   Funcionamiento de equipos de transporte personal    2.2    3.4    1.9   \n",
       "32  Combustibles y lubricantes para vehículos de u...    2.5    2.1    0.2   \n",
       "33                                 Transporte público    0.6    0.2    0.7   \n",
       "34                                       Comunicación    3.8    4.1    2.4   \n",
       "35                 Servicios  de telefonía e internet    3.9    4.3    2.5   \n",
       "36                               Recreación y cultura    3.2    0.1    1.4   \n",
       "37  Equipos audiovisuales, fotográficos y de proce...    1.5   -2.7    1.3   \n",
       "38                 Servicios recreativos y culturales      4    1.3    2.7   \n",
       "39  Periódicos, diarios, revistas, libros y artícu...    2.4    2.4    0.8   \n",
       "40                                          Educación    0.5    4.4    6.7   \n",
       "41                             Restaurantes y hoteles    3.3    1.8      1   \n",
       "42             Restaurantes y comidas fuera del hogar    2.3    1.9    1.9   \n",
       "43                          Bienes y servicios varios    2.1      2    1.4   \n",
       "44                                   Cuidado personal    1.5    1.9    1.5   \n",
       "\n",
       "   2017-4 2017-5 2017-6 2017-7 2017-8 2017-9  ... 2020-7 2020-8 2020-9  \\\n",
       "0     2.6    1.3    1.4    1.7    1.5      2  ...    1.6    2.8    2.8   \n",
       "1     2.3    1.1    1.3    1.2    2.2    1.9  ...    1.3    3.7    2.8   \n",
       "2     2.3      1    1.3    1.1    2.3    1.7  ...    1.2    3.7    3.3   \n",
       "3     2.1    0.9    1.9    1.8    1.2    1.1  ...    2.1    1.8      2   \n",
       "4     2.5      1   -0.2    0.9      1    1.6  ...    2.5    3.4    1.9   \n",
       "5     5.3    2.4    3.6    1.8    0.8    0.8  ...    1.5    2.2   -0.6   \n",
       "6     2.6   -0.1    1.1      4    1.7    1.6  ...    1.6    3.3    0.9   \n",
       "7    -2.9    3.7    0.8    1.6      2    2.7  ...    0.2    8.5    9.2   \n",
       "8     0.8   -2.2    1.8   -2.1     12    3.3  ...   -3.9    8.2   13.7   \n",
       "9     1.2    1.4    2.3    1.2    1.6      2  ...      1    2.6    1.3   \n",
       "10      2    1.6      1    2.2    1.5    3.2  ...    2.3    3.9   -0.9   \n",
       "11    1.8    1.6    1.9    2.6    1.3    1.6  ...    3.3    3.9   -0.3   \n",
       "12      2    1.6    0.7    2.2    1.6    3.7  ...    1.9      4   -1.1   \n",
       "13    2.3    1.9    0.5    3.4    1.3    0.7  ...    1.6    1.5    4.5   \n",
       "14    1.6    2.6    1.1    3.4    2.2    1.6  ...    2.2    4.1    0.8   \n",
       "15    2.8    1.4      0    3.3    0.6      0  ...    1.2      0    6.6   \n",
       "16    5.1    0.6    0.6   -1.8   -0.9    5.9  ...    1.4    2.6    7.5   \n",
       "17    5.6    0.7    0.8   -2.6   -1.1    6.5  ...    1.7    2.8    7.8   \n",
       "18    3.4    0.3      0    0.6   -0.4    4.1  ...    0.4      2    6.5   \n",
       "19    4.6    1.9    2.4    2.5    2.6    0.8  ...    0.5    2.5    1.1   \n",
       "20    1.4    1.6    1.7    4.2    4.2    1.4  ...    0.5    2.5    0.9   \n",
       "21    2.2    2.2    2.2    2.2    2.1    2.3  ...    0.7    2.2    1.5   \n",
       "22    2.7    1.1    2.1    1.8      4    1.8  ...    2.5    8.1    2.1   \n",
       "23   12.3    0.4    0.4    0.5    0.3   -0.2  ...   -0.1      1    1.3   \n",
       "24      1      3    1.4    2.5      1    0.9  ...    4.4    3.5    2.9   \n",
       "25    0.7    4.8      2    3.3    0.6    0.5  ...    0.6    1.6    0.9   \n",
       "26    1.4    1.5    1.3    3.4    2.9    2.4  ...    1.7    2.3    2.9   \n",
       "27    2.2    2.7    2.2    2.3    1.5    1.6  ...    2.8    3.8      5   \n",
       "28      0      0      0      6    4.9    4.5  ...      0      0      0   \n",
       "29    0.5    1.1    0.3    1.4    1.1    0.9  ...    1.8    2.8    3.4   \n",
       "30    0.4    2.1    1.2   -1.3    0.4    2.4  ...    4.4    5.7    5.8   \n",
       "31    1.5    0.9    0.1    2.8    0.5    0.6  ...      1    2.3    3.5   \n",
       "32    1.1    0.8   -0.1    3.4    0.6    0.3  ...    0.1    2.4      4   \n",
       "33   -0.8    0.6    0.1    1.3    2.3    0.4  ...    0.4    0.7    0.9   \n",
       "34    6.8      0    1.9    0.5    1.9    0.9  ...    1.9    0.3   -0.8   \n",
       "35    6.9      0    1.8    0.6    1.9      1  ...    1.7      0   -0.9   \n",
       "36    3.4    0.9      3    3.1      0    3.4  ...    2.2    3.3    2.5   \n",
       "37    0.3    0.8    1.5    0.7    2.5    3.2  ...    3.7    6.5    4.2   \n",
       "38    6.5    1.9    3.7    0.8    0.4    4.9  ...    1.3    0.2    0.2   \n",
       "39    0.8    2.8    1.1    2.5      3    1.2  ...    1.5    4.8    2.7   \n",
       "40    3.9    1.9    0.7    0.7    1.5    5.2  ...   -0.5    1.1    0.2   \n",
       "41      2      1    1.7    2.5    0.9    1.2  ...    1.6    1.6    1.3   \n",
       "42    2.2    1.2    1.7    1.7    1.4    1.3  ...    ///    1.5    1.2   \n",
       "43    1.9    1.4      1    1.5    1.5    1.9  ...      3      5    2.8   \n",
       "44      2    1.3    1.2    0.9    1.6    1.8  ...    3.7    4.9    2.7   \n",
       "\n",
       "   2020-10 2020-11 2020-12 2021-1 2021-2 2021-3 2021-4  \n",
       "0      3.6       3     3.7    3.3    3.6    5.2    4.1  \n",
       "1      4.8     2.1     2.8      4      4    4.9    4.7  \n",
       "2        5     2.2     3.1    4.2      4    5.4    4.7  \n",
       "3      2.6     2.8     1.2    1.9    3.9    3.7    5.7  \n",
       "4      3.5     5.4    13.9    6.4    2.7    6.8    4.7  \n",
       "5      2.3     1.8     0.1    2.1    2.1    8.6    9.3  \n",
       "6      4.2     3.5     1.1    2.3    2.5    6.4    7.9  \n",
       "7      8.8     7.1     6.2   10.4    7.9   -1.8   -0.6  \n",
       "8     15.8    -6.8   -16.6    0.5    9.6    6.3   -0.9  \n",
       "9      1.2     1.6     0.6   -0.1    3.4    1.7    4.9  \n",
       "10     3.3     1.9     0.7    2.5    3.6    0.8    4.6  \n",
       "11     3.2     2.8     2.3    1.5    5.4    2.3    7.8  \n",
       "12     3.3     1.5     0.1    2.9      3    0.2    3.5  \n",
       "13     2.1     2.4     2.8    4.1    3.6    6.3    3.8  \n",
       "14     4.9     1.6     1.1    2.8    5.1    5.1    9.2  \n",
       "15     0.5     2.9     3.8    4.8    2.9    6.9    0.9  \n",
       "16     6.2       3       4    0.1    2.3   16.2    4.9  \n",
       "17     6.4     2.2     4.3   -0.3    1.8   18.7    5.2  \n",
       "18     5.6     5.4     3.2    1.2    3.7    9.2      4  \n",
       "19     2.2     2.5     4.1     -1    2.2      1    4.1  \n",
       "20     2.2     3.6     7.8   -4.1    3.3    1.7    5.8  \n",
       "21     3.8     2.4     2.6    3.1    2.9    2.8    6.1  \n",
       "22     7.5     5.9     3.8      5    5.6    1.6      7  \n",
       "23     0.6     0.1     0.1    0.8   -0.3   -0.2    1.1  \n",
       "24     4.7     3.9     1.9    2.7      5    3.1    4.7  \n",
       "25       4     3.5     1.3      2    6.1    2.9    3.9  \n",
       "26     2.5     3.4     5.8    3.2    2.9      4    3.8  \n",
       "27     3.8       5     4.5    4.6      4    4.1    3.8  \n",
       "28       0       0      10      0      0    3.5    4.5  \n",
       "29     4.1     4.1       5    2.9    4.8    3.7    5.1  \n",
       "30     6.5     6.4     5.2    2.4    8.8    4.4    4.1  \n",
       "31     4.5     2.3     3.5      7    4.5    3.3      8  \n",
       "32     4.7     2.1     4.1    8.1    4.7    3.5    7.8  \n",
       "33     1.1     4.4     7.1   -2.6    0.8    3.6    1.3  \n",
       "34    -0.5    -1.8    -0.1   16.7      1    0.1    0.5  \n",
       "35    -0.8    -1.9       0   17.2    0.9      0    0.4  \n",
       "36     2.5     5.5     4.9    4.4    2.7    3.5    2.7  \n",
       "37     1.5    -0.6     2.4    2.4    2.4    2.7    2.5  \n",
       "38     0.1    14.1     6.3    5.3    2.9    4.2    7.1  \n",
       "39     3.2     4.7     1.6    2.7    5.4    2.9    1.8  \n",
       "40       0     0.5       0    0.7      0   30.1    3.1  \n",
       "41     3.3     3.5     5.6    5.8    5.8    2.7    3.2  \n",
       "42     3.3     3.5     5.4    4.8    6.4    3.7    3.6  \n",
       "43     1.9     3.3     1.3    2.1    3.3    2.2    3.9  \n",
       "44     1.9     2.6     1.6    2.1    3.8    2.1    2.5  \n",
       "\n",
       "[45 rows x 53 columns]"
      ]
     },
     "execution_count": 64,
     "metadata": {},
     "output_type": "execute_result"
    }
   ],
   "source": [
    "ipc_indec"
   ]
  },
  {
   "cell_type": "code",
   "execution_count": 65,
   "metadata": {
    "executionInfo": {
     "elapsed": 20,
     "status": "ok",
     "timestamp": 1624736418532,
     "user": {
      "displayName": "Federico Catalano",
      "photoUrl": "",
      "userId": "05639651212963955278"
     },
     "user_tz": 180
    },
    "id": "Fun-4EPqkBkz"
   },
   "outputs": [],
   "source": [
    "# almacenamos nuestro resultado en una serie de tuplas\n",
    "resultado = gba_ordenado.apply(lambda x: deflactar_serie(x.period, \n",
    "                                                         x.price,\n",
    "                                                         '2020-3', # mes base \n",
    "                                                         ipc_indec, \n",
    "                                                         'Nivel general'), \n",
    "                               axis=1)"
   ]
  },
  {
   "cell_type": "code",
   "execution_count": 66,
   "metadata": {
    "colab": {
     "base_uri": "https://localhost:8080/"
    },
    "executionInfo": {
     "elapsed": 19,
     "status": "ok",
     "timestamp": 1624736418532,
     "user": {
      "displayName": "Federico Catalano",
      "photoUrl": "",
      "userId": "05639651212963955278"
     },
     "user_tz": 180
    },
    "id": "8poCpXHiFDYm",
    "outputId": "086367db-8af7-4e32-c9bf-a1024568ce67"
   },
   "outputs": [
    {
     "data": {
      "text/plain": [
       "0     (2020-3, 24093.551779935275, 1.0, 3.6, 3.6, 24...\n",
       "1     (2020-4, 22065.433749496577, 0.388888888888888...\n",
       "2     (2020-5, 24948.104435219575, 0.416666666666666...\n",
       "3     (2020-6, 26400.37637521714, 0.5555555555555556...\n",
       "4     (2020-7, 28293.42228335626, 0.4444444444444445...\n",
       "5     (2020-8, 29183.892293744335, 0.777777777777777...\n",
       "6     (2020-9, 31377.165832870112, 0.777777777777777...\n",
       "7     (2020-10, 33048.74170755643, 1.0, 3.6, 3.6, 33...\n",
       "8     (2020-11, 39829.29230769231, 0.833333333333333...\n",
       "9     (2020-12, 34224.7983135825, 1.027777777777778,...\n",
       "10    (2021-1, 35634.759234653204, 0.916666666666666...\n",
       "11    (2021-2, 37921.22598073761, 1.0, 3.6, 3.6, 379...\n",
       "12    (2021-3, 42393.289300511824, 1.444444444444444...\n",
       "dtype: object"
      ]
     },
     "execution_count": 66,
     "metadata": {},
     "output_type": "execute_result"
    }
   ],
   "source": [
    "resultado"
   ]
  },
  {
   "cell_type": "code",
   "execution_count": 67,
   "metadata": {
    "executionInfo": {
     "elapsed": 14,
     "status": "ok",
     "timestamp": 1624736418533,
     "user": {
      "displayName": "Federico Catalano",
      "photoUrl": "",
      "userId": "05639651212963955278"
     },
     "user_tz": 180
    },
    "id": "5v59IzhlkBpW"
   },
   "outputs": [],
   "source": [
    "# guardamos el resultado\n",
    "serie_ajustada = resultado.apply(pd.Series)\n",
    "\n",
    "# renombramos las columnas\n",
    "columnas = ['periodo', 'precio_nom', 'coeficiente', 'ipc_base', 'ipc_per', 'precio_con']\n",
    "serie_ajustada.columns = columnas"
   ]
  },
  {
   "cell_type": "code",
   "execution_count": 68,
   "metadata": {
    "colab": {
     "base_uri": "https://localhost:8080/",
     "height": 457
    },
    "executionInfo": {
     "elapsed": 13,
     "status": "ok",
     "timestamp": 1624736418533,
     "user": {
      "displayName": "Federico Catalano",
      "photoUrl": "",
      "userId": "05639651212963955278"
     },
     "user_tz": 180
    },
    "id": "x0iQ3eqJyhhI",
    "outputId": "40d0865a-dc21-49a7-a65c-5b295682c9b9"
   },
   "outputs": [
    {
     "data": {
      "text/html": [
       "<div>\n",
       "<style scoped>\n",
       "    .dataframe tbody tr th:only-of-type {\n",
       "        vertical-align: middle;\n",
       "    }\n",
       "\n",
       "    .dataframe tbody tr th {\n",
       "        vertical-align: top;\n",
       "    }\n",
       "\n",
       "    .dataframe thead th {\n",
       "        text-align: right;\n",
       "    }\n",
       "</style>\n",
       "<table border=\"1\" class=\"dataframe\">\n",
       "  <thead>\n",
       "    <tr style=\"text-align: right;\">\n",
       "      <th></th>\n",
       "      <th>periodo</th>\n",
       "      <th>precio_nom</th>\n",
       "      <th>coeficiente</th>\n",
       "      <th>ipc_base</th>\n",
       "      <th>ipc_per</th>\n",
       "      <th>precio_con</th>\n",
       "    </tr>\n",
       "  </thead>\n",
       "  <tbody>\n",
       "    <tr>\n",
       "      <th>0</th>\n",
       "      <td>2020-3</td>\n",
       "      <td>24093.551780</td>\n",
       "      <td>1.000000</td>\n",
       "      <td>3.6</td>\n",
       "      <td>3.6</td>\n",
       "      <td>24093.551780</td>\n",
       "    </tr>\n",
       "    <tr>\n",
       "      <th>1</th>\n",
       "      <td>2020-4</td>\n",
       "      <td>22065.433749</td>\n",
       "      <td>0.388889</td>\n",
       "      <td>3.6</td>\n",
       "      <td>1.4</td>\n",
       "      <td>56739.686784</td>\n",
       "    </tr>\n",
       "    <tr>\n",
       "      <th>2</th>\n",
       "      <td>2020-5</td>\n",
       "      <td>24948.104435</td>\n",
       "      <td>0.416667</td>\n",
       "      <td>3.6</td>\n",
       "      <td>1.5</td>\n",
       "      <td>59875.450645</td>\n",
       "    </tr>\n",
       "    <tr>\n",
       "      <th>3</th>\n",
       "      <td>2020-6</td>\n",
       "      <td>26400.376375</td>\n",
       "      <td>0.555556</td>\n",
       "      <td>3.6</td>\n",
       "      <td>2.0</td>\n",
       "      <td>47520.677475</td>\n",
       "    </tr>\n",
       "    <tr>\n",
       "      <th>4</th>\n",
       "      <td>2020-7</td>\n",
       "      <td>28293.422283</td>\n",
       "      <td>0.444444</td>\n",
       "      <td>3.6</td>\n",
       "      <td>1.6</td>\n",
       "      <td>63660.200138</td>\n",
       "    </tr>\n",
       "    <tr>\n",
       "      <th>5</th>\n",
       "      <td>2020-8</td>\n",
       "      <td>29183.892294</td>\n",
       "      <td>0.777778</td>\n",
       "      <td>3.6</td>\n",
       "      <td>2.8</td>\n",
       "      <td>37522.147235</td>\n",
       "    </tr>\n",
       "    <tr>\n",
       "      <th>6</th>\n",
       "      <td>2020-9</td>\n",
       "      <td>31377.165833</td>\n",
       "      <td>0.777778</td>\n",
       "      <td>3.6</td>\n",
       "      <td>2.8</td>\n",
       "      <td>40342.070357</td>\n",
       "    </tr>\n",
       "    <tr>\n",
       "      <th>7</th>\n",
       "      <td>2020-10</td>\n",
       "      <td>33048.741708</td>\n",
       "      <td>1.000000</td>\n",
       "      <td>3.6</td>\n",
       "      <td>3.6</td>\n",
       "      <td>33048.741708</td>\n",
       "    </tr>\n",
       "    <tr>\n",
       "      <th>8</th>\n",
       "      <td>2020-11</td>\n",
       "      <td>39829.292308</td>\n",
       "      <td>0.833333</td>\n",
       "      <td>3.6</td>\n",
       "      <td>3.0</td>\n",
       "      <td>47795.150769</td>\n",
       "    </tr>\n",
       "    <tr>\n",
       "      <th>9</th>\n",
       "      <td>2020-12</td>\n",
       "      <td>34224.798314</td>\n",
       "      <td>1.027778</td>\n",
       "      <td>3.6</td>\n",
       "      <td>3.7</td>\n",
       "      <td>33299.803765</td>\n",
       "    </tr>\n",
       "    <tr>\n",
       "      <th>10</th>\n",
       "      <td>2021-1</td>\n",
       "      <td>35634.759235</td>\n",
       "      <td>0.916667</td>\n",
       "      <td>3.6</td>\n",
       "      <td>3.3</td>\n",
       "      <td>38874.282801</td>\n",
       "    </tr>\n",
       "    <tr>\n",
       "      <th>11</th>\n",
       "      <td>2021-2</td>\n",
       "      <td>37921.225981</td>\n",
       "      <td>1.000000</td>\n",
       "      <td>3.6</td>\n",
       "      <td>3.6</td>\n",
       "      <td>37921.225981</td>\n",
       "    </tr>\n",
       "    <tr>\n",
       "      <th>12</th>\n",
       "      <td>2021-3</td>\n",
       "      <td>42393.289301</td>\n",
       "      <td>1.444444</td>\n",
       "      <td>3.6</td>\n",
       "      <td>5.2</td>\n",
       "      <td>29349.200285</td>\n",
       "    </tr>\n",
       "  </tbody>\n",
       "</table>\n",
       "</div>"
      ],
      "text/plain": [
       "    periodo    precio_nom  coeficiente  ipc_base  ipc_per    precio_con\n",
       "0    2020-3  24093.551780     1.000000       3.6      3.6  24093.551780\n",
       "1    2020-4  22065.433749     0.388889       3.6      1.4  56739.686784\n",
       "2    2020-5  24948.104435     0.416667       3.6      1.5  59875.450645\n",
       "3    2020-6  26400.376375     0.555556       3.6      2.0  47520.677475\n",
       "4    2020-7  28293.422283     0.444444       3.6      1.6  63660.200138\n",
       "5    2020-8  29183.892294     0.777778       3.6      2.8  37522.147235\n",
       "6    2020-9  31377.165833     0.777778       3.6      2.8  40342.070357\n",
       "7   2020-10  33048.741708     1.000000       3.6      3.6  33048.741708\n",
       "8   2020-11  39829.292308     0.833333       3.6      3.0  47795.150769\n",
       "9   2020-12  34224.798314     1.027778       3.6      3.7  33299.803765\n",
       "10   2021-1  35634.759235     0.916667       3.6      3.3  38874.282801\n",
       "11   2021-2  37921.225981     1.000000       3.6      3.6  37921.225981\n",
       "12   2021-3  42393.289301     1.444444       3.6      5.2  29349.200285"
      ]
     },
     "execution_count": 68,
     "metadata": {},
     "output_type": "execute_result"
    }
   ],
   "source": [
    "serie_ajustada"
   ]
  },
  {
   "cell_type": "code",
   "execution_count": 69,
   "metadata": {
    "executionInfo": {
     "elapsed": 13,
     "status": "ok",
     "timestamp": 1624736418534,
     "user": {
      "displayName": "Federico Catalano",
      "photoUrl": "",
      "userId": "05639651212963955278"
     },
     "user_tz": 180
    },
    "id": "PwqqpTqyyW9r"
   },
   "outputs": [],
   "source": [
    "from matplotlib import pyplot as plt # importan la clase pyplot de matplotlib"
   ]
  },
  {
   "cell_type": "code",
   "execution_count": 70,
   "metadata": {
    "colab": {
     "base_uri": "https://localhost:8080/",
     "height": 279
    },
    "executionInfo": {
     "elapsed": 12,
     "status": "ok",
     "timestamp": 1624736418534,
     "user": {
      "displayName": "Federico Catalano",
      "photoUrl": "",
      "userId": "05639651212963955278"
     },
     "user_tz": 180
    },
    "id": "YKudJcez0K-F",
    "outputId": "9d63df51-8e1d-42ea-8964-8a70ca73a308"
   },
   "outputs": [
    {
     "data": {
      "image/png": "[encoded data removed]",
      "text/plain": [
       "<Figure size 432x288 with 1 Axes>"
      ]
     },
     "metadata": {
      "needs_background": "light"
     },
     "output_type": "display_data"
    }
   ],
   "source": [
    "# ahora, creemos una figura (este tema lo van a retomar en la clase de visualizacion!)\n",
    "fig, ax = plt.subplots()\n",
    "serie_ajustada.iloc[1:].set_index('periodo')['precio_nom'].plot(kind='line', grid=True, color='r')\n",
    "serie_ajustada.iloc[1:].set_index('periodo')['precio_con'].plot(kind='line', grid=True, color='b');"
   ]
  },
  {
   "cell_type": "markdown",
   "metadata": {
    "id": "FJ6pw3r52R7q"
   },
   "source": [
    "La evolución del precio promedio para departamentos en alquiler de la Región GBA. En azul, los precios en base a marzo de 2020 (pesos de ese mes/año). En azul, los precios nominales."
   ]
  },
  {
   "cell_type": "code",
   "execution_count": 71,
   "metadata": {
    "executionInfo": {
     "elapsed": 11,
     "status": "ok",
     "timestamp": 1624736418534,
     "user": {
      "displayName": "Federico Catalano",
      "photoUrl": "",
      "userId": "05639651212963955278"
     },
     "user_tz": 180
    },
    "id": "aIwemLggJgYt"
   },
   "outputs": [],
   "source": [
    "# creamos algunas series para ver cuánto variaron de año a año en términos porcentuales\n",
    "serie_ajustada['pct_nom']=serie_ajustada['precio_nom'].pct_change() * 100\n",
    "serie_ajustada['pct_con']=serie_ajustada['precio_con'].pct_change() * 100\n",
    "serie_ajustada['pct_ipc']=serie_ajustada['ipc_per'].pct_change() * 100"
   ]
  },
  {
   "cell_type": "code",
   "execution_count": 72,
   "metadata": {
    "colab": {
     "base_uri": "https://localhost:8080/",
     "height": 279
    },
    "executionInfo": {
     "elapsed": 1048,
     "status": "ok",
     "timestamp": 1624736419571,
     "user": {
      "displayName": "Federico Catalano",
      "photoUrl": "",
      "userId": "05639651212963955278"
     },
     "user_tz": 180
    },
    "id": "aGymCDUJJgg2",
    "outputId": "60525212-4305-4fa1-8178-ec10ce562161"
   },
   "outputs": [
    {
     "data": {
      "image/png": "[encoded data removed]",
      "text/plain": [
       "<Figure size 432x288 with 1 Axes>"
      ]
     },
     "metadata": {
      "needs_background": "light"
     },
     "output_type": "display_data"
    }
   ],
   "source": [
    "# y ploteamos!\n",
    "fig, ax = plt.subplots()\n",
    "serie_ajustada.iloc[0:].set_index('periodo')['pct_nom'].plot(kind='line', grid=True, color='r',ax=ax)\n",
    "serie_ajustada.iloc[0:].set_index('periodo')['pct_con'].plot(kind='line', grid=True, color='b', ax=ax);"
   ]
  },
  {
   "cell_type": "markdown",
   "metadata": {
    "id": "Tfo1zUVB11Yx"
   },
   "source": [
    "Vemos algunas cosas acá. Ahora bien, es correcto ajustar asi?, considerando sólo el coportamiento de los precios y no de los ingresos? sobretodo si vemos cómo funciona nuestro índice a lo largo del tiempo ..."
   ]
  },
  {
   "cell_type": "code",
   "execution_count": 73,
   "metadata": {
    "colab": {
     "base_uri": "https://localhost:8080/",
     "height": 281
    },
    "executionInfo": {
     "elapsed": 19,
     "status": "ok",
     "timestamp": 1624736419573,
     "user": {
      "displayName": "Federico Catalano",
      "photoUrl": "",
      "userId": "05639651212963955278"
     },
     "user_tz": 180
    },
    "id": "PyXQb4aaPMmx",
    "outputId": "24887d23-c34e-4bb2-8c51-e4d39511711b"
   },
   "outputs": [
    {
     "data": {
      "image/png": "[encoded data removed]",
      "text/plain": [
       "<Figure size 432x288 with 1 Axes>"
      ]
     },
     "metadata": {
      "needs_background": "light"
     },
     "output_type": "display_data"
    }
   ],
   "source": [
    "serie_ajustada.iloc[0:].set_index('periodo')['pct_ipc'].plot(kind='line', grid=True, color='g');"
   ]
  },
  {
   "cell_type": "markdown",
   "metadata": {
    "id": "WnOzVAYw4Mmq"
   },
   "source": [
    "#### El ICL - BCRA"
   ]
  },
  {
   "cell_type": "markdown",
   "metadata": {
    "id": "Yog7J04wHCJa"
   },
   "source": [
    "Ahora bien, el índice que estamos usando solamente contempla el impacto de los precios (la variacion de los bienes ofertados). Como que nos falta algo para poder ajustar y que el grafico tenga mas sentido.\n",
    "\n",
    "Para tener un análisis un poco más completo, deberíamos incluir de alguna manera cómo evolucionó también el poder de compra o pago de los salarios. \n",
    "\n",
    "Un muy buen atajo podría ser, en lugar construir una serie de ingresos y combinar con el IPC, utilizar el ICL. El índice de Contratos de Locación.\n",
    "\n",
    "[Desde agosto de 2020, con la sanción de la Nueva Ley de Alquileres](https://www.argentina.gob.ar/noticias/el-bcra-oficializo-el-metodo-para-calcular-el-ajuste-anual-de-los-alquileres), los contratos de alquiler de los inmuebles destinados a uso habitacional se ajustan anualmente. El indice para hacerlo es el ICL, que podemos indagar en la web del [BCRA](http://bcra.gob.ar/PublicacionesEstadisticas/Principales_variables.asp)"
   ]
  },
  {
   "cell_type": "code",
   "execution_count": 74,
   "metadata": {
    "executionInfo": {
     "elapsed": 833,
     "status": "ok",
     "timestamp": 1624736420391,
     "user": {
      "displayName": "Federico Catalano",
      "photoUrl": "",
      "userId": "05639651212963955278"
     },
     "user_tz": 180
    },
    "id": "V7oV9tuZxuNY"
   },
   "outputs": [],
   "source": [
    "icl_bcra = pd.read_excel('https://storage.googleapis.com/python_mdg/data_cursos/indice_contratos_locacion.xls')"
   ]
  },
  {
   "cell_type": "code",
   "execution_count": 75,
   "metadata": {
    "executionInfo": {
     "elapsed": 54,
     "status": "ok",
     "timestamp": 1624736420391,
     "user": {
      "displayName": "Federico Catalano",
      "photoUrl": "",
      "userId": "05639651212963955278"
     },
     "user_tz": 180
    },
    "id": "ee0I_8zFxuSA"
   },
   "outputs": [],
   "source": [
    "icl_bcra['Mes'] = icl_bcra.Fecha.apply(lambda x: x.split('/')[2] + '-' + x.split('/')[1]) "
   ]
  },
  {
   "cell_type": "code",
   "execution_count": 76,
   "metadata": {
    "executionInfo": {
     "elapsed": 52,
     "status": "ok",
     "timestamp": 1624736420392,
     "user": {
      "displayName": "Federico Catalano",
      "photoUrl": "",
      "userId": "05639651212963955278"
     },
     "user_tz": 180
    },
    "id": "UPcJPnzmxuZ1"
   },
   "outputs": [],
   "source": [
    "# reemplazamos las comas y convertimos nuestro valores en float\n",
    "icl_bcra['Valor'] = icl_bcra['Valor'].str.replace(',', '.', regex=False)\n",
    "icl_bcra['Valor'] = icl_bcra.Valor.apply(lambda x: float(x))"
   ]
  },
  {
   "cell_type": "code",
   "execution_count": 77,
   "metadata": {
    "executionInfo": {
     "elapsed": 50,
     "status": "ok",
     "timestamp": 1624736420392,
     "user": {
      "displayName": "Federico Catalano",
      "photoUrl": "",
      "userId": "05639651212963955278"
     },
     "user_tz": 180
    },
    "id": "bMHhMwZ7xudo"
   },
   "outputs": [],
   "source": [
    "icl_bcra = icl_bcra.drop_duplicates(subset='Mes', keep='last')"
   ]
  },
  {
   "cell_type": "code",
   "execution_count": 78,
   "metadata": {
    "executionInfo": {
     "elapsed": 48,
     "status": "ok",
     "timestamp": 1624736420392,
     "user": {
      "displayName": "Federico Catalano",
      "photoUrl": "",
      "userId": "05639651212963955278"
     },
     "user_tz": 180
    },
    "id": "mF81Uc-4xuiK"
   },
   "outputs": [],
   "source": [
    "icl_bcra = icl_bcra[['Valor','Mes']].set_index('Mes')"
   ]
  },
  {
   "cell_type": "code",
   "execution_count": 79,
   "metadata": {
    "executionInfo": {
     "elapsed": 48,
     "status": "ok",
     "timestamp": 1624736420393,
     "user": {
      "displayName": "Federico Catalano",
      "photoUrl": "",
      "userId": "05639651212963955278"
     },
     "user_tz": 180
    },
    "id": "_-AOnJ0Axulx"
   },
   "outputs": [],
   "source": [
    "# renombramos nuestro indice, para que matchee con nuestra serie de valores\n",
    "icl_bcra.index = icl_bcra.index.str.replace('-0', '-', regex=False)"
   ]
  },
  {
   "cell_type": "code",
   "execution_count": 80,
   "metadata": {
    "colab": {
     "base_uri": "https://localhost:8080/"
    },
    "executionInfo": {
     "elapsed": 46,
     "status": "ok",
     "timestamp": 1624736420393,
     "user": {
      "displayName": "Federico Catalano",
      "photoUrl": "",
      "userId": "05639651212963955278"
     },
     "user_tz": 180
    },
    "id": "-TCN1sf69B2l",
    "outputId": "4d84d503-468b-48f7-fca1-9a974f00f7ef"
   },
   "outputs": [
    {
     "data": {
      "text/plain": [
       "Mes\n",
       "2020-7     1.01\n",
       "2020-8     1.02\n",
       "2020-9     1.05\n",
       "2020-10    1.07\n",
       "2020-11    1.09\n",
       "2020-12    1.13\n",
       "2021-1     1.16\n",
       "2021-2     1.19\n",
       "2021-3     1.21\n",
       "Name: Valor, dtype: float64"
      ]
     },
     "execution_count": 80,
     "metadata": {},
     "output_type": "execute_result"
    }
   ],
   "source": [
    "# asi tenemos que pasar el indice\n",
    "icl_bcra['Valor']"
   ]
  },
  {
   "cell_type": "code",
   "execution_count": 81,
   "metadata": {
    "executionInfo": {
     "elapsed": 40,
     "status": "ok",
     "timestamp": 1624736420394,
     "user": {
      "displayName": "Federico Catalano",
      "photoUrl": "",
      "userId": "05639651212963955278"
     },
     "user_tz": 180
    },
    "id": "WfeKZjOtxupB"
   },
   "outputs": [],
   "source": [
    "# como nuestro indice empieza en julio, recortamos nuestra serie nominal desde ahi\n",
    "gba_ordenado_ = gba_ordenado.set_index('period').loc['2020-7':].reset_index()\n",
    "resultado = gba_ordenado_.apply(lambda x: deflactar_serie(x.period, \n",
    "                                                         x.price,\n",
    "                                                         '2020-7', # mes base \n",
    "                                                         icl_bcra.Valor, \n",
    "                                                         'Nivel general',\n",
    "                                                         ipc_indec=False), \n",
    "                                axis=1)"
   ]
  },
  {
   "cell_type": "code",
   "execution_count": 82,
   "metadata": {
    "executionInfo": {
     "elapsed": 39,
     "status": "ok",
     "timestamp": 1624736420394,
     "user": {
      "displayName": "Federico Catalano",
      "photoUrl": "",
      "userId": "05639651212963955278"
     },
     "user_tz": 180
    },
    "id": "L5M345sUxusW"
   },
   "outputs": [],
   "source": [
    "# hacemos las mismas transformaciones que hicimos antes para acomodar las tuplas\n",
    "serie_ajustada = resultado.apply(pd.Series)\n",
    "columnas = ['periodo', 'precio_nom', 'coeficiente', 'ipc_base', 'ipc_per', 'precio_con']\n",
    "serie_ajustada.columns = columnas"
   ]
  },
  {
   "cell_type": "code",
   "execution_count": 83,
   "metadata": {
    "colab": {
     "base_uri": "https://localhost:8080/",
     "height": 331
    },
    "executionInfo": {
     "elapsed": 39,
     "status": "ok",
     "timestamp": 1624736420396,
     "user": {
      "displayName": "Federico Catalano",
      "photoUrl": "",
      "userId": "05639651212963955278"
     },
     "user_tz": 180
    },
    "id": "oFjUkhIC9fdw",
    "outputId": "cf141a39-9946-4334-8718-628920286e03"
   },
   "outputs": [
    {
     "data": {
      "text/html": [
       "<div>\n",
       "<style scoped>\n",
       "    .dataframe tbody tr th:only-of-type {\n",
       "        vertical-align: middle;\n",
       "    }\n",
       "\n",
       "    .dataframe tbody tr th {\n",
       "        vertical-align: top;\n",
       "    }\n",
       "\n",
       "    .dataframe thead th {\n",
       "        text-align: right;\n",
       "    }\n",
       "</style>\n",
       "<table border=\"1\" class=\"dataframe\">\n",
       "  <thead>\n",
       "    <tr style=\"text-align: right;\">\n",
       "      <th></th>\n",
       "      <th>periodo</th>\n",
       "      <th>precio_nom</th>\n",
       "      <th>coeficiente</th>\n",
       "      <th>ipc_base</th>\n",
       "      <th>ipc_per</th>\n",
       "      <th>precio_con</th>\n",
       "    </tr>\n",
       "  </thead>\n",
       "  <tbody>\n",
       "    <tr>\n",
       "      <th>0</th>\n",
       "      <td>2020-7</td>\n",
       "      <td>28293.422283</td>\n",
       "      <td>1.000000</td>\n",
       "      <td>1.01</td>\n",
       "      <td>1.01</td>\n",
       "      <td>28293.422283</td>\n",
       "    </tr>\n",
       "    <tr>\n",
       "      <th>1</th>\n",
       "      <td>2020-8</td>\n",
       "      <td>29183.892294</td>\n",
       "      <td>1.009901</td>\n",
       "      <td>1.01</td>\n",
       "      <td>1.02</td>\n",
       "      <td>28897.775703</td>\n",
       "    </tr>\n",
       "    <tr>\n",
       "      <th>2</th>\n",
       "      <td>2020-9</td>\n",
       "      <td>31377.165833</td>\n",
       "      <td>1.039604</td>\n",
       "      <td>1.01</td>\n",
       "      <td>1.05</td>\n",
       "      <td>30181.845230</td>\n",
       "    </tr>\n",
       "    <tr>\n",
       "      <th>3</th>\n",
       "      <td>2020-10</td>\n",
       "      <td>33048.741708</td>\n",
       "      <td>1.059406</td>\n",
       "      <td>1.01</td>\n",
       "      <td>1.07</td>\n",
       "      <td>31195.541238</td>\n",
       "    </tr>\n",
       "    <tr>\n",
       "      <th>4</th>\n",
       "      <td>2020-11</td>\n",
       "      <td>39829.292308</td>\n",
       "      <td>1.079208</td>\n",
       "      <td>1.01</td>\n",
       "      <td>1.09</td>\n",
       "      <td>36906.041496</td>\n",
       "    </tr>\n",
       "    <tr>\n",
       "      <th>5</th>\n",
       "      <td>2020-12</td>\n",
       "      <td>34224.798314</td>\n",
       "      <td>1.118812</td>\n",
       "      <td>1.01</td>\n",
       "      <td>1.13</td>\n",
       "      <td>30590.306457</td>\n",
       "    </tr>\n",
       "    <tr>\n",
       "      <th>6</th>\n",
       "      <td>2021-1</td>\n",
       "      <td>35634.759235</td>\n",
       "      <td>1.148515</td>\n",
       "      <td>1.01</td>\n",
       "      <td>1.16</td>\n",
       "      <td>31026.816230</td>\n",
       "    </tr>\n",
       "    <tr>\n",
       "      <th>7</th>\n",
       "      <td>2021-2</td>\n",
       "      <td>37921.225981</td>\n",
       "      <td>1.178218</td>\n",
       "      <td>1.01</td>\n",
       "      <td>1.19</td>\n",
       "      <td>32185.242219</td>\n",
       "    </tr>\n",
       "    <tr>\n",
       "      <th>8</th>\n",
       "      <td>2021-3</td>\n",
       "      <td>42393.289301</td>\n",
       "      <td>1.198020</td>\n",
       "      <td>1.01</td>\n",
       "      <td>1.21</td>\n",
       "      <td>35386.134044</td>\n",
       "    </tr>\n",
       "  </tbody>\n",
       "</table>\n",
       "</div>"
      ],
      "text/plain": [
       "   periodo    precio_nom  coeficiente  ipc_base  ipc_per    precio_con\n",
       "0   2020-7  28293.422283     1.000000      1.01     1.01  28293.422283\n",
       "1   2020-8  29183.892294     1.009901      1.01     1.02  28897.775703\n",
       "2   2020-9  31377.165833     1.039604      1.01     1.05  30181.845230\n",
       "3  2020-10  33048.741708     1.059406      1.01     1.07  31195.541238\n",
       "4  2020-11  39829.292308     1.079208      1.01     1.09  36906.041496\n",
       "5  2020-12  34224.798314     1.118812      1.01     1.13  30590.306457\n",
       "6   2021-1  35634.759235     1.148515      1.01     1.16  31026.816230\n",
       "7   2021-2  37921.225981     1.178218      1.01     1.19  32185.242219\n",
       "8   2021-3  42393.289301     1.198020      1.01     1.21  35386.134044"
      ]
     },
     "execution_count": 83,
     "metadata": {},
     "output_type": "execute_result"
    }
   ],
   "source": [
    "# el idice es mucho menos brusco que el anterior\n",
    "serie_ajustada"
   ]
  },
  {
   "cell_type": "code",
   "execution_count": 84,
   "metadata": {
    "colab": {
     "base_uri": "https://localhost:8080/",
     "height": 279
    },
    "executionInfo": {
     "elapsed": 36,
     "status": "ok",
     "timestamp": 1624736420397,
     "user": {
      "displayName": "Federico Catalano",
      "photoUrl": "",
      "userId": "05639651212963955278"
     },
     "user_tz": 180
    },
    "id": "2IGl-uIs49bb",
    "outputId": "8f2af941-f9d3-4af2-d4c8-202f547ab044"
   },
   "outputs": [
    {
     "data": {
      "image/png": "[encoded data removed]",
      "text/plain": [
       "<Figure size 432x288 with 1 Axes>"
      ]
     },
     "metadata": {
      "needs_background": "light"
     },
     "output_type": "display_data"
    }
   ],
   "source": [
    "fig, ax = plt.subplots()\n",
    "serie_ajustada.set_index('periodo')['precio_nom'].plot(kind='line', grid=True, color='r');\n",
    "serie_ajustada.set_index('periodo')['precio_con'].plot(kind='line', grid=True, color='b');"
   ]
  },
  {
   "cell_type": "markdown",
   "metadata": {
    "id": "3fK_aRem5dFs"
   },
   "source": [
    "Ahora si, nuestros precios deflactados. Se puede apreciar que la serie ajustada por ICL es más suave que la nominal."
   ]
  },
  {
   "cell_type": "code",
   "execution_count": 85,
   "metadata": {
    "executionInfo": {
     "elapsed": 32,
     "status": "ok",
     "timestamp": 1624736420397,
     "user": {
      "displayName": "Federico Catalano",
      "photoUrl": "",
      "userId": "05639651212963955278"
     },
     "user_tz": 180
    },
    "id": "6_eWkzDp9fo-"
   },
   "outputs": [],
   "source": [
    "serie_ajustada['pct_nom']=serie_ajustada['precio_nom'].pct_change() * 100\n",
    "serie_ajustada['pct_con']=serie_ajustada['precio_con'].pct_change() * 100\n",
    "serie_ajustada['pct_ipc']=serie_ajustada['ipc_per'].pct_change() * 100"
   ]
  },
  {
   "cell_type": "code",
   "execution_count": 86,
   "metadata": {
    "colab": {
     "base_uri": "https://localhost:8080/",
     "height": 279
    },
    "executionInfo": {
     "elapsed": 31,
     "status": "ok",
     "timestamp": 1624736420397,
     "user": {
      "displayName": "Federico Catalano",
      "photoUrl": "",
      "userId": "05639651212963955278"
     },
     "user_tz": 180
    },
    "id": "jy8J4NS0Ix7i",
    "outputId": "94b24825-30f8-4495-b938-85c4ab23019b"
   },
   "outputs": [
    {
     "data": {
      "image/png": "[encoded data removed]",
      "text/plain": [
       "<Figure size 432x288 with 1 Axes>"
      ]
     },
     "metadata": {
      "needs_background": "light"
     },
     "output_type": "display_data"
    }
   ],
   "source": [
    "fig, ax = plt.subplots()\n",
    "serie_ajustada.set_index('periodo')['pct_nom'].plot(kind='line', grid=True, color='r',ax=ax)\n",
    "serie_ajustada.set_index('periodo')['pct_con'].plot(kind='line', grid=True, color='b', ax=ax)\n",
    "serie_ajustada.set_index('periodo')['pct_ipc'].plot(kind='line', grid=True, color='g', ax=ax);"
   ]
  },
  {
   "cell_type": "markdown",
   "metadata": {
    "id": "12VbHikH5_YL"
   },
   "source": [
    "Confirmamos lo anterior, el cambio porcentual de los precios constantes fue un poco más bajo que el nominal. En verde, se aprecia cómo el ICL es mucho más suave que el IPC."
   ]
  },
  {
   "cell_type": "markdown",
   "metadata": {
    "id": "Ozk3ZpQV6sOP"
   },
   "source": [
    "## Ejercicio sugerido (con solución)"
   ]
  },
  {
   "cell_type": "markdown",
   "metadata": {
    "id": "aekRM8wZ6sXS"
   },
   "source": [
    "> 1. **Armar con una tabla pivot el precio promedio por período para las distintas jurisdicciones que contemplamos para GBA.**"
   ]
  },
  {
   "cell_type": "code",
   "execution_count": 87,
   "metadata": {
    "executionInfo": {
     "elapsed": 29,
     "status": "ok",
     "timestamp": 1624736420399,
     "user": {
      "displayName": "Federico Catalano",
      "photoUrl": "",
      "userId": "05639651212963955278"
     },
     "user_tz": 180
    },
    "id": "ZGYQTh_56sdp"
   },
   "outputs": [],
   "source": [
    "# con una tabla pivot podemos obtener los promedios para todas las jurisdicciones\n",
    "alquileres_gba_region = pd.pivot_table(alquileres_gba,\n",
    "                                       values=\"price\",\n",
    "                                       index=alquileres_gba['etiqueta_fecha'],\n",
    "                                       columns=alquileres_gba['l2'], # la jurisdiccion! \n",
    "                                       aggfunc = 'mean',fill_value=0)"
   ]
  },
  {
   "cell_type": "code",
   "execution_count": 88,
   "metadata": {
    "colab": {
     "base_uri": "https://localhost:8080/",
     "height": 237
    },
    "executionInfo": {
     "elapsed": 28,
     "status": "ok",
     "timestamp": 1624736420399,
     "user": {
      "displayName": "Federico Catalano",
      "photoUrl": "",
      "userId": "05639651212963955278"
     },
     "user_tz": 180
    },
    "id": "c_SoiIKCrNQg",
    "outputId": "5c6d9593-7cd2-4523-ebf8-38e585b97a6d"
   },
   "outputs": [
    {
     "data": {
      "text/html": [
       "<div>\n",
       "<style scoped>\n",
       "    .dataframe tbody tr th:only-of-type {\n",
       "        vertical-align: middle;\n",
       "    }\n",
       "\n",
       "    .dataframe tbody tr th {\n",
       "        vertical-align: top;\n",
       "    }\n",
       "\n",
       "    .dataframe thead th {\n",
       "        text-align: right;\n",
       "    }\n",
       "</style>\n",
       "<table border=\"1\" class=\"dataframe\">\n",
       "  <thead>\n",
       "    <tr style=\"text-align: right;\">\n",
       "      <th>l2</th>\n",
       "      <th>Bs.As. G.B.A. Zona Norte</th>\n",
       "      <th>Bs.As. G.B.A. Zona Oeste</th>\n",
       "      <th>Bs.As. G.B.A. Zona Sur</th>\n",
       "      <th>Capital Federal</th>\n",
       "    </tr>\n",
       "    <tr>\n",
       "      <th>etiqueta_fecha</th>\n",
       "      <th></th>\n",
       "      <th></th>\n",
       "      <th></th>\n",
       "      <th></th>\n",
       "    </tr>\n",
       "  </thead>\n",
       "  <tbody>\n",
       "    <tr>\n",
       "      <th>2020-10</th>\n",
       "      <td>30335.921053</td>\n",
       "      <td>17756.920078</td>\n",
       "      <td>30550.673121</td>\n",
       "      <td>37158.711957</td>\n",
       "    </tr>\n",
       "    <tr>\n",
       "      <th>2020-11</th>\n",
       "      <td>50792.023634</td>\n",
       "      <td>19130.585683</td>\n",
       "      <td>29361.546061</td>\n",
       "      <td>43569.689072</td>\n",
       "    </tr>\n",
       "    <tr>\n",
       "      <th>2020-12</th>\n",
       "      <td>38565.781250</td>\n",
       "      <td>19287.587822</td>\n",
       "      <td>26448.226721</td>\n",
       "      <td>37853.635271</td>\n",
       "    </tr>\n",
       "    <tr>\n",
       "      <th>2020-3</th>\n",
       "      <td>24255.468750</td>\n",
       "      <td>13359.649123</td>\n",
       "      <td>14513.513514</td>\n",
       "      <td>28505.406844</td>\n",
       "    </tr>\n",
       "    <tr>\n",
       "      <th>2020-4</th>\n",
       "      <td>27967.733990</td>\n",
       "      <td>12275.172414</td>\n",
       "      <td>14647.167868</td>\n",
       "      <td>31435.504902</td>\n",
       "    </tr>\n",
       "  </tbody>\n",
       "</table>\n",
       "</div>"
      ],
      "text/plain": [
       "l2              Bs.As. G.B.A. Zona Norte  Bs.As. G.B.A. Zona Oeste  \\\n",
       "etiqueta_fecha                                                       \n",
       "2020-10                     30335.921053              17756.920078   \n",
       "2020-11                     50792.023634              19130.585683   \n",
       "2020-12                     38565.781250              19287.587822   \n",
       "2020-3                      24255.468750              13359.649123   \n",
       "2020-4                      27967.733990              12275.172414   \n",
       "\n",
       "l2              Bs.As. G.B.A. Zona Sur  Capital Federal  \n",
       "etiqueta_fecha                                           \n",
       "2020-10                   30550.673121     37158.711957  \n",
       "2020-11                   29361.546061     43569.689072  \n",
       "2020-12                   26448.226721     37853.635271  \n",
       "2020-3                    14513.513514     28505.406844  \n",
       "2020-4                    14647.167868     31435.504902  "
      ]
     },
     "execution_count": 88,
     "metadata": {},
     "output_type": "execute_result"
    }
   ],
   "source": [
    "# lo pueden ver aca\n",
    "alquileres_gba_region.head()"
   ]
  },
  {
   "cell_type": "markdown",
   "metadata": {
    "id": "ORuwC36xQsvB"
   },
   "source": [
    "Entonces, algo que podríamos hacer es crear una función para seleccionar regiones de a una, y de paso, acomodar el dataframe a como sabemos que lo vamos a necesitar."
   ]
  },
  {
   "cell_type": "code",
   "execution_count": 89,
   "metadata": {
    "executionInfo": {
     "elapsed": 26,
     "status": "ok",
     "timestamp": 1624736420400,
     "user": {
      "displayName": "Federico Catalano",
      "photoUrl": "",
      "userId": "05639651212963955278"
     },
     "user_tz": 180
    },
    "id": "BFpHStmeqtZv"
   },
   "outputs": [],
   "source": [
    "# nuestra función para seleccionar regiones\n",
    "def seleccionar_region(region):\n",
    "    \n",
    "    '''\n",
    "    Selecciona una columna, siendo esta la region y sus precios\n",
    "    en el df \"alquileres_gba_region\".\n",
    "    '''\n",
    "    periodos_ordenados = ['2020-3', '2020-4', '2020-5', '2020-6', \n",
    "                          '2020-7', '2020-8', '2020-9', '2020-10', \n",
    "                          '2020-11', '2020-12','2021-1', '2021-2', '2021-3']\n",
    "    gba_regiones = alquileres_gba_region.reindex(periodos_ordenados)\n",
    "    gba_regiones.reset_index(inplace=True)\n",
    "\n",
    "    gba_region = gba_regiones[['etiqueta_fecha',region]].copy()\n",
    "\n",
    "    gba_region.columns = ['period', 'price']\n",
    "    return gba_region"
   ]
  },
  {
   "cell_type": "code",
   "execution_count": 90,
   "metadata": {
    "colab": {
     "base_uri": "https://localhost:8080/",
     "height": 457
    },
    "executionInfo": {
     "elapsed": 817,
     "status": "ok",
     "timestamp": 1624736421192,
     "user": {
      "displayName": "Federico Catalano",
      "photoUrl": "",
      "userId": "05639651212963955278"
     },
     "user_tz": 180
    },
    "id": "wjEWzzk3raA3",
    "outputId": "1e6ae9e1-77ad-4bc4-9a31-cb30edaad0ee"
   },
   "outputs": [
    {
     "data": {
      "text/html": [
       "<div>\n",
       "<style scoped>\n",
       "    .dataframe tbody tr th:only-of-type {\n",
       "        vertical-align: middle;\n",
       "    }\n",
       "\n",
       "    .dataframe tbody tr th {\n",
       "        vertical-align: top;\n",
       "    }\n",
       "\n",
       "    .dataframe thead th {\n",
       "        text-align: right;\n",
       "    }\n",
       "</style>\n",
       "<table border=\"1\" class=\"dataframe\">\n",
       "  <thead>\n",
       "    <tr style=\"text-align: right;\">\n",
       "      <th></th>\n",
       "      <th>period</th>\n",
       "      <th>price</th>\n",
       "    </tr>\n",
       "  </thead>\n",
       "  <tbody>\n",
       "    <tr>\n",
       "      <th>0</th>\n",
       "      <td>2020-3</td>\n",
       "      <td>24255.468750</td>\n",
       "    </tr>\n",
       "    <tr>\n",
       "      <th>1</th>\n",
       "      <td>2020-4</td>\n",
       "      <td>27967.733990</td>\n",
       "    </tr>\n",
       "    <tr>\n",
       "      <th>2</th>\n",
       "      <td>2020-5</td>\n",
       "      <td>27850.062189</td>\n",
       "    </tr>\n",
       "    <tr>\n",
       "      <th>3</th>\n",
       "      <td>2020-6</td>\n",
       "      <td>25608.593750</td>\n",
       "    </tr>\n",
       "    <tr>\n",
       "      <th>4</th>\n",
       "      <td>2020-7</td>\n",
       "      <td>30268.864629</td>\n",
       "    </tr>\n",
       "    <tr>\n",
       "      <th>5</th>\n",
       "      <td>2020-8</td>\n",
       "      <td>29069.827586</td>\n",
       "    </tr>\n",
       "    <tr>\n",
       "      <th>6</th>\n",
       "      <td>2020-9</td>\n",
       "      <td>32167.431694</td>\n",
       "    </tr>\n",
       "    <tr>\n",
       "      <th>7</th>\n",
       "      <td>2020-10</td>\n",
       "      <td>30335.921053</td>\n",
       "    </tr>\n",
       "    <tr>\n",
       "      <th>8</th>\n",
       "      <td>2020-11</td>\n",
       "      <td>50792.023634</td>\n",
       "    </tr>\n",
       "    <tr>\n",
       "      <th>9</th>\n",
       "      <td>2020-12</td>\n",
       "      <td>38565.781250</td>\n",
       "    </tr>\n",
       "    <tr>\n",
       "      <th>10</th>\n",
       "      <td>2021-1</td>\n",
       "      <td>39662.321145</td>\n",
       "    </tr>\n",
       "    <tr>\n",
       "      <th>11</th>\n",
       "      <td>2021-2</td>\n",
       "      <td>39857.715434</td>\n",
       "    </tr>\n",
       "    <tr>\n",
       "      <th>12</th>\n",
       "      <td>2021-3</td>\n",
       "      <td>43867.774086</td>\n",
       "    </tr>\n",
       "  </tbody>\n",
       "</table>\n",
       "</div>"
      ],
      "text/plain": [
       "     period         price\n",
       "0    2020-3  24255.468750\n",
       "1    2020-4  27967.733990\n",
       "2    2020-5  27850.062189\n",
       "3    2020-6  25608.593750\n",
       "4    2020-7  30268.864629\n",
       "5    2020-8  29069.827586\n",
       "6    2020-9  32167.431694\n",
       "7   2020-10  30335.921053\n",
       "8   2020-11  50792.023634\n",
       "9   2020-12  38565.781250\n",
       "10   2021-1  39662.321145\n",
       "11   2021-2  39857.715434\n",
       "12   2021-3  43867.774086"
      ]
     },
     "execution_count": 90,
     "metadata": {},
     "output_type": "execute_result"
    }
   ],
   "source": [
    "# podríamos empezar trabajando con zona norte\n",
    "seleccionar_region('Bs.As. G.B.A. Zona Norte')"
   ]
  },
  {
   "cell_type": "code",
   "execution_count": 91,
   "metadata": {
    "executionInfo": {
     "elapsed": 13,
     "status": "ok",
     "timestamp": 1624736421197,
     "user": {
      "displayName": "Federico Catalano",
      "photoUrl": "",
      "userId": "05639651212963955278"
     },
     "user_tz": 180
    },
    "id": "8AnDpuh2vEEV"
   },
   "outputs": [],
   "source": [
    "# instanciamos zona norte\n",
    "zona_norte = seleccionar_region('Bs.As. G.B.A. Zona Norte')"
   ]
  },
  {
   "cell_type": "markdown",
   "metadata": {
    "id": "kDQrN8uu8Isg"
   },
   "source": [
    "> **2. Elijan una región y calculen precios constantes. Si lo hacen por el camino indec deberan conseguir una serie de ingresos (puede ser por EPH, u otro mecanismo) para terminar de construir un indice.**"
   ]
  },
  {
   "cell_type": "markdown",
   "metadata": {
    "id": "beN6nKWsNAVq"
   },
   "source": [
    "Como vimos en clase con el ICL, para deflactar, además de una medida que nos hable de precios debemos tener en cuenta la evolución de los ingresos. Entonces:\n",
    "\n",
    "*2.1. Si deflactaramos por `icl`, no haría falta hacer ningún proceso adicional.*\n",
    "\n",
    "*2.2. Si quisieramos usar el `ipc_indec` que construimos para GBA, deberíamos incorporar también una serie de ingresos.*\n",
    "\n",
    "Como `2.1.` no nos insume ningún otro esfuerzo mas que volver a correr el notebook y cambiar las regiones, vamos a ir por `2.2.`. Tanto para alargar la serie deflactada como para agregar recursos adicionales que les queden disponibles.\n",
    "\n",
    "\n",
    "Hasta ahora, nuestro ipc nos dice las variaciones porcentuales de los distintos bienes de la economía mes a mes (tomando como referencia un periodo de base). Esto deberíamos combinarlo con una serie salarial y armar un índice o coeficiente único.\n",
    "\n",
    "Para hacer esto podríamos trabajar tanto con valores salariales como con variaciones porcentuales. A continuación les dejo algunos links donde pueden buscar referencias para construir series de salario:\n",
    "\n",
    "**a)** La remuneración imponible promedio de los trabajadores estables - [RIPTE](https://www.argentina.gob.ar/trabajo/seguridadsocial/ripte)\n",
    "\n",
    "**b)** Ministerio de Trabajo - [estadísticas](http://www.trabajo.gob.ar/estadisticas/Bel/ingresos.asp). Este portal incluye varias alternativas, desde construcciones trimestrales por EPH/EAHU hasta negociaciones colectivas.\n",
    "\n",
    "**c)** Subsecretaría de Programación Macroeconómica de la Nación. Muchos de sus datasets están subidos al portal de datos `datos.gob.ar`.\n",
    "\n",
    "Yo voy a ir por la opción `c` y voy a trabajar con [este dataset](https://datos.gob.ar/dataset/sspm-indice-salarios-base-octubre-2016/archivo/sspm_149.1) que ya está subido al directorio `data` del curso.\n",
    "\n",
    "Entonces lo que voy a hacer es tratar de combinar el índice de salarios (que nos indica sus variaciones porcentuales a lo largo de los meses) con el índice de precios.\n",
    "\n",
    "Para eso, primero cargamos el dataset en cuestión."
   ]
  },
  {
   "cell_type": "code",
   "execution_count": 92,
   "metadata": {
    "executionInfo": {
     "elapsed": 13,
     "status": "ok",
     "timestamp": 1624736421197,
     "user": {
      "displayName": "Federico Catalano",
      "photoUrl": "",
      "userId": "05639651212963955278"
     },
     "user_tz": 180
    },
    "id": "_UHupUx0azsA"
   },
   "outputs": [],
   "source": [
    "# indice de salarios\n",
    "salarios = pd.read_csv('https://storage.googleapis.com/python_mdg/data_cursos/indice-salarios-periodicidad-mensual-base-octubre-2016.csv')"
   ]
  },
  {
   "cell_type": "code",
   "execution_count": 93,
   "metadata": {
    "colab": {
     "base_uri": "https://localhost:8080/",
     "height": 226
    },
    "executionInfo": {
     "elapsed": 14,
     "status": "ok",
     "timestamp": 1624736421198,
     "user": {
      "displayName": "Federico Catalano",
      "photoUrl": "",
      "userId": "05639651212963955278"
     },
     "user_tz": 180
    },
    "id": "wM1wPe0MYUzf",
    "outputId": "4a4cac81-fed5-4cd6-9ef6-f67ac97fc89f"
   },
   "outputs": [
    {
     "data": {
      "text/html": [
       "<div>\n",
       "<style scoped>\n",
       "    .dataframe tbody tr th:only-of-type {\n",
       "        vertical-align: middle;\n",
       "    }\n",
       "\n",
       "    .dataframe tbody tr th {\n",
       "        vertical-align: top;\n",
       "    }\n",
       "\n",
       "    .dataframe thead th {\n",
       "        text-align: right;\n",
       "    }\n",
       "</style>\n",
       "<table border=\"1\" class=\"dataframe\">\n",
       "  <thead>\n",
       "    <tr style=\"text-align: right;\">\n",
       "      <th></th>\n",
       "      <th>indice_tiempo</th>\n",
       "      <th>indice_salarios</th>\n",
       "      <th>indice_salarios_registrado</th>\n",
       "      <th>indice_salarios_registrado_sector_privado</th>\n",
       "      <th>indice_salarios_registrado_sector_publico</th>\n",
       "      <th>indice_salarios_no_registrado_sector_privado</th>\n",
       "    </tr>\n",
       "  </thead>\n",
       "  <tbody>\n",
       "    <tr>\n",
       "      <th>0</th>\n",
       "      <td>2015-10-01</td>\n",
       "      <td>NaN</td>\n",
       "      <td>74.44</td>\n",
       "      <td>73.97</td>\n",
       "      <td>75.24</td>\n",
       "      <td>NaN</td>\n",
       "    </tr>\n",
       "    <tr>\n",
       "      <th>1</th>\n",
       "      <td>2015-11-01</td>\n",
       "      <td>NaN</td>\n",
       "      <td>76.07</td>\n",
       "      <td>75.95</td>\n",
       "      <td>76.28</td>\n",
       "      <td>NaN</td>\n",
       "    </tr>\n",
       "    <tr>\n",
       "      <th>2</th>\n",
       "      <td>2015-12-01</td>\n",
       "      <td>NaN</td>\n",
       "      <td>77.29</td>\n",
       "      <td>77.36</td>\n",
       "      <td>77.18</td>\n",
       "      <td>NaN</td>\n",
       "    </tr>\n",
       "    <tr>\n",
       "      <th>3</th>\n",
       "      <td>2016-01-01</td>\n",
       "      <td>NaN</td>\n",
       "      <td>78.38</td>\n",
       "      <td>78.93</td>\n",
       "      <td>77.46</td>\n",
       "      <td>NaN</td>\n",
       "    </tr>\n",
       "    <tr>\n",
       "      <th>4</th>\n",
       "      <td>2016-02-01</td>\n",
       "      <td>NaN</td>\n",
       "      <td>79.42</td>\n",
       "      <td>80.04</td>\n",
       "      <td>78.36</td>\n",
       "      <td>NaN</td>\n",
       "    </tr>\n",
       "  </tbody>\n",
       "</table>\n",
       "</div>"
      ],
      "text/plain": [
       "  indice_tiempo  indice_salarios  indice_salarios_registrado  \\\n",
       "0    2015-10-01              NaN                       74.44   \n",
       "1    2015-11-01              NaN                       76.07   \n",
       "2    2015-12-01              NaN                       77.29   \n",
       "3    2016-01-01              NaN                       78.38   \n",
       "4    2016-02-01              NaN                       79.42   \n",
       "\n",
       "   indice_salarios_registrado_sector_privado  \\\n",
       "0                                      73.97   \n",
       "1                                      75.95   \n",
       "2                                      77.36   \n",
       "3                                      78.93   \n",
       "4                                      80.04   \n",
       "\n",
       "   indice_salarios_registrado_sector_publico  \\\n",
       "0                                      75.24   \n",
       "1                                      76.28   \n",
       "2                                      77.18   \n",
       "3                                      77.46   \n",
       "4                                      78.36   \n",
       "\n",
       "   indice_salarios_no_registrado_sector_privado  \n",
       "0                                           NaN  \n",
       "1                                           NaN  \n",
       "2                                           NaN  \n",
       "3                                           NaN  \n",
       "4                                           NaN  "
      ]
     },
     "execution_count": 93,
     "metadata": {},
     "output_type": "execute_result"
    }
   ],
   "source": [
    "salarios.head()"
   ]
  },
  {
   "cell_type": "markdown",
   "metadata": {
    "id": "F_slV67zYcCJ"
   },
   "source": [
    "Ahora, lo que vamos a tener que hacer es ajustar nuestro deflactor considerando dos escenarios: si pasamos un deflactor o indice ya listo para deflactar, o si pasamos un indice de precios y salarios para construir un nuevo indice o coeficiente.\n",
    "\n",
    "Empecemos por armar una función que nos formatee nuestra sere de índices salariales"
   ]
  },
  {
   "cell_type": "code",
   "execution_count": 94,
   "metadata": {
    "executionInfo": {
     "elapsed": 13,
     "status": "ok",
     "timestamp": 1624736421198,
     "user": {
      "displayName": "Federico Catalano",
      "photoUrl": "",
      "userId": "05639651212963955278"
     },
     "user_tz": 180
    },
    "id": "xghNc85TbGI2"
   },
   "outputs": [],
   "source": [
    "# creamos una función para formatear nuestra serie de salarios\n",
    "def formatea_isa(isa, serie='indice_salarios'):\n",
    "    \n",
    "    '''\n",
    "    Formatea dataframe con indice de precios\n",
    "    ...\n",
    "    isa(df): indice de salarios - ver formato en dataframe\n",
    "    serie(str): default con el nombre de la serie a utilizar \n",
    "                Nota: podrian elegir otra columna, para ello deberían cambiar\n",
    "                      el valor del default cuando ejecutan la función indicando\n",
    "                      el nombre de otra de las columnas disponibles!\n",
    "\n",
    "    Devuelve:\n",
    "    pandas.Series: serie con indice de salarios emparejado al año base del IPC\n",
    "    '''\n",
    "    # hacemos slicing sobre los strings de fecha para quedarnos con el periodo\n",
    "    isa['periodo'] = isa.indice_tiempo.apply(lambda x: x[:7])\n",
    "    # filtramos desde el periodo de referencia (octubre de 2016)\n",
    "    isa_f = isa.set_index('periodo').loc['2016-10':].copy()\n",
    "    # como nuestro ipc esta en base dicimiebre 2016, vamos a llevar el isa al mismo periodo\n",
    "    isa_f.drop(columns='indice_tiempo', inplace=True) \n",
    "\n",
    "    # filtramos nuestro isa en base al periodo disponible del ipc,\n",
    "    # esto se podría parametrizar en función de esa disponibilidad. Pero dejemoslo así, simple.\n",
    "    isa_rebase = isa_f.apply(lambda x: x/isa_f.loc['2016-12'], axis=1)\n",
    "    # renombramos los periodos para ajustar el formato que traemos de antes\n",
    "    isa_rebase.index = isa_rebase.index.str.replace('-0', '-', regex=False)\n",
    "    # nuestro ipc va de enero 2017 en adelante, hacemos slicing desde ahi\n",
    "    isa_rebase = isa_rebase.loc['2017-1':].copy()\n",
    "    return isa_rebase[serie]"
   ]
  },
  {
   "cell_type": "code",
   "execution_count": 95,
   "metadata": {
    "colab": {
     "base_uri": "https://localhost:8080/"
    },
    "executionInfo": {
     "elapsed": 13,
     "status": "ok",
     "timestamp": 1624736421199,
     "user": {
      "displayName": "Federico Catalano",
      "photoUrl": "",
      "userId": "05639651212963955278"
     },
     "user_tz": 180
    },
    "id": "oIbXmHUXlO3-",
    "outputId": "009bce0e-173d-408b-9c9d-da75aeb4571b"
   },
   "outputs": [
    {
     "data": {
      "text/plain": [
       "periodo\n",
       "2017-1    1.015468\n",
       "2017-2    1.028894\n",
       "2017-3    1.058663\n",
       "2017-4    1.095729\n",
       "2017-5    1.113241\n",
       "Name: indice_salarios, dtype: float64"
      ]
     },
     "execution_count": 95,
     "metadata": {},
     "output_type": "execute_result"
    }
   ],
   "source": [
    "# aca nuestro indice de salarios formateado\n",
    "formatea_isa(salarios).head()"
   ]
  },
  {
   "cell_type": "markdown",
   "metadata": {
    "id": "oSl68QRRZNrX"
   },
   "source": [
    "Ahora que tenemos un índice de salarios listo tenemos que incorporar las modificaciones que mencionamos más arriba. Hacer que la función deflactora pueda trabajar con índices ya listos como el ICL, o bien, con índices que tienen que ser construidos. Para ello, incoroporemos la posibilidad de crear un nuevo índice a partir de salarios y precios:"
   ]
  },
  {
   "cell_type": "code",
   "execution_count": 96,
   "metadata": {
    "executionInfo": {
     "elapsed": 10,
     "status": "ok",
     "timestamp": 1624736421200,
     "user": {
      "displayName": "Federico Catalano",
      "photoUrl": "",
      "userId": "05639651212963955278"
     },
     "user_tz": 180
    },
    "id": "gijFOVHnHks9"
   },
   "outputs": [],
   "source": [
    "# vamos a ajustar un poco el codigo de nuestro deflactor para ajustarnos a la consigna\n",
    "def deflactar_serie(pe,pr,ba, # en primer lugar, fijense que renombramos varios parametros\n",
    "                    construye_d=True,\n",
    "                    ipc=ipc_indec,\n",
    "                    isa=salarios,\n",
    "                    rubro_ipc='Nivel general',\n",
    "                    rubro_isa='indice_salarios',\n",
    "                    d=None,):\n",
    "    \n",
    "    '''\n",
    "    Deflacta una serie de valores nominales\n",
    "    ...\n",
    "    pe(str): nombre de la serie con la etiqueta del periodo nominal\n",
    "    pr(str): nombre de la serie con valores nominales\n",
    "    ba(str): nombre del periodo que vamos a tomar como base\n",
    "    construye_d(bool): construir el deflactor en el cuerpo de la funcion (e.g:False)\n",
    "                       Nota alumnos: este parametro es default, si no lo especifican\n",
    "                       a la hora de ejecutar la funcion se va a tomar True como valor.\n",
    "    ipc(serie): serie de pandas con variaciones porcentuales de precios\n",
    "    isa(serie): serie de pandas con variaciones porcentuales de salarios\n",
    "    rubro_ipc(str): nombre de la apertura del ipc. El default es 'Nivel general', pero\n",
    "                    también se puede cambiar cuando se ejecuta la función.\n",
    "    rubro_isa(str): nombre del tipo de indice salarial de referencia. El default también\n",
    "                    se puede cambiar por otro nombre.\n",
    "    d(str): serie de pandas con un índice deflactor.\n",
    "    Devuelve:\n",
    "    pd.Series: Serie de tuplas.\n",
    "    '''\n",
    "    periodo = pe\n",
    "    precio_nominal = pr\n",
    "    periodo_base = ba\n",
    "\n",
    "    if construye_d: # si esto evalua a True, \n",
    "        precios = aperturas_ipc_indec(ipc, rubro_ipc)\n",
    "        salarios = formatea_isa(isa, rubro_isa)\n",
    "        serie = salarios/precios.mean() # entonces construimos nuestro deflactor,\n",
    "                                        # en nuestro caso expresamos las variaciones mensuales\n",
    "                                        # de los salarios en función del promedio de las\n",
    "                                        # variaciones de precios\n",
    "    else:\n",
    "        serie = d # sino, usamos uno ya armado (como el ICL)\n",
    "\n",
    "    # en esta seccion deflactamos\n",
    "    serie_periodo = serie.loc[periodo] \n",
    "    serie_base = serie.loc[periodo_base]  \n",
    "    coeficiente = serie_periodo/serie_base\n",
    "    precio_constante = precio_nominal / coeficiente\n",
    "\n",
    "    return periodo, precio_nominal, coeficiente, serie_base, serie_periodo, precio_constante"
   ]
  },
  {
   "cell_type": "markdown",
   "metadata": {
    "id": "eeksxM3QLFRM"
   },
   "source": [
    "Antes de aplicar nuestra función, un comentario sobre su uso. Si en lugar de haber hecho:\n",
    "\n",
    "```\n",
    "return periodo, precio_nominal, coeficiente, ipc_base, ipc_periodo, precio_constante\n",
    "```\n",
    "\n",
    "hubiésemos hecho solamente:\n",
    "\n",
    "```\n",
    "return precio_nominal\n",
    "```\n",
    "\n",
    "... esto nos habría permitido aplicar nuestra función directamente al dataframe original. Si, aquel que descargamos de properati y tenía alrededor de un millón de registros. Eso hubiese servido para crear una columna o serie de precios constantes allí mismo. Así:\n",
    "\n",
    "```\n",
    "df['price_constant'] = df.apply(lambda x: ...)\n",
    "```\n",
    "\n",
    "Pero como nuestro objetivo es otro (queremos ver esa serie de tuplas con todos los indicadores que construimos), vamos a simplemente dejarlo como está y ver qué resultado obtenemos para zona norte:"
   ]
  },
  {
   "cell_type": "code",
   "execution_count": 97,
   "metadata": {
    "colab": {
     "base_uri": "https://localhost:8080/",
     "height": 457
    },
    "executionInfo": {
     "elapsed": 785,
     "status": "ok",
     "timestamp": 1624736472854,
     "user": {
      "displayName": "Federico Catalano",
      "photoUrl": "",
      "userId": "05639651212963955278"
     },
     "user_tz": 180
    },
    "id": "dDpPVVqb1wRe",
    "outputId": "f68bde1e-c159-4da2-f929-6841b87e07c2"
   },
   "outputs": [
    {
     "data": {
      "text/html": [
       "<div>\n",
       "<style scoped>\n",
       "    .dataframe tbody tr th:only-of-type {\n",
       "        vertical-align: middle;\n",
       "    }\n",
       "\n",
       "    .dataframe tbody tr th {\n",
       "        vertical-align: top;\n",
       "    }\n",
       "\n",
       "    .dataframe thead th {\n",
       "        text-align: right;\n",
       "    }\n",
       "</style>\n",
       "<table border=\"1\" class=\"dataframe\">\n",
       "  <thead>\n",
       "    <tr style=\"text-align: right;\">\n",
       "      <th></th>\n",
       "      <th>period</th>\n",
       "      <th>price</th>\n",
       "    </tr>\n",
       "  </thead>\n",
       "  <tbody>\n",
       "    <tr>\n",
       "      <th>0</th>\n",
       "      <td>2020-3</td>\n",
       "      <td>24255.468750</td>\n",
       "    </tr>\n",
       "    <tr>\n",
       "      <th>1</th>\n",
       "      <td>2020-4</td>\n",
       "      <td>27967.733990</td>\n",
       "    </tr>\n",
       "    <tr>\n",
       "      <th>2</th>\n",
       "      <td>2020-5</td>\n",
       "      <td>27850.062189</td>\n",
       "    </tr>\n",
       "    <tr>\n",
       "      <th>3</th>\n",
       "      <td>2020-6</td>\n",
       "      <td>25608.593750</td>\n",
       "    </tr>\n",
       "    <tr>\n",
       "      <th>4</th>\n",
       "      <td>2020-7</td>\n",
       "      <td>30268.864629</td>\n",
       "    </tr>\n",
       "    <tr>\n",
       "      <th>5</th>\n",
       "      <td>2020-8</td>\n",
       "      <td>29069.827586</td>\n",
       "    </tr>\n",
       "    <tr>\n",
       "      <th>6</th>\n",
       "      <td>2020-9</td>\n",
       "      <td>32167.431694</td>\n",
       "    </tr>\n",
       "    <tr>\n",
       "      <th>7</th>\n",
       "      <td>2020-10</td>\n",
       "      <td>30335.921053</td>\n",
       "    </tr>\n",
       "    <tr>\n",
       "      <th>8</th>\n",
       "      <td>2020-11</td>\n",
       "      <td>50792.023634</td>\n",
       "    </tr>\n",
       "    <tr>\n",
       "      <th>9</th>\n",
       "      <td>2020-12</td>\n",
       "      <td>38565.781250</td>\n",
       "    </tr>\n",
       "    <tr>\n",
       "      <th>10</th>\n",
       "      <td>2021-1</td>\n",
       "      <td>39662.321145</td>\n",
       "    </tr>\n",
       "    <tr>\n",
       "      <th>11</th>\n",
       "      <td>2021-2</td>\n",
       "      <td>39857.715434</td>\n",
       "    </tr>\n",
       "    <tr>\n",
       "      <th>12</th>\n",
       "      <td>2021-3</td>\n",
       "      <td>43867.774086</td>\n",
       "    </tr>\n",
       "  </tbody>\n",
       "</table>\n",
       "</div>"
      ],
      "text/plain": [
       "     period         price\n",
       "0    2020-3  24255.468750\n",
       "1    2020-4  27967.733990\n",
       "2    2020-5  27850.062189\n",
       "3    2020-6  25608.593750\n",
       "4    2020-7  30268.864629\n",
       "5    2020-8  29069.827586\n",
       "6    2020-9  32167.431694\n",
       "7   2020-10  30335.921053\n",
       "8   2020-11  50792.023634\n",
       "9   2020-12  38565.781250\n",
       "10   2021-1  39662.321145\n",
       "11   2021-2  39857.715434\n",
       "12   2021-3  43867.774086"
      ]
     },
     "execution_count": 97,
     "metadata": {},
     "output_type": "execute_result"
    }
   ],
   "source": [
    "zona_norte"
   ]
  },
  {
   "cell_type": "code",
   "execution_count": 98,
   "metadata": {
    "executionInfo": {
     "elapsed": 900,
     "status": "ok",
     "timestamp": 1624736422091,
     "user": {
      "displayName": "Federico Catalano",
      "photoUrl": "",
      "userId": "05639651212963955278"
     },
     "user_tz": 180
    },
    "id": "PCf4YxosotRa"
   },
   "outputs": [],
   "source": [
    "res_zn = zona_norte.apply(lambda x: deflactar_serie(pe=x.period, \n",
    "                                           pr=x.price,\n",
    "                                           ba='2020-3',  \n",
    "                                           rubro_ipc='Alquiler de la vivienda'), \n",
    "                          axis=1)\n",
    "\n",
    "zn_ajustada = res_zn.apply(pd.Series)\n",
    "zn_columnas = ['periodo', 'precio_nom', 'coeficiente', 'ipc_base', 'ipc_per', 'precio_con']\n",
    "zn_ajustada.columns = zn_columnas"
   ]
  },
  {
   "cell_type": "code",
   "execution_count": 99,
   "metadata": {
    "colab": {
     "base_uri": "https://localhost:8080/",
     "height": 279
    },
    "executionInfo": {
     "elapsed": 7,
     "status": "ok",
     "timestamp": 1624736422092,
     "user": {
      "displayName": "Federico Catalano",
      "photoUrl": "",
      "userId": "05639651212963955278"
     },
     "user_tz": 180
    },
    "id": "u2oN5HGOotVF",
    "outputId": "6b118e27-1919-4962-f5d5-00ce5f8c34a3"
   },
   "outputs": [
    {
     "data": {
      "image/png": "[encoded data removed]",
      "text/plain": [
       "<Figure size 432x288 with 1 Axes>"
      ]
     },
     "metadata": {
      "needs_background": "light"
     },
     "output_type": "display_data"
    }
   ],
   "source": [
    "fig, ax = plt.subplots()\n",
    "zn_ajustada.set_index('periodo')['precio_nom'].plot(kind='line', grid=True, color='r')\n",
    "zn_ajustada.set_index('periodo')['precio_con'].plot(kind='line', grid=True, color='b');"
   ]
  },
  {
   "cell_type": "markdown",
   "metadata": {
    "id": "yXMv7Rp37Y-y"
   },
   "source": [
    "> **3. Comparen esa serie con la serie de precios constantes para todo GBA (la que calculamos antes del ejercicio) - también se puede hacer la comparación con otra jurisdicción!**"
   ]
  },
  {
   "cell_type": "markdown",
   "metadata": {
    "id": "QPds2_sAMSYt"
   },
   "source": [
    "Listo, lo que acabamos de hacer nos permitiría también comparar el comportamiento de los alquileres con otras jurisdicciones, por ejemplo, zona sur. Calculemosla."
   ]
  },
  {
   "cell_type": "code",
   "execution_count": 100,
   "metadata": {
    "executionInfo": {
     "elapsed": 7,
     "status": "ok",
     "timestamp": 1624736422094,
     "user": {
      "displayName": "Federico Catalano",
      "photoUrl": "",
      "userId": "05639651212963955278"
     },
     "user_tz": 180
    },
    "id": "zyHBHcvwMlnm"
   },
   "outputs": [],
   "source": [
    "zona_sur = seleccionar_region('Bs.As. G.B.A. Zona Sur')\n",
    "\n",
    "res_zs = zona_sur.apply(lambda x: deflactar_serie(pe=x.period, \n",
    "                                                  pr=x.price,\n",
    "                                                  ba='2020-3',  \n",
    "                                                  rubro_ipc='Alquiler de la vivienda'), \n",
    "                        axis=1)\n",
    "\n",
    "zs_ajustada = res_zs.apply(pd.Series)\n",
    "zs_columnas = ['periodo', 'precio_nom', 'coeficiente', 'ipc_base', 'ipc_per', 'precio_con']\n",
    "zs_ajustada.columns = zn_columnas"
   ]
  },
  {
   "cell_type": "code",
   "execution_count": 101,
   "metadata": {
    "colab": {
     "base_uri": "https://localhost:8080/",
     "height": 279
    },
    "executionInfo": {
     "elapsed": 1560,
     "status": "ok",
     "timestamp": 1624736423647,
     "user": {
      "displayName": "Federico Catalano",
      "photoUrl": "",
      "userId": "05639651212963955278"
     },
     "user_tz": 180
    },
    "id": "6Mnl8cTSMlsh",
    "outputId": "a0354ff3-47d9-420f-a42c-f7d0438de8c0"
   },
   "outputs": [
    {
     "data": {
      "image/png": "[encoded data removed]",
      "text/plain": [
       "<Figure size 432x288 with 1 Axes>"
      ]
     },
     "metadata": {
      "needs_background": "light"
     },
     "output_type": "display_data"
    }
   ],
   "source": [
    "# así quedarían los precios nominales y reales en zona sur\n",
    "fig, ax = plt.subplots()\n",
    "zs_ajustada.set_index('periodo')['precio_nom'].plot(kind='line', grid=True, color='r')\n",
    "zs_ajustada.set_index('periodo')['precio_con'].plot(kind='line', grid=True, color='b');"
   ]
  },
  {
   "cell_type": "code",
   "execution_count": 102,
   "metadata": {
    "colab": {
     "base_uri": "https://localhost:8080/",
     "height": 280
    },
    "executionInfo": {
     "elapsed": 17,
     "status": "ok",
     "timestamp": 1624736423648,
     "user": {
      "displayName": "Federico Catalano",
      "photoUrl": "",
      "userId": "05639651212963955278"
     },
     "user_tz": 180
    },
    "id": "6S73_kltMlw5",
    "outputId": "c61906f8-3fa2-4e84-8a06-98e7286fe5d1"
   },
   "outputs": [
    {
     "data": {
      "image/png": "[encoded data removed]",
      "text/plain": [
       "<Figure size 432x288 with 1 Axes>"
      ]
     },
     "metadata": {
      "needs_background": "light"
     },
     "output_type": "display_data"
    }
   ],
   "source": [
    "# así los precios constantes en zona norte y zona sur!\n",
    "fig, ax = plt.subplots()\n",
    "zs_ajustada.set_index('periodo')['precio_con'].plot(kind='line', grid=True, color='g')\n",
    "zn_ajustada.set_index('periodo')['precio_con'].plot(kind='line', grid=True, color='y');"
   ]
  },
  {
   "cell_type": "code",
   "execution_count": 103,
   "metadata": {
    "executionInfo": {
     "elapsed": 15,
     "status": "ok",
     "timestamp": 1624736423648,
     "user": {
      "displayName": "Federico Catalano",
      "photoUrl": "",
      "userId": "05639651212963955278"
     },
     "user_tz": 180
    },
    "id": "PHk7bL_iMl0s"
   },
   "outputs": [],
   "source": [
    "res_gba = gba_ordenado.apply(lambda x: deflactar_serie(pe=x.period, \n",
    "                                                       pr=x.price,\n",
    "                                                       ba='2020-3',  \n",
    "                                                       rubro_ipc='Alquiler de la vivienda'), \n",
    "                             axis=1)\n",
    "\n",
    "gba_ajustada = res_gba.apply(pd.Series)\n",
    "gba_columnas = ['periodo', 'precio_nom', 'coeficiente', 'ipc_base', 'ipc_per', 'precio_con']\n",
    "gba_ajustada.columns = gba_columnas"
   ]
  },
  {
   "cell_type": "code",
   "execution_count": 104,
   "metadata": {
    "colab": {
     "base_uri": "https://localhost:8080/",
     "height": 279
    },
    "executionInfo": {
     "elapsed": 15,
     "status": "ok",
     "timestamp": 1624736423648,
     "user": {
      "displayName": "Federico Catalano",
      "photoUrl": "",
      "userId": "05639651212963955278"
     },
     "user_tz": 180
    },
    "id": "w2Lh09EJMl4k",
    "outputId": "fdeb1234-7142-425b-c3d6-ee5cb9fef814"
   },
   "outputs": [
    {
     "data": {
      "image/png": "[encoded data removed]",
      "text/plain": [
       "<Figure size 432x288 with 1 Axes>"
      ]
     },
     "metadata": {
      "needs_background": "light"
     },
     "output_type": "display_data"
    }
   ],
   "source": [
    "# nuestros precios nominales y reales en todo el GBA\n",
    "fig, ax = plt.subplots()\n",
    "gba_ajustada.set_index('periodo')['precio_nom'].plot(kind='line', grid=True, color='r')\n",
    "gba_ajustada.set_index('periodo')['precio_con'].plot(kind='line', grid=True, color='b');"
   ]
  },
  {
   "cell_type": "markdown",
   "metadata": {
    "id": "GIqOraY-Ml8O"
   },
   "source": [
    "Ahora sí, el último paso. Comparemos las series constantes de Zona Norte y Sur, contextualizando vs la región GBA."
   ]
  },
  {
   "cell_type": "code",
   "execution_count": 105,
   "metadata": {
    "colab": {
     "base_uri": "https://localhost:8080/",
     "height": 280
    },
    "executionInfo": {
     "elapsed": 15,
     "status": "ok",
     "timestamp": 1624736423649,
     "user": {
      "displayName": "Federico Catalano",
      "photoUrl": "",
      "userId": "05639651212963955278"
     },
     "user_tz": 180
    },
    "id": "jwdVpPk1Ml_x",
    "outputId": "a88196ea-62c1-45d7-c428-655cd22db3bb"
   },
   "outputs": [
    {
     "data": {
      "image/png": "[encoded data removed]",
      "text/plain": [
       "<Figure size 432x288 with 1 Axes>"
      ]
     },
     "metadata": {
      "needs_background": "light"
     },
     "output_type": "display_data"
    }
   ],
   "source": [
    "# los precios constantes en contexto!\n",
    "fig, ax = plt.subplots()\n",
    "zs_ajustada.set_index('periodo')['precio_con'].plot(kind='line', grid=True, color='g')\n",
    "zn_ajustada.set_index('periodo')['precio_con'].plot(kind='line', grid=True, color='y')\n",
    "gba_ajustada.set_index('periodo')['precio_con'].plot(kind='line', grid=True, color='b');"
   ]
  }
 ],
 "metadata": {
  "colab": {
   "collapsed_sections": [],
   "name": "clase_03_esquemas_tabulares_II_solucion.ipynb",
   "provenance": []
  },
  "kernelspec": {
   "display_name": "Python 3 (ipykernel)",
   "language": "python",
   "name": "python3"
  },
  "language_info": {
   "codemirror_mode": {
    "name": "ipython",
    "version": 3
   },
   "file_extension": ".py",
   "mimetype": "text/x-python",
   "name": "python",
   "nbconvert_exporter": "python",
   "pygments_lexer": "ipython3",
   "version": "3.7.6"
  }
 },
 "nbformat": 4,
 "nbformat_minor": 1
}
