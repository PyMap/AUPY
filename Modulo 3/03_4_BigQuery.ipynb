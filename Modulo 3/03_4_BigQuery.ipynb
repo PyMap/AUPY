{
 "cells": [
  {
   "cell_type": "markdown",
   "metadata": {},
   "source": [
    "<a href=\"https://colab.research.google.com/github/PyMap/AUPY/blob/master/Modulo%203/03_4_BigQuery.ipynb\" target=\"_parent\"><img src=\"https://colab.research.google.com/assets/colab-badge.svg\" alt=\"Open In Colab\"/></a>"
   ]
  },
  {
   "cell_type": "markdown",
   "metadata": {
    "id": "tZsBha-hT6K-"
   },
   "source": [
    "# Grandes volúmenes de datos\n",
    "\n",
    "Este notebook busca repasar algunos conceptos propios de la consulta y tratamiento de grandes volúmenes de datos. La idea es hacerlo a partir de un ejemplo práctico que nos permita tener una noción general de lo que es una \"query\" o consulta. Para eso, elegiremos una base de datos que nos permita utilizar servicios de consulta masiva. Algunas empresas o instituciones suelen hacer pública su información y disponibilizarla para su tratamiento.\n",
    "\n",
    "Un caso conocido es el portal de Real Estate Properati 🏢. Ellos comparten sus datos a partir de dos alternativas: \n",
    "\n",
    "**a.** Los clásicos extractos descargables en formato csv (hasta un millón de registros o avisos publicados).\n",
    "\n",
    "**b.** Y para los que busquen incoporar una herramienta nueva, BigQuery. Este es un producto de Google Cloud que facilita enormemente las consultas realizadas en conjuntos con grandes volumenes de datos. \n",
    "\n",
    "No son muchos los portales inmobiliarios que den acceso gratuito a una información con tanto grado de detalle ([Mercado Libre](https://developers.mercadolibre.com.ar/es_ar/guia-para-inmuebles) tiene su API propia para realizar consultas sobre avisos de propiedades inmobiliarias, pero no es un caso que abordaremos en este notebook). Por esto mismo, es que este aporte es tan valorable. Podemos consultar información de corte longitudinal (a través del tiempo) y transversal (geolocalizable para distintos países de Latinoamérica).    \n",
    "\n",
    "El servicio de [BigQuery](https://cloud.google.com/bigquery/pricing?hl=es-419#:~:text=Nivel%20de%20uso%20gratuito,-Como%20parte%20del&text=Los%20primeros%2010%20GB%20por,de%20entrenamiento%20almacenados%20en%20BigQuery.&text=El%20primer%20TB%20de%20datos,procesan%20por%20mes%20es%20gratis.) es gratuito hasta 1TB de consultas mensuales. \n",
    "\n",
    "Para poder consultar un conjunto de datos es necesario antes contar con un proyecto al que podamos acceder desde nuestra [consola de google cloud](https://cloud.google.com/cloud-console/?utm_source=google&utm_medium=cpc&utm_campaign=latam-AR-all-es-dr-BKWS-all-all-trial-b-dr-1009897-LUAC0009188&utm_content=text-ad-none-any-DEV_c-CRE_436969373981-ADGP_Hybrid%20%7C%20BKWS%20-%20MIX%20%7C%20Txt%20~%20Developers_Console-KWID_43700042625134481-kwd-663366584530&utm_term=KW_%2Bgoogle%20%2Bconsole-ST_%2BGoogle%20%2BConsole&gclid=Cj0KCQjwytOEBhD5ARIsANnRjVir0Ddqu-TEqUm6RStt3eRaEnGlCuSWMKazt2zG649Xsshc4NJAie8aAsMWEALw_wcB&gclsrc=aw.ds)\n",
    "\n",
    "Por último, en [properati data](https://www.properati.com.ar/data) nos explican cómo citarlos cada vez que usemos sus servicios. No se olviden de hacerlo! "
   ]
  },
  {
   "cell_type": "markdown",
   "metadata": {
    "id": "5173ky-TT6LE"
   },
   "source": [
    "## El conjunto de datos de `properati` ... "
   ]
  },
  {
   "cell_type": "markdown",
   "metadata": {
    "id": "98zcinSdT6LE"
   },
   "source": [
    "A continuación veremos cómo es el **esquema del conjunto de datos** que vamos a consultar y la estructura del comando con el que lo haremos.\n",
    "\n",
    "* **ad_type** - Tipo de aviso (Propiedad, Desarrollo).\n",
    "* **id** - Identificador del aviso. No es único: si el aviso es actualizado por la inmobiliaria (nueva versión del aviso) se crea un nuevo registro con la misma id pero distintas fechas.\n",
    "* **start_date** - Fecha de alta del aviso.\n",
    "* **end_date** - Fecha de baja del aviso.\n",
    "* **created_on** - Fecha de alta de la primera versión del aviso.\n",
    "* **place** - Campos referidos a la ubicación de la propiedad o del desarrollo.\n",
    "  * **lat** - Latitud.\n",
    "  * **lon** - Longitud.\n",
    "  * **l1** - Nivel geopolítico 1: país.\n",
    "  * **l2** - Nivel geopolítico 2: usualmente provincia.\n",
    "  * **l3** - Nivel geopolítico 3: usualmente ciudad/localidad.\n",
    "  * **l4 a l6** - Niveles geopolíticos 4 a 6: usualmente barrio.\n",
    "* **property** - Campos relativos a la propiedad (vacío si el aviso es de un desarrollo).\n",
    "  * **operation_type** - Tipo de operación (Venta, Alquiler y Alquiler temporal ).\n",
    "  * **property_type** - Tipo de propiedad (Casa, Departamento, PH, etc.).\n",
    "  * **rooms** - Cantidad de ambientes (útil en Argentina).\n",
    "  * **bedrooms** - Cantidad de dormitorios (útil en el resto de los países).\n",
    "  * **bathrooms** - Cantidad de baños.\n",
    "  * **surface_total** - Superficie total en m².\n",
    "  * **surface_covered** - Superficie cubierta en m².\n",
    "  * **price** - Precio publicado en el anuncio.\n",
    "  * **currency** - Moneda del precio publicado.\n",
    "  * **price_period** - Periodo del precio (Diario, Semanal, Mensual)\n",
    "  * **title** - Título del anuncio.\n",
    "  * **description** - Descripción del anuncio.\n"
   ]
  },
  {
   "cell_type": "markdown",
   "metadata": {
    "id": "o8Fx5QzJT6LF"
   },
   "source": [
    "# Construyendo consultas"
   ]
  },
  {
   "cell_type": "markdown",
   "metadata": {},
   "source": [
    "## La consola de google cloud"
   ]
  },
  {
   "cell_type": "markdown",
   "metadata": {
    "id": "3bxJo0WeZT-9"
   },
   "source": [
    "<figure>\n",
    "<center>\n",
    "<img src='https://drive.google.com/uc?id=154OHoWl7VJagbzveSWIawfXHeQn8ghuu' />\n",
    "<figcaption></figcaption></center>\n",
    "</figure>"
   ]
  },
  {
   "cell_type": "markdown",
   "metadata": {
    "id": "TBd8d6feT6LF"
   },
   "source": [
    "Como se puede observar, las consultas se encuentran realizadas en un lenguaje del que hablamos poco hasta el momento: SQL(Structured Query Language). Un lenguaje utilizado para trabajar con bases de datos relacionales (para nosotros, conjuntos de tablas que se encuetran relacionadas entre sí a través de una llave o id en común). \n",
    "\n",
    "No es la intención de este notebook adentrarse en profunidad en este lenguaje. Sino más bien conocer cómo es la estructura de una consulta y saber que la misma puede ser ejecutada a partir de un string. Tanto una consulta específica (un simple COUNT a partir de un GROUP BY), como otra masiva que nos traiga un dataset crudo (SELECT *) que podamos procesar, por ejemplo, con pandas.  \n",
    "\n",
    "Para poder hacer una consulta en BigQuery, debemos tener en cuenta dos cosas:\n",
    "```\n",
    "1. El nombre del conjunto de datos\n",
    "2. Los nombres de las tablas que conforman dicho conjunto. Y en particular,la fecha que figura en su título.\n",
    "```"
   ]
  },
  {
   "cell_type": "markdown",
   "metadata": {
    "id": "OsH-btqcT6LG"
   },
   "source": [
    "```\n",
    "SELECT expr1 (AS alias1), expr2 (AS alias2), …\n",
    "\n",
    "FROM [tabla1]\n",
    "\n",
    "([INNER | CROSS | [LEFT | RIGHT | FULL] OUTER] JOIN [tabla2] ON condicionesJoin)\n",
    "\n",
    "WHERE condiciones\n",
    "\n",
    "GROUP BY expr1|alias1, expr2|alias2, …\n",
    "\n",
    "ORDER BY expr1|alias1 [DESC|ASC], expr2|alias2 [DESC|ASC], …\n",
    "\n",
    "LIMIT n;\n",
    "```"
   ]
  },
  {
   "cell_type": "markdown",
   "metadata": {
    "id": "n-cbhKOUEhp-"
   },
   "source": [
    "## SQL, el lenguaje de BigQuery"
   ]
  },
  {
   "cell_type": "markdown",
   "metadata": {
    "id": "AA0FCioIIXYV"
   },
   "source": [
    "La consulta abre con la declaración `SELECT`. Esta siempre hace referencia a algún tipo de operación sobre alguna de las columnas. Por ejemplo, \n",
    "\n",
    "`SELECT col 1, COUNT(col1) as Total`\n",
    "\n",
    " ... luego hay que especificar desde dónde pretendemos obtener el resultado de dicha expresión. En Big Query se suele utilizar el id del conjunto de datos. En el caso de properati:\n",
    "\n",
    " `FROM properati-data-public.properties_ar.properties_rent_201501`\n",
    "\n",
    " Entre paréntesis dejemos la operaciones opcionales. No vamos a hablar de join de tablas, asique dejemoslo a un costado y concentremonos en los aspectos útiles para hacer las primeras queries. \n",
    "\n",
    " Fíjense que después de estos opcionales viene el `WHERE`. Acá es donde solemos incorporar los condicionales. Por ejemplo, en nuestro caso se puede apreciar que las tablas del conjunto `properties_ar` tiene una fecha en el nombre. Siempre con el año y el mes. Por ejemplo, \n",
    "\n",
    " * properties_rent_201501\n",
    " * properties_sell_201606\n",
    "\n",
    " Es decir, siempre el año y el mes. Por lo tanto si nosotros quisieramos hacer una consulta a más de una tabla, incluyendo distintos rangos de fechas, deberíamos:\n",
    "\n",
    " ```\n",
    " FROM\n",
    "    `properati-data-public.properties_ar.properties_rent_2015*`\n",
    " WHERE _TABLE_SUFFIX > '03' AND _TABLE_SUFFIX < '06'\n",
    " ```\n",
    " Lo que hacemos con el WHERE y con TABLE SUFFIX es consultar todas las tablas de alquiler del 2015, entre los meses de marzo y junio.\n",
    "\n",
    " Por último el GROUP BY, para agrupar las cantidades del COUNT entre todas las categorías de la variable. También se puede ordenar el resultado de manera ascendente o descendente con ORDER BY y mostrar hasta los n primeros/últimos resultados con LIMIT.\n",
    "\n",
    " Veamos un ejemplo de consulta bajo este esquema ...\n",
    "\n"
   ]
  },
  {
   "cell_type": "code",
   "execution_count": null,
   "metadata": {
    "id": "HnuS7RsZ6Did"
   },
   "outputs": [],
   "source": [
    "from google.colab import auth\n",
    "auth.authenticate_user()"
   ]
  },
  {
   "cell_type": "code",
   "execution_count": null,
   "metadata": {
    "id": "uT9H5lUd6DpF"
   },
   "outputs": [],
   "source": [
    "from google.cloud import bigquery\n",
    "project_id = 'tu project id'\n",
    "client = bigquery.Client(project=project_id)"
   ]
  },
  {
   "cell_type": "code",
   "execution_count": null,
   "metadata": {
    "id": "w5xdbnaUM4fB"
   },
   "outputs": [],
   "source": [
    "# veamos la query completa\n",
    "QUERY =  \"\"\"SELECT\n",
    "              property_type,\n",
    "              COUNT(property_type) AS count\n",
    "            FROM\n",
    "              `properati-data-public.properties_ar.properties_rent_2015*`\n",
    "            WHERE _TABLE_SUFFIX > '03' AND _TABLE_SUFFIX < '06'\n",
    "            GROUP BY\n",
    "              property_type\n",
    "            ORDER BY\n",
    "              count DESC\"\"\""
   ]
  },
  {
   "cell_type": "code",
   "execution_count": null,
   "metadata": {
    "id": "muOwDz1BNMQ0"
   },
   "outputs": [],
   "source": [
    "def devuelve_consulta(query):\n",
    "    query_job = client.query(query)\n",
    "    df = query_job.to_dataframe()\n",
    "    return df"
   ]
  },
  {
   "cell_type": "code",
   "execution_count": null,
   "metadata": {
    "colab": {
     "base_uri": "https://localhost:8080/",
     "height": 166
    },
    "executionInfo": {
     "elapsed": 3605,
     "status": "ok",
     "timestamp": 1620649897566,
     "user": {
      "displayName": "Federico Catalano",
      "photoUrl": "",
      "userId": "05639651212963955278"
     },
     "user_tz": 180
    },
    "id": "o45XvQmANifw",
    "outputId": "8f7a0856-f0e5-4569-de73-1849b34cf372"
   },
   "outputs": [
    {
     "data": {
      "text/html": [
       "<div>\n",
       "<style scoped>\n",
       "    .dataframe tbody tr th:only-of-type {\n",
       "        vertical-align: middle;\n",
       "    }\n",
       "\n",
       "    .dataframe tbody tr th {\n",
       "        vertical-align: top;\n",
       "    }\n",
       "\n",
       "    .dataframe thead th {\n",
       "        text-align: right;\n",
       "    }\n",
       "</style>\n",
       "<table border=\"1\" class=\"dataframe\">\n",
       "  <thead>\n",
       "    <tr style=\"text-align: right;\">\n",
       "      <th></th>\n",
       "      <th>property_type</th>\n",
       "      <th>count</th>\n",
       "    </tr>\n",
       "  </thead>\n",
       "  <tbody>\n",
       "    <tr>\n",
       "      <th>0</th>\n",
       "      <td>apartment</td>\n",
       "      <td>3091</td>\n",
       "    </tr>\n",
       "    <tr>\n",
       "      <th>1</th>\n",
       "      <td>house</td>\n",
       "      <td>2045</td>\n",
       "    </tr>\n",
       "    <tr>\n",
       "      <th>2</th>\n",
       "      <td>store</td>\n",
       "      <td>1576</td>\n",
       "    </tr>\n",
       "    <tr>\n",
       "      <th>3</th>\n",
       "      <td>PH</td>\n",
       "      <td>137</td>\n",
       "    </tr>\n",
       "  </tbody>\n",
       "</table>\n",
       "</div>"
      ],
      "text/plain": [
       "  property_type  count\n",
       "0     apartment   3091\n",
       "1         house   2045\n",
       "2         store   1576\n",
       "3            PH    137"
      ]
     },
     "execution_count": 5,
     "metadata": {
      "tags": []
     },
     "output_type": "execute_result"
    }
   ],
   "source": [
    "devuelve_consulta(query=QUERY)"
   ]
  },
  {
   "cell_type": "markdown",
   "metadata": {
    "id": "QE10_dn-T6LG"
   },
   "source": [
    "Recién vimos cómo hacer una consulta siguiendo el esquema del conjunto de datos tal y como está presentado en Big Query. Ahora bien, si se fijan los ejemplos de consulta en la web de properati, verán que el conjunto también se puede referenciar así `properati-dw.public.ads`. Esto nos permite consultar todo el conjunto de datos a partir del esquema de columnas propuesto en su web. \n",
    "\n",
    "Como primer objetivo, propongámonos extraer los registros que:\n",
    "* que correspondan a Capital Federal,\n",
    "* publicados durante el 2018.\n",
    "\n",
    "... y con esto, respondamos la siguiente pregunta:\n",
    "¿qué barrio de CABA tiene más desarrollos inmobiliarios publicados?"
   ]
  },
  {
   "cell_type": "code",
   "execution_count": null,
   "metadata": {
    "id": "wXhfLxV3T6LI"
   },
   "outputs": [],
   "source": [
    "# Instanciamos la consulta que vamos a hacer: ¿Qué barrio de CABA tiene más desarrollos?\n",
    "QUERY =  \"\"\"\n",
    "          SELECT\n",
    "            place.l3 AS Barrio, type AS Tipo, Count(type) AS Cantidad # en capital l3 es el barrio y l4 una subdivision. Solo usamos l3 porque hay muy pocas subdivisiones \n",
    "          FROM\n",
    "            `properati-dw.public.ads`\n",
    "          WHERE\n",
    "            start_date >= \"2018-01-01\" # abrimos el periodo 2018 \n",
    "            AND end_date <= \"2018-12-31\" # cerramos el periodo 2018\n",
    "            AND place.l1 = \"Argentina\" # filtramos pais\n",
    "            AND place.l2 = \"Capital Federal\" # filtramos la CABA\n",
    "            AND type = \"Desarrollo\" # Nos quedamos solamente con los desarrollos \n",
    "\n",
    "          GROUP BY\n",
    "            type, place.l3\n",
    "            \n",
    "          ORDER BY\n",
    "            Cantidad DESC\n",
    "          \n",
    "          LIMIT\n",
    "            5 # Vemos los cinco barrios con mayor cantidad de desarrollos\n",
    "          \"\"\""
   ]
  },
  {
   "cell_type": "code",
   "execution_count": null,
   "metadata": {
    "id": "A4M6yT4RT6LJ"
   },
   "outputs": [],
   "source": [
    "desarrollos = devuelve_consulta(query=QUERY)"
   ]
  },
  {
   "cell_type": "code",
   "execution_count": null,
   "metadata": {
    "colab": {
     "base_uri": "https://localhost:8080/",
     "height": 195
    },
    "executionInfo": {
     "elapsed": 1061,
     "status": "ok",
     "timestamp": 1620650063621,
     "user": {
      "displayName": "Federico Catalano",
      "photoUrl": "",
      "userId": "05639651212963955278"
     },
     "user_tz": 180
    },
    "id": "0qDmw7f-T6LJ",
    "outputId": "3877d59f-0846-485f-d77b-da811e357bb4"
   },
   "outputs": [
    {
     "data": {
      "text/html": [
       "<div>\n",
       "<style scoped>\n",
       "    .dataframe tbody tr th:only-of-type {\n",
       "        vertical-align: middle;\n",
       "    }\n",
       "\n",
       "    .dataframe tbody tr th {\n",
       "        vertical-align: top;\n",
       "    }\n",
       "\n",
       "    .dataframe thead th {\n",
       "        text-align: right;\n",
       "    }\n",
       "</style>\n",
       "<table border=\"1\" class=\"dataframe\">\n",
       "  <thead>\n",
       "    <tr style=\"text-align: right;\">\n",
       "      <th></th>\n",
       "      <th>Barrio</th>\n",
       "      <th>Tipo</th>\n",
       "      <th>Cantidad</th>\n",
       "    </tr>\n",
       "  </thead>\n",
       "  <tbody>\n",
       "    <tr>\n",
       "      <th>0</th>\n",
       "      <td>Palermo</td>\n",
       "      <td>Desarrollo</td>\n",
       "      <td>7</td>\n",
       "    </tr>\n",
       "    <tr>\n",
       "      <th>1</th>\n",
       "      <td>Parque Patricios</td>\n",
       "      <td>Desarrollo</td>\n",
       "      <td>4</td>\n",
       "    </tr>\n",
       "    <tr>\n",
       "      <th>2</th>\n",
       "      <td>Villa Crespo</td>\n",
       "      <td>Desarrollo</td>\n",
       "      <td>3</td>\n",
       "    </tr>\n",
       "    <tr>\n",
       "      <th>3</th>\n",
       "      <td>Belgrano</td>\n",
       "      <td>Desarrollo</td>\n",
       "      <td>3</td>\n",
       "    </tr>\n",
       "    <tr>\n",
       "      <th>4</th>\n",
       "      <td>Caballito</td>\n",
       "      <td>Desarrollo</td>\n",
       "      <td>2</td>\n",
       "    </tr>\n",
       "  </tbody>\n",
       "</table>\n",
       "</div>"
      ],
      "text/plain": [
       "             Barrio        Tipo  Cantidad\n",
       "0           Palermo  Desarrollo         7\n",
       "1  Parque Patricios  Desarrollo         4\n",
       "2      Villa Crespo  Desarrollo         3\n",
       "3          Belgrano  Desarrollo         3\n",
       "4         Caballito  Desarrollo         2"
      ]
     },
     "execution_count": 8,
     "metadata": {
      "tags": []
     },
     "output_type": "execute_result"
    }
   ],
   "source": [
    "# Los cinco barrios con mayor cantidad de desarrollos\n",
    "desarrollos"
   ]
  },
  {
   "cell_type": "code",
   "execution_count": null,
   "metadata": {
    "id": "zptC02NyQf1U"
   },
   "outputs": [],
   "source": [
    "import seaborn as sns\n",
    "import matplotlib.pyplot as plt\n",
    "plt.style.use('ggplot')"
   ]
  },
  {
   "cell_type": "code",
   "execution_count": null,
   "metadata": {
    "colab": {
     "base_uri": "https://localhost:8080/",
     "height": 285
    },
    "executionInfo": {
     "elapsed": 1349,
     "status": "ok",
     "timestamp": 1620650114908,
     "user": {
      "displayName": "Federico Catalano",
      "photoUrl": "",
      "userId": "05639651212963955278"
     },
     "user_tz": 180
    },
    "id": "0Y02v9mKT6LM",
    "outputId": "b991482e-4816-4baa-b305-b798ca3c6f58"
   },
   "outputs": [
    {
     "data": {
      "image/png": "[encoded data removed]",
      "text/plain": [
       "<Figure size 1152x288 with 1 Axes>"
      ]
     },
     "metadata": {
      "tags": []
     },
     "output_type": "display_data"
    }
   ],
   "source": [
    "# Ploteamos un gráfico de barras con seaborn  \n",
    "plt.figure(figsize=(16,4))\n",
    "desarrollos_plot = sns.barplot(x = \"Barrio\", y=\"Cantidad\", data=desarrollos)\n",
    "desarrollos_plot.set_title('Barrios con mayor cantidad de desarrollos en la Ciudad de Buenos Aires. Properati 2018');"
   ]
  },
  {
   "cell_type": "markdown",
   "metadata": {
    "id": "rD0uS9FxT6LM"
   },
   "source": [
    "Los cinco barrios con mayor cantidad de desarrollos durante 2018 fueron Palermo y Parque Patricios en primer lugar, seguidos de Belgrano, Villa Crespo y Recoleta."
   ]
  },
  {
   "cell_type": "code",
   "execution_count": null,
   "metadata": {
    "id": "YyEWL5TYT6LN"
   },
   "outputs": [],
   "source": [
    "QUERY2 = \"\"\"\n",
    "          SELECT\n",
    "            type AS Tipo, Count(type) AS Cantidad \n",
    "          FROM\n",
    "            `properati-dw.public.ads`\n",
    "          WHERE\n",
    "            start_date >= \"2018-01-01\" AND end_date <= \"2018-12-31\" # cerramos el periodo\n",
    "            AND place.l1 = \"Argentina\" # filtramos pais\n",
    "            AND place.l2 = \"Capital Federal\" # filtramos la CABA \n",
    "\n",
    "          GROUP BY\n",
    "            type \n",
    "          \"\"\""
   ]
  },
  {
   "cell_type": "code",
   "execution_count": null,
   "metadata": {
    "id": "rp3wIDJPT6LO"
   },
   "outputs": [],
   "source": [
    "query_job_2 = client.query(QUERY2)"
   ]
  },
  {
   "cell_type": "code",
   "execution_count": null,
   "metadata": {
    "id": "dXHdpwLkT6LO"
   },
   "outputs": [],
   "source": [
    "desarrollos_total = query_job_2.to_dataframe()"
   ]
  },
  {
   "cell_type": "code",
   "execution_count": null,
   "metadata": {
    "colab": {
     "base_uri": "https://localhost:8080/",
     "height": 106
    },
    "executionInfo": {
     "elapsed": 2034,
     "status": "ok",
     "timestamp": 1620650138100,
     "user": {
      "displayName": "Federico Catalano",
      "photoUrl": "",
      "userId": "05639651212963955278"
     },
     "user_tz": 180
    },
    "id": "sNZ2L-d7T6LO",
    "outputId": "8c3662e9-14c3-462d-e036-746a1c05303b"
   },
   "outputs": [
    {
     "data": {
      "text/html": [
       "<div>\n",
       "<style scoped>\n",
       "    .dataframe tbody tr th:only-of-type {\n",
       "        vertical-align: middle;\n",
       "    }\n",
       "\n",
       "    .dataframe tbody tr th {\n",
       "        vertical-align: top;\n",
       "    }\n",
       "\n",
       "    .dataframe thead th {\n",
       "        text-align: right;\n",
       "    }\n",
       "</style>\n",
       "<table border=\"1\" class=\"dataframe\">\n",
       "  <thead>\n",
       "    <tr style=\"text-align: right;\">\n",
       "      <th></th>\n",
       "      <th>Tipo</th>\n",
       "      <th>Cantidad</th>\n",
       "    </tr>\n",
       "  </thead>\n",
       "  <tbody>\n",
       "    <tr>\n",
       "      <th>0</th>\n",
       "      <td>Desarrollo</td>\n",
       "      <td>25</td>\n",
       "    </tr>\n",
       "    <tr>\n",
       "      <th>1</th>\n",
       "      <td>Propiedad</td>\n",
       "      <td>124824</td>\n",
       "    </tr>\n",
       "  </tbody>\n",
       "</table>\n",
       "</div>"
      ],
      "text/plain": [
       "         Tipo  Cantidad\n",
       "0  Desarrollo        25\n",
       "1   Propiedad    124824"
      ]
     },
     "execution_count": 16,
     "metadata": {
      "tags": []
     },
     "output_type": "execute_result"
    }
   ],
   "source": [
    "desarrollos_total"
   ]
  },
  {
   "cell_type": "code",
   "execution_count": null,
   "metadata": {
    "colab": {
     "base_uri": "https://localhost:8080/",
     "height": 248
    },
    "executionInfo": {
     "elapsed": 1651,
     "status": "ok",
     "timestamp": 1620650145935,
     "user": {
      "displayName": "Federico Catalano",
      "photoUrl": "",
      "userId": "05639651212963955278"
     },
     "user_tz": 180
    },
    "id": "OaW1CotbT6LP",
    "outputId": "fa980504-ff65-4d2b-c24b-488f75e68afc"
   },
   "outputs": [
    {
     "data": {
      "image/png": "[encoded data removed]",
      "text/plain": [
       "<Figure size 432x288 with 1 Axes>"
      ]
     },
     "metadata": {
      "tags": []
     },
     "output_type": "display_data"
    }
   ],
   "source": [
    "# Tipos de avisos\n",
    "etiqueta = ['Propiedad', 'Desarrollo']\n",
    "size = [124824, 25]\n",
    "color = ['orange', 'purple']\n",
    "explode = (0.3, 0) \n",
    "\n",
    "plt.pie(size, explode=explode, labels=etiqueta, colors=color,\n",
    "        autopct='%1.2f%%', shadow=True, startangle=140, pctdistance = 0.5)\n",
    "\n",
    "plt.axis('equal');"
   ]
  },
  {
   "cell_type": "markdown",
   "metadata": {
    "id": "HLwjd_sXT6LQ"
   },
   "source": [
    "De todas formas, los Desarrollos son una categoría con baja representatividad. Apenas llegan al 0.02% del total de propiedades. Para el periodo seleccionado, estos cinco barrios concentran casi la totalidad de los emprendimientos (19 sobre 25, es decir alrededor del 75% de lo ofertado dentro de esta categoría)."
   ]
  },
  {
   "cell_type": "code",
   "execution_count": null,
   "metadata": {
    "id": "VJRNDDtRT6LQ"
   },
   "outputs": [],
   "source": [
    "# Hacemos una consulta para obtener la base de datos para 2018\n",
    "QUERY3 = \"\"\"\n",
    "          SELECT\n",
    "            * # Seleccionamos todo\n",
    "          FROM\n",
    "            `properati-dw.public.ads`\n",
    "          WHERE\n",
    "            start_date >= \"2018-01-01\" AND end_date <= \"2018-12-31\" # cerramos el periodo\n",
    "            AND place.l1 = \"Argentina\" # filtramos pais\n",
    "            AND place.l2 = \"Capital Federal\" # filtramos la CABA \n",
    "\n",
    "          LIMIT\n",
    "            20000 # trabajamos solamente con 20000 avisos para no consumir demasiado en la consulta\n",
    "          \"\"\""
   ]
  },
  {
   "cell_type": "code",
   "execution_count": null,
   "metadata": {
    "id": "-hmILGKvT6LQ"
   },
   "outputs": [],
   "source": [
    "query_job_3 = client.query(QUERY3)"
   ]
  },
  {
   "cell_type": "code",
   "execution_count": null,
   "metadata": {
    "id": "-M-t3PXlT6LR"
   },
   "outputs": [],
   "source": [
    "df = query_job_3.to_dataframe()"
   ]
  },
  {
   "cell_type": "code",
   "execution_count": null,
   "metadata": {
    "colab": {
     "base_uri": "https://localhost:8080/"
    },
    "executionInfo": {
     "elapsed": 2358,
     "status": "ok",
     "timestamp": 1620650232654,
     "user": {
      "displayName": "Federico Catalano",
      "photoUrl": "",
      "userId": "05639651212963955278"
     },
     "user_tz": 180
    },
    "id": "DM32h1roT6LR",
    "outputId": "2295f7db-97e4-4c6e-bbaa-03f0c5c3ad93"
   },
   "outputs": [
    {
     "data": {
      "text/plain": [
       "Index(['type', 'type_i18n', 'country', 'id', 'start_date', 'end_date',\n",
       "       'created_on', 'place', 'property', 'development'],\n",
       "      dtype='object')"
      ]
     },
     "execution_count": 21,
     "metadata": {
      "tags": []
     },
     "output_type": "execute_result"
    }
   ],
   "source": [
    "# Tenemos nuestro DataFrame de propiedades de 2018. El unico problema es que los subcampos de 'place' y 'property' se guardaron como diccionario.\n",
    "df.columns"
   ]
  },
  {
   "cell_type": "code",
   "execution_count": null,
   "metadata": {
    "colab": {
     "base_uri": "https://localhost:8080/"
    },
    "executionInfo": {
     "elapsed": 1555,
     "status": "ok",
     "timestamp": 1620650244517,
     "user": {
      "displayName": "Federico Catalano",
      "photoUrl": "",
      "userId": "05639651212963955278"
     },
     "user_tz": 180
    },
    "id": "m-GxjzrMsTzD",
    "outputId": "7b30eb75-91dc-4092-9fee-a7685da3d38f"
   },
   "outputs": [
    {
     "data": {
      "text/plain": [
       "0        {'lat': -34.6321716, 'lon': -58.4257562, 'l1':...\n",
       "1        {'lat': -34.6472077, 'lon': -58.384634, 'l1': ...\n",
       "2        {'lat': -34.5779148, 'lon': -58.465901, 'l1': ...\n",
       "3        {'lat': -34.624016, 'lon': -58.486498, 'l1': '...\n",
       "4        {'lat': -34.601377, 'lon': -58.447825, 'l1': '...\n",
       "                               ...                        \n",
       "19995    {'lat': -34.5788678, 'lon': -58.4135834, 'l1':...\n",
       "19996    {'lat': -34.578455, 'lon': -58.408048, 'l1': '...\n",
       "19997    {'lat': -34.58522, 'lon': -58.426652, 'l1': 'A...\n",
       "19998    {'lat': -34.5761071962, 'lon': -58.4227383201,...\n",
       "19999    {'lat': -34.58522, 'lon': -58.426652, 'l1': 'A...\n",
       "Name: place, Length: 20000, dtype: object"
      ]
     },
     "execution_count": 22,
     "metadata": {
      "tags": []
     },
     "output_type": "execute_result"
    }
   ],
   "source": [
    "df['place']"
   ]
  },
  {
   "cell_type": "code",
   "execution_count": null,
   "metadata": {
    "id": "_rjkCdLtT6LS"
   },
   "outputs": [],
   "source": [
    "# Convertimos en series todas las key de los diccionarios\n",
    "ubicacion = df['place'].apply(pd.Series)"
   ]
  },
  {
   "cell_type": "code",
   "execution_count": null,
   "metadata": {
    "colab": {
     "base_uri": "https://localhost:8080/",
     "height": 195
    },
    "executionInfo": {
     "elapsed": 1447,
     "status": "ok",
     "timestamp": 1620650282096,
     "user": {
      "displayName": "Federico Catalano",
      "photoUrl": "",
      "userId": "05639651212963955278"
     },
     "user_tz": 180
    },
    "id": "yezcXWQdsJA6",
    "outputId": "88a9c01e-5e30-492b-dec2-1598df9a91bc"
   },
   "outputs": [
    {
     "data": {
      "text/html": [
       "<div>\n",
       "<style scoped>\n",
       "    .dataframe tbody tr th:only-of-type {\n",
       "        vertical-align: middle;\n",
       "    }\n",
       "\n",
       "    .dataframe tbody tr th {\n",
       "        vertical-align: top;\n",
       "    }\n",
       "\n",
       "    .dataframe thead th {\n",
       "        text-align: right;\n",
       "    }\n",
       "</style>\n",
       "<table border=\"1\" class=\"dataframe\">\n",
       "  <thead>\n",
       "    <tr style=\"text-align: right;\">\n",
       "      <th></th>\n",
       "      <th>lat</th>\n",
       "      <th>lon</th>\n",
       "      <th>l1</th>\n",
       "      <th>l2</th>\n",
       "      <th>l3</th>\n",
       "      <th>l4</th>\n",
       "      <th>l5</th>\n",
       "      <th>l6</th>\n",
       "    </tr>\n",
       "  </thead>\n",
       "  <tbody>\n",
       "    <tr>\n",
       "      <th>0</th>\n",
       "      <td>-34.632172</td>\n",
       "      <td>-58.425756</td>\n",
       "      <td>Argentina</td>\n",
       "      <td>Capital Federal</td>\n",
       "      <td>Boedo</td>\n",
       "      <td></td>\n",
       "      <td></td>\n",
       "      <td></td>\n",
       "    </tr>\n",
       "    <tr>\n",
       "      <th>1</th>\n",
       "      <td>-34.647208</td>\n",
       "      <td>-58.384634</td>\n",
       "      <td>Argentina</td>\n",
       "      <td>Capital Federal</td>\n",
       "      <td>Barracas</td>\n",
       "      <td></td>\n",
       "      <td></td>\n",
       "      <td></td>\n",
       "    </tr>\n",
       "    <tr>\n",
       "      <th>2</th>\n",
       "      <td>-34.577915</td>\n",
       "      <td>-58.465901</td>\n",
       "      <td>Argentina</td>\n",
       "      <td>Capital Federal</td>\n",
       "      <td>Belgrano</td>\n",
       "      <td></td>\n",
       "      <td></td>\n",
       "      <td></td>\n",
       "    </tr>\n",
       "    <tr>\n",
       "      <th>3</th>\n",
       "      <td>-34.624016</td>\n",
       "      <td>-58.486498</td>\n",
       "      <td>Argentina</td>\n",
       "      <td>Capital Federal</td>\n",
       "      <td>Floresta</td>\n",
       "      <td></td>\n",
       "      <td></td>\n",
       "      <td></td>\n",
       "    </tr>\n",
       "    <tr>\n",
       "      <th>4</th>\n",
       "      <td>-34.601377</td>\n",
       "      <td>-58.447825</td>\n",
       "      <td>Argentina</td>\n",
       "      <td>Capital Federal</td>\n",
       "      <td>Villa Crespo</td>\n",
       "      <td></td>\n",
       "      <td></td>\n",
       "      <td></td>\n",
       "    </tr>\n",
       "  </tbody>\n",
       "</table>\n",
       "</div>"
      ],
      "text/plain": [
       "         lat        lon         l1               l2            l3 l4 l5 l6\n",
       "0 -34.632172 -58.425756  Argentina  Capital Federal         Boedo         \n",
       "1 -34.647208 -58.384634  Argentina  Capital Federal      Barracas         \n",
       "2 -34.577915 -58.465901  Argentina  Capital Federal      Belgrano         \n",
       "3 -34.624016 -58.486498  Argentina  Capital Federal      Floresta         \n",
       "4 -34.601377 -58.447825  Argentina  Capital Federal  Villa Crespo         "
      ]
     },
     "execution_count": 26,
     "metadata": {
      "tags": []
     },
     "output_type": "execute_result"
    }
   ],
   "source": [
    "ubicacion.head()"
   ]
  },
  {
   "cell_type": "code",
   "execution_count": null,
   "metadata": {
    "colab": {
     "base_uri": "https://localhost:8080/"
    },
    "executionInfo": {
     "elapsed": 1338,
     "status": "ok",
     "timestamp": 1620650288720,
     "user": {
      "displayName": "Federico Catalano",
      "photoUrl": "",
      "userId": "05639651212963955278"
     },
     "user_tz": 180
    },
    "id": "kaWZPVd2sdJ5",
    "outputId": "ea3d04a1-b6d8-4b5b-c38c-0c31b46633a1"
   },
   "outputs": [
    {
     "data": {
      "text/plain": [
       "0        {'operation': 'Alquiler', 'operation_i18n': 'A...\n",
       "1        {'operation': 'Alquiler', 'operation_i18n': 'A...\n",
       "2        {'operation': 'Alquiler', 'operation_i18n': 'A...\n",
       "3        {'operation': 'Venta', 'operation_i18n': 'Vent...\n",
       "4        {'operation': 'Venta', 'operation_i18n': 'Vent...\n",
       "                               ...                        \n",
       "19995    {'operation': 'Venta', 'operation_i18n': 'Vent...\n",
       "19996    {'operation': 'Venta', 'operation_i18n': 'Vent...\n",
       "19997    {'operation': 'Alquiler', 'operation_i18n': 'A...\n",
       "19998    {'operation': 'Alquiler', 'operation_i18n': 'A...\n",
       "19999    {'operation': 'Alquiler', 'operation_i18n': 'A...\n",
       "Name: property, Length: 20000, dtype: object"
      ]
     },
     "execution_count": 27,
     "metadata": {
      "tags": []
     },
     "output_type": "execute_result"
    }
   ],
   "source": [
    "# el campo 'property'\n",
    "df['property']"
   ]
  },
  {
   "cell_type": "code",
   "execution_count": null,
   "metadata": {
    "id": "Vk6TA99JT6LT"
   },
   "outputs": [],
   "source": [
    "# Convertimos en series todas las key de los diccionarios\n",
    "propiedad = df['property'].apply(pd.Series)"
   ]
  },
  {
   "cell_type": "code",
   "execution_count": null,
   "metadata": {
    "id": "jVJ3ANWMT6LT"
   },
   "outputs": [],
   "source": [
    "# seleccionamos algunas las columnas previas a 'place' y 'property'\n",
    "columnas = df[['type', 'country', 'id', 'start_date', 'end_date', 'created_on']]"
   ]
  },
  {
   "cell_type": "code",
   "execution_count": null,
   "metadata": {
    "colab": {
     "base_uri": "https://localhost:8080/",
     "height": 195
    },
    "executionInfo": {
     "elapsed": 1704,
     "status": "ok",
     "timestamp": 1620650307299,
     "user": {
      "displayName": "Federico Catalano",
      "photoUrl": "",
      "userId": "05639651212963955278"
     },
     "user_tz": 180
    },
    "id": "Dxt3LeLisss1",
    "outputId": "dddb55a8-f76a-4372-c09d-f9c2cdab2931"
   },
   "outputs": [
    {
     "data": {
      "text/html": [
       "<div>\n",
       "<style scoped>\n",
       "    .dataframe tbody tr th:only-of-type {\n",
       "        vertical-align: middle;\n",
       "    }\n",
       "\n",
       "    .dataframe tbody tr th {\n",
       "        vertical-align: top;\n",
       "    }\n",
       "\n",
       "    .dataframe thead th {\n",
       "        text-align: right;\n",
       "    }\n",
       "</style>\n",
       "<table border=\"1\" class=\"dataframe\">\n",
       "  <thead>\n",
       "    <tr style=\"text-align: right;\">\n",
       "      <th></th>\n",
       "      <th>type</th>\n",
       "      <th>country</th>\n",
       "      <th>id</th>\n",
       "      <th>start_date</th>\n",
       "      <th>end_date</th>\n",
       "      <th>created_on</th>\n",
       "    </tr>\n",
       "  </thead>\n",
       "  <tbody>\n",
       "    <tr>\n",
       "      <th>0</th>\n",
       "      <td>Propiedad</td>\n",
       "      <td>Argentina</td>\n",
       "      <td>b'\\x932\\xcb\\xfe\\xd2\\xee\\xf3#\\x9c\\x0f\\x86z9\\x9f...</td>\n",
       "      <td>2018-12-08</td>\n",
       "      <td>2018-12-11</td>\n",
       "      <td>2018-12-08</td>\n",
       "    </tr>\n",
       "    <tr>\n",
       "      <th>1</th>\n",
       "      <td>Propiedad</td>\n",
       "      <td>Argentina</td>\n",
       "      <td>b'g\\xee\\rW\\x97\\xd5\\x1c\\x8fB\\xad\\x01\\xac\\xf1\\xf...</td>\n",
       "      <td>2018-12-08</td>\n",
       "      <td>2018-12-12</td>\n",
       "      <td>2018-12-08</td>\n",
       "    </tr>\n",
       "    <tr>\n",
       "      <th>2</th>\n",
       "      <td>Propiedad</td>\n",
       "      <td>Argentina</td>\n",
       "      <td>b'\\xe9\\x91\\xcbQk\\x9c\\x1bY\\x88~v\\x96\\xbca\\x80\\x9c'</td>\n",
       "      <td>2018-12-08</td>\n",
       "      <td>2018-12-15</td>\n",
       "      <td>2018-12-08</td>\n",
       "    </tr>\n",
       "    <tr>\n",
       "      <th>3</th>\n",
       "      <td>Propiedad</td>\n",
       "      <td>Argentina</td>\n",
       "      <td>b'\\xd9`a\\x93J\\xc0\\xb2\\x85\\xc9r\\xae1\\xac\\xe9\\xc...</td>\n",
       "      <td>2018-12-08</td>\n",
       "      <td>2018-12-29</td>\n",
       "      <td>2018-12-08</td>\n",
       "    </tr>\n",
       "    <tr>\n",
       "      <th>4</th>\n",
       "      <td>Propiedad</td>\n",
       "      <td>Argentina</td>\n",
       "      <td>b'F\\x0b\\xf7\\x99\\xe0\\x9e\\x82\\xb4\\x8eJ+r[\\x15\\x0c&lt;'</td>\n",
       "      <td>2018-12-08</td>\n",
       "      <td>2018-12-29</td>\n",
       "      <td>2018-12-08</td>\n",
       "    </tr>\n",
       "  </tbody>\n",
       "</table>\n",
       "</div>"
      ],
      "text/plain": [
       "        type    country  ...    end_date  created_on\n",
       "0  Propiedad  Argentina  ...  2018-12-11  2018-12-08\n",
       "1  Propiedad  Argentina  ...  2018-12-12  2018-12-08\n",
       "2  Propiedad  Argentina  ...  2018-12-15  2018-12-08\n",
       "3  Propiedad  Argentina  ...  2018-12-29  2018-12-08\n",
       "4  Propiedad  Argentina  ...  2018-12-29  2018-12-08\n",
       "\n",
       "[5 rows x 6 columns]"
      ]
     },
     "execution_count": 30,
     "metadata": {
      "tags": []
     },
     "output_type": "execute_result"
    }
   ],
   "source": [
    "columnas.head()"
   ]
  },
  {
   "cell_type": "code",
   "execution_count": null,
   "metadata": {
    "id": "TKPzjCFLT6LT"
   },
   "outputs": [],
   "source": [
    "# Contatenamos todo en un unico df. Ya tenemos nuestra base de datos\n",
    "df_18 = pd.concat([columnas, ubicacion, propiedad], axis=1)"
   ]
  },
  {
   "cell_type": "code",
   "execution_count": null,
   "metadata": {
    "colab": {
     "base_uri": "https://localhost:8080/",
     "height": 467
    },
    "executionInfo": {
     "elapsed": 1844,
     "status": "ok",
     "timestamp": 1620650322342,
     "user": {
      "displayName": "Federico Catalano",
      "photoUrl": "",
      "userId": "05639651212963955278"
     },
     "user_tz": 180
    },
    "id": "kF7ynSHwsz0K",
    "outputId": "8aeaf6ce-cb12-42ba-ae9c-9f55f48910d3"
   },
   "outputs": [
    {
     "data": {
      "text/html": [
       "<div>\n",
       "<style scoped>\n",
       "    .dataframe tbody tr th:only-of-type {\n",
       "        vertical-align: middle;\n",
       "    }\n",
       "\n",
       "    .dataframe tbody tr th {\n",
       "        vertical-align: top;\n",
       "    }\n",
       "\n",
       "    .dataframe thead th {\n",
       "        text-align: right;\n",
       "    }\n",
       "</style>\n",
       "<table border=\"1\" class=\"dataframe\">\n",
       "  <thead>\n",
       "    <tr style=\"text-align: right;\">\n",
       "      <th></th>\n",
       "      <th>type</th>\n",
       "      <th>country</th>\n",
       "      <th>id</th>\n",
       "      <th>start_date</th>\n",
       "      <th>end_date</th>\n",
       "      <th>created_on</th>\n",
       "      <th>lat</th>\n",
       "      <th>lon</th>\n",
       "      <th>l1</th>\n",
       "      <th>l2</th>\n",
       "      <th>l3</th>\n",
       "      <th>l4</th>\n",
       "      <th>l5</th>\n",
       "      <th>l6</th>\n",
       "      <th>operation</th>\n",
       "      <th>operation_i18n</th>\n",
       "      <th>type</th>\n",
       "      <th>type_i18n</th>\n",
       "      <th>rooms</th>\n",
       "      <th>bedrooms</th>\n",
       "      <th>bathrooms</th>\n",
       "      <th>surface_total</th>\n",
       "      <th>surface_covered</th>\n",
       "      <th>price</th>\n",
       "      <th>currency</th>\n",
       "      <th>price_period</th>\n",
       "      <th>title</th>\n",
       "      <th>description</th>\n",
       "    </tr>\n",
       "  </thead>\n",
       "  <tbody>\n",
       "    <tr>\n",
       "      <th>0</th>\n",
       "      <td>Propiedad</td>\n",
       "      <td>Argentina</td>\n",
       "      <td>b'\\x932\\xcb\\xfe\\xd2\\xee\\xf3#\\x9c\\x0f\\x86z9\\x9f...</td>\n",
       "      <td>2018-12-08</td>\n",
       "      <td>2018-12-11</td>\n",
       "      <td>2018-12-08</td>\n",
       "      <td>-34.632172</td>\n",
       "      <td>-58.425756</td>\n",
       "      <td>Argentina</td>\n",
       "      <td>Capital Federal</td>\n",
       "      <td>Boedo</td>\n",
       "      <td></td>\n",
       "      <td></td>\n",
       "      <td></td>\n",
       "      <td>Alquiler</td>\n",
       "      <td>Alquiler</td>\n",
       "      <td>PH</td>\n",
       "      <td>PH</td>\n",
       "      <td>2.0</td>\n",
       "      <td>NaN</td>\n",
       "      <td>1.0</td>\n",
       "      <td>NaN</td>\n",
       "      <td>NaN</td>\n",
       "      <td>9500.0</td>\n",
       "      <td>USD</td>\n",
       "      <td>Mensual</td>\n",
       "      <td>PH - Boedo</td>\n",
       "      <td>PH SIN EXPENSAS &lt;br&gt;PATIO 2.50 X 5.50 &lt;br&gt;COCI...</td>\n",
       "    </tr>\n",
       "    <tr>\n",
       "      <th>1</th>\n",
       "      <td>Propiedad</td>\n",
       "      <td>Argentina</td>\n",
       "      <td>b'g\\xee\\rW\\x97\\xd5\\x1c\\x8fB\\xad\\x01\\xac\\xf1\\xf...</td>\n",
       "      <td>2018-12-08</td>\n",
       "      <td>2018-12-12</td>\n",
       "      <td>2018-12-08</td>\n",
       "      <td>-34.647208</td>\n",
       "      <td>-58.384634</td>\n",
       "      <td>Argentina</td>\n",
       "      <td>Capital Federal</td>\n",
       "      <td>Barracas</td>\n",
       "      <td></td>\n",
       "      <td></td>\n",
       "      <td></td>\n",
       "      <td>Alquiler</td>\n",
       "      <td>Alquiler</td>\n",
       "      <td>PH</td>\n",
       "      <td>PH</td>\n",
       "      <td>3.0</td>\n",
       "      <td>2.0</td>\n",
       "      <td>1.0</td>\n",
       "      <td>158.0</td>\n",
       "      <td>78.0</td>\n",
       "      <td>13000.0</td>\n",
       "      <td>ARS</td>\n",
       "      <td>Mensual</td>\n",
       "      <td>PH EN ALQUILER</td>\n",
       "      <td>Xintel &lt;br&gt;&lt;br&gt;&lt;br&gt;&lt;br&gt; Alte. Brown 875, CABA ...</td>\n",
       "    </tr>\n",
       "    <tr>\n",
       "      <th>2</th>\n",
       "      <td>Propiedad</td>\n",
       "      <td>Argentina</td>\n",
       "      <td>b'\\xe9\\x91\\xcbQk\\x9c\\x1bY\\x88~v\\x96\\xbca\\x80\\x9c'</td>\n",
       "      <td>2018-12-08</td>\n",
       "      <td>2018-12-15</td>\n",
       "      <td>2018-12-08</td>\n",
       "      <td>-34.577915</td>\n",
       "      <td>-58.465901</td>\n",
       "      <td>Argentina</td>\n",
       "      <td>Capital Federal</td>\n",
       "      <td>Belgrano</td>\n",
       "      <td></td>\n",
       "      <td></td>\n",
       "      <td></td>\n",
       "      <td>Alquiler</td>\n",
       "      <td>Alquiler</td>\n",
       "      <td>PH</td>\n",
       "      <td>PH</td>\n",
       "      <td>2.0</td>\n",
       "      <td>NaN</td>\n",
       "      <td>1.0</td>\n",
       "      <td>48.0</td>\n",
       "      <td>44.0</td>\n",
       "      <td>12000.0</td>\n",
       "      <td>ARS</td>\n",
       "      <td>Mensual</td>\n",
       "      <td>PH - Belgrano R</td>\n",
       "      <td>DEPARTAMENTO EN PLANTA BAJA DE DOS AMBIENTES A...</td>\n",
       "    </tr>\n",
       "    <tr>\n",
       "      <th>3</th>\n",
       "      <td>Propiedad</td>\n",
       "      <td>Argentina</td>\n",
       "      <td>b'\\xd9`a\\x93J\\xc0\\xb2\\x85\\xc9r\\xae1\\xac\\xe9\\xc...</td>\n",
       "      <td>2018-12-08</td>\n",
       "      <td>2018-12-29</td>\n",
       "      <td>2018-12-08</td>\n",
       "      <td>-34.624016</td>\n",
       "      <td>-58.486498</td>\n",
       "      <td>Argentina</td>\n",
       "      <td>Capital Federal</td>\n",
       "      <td>Floresta</td>\n",
       "      <td></td>\n",
       "      <td></td>\n",
       "      <td></td>\n",
       "      <td>Venta</td>\n",
       "      <td>Venta</td>\n",
       "      <td>PH</td>\n",
       "      <td>PH</td>\n",
       "      <td>4.0</td>\n",
       "      <td>2.0</td>\n",
       "      <td>1.0</td>\n",
       "      <td>230.0</td>\n",
       "      <td>210.0</td>\n",
       "      <td>270000.0</td>\n",
       "      <td>USD</td>\n",
       "      <td>Mensual</td>\n",
       "      <td>Venta PH 4 ambientes, Floresta</td>\n",
       "      <td>Corredor Responsable: Martin Manias - CUCICBA ...</td>\n",
       "    </tr>\n",
       "    <tr>\n",
       "      <th>4</th>\n",
       "      <td>Propiedad</td>\n",
       "      <td>Argentina</td>\n",
       "      <td>b'F\\x0b\\xf7\\x99\\xe0\\x9e\\x82\\xb4\\x8eJ+r[\\x15\\x0c&lt;'</td>\n",
       "      <td>2018-12-08</td>\n",
       "      <td>2018-12-29</td>\n",
       "      <td>2018-12-08</td>\n",
       "      <td>-34.601377</td>\n",
       "      <td>-58.447825</td>\n",
       "      <td>Argentina</td>\n",
       "      <td>Capital Federal</td>\n",
       "      <td>Villa Crespo</td>\n",
       "      <td></td>\n",
       "      <td></td>\n",
       "      <td></td>\n",
       "      <td>Venta</td>\n",
       "      <td>Venta</td>\n",
       "      <td>PH</td>\n",
       "      <td>PH</td>\n",
       "      <td>3.0</td>\n",
       "      <td>2.0</td>\n",
       "      <td>1.0</td>\n",
       "      <td>80.0</td>\n",
       "      <td>68.0</td>\n",
       "      <td>180000.0</td>\n",
       "      <td>USD</td>\n",
       "      <td>Mensual</td>\n",
       "      <td>PH 3 ambientes en Villa Crespo</td>\n",
       "      <td>Corredor Responsable: Martin Manias - CUCICBA ...</td>\n",
       "    </tr>\n",
       "  </tbody>\n",
       "</table>\n",
       "</div>"
      ],
      "text/plain": [
       "        type  ...                                        description\n",
       "0  Propiedad  ...  PH SIN EXPENSAS <br>PATIO 2.50 X 5.50 <br>COCI...\n",
       "1  Propiedad  ...  Xintel <br><br><br><br> Alte. Brown 875, CABA ...\n",
       "2  Propiedad  ...  DEPARTAMENTO EN PLANTA BAJA DE DOS AMBIENTES A...\n",
       "3  Propiedad  ...  Corredor Responsable: Martin Manias - CUCICBA ...\n",
       "4  Propiedad  ...  Corredor Responsable: Martin Manias - CUCICBA ...\n",
       "\n",
       "[5 rows x 28 columns]"
      ]
     },
     "execution_count": 32,
     "metadata": {
      "tags": []
     },
     "output_type": "execute_result"
    }
   ],
   "source": [
    "df_18.head()"
   ]
  },
  {
   "cell_type": "code",
   "execution_count": null,
   "metadata": {},
   "outputs": [],
   "source": [
    "try:\n",
    "    from google.colab import drive\n",
    "    drive.mount('/drive/')\n",
    "    # Exportamos el df a un csv por si acaso \n",
    "    df_18.to_csv('/drive/MyDrive/properati_2018.csv', encoding = 'UTF-8', sep = ',')\n",
    "except:\n",
    "    df_18.to_csv('../data/properati_2018.csv', encoding = 'UTF-8', sep = ',')"
   ]
  }
 ],
 "metadata": {
  "colab": {
   "collapsed_sections": [],
   "name": "bases_de_datos_properati.ipynb",
   "provenance": [
    {
     "file_id": "1SUCaLv8YlEpT1TCVyxle3nfHOYhOvg-w",
     "timestamp": 1620645096264
    }
   ],
   "toc_visible": true
  },
  "kernelspec": {
   "display_name": "Python 3 (ipykernel)",
   "language": "python",
   "name": "python3"
  },
  "language_info": {
   "codemirror_mode": {
    "name": "ipython",
    "version": 3
   },
   "file_extension": ".py",
   "mimetype": "text/x-python",
   "name": "python",
   "nbconvert_exporter": "python",
   "pygments_lexer": "ipython3",
   "version": "3.7.6"
  }
 },
 "nbformat": 4,
 "nbformat_minor": 1
}
