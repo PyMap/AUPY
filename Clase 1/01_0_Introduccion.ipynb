{
 "cells": [
  {
   "cell_type": "markdown",
   "metadata": {},
   "source": [
    "# Introducción al manejo de datos geográficos"
   ]
  },
  {
   "cell_type": "markdown",
   "metadata": {},
   "source": [
    "## Clase 1: Métodos, proyecciones, geometrías y otras yerbas..."
   ]
  },
  {
   "cell_type": "markdown",
   "metadata": {},
   "source": [
    "### Preparándonos para trabajar con geopandas"
   ]
  },
  {
   "cell_type": "markdown",
   "metadata": {},
   "source": [
    "![INTROPANDAS](../imagenes/caras_pandas.png)"
   ]
  },
  {
   "cell_type": "markdown",
   "metadata": {},
   "source": [
    "## Introducción "
   ]
  },
  {
   "cell_type": "markdown",
   "metadata": {},
   "source": [
    "Si llegaste hasta acá, es que seguramente ya contás con los rudimentos básicos para manejar datos con python. Ya manipulaste algunos de sus objetos nativos como listas, diccionarios y tuplas, e incluso trabajaste con arrays de numpy y dataframes de pandas. Bueno, entonces ya contamos con una gran ventaja. \n",
    "\n",
    "Si bien es cierto que la espacialidad es un atributo que requiere del conocimiento de algunos métodos específicos (que iremos viendo a lo largo del modulo), también lo es que los `datos espaciales` no dejan de ser `datos`. En otras palabras, esto significa que para familiarizarnos con ellos apelaremos a muchas de las estretegias que seguramente ya forman parte de tu repertortio. \n",
    "\n",
    "De esta manera, la **propuesta para esta primera clase** será la siguiente:\n",
    "\n",
    "**0)** *Repaso general*: A lo largo de esta introducción, revisaremos algunos recursos de gran utilidad para el tratamiento de nuestros datos. Fijaremos los conceptos que están por detrás de métodos y funciones mayormemnte utilizados para trabajar con distintos tipos de datos: map y apply, diferencias entre funciones regulares y anónimas, etc. serán el principal objetivo de este repaso. Esto con la finalidad de saltar al mundo de los atributos geo en la primera parte de esta clase.\n",
    "\n",
    "**1)** *Geopandas*: Se estudiarán los conceptos más relevantes de la librería Geopandas 0.7.0. Entre ellos, los cambios sufridos en los objetos de tipo CRS, reproyecciones, shapely y los métodos aplicables a los distintos tipos de geometrías, joins espaciales y algunas nociones generales de ploteo y geolocalización. El objetivo de esta primera clase será dar un pantallazo general a estos temas, los cuales se irán profundizando a lo largo de las otras clases del módulo. Empecemos! "
   ]
  },
  {
   "cell_type": "markdown",
   "metadata": {},
   "source": [
    "### Algunas cuestiones básicas: funciones y métodos. "
   ]
  },
  {
   "cell_type": "markdown",
   "metadata": {},
   "source": [
    "Hasta acá, sabemos que una función es un bloque de código que comienza con la sentencia `def` y lleva un nombre asociado. Puede recibir argumentos, los que comúnmente son utilizados en una expresión o secuencia de sentencias para realizar alguna tarea o devolver un objeto. De esta manera..."
   ]
  },
  {
   "cell_type": "code",
   "execution_count": 1,
   "metadata": {},
   "outputs": [],
   "source": [
    "# Armemos una función que devuelva la suma de los elementos de iterable...\n",
    "def sumar(arg):\n",
    "    '''\n",
    "    Suma de los items de un objeto iterable.\n",
    "    ...\n",
    "    Argumentos:\n",
    "        arg(iterable): iterable de elementos numéricos \n",
    "                       (e.g. 'list' o 'pandas serie')\n",
    "    Devuelve:\n",
    "        integer: resultado de la sumatoria\n",
    "    '''\n",
    "    total = 0\n",
    "    for i in range(len(arg)):\n",
    "        total = total + arg[i] \n",
    "    return total"
   ]
  },
  {
   "cell_type": "code",
   "execution_count": 2,
   "metadata": {},
   "outputs": [],
   "source": [
    "iterable = [2,4,6,8]"
   ]
  },
  {
   "cell_type": "code",
   "execution_count": 3,
   "metadata": {},
   "outputs": [
    {
     "data": {
      "text/plain": [
       "20"
      ]
     },
     "execution_count": 3,
     "metadata": {},
     "output_type": "execute_result"
    }
   ],
   "source": [
    "sumar(iterable)"
   ]
  },
  {
   "cell_type": "markdown",
   "metadata": {},
   "source": [
    "Vemos que esta función nos sirve para obtener el resultado. Llamándola y pasándole el parámetro que deseemos nos devuelve la sumatoria de todos sus elementos. Ahora, ¿la forma de ejecutar una función solamente es llamándola de este modo? No, hay otra manera de llamar a las funciones y esta es a través de los métodos. Un `método` es en sí mismo una función pero cuya cualidad principal es la de aplicarse sobre un objeto mismo, utilizando parámetros opcionales. Un método sólo existe dentro del objeto y por eso se lo puede llamar desde sí mismo.\n",
    "\n",
    "En la POO, las clases tienen `atributos` y `métodos`. Por decirlo de alguna manera, la clase calculadora, tiene números y los puede sumar. En python, los métodos se definen dentro de las clases y se llaman desde el objeto aplicando un paréntesis. Esta es la otra manera de llamar funciones que nos estaba faltando. Veámosla..."
   ]
  },
  {
   "cell_type": "code",
   "execution_count": 4,
   "metadata": {},
   "outputs": [
    {
     "data": {
      "text/plain": [
       "20"
      ]
     },
     "execution_count": 4,
     "metadata": {},
     "output_type": "execute_result"
    }
   ],
   "source": [
    "# llamemos la función que creamos enteriormente...\n",
    "sumar(iterable)"
   ]
  },
  {
   "cell_type": "code",
   "execution_count": 5,
   "metadata": {},
   "outputs": [],
   "source": [
    "# hagamos lo mismo, sumar todos los elementos de un iterable pero ahora usando numpy...\n",
    "import numpy as np"
   ]
  },
  {
   "cell_type": "code",
   "execution_count": 6,
   "metadata": {},
   "outputs": [
    {
     "data": {
      "text/plain": [
       "20"
      ]
     },
     "execution_count": 6,
     "metadata": {},
     "output_type": "execute_result"
    }
   ],
   "source": [
    "# hasta ahora tenemos el mismo resultado\n",
    "np.sum(iterable)"
   ]
  },
  {
   "cell_type": "markdown",
   "metadata": {},
   "source": [
    "Tratemos ahora de sumar los elementos de nuestra lista pero pensando a la suma como una propiedad que esta tiene y puede aplicar sobre sí misma. Es decir como si puedese hacerlo por el hecho de ser una lista:"
   ]
  },
  {
   "cell_type": "code",
   "execution_count": 7,
   "metadata": {},
   "outputs": [
    {
     "ename": "AttributeError",
     "evalue": "'list' object has no attribute 'sum'",
     "output_type": "error",
     "traceback": [
      "\u001b[0;31m---------------------------------------------------------------------------\u001b[0m",
      "\u001b[0;31mAttributeError\u001b[0m                            Traceback (most recent call last)",
      "\u001b[0;32m<ipython-input-7-47f36afc0e32>\u001b[0m in \u001b[0;36m<module>\u001b[0;34m\u001b[0m\n\u001b[1;32m      1\u001b[0m \u001b[0;31m# veamos qué sucede\u001b[0m\u001b[0;34m\u001b[0m\u001b[0;34m\u001b[0m\u001b[0;34m\u001b[0m\u001b[0m\n\u001b[0;32m----> 2\u001b[0;31m \u001b[0miterable\u001b[0m\u001b[0;34m.\u001b[0m\u001b[0msum\u001b[0m\u001b[0;34m(\u001b[0m\u001b[0;34m)\u001b[0m\u001b[0;34m\u001b[0m\u001b[0;34m\u001b[0m\u001b[0m\n\u001b[0m",
      "\u001b[0;31mAttributeError\u001b[0m: 'list' object has no attribute 'sum'"
     ]
    }
   ],
   "source": [
    "# veamos qué sucede\n",
    "iterable.sum()"
   ]
  },
  {
   "cell_type": "markdown",
   "metadata": {},
   "source": [
    "Queda claro por el error. La lista no cuenta con un método integrado que permita automáticamente sumar los elementos que la componen. Pero no ocurre lo mismo con los objetos de numpy. Continuemos con el ejemplo y veamos por qué..."
   ]
  },
  {
   "cell_type": "code",
   "execution_count": 8,
   "metadata": {},
   "outputs": [
    {
     "data": {
      "text/plain": [
       "20"
      ]
     },
     "execution_count": 8,
     "metadata": {},
     "output_type": "execute_result"
    }
   ],
   "source": [
    "# convertimos nuesta lista en un array de numpy\n",
    "np.array(iterable).sum()"
   ]
  },
  {
   "cell_type": "markdown",
   "metadata": {},
   "source": [
    "Vemos que llamando a la función suma como un método del objeto ya no nos devuelve un error. Y esto es porque los arrays de numpy sí cuentan con un método o función integrada que les permite sumar los elementos que los componen (como así también restarlos, conseguir un promedio, y otras cosas con las que python nativo no cuenta. A menos que escribamos una función que lo haga como hicimos al principio de este ejemplo!)."
   ]
  },
  {
   "cell_type": "markdown",
   "metadata": {},
   "source": [
    "Ahora que ya revisamos esto, tenemos en claro que los métodos se llaman o ejecutan desde el objeto mismo mientras que las funciones lo hacen por fuera y aplicando parámetros a una expresión. \n",
    "\n",
    "Revisemos ahora algunas formas alternativas de aplicar funciones y de llamar métodos que nos serán realmente útiles."
   ]
  },
  {
   "cell_type": "markdown",
   "metadata": {},
   "source": [
    "### Compañeros de ruta: la función lambda y los métodos map(), apply() y applymap() "
   ]
  },
  {
   "cell_type": "markdown",
   "metadata": {},
   "source": [
    "A esta altura, esperamos que algunas de las herramientas que has venido utilizando casi `de memoria` empiecen a decantar por si solas. Con seguridad necesitaste agregar o transformar columnas a tus dataframes para que cumplieran con determinadas características. Y para ello, debes haber utilizado métodos y funciones que nunca terminaste de entender bien qué es lo que hacían. Bueno, acá vamos a hacer una revisión rápida para terminar de entender cómo se usan y cuál es su equivalencia con estructuras de datos nativas de python. \n",
    "\n",
    "Hicimos esta selección porque creemos que son las de uso más frecuente y te servirán para terminar de redondear y afianzar muchas de las cosas que ya venís haciendo. Pensá esto como una cáscara que, a medida que avancemos, iremos llenando con atributos y métodos propios del mundo `geo`."
   ]
  },
  {
   "cell_type": "code",
   "execution_count": 9,
   "metadata": {},
   "outputs": [],
   "source": [
    "# empecemos por importar pandas con su clásico alias\n",
    "import pandas as pd"
   ]
  },
  {
   "cell_type": "markdown",
   "metadata": {},
   "source": [
    "> **1. La función anónima `lambda`**"
   ]
  },
  {
   "cell_type": "markdown",
   "metadata": {},
   "source": [
    "Es muy útil pensar esta función como si el **`lambda`** equivaliera al **`def`** en una función regular. Para ponerlo en otros términos, digamos que la manera en la que definimos una función anónima también nos permite crear parámetros que vamos a usar para aplicar una expresión a partir de la que transformaremos algún objeto. "
   ]
  },
  {
   "cell_type": "markdown",
   "metadata": {},
   "source": [
    "![SINTAXIS](../imagenes/sintaxis_funciones_anonima_regular.jpg)"
   ]
  },
  {
   "cell_type": "markdown",
   "metadata": {},
   "source": [
    "Esto, con dos diferencias esenciales. **La primera, que la función anónima no requiere de un `return` para devolvernos un resultado**. "
   ]
  },
  {
   "cell_type": "markdown",
   "metadata": {},
   "source": [
    "![SINTAXIS](../imagenes/funcionamiento_anonima_regular.jpg)"
   ]
  },
  {
   "cell_type": "markdown",
   "metadata": {},
   "source": [
    "Veamos algún ejemplo concreto. Para ello, supongamos que contamos con un código (algo bastante común para reconocer unidades administrativas o físicas en un territorio dado) y que queremos hacer alguna transformación sobre el mismo. Por ejemplo, completar su formato para contar con mayor información o hacer algún matcheo o unión con fuentes de información externas. Imaginemos que estamos trabajando con el código postal y que sólo contamos con una de las siguientes secciones..."
   ]
  },
  {
   "cell_type": "markdown",
   "metadata": {},
   "source": [
    "Vamos un caso real, el del CPA. El mismo está compuesto por ocho caracteres:\n",
    "1. Una letra identificatoria de la provincia.\n",
    "2. Un número de 4 dígitos que identifica la localidad, ciudad o barrio.\n",
    "3. Una combinación de tres letras que identifican la \"cara\" de la manzana."
   ]
  },
  {
   "cell_type": "markdown",
   "metadata": {},
   "source": [
    "![CPA](../imagenes/estructura_codigos_postales.png)"
   ]
  },
  {
   "cell_type": "markdown",
   "metadata": {},
   "source": [
    "¿Cómo podríamos completarlo con otras secciones utilizando una función anónima si sólo contaramos con la intermedia, por ejemplo? Veamos cómo..."
   ]
  },
  {
   "cell_type": "code",
   "execution_count": 10,
   "metadata": {},
   "outputs": [
    {
     "data": {
      "text/plain": [
       "'C1024FDA'"
      ]
     },
     "execution_count": 10,
     "metadata": {},
     "output_type": "execute_result"
    }
   ],
   "source": [
    "# instanciamos nuestro código incompleto.\n",
    "codigo_postal = '1024'\n",
    "\n",
    "# definimos una función para formar códigos postales que estén en una misma jurisdicción y cara de manzana\n",
    "completar_formato = lambda x: 'C'+ x +'FDA'\n",
    "\n",
    "# la aplicamos\n",
    "completar_formato(codigo_postal)"
   ]
  },
  {
   "cell_type": "markdown",
   "metadata": {},
   "source": [
    "Como pudimos ver, `x` es nuestro parámetro, aquel sobre el cual se aplicará la expresión delimitada a partir del `lambda`."
   ]
  },
  {
   "cell_type": "markdown",
   "metadata": {},
   "source": [
    "**La segunda diferencia, es que las funciones anónimas sólo trabajan con una expresión en su cuerpo** (mientras que las regulares pueden contener muchas). `x` (o como nosotros decidamos que se llame) es lo que se conoce como un `place holder`. Es decir, podemos aplicar la expresión definida en la función a filas de una serie de pandas, a items de una lista, etc. Ahora bien, la función lambda sólo toma una expresión a la vez. Es decir, que debemos aplicarla a tantos objetos o elementos como parámetros hayamos definido en nuestra función.\n",
    "\n",
    "Pero no nos dejemos confundir. Veamos qué pasa si queremos completar una serie o una lista."
   ]
  },
  {
   "cell_type": "code",
   "execution_count": 11,
   "metadata": {},
   "outputs": [],
   "source": [
    "# definimos nuevamente nuestro código\n",
    "codigo_postal = pd.Series(['C','1024','FDA'])\n",
    "\n",
    "# rehacemos la función anónima, ahora agregando algunos parámetros más después de la key 'lambda'\n",
    "completar_formato = lambda x,y,z: x + y + z"
   ]
  },
  {
   "cell_type": "code",
   "execution_count": 12,
   "metadata": {},
   "outputs": [
    {
     "ename": "TypeError",
     "evalue": "<lambda>() missing 2 required positional arguments: 'y' and 'z'",
     "output_type": "error",
     "traceback": [
      "\u001b[0;31m---------------------------------------------------------------------------\u001b[0m",
      "\u001b[0;31mTypeError\u001b[0m                                 Traceback (most recent call last)",
      "\u001b[0;32m<ipython-input-12-f5e78e8e3a23>\u001b[0m in \u001b[0;36m<module>\u001b[0;34m\u001b[0m\n\u001b[1;32m      1\u001b[0m \u001b[0;31m# prestemos atención al tipo de error que nos devuelve\u001b[0m\u001b[0;34m\u001b[0m\u001b[0;34m\u001b[0m\u001b[0;34m\u001b[0m\u001b[0m\n\u001b[0;32m----> 2\u001b[0;31m \u001b[0mcompletar_formato\u001b[0m\u001b[0;34m(\u001b[0m\u001b[0mcodigo_postal\u001b[0m\u001b[0;34m)\u001b[0m\u001b[0;34m\u001b[0m\u001b[0;34m\u001b[0m\u001b[0m\n\u001b[0m",
      "\u001b[0;31mTypeError\u001b[0m: <lambda>() missing 2 required positional arguments: 'y' and 'z'"
     ]
    }
   ],
   "source": [
    "# prestemos atención al tipo de error que nos devuelve\n",
    "completar_formato(codigo_postal)"
   ]
  },
  {
   "cell_type": "markdown",
   "metadata": {},
   "source": [
    "Como se puede leer, hay dos argumentos que aparecen como missing. Y esto es porque estamos aplicando una función con tres parametros sobre una sola serie. Distinto hubiese sido si..."
   ]
  },
  {
   "cell_type": "code",
   "execution_count": 13,
   "metadata": {},
   "outputs": [
    {
     "data": {
      "text/plain": [
       "'C1024FDA'"
      ]
     },
     "execution_count": 13,
     "metadata": {},
     "output_type": "execute_result"
    }
   ],
   "source": [
    "# instanciamos por separado las distintas parte del código\n",
    "parte_uno, parte_dos, parte_tres = 'C','1024','FDA'\n",
    "\n",
    "# y aplicamos la función sobre las tres partes\n",
    "completar_formato(parte_uno, parte_dos, parte_tres)"
   ]
  },
  {
   "cell_type": "markdown",
   "metadata": {},
   "source": [
    "O si..."
   ]
  },
  {
   "cell_type": "code",
   "execution_count": 14,
   "metadata": {},
   "outputs": [],
   "source": [
    "# suponiendo que tenemos una serie con muchas secciones de codigos postales ordenadas\n",
    "codigo_postal = pd.Series(['C','1024','FDA','C','1171','ABM','C','1097','AAX'])"
   ]
  },
  {
   "cell_type": "code",
   "execution_count": 15,
   "metadata": {},
   "outputs": [],
   "source": [
    "# rearmamos nuestra función lambda con un solo parametro\n",
    "completar_formato = lambda x: [x[i]+x[i+1]+x[i+2] for i in x.index if len(x[i])<2]"
   ]
  },
  {
   "cell_type": "code",
   "execution_count": 16,
   "metadata": {},
   "outputs": [
    {
     "data": {
      "text/plain": [
       "['C1024FDA', 'C1171ABM', 'C1097AAX']"
      ]
     },
     "execution_count": 16,
     "metadata": {},
     "output_type": "execute_result"
    }
   ],
   "source": [
    "# para obtener todos los codigos postales con las secciones que estaban dispersas, ahora concatendas\n",
    "completar_formato(codigo_postal)"
   ]
  },
  {
   "cell_type": "markdown",
   "metadata": {},
   "source": [
    "> **2. El método `map`**"
   ]
  },
  {
   "cell_type": "markdown",
   "metadata": {},
   "source": [
    "Este método se utiliza para aplicar una función a todos los elementos de un iterable especificado. De esta manera, su sintáxis queda definida como:"
   ]
  },
  {
   "cell_type": "markdown",
   "metadata": {},
   "source": [
    "![SINTAXIS](../imagenes/sintaxis_map.jpg)"
   ]
  },
  {
   "cell_type": "markdown",
   "metadata": {},
   "source": [
    "Se pueden pasar múltiples argumentos, siempre que la función que se esté mapeando tenga esa misma cantidad de argumentos. La función se va a aplicar a dichos iterables en paralelo y se va a detener cuando el iterable más corto haya sido agotado. Veamos algunos ejemplos..."
   ]
  },
  {
   "cell_type": "code",
   "execution_count": 17,
   "metadata": {},
   "outputs": [
    {
     "data": {
      "text/plain": [
       "<map at 0x7f8d09833a20>"
      ]
     },
     "execution_count": 17,
     "metadata": {},
     "output_type": "execute_result"
    }
   ],
   "source": [
    "# armamos una funcion regular que sume tres variables\n",
    "def combina(a,b,c):\n",
    "    return a+b+c\n",
    "\n",
    "# aplicamos la función a las tres secciones de nuestro código postal\n",
    "map(combina,parte_uno, parte_dos, parte_tres)"
   ]
  },
  {
   "cell_type": "markdown",
   "metadata": {},
   "source": [
    "Detengámonos brevemente en qué nos devuelve, un obtejo `map`. Este es un [`iterador`](https://docs.python.org/3/glossary.html#term-iterator) y en python está diseñado así por una cuestión de eficiencia. Es decir, para evitar guardar en memoria todo sobre lo que se itera, map devuelve un objeto de tipo iterador que se puede visualizar cuando le aplicamos algún contenedor, como una lista o una serie. "
   ]
  },
  {
   "cell_type": "code",
   "execution_count": 18,
   "metadata": {},
   "outputs": [
    {
     "data": {
      "text/plain": [
       "['C1024FDA']"
      ]
     },
     "execution_count": 18,
     "metadata": {},
     "output_type": "execute_result"
    }
   ],
   "source": [
    "list(map(combina,[parte_uno], [parte_dos], [parte_tres]))"
   ]
  },
  {
   "cell_type": "code",
   "execution_count": 19,
   "metadata": {},
   "outputs": [
    {
     "data": {
      "text/plain": [
       "0    C1024FDA\n",
       "dtype: object"
      ]
     },
     "execution_count": 19,
     "metadata": {},
     "output_type": "execute_result"
    }
   ],
   "source": [
    "pd.Series(map(combina,[parte_uno],[parte_dos], [parte_tres]))"
   ]
  },
  {
   "cell_type": "markdown",
   "metadata": {},
   "source": [
    "Y por qué se puede leer cuando le aplicamos un contenedor?, basicamente porque el objeto de tipo `map` es un objeto iterable, es decir, que se puede iterar sobre él:"
   ]
  },
  {
   "cell_type": "code",
   "execution_count": 20,
   "metadata": {},
   "outputs": [
    {
     "name": "stdout",
     "output_type": "stream",
     "text": [
      "C1024FDA\n"
     ]
    }
   ],
   "source": [
    "for i in map(combina, [parte_uno], [parte_dos], [parte_tres]):\n",
    "    print(i)"
   ]
  },
  {
   "cell_type": "markdown",
   "metadata": {},
   "source": [
    "Esto significa que, por ejemplo, si aplcaramos un `list()` a un `map(func, iter)` estaría sucediendo algo como esto:"
   ]
  },
  {
   "cell_type": "code",
   "execution_count": 21,
   "metadata": {},
   "outputs": [
    {
     "data": {
      "text/plain": [
       "['C1024FDA']"
      ]
     },
     "execution_count": 21,
     "metadata": {},
     "output_type": "execute_result"
    }
   ],
   "source": [
    "codigo = []\n",
    "for i in map(combina,[parte_uno], [parte_dos], [parte_tres]):\n",
    "    codigo.append(i)\n",
    "    \n",
    "codigo"
   ]
  },
  {
   "cell_type": "markdown",
   "metadata": {},
   "source": [
    "Este comportamiento hace que `map()` sea más rápido que otras alternativas, por ejemplo una lista por comprensión."
   ]
  },
  {
   "cell_type": "code",
   "execution_count": 22,
   "metadata": {},
   "outputs": [],
   "source": [
    "import time"
   ]
  },
  {
   "cell_type": "code",
   "execution_count": 23,
   "metadata": {},
   "outputs": [],
   "source": [
    "partes = ['C','1024','FDA','C','1171','ABM','C','1097','AAX']"
   ]
  },
  {
   "cell_type": "code",
   "execution_count": 24,
   "metadata": {},
   "outputs": [],
   "source": [
    "# lista por comprension\n",
    "inicio = time.time()\n",
    "resultado = [(partes[i]+partes[i+1]+partes[i+2]) for i in range(len(partes)) if i%3==0]\n",
    "fin = time.time()"
   ]
  },
  {
   "cell_type": "code",
   "execution_count": 25,
   "metadata": {},
   "outputs": [
    {
     "data": {
      "text/plain": [
       "['C1024FDA', 'C1171ABM', 'C1097AAX']"
      ]
     },
     "execution_count": 25,
     "metadata": {},
     "output_type": "execute_result"
    }
   ],
   "source": [
    "resultado"
   ]
  },
  {
   "cell_type": "code",
   "execution_count": 26,
   "metadata": {},
   "outputs": [
    {
     "name": "stdout",
     "output_type": "stream",
     "text": [
      "Tardó en ejecutarse 0.000123 segundos\n"
     ]
    }
   ],
   "source": [
    "print('Tardó en ejecutarse %f segundos'%(fin-inicio))"
   ]
  },
  {
   "cell_type": "code",
   "execution_count": 27,
   "metadata": {},
   "outputs": [],
   "source": [
    "# esto es lo que está sucediendo cuando aplicamos una lista por comprensión\n",
    "codigos = []\n",
    "\n",
    "for i in range(len(partes)):\n",
    "    if (i%3==0):\n",
    "        codigos.append(partes[i]+partes[i+1]+partes[i+2])"
   ]
  },
  {
   "cell_type": "code",
   "execution_count": 28,
   "metadata": {},
   "outputs": [
    {
     "data": {
      "text/plain": [
       "['C1024FDA', 'C1171ABM', 'C1097AAX']"
      ]
     },
     "execution_count": 28,
     "metadata": {},
     "output_type": "execute_result"
    }
   ],
   "source": [
    "codigos"
   ]
  },
  {
   "cell_type": "markdown",
   "metadata": {},
   "source": [
    "Si esto mismo lo hacemos utilizando el método `map`, primero debemos crear una función que realice la misma tarea. Recordemos, que este itera sobre cada uno de los elementos de un contenedor (en nuestro ejemplo previo, una lista). Por lo tanto, deberemos adaptar o bien la forma en la que diseñamos nuestra función o bien el objeto sobre el que la aplicamos. Hagamos esto último para  no extendernos demasiado..."
   ]
  },
  {
   "cell_type": "code",
   "execution_count": 29,
   "metadata": {},
   "outputs": [],
   "source": [
    "def combina_partes(lista):\n",
    "    '''\n",
    "    Combina los items de un objeto iterable.\n",
    "    ...\n",
    "    Argumentos:\n",
    "        arg(iterable): iterable de strings \n",
    "                       (e.g. 'list' o 'pandas serie')\n",
    "    Devuelve:\n",
    "        lista: items combinados\n",
    "    '''\n",
    "    codigos=[]\n",
    "    for i in range(len(lista)):\n",
    "        if (i%3==0):\n",
    "            codigos.append(lista[i]+lista[i+1]+lista[i+2])\n",
    "    return codigos"
   ]
  },
  {
   "cell_type": "markdown",
   "metadata": {},
   "source": [
    "Reparemos ahora en cómo la vamos a aplicar. Como nuestra función fue pensada para operar sobre una lista como único argumento, no podríamos mapear directamente sobre la lista `partes`. Por qué? básicamente porque sino dicha función se aplicaría sobre cada elemento `lista[0]`, `lista[1]`, `lista[n]`. Entonces la vamos a convertir en lista, para que el primer elemento que mapee el iterador sea nuestra lista de string con las secciones de distintos códigos postales."
   ]
  },
  {
   "cell_type": "code",
   "execution_count": 30,
   "metadata": {},
   "outputs": [],
   "source": [
    "# mapeamos la función y accedemos al index 0 del resultado para tener nuestros códigos unificados en un solo lugar\n",
    "inicio = time.time()\n",
    "resultado = list(map(combina_partes,[partes]))[0]\n",
    "fin = time.time()"
   ]
  },
  {
   "cell_type": "code",
   "execution_count": 31,
   "metadata": {},
   "outputs": [
    {
     "data": {
      "text/plain": [
       "['C1024FDA', 'C1171ABM', 'C1097AAX']"
      ]
     },
     "execution_count": 31,
     "metadata": {},
     "output_type": "execute_result"
    }
   ],
   "source": [
    "resultado"
   ]
  },
  {
   "cell_type": "code",
   "execution_count": 32,
   "metadata": {},
   "outputs": [
    {
     "name": "stdout",
     "output_type": "stream",
     "text": [
      "Tardo en ejecutarse 0.000136\n"
     ]
    }
   ],
   "source": [
    "# como podemos apreciar, el método map hace la misma tarea en un tiempo menor\n",
    "print('Tardo en ejecutarse %f' % (fin-inicio))"
   ]
  },
  {
   "cell_type": "markdown",
   "metadata": {},
   "source": [
    "Como vimos hasta acá, el `map` aplica una función a un iterable y devuelve el resultado de haber aplicado dicha función en cada uno de los items de ese iterable. Esto es particularmente útil para realizar operaciones con columnas de un dataframe. En el mundo geo, es muy común querer evaluar resultados en un espacio geográfico. Y para eso, muchas de las operaciones que anteceden a la visualización tienen que ver con transformaciones realizadas en columnas de un geodataframe. Antes de mostrar algo en un mapa, primero definimos cuál es ese indicador o valor que queremos ver. Y para construirlo, es muy probable que llevemos a cabo distintos tipos de operaciones sobre series. Acá es donde el método `map` adquiere una mayor relevancia. Pero antes, aclaremos que su uso en una serie es bastante más sencillo de lo que vimos hasta acá.  \n",
    "\n",
    "Básicamente, cuando utilizamos el `map` sobre una serie de un dataframe o geodataframe, lo hacemos como si este fuera un método del objeto. Así:"
   ]
  },
  {
   "cell_type": "code",
   "execution_count": 33,
   "metadata": {},
   "outputs": [],
   "source": [
    "# veamos un ejemplo rápido de cómo mapear una función sobre una serie de valores aleatorios\n",
    "columna = pd.Series(np.random.choice(100,3))"
   ]
  },
  {
   "cell_type": "code",
   "execution_count": 34,
   "metadata": {},
   "outputs": [
    {
     "data": {
      "text/plain": [
       "0    45.5\n",
       "1    49.5\n",
       "2    16.0\n",
       "dtype: float64"
      ]
     },
     "execution_count": 34,
     "metadata": {},
     "output_type": "execute_result"
    }
   ],
   "source": [
    "# Y ahora apliquemos la función (para que sea más interesante, hagamos que sea anónima) con map...\n",
    "columna.map(lambda x: round(x/2,1))"
   ]
  },
  {
   "cell_type": "markdown",
   "metadata": {},
   "source": [
    "Pongamos este ejemplo un poco más en contexto para terminar de entender la utilidad del `map`. Supongamos que en la Ciudad de Buenos Aires se implementó un plan urbano que dictamina la demolición de edificios abandonados por un período de tiempo superior a los 20 años. Y supongamos también que los siguientes códigos postales:"
   ]
  },
  {
   "cell_type": "code",
   "execution_count": 35,
   "metadata": {},
   "outputs": [
    {
     "data": {
      "text/plain": [
       "0    C1024FDA\n",
       "1    C1171ABM\n",
       "2    C1097AAX\n",
       "dtype: object"
      ]
     },
     "execution_count": 35,
     "metadata": {},
     "output_type": "execute_result"
    }
   ],
   "source": [
    "pd.Series(resultado)"
   ]
  },
  {
   "cell_type": "markdown",
   "metadata": {},
   "source": [
    "... corresponden a edificios que cumplen con dicha condición. Dada la crisis habitacional de la ciudad, para estos casos el nuevo plan urbano, dispone la demolición y posterior construcción de nuevas unidades de habitación que se vuelquen al mercado para aumentar la oferta de vivienda asequible. Para terminar de entender en qué nos puede ayudar el método map, digamos que en estos tres edificios se dispone la construcción de: "
   ]
  },
  {
   "cell_type": "code",
   "execution_count": 36,
   "metadata": {},
   "outputs": [
    {
     "name": "stdout",
     "output_type": "stream",
     "text": [
      "222 nuevos departamentos que estarán disponibles en el lapso de 24 meses\n"
     ]
    }
   ],
   "source": [
    "print(\"%s nuevos departamentos que estarán disponibles en el lapso de 24 meses\" % (columna.sum()))"
   ]
  },
  {
   "cell_type": "code",
   "execution_count": 37,
   "metadata": {},
   "outputs": [],
   "source": [
    "# veamos nuestra tabla inicial...\n",
    "desarrollos = pd.DataFrame({'id':resultado, \n",
    "                           'inicio': [2020,2020,2020], \n",
    "                           'unidades': columna,\n",
    "                           'duracion':[24,24,24]})"
   ]
  },
  {
   "cell_type": "code",
   "execution_count": 38,
   "metadata": {},
   "outputs": [
    {
     "data": {
      "text/html": [
       "<div>\n",
       "<style scoped>\n",
       "    .dataframe tbody tr th:only-of-type {\n",
       "        vertical-align: middle;\n",
       "    }\n",
       "\n",
       "    .dataframe tbody tr th {\n",
       "        vertical-align: top;\n",
       "    }\n",
       "\n",
       "    .dataframe thead th {\n",
       "        text-align: right;\n",
       "    }\n",
       "</style>\n",
       "<table border=\"1\" class=\"dataframe\">\n",
       "  <thead>\n",
       "    <tr style=\"text-align: right;\">\n",
       "      <th></th>\n",
       "      <th>id</th>\n",
       "      <th>inicio</th>\n",
       "      <th>unidades</th>\n",
       "      <th>duracion</th>\n",
       "    </tr>\n",
       "  </thead>\n",
       "  <tbody>\n",
       "    <tr>\n",
       "      <th>0</th>\n",
       "      <td>C1024FDA</td>\n",
       "      <td>2020</td>\n",
       "      <td>91</td>\n",
       "      <td>24</td>\n",
       "    </tr>\n",
       "    <tr>\n",
       "      <th>1</th>\n",
       "      <td>C1171ABM</td>\n",
       "      <td>2020</td>\n",
       "      <td>99</td>\n",
       "      <td>24</td>\n",
       "    </tr>\n",
       "    <tr>\n",
       "      <th>2</th>\n",
       "      <td>C1097AAX</td>\n",
       "      <td>2020</td>\n",
       "      <td>32</td>\n",
       "      <td>24</td>\n",
       "    </tr>\n",
       "  </tbody>\n",
       "</table>\n",
       "</div>"
      ],
      "text/plain": [
       "         id  inicio  unidades  duracion\n",
       "0  C1024FDA    2020        91        24\n",
       "1  C1171ABM    2020        99        24\n",
       "2  C1097AAX    2020        32        24"
      ]
     },
     "execution_count": 38,
     "metadata": {},
     "output_type": "execute_result"
    }
   ],
   "source": [
    "desarrollos"
   ]
  },
  {
   "cell_type": "markdown",
   "metadata": {},
   "source": [
    "Ahora, como también sabemos que el gobierno irá construyendo la misma cantidad de unidades por año, queremos que nuestra tabla de desarrollos adopte un nuevo formato. En este debe quedar representado, además del año de inicio el de finalización y la cantidad de unidades por año."
   ]
  },
  {
   "cell_type": "code",
   "execution_count": 39,
   "metadata": {},
   "outputs": [],
   "source": [
    "# Armemos una función que haga lo que indica nuestro hipotético escenario...\n",
    "def desarrollos_anuales(df, duracion, unidades,idx):\n",
    "    '''\n",
    "    Distribuye unidades residenciales a lo largo de\n",
    "    los años de construcción del proyecto.\n",
    "    ...\n",
    "    Argumentos:\n",
    "        df(dataframe): dataframe de proyectos residenciales \n",
    "        duracion(str): nombre de columna\n",
    "        unidades(str): nombre de columna\n",
    "        idx(str): nombre de columna\n",
    "    Devuelve:\n",
    "        dataframe: unidades anualmente distribuidas\n",
    "    '''\n",
    "    \n",
    "    df['años'] = df[duracion].map(lambda x: x/12)\n",
    "    df['anuales'] = df[unidades].map(lambda x: x/2)\n",
    "    \n",
    "    new_df = np.repeat(df[idx], df['años']).reset_index()\n",
    "    new_df['inicio'] = 2020\n",
    "    año = lambda v: [v+1 if i%2!=0 else v for i,v in enumerate(new_df['inicio'])]\n",
    "    new_df['inicia'] = año(new_df['inicio'])\n",
    "    new_df['finaliza'] = new_df['inicia'] + 1\n",
    "    \n",
    "    oferta = np.repeat(df['unidades'].map(lambda x: x/2),df['años']).\\\n",
    "                       reset_index()['unidades']\n",
    "    new_df['unidades'] = oferta\n",
    "    new_df.drop(columns='inicio',inplace=True)\n",
    "    \n",
    "    return new_df.iloc[:,1:]"
   ]
  },
  {
   "cell_type": "code",
   "execution_count": 40,
   "metadata": {},
   "outputs": [
    {
     "data": {
      "text/html": [
       "<div>\n",
       "<style scoped>\n",
       "    .dataframe tbody tr th:only-of-type {\n",
       "        vertical-align: middle;\n",
       "    }\n",
       "\n",
       "    .dataframe tbody tr th {\n",
       "        vertical-align: top;\n",
       "    }\n",
       "\n",
       "    .dataframe thead th {\n",
       "        text-align: right;\n",
       "    }\n",
       "</style>\n",
       "<table border=\"1\" class=\"dataframe\">\n",
       "  <thead>\n",
       "    <tr style=\"text-align: right;\">\n",
       "      <th></th>\n",
       "      <th>id</th>\n",
       "      <th>inicia</th>\n",
       "      <th>finaliza</th>\n",
       "      <th>unidades</th>\n",
       "    </tr>\n",
       "  </thead>\n",
       "  <tbody>\n",
       "    <tr>\n",
       "      <th>0</th>\n",
       "      <td>C1024FDA</td>\n",
       "      <td>2020</td>\n",
       "      <td>2021</td>\n",
       "      <td>45.5</td>\n",
       "    </tr>\n",
       "    <tr>\n",
       "      <th>1</th>\n",
       "      <td>C1024FDA</td>\n",
       "      <td>2021</td>\n",
       "      <td>2022</td>\n",
       "      <td>45.5</td>\n",
       "    </tr>\n",
       "    <tr>\n",
       "      <th>2</th>\n",
       "      <td>C1171ABM</td>\n",
       "      <td>2020</td>\n",
       "      <td>2021</td>\n",
       "      <td>49.5</td>\n",
       "    </tr>\n",
       "    <tr>\n",
       "      <th>3</th>\n",
       "      <td>C1171ABM</td>\n",
       "      <td>2021</td>\n",
       "      <td>2022</td>\n",
       "      <td>49.5</td>\n",
       "    </tr>\n",
       "    <tr>\n",
       "      <th>4</th>\n",
       "      <td>C1097AAX</td>\n",
       "      <td>2020</td>\n",
       "      <td>2021</td>\n",
       "      <td>16.0</td>\n",
       "    </tr>\n",
       "    <tr>\n",
       "      <th>5</th>\n",
       "      <td>C1097AAX</td>\n",
       "      <td>2021</td>\n",
       "      <td>2022</td>\n",
       "      <td>16.0</td>\n",
       "    </tr>\n",
       "  </tbody>\n",
       "</table>\n",
       "</div>"
      ],
      "text/plain": [
       "         id  inicia  finaliza  unidades\n",
       "0  C1024FDA    2020      2021      45.5\n",
       "1  C1024FDA    2021      2022      45.5\n",
       "2  C1171ABM    2020      2021      49.5\n",
       "3  C1171ABM    2021      2022      49.5\n",
       "4  C1097AAX    2020      2021      16.0\n",
       "5  C1097AAX    2021      2022      16.0"
      ]
     },
     "execution_count": 40,
     "metadata": {},
     "output_type": "execute_result"
    }
   ],
   "source": [
    "desarrollos_anuales(desarrollos, 'duracion', 'unidades','id')"
   ]
  },
  {
   "cell_type": "markdown",
   "metadata": {},
   "source": [
    "De esta manera, ya empezamos a trabajar con lo que nos interesa. Cuando entremos con mayor profundidad al mundo de geopandas, veremos que la materia prima con la que deberemos trabajar para mostrar nuestros resultados son los geodataframes. Por eso, es que nos detendremos un poco más en cómo estos métodos se aplican sobre series comunes y corrientes, o incluso en dataframes. Un poco más de paciencia!"
   ]
  },
  {
   "cell_type": "markdown",
   "metadata": {},
   "source": [
    "> **3. El método `apply`**"
   ]
  },
  {
   "cell_type": "markdown",
   "metadata": {},
   "source": [
    "Este método trabaja principalmente sobre series de panda. Al igual que el `map`, toma cada elemento dentro de una serie, o incluso un dataframe, y le aplica una función determinada."
   ]
  },
  {
   "cell_type": "markdown",
   "metadata": {},
   "source": [
    "![SINTAXIS](../imagenes/equivalencias_apply_map.jpg)"
   ]
  },
  {
   "cell_type": "markdown",
   "metadata": {},
   "source": [
    "Siguiendo con el ejemplo anterior, supongamos que ahora necesitamos redondear el stock de unidades que se van a construir. Es decir, necesitamos que nuestras unidades estén expresadas en enteros y no perder información cuando el redondeo elimina los decimales."
   ]
  },
  {
   "cell_type": "code",
   "execution_count": 41,
   "metadata": {},
   "outputs": [],
   "source": [
    "da = desarrollos_anuales(desarrollos, 'duracion', 'unidades','id')"
   ]
  },
  {
   "cell_type": "code",
   "execution_count": 42,
   "metadata": {},
   "outputs": [
    {
     "data": {
      "text/html": [
       "<div>\n",
       "<style scoped>\n",
       "    .dataframe tbody tr th:only-of-type {\n",
       "        vertical-align: middle;\n",
       "    }\n",
       "\n",
       "    .dataframe tbody tr th {\n",
       "        vertical-align: top;\n",
       "    }\n",
       "\n",
       "    .dataframe thead th {\n",
       "        text-align: right;\n",
       "    }\n",
       "</style>\n",
       "<table border=\"1\" class=\"dataframe\">\n",
       "  <thead>\n",
       "    <tr style=\"text-align: right;\">\n",
       "      <th></th>\n",
       "      <th>id</th>\n",
       "      <th>inicia</th>\n",
       "      <th>finaliza</th>\n",
       "      <th>unidades</th>\n",
       "    </tr>\n",
       "  </thead>\n",
       "  <tbody>\n",
       "    <tr>\n",
       "      <th>0</th>\n",
       "      <td>C1024FDA</td>\n",
       "      <td>2020</td>\n",
       "      <td>2021</td>\n",
       "      <td>45.5</td>\n",
       "    </tr>\n",
       "    <tr>\n",
       "      <th>1</th>\n",
       "      <td>C1024FDA</td>\n",
       "      <td>2021</td>\n",
       "      <td>2022</td>\n",
       "      <td>45.5</td>\n",
       "    </tr>\n",
       "    <tr>\n",
       "      <th>2</th>\n",
       "      <td>C1171ABM</td>\n",
       "      <td>2020</td>\n",
       "      <td>2021</td>\n",
       "      <td>49.5</td>\n",
       "    </tr>\n",
       "    <tr>\n",
       "      <th>3</th>\n",
       "      <td>C1171ABM</td>\n",
       "      <td>2021</td>\n",
       "      <td>2022</td>\n",
       "      <td>49.5</td>\n",
       "    </tr>\n",
       "    <tr>\n",
       "      <th>4</th>\n",
       "      <td>C1097AAX</td>\n",
       "      <td>2020</td>\n",
       "      <td>2021</td>\n",
       "      <td>16.0</td>\n",
       "    </tr>\n",
       "    <tr>\n",
       "      <th>5</th>\n",
       "      <td>C1097AAX</td>\n",
       "      <td>2021</td>\n",
       "      <td>2022</td>\n",
       "      <td>16.0</td>\n",
       "    </tr>\n",
       "  </tbody>\n",
       "</table>\n",
       "</div>"
      ],
      "text/plain": [
       "         id  inicia  finaliza  unidades\n",
       "0  C1024FDA    2020      2021      45.5\n",
       "1  C1024FDA    2021      2022      45.5\n",
       "2  C1171ABM    2020      2021      49.5\n",
       "3  C1171ABM    2021      2022      49.5\n",
       "4  C1097AAX    2020      2021      16.0\n",
       "5  C1097AAX    2021      2022      16.0"
      ]
     },
     "execution_count": 42,
     "metadata": {},
     "output_type": "execute_result"
    }
   ],
   "source": [
    "da"
   ]
  },
  {
   "cell_type": "code",
   "execution_count": 43,
   "metadata": {},
   "outputs": [],
   "source": [
    "def entero(x):\n",
    "    return int(x)\n",
    "\n",
    "def resto(x):\n",
    "    if float(x)-int(x)>0:\n",
    "        return int(x)+1\n",
    "    else:\n",
    "        return int(x)+0"
   ]
  },
  {
   "cell_type": "code",
   "execution_count": 44,
   "metadata": {},
   "outputs": [],
   "source": [
    "def redondea_unidades(df,col1):\n",
    "    '''\n",
    "    Asigna el resto de la división al último año\n",
    "    de construcción (como entero 1).\n",
    "    ...\n",
    "    Argumentos:\n",
    "        df(dataframe): dataframe de proyectos residenciales \n",
    "        col1(str): nombre de columna\n",
    "    Devuelve:\n",
    "        lista: lista de int\n",
    "    \n",
    "    '''\n",
    "    valores = []\n",
    "    for i in df[col1].index:\n",
    "        if i%2 == 0:\n",
    "            valores.append(df.loc[i:i,col1].apply(entero).values[0])\n",
    "        else: \n",
    "            valores.append(df.loc[i:i,col1].apply(resto).values[0])\n",
    "    return valores"
   ]
  },
  {
   "cell_type": "code",
   "execution_count": 45,
   "metadata": {},
   "outputs": [],
   "source": [
    "da['total'] = redondea_unidades(da,'unidades')"
   ]
  },
  {
   "cell_type": "code",
   "execution_count": 46,
   "metadata": {},
   "outputs": [
    {
     "data": {
      "text/html": [
       "<div>\n",
       "<style scoped>\n",
       "    .dataframe tbody tr th:only-of-type {\n",
       "        vertical-align: middle;\n",
       "    }\n",
       "\n",
       "    .dataframe tbody tr th {\n",
       "        vertical-align: top;\n",
       "    }\n",
       "\n",
       "    .dataframe thead th {\n",
       "        text-align: right;\n",
       "    }\n",
       "</style>\n",
       "<table border=\"1\" class=\"dataframe\">\n",
       "  <thead>\n",
       "    <tr style=\"text-align: right;\">\n",
       "      <th></th>\n",
       "      <th>id</th>\n",
       "      <th>inicia</th>\n",
       "      <th>finaliza</th>\n",
       "      <th>unidades</th>\n",
       "      <th>total</th>\n",
       "    </tr>\n",
       "  </thead>\n",
       "  <tbody>\n",
       "    <tr>\n",
       "      <th>0</th>\n",
       "      <td>C1024FDA</td>\n",
       "      <td>2020</td>\n",
       "      <td>2021</td>\n",
       "      <td>45.5</td>\n",
       "      <td>45</td>\n",
       "    </tr>\n",
       "    <tr>\n",
       "      <th>1</th>\n",
       "      <td>C1024FDA</td>\n",
       "      <td>2021</td>\n",
       "      <td>2022</td>\n",
       "      <td>45.5</td>\n",
       "      <td>46</td>\n",
       "    </tr>\n",
       "    <tr>\n",
       "      <th>2</th>\n",
       "      <td>C1171ABM</td>\n",
       "      <td>2020</td>\n",
       "      <td>2021</td>\n",
       "      <td>49.5</td>\n",
       "      <td>49</td>\n",
       "    </tr>\n",
       "    <tr>\n",
       "      <th>3</th>\n",
       "      <td>C1171ABM</td>\n",
       "      <td>2021</td>\n",
       "      <td>2022</td>\n",
       "      <td>49.5</td>\n",
       "      <td>50</td>\n",
       "    </tr>\n",
       "    <tr>\n",
       "      <th>4</th>\n",
       "      <td>C1097AAX</td>\n",
       "      <td>2020</td>\n",
       "      <td>2021</td>\n",
       "      <td>16.0</td>\n",
       "      <td>16</td>\n",
       "    </tr>\n",
       "    <tr>\n",
       "      <th>5</th>\n",
       "      <td>C1097AAX</td>\n",
       "      <td>2021</td>\n",
       "      <td>2022</td>\n",
       "      <td>16.0</td>\n",
       "      <td>16</td>\n",
       "    </tr>\n",
       "  </tbody>\n",
       "</table>\n",
       "</div>"
      ],
      "text/plain": [
       "         id  inicia  finaliza  unidades  total\n",
       "0  C1024FDA    2020      2021      45.5     45\n",
       "1  C1024FDA    2021      2022      45.5     46\n",
       "2  C1171ABM    2020      2021      49.5     49\n",
       "3  C1171ABM    2021      2022      49.5     50\n",
       "4  C1097AAX    2020      2021      16.0     16\n",
       "5  C1097AAX    2021      2022      16.0     16"
      ]
     },
     "execution_count": 46,
     "metadata": {},
     "output_type": "execute_result"
    }
   ],
   "source": [
    "da"
   ]
  },
  {
   "cell_type": "markdown",
   "metadata": {},
   "source": [
    "De esta forma, vemos que para los casos en los que las unidades cuentan con valores decimales, las funciones que aplicamos recurriendo al método `apply` nos permitieron asignar ese resto al último año de la construcción. Mientras que para aquellos casos en los que el resto era cero no se agregó ninguna unidad adicional."
   ]
  },
  {
   "cell_type": "markdown",
   "metadata": {},
   "source": [
    "Veamos cómo funciona ahora el mismo método sobre un conjunto de columnas (o un dataframe). Imaginemos que durante nuestro proceso de trabajo debemos cambiar el mismo valor para más de una serie. Digamos que, por ejemplo, los desarrollos se retrasaron trayendo como consecuencia que no sólo se corra el año de inicio sino también el de finalización..."
   ]
  },
  {
   "cell_type": "code",
   "execution_count": 47,
   "metadata": {},
   "outputs": [
    {
     "data": {
      "text/html": [
       "<div>\n",
       "<style scoped>\n",
       "    .dataframe tbody tr th:only-of-type {\n",
       "        vertical-align: middle;\n",
       "    }\n",
       "\n",
       "    .dataframe tbody tr th {\n",
       "        vertical-align: top;\n",
       "    }\n",
       "\n",
       "    .dataframe thead th {\n",
       "        text-align: right;\n",
       "    }\n",
       "</style>\n",
       "<table border=\"1\" class=\"dataframe\">\n",
       "  <thead>\n",
       "    <tr style=\"text-align: right;\">\n",
       "      <th></th>\n",
       "      <th>inicia</th>\n",
       "      <th>finaliza</th>\n",
       "    </tr>\n",
       "  </thead>\n",
       "  <tbody>\n",
       "    <tr>\n",
       "      <th>0</th>\n",
       "      <td>2021</td>\n",
       "      <td>2022</td>\n",
       "    </tr>\n",
       "    <tr>\n",
       "      <th>1</th>\n",
       "      <td>2022</td>\n",
       "      <td>2023</td>\n",
       "    </tr>\n",
       "    <tr>\n",
       "      <th>2</th>\n",
       "      <td>2021</td>\n",
       "      <td>2022</td>\n",
       "    </tr>\n",
       "    <tr>\n",
       "      <th>3</th>\n",
       "      <td>2022</td>\n",
       "      <td>2023</td>\n",
       "    </tr>\n",
       "    <tr>\n",
       "      <th>4</th>\n",
       "      <td>2021</td>\n",
       "      <td>2022</td>\n",
       "    </tr>\n",
       "    <tr>\n",
       "      <th>5</th>\n",
       "      <td>2022</td>\n",
       "      <td>2023</td>\n",
       "    </tr>\n",
       "  </tbody>\n",
       "</table>\n",
       "</div>"
      ],
      "text/plain": [
       "   inicia  finaliza\n",
       "0    2021      2022\n",
       "1    2022      2023\n",
       "2    2021      2022\n",
       "3    2022      2023\n",
       "4    2021      2022\n",
       "5    2022      2023"
      ]
     },
     "execution_count": 47,
     "metadata": {},
     "output_type": "execute_result"
    }
   ],
   "source": [
    "# Supongamos que ese lapso es de un año solamente. Para ello, creemos una función que aplique sobre nuestras filas.\n",
    "def agrega_años(x):\n",
    "    return x+1\n",
    "\n",
    "# Y ahora apliquemosla sobre ellas...\n",
    "da[['inicia','finaliza']].apply(agrega_años)"
   ]
  },
  {
   "cell_type": "markdown",
   "metadata": {},
   "source": [
    "De esta manera, vemos que `apply` no funciona sólo sobre series aisladas, sino también sobre dataframes. Tal como lo hace..."
   ]
  },
  {
   "cell_type": "markdown",
   "metadata": {},
   "source": [
    "> **4. El método `applymap`**"
   ]
  },
  {
   "cell_type": "markdown",
   "metadata": {},
   "source": [
    "Pensemos que puede ser bastante frecuente querer llevar adelante una misma operación para más de una columna en un dataframe. Imaginemos que no sólo debemos transformar dos como en el caso anterior, sino muchas más. Para este tipo de circunstancias, el método `applymap` resulta particularmente útil, ya que el mismo opera sobre el dataframe entero."
   ]
  },
  {
   "cell_type": "markdown",
   "metadata": {},
   "source": [
    "Para entender un poco mejor su utilidad, supongamos que ahora contamos con nueva información sobre nuestros desarrollos. Además de la cantidad de unidades, sabemos qué porcentage de ellas corresponde a una tipología determinada. Es decir, sabemos que del total que se construirá anualmente un x% corresponde a unidades 0,1,2,3,4 y 5 ambientes (también podríamos haber dado un rango de metros cuadrados, pero quedemonos con esto)."
   ]
  },
  {
   "cell_type": "markdown",
   "metadata": {},
   "source": [
    "Veamos entonces cómo podemos valernos de aquellos métodos que operan sobre un dataframe entero, `apply` y `applymap` para convertir nuestra columna de totales en porcentages de cada tipología."
   ]
  },
  {
   "cell_type": "code",
   "execution_count": 48,
   "metadata": {},
   "outputs": [],
   "source": [
    "# emprolijemos nuestro df de desarrollos anuales eliminando las columnas que no necesitamos\n",
    "da.drop(columns='unidades', inplace=True)"
   ]
  },
  {
   "cell_type": "code",
   "execution_count": 49,
   "metadata": {},
   "outputs": [
    {
     "data": {
      "text/html": [
       "<div>\n",
       "<style scoped>\n",
       "    .dataframe tbody tr th:only-of-type {\n",
       "        vertical-align: middle;\n",
       "    }\n",
       "\n",
       "    .dataframe tbody tr th {\n",
       "        vertical-align: top;\n",
       "    }\n",
       "\n",
       "    .dataframe thead th {\n",
       "        text-align: right;\n",
       "    }\n",
       "</style>\n",
       "<table border=\"1\" class=\"dataframe\">\n",
       "  <thead>\n",
       "    <tr style=\"text-align: right;\">\n",
       "      <th></th>\n",
       "      <th>id</th>\n",
       "      <th>inicia</th>\n",
       "      <th>finaliza</th>\n",
       "      <th>total</th>\n",
       "    </tr>\n",
       "  </thead>\n",
       "  <tbody>\n",
       "    <tr>\n",
       "      <th>0</th>\n",
       "      <td>C1024FDA</td>\n",
       "      <td>2020</td>\n",
       "      <td>2021</td>\n",
       "      <td>45</td>\n",
       "    </tr>\n",
       "    <tr>\n",
       "      <th>1</th>\n",
       "      <td>C1024FDA</td>\n",
       "      <td>2021</td>\n",
       "      <td>2022</td>\n",
       "      <td>46</td>\n",
       "    </tr>\n",
       "    <tr>\n",
       "      <th>2</th>\n",
       "      <td>C1171ABM</td>\n",
       "      <td>2020</td>\n",
       "      <td>2021</td>\n",
       "      <td>49</td>\n",
       "    </tr>\n",
       "    <tr>\n",
       "      <th>3</th>\n",
       "      <td>C1171ABM</td>\n",
       "      <td>2021</td>\n",
       "      <td>2022</td>\n",
       "      <td>50</td>\n",
       "    </tr>\n",
       "    <tr>\n",
       "      <th>4</th>\n",
       "      <td>C1097AAX</td>\n",
       "      <td>2020</td>\n",
       "      <td>2021</td>\n",
       "      <td>16</td>\n",
       "    </tr>\n",
       "    <tr>\n",
       "      <th>5</th>\n",
       "      <td>C1097AAX</td>\n",
       "      <td>2021</td>\n",
       "      <td>2022</td>\n",
       "      <td>16</td>\n",
       "    </tr>\n",
       "  </tbody>\n",
       "</table>\n",
       "</div>"
      ],
      "text/plain": [
       "         id  inicia  finaliza  total\n",
       "0  C1024FDA    2020      2021     45\n",
       "1  C1024FDA    2021      2022     46\n",
       "2  C1171ABM    2020      2021     49\n",
       "3  C1171ABM    2021      2022     50\n",
       "4  C1097AAX    2020      2021     16\n",
       "5  C1097AAX    2021      2022     16"
      ]
     },
     "execution_count": 49,
     "metadata": {},
     "output_type": "execute_result"
    }
   ],
   "source": [
    "da"
   ]
  },
  {
   "cell_type": "code",
   "execution_count": 50,
   "metadata": {},
   "outputs": [],
   "source": [
    "# Creemos nuestro dataframe de tipologías\n",
    "amb = pd.DataFrame()\n",
    "for i in range(len(da)):\n",
    "    amb['{}_amb'.format(i)] = [0]*len(da)"
   ]
  },
  {
   "cell_type": "code",
   "execution_count": 51,
   "metadata": {},
   "outputs": [
    {
     "data": {
      "text/html": [
       "<div>\n",
       "<style scoped>\n",
       "    .dataframe tbody tr th:only-of-type {\n",
       "        vertical-align: middle;\n",
       "    }\n",
       "\n",
       "    .dataframe tbody tr th {\n",
       "        vertical-align: top;\n",
       "    }\n",
       "\n",
       "    .dataframe thead th {\n",
       "        text-align: right;\n",
       "    }\n",
       "</style>\n",
       "<table border=\"1\" class=\"dataframe\">\n",
       "  <thead>\n",
       "    <tr style=\"text-align: right;\">\n",
       "      <th></th>\n",
       "      <th>0_amb</th>\n",
       "      <th>1_amb</th>\n",
       "      <th>2_amb</th>\n",
       "      <th>3_amb</th>\n",
       "      <th>4_amb</th>\n",
       "      <th>5_amb</th>\n",
       "    </tr>\n",
       "  </thead>\n",
       "  <tbody>\n",
       "    <tr>\n",
       "      <th>0</th>\n",
       "      <td>0</td>\n",
       "      <td>0</td>\n",
       "      <td>0</td>\n",
       "      <td>0</td>\n",
       "      <td>0</td>\n",
       "      <td>0</td>\n",
       "    </tr>\n",
       "    <tr>\n",
       "      <th>1</th>\n",
       "      <td>0</td>\n",
       "      <td>0</td>\n",
       "      <td>0</td>\n",
       "      <td>0</td>\n",
       "      <td>0</td>\n",
       "      <td>0</td>\n",
       "    </tr>\n",
       "    <tr>\n",
       "      <th>2</th>\n",
       "      <td>0</td>\n",
       "      <td>0</td>\n",
       "      <td>0</td>\n",
       "      <td>0</td>\n",
       "      <td>0</td>\n",
       "      <td>0</td>\n",
       "    </tr>\n",
       "    <tr>\n",
       "      <th>3</th>\n",
       "      <td>0</td>\n",
       "      <td>0</td>\n",
       "      <td>0</td>\n",
       "      <td>0</td>\n",
       "      <td>0</td>\n",
       "      <td>0</td>\n",
       "    </tr>\n",
       "    <tr>\n",
       "      <th>4</th>\n",
       "      <td>0</td>\n",
       "      <td>0</td>\n",
       "      <td>0</td>\n",
       "      <td>0</td>\n",
       "      <td>0</td>\n",
       "      <td>0</td>\n",
       "    </tr>\n",
       "    <tr>\n",
       "      <th>5</th>\n",
       "      <td>0</td>\n",
       "      <td>0</td>\n",
       "      <td>0</td>\n",
       "      <td>0</td>\n",
       "      <td>0</td>\n",
       "      <td>0</td>\n",
       "    </tr>\n",
       "  </tbody>\n",
       "</table>\n",
       "</div>"
      ],
      "text/plain": [
       "   0_amb  1_amb  2_amb  3_amb  4_amb  5_amb\n",
       "0      0      0      0      0      0      0\n",
       "1      0      0      0      0      0      0\n",
       "2      0      0      0      0      0      0\n",
       "3      0      0      0      0      0      0\n",
       "4      0      0      0      0      0      0\n",
       "5      0      0      0      0      0      0"
      ]
     },
     "execution_count": 51,
     "metadata": {},
     "output_type": "execute_result"
    }
   ],
   "source": [
    "amb"
   ]
  },
  {
   "cell_type": "code",
   "execution_count": 52,
   "metadata": {},
   "outputs": [],
   "source": [
    "# Ahora, armemos una lista de porcentages a partir de la que se desagregarán los totales de unidades a construir.\n",
    "porcentages = [0.10, 0.15, 0.30, 0.35, 0.07, 0.03]"
   ]
  },
  {
   "cell_type": "code",
   "execution_count": 53,
   "metadata": {},
   "outputs": [],
   "source": [
    "# Asignamos los porcentages a las filas. Con random, hacemos que los items se ordenen de forma aleatoria\n",
    "import random\n",
    "\n",
    "for i in amb.index:\n",
    "    random.shuffle(porcentages) \n",
    "    amb.loc[[i],:] = porcentages"
   ]
  },
  {
   "cell_type": "code",
   "execution_count": 54,
   "metadata": {},
   "outputs": [
    {
     "data": {
      "text/html": [
       "<div>\n",
       "<style scoped>\n",
       "    .dataframe tbody tr th:only-of-type {\n",
       "        vertical-align: middle;\n",
       "    }\n",
       "\n",
       "    .dataframe tbody tr th {\n",
       "        vertical-align: top;\n",
       "    }\n",
       "\n",
       "    .dataframe thead th {\n",
       "        text-align: right;\n",
       "    }\n",
       "</style>\n",
       "<table border=\"1\" class=\"dataframe\">\n",
       "  <thead>\n",
       "    <tr style=\"text-align: right;\">\n",
       "      <th></th>\n",
       "      <th>0_amb</th>\n",
       "      <th>1_amb</th>\n",
       "      <th>2_amb</th>\n",
       "      <th>3_amb</th>\n",
       "      <th>4_amb</th>\n",
       "      <th>5_amb</th>\n",
       "    </tr>\n",
       "  </thead>\n",
       "  <tbody>\n",
       "    <tr>\n",
       "      <th>0</th>\n",
       "      <td>0.10</td>\n",
       "      <td>0.15</td>\n",
       "      <td>0.03</td>\n",
       "      <td>0.07</td>\n",
       "      <td>0.30</td>\n",
       "      <td>0.35</td>\n",
       "    </tr>\n",
       "    <tr>\n",
       "      <th>1</th>\n",
       "      <td>0.10</td>\n",
       "      <td>0.15</td>\n",
       "      <td>0.07</td>\n",
       "      <td>0.35</td>\n",
       "      <td>0.30</td>\n",
       "      <td>0.03</td>\n",
       "    </tr>\n",
       "    <tr>\n",
       "      <th>2</th>\n",
       "      <td>0.35</td>\n",
       "      <td>0.30</td>\n",
       "      <td>0.03</td>\n",
       "      <td>0.07</td>\n",
       "      <td>0.15</td>\n",
       "      <td>0.10</td>\n",
       "    </tr>\n",
       "    <tr>\n",
       "      <th>3</th>\n",
       "      <td>0.07</td>\n",
       "      <td>0.03</td>\n",
       "      <td>0.10</td>\n",
       "      <td>0.30</td>\n",
       "      <td>0.35</td>\n",
       "      <td>0.15</td>\n",
       "    </tr>\n",
       "    <tr>\n",
       "      <th>4</th>\n",
       "      <td>0.03</td>\n",
       "      <td>0.10</td>\n",
       "      <td>0.07</td>\n",
       "      <td>0.15</td>\n",
       "      <td>0.35</td>\n",
       "      <td>0.30</td>\n",
       "    </tr>\n",
       "    <tr>\n",
       "      <th>5</th>\n",
       "      <td>0.35</td>\n",
       "      <td>0.15</td>\n",
       "      <td>0.10</td>\n",
       "      <td>0.07</td>\n",
       "      <td>0.30</td>\n",
       "      <td>0.03</td>\n",
       "    </tr>\n",
       "  </tbody>\n",
       "</table>\n",
       "</div>"
      ],
      "text/plain": [
       "   0_amb  1_amb  2_amb  3_amb  4_amb  5_amb\n",
       "0   0.10   0.15   0.03   0.07   0.30   0.35\n",
       "1   0.10   0.15   0.07   0.35   0.30   0.03\n",
       "2   0.35   0.30   0.03   0.07   0.15   0.10\n",
       "3   0.07   0.03   0.10   0.30   0.35   0.15\n",
       "4   0.03   0.10   0.07   0.15   0.35   0.30\n",
       "5   0.35   0.15   0.10   0.07   0.30   0.03"
      ]
     },
     "execution_count": 54,
     "metadata": {},
     "output_type": "execute_result"
    }
   ],
   "source": [
    "amb"
   ]
  },
  {
   "cell_type": "code",
   "execution_count": 55,
   "metadata": {},
   "outputs": [],
   "source": [
    "# Creemos una lista con los totales que se vamos a convertir en porcentages\n",
    "totales = [i for i in da['total']]"
   ]
  },
  {
   "cell_type": "markdown",
   "metadata": {},
   "source": [
    "Y ahora sí, después de tanta introducción, utilicemos el método `applymap` para multiplicar cada celda por el valor total definido en la lista. Reparemos que para cambiar los valores en nuestro dataframe, estamos indexando cada fila para todo el conjunto de columnas. Por último, también es útil remarcar el uso de la función anónima que vimos al principio del notebook. Tanto el método `applymap` como `apply` se llevan particularmente bien con este recurso. Básicamente porque al utilizarse (normalmente) con un solo argumento (la celda de la Serie o las del DataFrame) esto deja un mayor margen para agregar otros operadores (o argumentos) que si estuviesen definidos dentro de una función regular serían más difíciles de llamar. Pero veámoslo con un ejemplo concreto."
   ]
  },
  {
   "cell_type": "code",
   "execution_count": 56,
   "metadata": {},
   "outputs": [],
   "source": [
    "# Indexamos nuestro dataframe y combinamos applymap con una función anónima\n",
    "for i in range(len(totales)):\n",
    "    amb.loc[[i],:] = amb.loc[[i],:].applymap(lambda x: x*totales[i])"
   ]
  },
  {
   "cell_type": "code",
   "execution_count": 57,
   "metadata": {},
   "outputs": [
    {
     "data": {
      "text/plain": [
       "0    45.0\n",
       "1    46.0\n",
       "2    49.0\n",
       "3    50.0\n",
       "4    16.0\n",
       "5    16.0\n",
       "dtype: float64"
      ]
     },
     "execution_count": 57,
     "metadata": {},
     "output_type": "execute_result"
    }
   ],
   "source": [
    "# Comprobamos que la suma de nuestras filas de el total de unidades de nuestro df de desarrollos anuales\n",
    "amb.sum(axis=1)"
   ]
  },
  {
   "cell_type": "markdown",
   "metadata": {},
   "source": [
    "Ahora, probemos lo mismo con el método `apply` pero tratando de llamar otros argumentos que están definidos dentro de una función regular (algo para lo que `applymap` no es muy dúctil)."
   ]
  },
  {
   "cell_type": "code",
   "execution_count": 58,
   "metadata": {},
   "outputs": [],
   "source": [
    "# Definamos una función que multiplique nuestros valores\n",
    "def multiplica(x,y):\n",
    "    return x*y"
   ]
  },
  {
   "cell_type": "code",
   "execution_count": 59,
   "metadata": {},
   "outputs": [],
   "source": [
    "# Veamos cómo hacemos para llamar el argumento que no es nuestra 'x'(la celda). Apply lo hace muy sencillo...\n",
    "for idx in amb.index:\n",
    "    for elem in range(len(totales)):\n",
    "        amb.loc[[idx],:].apply(multiplica,y=elem)"
   ]
  },
  {
   "cell_type": "code",
   "execution_count": 60,
   "metadata": {},
   "outputs": [
    {
     "data": {
      "text/plain": [
       "0    45.0\n",
       "1    46.0\n",
       "2    49.0\n",
       "3    50.0\n",
       "4    16.0\n",
       "5    16.0\n",
       "dtype: float64"
      ]
     },
     "execution_count": 60,
     "metadata": {},
     "output_type": "execute_result"
    }
   ],
   "source": [
    "# Verifiquemos que nuestros valores suman el total de unidades.\n",
    "amb.sum(axis=1)"
   ]
  },
  {
   "cell_type": "code",
   "execution_count": 61,
   "metadata": {},
   "outputs": [],
   "source": [
    "# Veamos cómo nos quedaría nuestro dataframe de desarrollos anuales...\n",
    "da_completo = pd.merge(da,amb.applymap(lambda x: round(x,5)),left_index=True, right_index=True)"
   ]
  },
  {
   "cell_type": "code",
   "execution_count": 62,
   "metadata": {},
   "outputs": [
    {
     "data": {
      "text/html": [
       "<div>\n",
       "<style scoped>\n",
       "    .dataframe tbody tr th:only-of-type {\n",
       "        vertical-align: middle;\n",
       "    }\n",
       "\n",
       "    .dataframe tbody tr th {\n",
       "        vertical-align: top;\n",
       "    }\n",
       "\n",
       "    .dataframe thead th {\n",
       "        text-align: right;\n",
       "    }\n",
       "</style>\n",
       "<table border=\"1\" class=\"dataframe\">\n",
       "  <thead>\n",
       "    <tr style=\"text-align: right;\">\n",
       "      <th></th>\n",
       "      <th>id</th>\n",
       "      <th>inicia</th>\n",
       "      <th>finaliza</th>\n",
       "      <th>total</th>\n",
       "      <th>0_amb</th>\n",
       "      <th>1_amb</th>\n",
       "      <th>2_amb</th>\n",
       "      <th>3_amb</th>\n",
       "      <th>4_amb</th>\n",
       "      <th>5_amb</th>\n",
       "    </tr>\n",
       "  </thead>\n",
       "  <tbody>\n",
       "    <tr>\n",
       "      <th>0</th>\n",
       "      <td>C1024FDA</td>\n",
       "      <td>2020</td>\n",
       "      <td>2021</td>\n",
       "      <td>45</td>\n",
       "      <td>4.50</td>\n",
       "      <td>6.75</td>\n",
       "      <td>1.35</td>\n",
       "      <td>3.15</td>\n",
       "      <td>13.50</td>\n",
       "      <td>15.75</td>\n",
       "    </tr>\n",
       "    <tr>\n",
       "      <th>1</th>\n",
       "      <td>C1024FDA</td>\n",
       "      <td>2021</td>\n",
       "      <td>2022</td>\n",
       "      <td>46</td>\n",
       "      <td>4.60</td>\n",
       "      <td>6.90</td>\n",
       "      <td>3.22</td>\n",
       "      <td>16.10</td>\n",
       "      <td>13.80</td>\n",
       "      <td>1.38</td>\n",
       "    </tr>\n",
       "    <tr>\n",
       "      <th>2</th>\n",
       "      <td>C1171ABM</td>\n",
       "      <td>2020</td>\n",
       "      <td>2021</td>\n",
       "      <td>49</td>\n",
       "      <td>17.15</td>\n",
       "      <td>14.70</td>\n",
       "      <td>1.47</td>\n",
       "      <td>3.43</td>\n",
       "      <td>7.35</td>\n",
       "      <td>4.90</td>\n",
       "    </tr>\n",
       "    <tr>\n",
       "      <th>3</th>\n",
       "      <td>C1171ABM</td>\n",
       "      <td>2021</td>\n",
       "      <td>2022</td>\n",
       "      <td>50</td>\n",
       "      <td>3.50</td>\n",
       "      <td>1.50</td>\n",
       "      <td>5.00</td>\n",
       "      <td>15.00</td>\n",
       "      <td>17.50</td>\n",
       "      <td>7.50</td>\n",
       "    </tr>\n",
       "    <tr>\n",
       "      <th>4</th>\n",
       "      <td>C1097AAX</td>\n",
       "      <td>2020</td>\n",
       "      <td>2021</td>\n",
       "      <td>16</td>\n",
       "      <td>0.48</td>\n",
       "      <td>1.60</td>\n",
       "      <td>1.12</td>\n",
       "      <td>2.40</td>\n",
       "      <td>5.60</td>\n",
       "      <td>4.80</td>\n",
       "    </tr>\n",
       "    <tr>\n",
       "      <th>5</th>\n",
       "      <td>C1097AAX</td>\n",
       "      <td>2021</td>\n",
       "      <td>2022</td>\n",
       "      <td>16</td>\n",
       "      <td>5.60</td>\n",
       "      <td>2.40</td>\n",
       "      <td>1.60</td>\n",
       "      <td>1.12</td>\n",
       "      <td>4.80</td>\n",
       "      <td>0.48</td>\n",
       "    </tr>\n",
       "  </tbody>\n",
       "</table>\n",
       "</div>"
      ],
      "text/plain": [
       "         id  inicia  finaliza  total  0_amb  1_amb  2_amb  3_amb  4_amb  5_amb\n",
       "0  C1024FDA    2020      2021     45   4.50   6.75   1.35   3.15  13.50  15.75\n",
       "1  C1024FDA    2021      2022     46   4.60   6.90   3.22  16.10  13.80   1.38\n",
       "2  C1171ABM    2020      2021     49  17.15  14.70   1.47   3.43   7.35   4.90\n",
       "3  C1171ABM    2021      2022     50   3.50   1.50   5.00  15.00  17.50   7.50\n",
       "4  C1097AAX    2020      2021     16   0.48   1.60   1.12   2.40   5.60   4.80\n",
       "5  C1097AAX    2021      2022     16   5.60   2.40   1.60   1.12   4.80   0.48"
      ]
     },
     "execution_count": 62,
     "metadata": {},
     "output_type": "execute_result"
    }
   ],
   "source": [
    "da_completo"
   ]
  },
  {
   "cell_type": "code",
   "execution_count": 63,
   "metadata": {},
   "outputs": [],
   "source": [
    "da_completo.to_csv('../data/da_completo.csv')"
   ]
  }
 ],
 "metadata": {
  "kernelspec": {
   "display_name": "python-data",
   "language": "python",
   "name": "python-data"
  },
  "language_info": {
   "codemirror_mode": {
    "name": "ipython",
    "version": 3
   },
   "file_extension": ".py",
   "mimetype": "text/x-python",
   "name": "python",
   "nbconvert_exporter": "python",
   "pygments_lexer": "ipython3",
   "version": "3.6.9"
  }
 },
 "nbformat": 4,
 "nbformat_minor": 2
}
