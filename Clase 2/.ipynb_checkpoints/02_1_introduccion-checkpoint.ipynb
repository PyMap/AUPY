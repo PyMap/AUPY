{
 "cells": [
  {
   "cell_type": "markdown",
   "metadata": {},
   "source": [
    "# Introducción al manejo de datos geográficos"
   ]
  },
  {
   "cell_type": "markdown",
   "metadata": {},
   "source": [
    "## Clase 2: Geolocalización y visualización de registros"
   ]
  },
  {
   "cell_type": "markdown",
   "metadata": {},
   "source": [
    "### APIs y estrategias de ploteo"
   ]
  },
  {
   "cell_type": "markdown",
   "metadata": {},
   "source": [
    "![informacion](../imagenes/geolocalizacion.png)"
   ]
  },
  {
   "cell_type": "markdown",
   "metadata": {},
   "source": [
    "## Introducción "
   ]
  },
  {
   "cell_type": "markdown",
   "metadata": {},
   "source": [
    "A lo largo de la clase anterior vimos algunas cuestiones generales del manejo de datos espaciales. Los tipos de geometrías y su implementación en `shapely`, los métodos propios a cada una de ellas, manipulación de geodataframes con `geopandas` y, también, algún avance de cómo visualizar sobre un mapa las transformaciones que ibamos efectuando sobre nuestros datos.\n",
    "\n",
    "Ahora, intentaremos hacer un repaso de las librerías más utilizadas para el ploteo de información geográfica. Estas herramientas son de gran utilidad ya que, combinándolas con los recursos que venimos revisado, amplían las posibilidades que brinda un SIG de escritorio clásico como QGIS o ARCGIS. Así es que llegamos a la **propuesta para esta clase**.\n",
    "\n",
    "Para construir nuestras propias visualizaciones, definiremos antes el problema que queremos trabajar espacialmente. Para ello, partiremos de una circunstancia bastante frecuente en el mundo de los datos geográficos: la ausencia de coordenadas o de algún otro atributo que permita su la rápida representación espacial. \n",
    "\n",
    "Este problema lo vamos a resolver **en dos partes o secciones:** \n",
    "\n",
    "**1)** *APIs de normalización y enriquecimiento de unidades geográficas*: A partir de un caso concreto, introduciremos dos APIs diferentes. Utilizaremos un registro público real que carece de coordenadas geográficas y las reconstruiremos a partir de direcciones físicas. \n",
    "\n",
    "**2)** *Visualización de datos geográficos*: Utilizando las coordenadas geográficas generadas previamente, apelaremos a distintas librerías de visualización para comparar los resultados obtenidos mediante el proceso de geolocalización."
   ]
  },
  {
   "cell_type": "markdown",
   "metadata": {},
   "source": [
    "### Preparación de los datos"
   ]
  },
  {
   "cell_type": "markdown",
   "metadata": {},
   "source": [
    "![FACHADAS](../imagenes/fachadas.png)"
   ]
  },
  {
   "cell_type": "markdown",
   "metadata": {},
   "source": [
    "Una situación bastante común cuando trabajamos con datos que tienen una representación espacial, es que esta no esté disponible como columna o Serie de un DataFrame de pandas. En otras palabras, que no dispongamos de la latitud y la longitud de los datos que buscamos representar espacialmente. \n",
    "\n",
    "Supongamos que nuevamente necesitamos trabajar con edificios. Pero en esta oportunidad, no con desarrollos inmobiliarios sino con edificios que han sido catalogados como patrimonio histórico de la ciudad. \n",
    "\n",
    "A continuación veremos un [listado de fachadas](https://data.buenosaires.gob.ar/dataset/fachadas) con certificado de conservación. Este dataframe lo bajamos del portal de datos del Gobierno de la Ciudad de Buenos Aires, comúnmente conocido como [data buenos aires](https://data.buenosaires.gob.ar/dataset) - un sitio de consulta de datasets de bastante utilidad."
   ]
  },
  {
   "cell_type": "code",
   "execution_count": 1,
   "metadata": {},
   "outputs": [],
   "source": [
    "# Damos un primer vistazo a nuestro DataFrame\n",
    "import pandas as pd\n",
    "import numpy as np"
   ]
  },
  {
   "cell_type": "code",
   "execution_count": 2,
   "metadata": {},
   "outputs": [],
   "source": [
    "fachadas = pd.read_csv('../data/fachadas.csv')"
   ]
  },
  {
   "cell_type": "code",
   "execution_count": 3,
   "metadata": {},
   "outputs": [
    {
     "data": {
      "text/plain": [
       "26489"
      ]
     },
     "execution_count": 3,
     "metadata": {},
     "output_type": "execute_result"
    }
   ],
   "source": [
    "# Como vemos, se trata de un dataset de 26489 registros\n",
    "len(fachadas)"
   ]
  },
  {
   "cell_type": "code",
   "execution_count": 4,
   "metadata": {},
   "outputs": [
    {
     "data": {
      "text/plain": [
       "Index(['seccion', 'manzana', 'parcela', 'partida', 'calle_nombre',\n",
       "       'calle_altura', 'vencimiento_certificado'],\n",
       "      dtype='object')"
      ]
     },
     "execution_count": 4,
     "metadata": {},
     "output_type": "execute_result"
    }
   ],
   "source": [
    "# Con información geográfica relativa a la sección, manzana, la parcela y dirección donde se encuentra cada fachada\n",
    "fachadas.columns"
   ]
  },
  {
   "cell_type": "code",
   "execution_count": 5,
   "metadata": {},
   "outputs": [
    {
     "data": {
      "text/html": [
       "<div>\n",
       "<style scoped>\n",
       "    .dataframe tbody tr th:only-of-type {\n",
       "        vertical-align: middle;\n",
       "    }\n",
       "\n",
       "    .dataframe tbody tr th {\n",
       "        vertical-align: top;\n",
       "    }\n",
       "\n",
       "    .dataframe thead th {\n",
       "        text-align: right;\n",
       "    }\n",
       "</style>\n",
       "<table border=\"1\" class=\"dataframe\">\n",
       "  <thead>\n",
       "    <tr style=\"text-align: right;\">\n",
       "      <th></th>\n",
       "      <th>seccion</th>\n",
       "      <th>manzana</th>\n",
       "      <th>parcela</th>\n",
       "      <th>partida</th>\n",
       "      <th>calle_nombre</th>\n",
       "      <th>calle_altura</th>\n",
       "      <th>vencimiento_certificado</th>\n",
       "    </tr>\n",
       "  </thead>\n",
       "  <tbody>\n",
       "    <tr>\n",
       "      <th>0</th>\n",
       "      <td>21</td>\n",
       "      <td>2</td>\n",
       "      <td>9</td>\n",
       "      <td>429255.0</td>\n",
       "      <td>ALVAREZ, JULIAN</td>\n",
       "      <td>2531.0</td>\n",
       "      <td>2019-03-12</td>\n",
       "    </tr>\n",
       "    <tr>\n",
       "      <th>1</th>\n",
       "      <td>79</td>\n",
       "      <td>89</td>\n",
       "      <td>22</td>\n",
       "      <td>260164.0</td>\n",
       "      <td>LAMARCA, EMILIO</td>\n",
       "      <td>1014.0</td>\n",
       "      <td>2019-03-30</td>\n",
       "    </tr>\n",
       "    <tr>\n",
       "      <th>2</th>\n",
       "      <td>17</td>\n",
       "      <td>14</td>\n",
       "      <td>27</td>\n",
       "      <td>173288.0</td>\n",
       "      <td>SARMIENTO</td>\n",
       "      <td>4579.0</td>\n",
       "      <td>2019-05-03</td>\n",
       "    </tr>\n",
       "    <tr>\n",
       "      <th>3</th>\n",
       "      <td>42</td>\n",
       "      <td>16</td>\n",
       "      <td>1</td>\n",
       "      <td>140186.0</td>\n",
       "      <td>DIRECTORIO AV.</td>\n",
       "      <td>1706.0</td>\n",
       "      <td>2019-06-10</td>\n",
       "    </tr>\n",
       "    <tr>\n",
       "      <th>4</th>\n",
       "      <td>11</td>\n",
       "      <td>65</td>\n",
       "      <td>6</td>\n",
       "      <td>442215.0</td>\n",
       "      <td>ALVEAR AV.</td>\n",
       "      <td>1974.0</td>\n",
       "      <td>2019-06-16</td>\n",
       "    </tr>\n",
       "  </tbody>\n",
       "</table>\n",
       "</div>"
      ],
      "text/plain": [
       "   seccion manzana parcela   partida     calle_nombre  calle_altura  \\\n",
       "0       21       2       9  429255.0  ALVAREZ, JULIAN        2531.0   \n",
       "1       79      89      22  260164.0  LAMARCA, EMILIO        1014.0   \n",
       "2       17      14      27  173288.0        SARMIENTO        4579.0   \n",
       "3       42      16       1  140186.0   DIRECTORIO AV.        1706.0   \n",
       "4       11      65       6  442215.0       ALVEAR AV.        1974.0   \n",
       "\n",
       "  vencimiento_certificado  \n",
       "0              2019-03-12  \n",
       "1              2019-03-30  \n",
       "2              2019-05-03  \n",
       "3              2019-06-10  \n",
       "4              2019-06-16  "
      ]
     },
     "execution_count": 5,
     "metadata": {},
     "output_type": "execute_result"
    }
   ],
   "source": [
    "fachadas.head()"
   ]
  },
  {
   "cell_type": "code",
   "execution_count": 6,
   "metadata": {},
   "outputs": [
    {
     "data": {
      "text/plain": [
       "26464"
      ]
     },
     "execution_count": 6,
     "metadata": {},
     "output_type": "execute_result"
    }
   ],
   "source": [
    "# Un total de 26464 partidas únicas\n",
    "len(fachadas.partida.unique())"
   ]
  },
  {
   "cell_type": "code",
   "execution_count": 7,
   "metadata": {},
   "outputs": [],
   "source": [
    "import datetime"
   ]
  },
  {
   "cell_type": "code",
   "execution_count": 8,
   "metadata": {},
   "outputs": [],
   "source": [
    "def to_datetime(x):\n",
    "    return datetime.datetime.strptime(x, '%Y-%m-%d')"
   ]
  },
  {
   "cell_type": "code",
   "execution_count": 9,
   "metadata": {},
   "outputs": [],
   "source": [
    "fechas = fachadas['vencimiento_certificado'].fillna('0000-00-00')"
   ]
  },
  {
   "cell_type": "markdown",
   "metadata": {},
   "source": [
    "Sabemos que las fechas con mayor cantidad de vencimientos son octubre y junio de 2020..."
   ]
  },
  {
   "cell_type": "code",
   "execution_count": 10,
   "metadata": {},
   "outputs": [
    {
     "data": {
      "text/plain": [
       "2020-10-03    65\n",
       "2020-06-06    65\n",
       "2020-08-01    62\n",
       "2020-09-13    62\n",
       "2020-11-06    62\n",
       "              ..\n",
       "2027-08-15     1\n",
       "2028-08-07     1\n",
       "2026-09-08     1\n",
       "2027-12-15     1\n",
       "2028-08-23     1\n",
       "Name: vencimiento_certificado, Length: 3115, dtype: int64"
      ]
     },
     "execution_count": 10,
     "metadata": {},
     "output_type": "execute_result"
    }
   ],
   "source": [
    "fechas[fechas!='0000-00-00'].map(to_datetime).value_counts()"
   ]
  },
  {
   "cell_type": "code",
   "execution_count": 11,
   "metadata": {},
   "outputs": [
    {
     "data": {
      "text/plain": [
       "0   2020-06-06\n",
       "1   2020-10-03\n",
       "dtype: datetime64[ns]"
      ]
     },
     "execution_count": 11,
     "metadata": {},
     "output_type": "execute_result"
    }
   ],
   "source": [
    "fechas[fechas!='0000-00-00'].map(to_datetime).mode()"
   ]
  },
  {
   "cell_type": "code",
   "execution_count": 12,
   "metadata": {},
   "outputs": [
    {
     "data": {
      "text/plain": [
       "Timestamp('2022-04-16 21:15:31.498979584')"
      ]
     },
     "execution_count": 12,
     "metadata": {},
     "output_type": "execute_result"
    }
   ],
   "source": [
    "# con una gran cantidad de casos que van a vencer en el 2022\n",
    "fechas[fechas!='0000-00-00'].map(to_datetime).mean()"
   ]
  },
  {
   "cell_type": "code",
   "execution_count": 13,
   "metadata": {},
   "outputs": [
    {
     "data": {
      "text/plain": [
       "Timestamp('2019-03-12 00:00:00')"
      ]
     },
     "execution_count": 13,
     "metadata": {},
     "output_type": "execute_result"
    }
   ],
   "source": [
    "# y en marzo del 2019, el vencimiento más reciente\n",
    "fechas[fechas!='0000-00-00'].map(to_datetime).min()"
   ]
  },
  {
   "cell_type": "markdown",
   "metadata": {},
   "source": [
    "Con lo cual, sabemos que se trata de un registro bastante actualizado, con partidas que vencen (mayormente) entre 2020 y 2040..."
   ]
  },
  {
   "cell_type": "code",
   "execution_count": 14,
   "metadata": {},
   "outputs": [
    {
     "data": {
      "image/png": "[encoded data removed]",
      "text/plain": [
       "<Figure size 432x288 with 1 Axes>"
      ]
     },
     "metadata": {
      "needs_background": "light"
     },
     "output_type": "display_data"
    }
   ],
   "source": [
    "fechas[fechas!='0000-00-00'].map(to_datetime).hist(bins=100);"
   ]
  },
  {
   "cell_type": "code",
   "execution_count": 15,
   "metadata": {},
   "outputs": [
    {
     "data": {
      "text/plain": [
       "Timestamp('2220-11-20 00:00:00')"
      ]
     },
     "execution_count": 15,
     "metadata": {},
     "output_type": "execute_result"
    }
   ],
   "source": [
    "# y, posiblemente, algún registro erróneo (como se puede apreciar en la cola de nuestro histograma)\n",
    "fechas[fechas!='0000-00-00'].map(to_datetime).max()"
   ]
  },
  {
   "cell_type": "code",
   "execution_count": 16,
   "metadata": {},
   "outputs": [
    {
     "data": {
      "text/html": [
       "<div>\n",
       "<style scoped>\n",
       "    .dataframe tbody tr th:only-of-type {\n",
       "        vertical-align: middle;\n",
       "    }\n",
       "\n",
       "    .dataframe tbody tr th {\n",
       "        vertical-align: top;\n",
       "    }\n",
       "\n",
       "    .dataframe thead th {\n",
       "        text-align: right;\n",
       "    }\n",
       "</style>\n",
       "<table border=\"1\" class=\"dataframe\">\n",
       "  <thead>\n",
       "    <tr style=\"text-align: right;\">\n",
       "      <th></th>\n",
       "      <th>seccion</th>\n",
       "      <th>manzana</th>\n",
       "      <th>parcela</th>\n",
       "      <th>partida</th>\n",
       "      <th>calle_nombre</th>\n",
       "      <th>calle_altura</th>\n",
       "      <th>vencimiento_certificado</th>\n",
       "    </tr>\n",
       "  </thead>\n",
       "  <tbody>\n",
       "    <tr>\n",
       "      <th>0</th>\n",
       "      <td>21</td>\n",
       "      <td>2</td>\n",
       "      <td>9</td>\n",
       "      <td>429255.0</td>\n",
       "      <td>ALVAREZ, JULIAN</td>\n",
       "      <td>2531.0</td>\n",
       "      <td>2019-03-12</td>\n",
       "    </tr>\n",
       "    <tr>\n",
       "      <th>1</th>\n",
       "      <td>79</td>\n",
       "      <td>89</td>\n",
       "      <td>22</td>\n",
       "      <td>260164.0</td>\n",
       "      <td>LAMARCA, EMILIO</td>\n",
       "      <td>1014.0</td>\n",
       "      <td>2019-03-30</td>\n",
       "    </tr>\n",
       "    <tr>\n",
       "      <th>2</th>\n",
       "      <td>17</td>\n",
       "      <td>14</td>\n",
       "      <td>27</td>\n",
       "      <td>173288.0</td>\n",
       "      <td>SARMIENTO</td>\n",
       "      <td>4579.0</td>\n",
       "      <td>2019-05-03</td>\n",
       "    </tr>\n",
       "    <tr>\n",
       "      <th>3</th>\n",
       "      <td>42</td>\n",
       "      <td>16</td>\n",
       "      <td>1</td>\n",
       "      <td>140186.0</td>\n",
       "      <td>DIRECTORIO AV.</td>\n",
       "      <td>1706.0</td>\n",
       "      <td>2019-06-10</td>\n",
       "    </tr>\n",
       "    <tr>\n",
       "      <th>4</th>\n",
       "      <td>11</td>\n",
       "      <td>65</td>\n",
       "      <td>6</td>\n",
       "      <td>442215.0</td>\n",
       "      <td>ALVEAR AV.</td>\n",
       "      <td>1974.0</td>\n",
       "      <td>2019-06-16</td>\n",
       "    </tr>\n",
       "  </tbody>\n",
       "</table>\n",
       "</div>"
      ],
      "text/plain": [
       "   seccion manzana parcela   partida     calle_nombre  calle_altura  \\\n",
       "0       21       2       9  429255.0  ALVAREZ, JULIAN        2531.0   \n",
       "1       79      89      22  260164.0  LAMARCA, EMILIO        1014.0   \n",
       "2       17      14      27  173288.0        SARMIENTO        4579.0   \n",
       "3       42      16       1  140186.0   DIRECTORIO AV.        1706.0   \n",
       "4       11      65       6  442215.0       ALVEAR AV.        1974.0   \n",
       "\n",
       "  vencimiento_certificado  \n",
       "0              2019-03-12  \n",
       "1              2019-03-30  \n",
       "2              2019-05-03  \n",
       "3              2019-06-10  \n",
       "4              2019-06-16  "
      ]
     },
     "execution_count": 16,
     "metadata": {},
     "output_type": "execute_result"
    }
   ],
   "source": [
    "fachadas.head()"
   ]
  },
  {
   "cell_type": "markdown",
   "metadata": {},
   "source": [
    "Pero lo más importante, si bien este dataset cuenta con referencias geográficas, no sería tan fácil plotear estos registros en un mapa. Si bien no es algo imposible, esto nos demandaría cierto preprocesamiento. Básicamente, porque estas referencias no son más que datos de tipo string. Podríamos construir un código único con las columnas de sección, manzana y parcela y mergearlos con algún shapefile de manzanas. Aunque, para ser más precisos, trataremos de usar la dirección y la altura para conseguir la latitud y la longitud. De esta manera, utilizaremos las coordenadas geográficas de estas direcciones y plotearemos un mapa de puntos para ubicar nuestras fachadas históricas. Comencemos!"
   ]
  }
 ],
 "metadata": {
  "kernelspec": {
   "display_name": "python-data",
   "language": "python",
   "name": "python-data"
  },
  "language_info": {
   "codemirror_mode": {
    "name": "ipython",
    "version": 3
   },
   "file_extension": ".py",
   "mimetype": "text/x-python",
   "name": "python",
   "nbconvert_exporter": "python",
   "pygments_lexer": "ipython3",
   "version": "3.6.9"
  }
 },
 "nbformat": 4,
 "nbformat_minor": 2
}
