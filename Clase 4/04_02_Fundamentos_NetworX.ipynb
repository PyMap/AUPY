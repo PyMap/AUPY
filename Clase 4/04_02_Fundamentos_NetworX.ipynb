{
 "cells": [
  {
   "cell_type": "markdown",
   "metadata": {},
   "source": [
    "#  Grafos y redes de transporte"
   ]
  },
  {
   "cell_type": "markdown",
   "metadata": {},
   "source": [
    "# Clase 4"
   ]
  },
  {
   "cell_type": "markdown",
   "metadata": {},
   "source": [
    "##  Parte 1. NetworkX I\n",
    "### Elementos iniciales \n",
    "\n",
    "#### Algunos conceptos básicos"
   ]
  },
  {
   "cell_type": "markdown",
   "metadata": {},
   "source": [
    "A modo de inicio, cabe aclarar que no siempre existe una forma única de representar una red. Mientras esta refiere al funcionamiento de un sistema complejo, un `grafo` es la representación matemática de dicha red de relaciones. En ese sentido, contamos con infinidades de esquemas. Dentro de ellos las redes de transporte son uno más, donde generalmente las estaciones se representan por medio de nodos o vértices, y las relaciones entre ellos a través de calles o viajes. De tal manera, un grafo se compone por: \n",
    "\n",
    "<img align=\"center\" width=\"500\" height=\"50\" src=\"../imagenes/nodos_ejes.png\" style=\"float: center; padding: 0 15px\">"
   ]
  },
  {
   "cell_type": "code",
   "execution_count": null,
   "metadata": {},
   "outputs": [],
   "source": [
    "#!pip install networkx"
   ]
  },
  {
   "cell_type": "markdown",
   "metadata": {},
   "source": [
    "Para estar al tanto de la última versión disponible siempre es recomendable chequear en el [repositorio oficial](https://github.com/networkx/networkx). También dejamos el link a la [documentación](https://networkx.org/documentation/stable//reference/introduction.html) de la librería."
   ]
  },
  {
   "cell_type": "code",
   "execution_count": 1,
   "metadata": {},
   "outputs": [
    {
     "name": "stdout",
     "output_type": "stream",
     "text": [
      "Version: 2.5\r\n"
     ]
    }
   ],
   "source": [
    "# última release\n",
    "!pip show networkx | grep Version"
   ]
  },
  {
   "cell_type": "markdown",
   "metadata": {},
   "source": [
    "## Sección 1: Amrando nuestro grafo"
   ]
  },
  {
   "cell_type": "markdown",
   "metadata": {},
   "source": [
    "Comencemos por armar un grafo no dirigido, distinguiendo nodos y ejes."
   ]
  },
  {
   "cell_type": "code",
   "execution_count": 2,
   "metadata": {},
   "outputs": [],
   "source": [
    "# importar libreria\n",
    "import networkx as nx\n",
    "import matplotlib.pyplot as plt"
   ]
  },
  {
   "cell_type": "code",
   "execution_count": 3,
   "metadata": {},
   "outputs": [],
   "source": [
    "# creamos un grafo no dirigido\n",
    "G = nx.Graph()"
   ]
  },
  {
   "cell_type": "code",
   "execution_count": 4,
   "metadata": {},
   "outputs": [],
   "source": [
    "# armamos una lista con los que serán nuestros nodos\n",
    "nodos = list(range(9))"
   ]
  },
  {
   "cell_type": "code",
   "execution_count": 5,
   "metadata": {},
   "outputs": [],
   "source": [
    "# y la usamos para agregarlos a nuestro objeto de tipo Graph\n",
    "G.add_nodes_from(nodos)"
   ]
  },
  {
   "cell_type": "markdown",
   "metadata": {},
   "source": [
    "Como vimos, este objeto se crea cuando instanciamos la clase Graph. Tanto los nodos como los ejes son atributos de este tipo de objetos. Veamos cómo se puede acceder a los mismos."
   ]
  },
  {
   "cell_type": "code",
   "execution_count": 6,
   "metadata": {},
   "outputs": [
    {
     "data": {
      "text/plain": [
       "NodeView((0, 1, 2, 3, 4, 5, 6, 7, 8))"
      ]
     },
     "execution_count": 6,
     "metadata": {},
     "output_type": "execute_result"
    }
   ],
   "source": [
    "# los nodos son un atributo de los grafos. Nosotros creamos 5 en total\n",
    "G.nodes()"
   ]
  },
  {
   "cell_type": "markdown",
   "metadata": {},
   "source": [
    "Ahora definamos las conexiones de nuestro grafo. Es decir, los ejes. Como dijimos no existe una única manera de representar una red. Y si bien las de transporte suelen seguir una misma estrructura de nodos y ejes, las conexiones entre los primeros sí pueden ser algo más aleatorio."
   ]
  },
  {
   "cell_type": "code",
   "execution_count": 7,
   "metadata": {},
   "outputs": [
    {
     "name": "stdout",
     "output_type": "stream",
     "text": [
      "Conectado nodos:\n",
      "***************\n",
      "0 - 1\n",
      "1 - 2\n",
      "3 - 4\n",
      "4 - 5\n",
      "6 - 7\n",
      "7 - 8\n"
     ]
    }
   ],
   "source": [
    "print('Conectado nodos:')\n",
    "print('***************')\n",
    "for n in range(0, len(nodos),3):\n",
    "    print(n, '-', n+1)\n",
    "    G.add_edge(n, n+1)\n",
    "    \n",
    "    print(n+1, '-', n+2)\n",
    "    G.add_edge(n+1, n+2)"
   ]
  },
  {
   "cell_type": "code",
   "execution_count": 8,
   "metadata": {},
   "outputs": [
    {
     "data": {
      "text/plain": [
       "EdgeView([(0, 1), (1, 2), (3, 4), (4, 5), (6, 7), (7, 8)])"
      ]
     },
     "execution_count": 8,
     "metadata": {},
     "output_type": "execute_result"
    }
   ],
   "source": [
    "# y los devolvemos como una lista de tuplas. Cada una, con los nodos que conecta el eje\n",
    "G.edges()"
   ]
  },
  {
   "cell_type": "markdown",
   "metadata": {},
   "source": [
    "Usemos el método `draw` de NetworkX para previsualizar cómo se vería esta red de relaciones"
   ]
  },
  {
   "cell_type": "code",
   "execution_count": 9,
   "metadata": {},
   "outputs": [
    {
     "data": {
      "image/png": "[encoded data removed]",
      "text/plain": [
       "<Figure size 432x288 with 1 Axes>"
      ]
     },
     "metadata": {},
     "output_type": "display_data"
    }
   ],
   "source": [
    "nx.draw(G)"
   ]
  },
  {
   "cell_type": "markdown",
   "metadata": {},
   "source": [
    "Vale aclarar que todavía no exploramos ninguno de los parametros de `draw`. Tampoco agregamos la noción de espacialidad a nuestro grafo, con lo cual, al no fijar la posición de los nodos este método asigna aleatoriamente su ubicación cada vez que lo ejecutamos:"
   ]
  },
  {
   "cell_type": "code",
   "execution_count": 10,
   "metadata": {},
   "outputs": [],
   "source": [
    "# conectemos ahora los segmentos inconexos para conformar toda la red\n",
    "G.add_edge(2,5)\n",
    "G.add_edge(7,5)"
   ]
  },
  {
   "cell_type": "code",
   "execution_count": 11,
   "metadata": {},
   "outputs": [
    {
     "data": {
      "image/png": "[encoded data removed]",
      "text/plain": [
       "<Figure size 432x288 with 1 Axes>"
      ]
     },
     "metadata": {},
     "output_type": "display_data"
    }
   ],
   "source": [
    "nx.draw(G)"
   ]
  },
  {
   "cell_type": "code",
   "execution_count": 12,
   "metadata": {},
   "outputs": [
    {
     "data": {
      "image/png": "[encoded data removed]",
      "text/plain": [
       "<Figure size 432x288 with 1 Axes>"
      ]
     },
     "metadata": {},
     "output_type": "display_data"
    }
   ],
   "source": [
    "# vemos que las relaciones se mantienen, pero la forma del grafo cambia\n",
    "nx.draw(G)"
   ]
  },
  {
   "cell_type": "markdown",
   "metadata": {},
   "source": [
    "A no preocuparse, a lo largo de este notebook iremos viendo cuáles son las posibilidades que nos brinda este método para poder customizar nuestro grafo. Prosigamos..."
   ]
  },
  {
   "cell_type": "markdown",
   "metadata": {},
   "source": [
    "### 1. 1. Nodos o vértices"
   ]
  },
  {
   "cell_type": "markdown",
   "metadata": {},
   "source": [
    "Como dijimos, uno de los componentes principales de un grafo son sus nodos. Ya sabemos que con el método `add_nodes_from` podemos incluirlos en nuestro objeto de tipo Graph. Ahora veamos qué tipo de operaciones podemos hacer sobre los mismos. \n",
    "\n",
    "Veremos que los nodos se vuelven accesibles, como cualquier iterable, a través de un índice. Una vez allí, podemos decidir qué tipo de atributo agregarle con una etiqueta. Tal como si fueran diccionarios."
   ]
  },
  {
   "cell_type": "code",
   "execution_count": 13,
   "metadata": {},
   "outputs": [],
   "source": [
    "# agregamos al nodo 1 una label que vamos a definir con un nombre, suponiendo que fuese una estación.\n",
    "G.nodes[0]['estacion'] = 'CALLAO'\n",
    "\n",
    "# también podemos agregar la línea\n",
    "G.nodes[0]['linea'] = 'B'\n",
    "\n",
    "# Algún color para identificar\n",
    "G.nodes[0]['color'] = 'red'\n",
    "\n",
    "# y por qué no sus coordenadas\n",
    "G.nodes[0]['coord'] = (-58.39241446187341, -34.603705218144896)"
   ]
  },
  {
   "cell_type": "markdown",
   "metadata": {},
   "source": [
    "Como se puede apreciar, agregamos una etiqueta a uno de nuestros nodos. De esta manera, podemos obtener una lista de nodos con la metadata asociada. Si prestamos atención, el parámetro `data` nos devuelve un diccionario donde la key es el nodo. Despues contamos con la metadata en otro diccionario donde la llave es la etiqueta y la key el valor. \n",
    "\n",
    "Ahora sólo contamos con una descripción a modo de ejemplo, pero imaginen que dicho valor podría ser la cantidad de pasajeros arrivados a una estación a una hora determinada, o el promedio de tiempo entre una estación y otra."
   ]
  },
  {
   "cell_type": "code",
   "execution_count": 14,
   "metadata": {},
   "outputs": [
    {
     "data": {
      "text/plain": [
       "NodeDataView({0: {'estacion': 'CALLAO', 'linea': 'B', 'color': 'red', 'coord': (-58.39241446187341, -34.603705218144896)}, 1: {}, 2: {}, 3: {}, 4: {}, 5: {}, 6: {}, 7: {}, 8: {}})"
      ]
     },
     "execution_count": 14,
     "metadata": {},
     "output_type": "execute_result"
    }
   ],
   "source": [
    "# Veamos el parametro data\n",
    "G.nodes(data=True)"
   ]
  },
  {
   "cell_type": "code",
   "execution_count": 15,
   "metadata": {},
   "outputs": [
    {
     "data": {
      "text/plain": [
       "{'estacion': 'CALLAO',\n",
       " 'linea': 'B',\n",
       " 'color': 'red',\n",
       " 'coord': (-58.39241446187341, -34.603705218144896)}"
      ]
     },
     "execution_count": 15,
     "metadata": {},
     "output_type": "execute_result"
    }
   ],
   "source": [
    "# y accedamos a su metadata con el posicional de la tupla donde se encuentra el nodo y el diccionario\n",
    "list(G.nodes(data=True))[0][1]"
   ]
  },
  {
   "cell_type": "markdown",
   "metadata": {},
   "source": [
    "Completemos nuestra red con la metadata de los demás nodos ..."
   ]
  },
  {
   "cell_type": "code",
   "execution_count": 16,
   "metadata": {},
   "outputs": [],
   "source": [
    "import pandas as pd"
   ]
  },
  {
   "cell_type": "code",
   "execution_count": 17,
   "metadata": {},
   "outputs": [],
   "source": [
    "def atributos_para_nodos():\n",
    "    \n",
    "    # cargamos el dataframe y lo filtramos con nuestros nodos\n",
    "    subte = pd.read_csv('../data/estaciones-de-subte.csv')\n",
    "    lineas = subte[subte.linea.isin(['C','B','D'])]\n",
    "    \n",
    "    estaciones = lineas[lineas.estacion.isin(['URUGUAY', 'C. PELLEGRINI',\n",
    "                                              '9 DE JULIO', 'CALLAO',  'TRIBUNALES - TEATRO COLÓN', \n",
    "                                              'AV. DE MAYO', 'DIAGONAL NORTE', 'LAVALLE'])].copy()\n",
    "    \n",
    "    # agrupamos las coordenadas\n",
    "    estaciones['coord'] = list(zip(estaciones.long, estaciones.lat))\n",
    "    \n",
    "    # restablecemos el orden en función de cómo contectamos los nodos de nuestro graFo\n",
    "    estaciones = estaciones.sort_values(by=['linea','id'], ascending=False)\n",
    "    estaciones_reorder = []\n",
    "    for l in ['B','D','C']:\n",
    "        estaciones_reorder.append(estaciones[estaciones.linea==l])\n",
    "        \n",
    "    estaciones = pd.concat(estaciones_reorder).reset_index().drop(columns='index')\n",
    "    \n",
    "    # ahora asociacmos cada estación a los nodos del grafo\n",
    "    estaciones['node_idx'] = list(range(1, len(estaciones)+1))\n",
    "    \n",
    "    # creamos el resto de los atributos, reindexamos y borramos las columnas que no nos sirven\n",
    "    estaciones['color'] = estaciones.linea.replace({'D':'green', 'C':'blue', 'B':'red'})\n",
    "    estaciones.set_index(estaciones.estacion, inplace=True)\n",
    "    estaciones.drop(columns=['estacion','id', 'long', 'lat'], inplace=True)\n",
    "    \n",
    "    atributos = estaciones.to_dict(orient='index')\n",
    "    \n",
    "    return atributos"
   ]
  },
  {
   "cell_type": "code",
   "execution_count": 18,
   "metadata": {},
   "outputs": [],
   "source": [
    "input_dict = atributos_para_nodos()"
   ]
  },
  {
   "cell_type": "code",
   "execution_count": null,
   "metadata": {},
   "outputs": [],
   "source": [
    "input_dict['9 DE JULIO']"
   ]
  },
  {
   "cell_type": "code",
   "execution_count": null,
   "metadata": {},
   "outputs": [],
   "source": [
    "input_dict"
   ]
  },
  {
   "cell_type": "code",
   "execution_count": null,
   "metadata": {},
   "outputs": [],
   "source": [
    "def define_atributos_nodos(atributos, nombre_estacion):\n",
    "    # agregamos al nodo 1 una label que vamos a definir con un nombre, suponiendo que fuese una estación.\n",
    "    G.nodes[atributos[nombre_estacion]['node_idx']]['estacion'] = nombre_estacion\n",
    "\n",
    "    # también podemos agregar la línea\n",
    "    G.nodes[atributos[nombre_estacion]['node_idx']]['linea'] = atributos[nombre_estacion]['linea']\n",
    "\n",
    "    # Algún color para identificar\n",
    "    G.nodes[atributos[nombre_estacion]['node_idx']]['color'] = atributos[nombre_estacion]['color']\n",
    "\n",
    "    # y por qué no sus coordenadas\n",
    "    G.nodes[atributos[nombre_estacion]['node_idx']]['coord'] = atributos[nombre_estacion]['coord']"
   ]
  },
  {
   "cell_type": "code",
   "execution_count": null,
   "metadata": {},
   "outputs": [],
   "source": [
    "for k in input_dict.keys():\n",
    "    define_atributos_nodos(atributos=input_dict, nombre_estacion=k)"
   ]
  },
  {
   "cell_type": "code",
   "execution_count": null,
   "metadata": {},
   "outputs": [],
   "source": [
    "G.nodes(data=True)"
   ]
  },
  {
   "cell_type": "code",
   "execution_count": null,
   "metadata": {},
   "outputs": [],
   "source": [
    "# accedemos a la metadata del nodo 3 y vemos si se asignó la información que esperabamos\n",
    "list(G.nodes(data=True))[3][1]"
   ]
  },
  {
   "cell_type": "markdown",
   "metadata": {},
   "source": [
    "Supongamos ahora que quisieramos quedarnos solamente con aquellos nodos que responden a un atributo en particular. Por ejemplo, pertenecer a una misma línea del subterráneo. Se les ocurre cómo podríamos filtrar elementos dentro de la vista de nodos de un grafo determinado?"
   ]
  },
  {
   "cell_type": "code",
   "execution_count": null,
   "metadata": {},
   "outputs": [],
   "source": [
    "# Una recurso bastante utilizado en este tipo de estructuras son las comprehension lists!\n",
    "[n for n,d in G.nodes(data=True) if d['linea'] == 'B']"
   ]
  },
  {
   "cell_type": "markdown",
   "metadata": {},
   "source": [
    "Ya sabemos que los nodos `0`, `1` y `2` pertenecen a la línea `B`."
   ]
  },
  {
   "cell_type": "markdown",
   "metadata": {},
   "source": [
    "### 1.2. Ejes o arcos"
   ]
  },
  {
   "cell_type": "markdown",
   "metadata": {},
   "source": [
    "Como mencionamos, otro de los componentes de un grafo son los ejes. Estos, establecen o determinan si los pares de nodos que conforman nuestro grafo están conectados por algún tipo de relación. De manera similar a como vimos recién, los ejes se vuelven accesibles mediante un indexado. Ahora bien, este no es un valor único sino que considera los extremos del eje. En otras palabras, los nodos que está conectando."
   ]
  },
  {
   "cell_type": "code",
   "execution_count": null,
   "metadata": {},
   "outputs": [],
   "source": [
    "# Agreguemos ahora un par \"key:value\" a los ejes. Vean que para acceder se usa una lista con los nodos que unen\n",
    "G.edges[0,1]['fecha']='2019-10-01'\n",
    "G.edges[0,1]['hora']='09:30:00'\n",
    "G.edges[0,1]['pasajeros']=125"
   ]
  },
  {
   "cell_type": "code",
   "execution_count": null,
   "metadata": {},
   "outputs": [],
   "source": [
    "G.edges(data=True)"
   ]
  },
  {
   "cell_type": "markdown",
   "metadata": {},
   "source": [
    "Así, acabamos de agregar un poco de información adicional a nuestra primera conexión. Los nodos `0` y `1` se conectaban el 10 de enero de 2019 a las 9:30 de la mañana, transportando 125 pasajeros. Esto nos brinda algo de contexto.\n",
    "\n",
    "Ahora bien, si nos detenemos en este último atributo vamos a incorporar un nuevo concepto: el de peso (o `weight` en inglés). Este sirve para dimensionar la intensidad de una conexión entre pares de nodos dentro de nuestro grafo. Y así como decidimos que sean pasajeros, podríamos haber definido cualquier otro: tiempo transcurrido para llegar de un nodo `u` a otro `v`, velocidad promedio del viaje, etc. etc.\n",
    "\n",
    "Al igual que con los nodos, agregar atributos a los ejes de un grafo nos permite caracterizar a nuestro grafo. Y también poder seleccionar componentes dentro del mismo siguiendo algún tipo de condición. Veamos cómo hacerlo iterando sobre los ejes de una manera más extendida, pero también más explícita ..."
   ]
  },
  {
   "cell_type": "code",
   "execution_count": null,
   "metadata": {},
   "outputs": [],
   "source": [
    "# para los nodos o vértices (u,v) y el diccionario (d)\n",
    "for u,v,d in G.edges(data=True):\n",
    "    \n",
    "    # revisamos si el nodo 1 se encuentra involucrado:\n",
    "    if 1 in [u,v]:\n",
    "        \n",
    "        # y le cambiamos el valor de su peso\n",
    "        d['pasajeros'] = 75"
   ]
  },
  {
   "cell_type": "markdown",
   "metadata": {},
   "source": [
    "Ahora, completemos nuestro grafo sumando atributos al resto de los ejes. Para mantenerlo simple, supongamos que estamos trabajando con una porción de la red de subterráneos para un mismo día y hora."
   ]
  },
  {
   "cell_type": "code",
   "execution_count": null,
   "metadata": {},
   "outputs": [],
   "source": [
    "import random"
   ]
  },
  {
   "cell_type": "code",
   "execution_count": null,
   "metadata": {},
   "outputs": [],
   "source": [
    "def define_atributos_ejes():\n",
    "    conexiones_lineas = [(2,5),(5,7)]\n",
    "    conexiones_estaciones = [i for i in G.edges if i not in conexiones_lineas]\n",
    "    \n",
    "    for i in conexiones_estaciones:\n",
    "        # donde i[0] es el nodo inicial y i[1] el final\n",
    "        G.edges[i[0], i[1]]['fecha']='2019-10-01'\n",
    "        G.edges[i[0], i[1]]['hora']='09:30:00'\n",
    "        G.edges[i[0], i[1]]['pasajeros']=random.randint(10,100)\n",
    "    \n",
    "    for i in conexiones_lineas:\n",
    "        G.edges[i[0], i[1]]['fecha']='2019-10-01'\n",
    "        G.edges[i[0], i[1]]['hora']='09:30:00'\n",
    "        G.edges[i[0], i[1]]['pasajeros']=random.randint(100,200)"
   ]
  },
  {
   "cell_type": "code",
   "execution_count": null,
   "metadata": {},
   "outputs": [],
   "source": [
    "# asigamos atributos a los ejes\n",
    "define_atributos_ejes()"
   ]
  },
  {
   "cell_type": "code",
   "execution_count": null,
   "metadata": {},
   "outputs": [],
   "source": [
    "# y los visualizamos\n",
    "G.edges(data=True)"
   ]
  },
  {
   "cell_type": "code",
   "execution_count": null,
   "metadata": {},
   "outputs": [],
   "source": [
    "G.edges[6,7]"
   ]
  },
  {
   "cell_type": "markdown",
   "metadata": {},
   "source": [
    "Por último, veamos cómo funciona el filtrado por listas de comprenión que tambien vimos con los nodos. Fíjense que para iterar sobre los ejes debemos tener en cuenta los nodos que están uniendo. Por eso la iteración es a partir de una tupla de elementos."
   ]
  },
  {
   "cell_type": "code",
   "execution_count": null,
   "metadata": {},
   "outputs": [],
   "source": [
    "# usamos una lista por comprensión para filtrar las conexiones con más de 75 pasajeros\n",
    "[(u,v) for u,v,d in G.edges(data=True) if d['pasajeros'] > 75]"
   ]
  },
  {
   "cell_type": "markdown",
   "metadata": {},
   "source": [
    "### 1.3. Visualizando nuestro grafo"
   ]
  },
  {
   "cell_type": "markdown",
   "metadata": {},
   "source": [
    "Cuando visualizamos nuestro grafo `G` por primera vez, vimos que la posición de los nodos cambiaba cada vez que instanciábamos el objeto. Eso, porque no habíamos incorporado todavía la noción de espacialidad dentro del grafo. Esto, podemos hacerlo a través del parámetro `position` o `pos`. En el dataframe que usamos para articular los nodos contábamos con las coordenadas, aprovechemos ese atributo para ordenar las estaciones dentro del grafo, tal como si estuviésemos trabajando con la red de subterráneos."
   ]
  },
  {
   "cell_type": "code",
   "execution_count": null,
   "metadata": {},
   "outputs": [],
   "source": [
    "# el método `get_node_attributes` nos permite capturar los atributos desde un grafo ya instanciado\n",
    "pos = nx.get_node_attributes(G,'coord')"
   ]
  },
  {
   "cell_type": "code",
   "execution_count": null,
   "metadata": {},
   "outputs": [],
   "source": [
    "# y nos devuelve un diccionario con el idx del nodo y el atributo en cuestión\n",
    "pos"
   ]
  },
  {
   "cell_type": "code",
   "execution_count": null,
   "metadata": {},
   "outputs": [],
   "source": [
    "# que en nuestro grafo usamos para posicionar los nodos. Agreguemos también algo de color ...\n",
    "nx.draw(G,pos, with_labels=True, node_color='#00b4d9')"
   ]
  },
  {
   "cell_type": "markdown",
   "metadata": {},
   "source": [
    "Comparen este grafo con la red de subterráneos de la Ciudad de Buenos Aires. Ya empieza a haber un poco más de similitud no? Agreguemos algunos estilos adicionales para terminar de darle forma ..."
   ]
  },
  {
   "cell_type": "code",
   "execution_count": null,
   "metadata": {},
   "outputs": [],
   "source": [
    "# primero con el nombre de las estaciones\n",
    "lab = nx.get_node_attributes(G,'estacion')"
   ]
  },
  {
   "cell_type": "code",
   "execution_count": null,
   "metadata": {},
   "outputs": [],
   "source": [
    "nx.draw(G,pos, labels=lab, with_labels=True, node_size=400, node_color='#00b4d9')"
   ]
  },
  {
   "cell_type": "markdown",
   "metadata": {},
   "source": [
    "Ya con el nombre de las estaciones podemos ver qué es lo que estamos queriendo representar. Un grafo donde las líneas están representadas por estaciones que se unen consecutivamente, pero que a la vez, cuentan con ejes que las conectan entre sí. Evitando que las líneas se encuentren aisladas y que el grafo termine de completarse. Veamos cómo podríamos hacer para asignarle un color a los nodos en función de su pertenencia a cada una de las líneas."
   ]
  },
  {
   "cell_type": "code",
   "execution_count": null,
   "metadata": {},
   "outputs": [],
   "source": [
    "# podríamos seguir usando el método `get_node_attributes`\n",
    "color_dict = nx.get_node_attributes(G,'color')"
   ]
  },
  {
   "cell_type": "code",
   "execution_count": null,
   "metadata": {},
   "outputs": [],
   "source": [
    "# lo que hace el camino un poco más largo\n",
    "colors = []\n",
    "for n,c in color_dict.items():\n",
    "    colors.append(c)"
   ]
  },
  {
   "cell_type": "code",
   "execution_count": null,
   "metadata": {},
   "outputs": [],
   "source": [
    "colors"
   ]
  },
  {
   "cell_type": "code",
   "execution_count": null,
   "metadata": {},
   "outputs": [],
   "source": [
    "# o tambien haber usado una comprehension list\n",
    "colores = [i[1]['color'] for i in G.nodes(data=True)]"
   ]
  },
  {
   "cell_type": "code",
   "execution_count": null,
   "metadata": {},
   "outputs": [],
   "source": [
    "colors"
   ]
  },
  {
   "cell_type": "code",
   "execution_count": null,
   "metadata": {},
   "outputs": [],
   "source": [
    "nx.draw(G,pos, labels=lab, with_labels=True, node_size=400, node_color=colors)"
   ]
  },
  {
   "cell_type": "markdown",
   "metadata": {},
   "source": [
    "Tanto los colores como los pesos se asignan por medio de listas, respetando el orden de los componentes (nodos o ejes) dentro del grafo. Veamoslo cómo sería aplicado a la medida de peso que agregamos recientemente, la cantidad de pasajeros. Veamos cómo queda."
   ]
  },
  {
   "cell_type": "code",
   "execution_count": null,
   "metadata": {},
   "outputs": [],
   "source": [
    "# asignamos el color amarillo a las conexiones intensas\n",
    "ec = ['yellow' if G[u][v]['pasajeros'] > 100 else 'lightgrey' for u,v in G.edges()]"
   ]
  },
  {
   "cell_type": "code",
   "execution_count": null,
   "metadata": {},
   "outputs": [],
   "source": [
    "# y definimos el parametro peso a partir del atributo pasajeros para visualizar\n",
    "ew = [G[u][v]['pasajeros']/5 for u,v in G.edges()]"
   ]
  },
  {
   "cell_type": "code",
   "execution_count": null,
   "metadata": {},
   "outputs": [],
   "source": [
    "# con el método `subplots` de matplotlib creamos el eje y la figura donde se almacena\n",
    "fig, ax = plt.subplots(figsize=(17,10))\n",
    "\n",
    "# dicho eje lo podemos pasar como parámetro al método `draw`\n",
    "nx.draw(G,pos, labels=lab, with_labels=True, \n",
    "        node_size=400, node_color=colors,\n",
    "        edge_color = ec, width = ew, ax=ax)\n",
    "\n",
    "# agregamos etiquetas a los ejes\n",
    "edge_labels = nx.get_edge_attributes(G, 'pasajeros')\n",
    "nx.draw_networkx_edge_labels(G, pos, edge_labels, font_size=8)\n",
    "\n",
    "ax.set_title('Cantidad de pasajeros por eje');"
   ]
  },
  {
   "cell_type": "markdown",
   "metadata": {},
   "source": [
    "También podríamos graduar los ejes con una leyenda que indique la cantidad de pasajeros, en lugar de usar una etiqueta. Esto con el módulo `cm` de matplotlib."
   ]
  },
  {
   "cell_type": "code",
   "execution_count": null,
   "metadata": {},
   "outputs": [],
   "source": [
    "from matplotlib import cm"
   ]
  },
  {
   "cell_type": "code",
   "execution_count": null,
   "metadata": {},
   "outputs": [],
   "source": [
    "fig, ax = plt.subplots(figsize=(17,10))\n",
    "\n",
    "ec=[G[u][v]['pasajeros'] for u, v in G.edges]\n",
    "\n",
    "mcl = nx.draw_networkx_edges(G, pos, edge_cmap=cm.Greys, width=10,edge_color=ec)\n",
    "\n",
    "nx.draw_networkx_nodes(G, pos, node_size=400, node_color=colors, ax=ax)\n",
    "nx.draw_networkx_labels(G, pos, labels=lab, font_size=10, \n",
    "                        horizontalalignment='right', ax=ax)\n",
    "\n",
    "plt.colorbar(mcl)\n",
    "ax.set_axis_off()\n",
    "ax.set_title('Cantidad de pasajeros por eje');"
   ]
  },
  {
   "cell_type": "markdown",
   "metadata": {},
   "source": [
    "### 1.2. Tipos de grafos"
   ]
  },
  {
   "cell_type": "markdown",
   "metadata": {},
   "source": [
    "Otra cuestión relevante a tener en cuenta es que contamos con dos tipos de grafos:\n",
    "\n",
    "<img align=\"center\" width=\"700\" height=\"40\" src=\"../imagenes/dir_undir.png\" style=\"float: center; padding: 0 15px\">\n",
    "\n",
    "`NetworkX` es una librería muy útil para operar con este tipo de estructuras. Veamos por qué..."
   ]
  },
  {
   "cell_type": "code",
   "execution_count": null,
   "metadata": {},
   "outputs": [],
   "source": [
    "# Grafo no dirigido\n",
    "type(G)"
   ]
  },
  {
   "cell_type": "code",
   "execution_count": null,
   "metadata": {},
   "outputs": [],
   "source": [
    "# Grafo dirigido\n",
    "D = nx.DiGraph()\n",
    "type(D)"
   ]
  },
  {
   "cell_type": "code",
   "execution_count": null,
   "metadata": {},
   "outputs": [],
   "source": [
    "# Multi-edge (Directed) graphs \n",
    "M = nx.MultiGraph()\n",
    "type(M)"
   ]
  },
  {
   "cell_type": "code",
   "execution_count": null,
   "metadata": {},
   "outputs": [],
   "source": [
    "MD = nx.MultiDiGraph()\n",
    "type(MD)"
   ]
  },
  {
   "cell_type": "markdown",
   "metadata": {},
   "source": [
    "### 1. 3. Selfloops"
   ]
  },
  {
   "cell_type": "code",
   "execution_count": null,
   "metadata": {},
   "outputs": [],
   "source": [
    "# Como encontrar self loops?\n",
    "\n",
    "def find_selfloop_node(G):\n",
    "    '''\n",
    "    Finds all nodes that have self-loops in the graph G\n",
    "    '''\n",
    "    \n",
    "    nodes_in_selfloops = []\n",
    "    \n",
    "    # Iterar sobre todos los ejes de G\n",
    "    for u,v in G.edges():\n",
    "        \n",
    "        # Chequear si el nodo u y el nodo v son iguales:\n",
    "        if u == v:\n",
    "            nodes_in_selfloops.append(u)\n",
    "            \n",
    "    return nodes_in_selfloops"
   ]
  },
  {
   "cell_type": "code",
   "execution_count": null,
   "metadata": {},
   "outputs": [],
   "source": [
    "# No hay ningun selfloop\n",
    "len(find_selfloop_node(G))"
   ]
  },
  {
   "cell_type": "code",
   "execution_count": null,
   "metadata": {},
   "outputs": [],
   "source": [
    "# No devuelve error porque esta ok\n",
    "assert nx.number_of_selfloops(G) == len(find_selfloop_node(G))"
   ]
  },
  {
   "cell_type": "code",
   "execution_count": null,
   "metadata": {},
   "outputs": [],
   "source": [
    "nx.number_of_selfloops(G)"
   ]
  },
  {
   "cell_type": "markdown",
   "metadata": {},
   "source": [
    "### 1.4. Matrices de adyacencia"
   ]
  },
  {
   "cell_type": "code",
   "execution_count": null,
   "metadata": {},
   "outputs": [],
   "source": [
    "# Convertimos a G en una matriz (1 indica si hay edge entre nodos)\n",
    "A = nx.to_numpy_matrix(G)"
   ]
  },
  {
   "cell_type": "code",
   "execution_count": null,
   "metadata": {},
   "outputs": [],
   "source": [
    "A"
   ]
  },
  {
   "cell_type": "code",
   "execution_count": null,
   "metadata": {},
   "outputs": [],
   "source": [
    "# Convertimos a G de nuevo al formtato NetworkX como un grafo dirigido: A_conv\n",
    "A_conv = nx.from_numpy_matrix(A, create_using=nx.DiGraph())"
   ]
  },
  {
   "cell_type": "code",
   "execution_count": null,
   "metadata": {},
   "outputs": [],
   "source": [
    "# Check that the `category` metadata field is lost from each node\n",
    "for n, d in A_conv.nodes(data=True):\n",
    "    assert 'category' not in d.keys()"
   ]
  },
  {
   "cell_type": "code",
   "execution_count": null,
   "metadata": {},
   "outputs": [],
   "source": [
    "Ac = nv.MatrixPlot(A_conv)\n",
    "Ac.draw()\n",
    "plt.show()"
   ]
  },
  {
   "cell_type": "markdown",
   "metadata": {},
   "source": [
    "## Sección 2: Métricas de un grafo"
   ]
  },
  {
   "cell_type": "markdown",
   "metadata": {},
   "source": [
    "### 2.1. Degree centrality"
   ]
  },
  {
   "cell_type": "code",
   "execution_count": null,
   "metadata": {},
   "outputs": [],
   "source": [
    "# Degree centrality: la cantidad de vecinos que tengo sobre la cantidad que podria tener\n",
    "G.edges()"
   ]
  },
  {
   "cell_type": "code",
   "execution_count": null,
   "metadata": {},
   "outputs": [],
   "source": [
    "# devuelve los nodos vecinos del especificado en el metodo\n",
    "list(G.neighbors(2))"
   ]
  },
  {
   "cell_type": "code",
   "execution_count": null,
   "metadata": {},
   "outputs": [],
   "source": [
    "# The key is the node and the value the centrality value\n",
    "nx.degree_centrality(G)"
   ]
  },
  {
   "cell_type": "code",
   "execution_count": null,
   "metadata": {},
   "outputs": [],
   "source": [
    "# Funcion para obtener nodos segun la cantidad de vecinos\n",
    "def nodes_with_m_nbrs(G, m):\n",
    "    \"\"\"\n",
    "    Returns all nodes in graph G that have m neighbors.\n",
    "    \"\"\"\n",
    "    nodes = set()\n",
    "\n",
    "    # Iterate over all nodes in G\n",
    "    for n in G.nodes():\n",
    "\n",
    "        # Check if the number of neighbors of n matches m\n",
    "        if len(list(G.neighbors(n))) == m:\n",
    "\n",
    "            # Add the node n to the set\n",
    "            nodes.add(n)\n",
    "\n",
    "    # Return the nodes with m neighbors\n",
    "    return nodes\n",
    "\n",
    "# Compute and print all nodes in T that have 6 neighbors\n",
    "six_nbrs = nodes_with_m_nbrs(G, 1)\n",
    "print(six_nbrs)"
   ]
  },
  {
   "cell_type": "code",
   "execution_count": null,
   "metadata": {},
   "outputs": [],
   "source": [
    "# Compute the degree of every node: degrees\n",
    "degrees = [len(list(G.neighbors(n))) for n in G.nodes()]\n",
    "\n",
    "# Print the degrees\n",
    "print(degrees)"
   ]
  },
  {
   "cell_type": "code",
   "execution_count": null,
   "metadata": {},
   "outputs": [],
   "source": [
    "# Devuelve un diccionario donde la key es el nodo y el valor es el degree centrality (Neighbors/possible neighbors). En una red de transporte el nodo mismo es considerado como un self loop que entra en los nodos posibles\n",
    "deg_cent = nx.degree_centrality(G)"
   ]
  },
  {
   "cell_type": "code",
   "execution_count": null,
   "metadata": {},
   "outputs": [],
   "source": [
    "# Devuelve un histograma con la distribucion del degree centrality\n",
    "plt.hist(list(deg_cent.values()));"
   ]
  },
  {
   "cell_type": "code",
   "execution_count": null,
   "metadata": {},
   "outputs": [],
   "source": [
    "# Plot a histogram of the degree distribution of the graph\n",
    "plt.hist([len(list(G.neighbors(n))) for n in G.nodes()])"
   ]
  },
  {
   "cell_type": "code",
   "execution_count": null,
   "metadata": {},
   "outputs": [],
   "source": [
    "# Plot a scatter plot of the centrality distribution and the degree distribution\n",
    "plt.figure()\n",
    "plt.scatter(x=degrees, y=list(deg_cent.values()))\n",
    "plt.show()"
   ]
  },
  {
   "cell_type": "code",
   "execution_count": null,
   "metadata": {},
   "outputs": [],
   "source": [
    "G.nodes()"
   ]
  },
  {
   "cell_type": "code",
   "execution_count": null,
   "metadata": {},
   "outputs": [],
   "source": [
    "# Define path_exists()\n",
    "def path_exists(G, node1, node2):\n",
    "    \"\"\"\n",
    "    This function checks whether a path exists between two nodes (node1, node2) in graph G.\n",
    "    \"\"\"\n",
    "    visited_nodes = set()\n",
    "\n",
    "    # Initialize the queue of cells to visit with the first node: queue\n",
    "    queue = [node1]\n",
    "\n",
    "    # Iterate over the nodes in the queue\n",
    "    for node in queue:\n",
    "\n",
    "        # Get neighbors of the node\n",
    "        neighbors = G.neighbors(node)\n",
    "\n",
    "        # Check to see if the destination node is in the set of neighbors\n",
    "        if node2 in neighbors:\n",
    "            print('Path exists between nodes {0} and {1}'.format(node1, node2))\n",
    "            return True\n",
    "            \n",
    "        else:\n",
    "            # Add current node to visited nodes\n",
    "            visited_nodes.add(node)\n",
    "\n",
    "            # Add neighbors of current node that have not yet been visited\n",
    "            queue.extend([n for n in neighbors if n not in visited_nodes])\n",
    "            print('Path doesn\\'t exists between nodes {0} and {1}'.format(node1, node2))\n",
    "            return visited_nodes\n",
    "        \n",
    "        # Check to see if the final element of the queue has been reached\n",
    "        if node == queue[-1]:\n",
    "            print('Path does not exist between nodes {0} and {1}'.format(node1, node2))\n",
    "\n",
    "            # Place the appropriate return statement\n",
    "            return False\n"
   ]
  },
  {
   "cell_type": "code",
   "execution_count": null,
   "metadata": {},
   "outputs": [],
   "source": [
    "print(path_exists(G,3,1))"
   ]
  },
  {
   "cell_type": "markdown",
   "metadata": {},
   "source": [
    "### 2.2. Degree + Betweenes centrality"
   ]
  },
  {
   "cell_type": "code",
   "execution_count": null,
   "metadata": {},
   "outputs": [],
   "source": [
    "# Betweeness centrality\n",
    "# M1 es el numero de nodos en el extremo final y m2 la cantidad de nodos en el puente entre ambos\n",
    "G = nx.barbell_graph(m1=5, m2=1)\n",
    "\n",
    "# La key es el nodo y el valr es el betweenness centrality\n",
    "nx.betweenness_centrality(G)"
   ]
  },
  {
   "cell_type": "code",
   "execution_count": null,
   "metadata": {},
   "outputs": [],
   "source": [
    "# Compute the betweenness centrality of G: bet_cen\n",
    "bet_cen = nx.betweenness_centrality(G)\n",
    "\n",
    "# Compute the degree centrality of G: deg_cen\n",
    "deg_cen = nx.degree_centrality(G)\n",
    "\n",
    "# Create a scatter plot of betweenness centrality and degree centrality\n",
    "plt.scatter(x=list(bet_cen.values()), y=list(deg_cen.values()))\n",
    "\n",
    "# Display the plot\n",
    "plt.show()"
   ]
  },
  {
   "cell_type": "code",
   "execution_count": null,
   "metadata": {},
   "outputs": [],
   "source": [
    "# Define find_nodes_with_highest_deg_cent()\n",
    "def find_nodes_with_highest_deg_cent(G):\n",
    "\n",
    "    # Compute the degree centrality of G: deg_cent\n",
    "    deg_cent = nx.degree_centrality(G)\n",
    "\n",
    "    # Compute the maximum degree centrality: max_dc\n",
    "    max_dc = max(list(deg_cent.values()))\n",
    "\n",
    "    nodes = set()\n",
    "\n",
    "    # Iterate over the degree centrality dictionary\n",
    "    for k, v in deg_cent.items():\n",
    "\n",
    "        # Check if the current value has the maximum degree centrality\n",
    "        if v == max_dc:\n",
    "\n",
    "            # Add the current node to the set of nodes\n",
    "            nodes.add(k)\n",
    "\n",
    "    return nodes\n",
    "\n",
    "# Find the node(s) that has the highest degree centrality in G: top_dc\n",
    "top_dc = find_nodes_with_highest_deg_cent(G)\n",
    "print(top_dc)\n",
    "\n",
    "# Write the assertion statement\n",
    "for node in top_dc:\n",
    "    assert nx.degree_centrality(G)[node] == max(nx.degree_centrality(G).values())"
   ]
  },
  {
   "cell_type": "markdown",
   "metadata": {},
   "source": [
    "#### CON ESTA FUNCION SE PODRIA ENCONTAR EL NODO CON MAYOR BETWEENNESS CENTARLITY EN TODA LA RED DE BICIS"
   ]
  },
  {
   "cell_type": "code",
   "execution_count": null,
   "metadata": {},
   "outputs": [],
   "source": [
    "# Define find_node_with_highest_bet_cent()\n",
    "def find_node_with_highest_bet_cent(G):\n",
    "\n",
    "    # Compute betweenness centrality: bet_cent\n",
    "    bet_cent = nx.betweenness_centrality(G)\n",
    "\n",
    "    # Compute maximum betweenness centrality: max_bc\n",
    "    max_bc = max(list(bet_cent.values()))\n",
    "\n",
    "    nodes = set()\n",
    "\n",
    "    # Iterate over the betweenness centrality dictionary\n",
    "    for k, v in bet_cent.items():\n",
    "\n",
    "        # Check if the current value has the maximum betweenness centrality\n",
    "        if v == max_bc:\n",
    "\n",
    "            # Add the current node to the set of nodes\n",
    "            nodes.add(k)\n",
    "\n",
    "    return nodes\n",
    "\n",
    "# Use that function to find the node(s) that has the highest betweenness centrality in the network: top_bc\n",
    "top_bc = find_node_with_highest_bet_cent(G)\n",
    "\n",
    "# Write an assertion statement that checks that the node(s) is/are correctly identified.\n",
    "for node in top_bc:\n",
    "    assert nx.betweenness_centrality(G)[node] == max(nx.betweenness_centrality(G).values())"
   ]
  },
  {
   "cell_type": "markdown",
   "metadata": {},
   "source": [
    "# PATH FINDING"
   ]
  },
  {
   "cell_type": "markdown",
   "metadata": {},
   "source": [
    "## Triangulos "
   ]
  },
  {
   "cell_type": "code",
   "execution_count": null,
   "metadata": {},
   "outputs": [],
   "source": [
    "from itertools import combinations"
   ]
  },
  {
   "cell_type": "code",
   "execution_count": null,
   "metadata": {},
   "outputs": [],
   "source": [
    "# Iterar sobre every pair of nodes and not only every edge\n",
    "for n1, n2 in combinations(G.nodes(),2):\n",
    "    print(n1,n2)"
   ]
  },
  {
   "cell_type": "code",
   "execution_count": null,
   "metadata": {},
   "outputs": [],
   "source": [
    "# Define is_in_triangle(): podria servir para encontrar cliques entre las estaciones\n",
    "def is_in_triangle(G, n):\n",
    "    \"\"\"\n",
    "    Checks whether a node `n` in graph `G` is in a triangle relationship or not.\n",
    "\n",
    "    Returns a boolean.\n",
    "    \"\"\"\n",
    "    in_triangle = False\n",
    "\n",
    "    # Iterate over all possible triangle relationship combinations\n",
    "    for n1, n2 in combinations(G.neighbors(n),2):\n",
    "\n",
    "        # Check if an edge exists between n1 and n2\n",
    "        if G.has_edge(n1,n2):\n",
    "            in_triangle = True\n",
    "            break\n",
    "    return in_triangle"
   ]
  },
  {
   "cell_type": "code",
   "execution_count": null,
   "metadata": {},
   "outputs": [],
   "source": [
    "is_in_triangle(G,2)"
   ]
  },
  {
   "cell_type": "code",
   "execution_count": null,
   "metadata": {},
   "outputs": [],
   "source": [
    "#Finding nodes involved in triangles\n",
    "\n",
    "# Write a function that identifies all nodes in a triangle relationship with a given node.\n",
    "def nodes_in_triangle(G, n):\n",
    "    \"\"\"\n",
    "    Returns the nodes in a graph `G` that are involved in a triangle relationship with the node `n`.\n",
    "    \"\"\"\n",
    "    triangle_nodes = set([n])\n",
    "\n",
    "    # Iterate over all possible triangle relationship combinations\n",
    "    for n1, n2 in combinations(G.neighbors(n), 2):\n",
    "\n",
    "        # Check if n1 and n2 have an edge between them\n",
    "        if G.has_edge(n1,n2):\n",
    "\n",
    "            # Add n1 to triangle_nodes\n",
    "            triangle_nodes.add(n1)\n",
    "\n",
    "            # Add n2 to triangle_nodes\n",
    "            triangle_nodes.add(n2)\n",
    "\n",
    "    return triangle_nodes\n",
    "\n",
    "# Write the assertion statement\n",
    "assert len(nodes_in_triangle(G, 1)) == 5"
   ]
  },
  {
   "cell_type": "code",
   "execution_count": null,
   "metadata": {},
   "outputs": [],
   "source": [
    "#Finding open triangles\n",
    "\n",
    "# Define node_in_open_triangle(G,n)\n",
    "def node_in_open_triangle(G, n):\n",
    "    \"\"\"\n",
    "    Checks whether pairs of neighbors of node `n` in graph `G` are in an 'open triangle' relationship with node `n`.\n",
    "    \"\"\"\n",
    "    in_open_triangle = False\n",
    "\n",
    "    # Iterate over all possible triangle relationship combinations\n",
    "    for n1, n2 in combinations(G.neighbors(n),2):\n",
    "\n",
    "        # Check if n1 and n2 do NOT have an edge between them\n",
    "        if not G.has_edge(n1,n2):\n",
    "\n",
    "            in_open_triangle = True\n",
    "\n",
    "            break\n",
    "\n",
    "    return in_open_triangle\n",
    "\n",
    "# Compute the number of open triangles in T\n",
    "num_open_triangles = 0\n",
    "\n",
    "# Iterate over all the nodes in T\n",
    "for n in G.nodes():\n",
    "\n",
    "    # Check if the current node is in an open triangle\n",
    "    if node_in_open_triangle(G,n):\n",
    "\n",
    "        # Increment num_open_triangles\n",
    "        num_open_triangles += 1\n",
    "\n",
    "print(num_open_triangles)"
   ]
  },
  {
   "cell_type": "markdown",
   "metadata": {},
   "source": [
    "## Cliques y maximal cliques "
   ]
  },
  {
   "cell_type": "code",
   "execution_count": null,
   "metadata": {},
   "outputs": [],
   "source": [
    "# Finding maximal cliques\n",
    "Z = nx.barbell_graph(m1=5, m2=1)\n",
    "\n",
    "nx.find_cliques(Z)\n",
    "\n",
    "# Lista con los maximal cliques\n",
    "list(nx.find_cliques(Z))"
   ]
  },
  {
   "cell_type": "code",
   "execution_count": null,
   "metadata": {},
   "outputs": [],
   "source": [
    "nx.find_cliques(Z)"
   ]
  },
  {
   "cell_type": "code",
   "execution_count": null,
   "metadata": {},
   "outputs": [],
   "source": [
    "#Finding all maximal cliques of size \"n\"\n",
    "\n",
    "# Define maximal_cliques()\n",
    "def maximal_cliques(G, size):\n",
    "    \"\"\"\n",
    "    Finds all maximal cliques in graph `G` that are of size `size`.\n",
    "    \"\"\"\n",
    "    mcs = []\n",
    "    for clique in nx.find_cliques(G):\n",
    "        if len(clique) == size:\n",
    "            mcs.append(clique)\n",
    "    return mcs\n",
    "\n",
    "# Check that there are 33 maximal cliques of size 3 in the graph T\n",
    "assert len(maximal_cliques(Z, 3)) == 33\n"
   ]
  },
  {
   "cell_type": "code",
   "execution_count": null,
   "metadata": {},
   "outputs": [],
   "source": [
    "# En el grafo Z hay dos maximal cliques de 5 nodos\n",
    "maximal_cliques(Z, 5)"
   ]
  },
  {
   "cell_type": "markdown",
   "metadata": {},
   "source": [
    "## Subgraphs: analizar subsets de nodos "
   ]
  },
  {
   "cell_type": "code",
   "execution_count": null,
   "metadata": {},
   "outputs": [],
   "source": [
    "# n es la cantidad de nodos y p la probabilidad que exista un eje entre un par de nodos\n",
    "E = nx.erdos_renyi_graph(n=20, p=0.2)"
   ]
  },
  {
   "cell_type": "code",
   "execution_count": null,
   "metadata": {},
   "outputs": [],
   "source": [
    "nx.draw(E)"
   ]
  },
  {
   "cell_type": "code",
   "execution_count": null,
   "metadata": {},
   "outputs": [],
   "source": [
    "# Genera un grafo de manera probabilistica. En el caso anterior, 20 nodos con 37 edges\n",
    "list(E.nodes())"
   ]
  },
  {
   "cell_type": "code",
   "execution_count": null,
   "metadata": {},
   "outputs": [],
   "source": [
    "# Vamos a plotear el nodo 8 y sus vecinos\n",
    "\n",
    "# Definimos los vecinos del nodo 8\n",
    "nodes = list(E.neighbors(8))\n",
    "\n",
    "# se agregan el nodo 8 a la lista con sus vecinos\n",
    "nodes.append(8)"
   ]
  },
  {
   "cell_type": "code",
   "execution_count": null,
   "metadata": {},
   "outputs": [],
   "source": [
    "# Almacenamos la lista conteniendo el nodo 8 con sus vecinos en un subgrafo\n",
    "E_ocho = E.subgraph(nodes)\n",
    "\n",
    "# Vemos sus ejes: tambien devuelve los ejes que tienen los vecinos de 8 (con otros nodos distintos)\n",
    "E_ocho.edges()"
   ]
  },
  {
   "cell_type": "code",
   "execution_count": null,
   "metadata": {},
   "outputs": [],
   "source": [
    "# Ambos grafos tienen el mismo datatype\n",
    "E"
   ]
  },
  {
   "cell_type": "code",
   "execution_count": null,
   "metadata": {},
   "outputs": [],
   "source": [
    "E_ocho"
   ]
  },
  {
   "cell_type": "code",
   "execution_count": null,
   "metadata": {},
   "outputs": [],
   "source": [
    "# ploteamos el subgrafo: se le pasa el grafo como objeto\n",
    "nx.draw(E_ocho, with_labels=True)"
   ]
  },
  {
   "cell_type": "code",
   "execution_count": null,
   "metadata": {},
   "outputs": [],
   "source": []
  }
 ],
 "metadata": {
  "anaconda-cloud": {},
  "kernelspec": {
   "display_name": "mdg",
   "language": "python",
   "name": "mdg"
  },
  "language_info": {
   "codemirror_mode": {
    "name": "ipython",
    "version": 3
   },
   "file_extension": ".py",
   "mimetype": "text/x-python",
   "name": "python",
   "nbconvert_exporter": "python",
   "pygments_lexer": "ipython3",
   "version": "3.7.6"
  }
 },
 "nbformat": 4,
 "nbformat_minor": 2
}
