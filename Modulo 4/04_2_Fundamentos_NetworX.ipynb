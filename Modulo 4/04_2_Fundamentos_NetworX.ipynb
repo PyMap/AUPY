{
 "cells": [
  {
   "cell_type": "markdown",
   "metadata": {},
   "source": [
    "<a href=\"https://colab.research.google.com/github/PyMap/AUPY/blob/master/Modulo%204/04_2_Fundamentos_NetworX.ipynb\" target=\"_parent\"><img src=\"https://colab.research.google.com/assets/colab-badge.svg\" alt=\"Open In Colab\"/></a>"
   ]
  },
  {
   "cell_type": "markdown",
   "metadata": {},
   "source": [
    "#  Grafos y redes de transporte"
   ]
  },
  {
   "cell_type": "markdown",
   "metadata": {},
   "source": [
    "##  Parte 1. Teoría de grafos con `NetworkX` \n",
    "### Elementos iniciales \n",
    "\n",
    "#### Algunos conceptos básicos"
   ]
  },
  {
   "cell_type": "markdown",
   "metadata": {},
   "source": [
    "A modo de inicio, cabe aclarar que no siempre existe una forma única de representar una red. Mientras esta refiere al funcionamiento de un sistema complejo, un `grafo` es la representación matemática de dicha red de relaciones. En ese sentido, contamos con infinidades de esquemas. Dentro de ellos las redes de transporte son uno más, donde generalmente las estaciones se representan por medio de nodos o vértices, y las relaciones entre ellos a través de calles o viajes. De tal manera, un grafo se compone por: \n",
    "\n",
    "<img align=\"center\" width=\"700\" height=\"500\" src=\"../imagenes/nodos_ejes.png\" style=\"float: center; padding: 0 15px\">"
   ]
  },
  {
   "cell_type": "code",
   "execution_count": 1,
   "metadata": {},
   "outputs": [],
   "source": [
    "#!pip install networkx"
   ]
  },
  {
   "cell_type": "markdown",
   "metadata": {},
   "source": [
    "Para estar al tanto de la última versión disponible siempre es recomendable chequear en el [repositorio oficial](https://github.com/networkx/networkx). También dejamos el link a la [documentación](https://networkx.org/documentation/stable//reference/introduction.html) de la librería."
   ]
  },
  {
   "cell_type": "code",
   "execution_count": 2,
   "metadata": {},
   "outputs": [
    {
     "name": "stdout",
     "output_type": "stream",
     "text": [
      "Version: 2.5\r\n"
     ]
    }
   ],
   "source": [
    "# última release\n",
    "!pip show networkx | grep Version"
   ]
  },
  {
   "cell_type": "markdown",
   "metadata": {},
   "source": [
    "## Sección 1: Armando nuestro grafo"
   ]
  },
  {
   "cell_type": "markdown",
   "metadata": {},
   "source": [
    "Comencemos por armar un grafo no dirigido, distinguiendo nodos y ejes."
   ]
  },
  {
   "cell_type": "code",
   "execution_count": 3,
   "metadata": {},
   "outputs": [],
   "source": [
    "# importar libreria\n",
    "import networkx as nx\n",
    "import matplotlib.pyplot as plt"
   ]
  },
  {
   "cell_type": "code",
   "execution_count": 4,
   "metadata": {},
   "outputs": [],
   "source": [
    "# creamos un grafo no dirigido\n",
    "G = nx.Graph()"
   ]
  },
  {
   "cell_type": "code",
   "execution_count": 5,
   "metadata": {},
   "outputs": [],
   "source": [
    "# armamos una lista con los que serán nuestros nodos\n",
    "nodos = list(range(9))"
   ]
  },
  {
   "cell_type": "code",
   "execution_count": 6,
   "metadata": {},
   "outputs": [],
   "source": [
    "# y la usamos para agregarlos a nuestro objeto de tipo Graph\n",
    "G.add_nodes_from(nodos)"
   ]
  },
  {
   "cell_type": "markdown",
   "metadata": {},
   "source": [
    "Como vimos, este objeto se crea cuando instanciamos la clase Graph. Tanto los nodos como los ejes son atributos de este tipo de objetos. Veamos cómo se puede acceder a los mismos."
   ]
  },
  {
   "cell_type": "code",
   "execution_count": 7,
   "metadata": {},
   "outputs": [
    {
     "data": {
      "text/plain": [
       "NodeView((0, 1, 2, 3, 4, 5, 6, 7, 8))"
      ]
     },
     "execution_count": 7,
     "metadata": {},
     "output_type": "execute_result"
    }
   ],
   "source": [
    "# los nodos son un atributo de los grafos. Nosotros creamos 5 en total\n",
    "G.nodes()"
   ]
  },
  {
   "cell_type": "markdown",
   "metadata": {},
   "source": [
    "Ahora definamos las conexiones de nuestro grafo. Es decir, los ejes. Como dijimos no existe una única manera de representar una red. Y si bien las de transporte suelen seguir una misma estrructura de nodos y ejes, las conexiones entre los primeros sí pueden ser algo más aleatorio."
   ]
  },
  {
   "cell_type": "code",
   "execution_count": 8,
   "metadata": {},
   "outputs": [
    {
     "name": "stdout",
     "output_type": "stream",
     "text": [
      "Conectado nodos:\n",
      "***************\n",
      "0 - 1\n",
      "1 - 2\n",
      "3 - 4\n",
      "4 - 5\n",
      "6 - 7\n",
      "7 - 8\n"
     ]
    }
   ],
   "source": [
    "print('Conectado nodos:')\n",
    "print('***************')\n",
    "for n in range(0, len(nodos),3):\n",
    "    print(n, '-', n+1)\n",
    "    G.add_edge(n, n+1)\n",
    "    \n",
    "    print(n+1, '-', n+2)\n",
    "    G.add_edge(n+1, n+2)"
   ]
  },
  {
   "cell_type": "code",
   "execution_count": 9,
   "metadata": {},
   "outputs": [
    {
     "data": {
      "text/plain": [
       "EdgeView([(0, 1), (1, 2), (3, 4), (4, 5), (6, 7), (7, 8)])"
      ]
     },
     "execution_count": 9,
     "metadata": {},
     "output_type": "execute_result"
    }
   ],
   "source": [
    "# y los devolvemos como una lista de tuplas. Cada una, con los nodos que conecta el eje\n",
    "G.edges()"
   ]
  },
  {
   "cell_type": "markdown",
   "metadata": {},
   "source": [
    "Usemos el método `draw` de NetworkX para previsualizar cómo se vería esta red de relaciones"
   ]
  },
  {
   "cell_type": "code",
   "execution_count": 10,
   "metadata": {},
   "outputs": [
    {
     "data": {
      "image/png": "[encoded data removed]",
      "text/plain": [
       "<Figure size 432x288 with 1 Axes>"
      ]
     },
     "metadata": {},
     "output_type": "display_data"
    }
   ],
   "source": [
    "nx.draw(G)"
   ]
  },
  {
   "cell_type": "markdown",
   "metadata": {},
   "source": [
    "Vale aclarar que todavía no exploramos ninguno de los parametros de `draw`. Tampoco agregamos la noción de espacialidad a nuestro grafo, con lo cual, al no fijar la posición de los nodos este método asigna aleatoriamente su ubicación cada vez que lo ejecutamos:"
   ]
  },
  {
   "cell_type": "code",
   "execution_count": 11,
   "metadata": {},
   "outputs": [],
   "source": [
    "# conectemos ahora los segmentos inconexos para conformar toda la red\n",
    "G.add_edge(2,5)\n",
    "G.add_edge(7,5)"
   ]
  },
  {
   "cell_type": "code",
   "execution_count": 12,
   "metadata": {},
   "outputs": [
    {
     "data": {
      "image/png": "[encoded data removed]",
      "text/plain": [
       "<Figure size 432x288 with 1 Axes>"
      ]
     },
     "metadata": {},
     "output_type": "display_data"
    }
   ],
   "source": [
    "nx.draw(G)"
   ]
  },
  {
   "cell_type": "code",
   "execution_count": 13,
   "metadata": {},
   "outputs": [
    {
     "data": {
      "image/png": "[encoded data removed]",
      "text/plain": [
       "<Figure size 432x288 with 1 Axes>"
      ]
     },
     "metadata": {},
     "output_type": "display_data"
    }
   ],
   "source": [
    "# vemos que las relaciones se mantienen, pero la forma del grafo cambia\n",
    "nx.draw(G)"
   ]
  },
  {
   "cell_type": "markdown",
   "metadata": {},
   "source": [
    "A no preocuparse, a lo largo de este notebook iremos viendo cuáles son las posibilidades que nos brinda este método para poder customizar nuestro grafo. Prosigamos..."
   ]
  },
  {
   "cell_type": "markdown",
   "metadata": {},
   "source": [
    "### 1. 1. Nodos o vértices"
   ]
  },
  {
   "cell_type": "markdown",
   "metadata": {},
   "source": [
    "Como dijimos, uno de los componentes principales de un grafo son sus nodos. Ya sabemos que con el método `add_nodes_from` podemos incluirlos en nuestro objeto de tipo Graph. Ahora veamos qué tipo de operaciones podemos hacer sobre los mismos. \n",
    "\n",
    "Veremos que los nodos se vuelven accesibles, como cualquier iterable, a través de un índice. Una vez allí, podemos decidir qué tipo de atributo agregarle con una etiqueta. Tal como si fueran diccionarios."
   ]
  },
  {
   "cell_type": "code",
   "execution_count": 14,
   "metadata": {},
   "outputs": [],
   "source": [
    "# agregamos al nodo 1 una label que vamos a definir con un nombre, suponiendo que fuese una estación.\n",
    "G.nodes[0]['estacion'] = 'CALLAO'\n",
    "\n",
    "# también podemos agregar la línea\n",
    "G.nodes[0]['linea'] = 'B'\n",
    "\n",
    "# Algún color para identificar\n",
    "G.nodes[0]['color'] = 'red'\n",
    "\n",
    "# y por qué no sus coordenadas\n",
    "G.nodes[0]['coord'] = (-58.39241446187341, -34.603705218144896)"
   ]
  },
  {
   "cell_type": "markdown",
   "metadata": {},
   "source": [
    "Como se puede apreciar, agregamos una etiqueta a uno de nuestros nodos. De esta manera, podemos obtener una lista de nodos con la metadata asociada. Si prestamos atención, el parámetro `data` nos devuelve un diccionario donde la key es el nodo. Despues contamos con la metadata en otro diccionario donde la llave es la etiqueta y la key el valor. \n",
    "\n",
    "Ahora sólo contamos con una descripción a modo de ejemplo, pero imaginen que dicho valor podría ser la cantidad de pasajeros arrivados a una estación a una hora determinada, o el promedio de tiempo entre una estación y otra."
   ]
  },
  {
   "cell_type": "code",
   "execution_count": 15,
   "metadata": {},
   "outputs": [
    {
     "data": {
      "text/plain": [
       "NodeDataView({0: {'estacion': 'CALLAO', 'linea': 'B', 'color': 'red', 'coord': (-58.39241446187341, -34.603705218144896)}, 1: {}, 2: {}, 3: {}, 4: {}, 5: {}, 6: {}, 7: {}, 8: {}})"
      ]
     },
     "execution_count": 15,
     "metadata": {},
     "output_type": "execute_result"
    }
   ],
   "source": [
    "# Veamos el parametro data\n",
    "G.nodes(data=True)"
   ]
  },
  {
   "cell_type": "code",
   "execution_count": 16,
   "metadata": {},
   "outputs": [
    {
     "data": {
      "text/plain": [
       "{'estacion': 'CALLAO',\n",
       " 'linea': 'B',\n",
       " 'color': 'red',\n",
       " 'coord': (-58.39241446187341, -34.603705218144896)}"
      ]
     },
     "execution_count": 16,
     "metadata": {},
     "output_type": "execute_result"
    }
   ],
   "source": [
    "# y accedamos a su metadata con el posicional de la tupla donde se encuentra el nodo y el diccionario\n",
    "list(G.nodes(data=True))[0][1]"
   ]
  },
  {
   "cell_type": "markdown",
   "metadata": {},
   "source": [
    "Completemos nuestra red con la metadata de los demás nodos ..."
   ]
  },
  {
   "cell_type": "code",
   "execution_count": 17,
   "metadata": {},
   "outputs": [],
   "source": [
    "import pandas as pd"
   ]
  },
  {
   "cell_type": "code",
   "execution_count": 18,
   "metadata": {},
   "outputs": [],
   "source": [
    "def atributos_para_nodos():\n",
    "    \n",
    "    # cargamos el dataframe y lo filtramos con nuestros nodos\n",
    "    subte = pd.read_csv('https://storage.googleapis.com/python_mdg/data_cursos/estaciones-de-subte.csv')\n",
    "    lineas = subte[subte.linea.isin(['C','B','D'])]\n",
    "    \n",
    "    estaciones = lineas[lineas.estacion.isin(['URUGUAY', 'C. PELLEGRINI',\n",
    "                                              '9 DE JULIO', 'CALLAO',  'TRIBUNALES - TEATRO COLÓN', \n",
    "                                              'AV. DE MAYO', 'DIAGONAL NORTE', 'LAVALLE'])].copy()\n",
    "    \n",
    "    # agrupamos las coordenadas\n",
    "    estaciones['coord'] = list(zip(estaciones.long, estaciones.lat))\n",
    "    \n",
    "    # restablecemos el orden en función de cómo contectamos los nodos de nuestro graFo\n",
    "    estaciones = estaciones.sort_values(by=['linea','id'], ascending=False)\n",
    "    estaciones_reorder = []\n",
    "    for l in ['B','D','C']:\n",
    "        estaciones_reorder.append(estaciones[estaciones.linea==l])\n",
    "        \n",
    "    estaciones = pd.concat(estaciones_reorder).reset_index().drop(columns='index')\n",
    "    \n",
    "    # ahora asociacmos cada estación a los nodos del grafo\n",
    "    estaciones['node_idx'] = list(range(1, len(estaciones)+1))\n",
    "    \n",
    "    # creamos el resto de los atributos, reindexamos y borramos las columnas que no nos sirven\n",
    "    estaciones['color'] = estaciones.linea.replace({'D':'green', 'C':'blue', 'B':'red'})\n",
    "    estaciones.set_index(estaciones.estacion, inplace=True)\n",
    "    estaciones.drop(columns=['estacion','id', 'long', 'lat'], inplace=True)\n",
    "    \n",
    "    atributos = estaciones.to_dict(orient='index')\n",
    "    \n",
    "    return atributos"
   ]
  },
  {
   "cell_type": "code",
   "execution_count": 19,
   "metadata": {},
   "outputs": [],
   "source": [
    "input_dict = atributos_para_nodos()"
   ]
  },
  {
   "cell_type": "code",
   "execution_count": 20,
   "metadata": {},
   "outputs": [
    {
     "data": {
      "text/plain": [
       "{'linea': 'D',\n",
       " 'coord': (-58.3805743428896, -34.6042452029629),\n",
       " 'node_idx': 5,\n",
       " 'color': 'green'}"
      ]
     },
     "execution_count": 20,
     "metadata": {},
     "output_type": "execute_result"
    }
   ],
   "source": [
    "input_dict['9 DE JULIO']"
   ]
  },
  {
   "cell_type": "code",
   "execution_count": 21,
   "metadata": {},
   "outputs": [
    {
     "data": {
      "text/plain": [
       "{'URUGUAY': {'linea': 'B',\n",
       "  'coord': (-58.3872961335408, -34.6040935531057),\n",
       "  'node_idx': 1,\n",
       "  'color': 'red'},\n",
       " 'C. PELLEGRINI': {'linea': 'B',\n",
       "  'coord': (-58.3807148471409, -34.6036371051817),\n",
       "  'node_idx': 2,\n",
       "  'color': 'red'},\n",
       " 'CALLAO': {'linea': 'D',\n",
       "  'coord': (-58.3931251809727, -34.599639552419),\n",
       "  'node_idx': 3,\n",
       "  'color': 'green'},\n",
       " 'TRIBUNALES - TEATRO COLÓN': {'linea': 'D',\n",
       "  'coord': (-58.3851423588013, -34.6015871651394),\n",
       "  'node_idx': 4,\n",
       "  'color': 'green'},\n",
       " '9 DE JULIO': {'linea': 'D',\n",
       "  'coord': (-58.3805743428896, -34.6042452029629),\n",
       "  'node_idx': 5,\n",
       "  'color': 'green'},\n",
       " 'AV. DE MAYO': {'linea': 'C',\n",
       "  'coord': (-58.3806107179579, -34.6089833148827),\n",
       "  'node_idx': 6,\n",
       "  'color': 'blue'},\n",
       " 'DIAGONAL NORTE': {'linea': 'C',\n",
       "  'coord': (-58.3795299800739, -34.604843739914),\n",
       "  'node_idx': 7,\n",
       "  'color': 'blue'},\n",
       " 'LAVALLE': {'linea': 'C',\n",
       "  'coord': (-58.3781557828244, -34.6017699230114),\n",
       "  'node_idx': 8,\n",
       "  'color': 'blue'}}"
      ]
     },
     "execution_count": 21,
     "metadata": {},
     "output_type": "execute_result"
    }
   ],
   "source": [
    "input_dict"
   ]
  },
  {
   "cell_type": "code",
   "execution_count": 22,
   "metadata": {},
   "outputs": [],
   "source": [
    "def define_atributos_nodos(atributos, nombre_estacion):\n",
    "    # agregamos al nodo 1 una label que vamos a definir con un nombre, suponiendo que fuese una estación.\n",
    "    G.nodes[atributos[nombre_estacion]['node_idx']]['estacion'] = nombre_estacion\n",
    "\n",
    "    # también podemos agregar la línea\n",
    "    G.nodes[atributos[nombre_estacion]['node_idx']]['linea'] = atributos[nombre_estacion]['linea']\n",
    "\n",
    "    # Algún color para identificar\n",
    "    G.nodes[atributos[nombre_estacion]['node_idx']]['color'] = atributos[nombre_estacion]['color']\n",
    "\n",
    "    # y por qué no sus coordenadas\n",
    "    G.nodes[atributos[nombre_estacion]['node_idx']]['coord'] = atributos[nombre_estacion]['coord']"
   ]
  },
  {
   "cell_type": "code",
   "execution_count": 23,
   "metadata": {},
   "outputs": [],
   "source": [
    "for k in input_dict.keys():\n",
    "    define_atributos_nodos(atributos=input_dict, nombre_estacion=k)"
   ]
  },
  {
   "cell_type": "code",
   "execution_count": 24,
   "metadata": {},
   "outputs": [
    {
     "data": {
      "text/plain": [
       "NodeDataView({0: {'estacion': 'CALLAO', 'linea': 'B', 'color': 'red', 'coord': (-58.39241446187341, -34.603705218144896)}, 1: {'estacion': 'URUGUAY', 'linea': 'B', 'color': 'red', 'coord': (-58.3872961335408, -34.6040935531057)}, 2: {'estacion': 'C. PELLEGRINI', 'linea': 'B', 'color': 'red', 'coord': (-58.3807148471409, -34.6036371051817)}, 3: {'estacion': 'CALLAO', 'linea': 'D', 'color': 'green', 'coord': (-58.3931251809727, -34.599639552419)}, 4: {'estacion': 'TRIBUNALES - TEATRO COLÓN', 'linea': 'D', 'color': 'green', 'coord': (-58.3851423588013, -34.6015871651394)}, 5: {'estacion': '9 DE JULIO', 'linea': 'D', 'color': 'green', 'coord': (-58.3805743428896, -34.6042452029629)}, 6: {'estacion': 'AV. DE MAYO', 'linea': 'C', 'color': 'blue', 'coord': (-58.3806107179579, -34.6089833148827)}, 7: {'estacion': 'DIAGONAL NORTE', 'linea': 'C', 'color': 'blue', 'coord': (-58.3795299800739, -34.604843739914)}, 8: {'estacion': 'LAVALLE', 'linea': 'C', 'color': 'blue', 'coord': (-58.3781557828244, -34.6017699230114)}})"
      ]
     },
     "execution_count": 24,
     "metadata": {},
     "output_type": "execute_result"
    }
   ],
   "source": [
    "G.nodes(data=True)"
   ]
  },
  {
   "cell_type": "code",
   "execution_count": 25,
   "metadata": {},
   "outputs": [
    {
     "data": {
      "text/plain": [
       "{'estacion': 'CALLAO',\n",
       " 'linea': 'D',\n",
       " 'color': 'green',\n",
       " 'coord': (-58.3931251809727, -34.599639552419)}"
      ]
     },
     "execution_count": 25,
     "metadata": {},
     "output_type": "execute_result"
    }
   ],
   "source": [
    "# accedemos a la metadata del nodo 3 y vemos si se asignó la información que esperabamos\n",
    "list(G.nodes(data=True))[3][1]"
   ]
  },
  {
   "cell_type": "markdown",
   "metadata": {},
   "source": [
    "Supongamos ahora que quisieramos quedarnos solamente con aquellos nodos que responden a un atributo en particular. Por ejemplo, pertenecer a una misma línea del subterráneo. Se les ocurre cómo podríamos filtrar elementos dentro de la vista de nodos de un grafo determinado?"
   ]
  },
  {
   "cell_type": "code",
   "execution_count": 26,
   "metadata": {},
   "outputs": [
    {
     "data": {
      "text/plain": [
       "[0, 1, 2]"
      ]
     },
     "execution_count": 26,
     "metadata": {},
     "output_type": "execute_result"
    }
   ],
   "source": [
    "# Una recurso bastante utilizado en este tipo de estructuras son las comprehension lists!\n",
    "[n for n,d in G.nodes(data=True) if d['linea'] == 'B']"
   ]
  },
  {
   "cell_type": "markdown",
   "metadata": {},
   "source": [
    "Ya sabemos que los nodos `0`, `1` y `2` pertenecen a la línea `B`."
   ]
  },
  {
   "cell_type": "markdown",
   "metadata": {},
   "source": [
    "### 1.2. Ejes o arcos"
   ]
  },
  {
   "cell_type": "markdown",
   "metadata": {},
   "source": [
    "Como mencionamos, otro de los componentes de un grafo son los ejes. Estos, establecen o determinan si los pares de nodos que conforman nuestro grafo están conectados por algún tipo de relación. De manera similar a como vimos recién, los ejes se vuelven accesibles mediante un indexado. Ahora bien, este no es un valor único sino que considera los extremos del eje. En otras palabras, los nodos que está conectando."
   ]
  },
  {
   "cell_type": "code",
   "execution_count": 27,
   "metadata": {},
   "outputs": [],
   "source": [
    "# Agreguemos ahora un par \"key:value\" a los ejes. Vean que para acceder se usa una lista con los nodos que unen\n",
    "G.edges[0,1]['fecha']='2019-10-01'\n",
    "G.edges[0,1]['hora']='09:30:00'\n",
    "G.edges[0,1]['pasajeros']=125"
   ]
  },
  {
   "cell_type": "code",
   "execution_count": 28,
   "metadata": {},
   "outputs": [
    {
     "data": {
      "text/plain": [
       "EdgeDataView([(0, 1, {'fecha': '2019-10-01', 'hora': '09:30:00', 'pasajeros': 125}), (1, 2, {}), (2, 5, {}), (3, 4, {}), (4, 5, {}), (5, 7, {}), (6, 7, {}), (7, 8, {})])"
      ]
     },
     "execution_count": 28,
     "metadata": {},
     "output_type": "execute_result"
    }
   ],
   "source": [
    "G.edges(data=True)"
   ]
  },
  {
   "cell_type": "markdown",
   "metadata": {},
   "source": [
    "Así, acabamos de agregar un poco de información adicional a nuestra primera conexión. Los nodos `0` y `1` se conectaban el 10 de enero de 2019 a las 9:30 de la mañana, transportando 125 pasajeros. Esto nos brinda algo de contexto.\n",
    "\n",
    "Ahora bien, si nos detenemos en este último atributo vamos a incorporar un nuevo concepto: el de peso (o `weight` en inglés). Este sirve para dimensionar la intensidad de una conexión entre pares de nodos dentro de nuestro grafo. Y así como decidimos que sean pasajeros, podríamos haber definido cualquier otro: tiempo transcurrido para llegar de un nodo `u` a otro `v`, velocidad promedio del viaje, etc. etc.\n",
    "\n",
    "Al igual que con los nodos, agregar atributos a los ejes de un grafo nos permite caracterizar a nuestro grafo. Y también poder seleccionar componentes dentro del mismo siguiendo algún tipo de condición. Veamos cómo hacerlo iterando sobre los ejes de una manera más extendida, pero también más explícita ..."
   ]
  },
  {
   "cell_type": "code",
   "execution_count": 29,
   "metadata": {},
   "outputs": [],
   "source": [
    "# para los nodos o vértices (u,v) y el diccionario (d)\n",
    "for u,v,d in G.edges(data=True):\n",
    "    \n",
    "    # revisamos si el nodo 1 se encuentra involucrado:\n",
    "    if 1 in [u,v]:\n",
    "        \n",
    "        # y le cambiamos el valor de su peso\n",
    "        d['pasajeros'] = 75"
   ]
  },
  {
   "cell_type": "markdown",
   "metadata": {},
   "source": [
    "Ahora, completemos nuestro grafo sumando atributos al resto de los ejes. Para mantenerlo simple, supongamos que estamos trabajando con una porción de la red de subterráneos para un mismo día y hora."
   ]
  },
  {
   "cell_type": "code",
   "execution_count": 30,
   "metadata": {},
   "outputs": [],
   "source": [
    "import random"
   ]
  },
  {
   "cell_type": "code",
   "execution_count": 31,
   "metadata": {},
   "outputs": [],
   "source": [
    "def define_atributos_ejes():\n",
    "    conexiones_lineas = [(2,5),(5,7)]\n",
    "    conexiones_estaciones = [i for i in G.edges if i not in conexiones_lineas]\n",
    "    \n",
    "    for i in conexiones_estaciones:\n",
    "        # donde i[0] es el nodo inicial y i[1] el final\n",
    "        G.edges[i[0], i[1]]['fecha']='2019-10-01'\n",
    "        G.edges[i[0], i[1]]['hora']='09:30:00'\n",
    "        G.edges[i[0], i[1]]['pasajeros']=random.randint(10,100)\n",
    "    \n",
    "    for i in conexiones_lineas:\n",
    "        G.edges[i[0], i[1]]['fecha']='2019-10-01'\n",
    "        G.edges[i[0], i[1]]['hora']='09:30:00'\n",
    "        G.edges[i[0], i[1]]['pasajeros']=random.randint(100,200)"
   ]
  },
  {
   "cell_type": "code",
   "execution_count": 32,
   "metadata": {},
   "outputs": [],
   "source": [
    "# asigamos atributos a los ejes\n",
    "define_atributos_ejes()"
   ]
  },
  {
   "cell_type": "code",
   "execution_count": 33,
   "metadata": {},
   "outputs": [
    {
     "data": {
      "text/plain": [
       "EdgeDataView([(0, 1, {'fecha': '2019-10-01', 'hora': '09:30:00', 'pasajeros': 58}), (1, 2, {'pasajeros': 32, 'fecha': '2019-10-01', 'hora': '09:30:00'}), (2, 5, {'fecha': '2019-10-01', 'hora': '09:30:00', 'pasajeros': 160}), (3, 4, {'fecha': '2019-10-01', 'hora': '09:30:00', 'pasajeros': 11}), (4, 5, {'fecha': '2019-10-01', 'hora': '09:30:00', 'pasajeros': 31}), (5, 7, {'fecha': '2019-10-01', 'hora': '09:30:00', 'pasajeros': 118}), (6, 7, {'fecha': '2019-10-01', 'hora': '09:30:00', 'pasajeros': 46}), (7, 8, {'fecha': '2019-10-01', 'hora': '09:30:00', 'pasajeros': 90})])"
      ]
     },
     "execution_count": 33,
     "metadata": {},
     "output_type": "execute_result"
    }
   ],
   "source": [
    "# y los visualizamos\n",
    "G.edges(data=True)"
   ]
  },
  {
   "cell_type": "code",
   "execution_count": 34,
   "metadata": {},
   "outputs": [
    {
     "data": {
      "text/plain": [
       "{'fecha': '2019-10-01', 'hora': '09:30:00', 'pasajeros': 46}"
      ]
     },
     "execution_count": 34,
     "metadata": {},
     "output_type": "execute_result"
    }
   ],
   "source": [
    "G.edges[6,7]"
   ]
  },
  {
   "cell_type": "markdown",
   "metadata": {},
   "source": [
    "Por último, veamos cómo funciona el filtrado por listas de comprenión que tambien vimos con los nodos. Fíjense que para iterar sobre los ejes debemos tener en cuenta los nodos que están uniendo. Por eso la iteración es a partir de una tupla de elementos."
   ]
  },
  {
   "cell_type": "code",
   "execution_count": 35,
   "metadata": {},
   "outputs": [
    {
     "data": {
      "text/plain": [
       "[(2, 5), (5, 7), (7, 8)]"
      ]
     },
     "execution_count": 35,
     "metadata": {},
     "output_type": "execute_result"
    }
   ],
   "source": [
    "# usamos una lista por comprensión para filtrar las conexiones con más de 75 pasajeros\n",
    "[(u,v) for u,v,d in G.edges(data=True) if d['pasajeros'] > 75]"
   ]
  },
  {
   "cell_type": "markdown",
   "metadata": {},
   "source": [
    "### 1.3. Visualizando nuestro grafo"
   ]
  },
  {
   "cell_type": "markdown",
   "metadata": {},
   "source": [
    "Cuando visualizamos nuestro grafo `G` por primera vez, vimos que la posición de los nodos cambiaba cada vez que instanciábamos el objeto. Eso, porque no habíamos incorporado todavía la noción de espacialidad dentro del grafo. Esto, podemos hacerlo a través del parámetro `position` o `pos`. En el dataframe que usamos para articular los nodos contábamos con las coordenadas, aprovechemos ese atributo para ordenar las estaciones dentro del grafo, tal como si estuviésemos trabajando con la red de subterráneos."
   ]
  },
  {
   "cell_type": "code",
   "execution_count": 36,
   "metadata": {},
   "outputs": [],
   "source": [
    "# el método `get_node_attributes` nos permite capturar los atributos desde un grafo ya instanciado\n",
    "pos = nx.get_node_attributes(G,'coord')"
   ]
  },
  {
   "cell_type": "code",
   "execution_count": 37,
   "metadata": {},
   "outputs": [
    {
     "data": {
      "text/plain": [
       "{0: (-58.39241446187341, -34.603705218144896),\n",
       " 1: (-58.3872961335408, -34.6040935531057),\n",
       " 2: (-58.3807148471409, -34.6036371051817),\n",
       " 3: (-58.3931251809727, -34.599639552419),\n",
       " 4: (-58.3851423588013, -34.6015871651394),\n",
       " 5: (-58.3805743428896, -34.6042452029629),\n",
       " 6: (-58.3806107179579, -34.6089833148827),\n",
       " 7: (-58.3795299800739, -34.604843739914),\n",
       " 8: (-58.3781557828244, -34.6017699230114)}"
      ]
     },
     "execution_count": 37,
     "metadata": {},
     "output_type": "execute_result"
    }
   ],
   "source": [
    "# y nos devuelve un diccionario con el idx del nodo y el atributo en cuestión\n",
    "pos"
   ]
  },
  {
   "cell_type": "code",
   "execution_count": 38,
   "metadata": {},
   "outputs": [
    {
     "data": {
      "image/png": "[encoded data removed]",
      "text/plain": [
       "<Figure size 432x288 with 1 Axes>"
      ]
     },
     "metadata": {},
     "output_type": "display_data"
    }
   ],
   "source": [
    "# que en nuestro grafo usamos para posicionar los nodos. Agreguemos también algo de color ...\n",
    "nx.draw(G,pos, with_labels=True, node_color='#00b4d9')"
   ]
  },
  {
   "cell_type": "markdown",
   "metadata": {},
   "source": [
    "Comparen este grafo con la red de subterráneos de la Ciudad de Buenos Aires. Ya empieza a haber un poco más de similitud no? Agreguemos algunos estilos adicionales para terminar de darle forma ..."
   ]
  },
  {
   "cell_type": "code",
   "execution_count": 39,
   "metadata": {},
   "outputs": [],
   "source": [
    "# primero con el nombre de las estaciones\n",
    "lab = nx.get_node_attributes(G,'estacion')"
   ]
  },
  {
   "cell_type": "code",
   "execution_count": 40,
   "metadata": {},
   "outputs": [
    {
     "data": {
      "image/png": "[encoded data removed]",
      "text/plain": [
       "<Figure size 432x288 with 1 Axes>"
      ]
     },
     "metadata": {},
     "output_type": "display_data"
    }
   ],
   "source": [
    "nx.draw(G,pos, labels=lab, with_labels=True, node_size=400, node_color='#00b4d9')"
   ]
  },
  {
   "cell_type": "markdown",
   "metadata": {},
   "source": [
    "Ya con el nombre de las estaciones podemos ver qué es lo que estamos queriendo representar. Un grafo donde las líneas están representadas por estaciones que se unen consecutivamente, pero que a la vez, cuentan con ejes que las conectan entre sí. Evitando que las líneas se encuentren aisladas y que el grafo termine de completarse. Veamos cómo podríamos hacer para asignarle un color a los nodos en función de su pertenencia a cada una de las líneas."
   ]
  },
  {
   "cell_type": "code",
   "execution_count": 41,
   "metadata": {},
   "outputs": [],
   "source": [
    "# podríamos seguir usando el método `get_node_attributes`\n",
    "color_dict = nx.get_node_attributes(G,'color')"
   ]
  },
  {
   "cell_type": "code",
   "execution_count": 42,
   "metadata": {},
   "outputs": [],
   "source": [
    "# lo que hace el camino un poco más largo\n",
    "colors = []\n",
    "for n,c in color_dict.items():\n",
    "    colors.append(c)"
   ]
  },
  {
   "cell_type": "code",
   "execution_count": 43,
   "metadata": {},
   "outputs": [
    {
     "data": {
      "text/plain": [
       "['red', 'red', 'red', 'green', 'green', 'green', 'blue', 'blue', 'blue']"
      ]
     },
     "execution_count": 43,
     "metadata": {},
     "output_type": "execute_result"
    }
   ],
   "source": [
    "colors"
   ]
  },
  {
   "cell_type": "code",
   "execution_count": 44,
   "metadata": {},
   "outputs": [],
   "source": [
    "# o tambien haber usado una comprehension list\n",
    "colores = [i[1]['color'] for i in G.nodes(data=True)]"
   ]
  },
  {
   "cell_type": "code",
   "execution_count": 45,
   "metadata": {},
   "outputs": [
    {
     "data": {
      "text/plain": [
       "['red', 'red', 'red', 'green', 'green', 'green', 'blue', 'blue', 'blue']"
      ]
     },
     "execution_count": 45,
     "metadata": {},
     "output_type": "execute_result"
    }
   ],
   "source": [
    "colors"
   ]
  },
  {
   "cell_type": "code",
   "execution_count": 46,
   "metadata": {},
   "outputs": [
    {
     "data": {
      "image/png": "[encoded data removed]",
      "text/plain": [
       "<Figure size 432x288 with 1 Axes>"
      ]
     },
     "metadata": {},
     "output_type": "display_data"
    }
   ],
   "source": [
    "nx.draw(G,pos, labels=lab, with_labels=True, node_size=400, node_color=colors)"
   ]
  },
  {
   "cell_type": "markdown",
   "metadata": {},
   "source": [
    "Tanto los colores como los pesos se asignan por medio de listas, respetando el orden de los componentes (nodos o ejes) dentro del grafo. Veamoslo cómo sería aplicado a la medida de peso que agregamos recientemente, la cantidad de pasajeros. Veamos cómo queda."
   ]
  },
  {
   "cell_type": "code",
   "execution_count": 47,
   "metadata": {},
   "outputs": [],
   "source": [
    "# asignamos el color amarillo a las conexiones intensas\n",
    "ec = ['yellow' if G[u][v]['pasajeros'] > 100 else 'lightgrey' for u,v in G.edges()]"
   ]
  },
  {
   "cell_type": "code",
   "execution_count": 48,
   "metadata": {},
   "outputs": [],
   "source": [
    "# y definimos el parametro peso a partir del atributo pasajeros para visualizar\n",
    "ew = [G[n][d]['pasajeros']/5 for n,d in G.edges()]"
   ]
  },
  {
   "cell_type": "code",
   "execution_count": 49,
   "metadata": {},
   "outputs": [
    {
     "data": {
      "image/png": "[encoded data removed]",
      "text/plain": [
       "<Figure size 1224x720 with 1 Axes>"
      ]
     },
     "metadata": {},
     "output_type": "display_data"
    }
   ],
   "source": [
    "# con el método `subplots` de matplotlib creamos el eje y la figura donde se almacena\n",
    "fig, ax = plt.subplots(figsize=(17,10))\n",
    "\n",
    "# dicho eje lo podemos pasar como parámetro al método `draw`\n",
    "nx.draw(G,pos, labels=lab, with_labels=True, \n",
    "        node_size=400, node_color=colors,\n",
    "        edge_color = ec, width = ew, ax=ax)\n",
    "\n",
    "# agregamos etiquetas a los ejes\n",
    "edge_labels = nx.get_edge_attributes(G, 'pasajeros')\n",
    "nx.draw_networkx_edge_labels(G, pos, edge_labels, font_size=8)\n",
    "\n",
    "ax.set_title('Cantidad de pasajeros por eje');"
   ]
  },
  {
   "cell_type": "markdown",
   "metadata": {},
   "source": [
    "También podríamos graduar los ejes con una leyenda que indique la cantidad de pasajeros, en lugar de usar una etiqueta. Esto con el módulo `cm` de matplotlib."
   ]
  },
  {
   "cell_type": "code",
   "execution_count": 50,
   "metadata": {},
   "outputs": [],
   "source": [
    "from matplotlib import cm"
   ]
  },
  {
   "cell_type": "code",
   "execution_count": 51,
   "metadata": {},
   "outputs": [
    {
     "data": {
      "image/png": "[encoded data removed]",
      "text/plain": [
       "<Figure size 1224x720 with 2 Axes>"
      ]
     },
     "metadata": {
      "needs_background": "light"
     },
     "output_type": "display_data"
    }
   ],
   "source": [
    "fig, ax = plt.subplots(figsize=(17,10))\n",
    "\n",
    "ec=[G[u][v]['pasajeros'] for u, v in G.edges]\n",
    "\n",
    "mcl = nx.draw_networkx_edges(G, pos, edge_cmap=cm.Greys, width=10,edge_color=ec)\n",
    "\n",
    "nx.draw_networkx_nodes(G, pos, node_size=400, node_color=colors, ax=ax)\n",
    "nx.draw_networkx_labels(G, pos, labels=lab, font_size=10, \n",
    "                        horizontalalignment='right', ax=ax)\n",
    "\n",
    "plt.colorbar(mcl)\n",
    "ax.set_axis_off()\n",
    "ax.set_title('Cantidad de pasajeros por eje');"
   ]
  },
  {
   "cell_type": "markdown",
   "metadata": {},
   "source": [
    "### 1.2. Tipos de grafos"
   ]
  },
  {
   "cell_type": "markdown",
   "metadata": {},
   "source": [
    "En el grafo que venimos construyendo como ejemplo no hemos incluído una cuestión central. Si bien pudimos diferenciar nodos a partir de conexiones representadas por cantidad de pasajeros, nunca especificamos en qué dirección se daba tal magnitud. \n",
    "\n",
    "Dado que estamos representado viajes en una red de subterráneos, los pasajeros podrían haber ido de una estación a otra, o vicebersa. Introducimos así otra cuestión de mucha relevancia a la hora de trabajar con redes de transporte: `la direccionalidad`"
   ]
  },
  {
   "cell_type": "markdown",
   "metadata": {},
   "source": [
    "`NetworkX` [cuenta con varias clases](https://networkx.org/documentation/stable//reference/classes/index.html) para poder representar el sentido de las conexiones entre nodos. En este sentido, es importante aclarar que, a grandes rasgos, contamos con dos familias de grafos. Los dirigidos y los no dirigidos:\n",
    "\n",
    "<img align=\"center\" width=\"900\" height=\"400\" src=\"../imagenes/grafos_tipo.png\" style=\"float: center; padding: 0 15px\">"
   ]
  },
  {
   "cell_type": "code",
   "execution_count": 52,
   "metadata": {},
   "outputs": [
    {
     "data": {
      "text/plain": [
       "networkx.classes.graph.Graph"
      ]
     },
     "execution_count": 52,
     "metadata": {},
     "output_type": "execute_result"
    }
   ],
   "source": [
    "# Veamos qué tipo de grafo es el que construimos previamente\n",
    "type(G)"
   ]
  },
  {
   "cell_type": "markdown",
   "metadata": {},
   "source": [
    "Tal como se puede apreciar, este es un grafo no dirigido. Es decir, ningún tipo de direccionalidad se ve representada. O al menos no es explícita, con lo cual la conexión entre nodos se da en ambos sentidos de la red. \n",
    "\n",
    "Ahora, antes de seguir con nuestro ejemplo, exploremos brevemente qué alternativas tenemos para representar relaciones en distintos tipos de grafos con `NetworkX`."
   ]
  },
  {
   "cell_type": "markdown",
   "metadata": {},
   "source": [
    "#### 1.2.1. Grafos dirigidos"
   ]
  },
  {
   "cell_type": "markdown",
   "metadata": {},
   "source": [
    "La principal característica de un grafo dirigido radica en el sentido de la relación entre nodos. Algo bastante central en las redes de transporte. La clase `DiGraph` de NetworkX permite construir grafos con ejes dirigidos, con la única restricción de no incluir [ejes paralelos o múltiples](https://es.wikipedia.org/wiki/Aristas_m%C3%BAltiples#:~:text=En%20teor%C3%ADa%20de%20grafos%2C%20las,m%C3%BAltiples%20son%20llamados%20grafos%20simples.).\n",
    "\n",
    "Existen varias maneras de poblar un objeto de tipo `DiGraph`, ya sea agregando nodos singularmente o a partir de colecciones como listas. También es posible especificar directamente los ejes como mostramos a continuación:"
   ]
  },
  {
   "cell_type": "code",
   "execution_count": 53,
   "metadata": {},
   "outputs": [
    {
     "data": {
      "text/plain": [
       "networkx.classes.digraph.DiGraph"
      ]
     },
     "execution_count": 53,
     "metadata": {},
     "output_type": "execute_result"
    }
   ],
   "source": [
    "# Grafo dirigido\n",
    "D = nx.DiGraph()\n",
    "D.add_edge(0,1)\n",
    "type(D)"
   ]
  },
  {
   "cell_type": "code",
   "execution_count": 54,
   "metadata": {},
   "outputs": [
    {
     "data": {
      "image/png": "[encoded data removed]",
      "text/plain": [
       "<Figure size 432x288 with 1 Axes>"
      ]
     },
     "metadata": {},
     "output_type": "display_data"
    }
   ],
   "source": [
    "nx.draw(D, with_labels=True)"
   ]
  },
  {
   "cell_type": "markdown",
   "metadata": {},
   "source": [
    "Tal y como mencionamos, este tipo de grafos no soportan los ejes paralelos. Comprobémoslo ..."
   ]
  },
  {
   "cell_type": "code",
   "execution_count": 55,
   "metadata": {},
   "outputs": [],
   "source": [
    "D.add_edges_from([(0,1),(1,0)])"
   ]
  },
  {
   "cell_type": "code",
   "execution_count": 56,
   "metadata": {},
   "outputs": [
    {
     "data": {
      "text/plain": [
       "1"
      ]
     },
     "execution_count": 56,
     "metadata": {},
     "output_type": "execute_result"
    }
   ],
   "source": [
    "# al no ser un multigrafo, las conexiones entre el mismo par de nodos se cuentan sólo una vez!\n",
    "D.number_of_edges(u=0,v=1)"
   ]
  },
  {
   "cell_type": "markdown",
   "metadata": {},
   "source": [
    "Así, contamos en total con ..."
   ]
  },
  {
   "cell_type": "code",
   "execution_count": 57,
   "metadata": {},
   "outputs": [
    {
     "data": {
      "text/plain": [
       "2"
      ]
     },
     "execution_count": 57,
     "metadata": {},
     "output_type": "execute_result"
    }
   ],
   "source": [
    "# dos grupos de conexiones\n",
    "D.number_of_edges()"
   ]
  },
  {
   "cell_type": "markdown",
   "metadata": {},
   "source": [
    "Porque recordemos, es un grafo dirigido. Entonces, la direccionalidad importa ..."
   ]
  },
  {
   "cell_type": "code",
   "execution_count": 58,
   "metadata": {},
   "outputs": [
    {
     "data": {
      "text/plain": [
       "1"
      ]
     },
     "execution_count": 58,
     "metadata": {},
     "output_type": "execute_result"
    }
   ],
   "source": [
    "# no es lo mismo ir de 1 a 0 que de 0 a 1\n",
    "D.number_of_edges(u=1,v=0)"
   ]
  },
  {
   "cell_type": "code",
   "execution_count": 59,
   "metadata": {},
   "outputs": [
    {
     "data": {
      "image/png": "[encoded data removed]",
      "text/plain": [
       "<Figure size 432x288 with 1 Axes>"
      ]
     },
     "metadata": {},
     "output_type": "display_data"
    }
   ],
   "source": [
    "# graficamente se entiende mejor\n",
    "nx.draw(D, with_labels=True, arrows=True, connectionstyle='arc3, rad = 0.1')"
   ]
  },
  {
   "cell_type": "markdown",
   "metadata": {},
   "source": [
    "La intención de este segmento no es adentrarnos en detalle en los tipos de grafos. Sino más bien presentarlos y tener una idea del tipo de relaciones que cada uno permite representar. A los que les interese ahora un poco más, la documentación oficial es bastante clara y accesible. En el siguiente hipervínculo podrán encontrar más sobre [grafos dirigidos](https://networkx.org/documentation/stable//reference/classes/digraph.html#networkx.DiGraph) "
   ]
  },
  {
   "cell_type": "markdown",
   "metadata": {},
   "source": [
    "#### 1.2.2. Multigrafos o grafos multiejes"
   ]
  },
  {
   "cell_type": "markdown",
   "metadata": {},
   "source": [
    "Como primer gran distinción, en teoría de grafos podemos hablar de `grafos simples` o `multigrafos`. [Estos últimos](https://es.wikipedia.org/wiki/Multigrafo) pueden tener más de un eje o arista conectando los mismos nodos (lo que dijimos, nuestro `D` no soportaba). Algo bastante útil si pensamos, por ejemplo, en una red de calles donde los nodos estén representados por el cruce de las mismas.\n",
    "\n",
    "Para este tipo de situaciones, NetworkX cuenta con la clase `MultiGraph` que permite trabajar con conexiones no dirigidas entre nodos relacionados por más de una arista. [Acá](https://networkx.org/documentation/stable//reference/classes/multigraph.html#networkx.MultiGraph) el link a la documentación."
   ]
  },
  {
   "cell_type": "code",
   "execution_count": 60,
   "metadata": {},
   "outputs": [
    {
     "data": {
      "text/plain": [
       "networkx.classes.multigraph.MultiGraph"
      ]
     },
     "execution_count": 60,
     "metadata": {},
     "output_type": "execute_result"
    }
   ],
   "source": [
    "# Instanciamos un grafo no dirigido con ejes múltiples \n",
    "M = nx.MultiGraph()\n",
    "type(M)"
   ]
  },
  {
   "cell_type": "code",
   "execution_count": 61,
   "metadata": {},
   "outputs": [],
   "source": [
    "# y lo poblamocs con nodos y ejes\n",
    "M.add_nodes_from([0,1])\n",
    "M.add_edge(0,1)\n",
    "M.add_edge(0,1);"
   ]
  },
  {
   "cell_type": "markdown",
   "metadata": {},
   "source": [
    "A diferencia del grafo dirigido, aca vemos que la relación entre el mismo par de nodos se cuenta tantas veces como la agreguemos con el método `add_edge` o `add_edge_from`. "
   ]
  },
  {
   "cell_type": "code",
   "execution_count": 62,
   "metadata": {},
   "outputs": [
    {
     "data": {
      "text/plain": [
       "2"
      ]
     },
     "execution_count": 62,
     "metadata": {},
     "output_type": "execute_result"
    }
   ],
   "source": [
    "# Ahora contamos con más de una conexión entre el mismo par de nodos!\n",
    "M.number_of_edges()"
   ]
  },
  {
   "cell_type": "code",
   "execution_count": 63,
   "metadata": {},
   "outputs": [
    {
     "data": {
      "image/png": "[encoded data removed]",
      "text/plain": [
       "<Figure size 432x288 with 1 Axes>"
      ]
     },
     "metadata": {},
     "output_type": "display_data"
    }
   ],
   "source": [
    "nx.draw(M, with_labels=True)"
   ]
  },
  {
   "cell_type": "markdown",
   "metadata": {},
   "source": [
    "Lamentablemente, NetworkX no soporta la representación de ejes paralelos. Más específicamente, el método `draw`. Si bien el grafo puede instanciarse con `múltiples` conexiones, como así también con `selfloops`, los ejes se dibujan como trazas simples (por eso verán que se superponen en el ejemplo anterior). Las funcionalidades para plotear que provee NetworkX son básicas dado que, como se sugiere [desde la misma librería](https://networkx.org/documentation/stable/reference/drawing.html) el principal objetivo es el análisis de grafos antes que si visualización. Para la representación de multigrafos no dirigidos, se pueden explorar otras librerías como [graphviz](https://www.graphviz.org/gallery/) y [pygraphviz](https://pygraphviz.github.io/documentation/stable/install.html), las cuales cuentan ya con [algunos métodos](https://networkx.org/documentation/stable/reference/drawing.html#module-networkx.drawing.nx_agraph) que por el momento son soportados pero que no abordaremos en el presente notebook.\n",
    "\n",
    "Agreguemos ahora algunas conexiones más para poder comparar nuestro multigrafo con el grafo dirigido que instanciamos previamente:"
   ]
  },
  {
   "cell_type": "code",
   "execution_count": 64,
   "metadata": {},
   "outputs": [],
   "source": [
    "# agregamos dos nuevas conexiones, entre 1 y 0 y 1 consigo mismo\n",
    "M.add_edge(1,0)\n",
    "M.add_edge(1,1);"
   ]
  },
  {
   "cell_type": "code",
   "execution_count": 65,
   "metadata": {},
   "outputs": [
    {
     "data": {
      "text/plain": [
       "4"
      ]
     },
     "execution_count": 65,
     "metadata": {},
     "output_type": "execute_result"
    }
   ],
   "source": [
    "# vemos que a diferencia del grafo dirigido, el multigrafo si contempla los ejes mútliples\n",
    "M.number_of_edges()"
   ]
  },
  {
   "cell_type": "code",
   "execution_count": 66,
   "metadata": {},
   "outputs": [
    {
     "data": {
      "text/plain": [
       "3"
      ]
     },
     "execution_count": 66,
     "metadata": {},
     "output_type": "execute_result"
    }
   ],
   "source": [
    "# sin importar la direccionalidad de la relación\n",
    "M.number_of_edges(u=0, v=1)"
   ]
  },
  {
   "cell_type": "code",
   "execution_count": 67,
   "metadata": {},
   "outputs": [
    {
     "data": {
      "text/plain": [
       "3"
      ]
     },
     "execution_count": 67,
     "metadata": {},
     "output_type": "execute_result"
    }
   ],
   "source": [
    "# por eso, la cantidad de ejes entre 0 y 1 o entre 1 y 0 es la misma\n",
    "M.number_of_edges(u=1, v=0)"
   ]
  },
  {
   "cell_type": "markdown",
   "metadata": {},
   "source": [
    "Acá introducimos un nuevo concepto: los `selfloops`. Con `draw` tampoco podemos representarlos en un multigrafo no dirigido. Sin embargo, podemos ver con el método `number_of_selfoops` que el grafo que instanciamos con anterioridad contiene al menos uno. Por el momento sólo presentemos este concepto, en breve ya agregarmos algunos detalles ..."
   ]
  },
  {
   "cell_type": "code",
   "execution_count": 68,
   "metadata": {},
   "outputs": [
    {
     "data": {
      "text/plain": [
       "1"
      ]
     },
     "execution_count": 68,
     "metadata": {},
     "output_type": "execute_result"
    }
   ],
   "source": [
    "# los selfloops podemos identificarlos de esta manera\n",
    "M.number_of_edges(u=1, v=1)"
   ]
  },
  {
   "cell_type": "code",
   "execution_count": 69,
   "metadata": {},
   "outputs": [
    {
     "data": {
      "text/plain": [
       "1"
      ]
     },
     "execution_count": 69,
     "metadata": {},
     "output_type": "execute_result"
    }
   ],
   "source": [
    "# o con el método que mencionamos recientemente\n",
    "nx.number_of_selfloops(M)"
   ]
  },
  {
   "cell_type": "markdown",
   "metadata": {},
   "source": [
    "#### 1.2.3. Multigrafos dirigidos"
   ]
  },
  {
   "cell_type": "markdown",
   "metadata": {},
   "source": [
    "Al igual que la anterior, esta clase contempla tanto ejes paralelos como selfloops. Ahora, con la posibilidad de darle direccionalidad a dichas conexiones.Acá el [hipervínculo a la documentación](https://networkx.org/documentation/stable//reference/classes/multidigraph.html)."
   ]
  },
  {
   "cell_type": "code",
   "execution_count": 70,
   "metadata": {},
   "outputs": [
    {
     "data": {
      "text/plain": [
       "networkx.classes.multidigraph.MultiDiGraph"
      ]
     },
     "execution_count": 70,
     "metadata": {},
     "output_type": "execute_result"
    }
   ],
   "source": [
    "MD = nx.MultiDiGraph([(0,1),(0,1),(1,0),(1,1)])\n",
    "type(MD)"
   ]
  },
  {
   "cell_type": "code",
   "execution_count": 71,
   "metadata": {},
   "outputs": [
    {
     "data": {
      "image/png": "[encoded data removed]",
      "text/plain": [
       "<Figure size 432x288 with 1 Axes>"
      ]
     },
     "metadata": {},
     "output_type": "display_data"
    }
   ],
   "source": [
    "nx.draw(MD, with_labels=True, arrows=True, connectionstyle='arc3, rad = 0.1')"
   ]
  },
  {
   "cell_type": "markdown",
   "metadata": {},
   "source": [
    "La representación de multigrafos dirigidos no son una excepción. Lamentablemente, su visualización padece del mismo defecto que los multigrafos dirigidos. Es decir, los ejes múltiples se trazan como simples. Revisemos, sin embargo, cómo son contabilizados."
   ]
  },
  {
   "cell_type": "code",
   "execution_count": 72,
   "metadata": {},
   "outputs": [
    {
     "data": {
      "text/plain": [
       "4"
      ]
     },
     "execution_count": 72,
     "metadata": {},
     "output_type": "execute_result"
    }
   ],
   "source": [
    "# nuestro multigrafo dirigido tiene 4 ejes,\n",
    "MD.number_of_edges()"
   ]
  },
  {
   "cell_type": "code",
   "execution_count": 73,
   "metadata": {},
   "outputs": [
    {
     "data": {
      "text/plain": [
       "2"
      ]
     },
     "execution_count": 73,
     "metadata": {},
     "output_type": "execute_result"
    }
   ],
   "source": [
    "# de los cuales 2 son en dirección 0 -> 1\n",
    "MD.number_of_edges(u=0, v=1)"
   ]
  },
  {
   "cell_type": "code",
   "execution_count": 74,
   "metadata": {},
   "outputs": [
    {
     "data": {
      "text/plain": [
       "1"
      ]
     },
     "execution_count": 74,
     "metadata": {},
     "output_type": "execute_result"
    }
   ],
   "source": [
    "# 1 en dirección inversa (1 -> 0)\n",
    "MD.number_of_edges(u=1, v=0)"
   ]
  },
  {
   "cell_type": "code",
   "execution_count": 75,
   "metadata": {},
   "outputs": [
    {
     "data": {
      "text/plain": [
       "1"
      ]
     },
     "execution_count": 75,
     "metadata": {},
     "output_type": "execute_result"
    }
   ],
   "source": [
    "# y por último un selfloop\n",
    "MD.number_of_edges(u=1, v=1)"
   ]
  },
  {
   "cell_type": "markdown",
   "metadata": {},
   "source": [
    "Tal y como vimos con el grafo dirigido, los ejes son representados considerando el orden de los nodos que son conectados. Es decir, un multigrafo dirigido agrega la posibilidad de trabajar con ejes paralelos contemplando direccionalidad (algo que los grafos dirigidos simples no permiten)."
   ]
  },
  {
   "cell_type": "markdown",
   "metadata": {},
   "source": [
    "## **Ejercitación**\n",
    "\n",
    "Ahora que vimos todas las clases de NetworkX para trabajar con distintos tipos de grafos, cuál creen ustedes que es la mejor representación para nuestro ejemplo de subtes? Recuerden que conectamos algunas estaciones de la red detallando el volumen de pasajeros entre ambas. Vale aclarar también que no hay una única respuesta para este ejercicio. "
   ]
  },
  {
   "cell_type": "code",
   "execution_count": 76,
   "metadata": {},
   "outputs": [],
   "source": [
    "# Desarrollar ejercicio"
   ]
  },
  {
   "cell_type": "markdown",
   "metadata": {},
   "source": [
    "### Solución"
   ]
  },
  {
   "cell_type": "markdown",
   "metadata": {},
   "source": [
    "##### a. Asignando direcciones de sentido único\n",
    "Una posibilidad hubiese sido mantener el mismo número de pasajeros, modificando la dirección de cada una de las conexiones que diseñamos inicialmente. De la siguiente forma:"
   ]
  },
  {
   "cell_type": "code",
   "execution_count": 77,
   "metadata": {},
   "outputs": [],
   "source": [
    "# convertimos el grafo a dirigido\n",
    "GD = G.to_directed()"
   ]
  },
  {
   "cell_type": "code",
   "execution_count": 78,
   "metadata": {},
   "outputs": [
    {
     "data": {
      "text/plain": [
       "OutEdgeView([(0, 1), (1, 0), (1, 2), (2, 1), (2, 5), (3, 4), (4, 3), (4, 5), (5, 4), (5, 2), (5, 7), (6, 7), (7, 6), (7, 8), (7, 5), (8, 7)])"
      ]
     },
     "execution_count": 78,
     "metadata": {},
     "output_type": "execute_result"
    }
   ],
   "source": [
    "# al explicitar la direccionalidad, esto duplica la cantidad de ejes manteniendo la misma metadata\n",
    "GD.edges()"
   ]
  },
  {
   "cell_type": "code",
   "execution_count": 79,
   "metadata": {},
   "outputs": [
    {
     "name": "stdout",
     "output_type": "stream",
     "text": [
      "Borra: (1, 0)\n",
      "Borra: (2, 1)\n",
      "Borra: (4, 3)\n",
      "Borra: (5, 4)\n",
      "Borra: (5, 2)\n",
      "Borra: (7, 6)\n",
      "Borra: (7, 5)\n",
      "Borra: (8, 7)\n"
     ]
    }
   ],
   "source": [
    "# aca vamos a guardar los ejes invertidos\n",
    "dirigidos = {}\n",
    "\n",
    "for e in GD.edges():\n",
    "    # invertimos la tupla \n",
    "    reversed_item = (e[1],e[0])\n",
    "    \n",
    "    # verificamos si el item invertido ya existe\n",
    "    if reversed_item in GD.edges():\n",
    "        dirigidos[e] = (reversed_item)\n",
    "    \n",
    "    # y lo borramos del diccionario si esta repetido\n",
    "    if (e in dirigidos.keys()) and (e in dirigidos.values()):  \n",
    "        print('Borra: {}'.format(e))\n",
    "        del dirigidos[e]"
   ]
  },
  {
   "cell_type": "code",
   "execution_count": 80,
   "metadata": {},
   "outputs": [
    {
     "data": {
      "text/plain": [
       "{(0, 1): (1, 0),\n",
       " (1, 2): (2, 1),\n",
       " (2, 5): (5, 2),\n",
       " (3, 4): (4, 3),\n",
       " (4, 5): (5, 4),\n",
       " (5, 7): (7, 5),\n",
       " (6, 7): (7, 6),\n",
       " (7, 8): (8, 7)}"
      ]
     },
     "execution_count": 80,
     "metadata": {},
     "output_type": "execute_result"
    }
   ],
   "source": [
    "# ahora, tenemos que elegir entre alguno de estos pares dirigidos\n",
    "dirigidos"
   ]
  },
  {
   "cell_type": "code",
   "execution_count": 81,
   "metadata": {},
   "outputs": [],
   "source": [
    "borrar = []\n",
    "\n",
    "for k,v in dirigidos.items():\n",
    "    # elegimos un par de nodos aleatoriamente\n",
    "    seleccionado = random.sample([k,v],1)[0]\n",
    "    borrar.append(seleccionado)\n",
    "\n",
    "# y los removemos del grafo    \n",
    "[GD.remove_edge(i[0],i[1]) for i in borrar];"
   ]
  },
  {
   "cell_type": "code",
   "execution_count": 82,
   "metadata": {},
   "outputs": [
    {
     "data": {
      "text/plain": [
       "[(1, 0), (2, 1), (5, 2), (4, 3), (5, 4), (7, 5), (6, 7), (7, 8)]"
      ]
     },
     "execution_count": 82,
     "metadata": {},
     "output_type": "execute_result"
    }
   ],
   "source": [
    "borrar"
   ]
  },
  {
   "cell_type": "code",
   "execution_count": 83,
   "metadata": {},
   "outputs": [
    {
     "data": {
      "text/plain": [
       "OutEdgeView([(0, 1), (1, 2), (2, 5), (3, 4), (4, 5), (5, 7), (7, 6), (8, 7)])"
      ]
     },
     "execution_count": 83,
     "metadata": {},
     "output_type": "execute_result"
    }
   ],
   "source": [
    "GD.edges()"
   ]
  },
  {
   "cell_type": "code",
   "execution_count": 84,
   "metadata": {},
   "outputs": [
    {
     "data": {
      "image/png": "[encoded data removed]",
      "text/plain": [
       "<Figure size 1224x864 with 1 Axes>"
      ]
     },
     "metadata": {},
     "output_type": "display_data"
    }
   ],
   "source": [
    "# y visualizamos el grafo dirigido\n",
    "fig, ax = plt.subplots(figsize=(17,12))\n",
    "nx.draw(GD,pos, with_labels=True, node_size=400, node_color=colors, ax=ax)\n",
    "\n",
    "# agregamos etiquetas a los ejes\n",
    "edge_labels = nx.get_edge_attributes(G, 'pasajeros')\n",
    "nx.draw_networkx_edge_labels(G, pos, edge_labels, font_size=8)\n",
    "\n",
    "ax.set_title('Cantidad de pasajeros por eje en direccionalidad única');"
   ]
  },
  {
   "cell_type": "markdown",
   "metadata": {},
   "source": [
    "##### b. Asignando direcciones en sentido doble (ida y vuelta)\n",
    "Otra posibilidad, hubiese sido distribuir la cantidad de pasajeros existentes en direcciones múltiples. Es decir, distribuir el flujo de pasajeros entre dos ejes simultáneos. Veamos cómo ..."
   ]
  },
  {
   "cell_type": "code",
   "execution_count": 85,
   "metadata": {},
   "outputs": [],
   "source": [
    "GDD = G.to_directed()"
   ]
  },
  {
   "cell_type": "code",
   "execution_count": 86,
   "metadata": {},
   "outputs": [],
   "source": [
    "dirigidos = {}\n",
    "\n",
    "for e in GDD.edges():\n",
    "    dirigidos[e] = GDD.edges[e]['pasajeros']/2"
   ]
  },
  {
   "cell_type": "code",
   "execution_count": 87,
   "metadata": {},
   "outputs": [
    {
     "data": {
      "text/plain": [
       "{(0, 1): 29.0,\n",
       " (1, 0): 29.0,\n",
       " (1, 2): 16.0,\n",
       " (2, 1): 16.0,\n",
       " (2, 5): 80.0,\n",
       " (3, 4): 5.5,\n",
       " (4, 3): 5.5,\n",
       " (4, 5): 15.5,\n",
       " (5, 4): 15.5,\n",
       " (5, 2): 80.0,\n",
       " (5, 7): 59.0,\n",
       " (6, 7): 23.0,\n",
       " (7, 6): 23.0,\n",
       " (7, 8): 45.0,\n",
       " (7, 5): 59.0,\n",
       " (8, 7): 45.0}"
      ]
     },
     "execution_count": 87,
     "metadata": {},
     "output_type": "execute_result"
    }
   ],
   "source": [
    "dirigidos"
   ]
  },
  {
   "cell_type": "code",
   "execution_count": 88,
   "metadata": {},
   "outputs": [],
   "source": [
    "redondear = {}\n",
    "\n",
    "for uv, attr in dirigidos.items():\n",
    "    if attr not in redondear:\n",
    "        redondear[attr] = [uv]\n",
    "    else:\n",
    "        redondear[attr].append(uv)"
   ]
  },
  {
   "cell_type": "code",
   "execution_count": 89,
   "metadata": {},
   "outputs": [
    {
     "data": {
      "text/plain": [
       "{29.0: [(0, 1), (1, 0)],\n",
       " 16.0: [(1, 2), (2, 1)],\n",
       " 80.0: [(2, 5), (5, 2)],\n",
       " 5.5: [(3, 4), (4, 3)],\n",
       " 15.5: [(4, 5), (5, 4)],\n",
       " 59.0: [(5, 7), (7, 5)],\n",
       " 23.0: [(6, 7), (7, 6)],\n",
       " 45.0: [(7, 8), (8, 7)]}"
      ]
     },
     "execution_count": 89,
     "metadata": {},
     "output_type": "execute_result"
    }
   ],
   "source": [
    "redondear"
   ]
  },
  {
   "cell_type": "code",
   "execution_count": 90,
   "metadata": {},
   "outputs": [],
   "source": [
    "import numpy as np"
   ]
  },
  {
   "cell_type": "code",
   "execution_count": 91,
   "metadata": {},
   "outputs": [],
   "source": [
    "def redondea(pasajeros,resto,eje1,eje2):\n",
    "    d = {}\n",
    "    entero = np.ceil(resto)\n",
    "    sin_decimal = int(pasajeros)\n",
    "    pasajero_adicional = sin_decimal+entero\n",
    "    \n",
    "    eje_seleccionado = random.sample([eje1,eje2],1)[0]\n",
    "    \n",
    "    d[eje_seleccionado] = int(pasajero_adicional)\n",
    "    \n",
    "    if eje_seleccionado == eje1:\n",
    "        d[eje2] = int(sin_decimal)\n",
    "    else:\n",
    "        d[eje1] = int(sin_decimal)\n",
    "    return d"
   ]
  },
  {
   "cell_type": "code",
   "execution_count": 92,
   "metadata": {},
   "outputs": [],
   "source": [
    "redondeados = []\n",
    "for k in redondear.keys():\n",
    "    resto = (k - int(k))\n",
    "    if resto > 0:\n",
    "        pasajeros = k\n",
    "        eje1 = redondear[k][0]\n",
    "        eje2 = redondear[k][1]\n",
    "        redondeados.append(redondea(pasajeros,resto,eje1,eje2))        "
   ]
  },
  {
   "cell_type": "code",
   "execution_count": 93,
   "metadata": {},
   "outputs": [],
   "source": [
    "reemplazos = {}\n",
    "[reemplazos.update(d) for d in redondeados];"
   ]
  },
  {
   "cell_type": "code",
   "execution_count": 94,
   "metadata": {},
   "outputs": [],
   "source": [
    "dirigidos.update(reemplazos) "
   ]
  },
  {
   "cell_type": "code",
   "execution_count": 95,
   "metadata": {},
   "outputs": [],
   "source": [
    "for k,v in dirigidos.items():\n",
    "    GDD.edges[k[0],k[1]]['pasajeros'] = int(v)"
   ]
  },
  {
   "cell_type": "code",
   "execution_count": 96,
   "metadata": {},
   "outputs": [
    {
     "data": {
      "text/plain": [
       "[29, 29, 16, 16, 80, 5, 6, 16, 15, 80, 59, 23, 23, 45, 59, 45]"
      ]
     },
     "execution_count": 96,
     "metadata": {},
     "output_type": "execute_result"
    }
   ],
   "source": [
    "[GDD[u][v]['pasajeros'] for u,v in GDD.edges()]"
   ]
  },
  {
   "cell_type": "code",
   "execution_count": 97,
   "metadata": {},
   "outputs": [
    {
     "data": {
      "image/png": "[encoded data removed]",
      "text/plain": [
       "<Figure size 1224x864 with 1 Axes>"
      ]
     },
     "metadata": {},
     "output_type": "display_data"
    }
   ],
   "source": [
    "# y visualizamos el grafo dirigido\n",
    "fig, ax = plt.subplots(figsize=(17,12))\n",
    "nx.draw(GDD, pos, with_labels=True, arrows=True, connectionstyle='arc3, rad = 0.1', \n",
    "        node_size=400, node_color=colors, ax=ax)\n",
    "\n",
    "ax.set_title('Cantidad de pasajeros por eje en direccionalidad doble')\n",
    "\n",
    "edge_labels = nx.get_edge_attributes(GDD, 'pasajeros')\n",
    "nx.draw_networkx_edge_labels(GDD, pos, edge_labels, font_size=8);"
   ]
  },
  {
   "cell_type": "code",
   "execution_count": 98,
   "metadata": {},
   "outputs": [
    {
     "data": {
      "text/plain": [
       "networkx.classes.digraph.DiGraph"
      ]
     },
     "execution_count": 98,
     "metadata": {},
     "output_type": "execute_result"
    }
   ],
   "source": [
    "# prestemos atención al tipo de grafo\n",
    "type(GDD)"
   ]
  },
  {
   "cell_type": "markdown",
   "metadata": {},
   "source": [
    "Recuerdan que dijimos que los grafos dirigidos no soportaban ejes múltiples? Entonces ..."
   ]
  },
  {
   "cell_type": "code",
   "execution_count": 99,
   "metadata": {},
   "outputs": [
    {
     "data": {
      "text/plain": [
       "1"
      ]
     },
     "execution_count": 99,
     "metadata": {},
     "output_type": "execute_result"
    }
   ],
   "source": [
    "# la cantidad de conexiones entre un par de nodos\n",
    "GDD.number_of_edges(u=1, v=0)"
   ]
  },
  {
   "cell_type": "code",
   "execution_count": 100,
   "metadata": {},
   "outputs": [
    {
     "data": {
      "text/plain": [
       "1"
      ]
     },
     "execution_count": 100,
     "metadata": {},
     "output_type": "execute_result"
    }
   ],
   "source": [
    "# y su ordenamiento inverso , será idéntica. Es decir, nuestro grafo no considera ejes múltiples\n",
    "GDD.number_of_edges(u=0, v=1)"
   ]
  },
  {
   "cell_type": "markdown",
   "metadata": {},
   "source": [
    "Una solución a esto, podría haber sido instanciar un multigrafo y poblarlo desde cero con nuestras conexiones. Ahora bien, esto no hubiera solucionado nuestro problema de representatividad . Es decir, el método `draw` seguiría representado sólo un valor entre arcos (no veríamos etiquetas de ida o vuelta, solamente una de ellas). Y esto, porque como mencionamos, los ejes múltiples se trazan como simples.\n",
    "\n",
    "Algo para *salir del paso*, hubiese sido valernos de nuestras posiciones y plotear las etiquetas directamente con el método [annotate](https://matplotlib.org/stable/tutorials/text/annotations.html) de `matplotlib`. No es algo muy recomendable, pero dadas las limitaciones para visualizar ejes múltiples, no deja de ser una alternativa por fuera de instalar `graphviz`..."
   ]
  },
  {
   "cell_type": "code",
   "execution_count": 101,
   "metadata": {},
   "outputs": [],
   "source": [
    "# instanciamos de nuevo las etiquetas\n",
    "edge_labels = nx.get_edge_attributes(GDD, 'pasajeros')"
   ]
  },
  {
   "cell_type": "code",
   "execution_count": 102,
   "metadata": {},
   "outputs": [],
   "source": [
    "# y asignamos su posición en un punto intermedio entre los nodos del diccionario de posiciones 'pos'\n",
    "p = {}\n",
    "\n",
    "for k,v in pos.items():\n",
    "    \n",
    "    try:\n",
    "        lon = ((pos[k][0]+pos[k+1][0])/2)-0.0001 # nos movemos ligeramente en sentido contrario al eje x\n",
    "        lat = (pos[k][1]+pos[k+1][1])/2\n",
    "        p[(k,k+1)] = (lon,lat)\n",
    "    except:\n",
    "        pass\n",
    "    \n",
    "    if k >= 2 and k+1 <= 3:\n",
    "        del p[k,k+1]\n",
    "        lon = ((pos[k][0]+pos[k+3][0])/2)-0.0001\n",
    "        lat = (pos[k][1]+pos[k+3][1])/2\n",
    "        p[(k,k+3)] = (lon,lat)\n",
    "        \n",
    "    elif k >= 5 and k+1 <= 6:\n",
    "        del p[k,k+1]\n",
    "        lon = ((pos[k][0]+pos[k+2][0])/2)-0.0001\n",
    "        lat = (pos[k][1]+pos[k+2][1])/2\n",
    "        p[(k,k+2)] = (lon,lat)\n",
    "        \n",
    "    else:\n",
    "        pass"
   ]
  },
  {
   "cell_type": "code",
   "execution_count": 103,
   "metadata": {},
   "outputs": [
    {
     "data": {
      "text/plain": [
       "{(0, 1): (-58.389955297707104, -34.6038993856253),\n",
       " (1, 2): (-58.38410549034086, -34.6038653291437),\n",
       " (2, 5): (-58.38074459501526, -34.6039411540723),\n",
       " (3, 4): (-58.38923376988701, -34.6006133587792),\n",
       " (4, 5): (-58.382958350845456, -34.60291618405115),\n",
       " (5, 7): (-58.38015216148175, -34.60454447143845),\n",
       " (6, 7): (-58.3801703490159, -34.60691352739835),\n",
       " (7, 8): (-58.37894288144915, -34.6033068314627)}"
      ]
     },
     "execution_count": 103,
     "metadata": {},
     "output_type": "execute_result"
    }
   ],
   "source": [
    "# aca nuestras nuevas ubicaciones\n",
    "p"
   ]
  },
  {
   "cell_type": "code",
   "execution_count": 104,
   "metadata": {},
   "outputs": [],
   "source": [
    "# modificamos las posiciones para que no se superpongan\n",
    "for k,v in edge_labels.items():\n",
    "    edge_labels[k] = [v]\n",
    "    if k in p.keys():\n",
    "        coords = p[k[0],k[1]]\n",
    "        delta_coords = (coords[0]+0.0001,coords[1]-0.0005) # movemos ligeramente x e y \n",
    "        edge_labels[k].append(delta_coords)\n",
    "    \n",
    "    elif k not in p.keys():\n",
    "        coords = p[k[1],k[0]]\n",
    "        delta_coords = (coords[0]-0.0001,coords[1]+0.0005) # en sentido contrario!\n",
    "        edge_labels[k].append(delta_coords)"
   ]
  },
  {
   "cell_type": "code",
   "execution_count": 105,
   "metadata": {},
   "outputs": [
    {
     "data": {
      "text/plain": [
       "{(0, 1): [29, (-58.3898552977071, -34.6043993856253)],\n",
       " (1, 0): [29, (-58.39005529770711, -34.603399385625295)],\n",
       " (1, 2): [16, (-58.384005490340854, -34.604365329143704)],\n",
       " (2, 1): [16, (-58.38420549034086, -34.6033653291437)],\n",
       " (2, 5): [80, (-58.380644595015255, -34.604441154072305)],\n",
       " (3, 4): [5, (-58.389133769887, -34.6011133587792)],\n",
       " (4, 3): [6, (-58.38933376988701, -34.6001133587792)],\n",
       " (4, 5): [16, (-58.38285835084545, -34.603416184051156)],\n",
       " (5, 4): [15, (-58.38305835084546, -34.60241618405115)],\n",
       " (5, 2): [80, (-58.38084459501526, -34.6034411540723)],\n",
       " (5, 7): [59, (-58.38005216148175, -34.605044471438454)],\n",
       " (6, 7): [23, (-58.380070349015895, -34.60741352739835)],\n",
       " (7, 6): [23, (-58.3802703490159, -34.606413527398345)],\n",
       " (7, 8): [45, (-58.378842881449145, -34.603806831462705)],\n",
       " (7, 5): [59, (-58.380252161481756, -34.60404447143845)],\n",
       " (8, 7): [45, (-58.37904288144915, -34.6028068314627)]}"
      ]
     },
     "execution_count": 105,
     "metadata": {},
     "output_type": "execute_result"
    }
   ],
   "source": [
    "edge_labels"
   ]
  },
  {
   "cell_type": "code",
   "execution_count": 106,
   "metadata": {},
   "outputs": [],
   "source": [
    "# y creamos una funcion para poder plotear con distintas alternativas \n",
    "def plotea_dilabels(names, label_color, alignement):\n",
    "\n",
    "    fig, ax = plt.subplots(figsize=(17,12))\n",
    "    nx.draw(GDD, pos, arrows=True, connectionstyle='arc3, rad = 0.05', \n",
    "            node_size=400, node_color=colors, ax=ax)\n",
    "\n",
    "    nx.draw_networkx_labels(GDD, pos, \n",
    "                            labels=names, \n",
    "                            font_size=10, \n",
    "                            font_color=label_color,\n",
    "                            horizontalalignment=alignement, \n",
    "                            alpha=0.8,\n",
    "                            ax=ax)\n",
    "\n",
    "    ax.set_title('Cantidad de pasajeros por eje en direccionalidad doble')\n",
    "\n",
    "\n",
    "    for k, v in edge_labels.items():\n",
    "        ax.annotate(text = edge_labels[k][0],\n",
    "                    xy=edge_labels[k][1]);"
   ]
  },
  {
   "cell_type": "code",
   "execution_count": 107,
   "metadata": {},
   "outputs": [
    {
     "data": {
      "image/png": "[encoded data removed]",
      "text/plain": [
       "<Figure size 1224x864 with 1 Axes>"
      ]
     },
     "metadata": {},
     "output_type": "display_data"
    }
   ],
   "source": [
    "# primero, usando los nombres de las estaciones\n",
    "plotea_dilabels(names=lab, label_color='grey', alignement='right')"
   ]
  },
  {
   "cell_type": "code",
   "execution_count": 108,
   "metadata": {},
   "outputs": [
    {
     "data": {
      "image/png": "[encoded data removed]",
      "text/plain": [
       "<Figure size 1224x864 with 1 Axes>"
      ]
     },
     "metadata": {},
     "output_type": "display_data"
    }
   ],
   "source": [
    "# o viendo el id del nodo\n",
    "plotea_dilabels(names=None, label_color='white', alignement='center')"
   ]
  },
  {
   "cell_type": "markdown",
   "metadata": {},
   "source": [
    "### 1. 3. Selfloops"
   ]
  },
  {
   "cell_type": "markdown",
   "metadata": {},
   "source": [
    "Otro aspecto que vimos, algunas clases soportaban y otras no, eran los self-loops. Esto no es otra cosa que un nodo conectándose consigo mismo. Veámos con qué métodos y alternativas contamos para detectar este tipo de conexiones en un grafo ..."
   ]
  },
  {
   "cell_type": "code",
   "execution_count": 109,
   "metadata": {},
   "outputs": [],
   "source": [
    "# Como encontrar self loops?\n",
    "\n",
    "def find_selfloop_node(G):\n",
    "    '''\n",
    "    Encontrar nodos con self-loops en un grafo determinado\n",
    "    '''\n",
    "    \n",
    "    nodes_in_selfloops = []\n",
    "    \n",
    "    # Iterar sobre todos los ejes de G\n",
    "    for u,v in G.edges():\n",
    "        \n",
    "        # Chequear si el nodo u y el nodo v son iguales:\n",
    "        if u == v:\n",
    "            nodes_in_selfloops.append(u)\n",
    "            \n",
    "    return nodes_in_selfloops"
   ]
  },
  {
   "cell_type": "code",
   "execution_count": 110,
   "metadata": {},
   "outputs": [
    {
     "data": {
      "text/plain": [
       "1"
      ]
     },
     "execution_count": 110,
     "metadata": {},
     "output_type": "execute_result"
    }
   ],
   "source": [
    "# Usemos un grafo para el que sabemos tenemos self loops\n",
    "len(find_selfloop_node(MD))"
   ]
  },
  {
   "cell_type": "code",
   "execution_count": 111,
   "metadata": {},
   "outputs": [
    {
     "ename": "AssertionError",
     "evalue": "",
     "output_type": "error",
     "traceback": [
      "\u001b[0;31m---------------------------------------------------------------------------\u001b[0m",
      "\u001b[0;31mAssertionError\u001b[0m                            Traceback (most recent call last)",
      "\u001b[0;32m<ipython-input-111-d13eca8e38af>\u001b[0m in \u001b[0;36m<module>\u001b[0;34m\u001b[0m\n\u001b[1;32m      1\u001b[0m \u001b[0;31m# Veamos si nos devuelve error\u001b[0m\u001b[0;34m\u001b[0m\u001b[0;34m\u001b[0m\u001b[0;34m\u001b[0m\u001b[0m\n\u001b[0;32m----> 2\u001b[0;31m \u001b[0;32massert\u001b[0m \u001b[0mnx\u001b[0m\u001b[0;34m.\u001b[0m\u001b[0mnumber_of_selfloops\u001b[0m\u001b[0;34m(\u001b[0m\u001b[0mMD\u001b[0m\u001b[0;34m)\u001b[0m \u001b[0;34m!=\u001b[0m \u001b[0mlen\u001b[0m\u001b[0;34m(\u001b[0m\u001b[0mfind_selfloop_node\u001b[0m\u001b[0;34m(\u001b[0m\u001b[0mMD\u001b[0m\u001b[0;34m)\u001b[0m\u001b[0;34m)\u001b[0m\u001b[0;34m\u001b[0m\u001b[0;34m\u001b[0m\u001b[0m\n\u001b[0m",
      "\u001b[0;31mAssertionError\u001b[0m: "
     ]
    }
   ],
   "source": [
    "# Veamos si nos devuelve error\n",
    "assert nx.number_of_selfloops(MD) != len(find_selfloop_node(MD))"
   ]
  },
  {
   "cell_type": "code",
   "execution_count": 112,
   "metadata": {},
   "outputs": [
    {
     "data": {
      "text/plain": [
       "1"
      ]
     },
     "execution_count": 112,
     "metadata": {},
     "output_type": "execute_result"
    }
   ],
   "source": [
    "# y, efectivamente, el assert nos devuelve error porque los valores no son distintos. Tenemos 1 self-loop!\n",
    "nx.number_of_selfloops(MD)"
   ]
  },
  {
   "cell_type": "markdown",
   "metadata": {},
   "source": [
    "### 1.4. Matrices de adyacencia"
   ]
  },
  {
   "cell_type": "markdown",
   "metadata": {},
   "source": [
    "Las matrices de adyacencia son un concepto muy útil en grafos, más si lo encaramos desde la perspectiva de redes de transporte. Esencialmente porque este tipo de matrices indican con `1` si existe conexión entre un par de nodos y con `0` para lo contrario."
   ]
  },
  {
   "cell_type": "code",
   "execution_count": 113,
   "metadata": {},
   "outputs": [
    {
     "data": {
      "text/plain": [
       "NodeDataView({0: {'estacion': 'CALLAO', 'linea': 'B', 'color': 'red', 'coord': (-58.39241446187341, -34.603705218144896)}, 1: {'estacion': 'URUGUAY', 'linea': 'B', 'color': 'red', 'coord': (-58.3872961335408, -34.6040935531057)}, 2: {'estacion': 'C. PELLEGRINI', 'linea': 'B', 'color': 'red', 'coord': (-58.3807148471409, -34.6036371051817)}, 3: {'estacion': 'CALLAO', 'linea': 'D', 'color': 'green', 'coord': (-58.3931251809727, -34.599639552419)}, 4: {'estacion': 'TRIBUNALES - TEATRO COLÓN', 'linea': 'D', 'color': 'green', 'coord': (-58.3851423588013, -34.6015871651394)}, 5: {'estacion': '9 DE JULIO', 'linea': 'D', 'color': 'green', 'coord': (-58.3805743428896, -34.6042452029629)}, 6: {'estacion': 'AV. DE MAYO', 'linea': 'C', 'color': 'blue', 'coord': (-58.3806107179579, -34.6089833148827)}, 7: {'estacion': 'DIAGONAL NORTE', 'linea': 'C', 'color': 'blue', 'coord': (-58.3795299800739, -34.604843739914)}, 8: {'estacion': 'LAVALLE', 'linea': 'C', 'color': 'blue', 'coord': (-58.3781557828244, -34.6017699230114)}})"
      ]
     },
     "execution_count": 113,
     "metadata": {},
     "output_type": "execute_result"
    }
   ],
   "source": [
    "G.nodes(data=True)"
   ]
  },
  {
   "cell_type": "code",
   "execution_count": 114,
   "metadata": {},
   "outputs": [],
   "source": [
    "# Convertimos a G en una matriz (1 indica si hay edge entre nodos)\n",
    "A = nx.to_numpy_matrix(G)"
   ]
  },
  {
   "cell_type": "code",
   "execution_count": 115,
   "metadata": {},
   "outputs": [
    {
     "data": {
      "text/plain": [
       "matrix([[0., 1., 0., 0., 0., 0., 0., 0., 0.],\n",
       "        [1., 0., 1., 0., 0., 0., 0., 0., 0.],\n",
       "        [0., 1., 0., 0., 0., 1., 0., 0., 0.],\n",
       "        [0., 0., 0., 0., 1., 0., 0., 0., 0.],\n",
       "        [0., 0., 0., 1., 0., 1., 0., 0., 0.],\n",
       "        [0., 0., 1., 0., 1., 0., 0., 1., 0.],\n",
       "        [0., 0., 0., 0., 0., 0., 0., 1., 0.],\n",
       "        [0., 0., 0., 0., 0., 1., 1., 0., 1.],\n",
       "        [0., 0., 0., 0., 0., 0., 0., 1., 0.]])"
      ]
     },
     "execution_count": 115,
     "metadata": {},
     "output_type": "execute_result"
    }
   ],
   "source": [
    "A"
   ]
  },
  {
   "cell_type": "code",
   "execution_count": 116,
   "metadata": {},
   "outputs": [],
   "source": [
    "# también podemos ir en el sentido inverso, convertir la matriz en un grafo\n",
    "A_conv = nx.from_numpy_matrix(A, create_using=nx.Graph())"
   ]
  },
  {
   "cell_type": "code",
   "execution_count": 117,
   "metadata": {},
   "outputs": [],
   "source": [
    "# Veamos si seguimos teniendo el atributo 'pasajeros'\n",
    "for n, d in A_conv.nodes(data=True):\n",
    "    assert 'pasajeros' not in d.keys()"
   ]
  },
  {
   "cell_type": "code",
   "execution_count": 118,
   "metadata": {},
   "outputs": [
    {
     "data": {
      "text/plain": [
       "NodeDataView({0: {}, 1: {}, 2: {}, 3: {}, 4: {}, 5: {}, 6: {}, 7: {}, 8: {}})"
      ]
     },
     "execution_count": 118,
     "metadata": {},
     "output_type": "execute_result"
    }
   ],
   "source": [
    "# cuando pasamos de matriz a grafo, perdemos la metadata\n",
    "A_conv.nodes(data=True)"
   ]
  },
  {
   "cell_type": "markdown",
   "metadata": {},
   "source": [
    "Una herramienta bastante interesante para visualizar estas matrices es el método `MatrixPlot` de la librería [nxviz](https://github.com/ericmjl/nxviz). Esta permite expandirse un poco más allá de las limitaciones que mencionamos anteriormente. Uno de los principales contribuyentes es el desarrollador de NetworkX, [Eric Ma](https://github.com/ericmjl). Veamos un breve ejemplo."
   ]
  },
  {
   "cell_type": "code",
   "execution_count": 119,
   "metadata": {},
   "outputs": [],
   "source": [
    "#!pip install nxviz"
   ]
  },
  {
   "cell_type": "code",
   "execution_count": 120,
   "metadata": {},
   "outputs": [],
   "source": [
    "import nxviz as nv"
   ]
  },
  {
   "cell_type": "code",
   "execution_count": 121,
   "metadata": {},
   "outputs": [
    {
     "data": {
      "image/png": "[encoded data removed]",
      "text/plain": [
       "<Figure size 432x432 with 1 Axes>"
      ]
     },
     "metadata": {
      "needs_background": "light"
     },
     "output_type": "display_data"
    }
   ],
   "source": [
    "adj = nv.MatrixPlot(A_conv)\n",
    "adj.draw()\n",
    "plt.show()"
   ]
  },
  {
   "cell_type": "markdown",
   "metadata": {},
   "source": [
    "## Sección 2: Métricas de un grafo"
   ]
  },
  {
   "cell_type": "markdown",
   "metadata": {},
   "source": [
    "Como vimos, un grafo se compone por nodos y enlaces que los conectan. Al mismo tiempo, entendimos que la manera en la que estos se vinculan define varios tipos de grafos. \n",
    "\n",
    "Asimismo, es importante remarcar que para describir una red, los grafos cuentan con distintas métricas. Todas ellas, detallan la manera en la que los nodos se encuentran conectados. De allí, la importancia del tipo de grafo que elijamos para representar una red determinada. \n",
    "\n",
    "En otras palabras, las métricas de una red también se encuentran sujetas al tipo de grafo que hayamos elegido para representarla. No es lo mismo describir relaciones simétricas sin un sentido definido que otras que sí lo tienen. Por lo tanto, seguiremos trabajando bajo la idea de grafos dirigidos y no dirigidos. \n",
    "\n",
    "Veamos cómo esto incide en la manera de caracterizar cuantitativamente un grafo."
   ]
  },
  {
   "cell_type": "markdown",
   "metadata": {},
   "source": [
    "### 2.1. Node degree"
   ]
  },
  {
   "cell_type": "markdown",
   "metadata": {},
   "source": [
    "Una métrica esencial para describir una red es el [grado de un nodo](https://networkx.org/documentation/stable/reference/classes/generated/networkx.Graph.degree.html). Este puede definirse como el número de ejes adyacentes a un nodo. \n",
    "\n",
    "También se puede hablar del grado ponderado de un nodo. Si, por ejemplo, nuestra ponderación se apoyara en la cantidad de pasajeros que guardamos como atributo del eje, el grado ponderado sería la suma de todos esos pasajeros (o pesos) que inciden en el nodo en cuestión. \n",
    "\n",
    "Otra detalle relevante para definir el grado de un nodo es el tipo del grafo. Si trabajamos con direccionalidad, es importante remarcar que el grado será la suma de las conexiones entrantes y salientes, como se puede apreciar a continuación ..."
   ]
  },
  {
   "cell_type": "markdown",
   "metadata": {},
   "source": [
    "<img align=\"center\" width=\"1500\" height=\"500\" src=\"../imagenes/distribucion_grados.png\" style=\"float: center; padding: 0 15px\">"
   ]
  },
  {
   "cell_type": "code",
   "execution_count": 122,
   "metadata": {},
   "outputs": [
    {
     "data": {
      "text/plain": [
       "networkx.classes.graph.Graph"
      ]
     },
     "execution_count": 122,
     "metadata": {},
     "output_type": "execute_result"
    }
   ],
   "source": [
    "# retomemos nuestro grafo no dirigido inicial\n",
    "type(G)"
   ]
  },
  {
   "cell_type": "code",
   "execution_count": 123,
   "metadata": {},
   "outputs": [
    {
     "data": {
      "text/plain": [
       "(NodeView((0, 1, 2, 3, 4, 5, 6, 7, 8)),\n",
       " EdgeView([(0, 1), (1, 2), (2, 5), (3, 4), (4, 5), (5, 7), (6, 7), (7, 8)]))"
      ]
     },
     "execution_count": 123,
     "metadata": {},
     "output_type": "execute_result"
    }
   ],
   "source": [
    "# por ejemplo, el nodo 7 se conecta simétricamente con los nodos 5, 6 y 8\n",
    "G.nodes(), G.edges()"
   ]
  },
  {
   "cell_type": "code",
   "execution_count": 124,
   "metadata": {},
   "outputs": [
    {
     "data": {
      "text/plain": [
       "3"
      ]
     },
     "execution_count": 124,
     "metadata": {},
     "output_type": "execute_result"
    }
   ],
   "source": [
    "# con lo cual sabemos que es un nodo de grado 3\n",
    "G.degree[7]"
   ]
  },
  {
   "cell_type": "code",
   "execution_count": 125,
   "metadata": {},
   "outputs": [
    {
     "data": {
      "text/plain": [
       "[(0, 1), (1, 2), (2, 2), (3, 1), (4, 2), (5, 3), (6, 1), (7, 3), (8, 1)]"
      ]
     },
     "execution_count": 125,
     "metadata": {},
     "output_type": "execute_result"
    }
   ],
   "source": [
    "# así también podemos ver los grados de todos los nodos en el grafo\n",
    "list(G.degree(G.nodes()))"
   ]
  },
  {
   "cell_type": "code",
   "execution_count": 126,
   "metadata": {},
   "outputs": [
    {
     "data": {
      "text/plain": [
       "networkx.classes.digraph.DiGraph"
      ]
     },
     "execution_count": 126,
     "metadata": {},
     "output_type": "execute_result"
    }
   ],
   "source": [
    "# y si estuviésemos trabajando con un grafo dirigido\n",
    "type(GDD)"
   ]
  },
  {
   "cell_type": "code",
   "execution_count": 127,
   "metadata": {},
   "outputs": [
    {
     "data": {
      "text/plain": [
       "(NodeView((0, 1, 2, 3, 4, 5, 6, 7, 8)),\n",
       " OutEdgeView([(0, 1), (1, 0), (1, 2), (2, 1), (2, 5), (3, 4), (4, 3), (4, 5), (5, 4), (5, 2), (5, 7), (6, 7), (7, 6), (7, 8), (7, 5), (8, 7)]))"
      ]
     },
     "execution_count": 127,
     "metadata": {},
     "output_type": "execute_result"
    }
   ],
   "source": [
    "# deberíamos interpretar que de izquierda a derecha la relación es un out, mientras que a la inversa es un indegree\n",
    "GDD.nodes(), GDD.edges()"
   ]
  },
  {
   "cell_type": "code",
   "execution_count": 128,
   "metadata": {},
   "outputs": [
    {
     "data": {
      "text/plain": [
       "6"
      ]
     },
     "execution_count": 128,
     "metadata": {},
     "output_type": "execute_result"
    }
   ],
   "source": [
    "# por ejemplo, el 7 tiene 3 relaciones salientes y 3 entrantes\n",
    "GDD.degree[7]"
   ]
  },
  {
   "cell_type": "code",
   "execution_count": 129,
   "metadata": {},
   "outputs": [
    {
     "data": {
      "text/plain": [
       "[(0, 2), (1, 4), (2, 4), (3, 2), (4, 4), (5, 6), (6, 2), (7, 6), (8, 2)]"
      ]
     },
     "execution_count": 129,
     "metadata": {},
     "output_type": "execute_result"
    }
   ],
   "source": [
    "list(GDD.degree(GDD.nodes()))"
   ]
  },
  {
   "cell_type": "markdown",
   "metadata": {},
   "source": [
    "### 2.2. Grado promedio de una red"
   ]
  },
  {
   "cell_type": "markdown",
   "metadata": {},
   "source": [
    "Ahora, no hablaremos de los componentes de la red. Sino, de la red misma. Es decir, el grado promedio es una medida de conectividad de la red que indica, en promedio, con cuántos vecinos conecta un nodo dentro de la red."
   ]
  },
  {
   "cell_type": "markdown",
   "metadata": {},
   "source": [
    "<img align=\"center\" width=\"1500\" height=\"500\" src=\"../imagenes/grado_promedio_red.png\" style=\"float: center; padding: 0 15px\">"
   ]
  },
  {
   "cell_type": "markdown",
   "metadata": {},
   "source": [
    "Para un grafo no dirigido, podríamos decir que el grado promedio es igual a la suma de los grados de todos sus nodos, dividido por la totalidad de nodos en el grafo. La suma de los grados también podría ser interpretada como la cantidad de ejes multiplicada por dos. Dado que estos son simétricos y, por lo tanto, cuentan más de una vez otorgan un grado a cada uno de los dos nodos: de A a B y de B a A. Veamos un ejemplo."
   ]
  },
  {
   "cell_type": "code",
   "execution_count": 130,
   "metadata": {},
   "outputs": [
    {
     "data": {
      "text/plain": [
       "(8, 9)"
      ]
     },
     "execution_count": 130,
     "metadata": {},
     "output_type": "execute_result"
    }
   ],
   "source": [
    "# tenemos 8 ejes conectando 9 nodos\n",
    "G.number_of_edges(), G.number_of_nodes()"
   ]
  },
  {
   "cell_type": "code",
   "execution_count": 131,
   "metadata": {},
   "outputs": [],
   "source": [
    "# o, puesto en otros términos\n",
    "grados = 0\n",
    "for n in G.nodes():\n",
    "    grados += G.degree[n]"
   ]
  },
  {
   "cell_type": "code",
   "execution_count": 132,
   "metadata": {},
   "outputs": [
    {
     "data": {
      "text/plain": [
       "16"
      ]
     },
     "execution_count": 132,
     "metadata": {},
     "output_type": "execute_result"
    }
   ],
   "source": [
    "# o 16 conexiones o ejes adyacentes entre nuestros 9 nodos\n",
    "grados"
   ]
  },
  {
   "cell_type": "code",
   "execution_count": 133,
   "metadata": {},
   "outputs": [
    {
     "data": {
      "text/plain": [
       "2.0"
      ]
     },
     "execution_count": 133,
     "metadata": {},
     "output_type": "execute_result"
    }
   ],
   "source": [
    "# Entonces podríamos calcular el grado promedio multiplicando los ejes simétricamente (como en la fórmula)\n",
    "np.ceil((2*G.number_of_edges())/G.number_of_nodes())"
   ]
  },
  {
   "cell_type": "code",
   "execution_count": 134,
   "metadata": {},
   "outputs": [
    {
     "data": {
      "text/plain": [
       "2.0"
      ]
     },
     "execution_count": 134,
     "metadata": {},
     "output_type": "execute_result"
    }
   ],
   "source": [
    "# o usando la suma de los grados de los nodos, que sería lo mismo\n",
    "np.ceil(grados/G.number_of_nodes())"
   ]
  },
  {
   "cell_type": "markdown",
   "metadata": {},
   "source": [
    "En cambio, en un grafo dirigido cada eje o enlace representa 1 grado y no dos (como en el no dirigido). Esto porque otorgan un sólo un grado de entrada o salida al nodo (de A a B o de B a A). Por lo tanto, para un grafo dirigido, el grado promedio es simplemente el número de aristas o ejes dividido por el número de vértices o nodos."
   ]
  },
  {
   "cell_type": "code",
   "execution_count": 135,
   "metadata": {},
   "outputs": [
    {
     "data": {
      "text/plain": [
       "1.0"
      ]
     },
     "execution_count": 135,
     "metadata": {},
     "output_type": "execute_result"
    }
   ],
   "source": [
    "np.ceil((GD.number_of_edges())/GD.number_of_nodes())"
   ]
  },
  {
   "cell_type": "markdown",
   "metadata": {},
   "source": [
    "¿Y cómo interpretamos esta métrica? Si bien los grafos que estamos usando no fueron estrictamente pensados para su comparabilidad, el grado promedio podría servir para evaluar cuan conectados entre sí se encuentran los componentes de una red. Por ejemplo, en nuestro grafo no dirigido sabemos que, en promedio, cada nodo conecta con casi otros dos. Obviamente porque en un grafo no dirigido las relaciones son recíprocas. Mientras que en el ejemplo dirigido, sabemos que todos los nodos conectan entre sí.  "
   ]
  },
  {
   "cell_type": "markdown",
   "metadata": {},
   "source": [
    "### 2.3. Degree centrality"
   ]
  },
  {
   "cell_type": "markdown",
   "metadata": {},
   "source": [
    "El [degree centrality](https://networkx.org/documentation/stable/reference/algorithms/generated/networkx.algorithms.centrality.degree_centrality.html) es una medida de centralidad del nodo en la red. Si el grado del nodo es la cantidad de ejes adyacentes al mismo, esta métrica no indica otra cosa que ese mismo valor expresado en un ratio 0-1. Esto facilita la lectura. Es decir, permite interpretar rápidamente cuan relevante es un nodo en la red sin tener en cuenta la totalidad de conexiones dentro de la misma. En otras palabras, valores cercanos a 1 indican mayor centralidad dentro de la red. \n",
    "\n",
    "Esta métrica suele calcularse dividiendo la cantidad de vecinos o grado del nodo por la totalidad de conexiones posibles dentro de la red. Esto es, la cantidad total de ejes dentro del grafo (en el caso que todos los nodos estuviesen conectados con al menos un vecino, es decir ningún nodo aislado) o el total de nodos -1 (es decir, todas las conexiones posibles).\n",
    "\n",
    "Por lo tanto el grado de centralidad es una medida de relevancia dentro de la red que indica la cantidad de conexiones o vecinos efectivos sobre las que se podría tener. Un `degree centrality` de 0.2 indica que dicho nodo mantiene una conexión efectiva con el 20% del total de conexiones posibles. Veamos cómo calcular esta medida."
   ]
  },
  {
   "cell_type": "code",
   "execution_count": 136,
   "metadata": {},
   "outputs": [
    {
     "data": {
      "text/plain": [
       "[1, 5]"
      ]
     },
     "execution_count": 136,
     "metadata": {},
     "output_type": "execute_result"
    }
   ],
   "source": [
    "# Volviendo a nuestro grafo no dirigido, podemos ver que el nodo 2 tiene dos vecinos\n",
    "list(G.neighbors(2))"
   ]
  },
  {
   "cell_type": "code",
   "execution_count": 137,
   "metadata": {},
   "outputs": [
    {
     "data": {
      "text/plain": [
       "2"
      ]
     },
     "execution_count": 137,
     "metadata": {},
     "output_type": "execute_result"
    }
   ],
   "source": [
    "# lo que equivale a decir que es un nodo de grado 2\n",
    "G.degree[2]"
   ]
  },
  {
   "cell_type": "code",
   "execution_count": 138,
   "metadata": {},
   "outputs": [
    {
     "data": {
      "text/plain": [
       "0.25"
      ]
     },
     "execution_count": 138,
     "metadata": {},
     "output_type": "execute_result"
    }
   ],
   "source": [
    "# con una centralidad del 25%, ya sea la calculemos por el total de nodos\n",
    "G.degree[2]/(G.number_of_nodes()-1)"
   ]
  },
  {
   "cell_type": "code",
   "execution_count": 139,
   "metadata": {},
   "outputs": [
    {
     "data": {
      "text/plain": [
       "0.25"
      ]
     },
     "execution_count": 139,
     "metadata": {},
     "output_type": "execute_result"
    }
   ],
   "source": [
    "# o de ejes ...\n",
    "G.degree[2]/(G.number_of_edges())"
   ]
  },
  {
   "cell_type": "code",
   "execution_count": 140,
   "metadata": {},
   "outputs": [
    {
     "data": {
      "text/plain": [
       "{0: 0.125,\n",
       " 1: 0.25,\n",
       " 2: 0.25,\n",
       " 3: 0.125,\n",
       " 4: 0.25,\n",
       " 5: 0.375,\n",
       " 6: 0.125,\n",
       " 7: 0.375,\n",
       " 8: 0.125}"
      ]
     },
     "execution_count": 140,
     "metadata": {},
     "output_type": "execute_result"
    }
   ],
   "source": [
    "# Y con el método degree centrality podemos obtener un diccionario con la centralidad de cada nodo\n",
    "deg_cent = nx.degree_centrality(G)\n",
    "deg_cent"
   ]
  },
  {
   "cell_type": "code",
   "execution_count": 141,
   "metadata": {},
   "outputs": [
    {
     "data": {
      "image/png": "[encoded data removed]",
      "text/plain": [
       "<Figure size 1224x576 with 3 Axes>"
      ]
     },
     "metadata": {
      "needs_background": "light"
     },
     "output_type": "display_data"
    }
   ],
   "source": [
    "fig = plt.figure(figsize=(17,8))\n",
    "ax1 = fig.add_subplot(3,3,1)\n",
    "ax2 = fig.add_subplot(3,3,2)\n",
    "ax3 = fig.add_subplot(3,3,3)\n",
    "\n",
    "# Agregamos un histograma con la distribucion de los node degree,\n",
    "ax1.hist([len(list(G.neighbors(n))) for n in G.nodes()], color='lightcoral')\n",
    "\n",
    "# un histograma con la distribucion del degree centrality y\n",
    "ax2.hist(list(deg_cent.values()), color='lightsalmon')\n",
    "\n",
    "# y un scatter comparando ambos valores\n",
    "ax3.scatter(x=[G.degree[n] for n in G.nodes()],color='tomato' ,\n",
    "            y=list(deg_cent.values()))\n",
    "ax1.set_title('Distribución de los grados')\n",
    "ax1.grid(True)\n",
    "ax2.set_title('Centralidad de los grados')\n",
    "ax2.grid(True)\n",
    "ax3.set_title('Centralidad y distribución de los grados')\n",
    "ax3.grid(True);"
   ]
  },
  {
   "cell_type": "markdown",
   "metadata": {},
   "source": [
    "Con un grafo dirigido, no hubiese sido muy diferente. Siempre teniendo en cuenta la diferencia que se agregan las conexiones entrantes y salientes. Veamos un ejemplo breve ..."
   ]
  },
  {
   "cell_type": "code",
   "execution_count": 142,
   "metadata": {},
   "outputs": [
    {
     "data": {
      "text/plain": [
       "networkx.classes.digraph.DiGraph"
      ]
     },
     "execution_count": 142,
     "metadata": {},
     "output_type": "execute_result"
    }
   ],
   "source": [
    "# en un grafo dirigido\n",
    "type(GDD)"
   ]
  },
  {
   "cell_type": "code",
   "execution_count": 143,
   "metadata": {},
   "outputs": [
    {
     "data": {
      "text/plain": [
       "OutEdgeView([(0, 1), (1, 0), (1, 2), (2, 1), (2, 5), (3, 4), (4, 3), (4, 5), (5, 4), (5, 2), (5, 7), (6, 7), (7, 6), (7, 8), (7, 5), (8, 7)])"
      ]
     },
     "execution_count": 143,
     "metadata": {},
     "output_type": "execute_result"
    }
   ],
   "source": [
    "# seleccionamos arbitrariamente alguno de sus nodod\n",
    "GDD.edges()"
   ]
  },
  {
   "cell_type": "markdown",
   "metadata": {},
   "source": [
    "Es decir, a la hora de determinar el grado del nodo, cuentan tanto los in como los out degree, ambos deben ser sumados. Por ejemplo, el nodo 2 tiene dos vecinos. Pero se conecta con 1 de manera entrante y saliente. De la misma forma, lo hace con 5. Así, el grado del nodo 2 es de 4 conexiones adyacentes.  "
   ]
  },
  {
   "cell_type": "code",
   "execution_count": 144,
   "metadata": {},
   "outputs": [
    {
     "data": {
      "text/plain": [
       "[1, 5]"
      ]
     },
     "execution_count": 144,
     "metadata": {},
     "output_type": "execute_result"
    }
   ],
   "source": [
    "# el nodo 2 tiene dos vecinos\n",
    "list(GDD.neighbors(2))"
   ]
  },
  {
   "cell_type": "code",
   "execution_count": 145,
   "metadata": {},
   "outputs": [
    {
     "data": {
      "text/plain": [
       "4"
      ]
     },
     "execution_count": 145,
     "metadata": {},
     "output_type": "execute_result"
    }
   ],
   "source": [
    "# entre ambos alcanza un grado de 4 conexiones adyacentes\n",
    "GDD.degree(2)"
   ]
  },
  {
   "cell_type": "code",
   "execution_count": 146,
   "metadata": {},
   "outputs": [
    {
     "data": {
      "text/plain": [
       "4"
      ]
     },
     "execution_count": 146,
     "metadata": {},
     "output_type": "execute_result"
    }
   ],
   "source": [
    "# dos entrantes y dos salientes\n",
    "GDD.in_degree(2) + GDD.out_degree(2) "
   ]
  },
  {
   "cell_type": "code",
   "execution_count": 147,
   "metadata": {},
   "outputs": [
    {
     "data": {
      "text/plain": [
       "0.5"
      ]
     },
     "execution_count": 147,
     "metadata": {},
     "output_type": "execute_result"
    }
   ],
   "source": [
    "# lo que le otorga una centralidad de 0.5 dentro del grafo\n",
    "GDD.degree[2]/(GDD.number_of_nodes()-1)"
   ]
  },
  {
   "cell_type": "markdown",
   "metadata": {},
   "source": [
    "...y aca todos los ratios de centralidad para nuestro grafo dirigido. Las estaciones 7 y 5 parecerian ser las de mayor centralidad. Es decir, son nodos centrales dentro de la red!"
   ]
  },
  {
   "cell_type": "code",
   "execution_count": 148,
   "metadata": {},
   "outputs": [
    {
     "data": {
      "text/plain": [
       "{0: 0.25, 1: 0.5, 2: 0.5, 3: 0.25, 4: 0.5, 5: 0.75, 6: 0.25, 7: 0.75, 8: 0.25}"
      ]
     },
     "execution_count": 148,
     "metadata": {},
     "output_type": "execute_result"
    }
   ],
   "source": [
    "nx.degree_centrality(GDD)"
   ]
  },
  {
   "cell_type": "markdown",
   "metadata": {},
   "source": [
    "## **Ejercitación**\n",
    "\n",
    "Armar dos funciones que devuelvan:\n",
    "\n",
    "1. el nodo con degree y degree centrality más altos\n",
    "2. un nodo según la cantidad deseada de vecinos"
   ]
  },
  {
   "cell_type": "code",
   "execution_count": 149,
   "metadata": {},
   "outputs": [],
   "source": [
    "# Desarrollar ejercicio"
   ]
  },
  {
   "cell_type": "markdown",
   "metadata": {},
   "source": [
    "### Solución"
   ]
  },
  {
   "cell_type": "markdown",
   "metadata": {},
   "source": [
    "##### 1. Nodos por máximo degree y degree centrality "
   ]
  },
  {
   "cell_type": "code",
   "execution_count": 150,
   "metadata": {},
   "outputs": [],
   "source": [
    "# Funcion para filtrar nodos según degree y degree centrality\n",
    "def max_centrality(graph, metric, top_vals):\n",
    "    \"\"\"\n",
    "    Devuelve una lista ordenada de tuplas con los nodos de mayor grado dentro de la red\n",
    "    \"\"\"\n",
    "    \n",
    "    # establecemos al grado a partir de la cantidad de vecinos\n",
    "    degree = [(n,graph.degree(n)) for n in graph.nodes()]\n",
    "    \n",
    "    # Definimos el denominador\n",
    "    nodes = graph.number_of_nodes()-1\n",
    "    \n",
    "    # y calculamos la centralidad\n",
    "    centrality = [(n,graph.degree(n)/nodes) for n in graph.nodes()]\n",
    "\n",
    "    \n",
    "    if metric == 'degree':\n",
    "        m = degree\n",
    "    else:\n",
    "        m = centrality\n",
    "    \n",
    "    # ordenamos la lista y obtenemos los n indices mas altos\n",
    "    idx = sorted(range(len(m)), key = lambda sub: m[sub][1], reverse=True)[:top_vals]\n",
    "    \n",
    "    # filtramos la lista de tuplas con los indices mas altos\n",
    "    output = [m[i] for i in idx]\n",
    "    \n",
    "    return output"
   ]
  },
  {
   "cell_type": "code",
   "execution_count": 151,
   "metadata": {},
   "outputs": [
    {
     "data": {
      "text/plain": [
       "[(5, 3), (7, 3)]"
      ]
     },
     "execution_count": 151,
     "metadata": {},
     "output_type": "execute_result"
    }
   ],
   "source": [
    "# Obtenemos los nodos con mayor grado dentro de la red\n",
    "max_centrality(graph=G, metric='degree', top_vals=2)"
   ]
  },
  {
   "cell_type": "code",
   "execution_count": 152,
   "metadata": {},
   "outputs": [
    {
     "data": {
      "text/plain": [
       "[(5, 0.375), (7, 0.375)]"
      ]
     },
     "execution_count": 152,
     "metadata": {},
     "output_type": "execute_result"
    }
   ],
   "source": [
    "# y ahora lo mismo pero usando el degree centrality\n",
    "max_centrality(graph=G, metric='centrality', top_vals=2)"
   ]
  },
  {
   "cell_type": "markdown",
   "metadata": {},
   "source": [
    "##### 2. Seleccionar nodos por cantidad de vecinos"
   ]
  },
  {
   "cell_type": "code",
   "execution_count": 153,
   "metadata": {},
   "outputs": [],
   "source": [
    "# Funcion para obtener nodos segun la cantidad de vecinos\n",
    "def nodes_with_m_nbrs(graph, m):\n",
    "    \"\"\"\n",
    "    Devuelce los nodos con m vecinos dentro de la red.\n",
    "    \"\"\"\n",
    "    nodes = set()\n",
    "\n",
    "    # Iteramos sobre todos los nodos\n",
    "    for n in graph.nodes():\n",
    "\n",
    "        # chequeamos el el numero de vecinos matchee con el parametro m\n",
    "        if len(list(graph.neighbors(n))) == m:\n",
    "\n",
    "            # Agregamos el nodo al set\n",
    "            nodes.add(n)\n",
    "    \n",
    "    # devolvemos el nodo segun cantidad de vecinos\n",
    "    return nodes"
   ]
  },
  {
   "cell_type": "code",
   "execution_count": 154,
   "metadata": {},
   "outputs": [
    {
     "name": "stdout",
     "output_type": "stream",
     "text": [
      "{5, 7}\n"
     ]
    }
   ],
   "source": [
    "# Obtenemos los nodos con tres vecinos\n",
    "tres_vecinos = nodes_with_m_nbrs(graph=G, m=3)\n",
    "print(tres_vecinos)"
   ]
  },
  {
   "cell_type": "markdown",
   "metadata": {},
   "source": [
    "### 2.4. Distancias y búsqueda de caminos"
   ]
  },
  {
   "cell_type": "markdown",
   "metadata": {},
   "source": [
    "Antes de seguir adentrándonos en otras métricas, es importante entender la noción de distancia dentro de un grafo. Si bien puede parecer algo bastante evidente, su vínculo con problemas tales como la identificación de relaciones de vecindad o del camino más corto entre nodos nos permitirá comprender con mayor detalle algunas cuestiones adicionales que hacen a la centralidad dentro de una red.\n",
    "\n",
    "En teoría de grafos, la [distancia](https://es.wikipedia.org/wiki/Distancia_(teor%C3%ADa_de_grafos)) puede ser definida como la cantidad mínima de nodos que deben recorrerse para conectar dos extremos.\n",
    "\n",
    "Por tanto, es posible que al analizar el grado de conectividad dentro de una red nos encontremos frente dos tipos de situaciones. Primero que exista (o no) un camino o conexión entre pares de nodos. Y segundo, que hayan diversas formas de conexión, existiendo siempre una más corta para llegar de un extremo a otro. En inglés, esto suele conocerse como `path finding` y `shortest path`. "
   ]
  },
  {
   "cell_type": "markdown",
   "metadata": {},
   "source": [
    "#### 2.4.1.  Path finding"
   ]
  },
  {
   "cell_type": "code",
   "execution_count": 155,
   "metadata": {},
   "outputs": [
    {
     "data": {
      "image/png": "[encoded data removed]",
      "text/plain": [
       "<Figure size 432x288 with 1 Axes>"
      ]
     },
     "metadata": {},
     "output_type": "display_data"
    }
   ],
   "source": [
    "# Comencemos por recordar el grafo no dirigido que contruimos previamente\n",
    "nx.draw(G,pos, with_labels=True, font_color='white', node_size=400, node_color=colors)"
   ]
  },
  {
   "cell_type": "code",
   "execution_count": 156,
   "metadata": {},
   "outputs": [
    {
     "data": {
      "text/plain": [
       "NodeView((0, 1, 2, 3, 4, 5, 6, 7, 8))"
      ]
     },
     "execution_count": 156,
     "metadata": {},
     "output_type": "execute_result"
    }
   ],
   "source": [
    "# Este contaba con un total de ocho nodos o estaciones\n",
    "G.nodes"
   ]
  },
  {
   "cell_type": "markdown",
   "metadata": {},
   "source": [
    "Ahora, armemos una función que nos permita identificar un mismo par de nodos de la red se encuentra conectado."
   ]
  },
  {
   "cell_type": "code",
   "execution_count": 157,
   "metadata": {},
   "outputs": [],
   "source": [
    "def existe_path_entre_nodos(grafo, nodo1, nodo2):\n",
    "    \"\"\"\n",
    "    Verifica si los nodos 1 y 2 de un grafo se encuentran conectados por un mismo eje.\n",
    "    \"\"\"\n",
    "\n",
    "    # inicializamos una lista con el extremo inicial de cada path o camino que vamos a recorrer\n",
    "    cabeceras = [nodo1]\n",
    "    \n",
    "    # creamos un contador para almacenar la cantidad de nodos intermedios\n",
    "    distancia = 0\n",
    "\n",
    "    # iteramos la lista de nodos cabecera que almacenamos previamente\n",
    "    for nodo in cabeceras:\n",
    "\n",
    "        # Obtenemos los vecinos de cada nodo cabecera\n",
    "        vecinos = grafo.neighbors(nodo)\n",
    "\n",
    "        # y verificamos si el nodo de destino se encuentra dentro de los vecinos del nodo cabecera\n",
    "        if nodo2 in vecinos:\n",
    "            print('Existe un camino adyacente entre los nodos {} y {}'.format(nodo1, nodo2))\n",
    "            # agregamos un nodo de distancia por conexión adyacente\n",
    "            distancia += 1\n",
    "            return distancia\n",
    "            \n",
    "        else:\n",
    "            print('No existe adyacencia entre nodos {} y {}'.format(nodo1, nodo2))\n",
    "            return distancia "
   ]
  },
  {
   "cell_type": "markdown",
   "metadata": {},
   "source": [
    "Vamos a aplicar esta función para evaluar la presencia de caminos adyacentes en alguna de las líneas de subte que creamos en nuestro grafo no dirigido. Si bien puede parecer algo evidente, veamos qué nos devuelve esta función si la usamos sobre los nodos de, por ejemplo, la línea B. "
   ]
  },
  {
   "cell_type": "code",
   "execution_count": 158,
   "metadata": {},
   "outputs": [
    {
     "name": "stdout",
     "output_type": "stream",
     "text": [
      "Existe un camino adyacente entre los nodos 0 y 1\n",
      "Existe un camino adyacente entre los nodos 1 y 2\n",
      "Los estaciones 0 y 2 están separadas por 1 nodo de distancia y suman 2 conexiones adyacentes\n"
     ]
    }
   ],
   "source": [
    "# utilizamos los nodos 0,1 y 2\n",
    "nodos_b = list(G.nodes)[:2]\n",
    "for i in nodos_b:\n",
    "    d = existe_path_entre_nodos(grafo=G, nodo1=i, nodo2=i+1)\n",
    "\n",
    "c = d * len(nodos_b)\n",
    "a = nodos_b[0]\n",
    "b = nodos_b[-1]+1\n",
    "print('Los estaciones {} y {} están separadas por {} nodo de distancia y suman {} conexiones adyacentes'.format(a,\n",
    "                                                                                                                b,\n",
    "                                                                                                                d,\n",
    "                                                                                                                c))"
   ]
  },
  {
   "cell_type": "markdown",
   "metadata": {},
   "source": [
    "En términos muy sencillos, lo que estamos haciendo en este ejemplo, es determinar la distancia entre nodos en un grafo no dirigido. Más allá del tipo de grafo, esta métrica puede determinarse de dos maneras. Considerando ejes ponderados o sin ponderar (en inglés, `weighted`). En lo que acabamos de ver, nuestro contador agregaba `1` por cada conexión adyacente por lo que podemos decir que estamos midiendo la distancia a partir de ejes que no tienen ningún peso. Es decir, valen lo mismo.\n",
    "\n",
    "Ahora bien, debemos tener cuidado con algo y esto es que nuestra función está contemplando conexiones adyacentes! Es decir, conexiones que podrían ser caminos intermedios entre dos vértices que efectivamente se encuentran conectados.  "
   ]
  },
  {
   "cell_type": "code",
   "execution_count": 159,
   "metadata": {},
   "outputs": [
    {
     "name": "stdout",
     "output_type": "stream",
     "text": [
      "No existe adyacencia entre nodos 2 y 3\n"
     ]
    },
    {
     "data": {
      "text/plain": [
       "0"
      ]
     },
     "execution_count": 159,
     "metadata": {},
     "output_type": "execute_result"
    }
   ],
   "source": [
    "# Por ejemplo, que no haya conexión adyacente entre el último nodo de la línea B y el primero de la D ... \n",
    "existe_path_entre_nodos(grafo=G, nodo1=2, nodo2=3)"
   ]
  },
  {
   "cell_type": "markdown",
   "metadata": {},
   "source": [
    "...no significa que ambas líneas no se encuentren conectadas. La función que acabamos de crear nos indica si un par de nodos son adyacentes o no, algo similar a lo que vimos con las matrices pero de una manera programática bastante diferente. Iterando en un for, este método nos permite identificar si existen caminos intermedios entre dos vértices ordenados."
   ]
  },
  {
   "cell_type": "code",
   "execution_count": 160,
   "metadata": {},
   "outputs": [
    {
     "name": "stdout",
     "output_type": "stream",
     "text": [
      "Existe un camino adyacente entre los nodos 5 y 2\n"
     ]
    },
    {
     "data": {
      "text/plain": [
       "1"
      ]
     },
     "execution_count": 160,
     "metadata": {},
     "output_type": "execute_result"
    }
   ],
   "source": [
    "# Como, por ejemplo, el 5 y el 2\n",
    "existe_path_entre_nodos(grafo=G, nodo1=5, nodo2=2)"
   ]
  },
  {
   "cell_type": "markdown",
   "metadata": {},
   "source": [
    "En definitiva, lo que acabamos de hacer es identificar caminos intermedios que luego vamos a sumar para establecer la distancia total entre dos extremos que debemos definir por fuera de la función previa. Es decir, lo que vayamos a establecer como extremos de un recorrido está, en términos programáticos, por fuera de nuestra función de caminos adyacentes. \n",
    "\n",
    "Este problema, al que nos referimos como `path finding` se encuentra implícito en otro que mencionamos previamente. Para determinar cuál es el camino más corto entre nodos de una red, debemos  verificar previamente, que los vértices intermedios de dicho camino se encuentren conectados. Pero esto, es algo que seguramente podamos hacer de una manera mucho más fácil de lo que venimos viendo ..."
   ]
  },
  {
   "cell_type": "markdown",
   "metadata": {},
   "source": [
    "#### 2.4.2.  Shortest path"
   ]
  },
  {
   "cell_type": "markdown",
   "metadata": {},
   "source": [
    "El `shortest path` o [camino mas corto](https://es.wikipedia.org/wiki/Problema_del_camino_m%C3%A1s_corto#:~:text=En%20la%20teor%C3%ADa%20de%20grafos,a%20otra%20en%20un%20mapa.) implica, en teoría de grafos, encontrar el conjunto de ejes que minimice la suma de pesos entre dos extremos de una red. Es decir, entre un par de nodos determinado. \n",
    "\n",
    "Si nos retrotraemos al inicio del notebook, recordarán que un valor que definimos para ponderar la relación entre nodos (a partir de sus ejes) fue la cantidad de pasajeros. Sin embargo, en el ejemplo anterior, no utilizamos dicha medida para la suma de distancias. \n",
    "\n",
    "Esto es, porque como dijimos previamente, esta métrica puede calcularse en contextos de relaciones ponderadas y no ponderadas. Comúnmente, en redes de transporte, la estimación del `camino más corto` suele trabajarse con ejes ponderados por tiempo de viaje o por distancia lineal. Lo que nosotros hicimos anteriormente fue establecer el largo de un camino sumando conexiones adyadentes con un mismo peso. Pero esto se puede hacer de una manera mucho más eficiente.\n",
    "\n",
    "`NetworkX` cuenta con [algunos métodos](https://networkx.org/documentation/stable/reference/algorithms/shortest_paths.html) para determinar el camino más corto para ejes ponderados como sin ponderar. Entre los más importantes para tener en cuenta:\n",
    "\n",
    "`all_pairs_shortest_path`: calcula el camino más corto entre todos los pares nodos de un grafo no ponderado\n",
    "\n",
    "`all_pairs_shortest_path_length`: calcula el largo del camino más corto entre todos los pares de nodos de un grafo no ponderado.\n",
    "\n",
    "`all_pairs_dijkstra_path`: calcula el camino más corto entro todos los pares de nodos de un grafo ponderado\n",
    "\n",
    "`all_pairs_dijkstra_path_length`: calculata el largo del camino más corto entre todos los pares de nodos de un grafo ponderado.\n",
    "\n",
    "\n",
    "Otra alternativa que ofrece `NetworkX` es trabajar de manera [genérica](https://networkx.org/documentation/stable/reference/algorithms/generated/networkx.algorithms.shortest_paths.generic.shortest_path.html#networkx.algorithms.shortest_paths.generic.shortest_path) tanto para determinar el path como [su largo](https://networkx.org/documentation/stable/reference/algorithms/generated/networkx.algorithms.shortest_paths.generic.shortest_path_length.html#networkx.algorithms.shortest_paths.generic.shortest_path_length). Es decir, pasar el peso de los ejes como un parámetro más."
   ]
  },
  {
   "cell_type": "markdown",
   "metadata": {},
   "source": [
    "##### 2.4.2.1  Unweighted\n",
    "\n",
    "Retomemos el ejemplo anterior para ver cómo funciona el camino más corto en grafos no ponderados"
   ]
  },
  {
   "cell_type": "code",
   "execution_count": 161,
   "metadata": {},
   "outputs": [
    {
     "data": {
      "text/plain": [
       "[0, 1, 2]"
      ]
     },
     "execution_count": 161,
     "metadata": {},
     "output_type": "execute_result"
    }
   ],
   "source": [
    "# para llegar de 0 a 2, el camino más corto implica pasar por 1\n",
    "nx.shortest_path(G, source=0, target=2)"
   ]
  },
  {
   "cell_type": "code",
   "execution_count": 162,
   "metadata": {},
   "outputs": [
    {
     "data": {
      "text/plain": [
       "2"
      ]
     },
     "execution_count": 162,
     "metadata": {},
     "output_type": "execute_result"
    }
   ],
   "source": [
    "# lo que equivale a la sumatoria de dos caminos adyacentes\n",
    "nx.shortest_path_length(G, source=0, target=2)"
   ]
  },
  {
   "cell_type": "markdown",
   "metadata": {},
   "source": [
    "Como dijimos, el cálculo del camino más corto implica la identificación de conexiones adyacentes. Ahora bien, estos métodos nos permiten determinarlo de una manera mucho más eficiente, ya que por ejemplo, podemos hacerlo entre todos los nodos de la red..."
   ]
  },
  {
   "cell_type": "code",
   "execution_count": 163,
   "metadata": {},
   "outputs": [],
   "source": [
    "# calculamos el camino más corto entre todos los pares de nodos de nuestra red\n",
    "caminos=dict(nx.all_pairs_shortest_path(G))"
   ]
  },
  {
   "cell_type": "code",
   "execution_count": 164,
   "metadata": {},
   "outputs": [
    {
     "data": {
      "text/plain": [
       "[0, 1, 2]"
      ]
     },
     "execution_count": 164,
     "metadata": {},
     "output_type": "execute_result"
    }
   ],
   "source": [
    "# lo que nos permite obtener el path más corto entre cualquier par origen - destino\n",
    "caminos[0][2]"
   ]
  },
  {
   "cell_type": "code",
   "execution_count": 165,
   "metadata": {},
   "outputs": [],
   "source": [
    "# y tambien el largo del path\n",
    "largo_caminos=dict(nx.all_pairs_shortest_path_length(G))"
   ]
  },
  {
   "cell_type": "code",
   "execution_count": 166,
   "metadata": {},
   "outputs": [
    {
     "data": {
      "text/plain": [
       "2"
      ]
     },
     "execution_count": 166,
     "metadata": {},
     "output_type": "execute_result"
    }
   ],
   "source": [
    "# al que podemos acceder de la misma manera. Ubicando primero la key de origen y luego la de destino\n",
    "largo_caminos[0][2]"
   ]
  },
  {
   "cell_type": "markdown",
   "metadata": {},
   "source": [
    "Encontrar el camino más corto, supone también reconocer caminos intermedios. Por decirlo de alguna manera, la diferencia entre métodos que venimos viendo entre `path finding` y `shortest path` radica en el hecho de poder intetificar conexiones de manera aislada (esto es, entre vértices contiguos) o en toda la red. Por ejemplo, encontrar el `shortest path` entre ..."
   ]
  },
  {
   "cell_type": "code",
   "execution_count": 167,
   "metadata": {},
   "outputs": [
    {
     "data": {
      "text/plain": [
       "[0, 1, 2, 5, 4, 3]"
      ]
     },
     "execution_count": 167,
     "metadata": {},
     "output_type": "execute_result"
    }
   ],
   "source": [
    "# las primeras estaciones de las líneas B y D! \n",
    "nx.shortest_path(G, source=0, target=3)"
   ]
  },
  {
   "cell_type": "markdown",
   "metadata": {},
   "source": [
    "esto nos permite ver que si bien, como marcamos con anterioridad, el último nodo de la línea B y el primero de la D no se encuentran conectados de manera adyacente, uno podría llegar de un extremo al otro recorriendo ..."
   ]
  },
  {
   "cell_type": "code",
   "execution_count": 168,
   "metadata": {},
   "outputs": [
    {
     "data": {
      "text/plain": [
       "5"
      ]
     },
     "execution_count": 168,
     "metadata": {},
     "output_type": "execute_result"
    }
   ],
   "source": [
    "# un total de 5 tramos!\n",
    "nx.shortest_path_length(G, source=0, target=3)"
   ]
  },
  {
   "cell_type": "markdown",
   "metadata": {},
   "source": [
    "Esto, gracias a que existe una conexión adyacente entre:"
   ]
  },
  {
   "cell_type": "code",
   "execution_count": 169,
   "metadata": {},
   "outputs": [
    {
     "name": "stdout",
     "output_type": "stream",
     "text": [
      "Existe un camino adyacente entre los nodos 5 y 2\n"
     ]
    },
    {
     "data": {
      "text/plain": [
       "1"
      ]
     },
     "execution_count": 169,
     "metadata": {},
     "output_type": "execute_result"
    }
   ],
   "source": [
    "# los nodos 5 y 2!\n",
    "existe_path_entre_nodos(grafo=G, nodo1=5, nodo2=2)"
   ]
  },
  {
   "cell_type": "markdown",
   "metadata": {},
   "source": [
    "##### 2.4.2.2  Weighted\n",
    "\n",
    "En redes de transporte es muy común que la estimación del camino más corto contemple ponderadores como tiempo y distancia. Ahora, veremos cómo especificar atributos de los ejes en los métodos detallados para calcular el `shortest path` con grafos ponderados. \n",
    "\n",
    "Esto lo vamos a hacer principalmente para ilustrar cómo utilizar dichos métodos. Dado que estamos trabajando con un recorte de la red de subterráneos, y que la conexión entre líneas siempre se da entre el mismo par de nodos adyacentes, los resultados van a ser iguales a una estimación no ponderada. "
   ]
  },
  {
   "cell_type": "code",
   "execution_count": 170,
   "metadata": {},
   "outputs": [
    {
     "data": {
      "text/plain": [
       "EdgeDataView([(0, 1, {'fecha': '2019-10-01', 'hora': '09:30:00', 'pasajeros': 58}), (1, 2, {'pasajeros': 32, 'fecha': '2019-10-01', 'hora': '09:30:00'}), (2, 5, {'fecha': '2019-10-01', 'hora': '09:30:00', 'pasajeros': 160}), (3, 4, {'fecha': '2019-10-01', 'hora': '09:30:00', 'pasajeros': 11}), (4, 5, {'fecha': '2019-10-01', 'hora': '09:30:00', 'pasajeros': 31}), (5, 7, {'fecha': '2019-10-01', 'hora': '09:30:00', 'pasajeros': 118}), (6, 7, {'fecha': '2019-10-01', 'hora': '09:30:00', 'pasajeros': 46}), (7, 8, {'fecha': '2019-10-01', 'hora': '09:30:00', 'pasajeros': 90})])"
      ]
     },
     "execution_count": 170,
     "metadata": {},
     "output_type": "execute_result"
    }
   ],
   "source": [
    "# recordemos nuestroa atributos\n",
    "G.edges(data=True)"
   ]
  },
  {
   "cell_type": "code",
   "execution_count": 171,
   "metadata": {},
   "outputs": [],
   "source": [
    "# y agreguemos algún ponderador que tenga más sentido que nuestro valor de pasajeros\n",
    "def agrega_atributos_ejes():\n",
    "    conexiones_lineas = [(2,5),(5,7)]\n",
    "    conexiones_estaciones = [i for i in G.edges if i not in conexiones_lineas]\n",
    "    \n",
    "    for i in conexiones_estaciones:\n",
    "        G.edges[i[0], i[1]]['tiempo_viaje']=random.randint(1,5)\n",
    "    \n",
    "    for i in conexiones_lineas:\n",
    "        G.edges[i[0], i[1]]['tiempo_viaje']=random.randint(1,60)"
   ]
  },
  {
   "cell_type": "code",
   "execution_count": 172,
   "metadata": {},
   "outputs": [],
   "source": [
    "agrega_atributos_ejes()"
   ]
  },
  {
   "cell_type": "code",
   "execution_count": 173,
   "metadata": {},
   "outputs": [
    {
     "data": {
      "text/plain": [
       "[0, 1, 2, 5, 4, 3]"
      ]
     },
     "execution_count": 173,
     "metadata": {},
     "output_type": "execute_result"
    }
   ],
   "source": [
    "nx.shortest_path(G, source=0, target=3, weight='tiempo_viaje')"
   ]
  },
  {
   "cell_type": "code",
   "execution_count": 174,
   "metadata": {},
   "outputs": [],
   "source": [
    "caminos_ponderados = dict(nx.all_pairs_dijkstra_path(G, weight='tiempo_viaje'))"
   ]
  },
  {
   "cell_type": "code",
   "execution_count": 175,
   "metadata": {},
   "outputs": [
    {
     "data": {
      "text/plain": [
       "[0, 1, 2, 5, 4, 3]"
      ]
     },
     "execution_count": 175,
     "metadata": {},
     "output_type": "execute_result"
    }
   ],
   "source": [
    "caminos_ponderados[0][3]"
   ]
  },
  {
   "cell_type": "markdown",
   "metadata": {},
   "source": [
    "El uso es similar. Uno podría calcular caminos entre pares origen destino, o para toda la red. Obteniendo luego el resultado deseado una vez que se llama el par buscado en el objeto instanciado dentro de un diccionario. Esto aplica tanto para el algoritmo `dijkstra` que devuelve el path mismo como su largo. "
   ]
  },
  {
   "cell_type": "markdown",
   "metadata": {},
   "source": [
    "### 2.5. Betweenness centrality"
   ]
  },
  {
   "cell_type": "markdown",
   "metadata": {},
   "source": [
    "Todo este preludio con una única finalidad. Poder comprender otra de las métricas más utilizadas para estudiar `centralidad` dentro de una red. El `betweenness centrality` es una métrica de intermediación que permite cuantificar el número de veces que un nodo actúa como puente a lo largo del camino más corto entro dos nodos.\n",
    "\n",
    "En otras palabras, es una medida que capta la importancia de un nodo dentro de una red. Esto, a partir de su presencia en la totalidad de tramos o caminos más cortos que existen dentro de la misma. \n",
    "\n",
    "A mayor frecuencia de apariciones de un nodo en los caminos más cortos, es de esperar que este cumpla un rol central en el flujo de información de un sector de la red a otro.  \n",
    "\n",
    "Técnicamente, [esta métrica](https://networkx.org/documentation/stable/reference/algorithms/generated/networkx.algorithms.centrality.betweenness_centrality.html#networkx.algorithms.centrality.betweenness_centrality) devuelve el porcentaje de caminos más cortos que deben pasar por un nodo específico. A mayor cantidad de caminos, más alto será el valor de intermediación del nodo!"
   ]
  },
  {
   "cell_type": "code",
   "execution_count": 176,
   "metadata": {},
   "outputs": [
    {
     "data": {
      "text/plain": [
       "{0: 0.0,\n",
       " 1: 0.25,\n",
       " 2: 0.42857142857142855,\n",
       " 3: 0.0,\n",
       " 4: 0.25,\n",
       " 5: 0.75,\n",
       " 6: 0.0,\n",
       " 7: 0.46428571428571425,\n",
       " 8: 0.0}"
      ]
     },
     "execution_count": 176,
     "metadata": {},
     "output_type": "execute_result"
    }
   ],
   "source": [
    "# Calculemos el valor de intermediación para nuestra red de subterráneos\n",
    "nx.betweenness_centrality(G)"
   ]
  },
  {
   "cell_type": "code",
   "execution_count": 177,
   "metadata": {},
   "outputs": [
    {
     "data": {
      "text/plain": [
       "{0: 'CALLAO',\n",
       " 1: 'URUGUAY',\n",
       " 2: 'C. PELLEGRINI',\n",
       " 3: 'CALLAO',\n",
       " 4: 'TRIBUNALES - TEATRO COLÓN',\n",
       " 5: '9 DE JULIO',\n",
       " 6: 'AV. DE MAYO',\n",
       " 7: 'DIAGONAL NORTE',\n",
       " 8: 'LAVALLE'}"
      ]
     },
     "execution_count": 177,
     "metadata": {},
     "output_type": "execute_result"
    }
   ],
   "source": [
    "# estas eran nuestras labels con el id del nodo\n",
    "lab"
   ]
  },
  {
   "cell_type": "code",
   "execution_count": 178,
   "metadata": {},
   "outputs": [],
   "source": [
    "# instanciamos la métrica\n",
    "intermediacion = nx.betweenness_centrality(G)"
   ]
  },
  {
   "cell_type": "code",
   "execution_count": 179,
   "metadata": {},
   "outputs": [
    {
     "data": {
      "text/plain": [
       "5"
      ]
     },
     "execution_count": 179,
     "metadata": {},
     "output_type": "execute_result"
    }
   ],
   "source": [
    "# y obtenemos la key con valor más alto\n",
    "max(intermediacion, key=intermediacion.get)"
   ]
  },
  {
   "cell_type": "markdown",
   "metadata": {},
   "source": [
    "En nuestro grafo, la estación con mayor valor de intermediación es `9 de Julio`. Algo esperable si visualizamos que es una estación que permite conectar distintas líneas del subterráneo entre sí. El índice de intermediación (o `betweenness centrality` nos indica que el 75% de los `shortest path` pasan por este nodo!"
   ]
  },
  {
   "cell_type": "markdown",
   "metadata": {},
   "source": [
    "## **Ejercitación**\n",
    "\n",
    "1. Armar una función que devuelve el/los nodo/s con mayor valor de intermediación (`betweenness centrality`) dentro de una red."
   ]
  },
  {
   "cell_type": "code",
   "execution_count": 180,
   "metadata": {},
   "outputs": [],
   "source": [
    "# Desarrollar ejercicio"
   ]
  },
  {
   "cell_type": "markdown",
   "metadata": {},
   "source": [
    "### Solución"
   ]
  },
  {
   "cell_type": "code",
   "execution_count": 181,
   "metadata": {},
   "outputs": [],
   "source": [
    "def mayor_intermediacion(grafo):\n",
    "    '''\n",
    "    Devuelve los nodos con mayor valor de intermediación dentro de un grafo\n",
    "    '''\n",
    "\n",
    "    # Calculamos el betweenes centrality,\n",
    "    intermediacion = nx.betweenness_centrality(grafo)\n",
    "\n",
    "    # almacenamos el resultado en una lista y obtenemos el valor de intermediación más alto\n",
    "    max_int = max(list(intermediacion.values()))\n",
    "\n",
    "    # preparamos un set para almacenar valores únicos\n",
    "    nodos = set()\n",
    "\n",
    "    # Iteratamos  el diccionario de resultados que devuelve el betweennes centrality \n",
    "    for k, v in intermediacion.items():\n",
    "\n",
    "        # verificamos que el item del diccionario que estamo iterando alcanza la máxima intermediación\n",
    "        if v == max_int:\n",
    "\n",
    "            # y si es verdadero lo agregamos al set de nodos\n",
    "            nodos.add(k)\n",
    "\n",
    "    return nodos"
   ]
  },
  {
   "cell_type": "markdown",
   "metadata": {},
   "source": [
    "Ubicamos los nodos que alcanzan el máximo valor de intermediación computado en el grafo:"
   ]
  },
  {
   "cell_type": "code",
   "execution_count": 182,
   "metadata": {},
   "outputs": [],
   "source": [
    "nodos_centrales = mayor_intermediacion(grafo=G)"
   ]
  },
  {
   "cell_type": "code",
   "execution_count": 183,
   "metadata": {},
   "outputs": [
    {
     "data": {
      "text/plain": [
       "{5}"
      ]
     },
     "execution_count": 183,
     "metadata": {},
     "output_type": "execute_result"
    }
   ],
   "source": [
    "# estos son nuestros nodos con mayor influencia dentro de la red\n",
    "nodos_centrales"
   ]
  }
 ],
 "metadata": {
  "anaconda-cloud": {},
  "kernelspec": {
   "display_name": "aupy",
   "language": "python",
   "name": "aupy"
  },
  "language_info": {
   "codemirror_mode": {
    "name": "ipython",
    "version": 3
   },
   "file_extension": ".py",
   "mimetype": "text/x-python",
   "name": "python",
   "nbconvert_exporter": "python",
   "pygments_lexer": "ipython3",
   "version": "3.7.6"
  }
 },
 "nbformat": 4,
 "nbformat_minor": 2
}
